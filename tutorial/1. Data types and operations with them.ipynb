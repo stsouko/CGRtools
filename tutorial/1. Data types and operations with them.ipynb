{
 "cells": [
  {
   "cell_type": "markdown",
   "metadata": {},
   "source": [
    "% CGRtools Tutorial\n",
    "% Dr. Ramil Nugmanov; Dr. Timur Madzhidov; Ravil Mukhametgaleev\n",
    "% Mar 25, 2019"
   ]
  },
  {
   "cell_type": "markdown",
   "metadata": {},
   "source": [
    "# CGRtools Tutorial\n",
    "\n",
    "(c) 2019, Dr. Ramil Nugmanov; Dr. Timur Madzhidov; Ravil Mukhametgaleev\n",
    "\n",
    "Installation instructions of CGRtools package information and tutorial's files see on `https://github.com/cimm-kzn/CGRtools`\n",
    "\n",
    "NOTE: Tutorial should be performed sequentially from the start. Random cell running will lead to unexpected results. "
   ]
  },
  {
   "cell_type": "code",
   "execution_count": 1,
   "metadata": {},
   "outputs": [
    {
     "name": "stdout",
     "output_type": "stream",
     "text": [
      "Welcome!\n"
     ]
    }
   ],
   "source": [
    "import pkg_resources\n",
    "if pkg_resources.get_distribution('CGRtools').version.split('.')[:2] != ['3', '1']:\n",
    "    print('WARNING. Tutorial was tested on 3.1 version of CGRtools')\n",
    "else:\n",
    "    print('Welcome!')"
   ]
  },
  {
   "cell_type": "code",
   "execution_count": 2,
   "metadata": {},
   "outputs": [],
   "source": [
    "# load data for tutorial\n",
    "from pickle import load\n",
    "from traceback import format_exc\n",
    "\n",
    "with open('molecules.dat', 'rb') as f:\n",
    "    molecules = load(f) # list of MoleculeContainer objects\n",
    "with open('reactions.dat', 'rb') as f:\n",
    "    reactions = load(f) # list of ReactionContainer objects\n",
    "\n",
    "m1, m2, m3, m4 = molecules # molecule\n",
    "m7 = m3.copy()\n",
    "m11 = m3.copy()\n",
    "m11.standardize()\n",
    "m7.standardize()\n",
    "r1 = reactions[0] # reaction\n",
    "m5 = r1.reactants[0]\n",
    "m8 = m7.substructure([4, 5, 6, 7, 8, 9], as_view=False)\n",
    "m10 =  r1.products[0].copy()"
   ]
  },
  {
   "cell_type": "markdown",
   "metadata": {},
   "source": [
    "# 1. Data types and operations with them\n",
    "\n",
    "CGRtools has subpackage *containers* with data structures classes:\n",
    "\n",
    "* *MoleculeContainer* - for molecular structure\n",
    "* *ReactionContainer* - for chemical reaction \n",
    "* *CGRContainer* - for Condensed Graph of Reaction\n",
    "* *QueryContainer* - queries for substructure search in molecules\n",
    "* *QueryCGRContainer* - queries for substructure search in CGRs"
   ]
  },
  {
   "cell_type": "code",
   "execution_count": 3,
   "metadata": {},
   "outputs": [],
   "source": [
    "from CGRtools.containers import * # import all containers"
   ]
  },
  {
   "cell_type": "markdown",
   "metadata": {},
   "source": [
    "## 1.1. MoleculeContainer\n",
    "Molecules are represented as undirected graphs. Molecules contain *Atom* objects and *Bond* objects.\n",
    "\n",
    "*Atom* objects are represented as dictionary with unique number for each atom as key.  \n",
    "\n",
    "*Bond* objects are stored as sparse matrix with adjacent atoms pair as keys for rows and columns.\n",
    "\n",
    "Hereafter, *atom number* is unique integer used to enumerate atoms in molecule. Please, don't confuse it with element number in Periodic Table, hereafter called *element number*.\n",
    "\n",
    "Methods for molecule handling and the arguments of *MoleculeContainer* are described below."
   ]
  },
  {
   "cell_type": "code",
   "execution_count": 4,
   "metadata": {},
   "outputs": [
    {
     "data": {
      "text/plain": [
       "{'cdid': '001'}"
      ]
     },
     "execution_count": 4,
     "metadata": {},
     "output_type": "execute_result"
    }
   ],
   "source": [
    "m1.meta # dictionary for molecule properties storage. For example, DTYPE/DATUM fields of SDF file are read into this dictionary"
   ]
  },
  {
   "cell_type": "code",
   "execution_count": 5,
   "metadata": {},
   "outputs": [
    {
     "data": {
      "image/svg+xml": [
       "<svg width=\"2.43cm\" height=\"1.41cm\" viewBox=\"-11.31 -0.64 2.43 1.41\" xmlns=\"http://www.w3.org/2000/svg\" version=\"1.1\">\n",
       "  <g font-family=\"sans-serif\">\n",
       "    <g fill=\"#FF0D0D\">\n",
       "      <text x=\"-9.52\" y=\"0.00\" font-size=\"0.40\">O</text>\n",
       "      <text x=\"-9.78\" y=\"-0.28\" font-size=\"0.30\">15</text>\n",
       "    </g>\n",
       "  </g>\n",
       "  <g fill=\"none\" stroke=\"black\" stroke-width=\".03\">\n",
       "    <line x1=\"-10.83\" y1=\"-0.10\" x2=\"-10.12\" y2=\"0.31\" />\n",
       "    <line x1=\"-10.79\" y1=\"-0.17\" x2=\"-10.08\" y2=\"0.24\" />\n",
       "    <line x1=\"-10.10\" y1=\"0.28\" x2=\"-9.57\" y2=\"-0.03\" />\n",
       "  </g>\n",
       "</svg>"
      ],
      "text/plain": [
       "<CGRtools.containers.molecule.MoleculeContainer at 0x7f7178c7a408>"
      ]
     },
     "execution_count": 5,
     "metadata": {},
     "output_type": "execute_result"
    }
   ],
   "source": [
    "m1 # MoleculeContainer supports depiction and graphic representation in Jupyter notebooks."
   ]
  },
  {
   "cell_type": "code",
   "execution_count": 6,
   "metadata": {},
   "outputs": [
    {
     "data": {
      "text/plain": [
       "'<svg width=\"2.43cm\" height=\"1.41cm\" viewBox=\"-11.31 -0.64 2.43 1.41\" xmlns=\"http://www.w3.org/2000/svg\" version=\"1.1\">\\n  <g font-family=\"sans-serif\">\\n    <g fill=\"#FF0D0D\">\\n      <text x=\"-9.52\" y=\"0.00\" font-size=\"0.40\">O</text>\\n      <text x=\"-9.78\" y=\"-0.28\" font-size=\"0.30\">15</text>\\n    </g>\\n  </g>\\n  <g fill=\"none\" stroke=\"black\" stroke-width=\".03\">\\n    <line x1=\"-10.83\" y1=\"-0.10\" x2=\"-10.12\" y2=\"0.31\" />\\n    <line x1=\"-10.79\" y1=\"-0.17\" x2=\"-10.08\" y2=\"0.24\" />\\n    <line x1=\"-10.10\" y1=\"0.28\" x2=\"-9.57\" y2=\"-0.03\" />\\n  </g>\\n</svg>'"
      ]
     },
     "execution_count": 6,
     "metadata": {},
     "output_type": "execute_result"
    }
   ],
   "source": [
    "m1.depict() # depiction returns SVG image in format string"
   ]
  },
  {
   "cell_type": "code",
   "execution_count": 7,
   "metadata": {},
   "outputs": [],
   "source": [
    "with open('molecule.svg', 'w') as f: # saving image to SVG file\n",
    "    f.write(m1.depict())"
   ]
  },
  {
   "cell_type": "code",
   "execution_count": 8,
   "metadata": {},
   "outputs": [
    {
     "data": {
      "image/svg+xml": [
       "<svg width=\"2.43cm\" height=\"1.41cm\" viewBox=\"-11.31 -0.64 2.43 1.41\" xmlns=\"http://www.w3.org/2000/svg\" version=\"1.1\">\n",
       "  <g font-family=\"sans-serif\">\n",
       "    <g fill=\"#FF0D0D\">\n",
       "      <text x=\"-9.52\" y=\"0.00\" font-size=\"0.40\">O</text>\n",
       "      <text x=\"-9.78\" y=\"-0.28\" font-size=\"0.30\">15</text>\n",
       "    </g>\n",
       "  </g>\n",
       "  <g fill=\"none\" stroke=\"black\" stroke-width=\".03\">\n",
       "    <line x1=\"-10.83\" y1=\"-0.10\" x2=\"-10.12\" y2=\"0.31\" />\n",
       "    <line x1=\"-10.79\" y1=\"-0.17\" x2=\"-10.08\" y2=\"0.24\" />\n",
       "    <line x1=\"-10.10\" y1=\"0.28\" x2=\"-9.57\" y2=\"-0.03\" />\n",
       "  </g>\n",
       "</svg>"
      ],
      "text/plain": [
       "<CGRtools.containers.molecule.MoleculeContainer at 0x7f7184b07e58>"
      ]
     },
     "execution_count": 8,
     "metadata": {},
     "output_type": "execute_result"
    }
   ],
   "source": [
    "m_copy = m1.copy() # isolated copy of molecule\n",
    "m_copy"
   ]
  },
  {
   "cell_type": "code",
   "execution_count": 9,
   "metadata": {},
   "outputs": [
    {
     "data": {
      "text/plain": [
       "3"
      ]
     },
     "execution_count": 9,
     "metadata": {},
     "output_type": "execute_result"
    }
   ],
   "source": [
    "len(m1) # get number of atoms in molecule\n",
    "# or \n",
    "m1.atoms_count"
   ]
  },
  {
   "cell_type": "code",
   "execution_count": 10,
   "metadata": {},
   "outputs": [
    {
     "data": {
      "text/plain": [
       "2"
      ]
     },
     "execution_count": 10,
     "metadata": {},
     "output_type": "execute_result"
    }
   ],
   "source": [
    "m1.bonds_count # number of bonds"
   ]
  },
  {
   "cell_type": "code",
   "execution_count": 11,
   "metadata": {},
   "outputs": [
    {
     "data": {
      "text/plain": [
       "[3, 4, 1]"
      ]
     },
     "execution_count": 11,
     "metadata": {},
     "output_type": "execute_result"
    }
   ],
   "source": [
    "m1.atoms_numbers # list of atoms numbers"
   ]
  },
  {
   "cell_type": "code",
   "execution_count": 12,
   "metadata": {},
   "outputs": [],
   "source": [
    "# this method calculates additional atoms attributes: number of neighbors and hybridization. See below for usage\n",
    "m1.reset_query_marks() # by default this attributes are None (for speed-up)\n",
    "m3.reset_query_marks()"
   ]
  },
  {
   "cell_type": "markdown",
   "metadata": {},
   "source": [
    "The following notations are used for hybridization of atoms. Values are given as numbers below (in parenthesis symbols that are used in SMILES-like signatures are shown):\n",
    "\n",
    "* 1 (s) - all bonds of atom are single, i.e. sp3 hybridization\n",
    "* 2 (d) - atom has one double bond and others are single, i.e. sp2 hybridization\n",
    "* 3 (t) - atom has one triple or two double bonds and other are single, i.e. sp hybridization\n",
    "* 4 (a) - atom is in aromatic ring\n",
    "\n",
    "Neighbors and hybridizations atom attributes are required for **substructure operations** and structure standardization. See below"
   ]
  },
  {
   "cell_type": "code",
   "execution_count": 13,
   "metadata": {},
   "outputs": [
    {
     "data": {
      "text/plain": [
       "[(3, <CGRtools.attributes.molecule.Atom at 0x7f714a552748>),\n",
       " (4, <CGRtools.attributes.molecule.Atom at 0x7f714a5527c8>),\n",
       " (1, <CGRtools.attributes.molecule.Atom at 0x7f714a552848>)]"
      ]
     },
     "execution_count": 13,
     "metadata": {},
     "output_type": "execute_result"
    }
   ],
   "source": [
    "# iterate over atoms using its numbers\n",
    "list(m1.atoms())  # works the same as dict.items()"
   ]
  },
  {
   "cell_type": "code",
   "execution_count": 14,
   "metadata": {},
   "outputs": [
    {
     "data": {
      "text/plain": [
       "[(3, 4, <CGRtools.attributes.molecule.Bond at 0x7f7184ae7248>),\n",
       " (4, 1, <CGRtools.attributes.molecule.Bond at 0x7f7184ae7288>)]"
      ]
     },
     "execution_count": 14,
     "metadata": {},
     "output_type": "execute_result"
    }
   ],
   "source": [
    "# iterate over bonds using adjacent atoms numbers\n",
    "list(m1.bonds())"
   ]
  },
  {
   "cell_type": "code",
   "execution_count": 15,
   "metadata": {},
   "outputs": [
    {
     "data": {
      "text/plain": [
       "<CGRtools.attributes.molecule.Atom at 0x7f714a552848>"
      ]
     },
     "execution_count": 15,
     "metadata": {},
     "output_type": "execute_result"
    }
   ],
   "source": [
    "# access to atom by number\n",
    "m1.atom(1)"
   ]
  },
  {
   "cell_type": "code",
   "execution_count": 16,
   "metadata": {},
   "outputs": [
    {
     "name": "stdout",
     "output_type": "stream",
     "text": [
      "Traceback (most recent call last):\n",
      "  File \"<ipython-input-16-88aab1feb874>\", line 2, in <module>\n",
      "    m1.atom(10) # raise error for absent atom numbers\n",
      "  File \"/home/ravil/for_cgr3/lib/python3.7/site-packages/CGRtools/containers/common.py\", line 50, in atom\n",
      "    return self._node[n]\n",
      "KeyError: 10\n",
      "\n"
     ]
    }
   ],
   "source": [
    "try:\n",
    "    m1.atom(10) # raise error for absent atom numbers\n",
    "except KeyError:\n",
    "    print(format_exc())"
   ]
  },
  {
   "cell_type": "code",
   "execution_count": 17,
   "metadata": {},
   "outputs": [
    {
     "data": {
      "text/plain": [
       "<CGRtools.attributes.molecule.Bond at 0x7f7184ae7288>"
      ]
     },
     "execution_count": 17,
     "metadata": {},
     "output_type": "execute_result"
    }
   ],
   "source": [
    "# access to bond using adjacent atoms numbers\n",
    "m1.bond(1, 4)"
   ]
  },
  {
   "cell_type": "code",
   "execution_count": 18,
   "metadata": {},
   "outputs": [
    {
     "name": "stdout",
     "output_type": "stream",
     "text": [
      "Traceback (most recent call last):\n",
      "  File \"<ipython-input-18-f820f0a0f50e>\", line 2, in <module>\n",
      "    m1.bond(1, 3) # raise error for absent bond\n",
      "  File \"/home/ravil/for_cgr3/lib/python3.7/site-packages/CGRtools/containers/common.py\", line 53, in bond\n",
      "    return self._adj[n][m]\n",
      "KeyError: 3\n",
      "\n"
     ]
    }
   ],
   "source": [
    "try:\n",
    "    m1.bond(1, 3) # raise error for absent bond\n",
    "except KeyError:\n",
    "    print(format_exc())"
   ]
  },
  {
   "cell_type": "markdown",
   "metadata": {},
   "source": [
    "#### Atom objects are dictinary-like classes which store information about:\n",
    "* element\n",
    "* isotope\n",
    "* charge\n",
    "* multiplicity\n",
    "* xyz coordinates\n",
    "\n",
    "Also atoms has methods for data integrity checks and include some internally used data."
   ]
  },
  {
   "cell_type": "code",
   "execution_count": 19,
   "metadata": {},
   "outputs": [
    {
     "data": {
      "text/plain": [
       "'O'"
      ]
     },
     "execution_count": 19,
     "metadata": {},
     "output_type": "execute_result"
    }
   ],
   "source": [
    "a = m1.atom(1)\n",
    "\n",
    "# access to information\n",
    "a.element # element symbol\n",
    "# or\n",
    "a['element']"
   ]
  },
  {
   "cell_type": "code",
   "execution_count": 20,
   "metadata": {},
   "outputs": [
    {
     "data": {
      "text/plain": [
       "0"
      ]
     },
     "execution_count": 20,
     "metadata": {},
     "output_type": "execute_result"
    }
   ],
   "source": [
    "a.charge # formal charge\n",
    "# or\n",
    "a['charge']"
   ]
  },
  {
   "cell_type": "code",
   "execution_count": 21,
   "metadata": {},
   "outputs": [],
   "source": [
    "a.multiplicity # atom multiplicity. None if not set\n",
    "# or\n",
    "a['multiplicity']"
   ]
  },
  {
   "cell_type": "code",
   "execution_count": 22,
   "metadata": {},
   "outputs": [
    {
     "data": {
      "text/plain": [
       "15"
      ]
     },
     "execution_count": 22,
     "metadata": {},
     "output_type": "execute_result"
    }
   ],
   "source": [
    "a.isotope # atom isotope. Default isotope if not set. Default isotopes are the same as used in InChI notation\n",
    "# or\n",
    "a['isotope']"
   ]
  },
  {
   "cell_type": "code",
   "execution_count": 23,
   "metadata": {},
   "outputs": [
    {
     "data": {
      "text/plain": [
       "0.0"
      ]
     },
     "execution_count": 23,
     "metadata": {},
     "output_type": "execute_result"
    }
   ],
   "source": [
    "a.x # coordinates\n",
    "a.y\n",
    "a.z\n",
    "# or\n",
    "a['x']\n",
    "a['y']\n",
    "a['z']"
   ]
  },
  {
   "cell_type": "code",
   "execution_count": 24,
   "metadata": {},
   "outputs": [
    {
     "data": {
      "text/plain": [
       "1"
      ]
     },
     "execution_count": 24,
     "metadata": {},
     "output_type": "execute_result"
    }
   ],
   "source": [
    "a.neighbors # Number of neighboring atoms is calculated by reset_query_marks method as shown above. It is read-only."
   ]
  },
  {
   "cell_type": "code",
   "execution_count": 25,
   "metadata": {},
   "outputs": [
    {
     "data": {
      "text/plain": [
       "1"
      ]
     },
     "execution_count": 25,
     "metadata": {},
     "output_type": "execute_result"
    }
   ],
   "source": [
    "a.hybridization # Atoms hybridization is calculated by reset_query_marks method as shown above. It is read-only."
   ]
  },
  {
   "cell_type": "code",
   "execution_count": 26,
   "metadata": {},
   "outputs": [
    {
     "name": "stdout",
     "output_type": "stream",
     "text": [
      "Traceback (most recent call last):\n",
      "  File \"<ipython-input-26-baf385e573c1>\", line 2, in <module>\n",
      "    a.hybridization = 2 # Not subsettable. Read-only! Thus error is raised.\n",
      "  File \"/home/ravil/for_cgr3/lib/python3.7/site-packages/CGRtools/attributes/molecule.py\", line 142, in __setattr__\n",
      "    super().__setattr__(key, value)\n",
      "AttributeError: can't set attribute\n",
      "\n"
     ]
    }
   ],
   "source": [
    "try:\n",
    "    a.hybridization = 2 # Not subsettable. Read-only! Thus error is raised.\n",
    "except AttributeError:\n",
    "    print(format_exc())"
   ]
  },
  {
   "cell_type": "markdown",
   "metadata": {},
   "source": [
    "#### Atomic attributes are subsettable.\n",
    "\n",
    "CGRtools has integrity checks for verification of changes induced by user"
   ]
  },
  {
   "cell_type": "code",
   "execution_count": 27,
   "metadata": {},
   "outputs": [],
   "source": [
    "a.isotope = 16\n",
    "# or \n",
    "a['isotope'] = 16"
   ]
  },
  {
   "cell_type": "code",
   "execution_count": 28,
   "metadata": {},
   "outputs": [
    {
     "data": {
      "image/svg+xml": [
       "<svg width=\"2.43cm\" height=\"1.41cm\" viewBox=\"-11.31 -0.64 2.43 1.41\" xmlns=\"http://www.w3.org/2000/svg\" version=\"1.1\">\n",
       "  <g font-family=\"sans-serif\">\n",
       "    <g fill=\"#FF0D0D\">\n",
       "      <text x=\"-9.52\" y=\"0.00\" font-size=\"0.40\">O</text>\n",
       "    </g>\n",
       "  </g>\n",
       "  <g fill=\"none\" stroke=\"black\" stroke-width=\".03\">\n",
       "    <line x1=\"-10.83\" y1=\"-0.10\" x2=\"-10.12\" y2=\"0.31\" />\n",
       "    <line x1=\"-10.79\" y1=\"-0.17\" x2=\"-10.08\" y2=\"0.24\" />\n",
       "    <line x1=\"-10.10\" y1=\"0.28\" x2=\"-9.57\" y2=\"-0.03\" />\n",
       "  </g>\n",
       "</svg>"
      ],
      "text/plain": [
       "<CGRtools.containers.molecule.MoleculeContainer at 0x7f7178c7a408>"
      ]
     },
     "execution_count": 28,
     "metadata": {},
     "output_type": "execute_result"
    }
   ],
   "source": [
    "m1.flush_cache() # due to caching used for speed-up one needs to reset cache of molecule to observe changes in atoms and bonds \n",
    "m1"
   ]
  },
  {
   "cell_type": "code",
   "execution_count": 29,
   "metadata": {
    "scrolled": true
   },
   "outputs": [
    {
     "name": "stdout",
     "output_type": "stream",
     "text": [
      "Traceback (most recent call last):\n",
      "  File \"<ipython-input-29-4063e3b69c0d>\", line 2, in <module>\n",
      "    a.isotope = 0 # raise error. Isotope with mass 0 could not exist\n",
      "  File \"/home/ravil/for_cgr3/lib/python3.7/site-packages/CGRtools/attributes/molecule.py\", line 129, in __setattr__\n",
      "    value = getattr(self, f'_{key}_check')(value)\n",
      "  File \"/home/ravil/for_cgr3/lib/python3.7/site-packages/CGRtools/attributes/molecule.py\", line 75, in _isotope_check\n",
      "    raise ValueError('invalid isotope')\n",
      "ValueError: invalid isotope\n",
      "\n"
     ]
    }
   ],
   "source": [
    "try:\n",
    "    a.isotope = 0 # raise error. Isotope with mass 0 could not exist\n",
    "except ValueError:\n",
    "    print(format_exc())"
   ]
  },
  {
   "cell_type": "code",
   "execution_count": 30,
   "metadata": {},
   "outputs": [
    {
     "data": {
      "text/plain": [
       "2"
      ]
     },
     "execution_count": 30,
     "metadata": {},
     "output_type": "execute_result"
    }
   ],
   "source": [
    "# bond objects also are dictionary-like classes which store information about bond order\n",
    "b = m1.bond(3, 4)\n",
    "\n",
    "b.order\n",
    "#\n",
    "b['order']"
   ]
  },
  {
   "cell_type": "code",
   "execution_count": 31,
   "metadata": {},
   "outputs": [],
   "source": [
    "b.order = 1 # order change also possible\n",
    "# or\n",
    "b['order'] = 1"
   ]
  },
  {
   "cell_type": "code",
   "execution_count": 32,
   "metadata": {},
   "outputs": [
    {
     "data": {
      "image/svg+xml": [
       "<svg width=\"2.43cm\" height=\"1.41cm\" viewBox=\"-11.31 -0.64 2.43 1.41\" xmlns=\"http://www.w3.org/2000/svg\" version=\"1.1\">\n",
       "  <g font-family=\"sans-serif\">\n",
       "    <g fill=\"#FF0D0D\">\n",
       "      <text x=\"-9.52\" y=\"0.00\" font-size=\"0.40\">O</text>\n",
       "    </g>\n",
       "  </g>\n",
       "  <g fill=\"none\" stroke=\"black\" stroke-width=\".03\">\n",
       "    <line x1=\"-10.81\" y1=\"-0.14\" x2=\"-10.10\" y2=\"0.28\" />\n",
       "    <line x1=\"-10.10\" y1=\"0.28\" x2=\"-9.57\" y2=\"-0.03\" />\n",
       "  </g>\n",
       "</svg>"
      ],
      "text/plain": [
       "<CGRtools.containers.molecule.MoleculeContainer at 0x7f7178c7a408>"
      ]
     },
     "execution_count": 32,
     "metadata": {},
     "output_type": "execute_result"
    }
   ],
   "source": [
    "m1.flush_cache() #after flushing cashe one could see molecule with changes\n",
    "m1"
   ]
  },
  {
   "cell_type": "code",
   "execution_count": 33,
   "metadata": {
    "scrolled": true
   },
   "outputs": [
    {
     "name": "stdout",
     "output_type": "stream",
     "text": [
      "Traceback (most recent call last):\n",
      "  File \"<ipython-input-33-728729e99a18>\", line 2, in <module>\n",
      "    b['order'] = 0 # error raises. Bond order 0 is invalid. To delete bond use method described below\n",
      "  File \"/home/ravil/for_cgr3/lib/python3.7/site-packages/CGRtools/attributes/molecule.py\", line 28, in __setitem__\n",
      "    setattr(self, key, value)\n",
      "  File \"/home/ravil/for_cgr3/lib/python3.7/site-packages/CGRtools/attributes/molecule.py\", line 343, in __setattr__\n",
      "    value = getattr(self, f'_{key}_check')(value)\n",
      "  File \"/home/ravil/for_cgr3/lib/python3.7/site-packages/CGRtools/attributes/molecule.py\", line 389, in _order_check\n",
      "    raise ValueError('invalid order')\n",
      "ValueError: invalid order\n",
      "\n"
     ]
    }
   ],
   "source": [
    "try:\n",
    "    b['order'] = 0 # error raises. Bond order 0 is invalid. To delete bond use method described below\n",
    "except ValueError:\n",
    "    print(format_exc())"
   ]
  },
  {
   "cell_type": "markdown",
   "metadata": {},
   "source": [
    "One should to use `delete_bond` method to break bond"
   ]
  },
  {
   "cell_type": "code",
   "execution_count": 34,
   "metadata": {},
   "outputs": [
    {
     "data": {
      "image/svg+xml": [
       "<svg width=\"2.43cm\" height=\"1.41cm\" viewBox=\"-11.31 -0.64 2.43 1.41\" xmlns=\"http://www.w3.org/2000/svg\" version=\"1.1\">\n",
       "  <g font-family=\"sans-serif\">\n",
       "    <g fill=\"#000000\">\n",
       "      <text x=\"-10.95\" y=\"0.00\" font-size=\"0.40\">C</text>\n",
       "    </g>\n",
       "    <g fill=\"#FF0D0D\">\n",
       "      <text x=\"-9.52\" y=\"0.00\" font-size=\"0.40\">O</text>\n",
       "    </g>\n",
       "  </g>\n",
       "  <g fill=\"none\" stroke=\"black\" stroke-width=\".03\">\n",
       "    <line x1=\"-10.10\" y1=\"0.28\" x2=\"-9.57\" y2=\"-0.03\" />\n",
       "  </g>\n",
       "</svg>"
      ],
      "text/plain": [
       "<CGRtools.containers.molecule.MoleculeContainer at 0x7f7178c7a408>"
      ]
     },
     "execution_count": 34,
     "metadata": {},
     "output_type": "execute_result"
    }
   ],
   "source": [
    "m1.delete_bond(3, 4)\n",
    "m1                    #Note that cashe flushing is not required here."
   ]
  },
  {
   "cell_type": "markdown",
   "metadata": {},
   "source": [
    "Method `delete_atom` removes atom from the molecule"
   ]
  },
  {
   "cell_type": "code",
   "execution_count": 35,
   "metadata": {},
   "outputs": [
    {
     "data": {
      "image/svg+xml": [
       "<svg width=\"1.71cm\" height=\"1.41cm\" viewBox=\"-10.60 -0.64 1.71 1.41\" xmlns=\"http://www.w3.org/2000/svg\" version=\"1.1\">\n",
       "  <g font-family=\"sans-serif\">\n",
       "    <g fill=\"#FF0D0D\">\n",
       "      <text x=\"-9.52\" y=\"0.00\" font-size=\"0.40\">O</text>\n",
       "    </g>\n",
       "  </g>\n",
       "  <g fill=\"none\" stroke=\"black\" stroke-width=\".03\">\n",
       "    <line x1=\"-10.10\" y1=\"0.28\" x2=\"-9.57\" y2=\"-0.03\" />\n",
       "  </g>\n",
       "</svg>"
      ],
      "text/plain": [
       "<CGRtools.containers.molecule.MoleculeContainer at 0x7f7178c7a408>"
      ]
     },
     "execution_count": 35,
     "metadata": {},
     "output_type": "execute_result"
    }
   ],
   "source": [
    "m1.delete_atom(3)\n",
    "m1"
   ]
  },
  {
   "cell_type": "code",
   "execution_count": 36,
   "metadata": {},
   "outputs": [
    {
     "data": {
      "image/svg+xml": [
       "<svg width=\"2.43cm\" height=\"1.41cm\" viewBox=\"-11.31 -0.64 2.43 1.41\" xmlns=\"http://www.w3.org/2000/svg\" version=\"1.1\">\n",
       "  <g font-family=\"sans-serif\">\n",
       "    <g fill=\"#FF0D0D\">\n",
       "      <text x=\"-9.52\" y=\"0.00\" font-size=\"0.40\">O</text>\n",
       "      <text x=\"-9.78\" y=\"-0.28\" font-size=\"0.30\">15</text>\n",
       "    </g>\n",
       "  </g>\n",
       "  <g fill=\"none\" stroke=\"black\" stroke-width=\".03\">\n",
       "    <line x1=\"-10.83\" y1=\"-0.10\" x2=\"-10.12\" y2=\"0.31\" />\n",
       "    <line x1=\"-10.79\" y1=\"-0.17\" x2=\"-10.08\" y2=\"0.24\" />\n",
       "    <line x1=\"-10.10\" y1=\"0.28\" x2=\"-9.57\" y2=\"-0.03\" />\n",
       "  </g>\n",
       "</svg>"
      ],
      "text/plain": [
       "<CGRtools.containers.molecule.MoleculeContainer at 0x7f7184b07e58>"
      ]
     },
     "execution_count": 36,
     "metadata": {},
     "output_type": "execute_result"
    }
   ],
   "source": [
    "m_copy # copy unchanged!"
   ]
  },
  {
   "cell_type": "markdown",
   "metadata": {},
   "source": [
    "*Atoms* and *bonds* objects can be converted into integer representation that could be used to classify their types.\n",
    "\n",
    "*Atom* type is represented by 21 bit code rounded to 32 bit integer number:\n",
    "\n",
    "* 7 bits stand for atom number (2 ** 7 - 1 == 127, currently 118 elements are presented in Periodic Table)\n",
    "* 9 bits are used for isotope (511 posibilities, highest known isotope is ~300)\n",
    "* 3 bits stand for formal charge. Charges range from -3 to +3 rescaled to range 0-6\n",
    "* 2 bits are used for multiplicity."
   ]
  },
  {
   "cell_type": "code",
   "execution_count": 37,
   "metadata": {},
   "outputs": [
    {
     "data": {
      "text/plain": [
       "131596"
      ]
     },
     "execution_count": 37,
     "metadata": {},
     "output_type": "execute_result"
    }
   ],
   "source": [
    "int(a)\n",
    "# 131596 == 0001000 000010000 011 00\n",
    "# 0001000 == 8 Oxygen\n",
    "# 000010000 == 16 isotope\n",
    "# 011 == 3 (3 - 3 = 0) uncharged\n",
    "# 00 == 0 hasn't multiplicity"
   ]
  },
  {
   "cell_type": "code",
   "execution_count": 38,
   "metadata": {},
   "outputs": [
    {
     "data": {
      "text/plain": [
       "1"
      ]
     },
     "execution_count": 38,
     "metadata": {},
     "output_type": "execute_result"
    }
   ],
   "source": [
    "int(b)  # bonds are encoded by their order"
   ]
  },
  {
   "cell_type": "code",
   "execution_count": 39,
   "metadata": {},
   "outputs": [
    {
     "name": "stdout",
     "output_type": "stream",
     "text": [
      "1\n",
      "0\n",
      "1\n"
     ]
    }
   ],
   "source": [
    "print(m1.atom_implicit_h(1)) # get number of implicit hydrogens on atom 1\n",
    "print(m1.atom_explicit_h(1)) # get number of explicit hydrogens on atom 1\n",
    "print(m1.atom_total_h(1)) # get total number of hydrogens on atom 1"
   ]
  },
  {
   "cell_type": "code",
   "execution_count": 40,
   "metadata": {},
   "outputs": [
    {
     "data": {
      "image/svg+xml": [
       "<svg width=\"1.71cm\" height=\"1.41cm\" viewBox=\"-10.60 -0.64 1.71 1.41\" xmlns=\"http://www.w3.org/2000/svg\" version=\"1.1\">\n",
       "  <g font-family=\"sans-serif\">\n",
       "    <g fill=\"#FF0D0D\">\n",
       "      <text x=\"-9.52\" y=\"0.00\" font-size=\"0.40\">O</text>\n",
       "    </g>\n",
       "  </g>\n",
       "  <g fill=\"none\" stroke=\"black\" stroke-width=\".03\">\n",
       "    <line x1=\"-10.10\" y1=\"0.28\" x2=\"-9.57\" y2=\"-0.03\" />\n",
       "  </g>\n",
       "</svg>"
      ],
      "text/plain": [
       "<CGRtools.containers.molecule.MoleculeContainer at 0x7f7178c7a408>"
      ]
     },
     "execution_count": 40,
     "metadata": {},
     "output_type": "execute_result"
    }
   ],
   "source": [
    "m1"
   ]
  },
  {
   "cell_type": "code",
   "execution_count": 41,
   "metadata": {},
   "outputs": [
    {
     "data": {
      "text/plain": [
       "[]"
      ]
     },
     "execution_count": 41,
     "metadata": {},
     "output_type": "execute_result"
    }
   ],
   "source": [
    "m1.check_valence() # return list of numbers of atoms with invalid valences"
   ]
  },
  {
   "cell_type": "code",
   "execution_count": 42,
   "metadata": {},
   "outputs": [
    {
     "data": {
      "image/svg+xml": [
       "<svg width=\"1.71cm\" height=\"1.41cm\" viewBox=\"-10.60 -0.64 1.71 1.41\" xmlns=\"http://www.w3.org/2000/svg\" version=\"1.1\">\n",
       "  <g font-family=\"sans-serif\">\n",
       "    <g fill=\"#FF0D0D\">\n",
       "      <text x=\"-9.52\" y=\"0.00\" font-size=\"0.40\">O</text>\n",
       "    </g>\n",
       "  </g>\n",
       "  <g fill=\"none\" stroke=\"black\" stroke-width=\".03\">\n",
       "    <line x1=\"-10.06\" y1=\"0.34\" x2=\"-9.53\" y2=\"0.03\" />\n",
       "    <line x1=\"-10.10\" y1=\"0.28\" x2=\"-9.57\" y2=\"-0.03\" />\n",
       "    <line x1=\"-10.13\" y1=\"0.21\" x2=\"-9.60\" y2=\"-0.09\" />\n",
       "  </g>\n",
       "</svg>"
      ],
      "text/plain": [
       "<CGRtools.containers.molecule.MoleculeContainer at 0x7f7184ae4368>"
      ]
     },
     "execution_count": 42,
     "metadata": {},
     "output_type": "execute_result"
    }
   ],
   "source": [
    "m4 # molecule with valence errors"
   ]
  },
  {
   "cell_type": "code",
   "execution_count": 43,
   "metadata": {},
   "outputs": [
    {
     "data": {
      "text/plain": [
       "[1]"
      ]
     },
     "execution_count": 43,
     "metadata": {},
     "output_type": "execute_result"
    }
   ],
   "source": [
    "m4.check_valence()"
   ]
  },
  {
   "cell_type": "code",
   "execution_count": 44,
   "metadata": {},
   "outputs": [
    {
     "data": {
      "image/svg+xml": [
       "<svg width=\"2.43cm\" height=\"4.71cm\" viewBox=\"1.93 -4.21 2.43 4.71\" xmlns=\"http://www.w3.org/2000/svg\" version=\"1.1\">\n",
       "  <g font-family=\"sans-serif\">\n",
       "    <g fill=\"#3050F8\">\n",
       "      <text x=\"3.00\" y=\"-3.16\" font-size=\"0.40\">N</text>\n",
       "    </g>\n",
       "    <g fill=\"#FF0D0D\">\n",
       "      <text x=\"2.29\" y=\"-3.57\" font-size=\"0.40\">O</text>\n",
       "    </g>\n",
       "    <g fill=\"#FF0D0D\">\n",
       "      <text x=\"3.72\" y=\"-3.57\" font-size=\"0.40\">O</text>\n",
       "    </g>\n",
       "    <g fill=\"#FF0D0D\">\n",
       "      <text x=\"3.00\" y=\"0.14\" font-size=\"0.40\">O</text>\n",
       "    </g>\n",
       "  </g>\n",
       "  <g fill=\"none\" stroke=\"black\" stroke-width=\".03\">\n",
       "    <line x1=\"3.14\" y1=\"-2.48\" x2=\"3.86\" y2=\"-2.06\" />\n",
       "    <line x1=\"3.12\" y1=\"-2.51\" x2=\"2.41\" y2=\"-2.10\" />\n",
       "    <line x1=\"3.16\" y1=\"-2.44\" x2=\"2.45\" y2=\"-2.03\" />\n",
       "    <line x1=\"3.14\" y1=\"-2.48\" x2=\"3.14\" y2=\"-3.09\" />\n",
       "    <line x1=\"3.82\" y1=\"-2.06\" x2=\"3.82\" y2=\"-1.24\" />\n",
       "    <line x1=\"3.90\" y1=\"-2.06\" x2=\"3.90\" y2=\"-1.24\" />\n",
       "    <line x1=\"3.86\" y1=\"-1.24\" x2=\"3.14\" y2=\"-0.82\" />\n",
       "    <line x1=\"3.16\" y1=\"-0.86\" x2=\"2.45\" y2=\"-1.27\" />\n",
       "    <line x1=\"3.12\" y1=\"-0.79\" x2=\"2.41\" y2=\"-1.20\" />\n",
       "    <line x1=\"3.14\" y1=\"-0.82\" x2=\"3.14\" y2=\"-0.21\" />\n",
       "    <line x1=\"2.43\" y1=\"-1.24\" x2=\"2.43\" y2=\"-2.06\" />\n",
       "    <line x1=\"2.98\" y1=\"-3.44\" x2=\"2.63\" y2=\"-3.64\" />\n",
       "    <line x1=\"2.94\" y1=\"-3.37\" x2=\"2.59\" y2=\"-3.57\" />\n",
       "    <line x1=\"3.35\" y1=\"-3.37\" x2=\"3.70\" y2=\"-3.57\" />\n",
       "    <line x1=\"3.31\" y1=\"-3.44\" x2=\"3.66\" y2=\"-3.64\" />\n",
       "  </g>\n",
       "</svg>"
      ],
      "text/plain": [
       "<CGRtools.containers.molecule.MoleculeContainer at 0x7f7184ae4228>"
      ]
     },
     "execution_count": 44,
     "metadata": {},
     "output_type": "execute_result"
    }
   ],
   "source": [
    "m3"
   ]
  },
  {
   "cell_type": "code",
   "execution_count": 45,
   "metadata": {},
   "outputs": [
    {
     "data": {
      "text/plain": [
       "[[4, 9, 8, 7, 6, 5]]"
      ]
     },
     "execution_count": 45,
     "metadata": {},
     "output_type": "execute_result"
    }
   ],
   "source": [
    "m3.sssr # Method for application of Smallest Set of Smallest Rings algorithm for rings \n",
    "        # identification. Returns list of lists of atoms forming smallest rings"
   ]
  },
  {
   "cell_type": "markdown",
   "metadata": {},
   "source": [
    "#### Connected components.\n",
    "Sometimes molecules has disconnected components (salts etc).\n",
    "\n",
    "One can find them and split molecule to separate components."
   ]
  },
  {
   "cell_type": "code",
   "execution_count": 46,
   "metadata": {
    "scrolled": true
   },
   "outputs": [
    {
     "data": {
      "image/svg+xml": [
       "<svg width=\"8.50cm\" height=\"3.14cm\" viewBox=\"-8.00 -1.57 8.50 3.14\" xmlns=\"http://www.w3.org/2000/svg\" version=\"1.1\">\n",
       "  <g font-family=\"sans-serif\">\n",
       "    <g fill=\"#FF0D0D\">\n",
       "      <text x=\"-6.81\" y=\"-0.93\" font-size=\"0.40\">O</text>\n",
       "    </g>\n",
       "    <g fill=\"#FF0D0D\">\n",
       "      <text x=\"-5.58\" y=\"-0.22\" font-size=\"0.40\">O</text>\n",
       "      <text x=\"-5.30\" y=\"-0.50\" font-size=\"0.30\">⁃</text>\n",
       "    </g>\n",
       "    <g fill=\"#FF0D0D\">\n",
       "      <text x=\"-6.40\" y=\"1.21\" font-size=\"0.40\">O</text>\n",
       "    </g>\n",
       "    <g fill=\"#FF0D0D\">\n",
       "      <text x=\"-7.64\" y=\"0.50\" font-size=\"0.40\">O</text>\n",
       "    </g>\n",
       "    <g fill=\"#AB5CF2\">\n",
       "      <text x=\"-0.14\" y=\"0.14\" font-size=\"0.40\">Na</text>\n",
       "      <text x=\"0.14\" y=\"-0.14\" font-size=\"0.30\">+</text>\n",
       "    </g>\n",
       "  </g>\n",
       "  <g fill=\"none\" stroke=\"black\" stroke-width=\".03\">\n",
       "    <line x1=\"-6.26\" y1=\"-0.36\" x2=\"-6.67\" y2=\"0.36\" />\n",
       "    <line x1=\"-6.23\" y1=\"-0.38\" x2=\"-6.53\" y2=\"-0.91\" />\n",
       "    <line x1=\"-6.30\" y1=\"-0.34\" x2=\"-6.60\" y2=\"-0.87\" />\n",
       "    <line x1=\"-6.26\" y1=\"-0.36\" x2=\"-5.65\" y2=\"-0.36\" />\n",
       "    <line x1=\"-6.71\" y1=\"0.38\" x2=\"-6.40\" y2=\"0.91\" />\n",
       "    <line x1=\"-6.64\" y1=\"0.34\" x2=\"-6.33\" y2=\"0.87\" />\n",
       "    <line x1=\"-6.67\" y1=\"0.36\" x2=\"-7.29\" y2=\"0.36\" />\n",
       "  </g>\n",
       "</svg>"
      ],
      "text/plain": [
       "<CGRtools.containers.molecule.MoleculeContainer at 0x7f7178ca7098>"
      ]
     },
     "execution_count": 46,
     "metadata": {},
     "output_type": "execute_result"
    }
   ],
   "source": [
    "m2 # it's a salt represented as one graph"
   ]
  },
  {
   "cell_type": "code",
   "execution_count": 47,
   "metadata": {},
   "outputs": [
    {
     "data": {
      "text/plain": [
       "[[5, 6, 7, 8, 9, 10], [11]]"
      ]
     },
     "execution_count": 47,
     "metadata": {},
     "output_type": "execute_result"
    }
   ],
   "source": [
    "m2.connected_components # list of lists of atoms belonging to graph components"
   ]
  },
  {
   "cell_type": "code",
   "execution_count": 48,
   "metadata": {},
   "outputs": [],
   "source": [
    "anion, cation = m2.split() # split molecule to components"
   ]
  },
  {
   "cell_type": "code",
   "execution_count": 49,
   "metadata": {},
   "outputs": [
    {
     "data": {
      "image/svg+xml": [
       "<svg width=\"3.06cm\" height=\"3.14cm\" viewBox=\"-8.00 -1.57 3.06 3.14\" xmlns=\"http://www.w3.org/2000/svg\" version=\"1.1\">\n",
       "  <g font-family=\"sans-serif\">\n",
       "    <g fill=\"#FF0D0D\">\n",
       "      <text x=\"-6.81\" y=\"-0.93\" font-size=\"0.40\">O</text>\n",
       "    </g>\n",
       "    <g fill=\"#FF0D0D\">\n",
       "      <text x=\"-5.58\" y=\"-0.22\" font-size=\"0.40\">O</text>\n",
       "      <text x=\"-5.30\" y=\"-0.50\" font-size=\"0.30\">⁃</text>\n",
       "    </g>\n",
       "    <g fill=\"#FF0D0D\">\n",
       "      <text x=\"-6.40\" y=\"1.21\" font-size=\"0.40\">O</text>\n",
       "    </g>\n",
       "    <g fill=\"#FF0D0D\">\n",
       "      <text x=\"-7.64\" y=\"0.50\" font-size=\"0.40\">O</text>\n",
       "    </g>\n",
       "  </g>\n",
       "  <g fill=\"none\" stroke=\"black\" stroke-width=\".03\">\n",
       "    <line x1=\"-6.26\" y1=\"-0.36\" x2=\"-6.67\" y2=\"0.36\" />\n",
       "    <line x1=\"-6.23\" y1=\"-0.38\" x2=\"-6.53\" y2=\"-0.91\" />\n",
       "    <line x1=\"-6.30\" y1=\"-0.34\" x2=\"-6.60\" y2=\"-0.87\" />\n",
       "    <line x1=\"-6.26\" y1=\"-0.36\" x2=\"-5.65\" y2=\"-0.36\" />\n",
       "    <line x1=\"-6.71\" y1=\"0.38\" x2=\"-6.40\" y2=\"0.91\" />\n",
       "    <line x1=\"-6.64\" y1=\"0.34\" x2=\"-6.33\" y2=\"0.87\" />\n",
       "    <line x1=\"-6.67\" y1=\"0.36\" x2=\"-7.29\" y2=\"0.36\" />\n",
       "  </g>\n",
       "</svg>"
      ],
      "text/plain": [
       "<CGRtools.containers.molecule.MoleculeContainer at 0x7f7184a4ec28>"
      ]
     },
     "execution_count": 49,
     "metadata": {},
     "output_type": "execute_result"
    }
   ],
   "source": [
    "anion # graph of only one salt component"
   ]
  },
  {
   "cell_type": "code",
   "execution_count": 50,
   "metadata": {},
   "outputs": [
    {
     "data": {
      "image/svg+xml": [
       "<svg width=\"1.00cm\" height=\"1.00cm\" viewBox=\"-0.50 -0.50 1.00 1.00\" xmlns=\"http://www.w3.org/2000/svg\" version=\"1.1\">\n",
       "  <g font-family=\"sans-serif\">\n",
       "    <g fill=\"#AB5CF2\">\n",
       "      <text x=\"-0.14\" y=\"0.14\" font-size=\"0.40\">Na</text>\n",
       "      <text x=\"0.14\" y=\"-0.14\" font-size=\"0.30\">+</text>\n",
       "    </g>\n",
       "  </g>\n",
       "  <g fill=\"none\" stroke=\"black\" stroke-width=\".03\">\n",
       "  </g>\n",
       "</svg>"
      ],
      "text/plain": [
       "<CGRtools.containers.molecule.MoleculeContainer at 0x7f7184a4ec78>"
      ]
     },
     "execution_count": 50,
     "metadata": {},
     "output_type": "execute_result"
    }
   ],
   "source": [
    "cation # graph of only one salt component"
   ]
  },
  {
   "cell_type": "markdown",
   "metadata": {},
   "source": [
    "#### Union of molecules\n",
    "Sometimes it is more convenient to represent salts as ion pair. Otherwise ambiguity could be introduced, for example in reaction of salt exchange:\n",
    "\n",
    "**Ag+** + **NO3-** + **Na+** + **Br-** = **Ag+** + **Br-** + **Na+** + **NO3-**. Reactants and products sets are the same. \n",
    "\n",
    "In this case one can combine anion-cation pair into single graph. It could be convenient way to represent other molecule mixtures."
   ]
  },
  {
   "cell_type": "code",
   "execution_count": 51,
   "metadata": {},
   "outputs": [
    {
     "data": {
      "image/svg+xml": [
       "<svg width=\"8.50cm\" height=\"3.14cm\" viewBox=\"-8.00 -1.57 8.50 3.14\" xmlns=\"http://www.w3.org/2000/svg\" version=\"1.1\">\n",
       "  <g font-family=\"sans-serif\">\n",
       "    <g fill=\"#FF0D0D\">\n",
       "      <text x=\"-6.81\" y=\"-0.93\" font-size=\"0.40\">O</text>\n",
       "    </g>\n",
       "    <g fill=\"#FF0D0D\">\n",
       "      <text x=\"-5.58\" y=\"-0.22\" font-size=\"0.40\">O</text>\n",
       "      <text x=\"-5.30\" y=\"-0.50\" font-size=\"0.30\">⁃</text>\n",
       "    </g>\n",
       "    <g fill=\"#FF0D0D\">\n",
       "      <text x=\"-6.40\" y=\"1.21\" font-size=\"0.40\">O</text>\n",
       "    </g>\n",
       "    <g fill=\"#FF0D0D\">\n",
       "      <text x=\"-7.64\" y=\"0.50\" font-size=\"0.40\">O</text>\n",
       "    </g>\n",
       "    <g fill=\"#AB5CF2\">\n",
       "      <text x=\"-0.14\" y=\"0.14\" font-size=\"0.40\">Na</text>\n",
       "      <text x=\"0.14\" y=\"-0.14\" font-size=\"0.30\">+</text>\n",
       "    </g>\n",
       "  </g>\n",
       "  <g fill=\"none\" stroke=\"black\" stroke-width=\".03\">\n",
       "    <line x1=\"-6.26\" y1=\"-0.36\" x2=\"-6.67\" y2=\"0.36\" />\n",
       "    <line x1=\"-6.23\" y1=\"-0.38\" x2=\"-6.53\" y2=\"-0.91\" />\n",
       "    <line x1=\"-6.30\" y1=\"-0.34\" x2=\"-6.60\" y2=\"-0.87\" />\n",
       "    <line x1=\"-6.26\" y1=\"-0.36\" x2=\"-5.65\" y2=\"-0.36\" />\n",
       "    <line x1=\"-6.71\" y1=\"0.38\" x2=\"-6.40\" y2=\"0.91\" />\n",
       "    <line x1=\"-6.64\" y1=\"0.34\" x2=\"-6.33\" y2=\"0.87\" />\n",
       "    <line x1=\"-6.67\" y1=\"0.36\" x2=\"-7.29\" y2=\"0.36\" />\n",
       "  </g>\n",
       "</svg>"
      ],
      "text/plain": [
       "<CGRtools.containers.molecule.MoleculeContainer at 0x7f7184a5b4a8>"
      ]
     },
     "execution_count": 51,
     "metadata": {},
     "output_type": "execute_result"
    }
   ],
   "source": [
    "salt = anion | cation \n",
    "\n",
    "# or \n",
    "\n",
    "anion.union(cation)\n",
    "\n",
    "salt # this graph has disconnected components, it is considered single compound now"
   ]
  },
  {
   "cell_type": "markdown",
   "metadata": {},
   "source": [
    "#### Substructures could be extracted from molecules.\n",
    "\n",
    "By default, returned substructures are read-only projections of original molecule (except attributes of atoms/bonds). \n",
    "\n",
    "Changes in original molecule (bond breaking/formation, atom insertion/deletion, atom/bond attributes changes) will be mirrored in projection.  \n",
    "\n",
    "Projections share the same neighbors and hybridization attributes as in initial molecule even if could be wrong for substructure "
   ]
  },
  {
   "cell_type": "code",
   "execution_count": 52,
   "metadata": {},
   "outputs": [
    {
     "data": {
      "image/svg+xml": [
       "<svg width=\"2.43cm\" height=\"2.65cm\" viewBox=\"1.93 -2.98 2.43 2.65\" xmlns=\"http://www.w3.org/2000/svg\" version=\"1.1\">\n",
       "  <g fill=\"none\" stroke=\"black\" stroke-width=\".03\">\n",
       "    <line x1=\"3.14\" y1=\"-2.48\" x2=\"3.86\" y2=\"-2.06\" />\n",
       "    <line x1=\"3.12\" y1=\"-2.51\" x2=\"2.41\" y2=\"-2.10\" />\n",
       "    <line x1=\"3.16\" y1=\"-2.44\" x2=\"2.45\" y2=\"-2.03\" />\n",
       "    <line x1=\"3.82\" y1=\"-2.06\" x2=\"3.82\" y2=\"-1.24\" />\n",
       "    <line x1=\"3.90\" y1=\"-2.06\" x2=\"3.90\" y2=\"-1.24\" />\n",
       "    <line x1=\"3.86\" y1=\"-1.24\" x2=\"3.14\" y2=\"-0.82\" />\n",
       "    <line x1=\"3.16\" y1=\"-0.86\" x2=\"2.45\" y2=\"-1.27\" />\n",
       "    <line x1=\"3.12\" y1=\"-0.79\" x2=\"2.41\" y2=\"-1.20\" />\n",
       "    <line x1=\"2.43\" y1=\"-1.24\" x2=\"2.43\" y2=\"-2.06\" />\n",
       "  </g>\n",
       "</svg>"
      ],
      "text/plain": [
       "<CGRtools.containers.molecule.MoleculeContainer at 0x7f7184a5b728>"
      ]
     },
     "execution_count": 52,
     "metadata": {},
     "output_type": "execute_result"
    }
   ],
   "source": [
    "proj = m3.substructure([4,5,6,7,8,9])  # projection of substructure\n",
    "proj"
   ]
  },
  {
   "cell_type": "code",
   "execution_count": 53,
   "metadata": {},
   "outputs": [
    {
     "data": {
      "text/plain": [
       "3"
      ]
     },
     "execution_count": 53,
     "metadata": {},
     "output_type": "execute_result"
    }
   ],
   "source": [
    "m3.atom(4).neighbors"
   ]
  },
  {
   "cell_type": "code",
   "execution_count": 54,
   "metadata": {},
   "outputs": [
    {
     "data": {
      "text/plain": [
       "3"
      ]
     },
     "execution_count": 54,
     "metadata": {},
     "output_type": "execute_result"
    }
   ],
   "source": [
    "proj.atom(4).neighbors # same as in original molecule and not as it should be in substructure"
   ]
  },
  {
   "cell_type": "code",
   "execution_count": 55,
   "metadata": {},
   "outputs": [
    {
     "name": "stdout",
     "output_type": "stream",
     "text": [
      "Traceback (most recent call last):\n",
      "  File \"<ipython-input-55-cc1c1d2b39f3>\", line 3, in <module>\n",
      "    proj.reset_query_marks() # change of structure for projections is blocked\n",
      "  File \"/home/ravil/for_cgr3/lib/python3.7/site-packages/networkx/classes/function.py\", line 142, in frozen\n",
      "    raise nx.NetworkXError(\"Frozen graph can't be modified\")\n",
      "networkx.exception.NetworkXError: Frozen graph can't be modified\n",
      "\n"
     ]
    }
   ],
   "source": [
    "from networkx.exception import NetworkXError\n",
    "try:\n",
    "    proj.reset_query_marks() # change of structure for projections is blocked\n",
    "except NetworkXError:\n",
    "    print(format_exc())"
   ]
  },
  {
   "cell_type": "code",
   "execution_count": 56,
   "metadata": {},
   "outputs": [
    {
     "data": {
      "image/svg+xml": [
       "<svg width=\"2.43cm\" height=\"2.65cm\" viewBox=\"1.93 -2.98 2.43 2.65\" xmlns=\"http://www.w3.org/2000/svg\" version=\"1.1\">\n",
       "  <g fill=\"none\" stroke=\"black\" stroke-width=\".03\">\n",
       "    <line x1=\"3.14\" y1=\"-2.48\" x2=\"3.86\" y2=\"-2.06\" />\n",
       "    <line x1=\"3.12\" y1=\"-2.51\" x2=\"2.41\" y2=\"-2.10\" />\n",
       "    <line x1=\"3.16\" y1=\"-2.44\" x2=\"2.45\" y2=\"-2.03\" />\n",
       "    <line x1=\"3.82\" y1=\"-2.06\" x2=\"3.82\" y2=\"-1.24\" />\n",
       "    <line x1=\"3.90\" y1=\"-2.06\" x2=\"3.90\" y2=\"-1.24\" />\n",
       "    <line x1=\"3.86\" y1=\"-1.24\" x2=\"3.14\" y2=\"-0.82\" />\n",
       "    <line x1=\"3.16\" y1=\"-0.86\" x2=\"2.45\" y2=\"-1.27\" />\n",
       "    <line x1=\"3.12\" y1=\"-0.79\" x2=\"2.41\" y2=\"-1.20\" />\n",
       "    <line x1=\"2.43\" y1=\"-1.24\" x2=\"2.43\" y2=\"-2.06\" />\n",
       "  </g>\n",
       "</svg>"
      ],
      "text/plain": [
       "<CGRtools.containers.molecule.MoleculeContainer at 0x7f7184a5bd68>"
      ]
     },
     "execution_count": 56,
     "metadata": {},
     "output_type": "execute_result"
    }
   ],
   "source": [
    "benzene = m3.substructure([4,5,6,7,8,9], as_view=False) # Substructure could be extracted as isolated graph (not projection)\n",
    "benzene"
   ]
  },
  {
   "cell_type": "code",
   "execution_count": 57,
   "metadata": {},
   "outputs": [
    {
     "data": {
      "text/plain": [
       "True"
      ]
     },
     "execution_count": 57,
     "metadata": {},
     "output_type": "execute_result"
    }
   ],
   "source": [
    "benzene.atom(4).neighbors is None # empty attribute. Substructure is a new molecule here. We need to call reset_query_marks"
   ]
  },
  {
   "cell_type": "code",
   "execution_count": 58,
   "metadata": {},
   "outputs": [],
   "source": [
    "benzene.reset_query_marks()"
   ]
  },
  {
   "cell_type": "code",
   "execution_count": 59,
   "metadata": {},
   "outputs": [
    {
     "data": {
      "text/plain": [
       "2"
      ]
     },
     "execution_count": 59,
     "metadata": {},
     "output_type": "execute_result"
    }
   ],
   "source": [
    "benzene.atom(4).neighbors # now number of neighbors for atom 4 is 2. It is not 3 as above where projection was used."
   ]
  },
  {
   "cell_type": "markdown",
   "metadata": {},
   "source": [
    "Note:\n",
    "\n",
    "* Projection of projection also projection of original molecule\n",
    "* Projection can be converted to isolated molecule by calling method copy()"
   ]
  },
  {
   "cell_type": "code",
   "execution_count": 60,
   "metadata": {},
   "outputs": [
    {
     "data": {
      "image/svg+xml": [
       "<svg width=\"2.43cm\" height=\"2.65cm\" viewBox=\"1.93 -2.98 2.43 2.65\" xmlns=\"http://www.w3.org/2000/svg\" version=\"1.1\">\n",
       "  <g fill=\"none\" stroke=\"black\" stroke-width=\".03\">\n",
       "    <line x1=\"3.14\" y1=\"-2.48\" x2=\"3.86\" y2=\"-2.06\" />\n",
       "    <line x1=\"3.12\" y1=\"-2.51\" x2=\"2.41\" y2=\"-2.10\" />\n",
       "    <line x1=\"3.16\" y1=\"-2.44\" x2=\"2.45\" y2=\"-2.03\" />\n",
       "    <line x1=\"3.82\" y1=\"-2.06\" x2=\"3.82\" y2=\"-1.24\" />\n",
       "    <line x1=\"3.90\" y1=\"-2.06\" x2=\"3.90\" y2=\"-1.24\" />\n",
       "    <line x1=\"3.86\" y1=\"-1.24\" x2=\"3.14\" y2=\"-0.82\" />\n",
       "    <line x1=\"3.16\" y1=\"-0.86\" x2=\"2.45\" y2=\"-1.27\" />\n",
       "    <line x1=\"3.12\" y1=\"-0.79\" x2=\"2.41\" y2=\"-1.20\" />\n",
       "    <line x1=\"2.43\" y1=\"-1.24\" x2=\"2.43\" y2=\"-2.06\" />\n",
       "  </g>\n",
       "</svg>"
      ],
      "text/plain": [
       "<CGRtools.containers.molecule.MoleculeContainer at 0x7f7184a804f8>"
      ]
     },
     "execution_count": 60,
     "metadata": {},
     "output_type": "execute_result"
    }
   ],
   "source": [
    "proj_copy = proj.copy() # turning projection into molecule using \"copy\" method\n",
    "proj_copy"
   ]
  },
  {
   "cell_type": "code",
   "execution_count": 61,
   "metadata": {},
   "outputs": [],
   "source": [
    "proj_copy.reset_query_marks() # This not a projection any more but a new molecule"
   ]
  },
  {
   "cell_type": "markdown",
   "metadata": {},
   "source": [
    "Changes in projection are mirrored. See example:"
   ]
  },
  {
   "cell_type": "code",
   "execution_count": 62,
   "metadata": {},
   "outputs": [
    {
     "data": {
      "image/svg+xml": [
       "<svg width=\"2.43cm\" height=\"4.71cm\" viewBox=\"1.93 -4.21 2.43 4.71\" xmlns=\"http://www.w3.org/2000/svg\" version=\"1.1\">\n",
       "  <g font-family=\"sans-serif\">\n",
       "    <g fill=\"#3050F8\">\n",
       "      <text x=\"3.00\" y=\"-3.16\" font-size=\"0.40\">N</text>\n",
       "    </g>\n",
       "    <g fill=\"#FF0D0D\">\n",
       "      <text x=\"2.29\" y=\"-3.57\" font-size=\"0.40\">O</text>\n",
       "    </g>\n",
       "    <g fill=\"#FF0D0D\">\n",
       "      <text x=\"3.72\" y=\"-3.57\" font-size=\"0.40\">O</text>\n",
       "    </g>\n",
       "    <g fill=\"#FF0D0D\">\n",
       "      <text x=\"3.00\" y=\"0.14\" font-size=\"0.40\">O</text>\n",
       "    </g>\n",
       "  </g>\n",
       "  <g fill=\"none\" stroke=\"black\" stroke-width=\".03\">\n",
       "    <line x1=\"3.12\" y1=\"-2.51\" x2=\"2.41\" y2=\"-2.10\" />\n",
       "    <line x1=\"3.16\" y1=\"-2.44\" x2=\"2.45\" y2=\"-2.03\" />\n",
       "    <line x1=\"3.14\" y1=\"-2.48\" x2=\"3.14\" y2=\"-3.09\" />\n",
       "    <line x1=\"3.82\" y1=\"-2.06\" x2=\"3.82\" y2=\"-1.24\" />\n",
       "    <line x1=\"3.90\" y1=\"-2.06\" x2=\"3.90\" y2=\"-1.24\" />\n",
       "    <line x1=\"3.86\" y1=\"-1.24\" x2=\"3.14\" y2=\"-0.82\" />\n",
       "    <line x1=\"3.16\" y1=\"-0.86\" x2=\"2.45\" y2=\"-1.27\" />\n",
       "    <line x1=\"3.12\" y1=\"-0.79\" x2=\"2.41\" y2=\"-1.20\" />\n",
       "    <line x1=\"3.14\" y1=\"-0.82\" x2=\"3.14\" y2=\"-0.21\" />\n",
       "    <line x1=\"2.43\" y1=\"-1.24\" x2=\"2.43\" y2=\"-2.06\" />\n",
       "    <line x1=\"2.98\" y1=\"-3.44\" x2=\"2.63\" y2=\"-3.64\" />\n",
       "    <line x1=\"2.94\" y1=\"-3.37\" x2=\"2.59\" y2=\"-3.57\" />\n",
       "    <line x1=\"3.35\" y1=\"-3.37\" x2=\"3.70\" y2=\"-3.57\" />\n",
       "    <line x1=\"3.31\" y1=\"-3.44\" x2=\"3.66\" y2=\"-3.64\" />\n",
       "  </g>\n",
       "</svg>"
      ],
      "text/plain": [
       "<CGRtools.containers.molecule.MoleculeContainer at 0x7f7184ae4228>"
      ]
     },
     "execution_count": 62,
     "metadata": {},
     "output_type": "execute_result"
    }
   ],
   "source": [
    "m3.delete_bond(4, 5) # we've deleted bond\n",
    "m3"
   ]
  },
  {
   "cell_type": "code",
   "execution_count": 63,
   "metadata": {},
   "outputs": [
    {
     "data": {
      "image/svg+xml": [
       "<svg width=\"2.43cm\" height=\"2.65cm\" viewBox=\"1.93 -2.98 2.43 2.65\" xmlns=\"http://www.w3.org/2000/svg\" version=\"1.1\">\n",
       "  <g fill=\"none\" stroke=\"black\" stroke-width=\".03\">\n",
       "    <line x1=\"3.12\" y1=\"-2.51\" x2=\"2.41\" y2=\"-2.10\" />\n",
       "    <line x1=\"3.16\" y1=\"-2.44\" x2=\"2.45\" y2=\"-2.03\" />\n",
       "    <line x1=\"3.82\" y1=\"-2.06\" x2=\"3.82\" y2=\"-1.24\" />\n",
       "    <line x1=\"3.90\" y1=\"-2.06\" x2=\"3.90\" y2=\"-1.24\" />\n",
       "    <line x1=\"3.86\" y1=\"-1.24\" x2=\"3.14\" y2=\"-0.82\" />\n",
       "    <line x1=\"3.16\" y1=\"-0.86\" x2=\"2.45\" y2=\"-1.27\" />\n",
       "    <line x1=\"3.12\" y1=\"-0.79\" x2=\"2.41\" y2=\"-1.20\" />\n",
       "    <line x1=\"2.43\" y1=\"-1.24\" x2=\"2.43\" y2=\"-2.06\" />\n",
       "  </g>\n",
       "</svg>"
      ],
      "text/plain": [
       "<CGRtools.containers.molecule.MoleculeContainer at 0x7f7184a5b728>"
      ]
     },
     "execution_count": 63,
     "metadata": {},
     "output_type": "execute_result"
    }
   ],
   "source": [
    "proj.flush_cache() # remove cached image. Note that in projection the bond is also deleted.\n",
    "proj"
   ]
  },
  {
   "cell_type": "markdown",
   "metadata": {},
   "source": [
    "`augmented_substructure` is a substructure consisting from atoms and a given number of shells of neighboring atoms around it.\n",
    "**deep** argument is a number of considered shells. \n",
    "\n",
    "It also returns projection by default."
   ]
  },
  {
   "cell_type": "code",
   "execution_count": 64,
   "metadata": {},
   "outputs": [
    {
     "data": {
      "image/svg+xml": [
       "<svg width=\"2.43cm\" height=\"2.65cm\" viewBox=\"1.93 -4.21 2.43 2.65\" xmlns=\"http://www.w3.org/2000/svg\" version=\"1.1\">\n",
       "  <g font-family=\"sans-serif\">\n",
       "    <g fill=\"#3050F8\">\n",
       "      <text x=\"3.00\" y=\"-3.16\" font-size=\"0.40\">N</text>\n",
       "    </g>\n",
       "    <g fill=\"#FF0D0D\">\n",
       "      <text x=\"2.29\" y=\"-3.57\" font-size=\"0.40\">O</text>\n",
       "    </g>\n",
       "    <g fill=\"#FF0D0D\">\n",
       "      <text x=\"3.72\" y=\"-3.57\" font-size=\"0.40\">O</text>\n",
       "    </g>\n",
       "  </g>\n",
       "  <g fill=\"none\" stroke=\"black\" stroke-width=\".03\">\n",
       "    <line x1=\"3.12\" y1=\"-2.51\" x2=\"2.41\" y2=\"-2.10\" />\n",
       "    <line x1=\"3.16\" y1=\"-2.44\" x2=\"2.45\" y2=\"-2.03\" />\n",
       "    <line x1=\"3.14\" y1=\"-2.48\" x2=\"3.14\" y2=\"-3.09\" />\n",
       "    <line x1=\"2.98\" y1=\"-3.44\" x2=\"2.63\" y2=\"-3.64\" />\n",
       "    <line x1=\"2.94\" y1=\"-3.37\" x2=\"2.59\" y2=\"-3.57\" />\n",
       "    <line x1=\"3.35\" y1=\"-3.37\" x2=\"3.70\" y2=\"-3.57\" />\n",
       "    <line x1=\"3.31\" y1=\"-3.44\" x2=\"3.66\" y2=\"-3.64\" />\n",
       "  </g>\n",
       "</svg>"
      ],
      "text/plain": [
       "<CGRtools.containers.molecule.MoleculeContainer at 0x7f7184a806d8>"
      ]
     },
     "execution_count": 64,
     "metadata": {},
     "output_type": "execute_result"
    }
   ],
   "source": [
    "aug = m3.augmented_substructure([10], deep=2) #  atom 10 is Nitrogen\n",
    "aug"
   ]
  },
  {
   "cell_type": "code",
   "execution_count": 65,
   "metadata": {},
   "outputs": [
    {
     "data": {
      "text/plain": [
       "3"
      ]
     },
     "execution_count": 65,
     "metadata": {},
     "output_type": "execute_result"
    }
   ],
   "source": [
    "aug.atom(10).hybridization #atom has two incident double bond."
   ]
  },
  {
   "cell_type": "markdown",
   "metadata": {},
   "source": [
    "#### Atoms Ordering.\n",
    "This functionality is used for canonic numbering of atoms in molecules. Prime number multiplication based Morgan algorithm is used for atom ranking. Property `atoms_order` returns dictionary of atom numbers as keys and their ranks according to canonicalization as values. Equal rank mean that atoms are symmetric (are mapped to each other in automorhisms). In present version, instead of sequential ranks prime numbers are returned.\n"
   ]
  },
  {
   "cell_type": "code",
   "execution_count": 66,
   "metadata": {},
   "outputs": [
    {
     "data": {
      "text/plain": [
       "{3: 2, 1: 3, 4: 5}"
      ]
     },
     "execution_count": 66,
     "metadata": {},
     "output_type": "execute_result"
    }
   ],
   "source": [
    "m5.atoms_order"
   ]
  },
  {
   "cell_type": "markdown",
   "metadata": {},
   "source": [
    "#### Atom number can be changed by `remap` method.\n",
    "\n",
    "This method is useful when it is needed to change order of atoms in molecules. First argument to `remap` method is dictionary with existing atom numbers as keys and desired atom number as values. It is possible to change atom numbers for only part of atoms. Atom numbers could be non-sequencial but need to be unique. \n",
    "\n",
    "If argument *copy* is set ***True*** new object will be created, else existing molecule will be changed. Default is ***False***. "
   ]
  },
  {
   "cell_type": "code",
   "execution_count": 67,
   "metadata": {},
   "outputs": [
    {
     "name": "stdout",
     "output_type": "stream",
     "text": [
      "3 C\n",
      "4 C\n",
      "1 O\n",
      "4 3 1\n",
      "1 4 1\n"
     ]
    }
   ],
   "source": [
    "for n, a in m5.atoms():\n",
    "    print(n, a.element)\n",
    "for n, m, b in m5.bonds():\n",
    "    print(m, n, b.order)"
   ]
  },
  {
   "cell_type": "code",
   "execution_count": 68,
   "metadata": {},
   "outputs": [
    {
     "data": {
      "image/svg+xml": [
       "<svg width=\"2.43cm\" height=\"1.41cm\" viewBox=\"-0.50 -0.91 2.43 1.41\" xmlns=\"http://www.w3.org/2000/svg\" version=\"1.1\">\n",
       "  <g font-family=\"sans-serif\">\n",
       "    <g fill=\"#FF0D0D\">\n",
       "      <text x=\"1.29\" y=\"-0.27\" font-size=\"0.40\">O</text>\n",
       "    </g>\n",
       "  </g>\n",
       "  <g fill=\"none\" stroke=\"black\" stroke-width=\".03\">\n",
       "    <line x1=\"0.00\" y1=\"-0.41\" x2=\"0.71\" y2=\"-0.00\" />\n",
       "    <line x1=\"0.71\" y1=\"-0.00\" x2=\"1.25\" y2=\"-0.31\" />\n",
       "  </g>\n",
       "</svg>"
      ],
      "text/plain": [
       "<CGRtools.containers.molecule.MoleculeContainer at 0x7f7184a4e6d8>"
      ]
     },
     "execution_count": 68,
     "metadata": {},
     "output_type": "execute_result"
    }
   ],
   "source": [
    "remapped = m5.remap({4:2}, copy=True)\n",
    "remapped"
   ]
  },
  {
   "cell_type": "code",
   "execution_count": 69,
   "metadata": {},
   "outputs": [
    {
     "name": "stdout",
     "output_type": "stream",
     "text": [
      "3 C\n",
      "2 C\n",
      "1 O\n",
      "2 3 1\n",
      "1 2 1\n"
     ]
    }
   ],
   "source": [
    "for n, a in remapped.atoms():\n",
    "    print(n, a.element)\n",
    "for n, m, b in remapped.bonds():\n",
    "    print(m, n, b.order)"
   ]
  },
  {
   "cell_type": "markdown",
   "metadata": {},
   "source": [
    "## 1.2. ReactionContainer\n",
    "\n",
    "*ReactionContainer* objects has the following properties:\n",
    "\n",
    "* **reactants** - list of reactants molecules\n",
    "* **reagents** - list of reagents molecules\n",
    "* **products** - list of products molecules\n",
    "* **meta** - dictinary of reaction metadata (DTYPE/DATUM block in RDF)"
   ]
  },
  {
   "cell_type": "code",
   "execution_count": 70,
   "metadata": {},
   "outputs": [
    {
     "data": {
      "image/svg+xml": [
       "<svg width=\"16.92cm\" height=\"3.14cm\" viewBox=\"-0.50 -2.64 16.92 3.14\" xmlns=\"http://www.w3.org/2000/svg\" version=\"1.1\">\n",
       "  <defs><marker id=\"arrow\" markerWidth=\"10\" markerHeight=\"10\" refX=\"0\" refY=\"3\" orient=\"auto\"><path d=\"M0,0 L0,6 L9,3 z\" /></marker></defs>\n",
       "  <line x1=\"7.92\" y1=\"-1\" x2=\"9.92\" y2=\"-1\" fill=\"none\" stroke=\"black\" stroke-width=\".04\" marker-end=\"url(#arrow)\" />\n",
       "  <g font-family=\"sans-serif\">\n",
       "    <g fill=\"#FF0D0D\">\n",
       "      <text x=\"1.29\" y=\"-0.27\" font-size=\"0.40\">O</text>\n",
       "    </g>\n",
       "  </g>\n",
       "  <g fill=\"none\" stroke=\"black\" stroke-width=\".03\">\n",
       "    <line x1=\"0.00\" y1=\"-0.41\" x2=\"0.71\" y2=\"-0.00\" />\n",
       "    <line x1=\"0.71\" y1=\"-0.00\" x2=\"1.25\" y2=\"-0.31\" />\n",
       "  </g>\n",
       "  <g font-family=\"sans-serif\">\n",
       "    <g fill=\"#FF0D0D\">\n",
       "      <text x=\"3.11\" y=\"-2.00\" font-size=\"0.40\">O</text>\n",
       "    </g>\n",
       "    <g fill=\"#FF0D0D\">\n",
       "      <text x=\"4.35\" y=\"-1.29\" font-size=\"0.40\">O</text>\n",
       "    </g>\n",
       "    <g fill=\"#FF0D0D\">\n",
       "      <text x=\"3.53\" y=\"0.14\" font-size=\"0.40\">O</text>\n",
       "    </g>\n",
       "    <g fill=\"#FF0D0D\">\n",
       "      <text x=\"2.29\" y=\"-0.57\" font-size=\"0.40\">O</text>\n",
       "    </g>\n",
       "  </g>\n",
       "  <g fill=\"none\" stroke=\"black\" stroke-width=\".03\">\n",
       "    <line x1=\"3.67\" y1=\"-1.43\" x2=\"3.25\" y2=\"-0.71\" />\n",
       "    <line x1=\"3.70\" y1=\"-1.45\" x2=\"3.39\" y2=\"-1.98\" />\n",
       "    <line x1=\"3.63\" y1=\"-1.41\" x2=\"3.32\" y2=\"-1.94\" />\n",
       "    <line x1=\"3.67\" y1=\"-1.43\" x2=\"4.28\" y2=\"-1.43\" />\n",
       "    <line x1=\"3.22\" y1=\"-0.69\" x2=\"3.53\" y2=\"-0.16\" />\n",
       "    <line x1=\"3.29\" y1=\"-0.73\" x2=\"3.60\" y2=\"-0.20\" />\n",
       "    <line x1=\"3.25\" y1=\"-0.71\" x2=\"2.64\" y2=\"-0.71\" />\n",
       "  </g>\n",
       "  <g font-family=\"sans-serif\">\n",
       "    <g fill=\"#FF0D0D\">\n",
       "      <text x=\"6.78\" y=\"-0.27\" font-size=\"0.40\">O</text>\n",
       "      <text x=\"7.06\" y=\"-0.55\" font-size=\"0.30\">⁃</text>\n",
       "    </g>\n",
       "  </g>\n",
       "  <g fill=\"none\" stroke=\"black\" stroke-width=\".03\">\n",
       "    <line x1=\"6.21\" y1=\"-0.00\" x2=\"5.49\" y2=\"-0.41\" />\n",
       "    <line x1=\"6.21\" y1=\"-0.00\" x2=\"6.74\" y2=\"-0.31\" />\n",
       "  </g>\n",
       "  <g font-family=\"sans-serif\">\n",
       "    <g fill=\"#FF0D0D\">\n",
       "      <text x=\"14.35\" y=\"-1.10\" font-size=\"0.40\">O</text>\n",
       "    </g>\n",
       "    <g fill=\"#FF0D0D\">\n",
       "      <text x=\"12.21\" y=\"-0.69\" font-size=\"0.40\">O</text>\n",
       "    </g>\n",
       "    <g fill=\"#FF0D0D\">\n",
       "      <text x=\"12.92\" y=\"-1.92\" font-size=\"0.40\">O</text>\n",
       "    </g>\n",
       "    <g fill=\"#FF0D0D\">\n",
       "      <text x=\"13.64\" y=\"0.14\" font-size=\"0.40\">O</text>\n",
       "    </g>\n",
       "  </g>\n",
       "  <g fill=\"none\" stroke=\"black\" stroke-width=\".03\">\n",
       "    <line x1=\"13.78\" y1=\"-0.83\" x2=\"13.06\" y2=\"-1.24\" />\n",
       "    <line x1=\"13.78\" y1=\"-0.83\" x2=\"14.31\" y2=\"-1.13\" />\n",
       "    <line x1=\"13.74\" y1=\"-0.83\" x2=\"13.74\" y2=\"-0.21\" />\n",
       "    <line x1=\"13.82\" y1=\"-0.83\" x2=\"13.82\" y2=\"-0.21\" />\n",
       "    <line x1=\"13.06\" y1=\"-1.24\" x2=\"12.53\" y2=\"-0.93\" />\n",
       "    <line x1=\"13.10\" y1=\"-1.24\" x2=\"13.10\" y2=\"-1.85\" />\n",
       "    <line x1=\"13.02\" y1=\"-1.24\" x2=\"13.02\" y2=\"-1.85\" />\n",
       "    <line x1=\"14.67\" y1=\"-1.13\" x2=\"15.21\" y2=\"-0.83\" />\n",
       "    <line x1=\"12.17\" y1=\"-0.93\" x2=\"11.63\" y2=\"-1.24\" />\n",
       "    <line x1=\"15.21\" y1=\"-0.83\" x2=\"15.92\" y2=\"-1.24\" />\n",
       "    <line x1=\"11.63\" y1=\"-1.24\" x2=\"10.92\" y2=\"-0.83\" />\n",
       "  </g>\n",
       "</svg>"
      ],
      "text/plain": [
       "<CGRtools.containers.reaction.ReactionContainer at 0x7f7184ade6a8>"
      ]
     },
     "execution_count": 70,
     "metadata": {},
     "output_type": "execute_result"
    }
   ],
   "source": [
    "r1 # depiction supported"
   ]
  },
  {
   "cell_type": "code",
   "execution_count": 71,
   "metadata": {
    "scrolled": true
   },
   "outputs": [
    {
     "data": {
      "text/plain": [
       "{'CdId': '1872',\n",
       " 'solvent': '3',\n",
       " 'temperature': '129.5',\n",
       " 'tabulated_constant': '-6.87'}"
      ]
     },
     "execution_count": 71,
     "metadata": {},
     "output_type": "execute_result"
    }
   ],
   "source": [
    "r1.meta"
   ]
  },
  {
   "cell_type": "code",
   "execution_count": 72,
   "metadata": {},
   "outputs": [
    {
     "name": "stdout",
     "output_type": "stream",
     "text": [
      "[C-C-O, O-C(=O)-C(-O)=O, C-C-[O-]] [C-C-O-C(=O)-C(=O)-O-C-C]\n"
     ]
    }
   ],
   "source": [
    "print(r1.reactants, r1.products)  # Access to lists of reactant and products. Molecules' signatures are returned by print() method.\n",
    "reactant1, reactant2, reactant3 = r1.reactants\n",
    "product = r1.products[0]"
   ]
  },
  {
   "cell_type": "markdown",
   "metadata": {},
   "source": [
    "Reactions also has `standardize`, `aromatize`, `reset_query_marks`, `implicify_hydrogens` and `explicify_hydrogens` methods (see part 3). These methods are applied independently to every molecule in reaction."
   ]
  },
  {
   "cell_type": "markdown",
   "metadata": {},
   "source": [
    "## 1.3. CGR\n",
    "*CGRContainer* object is similar to *MoleculeConrtainer*, except some methods. The following methods are not suppoted for *CGRContainer*:\n",
    "\n",
    "* aromatize\n",
    "* standardize\n",
    "* implicify_hydrogens\n",
    "* explicify_hydrogens\n",
    "* atom_implicit_h\n",
    "* atom_explicit_h\n",
    "* atom_total_h\n",
    "* check_valence\n",
    "\n",
    "*CGRContainer* also has some methods absent in *MoleculeConrtainer*:\n",
    "\n",
    "* centers_list\n",
    "* center_atoms\n",
    "* center_bonds\n",
    "\n",
    "*CGRContainer* is undirected graph. Atoms and bonds in CGR has two states: reactant and product."
   ]
  },
  {
   "cell_type": "markdown",
   "metadata": {},
   "source": [
    "#### Composing to CGR\n",
    "\n",
    "As mentioned above, atoms in *MoleculeContainer* have unique numbers. These numbers are used as atom-to-atom mapping in CGRtools upon CGR creation. Thus, atom order for molecules in reaction should correspond to atom-to-atom mapping.  \n",
    "\n",
    "Pair of molecules can be transformed into CGR. Notice that, the same atom numbers in reagents and products imply the same atoms.\n",
    "\n",
    "Reaction also can be composed into CGR. Atom numbers of molecules in reaction are used as atom-to-atom mapping of reactants to products."
   ]
  },
  {
   "cell_type": "code",
   "execution_count": 73,
   "metadata": {},
   "outputs": [
    {
     "name": "stdout",
     "output_type": "stream",
     "text": [
      "C:1:C:C(:C:C:C:1-[N+](-[O-])=O)-O>>C:1:C:C(:C:C:C:1.[N+](-[O-])=O).O\n"
     ]
    }
   ],
   "source": [
    "cgr1 = m7 ^ m8 # CGR from molecules\n",
    "# or \n",
    "m7.compose(m8)\n",
    "\n",
    "print(cgr1)  # CGRcontainer object currently doesn't support depiction. CGR signature is printed out."
   ]
  },
  {
   "cell_type": "markdown",
   "metadata": {},
   "source": [
    "This is CGR (depiction is made by ChemAxon externally). You can see changed bonds connected to ring.\n",
    "![cgr1.png](cgr1.png)"
   ]
  },
  {
   "cell_type": "code",
   "execution_count": 74,
   "metadata": {},
   "outputs": [
    {
     "data": {
      "image/svg+xml": [
       "<svg width=\"16.92cm\" height=\"3.14cm\" viewBox=\"-0.50 -2.64 16.92 3.14\" xmlns=\"http://www.w3.org/2000/svg\" version=\"1.1\">\n",
       "  <defs><marker id=\"arrow\" markerWidth=\"10\" markerHeight=\"10\" refX=\"0\" refY=\"3\" orient=\"auto\"><path d=\"M0,0 L0,6 L9,3 z\" /></marker></defs>\n",
       "  <line x1=\"7.92\" y1=\"-1\" x2=\"9.92\" y2=\"-1\" fill=\"none\" stroke=\"black\" stroke-width=\".04\" marker-end=\"url(#arrow)\" />\n",
       "  <g font-family=\"sans-serif\">\n",
       "    <g fill=\"#FF0D0D\">\n",
       "      <text x=\"1.29\" y=\"-0.27\" font-size=\"0.40\">O</text>\n",
       "    </g>\n",
       "  </g>\n",
       "  <g fill=\"none\" stroke=\"black\" stroke-width=\".03\">\n",
       "    <line x1=\"0.00\" y1=\"-0.41\" x2=\"0.71\" y2=\"-0.00\" />\n",
       "    <line x1=\"0.71\" y1=\"-0.00\" x2=\"1.25\" y2=\"-0.31\" />\n",
       "  </g>\n",
       "  <g font-family=\"sans-serif\">\n",
       "    <g fill=\"#FF0D0D\">\n",
       "      <text x=\"3.11\" y=\"-2.00\" font-size=\"0.40\">O</text>\n",
       "    </g>\n",
       "    <g fill=\"#FF0D0D\">\n",
       "      <text x=\"4.35\" y=\"-1.29\" font-size=\"0.40\">O</text>\n",
       "    </g>\n",
       "    <g fill=\"#FF0D0D\">\n",
       "      <text x=\"3.53\" y=\"0.14\" font-size=\"0.40\">O</text>\n",
       "    </g>\n",
       "    <g fill=\"#FF0D0D\">\n",
       "      <text x=\"2.29\" y=\"-0.57\" font-size=\"0.40\">O</text>\n",
       "    </g>\n",
       "  </g>\n",
       "  <g fill=\"none\" stroke=\"black\" stroke-width=\".03\">\n",
       "    <line x1=\"3.67\" y1=\"-1.43\" x2=\"3.25\" y2=\"-0.71\" />\n",
       "    <line x1=\"3.70\" y1=\"-1.45\" x2=\"3.39\" y2=\"-1.98\" />\n",
       "    <line x1=\"3.63\" y1=\"-1.41\" x2=\"3.32\" y2=\"-1.94\" />\n",
       "    <line x1=\"3.67\" y1=\"-1.43\" x2=\"4.28\" y2=\"-1.43\" />\n",
       "    <line x1=\"3.22\" y1=\"-0.69\" x2=\"3.53\" y2=\"-0.16\" />\n",
       "    <line x1=\"3.29\" y1=\"-0.73\" x2=\"3.60\" y2=\"-0.20\" />\n",
       "    <line x1=\"3.25\" y1=\"-0.71\" x2=\"2.64\" y2=\"-0.71\" />\n",
       "  </g>\n",
       "  <g font-family=\"sans-serif\">\n",
       "    <g fill=\"#FF0D0D\">\n",
       "      <text x=\"6.78\" y=\"-0.27\" font-size=\"0.40\">O</text>\n",
       "      <text x=\"7.06\" y=\"-0.55\" font-size=\"0.30\">⁃</text>\n",
       "    </g>\n",
       "  </g>\n",
       "  <g fill=\"none\" stroke=\"black\" stroke-width=\".03\">\n",
       "    <line x1=\"6.21\" y1=\"-0.00\" x2=\"5.49\" y2=\"-0.41\" />\n",
       "    <line x1=\"6.21\" y1=\"-0.00\" x2=\"6.74\" y2=\"-0.31\" />\n",
       "  </g>\n",
       "  <g font-family=\"sans-serif\">\n",
       "    <g fill=\"#FF0D0D\">\n",
       "      <text x=\"14.35\" y=\"-1.10\" font-size=\"0.40\">O</text>\n",
       "    </g>\n",
       "    <g fill=\"#FF0D0D\">\n",
       "      <text x=\"12.21\" y=\"-0.69\" font-size=\"0.40\">O</text>\n",
       "    </g>\n",
       "    <g fill=\"#FF0D0D\">\n",
       "      <text x=\"12.92\" y=\"-1.92\" font-size=\"0.40\">O</text>\n",
       "    </g>\n",
       "    <g fill=\"#FF0D0D\">\n",
       "      <text x=\"13.64\" y=\"0.14\" font-size=\"0.40\">O</text>\n",
       "    </g>\n",
       "  </g>\n",
       "  <g fill=\"none\" stroke=\"black\" stroke-width=\".03\">\n",
       "    <line x1=\"13.78\" y1=\"-0.83\" x2=\"13.06\" y2=\"-1.24\" />\n",
       "    <line x1=\"13.78\" y1=\"-0.83\" x2=\"14.31\" y2=\"-1.13\" />\n",
       "    <line x1=\"13.74\" y1=\"-0.83\" x2=\"13.74\" y2=\"-0.21\" />\n",
       "    <line x1=\"13.82\" y1=\"-0.83\" x2=\"13.82\" y2=\"-0.21\" />\n",
       "    <line x1=\"13.06\" y1=\"-1.24\" x2=\"12.53\" y2=\"-0.93\" />\n",
       "    <line x1=\"13.10\" y1=\"-1.24\" x2=\"13.10\" y2=\"-1.85\" />\n",
       "    <line x1=\"13.02\" y1=\"-1.24\" x2=\"13.02\" y2=\"-1.85\" />\n",
       "    <line x1=\"14.67\" y1=\"-1.13\" x2=\"15.21\" y2=\"-0.83\" />\n",
       "    <line x1=\"12.17\" y1=\"-0.93\" x2=\"11.63\" y2=\"-1.24\" />\n",
       "    <line x1=\"15.21\" y1=\"-0.83\" x2=\"15.92\" y2=\"-1.24\" />\n",
       "    <line x1=\"11.63\" y1=\"-1.24\" x2=\"10.92\" y2=\"-0.83\" />\n",
       "  </g>\n",
       "</svg>"
      ],
      "text/plain": [
       "<CGRtools.containers.reaction.ReactionContainer at 0x7f7184ade6a8>"
      ]
     },
     "execution_count": 74,
     "metadata": {},
     "output_type": "execute_result"
    }
   ],
   "source": [
    "r1"
   ]
  },
  {
   "cell_type": "code",
   "execution_count": 75,
   "metadata": {},
   "outputs": [
    {
     "name": "stdout",
     "output_type": "stream",
     "text": [
      "C-C-[O-].C(=O)(-O)-C(=O)(-O).O-C-C>>C-C-O-C(=O)(.O)-C(=O)(.O)-O-C-C\n"
     ]
    }
   ],
   "source": [
    "cgr2 = ~r1 # CGR from reactions\n",
    "\n",
    "# or \n",
    "\n",
    "r1.compose()\n",
    "print(cgr2) # signature is printed out."
   ]
  },
  {
   "cell_type": "markdown",
   "metadata": {},
   "source": [
    "It is CGR for reaction (depiction is made by ChemAxon externally).\n",
    "![cgr2.png](cgr2.png)"
   ]
  },
  {
   "cell_type": "code",
   "execution_count": 76,
   "metadata": {},
   "outputs": [],
   "source": [
    "cgr2.reset_query_marks() # CGRs also has reset_query_marks method"
   ]
  },
  {
   "cell_type": "code",
   "execution_count": 77,
   "metadata": {},
   "outputs": [],
   "source": [
    "a = cgr2.atom(2) # atom access is the same as for MoleculeContainer"
   ]
  },
  {
   "cell_type": "code",
   "execution_count": 78,
   "metadata": {},
   "outputs": [
    {
     "data": {
      "text/plain": [
       "'O'"
      ]
     },
     "execution_count": 78,
     "metadata": {},
     "output_type": "execute_result"
    }
   ],
   "source": [
    "a.element # element attribute\n",
    "\n",
    "# or \n",
    "\n",
    "a['element']"
   ]
  },
  {
   "cell_type": "code",
   "execution_count": 79,
   "metadata": {},
   "outputs": [
    {
     "data": {
      "text/plain": [
       "16"
      ]
     },
     "execution_count": 79,
     "metadata": {},
     "output_type": "execute_result"
    }
   ],
   "source": [
    "a.isotope # isotope attribute\n",
    "\n",
    "# or \n",
    "\n",
    "a['isotope']"
   ]
  },
  {
   "cell_type": "markdown",
   "metadata": {},
   "source": [
    "For *CGRContainer* attributes `charge`, `multiplicity`, `x`, `y`, `z`, `neighbors` and `hybridization` refer to atom state in reactant of reaction;  arguments `p_charge`, `p_multiplicity`, `p_x`, `p_y`, `p_z`, `p_neighbors` and `p_hybridization` could be used to extract atom state in product part in reaction."
   ]
  },
  {
   "cell_type": "code",
   "execution_count": 80,
   "metadata": {},
   "outputs": [
    {
     "data": {
      "text/plain": [
       "-1"
      ]
     },
     "execution_count": 80,
     "metadata": {},
     "output_type": "execute_result"
    }
   ],
   "source": [
    "a.charge # charge of atom in reactant\n",
    "\n",
    "# or \n",
    "\n",
    "a['charge']"
   ]
  },
  {
   "cell_type": "code",
   "execution_count": 81,
   "metadata": {},
   "outputs": [
    {
     "data": {
      "text/plain": [
       "0"
      ]
     },
     "execution_count": 81,
     "metadata": {},
     "output_type": "execute_result"
    }
   ],
   "source": [
    "a.p_charge # charge of atom in product\n",
    "\n",
    "#or \n",
    "\n",
    "a['p_charge']"
   ]
  },
  {
   "cell_type": "code",
   "execution_count": 82,
   "metadata": {},
   "outputs": [],
   "source": [
    "a.p_multiplicity # multiplicity of atom in product. It is None and thus not returned"
   ]
  },
  {
   "cell_type": "code",
   "execution_count": 83,
   "metadata": {},
   "outputs": [
    {
     "data": {
      "text/plain": [
       "0.0"
      ]
     },
     "execution_count": 83,
     "metadata": {},
     "output_type": "execute_result"
    }
   ],
   "source": [
    "a.p_x  # coordinates of atom in product\n",
    "a.p_y\n",
    "a.p_z"
   ]
  },
  {
   "cell_type": "code",
   "execution_count": 84,
   "metadata": {},
   "outputs": [
    {
     "data": {
      "text/plain": [
       "1"
      ]
     },
     "execution_count": 84,
     "metadata": {},
     "output_type": "execute_result"
    }
   ],
   "source": [
    "a.neighbors # number of neighbors of atom in reactant"
   ]
  },
  {
   "cell_type": "code",
   "execution_count": 85,
   "metadata": {},
   "outputs": [
    {
     "data": {
      "text/plain": [
       "2"
      ]
     },
     "execution_count": 85,
     "metadata": {},
     "output_type": "execute_result"
    }
   ],
   "source": [
    "a.p_neighbors # number of neighbors of atom in product"
   ]
  },
  {
   "cell_type": "code",
   "execution_count": 86,
   "metadata": {},
   "outputs": [
    {
     "data": {
      "text/plain": [
       "1"
      ]
     },
     "execution_count": 86,
     "metadata": {},
     "output_type": "execute_result"
    }
   ],
   "source": [
    "a.hybridization # hybridization of atom in reactant. 1 means only single bonds are incident to atom"
   ]
  },
  {
   "cell_type": "code",
   "execution_count": 87,
   "metadata": {},
   "outputs": [
    {
     "data": {
      "text/plain": [
       "1"
      ]
     },
     "execution_count": 87,
     "metadata": {},
     "output_type": "execute_result"
    }
   ],
   "source": [
    "a.p_hybridization # hybridization of atom in product. 1 means only single bonds are incident to atom"
   ]
  },
  {
   "cell_type": "code",
   "execution_count": 88,
   "metadata": {},
   "outputs": [],
   "source": [
    "b = cgr1.bond(4, 10) # take bond"
   ]
  },
  {
   "cell_type": "markdown",
   "metadata": {},
   "source": [
    "#### Bonds has `order` and `p_order` attribute\n",
    "If `order` attribute value is ***None***, it means that bond was formed  \n",
    "If `p_order` is ***None***, it means that bond was broken  \n",
    "\n",
    "Both `order` and `p_order` can't be ***None***"
   ]
  },
  {
   "cell_type": "code",
   "execution_count": 89,
   "metadata": {},
   "outputs": [
    {
     "data": {
      "text/plain": [
       "1"
      ]
     },
     "execution_count": 89,
     "metadata": {},
     "output_type": "execute_result"
    }
   ],
   "source": [
    "b.order # bond order in reactant"
   ]
  },
  {
   "cell_type": "code",
   "execution_count": 90,
   "metadata": {},
   "outputs": [
    {
     "data": {
      "text/plain": [
       "True"
      ]
     },
     "execution_count": 90,
     "metadata": {},
     "output_type": "execute_result"
    }
   ],
   "source": [
    "b.p_order is None # bond order in product in None"
   ]
  },
  {
   "cell_type": "markdown",
   "metadata": {},
   "source": [
    "**CGR can be decomposed back to reaction**, i.e. reactants and products.\n",
    "\n",
    "Notice that CGR can lose information in case of unbalanced reactions (where some atoms of reactant does not have counterpart in product, and vice versa). Decomposition of CGRs for unbalanced reactions back to reaction may lead to strange (and erroneous) structures."
   ]
  },
  {
   "cell_type": "code",
   "execution_count": 91,
   "metadata": {},
   "outputs": [
    {
     "data": {
      "text/plain": [
       "(<CGRtools.containers.molecule.MoleculeContainer at 0x7f7184ab0098>,\n",
       " <CGRtools.containers.molecule.MoleculeContainer at 0x7f7184ab0138>)"
      ]
     },
     "execution_count": 91,
     "metadata": {},
     "output_type": "execute_result"
    }
   ],
   "source": [
    "reactant_part, product_part = ~cgr1 # CGR of unbalanced reaction is decomposed back into reaction\n",
    "# or \n",
    "cgr1.decompose()"
   ]
  },
  {
   "cell_type": "code",
   "execution_count": 92,
   "metadata": {},
   "outputs": [
    {
     "data": {
      "image/svg+xml": [
       "<svg width=\"2.43cm\" height=\"4.71cm\" viewBox=\"1.93 -4.21 2.43 4.71\" xmlns=\"http://www.w3.org/2000/svg\" version=\"1.1\">\n",
       "  <g font-family=\"sans-serif\">\n",
       "    <g fill=\"#3050F8\">\n",
       "      <text x=\"3.00\" y=\"-3.16\" font-size=\"0.40\">N</text>\n",
       "      <text x=\"3.28\" y=\"-3.44\" font-size=\"0.30\">+</text>\n",
       "    </g>\n",
       "    <g fill=\"#FF0D0D\">\n",
       "      <text x=\"2.29\" y=\"-3.57\" font-size=\"0.40\">O</text>\n",
       "      <text x=\"2.57\" y=\"-3.85\" font-size=\"0.30\">⁃</text>\n",
       "    </g>\n",
       "    <g fill=\"#FF0D0D\">\n",
       "      <text x=\"3.72\" y=\"-3.57\" font-size=\"0.40\">O</text>\n",
       "    </g>\n",
       "    <g fill=\"#FF0D0D\">\n",
       "      <text x=\"3.00\" y=\"0.14\" font-size=\"0.40\">O</text>\n",
       "    </g>\n",
       "  </g>\n",
       "  <g fill=\"none\" stroke=\"black\" stroke-width=\".03\">\n",
       "    <line x1=\"3.14\" y1=\"-3.09\" x2=\"3.14\" y2=\"-2.48\" />\n",
       "    <line x1=\"2.96\" y1=\"-3.41\" x2=\"2.61\" y2=\"-3.61\" />\n",
       "    <line x1=\"3.35\" y1=\"-3.37\" x2=\"3.70\" y2=\"-3.57\" />\n",
       "    <line x1=\"3.31\" y1=\"-3.44\" x2=\"3.66\" y2=\"-3.64\" />\n",
       "    <line x1=\"3.14\" y1=\"-0.21\" x2=\"3.14\" y2=\"-0.82\" />\n",
       "    <line x1=\"3.14\" y1=\"-2.48\" x2=\"3.86\" y2=\"-2.06\" />\n",
       "    <line x1=\"3.18\" y1=\"-2.54\" x2=\"3.90\" y2=\"-2.13\" stroke-dasharray=\"0.20 0.10\" />\n",
       "    <line x1=\"3.14\" y1=\"-2.48\" x2=\"2.43\" y2=\"-2.06\" />\n",
       "    <line x1=\"3.18\" y1=\"-2.41\" x2=\"2.47\" y2=\"-1.99\" stroke-dasharray=\"0.20 0.10\" />\n",
       "    <line x1=\"3.86\" y1=\"-2.06\" x2=\"3.86\" y2=\"-1.24\" />\n",
       "    <line x1=\"3.94\" y1=\"-2.06\" x2=\"3.94\" y2=\"-1.24\" stroke-dasharray=\"0.20 0.10\" />\n",
       "    <line x1=\"3.86\" y1=\"-1.24\" x2=\"3.14\" y2=\"-0.82\" />\n",
       "    <line x1=\"3.90\" y1=\"-1.17\" x2=\"3.18\" y2=\"-0.76\" stroke-dasharray=\"0.20 0.10\" />\n",
       "    <line x1=\"3.14\" y1=\"-0.82\" x2=\"2.43\" y2=\"-1.24\" />\n",
       "    <line x1=\"3.10\" y1=\"-0.76\" x2=\"2.39\" y2=\"-1.17\" stroke-dasharray=\"0.20 0.10\" />\n",
       "    <line x1=\"2.43\" y1=\"-1.24\" x2=\"2.43\" y2=\"-2.06\" />\n",
       "    <line x1=\"2.35\" y1=\"-1.24\" x2=\"2.35\" y2=\"-2.06\" stroke-dasharray=\"0.20 0.10\" />\n",
       "  </g>\n",
       "</svg>"
      ],
      "text/plain": [
       "<CGRtools.containers.molecule.MoleculeContainer at 0x7f7184a20a48>"
      ]
     },
     "execution_count": 92,
     "metadata": {},
     "output_type": "execute_result"
    }
   ],
   "source": [
    "reactant_part # reactants extracted. One can notice it is initial molecule"
   ]
  },
  {
   "cell_type": "code",
   "execution_count": 93,
   "metadata": {},
   "outputs": [
    {
     "data": {
      "image/svg+xml": [
       "<svg width=\"2.43cm\" height=\"4.71cm\" viewBox=\"1.93 -4.21 2.43 4.71\" xmlns=\"http://www.w3.org/2000/svg\" version=\"1.1\">\n",
       "  <g font-family=\"sans-serif\">\n",
       "    <g fill=\"#3050F8\">\n",
       "      <text x=\"3.00\" y=\"-3.16\" font-size=\"0.40\">N</text>\n",
       "      <text x=\"3.28\" y=\"-3.44\" font-size=\"0.30\">+</text>\n",
       "    </g>\n",
       "    <g fill=\"#FF0D0D\">\n",
       "      <text x=\"2.29\" y=\"-3.57\" font-size=\"0.40\">O</text>\n",
       "      <text x=\"2.57\" y=\"-3.85\" font-size=\"0.30\">⁃</text>\n",
       "    </g>\n",
       "    <g fill=\"#FF0D0D\">\n",
       "      <text x=\"3.72\" y=\"-3.57\" font-size=\"0.40\">O</text>\n",
       "    </g>\n",
       "    <g fill=\"#FF0D0D\">\n",
       "      <text x=\"3.00\" y=\"0.14\" font-size=\"0.40\">O</text>\n",
       "    </g>\n",
       "  </g>\n",
       "  <g fill=\"none\" stroke=\"black\" stroke-width=\".03\">\n",
       "    <line x1=\"2.96\" y1=\"-3.41\" x2=\"2.61\" y2=\"-3.61\" />\n",
       "    <line x1=\"3.35\" y1=\"-3.37\" x2=\"3.70\" y2=\"-3.57\" />\n",
       "    <line x1=\"3.31\" y1=\"-3.44\" x2=\"3.66\" y2=\"-3.64\" />\n",
       "    <line x1=\"3.14\" y1=\"-2.48\" x2=\"3.86\" y2=\"-2.06\" />\n",
       "    <line x1=\"3.18\" y1=\"-2.54\" x2=\"3.90\" y2=\"-2.13\" stroke-dasharray=\"0.20 0.10\" />\n",
       "    <line x1=\"3.14\" y1=\"-2.48\" x2=\"2.43\" y2=\"-2.06\" />\n",
       "    <line x1=\"3.18\" y1=\"-2.41\" x2=\"2.47\" y2=\"-1.99\" stroke-dasharray=\"0.20 0.10\" />\n",
       "    <line x1=\"3.86\" y1=\"-2.06\" x2=\"3.86\" y2=\"-1.24\" />\n",
       "    <line x1=\"3.94\" y1=\"-2.06\" x2=\"3.94\" y2=\"-1.24\" stroke-dasharray=\"0.20 0.10\" />\n",
       "    <line x1=\"3.86\" y1=\"-1.24\" x2=\"3.14\" y2=\"-0.82\" />\n",
       "    <line x1=\"3.90\" y1=\"-1.17\" x2=\"3.18\" y2=\"-0.76\" stroke-dasharray=\"0.20 0.10\" />\n",
       "    <line x1=\"3.14\" y1=\"-0.82\" x2=\"2.43\" y2=\"-1.24\" />\n",
       "    <line x1=\"3.10\" y1=\"-0.76\" x2=\"2.39\" y2=\"-1.17\" stroke-dasharray=\"0.20 0.10\" />\n",
       "    <line x1=\"2.43\" y1=\"-1.24\" x2=\"2.43\" y2=\"-2.06\" />\n",
       "    <line x1=\"2.35\" y1=\"-1.24\" x2=\"2.35\" y2=\"-2.06\" stroke-dasharray=\"0.20 0.10\" />\n",
       "  </g>\n",
       "</svg>"
      ],
      "text/plain": [
       "<CGRtools.containers.molecule.MoleculeContainer at 0x7f7184a20ea8>"
      ]
     },
     "execution_count": 93,
     "metadata": {},
     "output_type": "execute_result"
    }
   ],
   "source": [
    "product_part #extracted products. Originally benzene was the product."
   ]
  },
  {
   "cell_type": "markdown",
   "metadata": {},
   "source": [
    "For decomposition of *CGRContainer* back into *ReactionContainer* `CGRpreparer` class can be used. `CGRpreparer` is callable object"
   ]
  },
  {
   "cell_type": "code",
   "execution_count": 94,
   "metadata": {},
   "outputs": [],
   "source": [
    "from CGRtools import CGRpreparer # import of CGRpreparer\n",
    "preparer = CGRpreparer()         # initialization of CGRpreparer"
   ]
  },
  {
   "cell_type": "code",
   "execution_count": 95,
   "metadata": {},
   "outputs": [],
   "source": [
    "decomposed = preparer.decompose(cgr2) # decomposition of CGR2 into reaction"
   ]
  },
  {
   "cell_type": "code",
   "execution_count": 96,
   "metadata": {},
   "outputs": [
    {
     "data": {
      "image/svg+xml": [
       "<svg width=\"18.92cm\" height=\"3.14cm\" viewBox=\"-0.50 -2.64 18.92 3.14\" xmlns=\"http://www.w3.org/2000/svg\" version=\"1.1\">\n",
       "  <defs><marker id=\"arrow\" markerWidth=\"10\" markerHeight=\"10\" refX=\"0\" refY=\"3\" orient=\"auto\"><path d=\"M0,0 L0,6 L9,3 z\" /></marker></defs>\n",
       "  <line x1=\"7.92\" y1=\"-1\" x2=\"9.92\" y2=\"-1\" fill=\"none\" stroke=\"black\" stroke-width=\".04\" marker-end=\"url(#arrow)\" />\n",
       "  <g font-family=\"sans-serif\">\n",
       "    <g fill=\"#FF0D0D\">\n",
       "      <text x=\"1.92\" y=\"-1.29\" font-size=\"0.40\">O</text>\n",
       "    </g>\n",
       "    <g fill=\"#FF0D0D\">\n",
       "      <text x=\"-0.14\" y=\"-0.57\" font-size=\"0.40\">O</text>\n",
       "    </g>\n",
       "    <g fill=\"#FF0D0D\">\n",
       "      <text x=\"0.68\" y=\"-2.00\" font-size=\"0.40\">O</text>\n",
       "    </g>\n",
       "    <g fill=\"#FF0D0D\">\n",
       "      <text x=\"1.10\" y=\"0.14\" font-size=\"0.40\">O</text>\n",
       "    </g>\n",
       "  </g>\n",
       "  <g fill=\"none\" stroke=\"black\" stroke-width=\".03\">\n",
       "    <line x1=\"1.85\" y1=\"-1.43\" x2=\"1.24\" y2=\"-1.43\" />\n",
       "    <line x1=\"0.21\" y1=\"-0.71\" x2=\"0.82\" y2=\"-0.71\" />\n",
       "    <line x1=\"1.24\" y1=\"-1.43\" x2=\"0.82\" y2=\"-0.71\" />\n",
       "    <line x1=\"1.27\" y1=\"-1.45\" x2=\"0.96\" y2=\"-1.98\" />\n",
       "    <line x1=\"1.20\" y1=\"-1.41\" x2=\"0.90\" y2=\"-1.94\" />\n",
       "    <line x1=\"0.79\" y1=\"-0.69\" x2=\"1.10\" y2=\"-0.16\" />\n",
       "    <line x1=\"0.86\" y1=\"-0.73\" x2=\"1.17\" y2=\"-0.20\" />\n",
       "  </g>\n",
       "  <g font-family=\"sans-serif\">\n",
       "    <g fill=\"#FF0D0D\">\n",
       "      <text x=\"4.35\" y=\"-0.27\" font-size=\"0.40\">O</text>\n",
       "    </g>\n",
       "  </g>\n",
       "  <g fill=\"none\" stroke=\"black\" stroke-width=\".03\">\n",
       "    <line x1=\"4.31\" y1=\"-0.31\" x2=\"3.78\" y2=\"-0.00\" />\n",
       "    <line x1=\"3.06\" y1=\"-0.41\" x2=\"3.78\" y2=\"-0.00\" />\n",
       "  </g>\n",
       "  <g font-family=\"sans-serif\">\n",
       "    <g fill=\"#FF0D0D\">\n",
       "      <text x=\"6.78\" y=\"-0.27\" font-size=\"0.40\">O</text>\n",
       "      <text x=\"7.06\" y=\"-0.55\" font-size=\"0.30\">⁃</text>\n",
       "    </g>\n",
       "  </g>\n",
       "  <g fill=\"none\" stroke=\"black\" stroke-width=\".03\">\n",
       "    <line x1=\"6.74\" y1=\"-0.31\" x2=\"6.21\" y2=\"-0.00\" />\n",
       "    <line x1=\"6.21\" y1=\"-0.00\" x2=\"5.49\" y2=\"-0.41\" />\n",
       "  </g>\n",
       "  <g font-family=\"sans-serif\">\n",
       "    <g fill=\"#FF0D0D\">\n",
       "      <text x=\"10.78\" y=\"0.14\" font-size=\"0.40\">O</text>\n",
       "    </g>\n",
       "  </g>\n",
       "  <g fill=\"none\" stroke=\"black\" stroke-width=\".03\">\n",
       "  </g>\n",
       "  <g font-family=\"sans-serif\">\n",
       "    <g fill=\"#FF0D0D\">\n",
       "      <text x=\"11.78\" y=\"0.14\" font-size=\"0.40\">O</text>\n",
       "    </g>\n",
       "  </g>\n",
       "  <g fill=\"none\" stroke=\"black\" stroke-width=\".03\">\n",
       "  </g>\n",
       "  <g font-family=\"sans-serif\">\n",
       "    <g fill=\"#FF0D0D\">\n",
       "      <text x=\"14.21\" y=\"-0.69\" font-size=\"0.40\">O</text>\n",
       "    </g>\n",
       "    <g fill=\"#FF0D0D\">\n",
       "      <text x=\"16.35\" y=\"-1.10\" font-size=\"0.40\">O</text>\n",
       "    </g>\n",
       "    <g fill=\"#FF0D0D\">\n",
       "      <text x=\"15.64\" y=\"0.14\" font-size=\"0.40\">O</text>\n",
       "    </g>\n",
       "    <g fill=\"#FF0D0D\">\n",
       "      <text x=\"14.92\" y=\"-1.92\" font-size=\"0.40\">O</text>\n",
       "    </g>\n",
       "  </g>\n",
       "  <g fill=\"none\" stroke=\"black\" stroke-width=\".03\">\n",
       "    <line x1=\"14.17\" y1=\"-0.93\" x2=\"13.63\" y2=\"-1.24\" />\n",
       "    <line x1=\"14.53\" y1=\"-0.93\" x2=\"15.06\" y2=\"-1.24\" />\n",
       "    <line x1=\"16.67\" y1=\"-1.13\" x2=\"17.21\" y2=\"-0.83\" />\n",
       "    <line x1=\"16.31\" y1=\"-1.13\" x2=\"15.78\" y2=\"-0.83\" />\n",
       "    <line x1=\"12.92\" y1=\"-0.83\" x2=\"13.63\" y2=\"-1.24\" />\n",
       "    <line x1=\"15.78\" y1=\"-0.83\" x2=\"15.06\" y2=\"-1.24\" />\n",
       "    <line x1=\"15.74\" y1=\"-0.83\" x2=\"15.74\" y2=\"-0.21\" />\n",
       "    <line x1=\"15.82\" y1=\"-0.83\" x2=\"15.82\" y2=\"-0.21\" />\n",
       "    <line x1=\"15.10\" y1=\"-1.24\" x2=\"15.10\" y2=\"-1.85\" />\n",
       "    <line x1=\"15.02\" y1=\"-1.24\" x2=\"15.02\" y2=\"-1.85\" />\n",
       "    <line x1=\"17.21\" y1=\"-0.83\" x2=\"17.92\" y2=\"-1.24\" />\n",
       "  </g>\n",
       "</svg>"
      ],
      "text/plain": [
       "<CGRtools.containers.reaction.ReactionContainer at 0x7f7184a78948>"
      ]
     },
     "execution_count": 96,
     "metadata": {},
     "output_type": "execute_result"
    }
   ],
   "source": [
    "decomposed # You can see that water absent in products initially was restored. \n",
    "# This is a side-effect of CGR decomposing that could help with reaction balancing. \n",
    "# But balancing using CGR decomposition works correctly only if minor part atoms are lost \n",
    "# but multiplicity and formal charge are saved. In next release electronic state balansing will be added."
   ]
  },
  {
   "cell_type": "code",
   "execution_count": 97,
   "metadata": {},
   "outputs": [
    {
     "data": {
      "image/svg+xml": [
       "<svg width=\"16.92cm\" height=\"3.14cm\" viewBox=\"-0.50 -2.64 16.92 3.14\" xmlns=\"http://www.w3.org/2000/svg\" version=\"1.1\">\n",
       "  <defs><marker id=\"arrow\" markerWidth=\"10\" markerHeight=\"10\" refX=\"0\" refY=\"3\" orient=\"auto\"><path d=\"M0,0 L0,6 L9,3 z\" /></marker></defs>\n",
       "  <line x1=\"7.92\" y1=\"-1\" x2=\"9.92\" y2=\"-1\" fill=\"none\" stroke=\"black\" stroke-width=\".04\" marker-end=\"url(#arrow)\" />\n",
       "  <g font-family=\"sans-serif\">\n",
       "    <g fill=\"#FF0D0D\">\n",
       "      <text x=\"1.29\" y=\"-0.27\" font-size=\"0.40\">O</text>\n",
       "    </g>\n",
       "  </g>\n",
       "  <g fill=\"none\" stroke=\"black\" stroke-width=\".03\">\n",
       "    <line x1=\"0.00\" y1=\"-0.41\" x2=\"0.71\" y2=\"-0.00\" />\n",
       "    <line x1=\"0.71\" y1=\"-0.00\" x2=\"1.25\" y2=\"-0.31\" />\n",
       "  </g>\n",
       "  <g font-family=\"sans-serif\">\n",
       "    <g fill=\"#FF0D0D\">\n",
       "      <text x=\"3.11\" y=\"-2.00\" font-size=\"0.40\">O</text>\n",
       "    </g>\n",
       "    <g fill=\"#FF0D0D\">\n",
       "      <text x=\"4.35\" y=\"-1.29\" font-size=\"0.40\">O</text>\n",
       "    </g>\n",
       "    <g fill=\"#FF0D0D\">\n",
       "      <text x=\"3.53\" y=\"0.14\" font-size=\"0.40\">O</text>\n",
       "    </g>\n",
       "    <g fill=\"#FF0D0D\">\n",
       "      <text x=\"2.29\" y=\"-0.57\" font-size=\"0.40\">O</text>\n",
       "    </g>\n",
       "  </g>\n",
       "  <g fill=\"none\" stroke=\"black\" stroke-width=\".03\">\n",
       "    <line x1=\"3.67\" y1=\"-1.43\" x2=\"3.25\" y2=\"-0.71\" />\n",
       "    <line x1=\"3.70\" y1=\"-1.45\" x2=\"3.39\" y2=\"-1.98\" />\n",
       "    <line x1=\"3.63\" y1=\"-1.41\" x2=\"3.32\" y2=\"-1.94\" />\n",
       "    <line x1=\"3.67\" y1=\"-1.43\" x2=\"4.28\" y2=\"-1.43\" />\n",
       "    <line x1=\"3.22\" y1=\"-0.69\" x2=\"3.53\" y2=\"-0.16\" />\n",
       "    <line x1=\"3.29\" y1=\"-0.73\" x2=\"3.60\" y2=\"-0.20\" />\n",
       "    <line x1=\"3.25\" y1=\"-0.71\" x2=\"2.64\" y2=\"-0.71\" />\n",
       "  </g>\n",
       "  <g font-family=\"sans-serif\">\n",
       "    <g fill=\"#FF0D0D\">\n",
       "      <text x=\"6.78\" y=\"-0.27\" font-size=\"0.40\">O</text>\n",
       "      <text x=\"7.06\" y=\"-0.55\" font-size=\"0.30\">⁃</text>\n",
       "    </g>\n",
       "  </g>\n",
       "  <g fill=\"none\" stroke=\"black\" stroke-width=\".03\">\n",
       "    <line x1=\"6.21\" y1=\"-0.00\" x2=\"5.49\" y2=\"-0.41\" />\n",
       "    <line x1=\"6.21\" y1=\"-0.00\" x2=\"6.74\" y2=\"-0.31\" />\n",
       "  </g>\n",
       "  <g font-family=\"sans-serif\">\n",
       "    <g fill=\"#FF0D0D\">\n",
       "      <text x=\"14.35\" y=\"-1.10\" font-size=\"0.40\">O</text>\n",
       "    </g>\n",
       "    <g fill=\"#FF0D0D\">\n",
       "      <text x=\"12.21\" y=\"-0.69\" font-size=\"0.40\">O</text>\n",
       "    </g>\n",
       "    <g fill=\"#FF0D0D\">\n",
       "      <text x=\"12.92\" y=\"-1.92\" font-size=\"0.40\">O</text>\n",
       "    </g>\n",
       "    <g fill=\"#FF0D0D\">\n",
       "      <text x=\"13.64\" y=\"0.14\" font-size=\"0.40\">O</text>\n",
       "    </g>\n",
       "  </g>\n",
       "  <g fill=\"none\" stroke=\"black\" stroke-width=\".03\">\n",
       "    <line x1=\"13.78\" y1=\"-0.83\" x2=\"13.06\" y2=\"-1.24\" />\n",
       "    <line x1=\"13.78\" y1=\"-0.83\" x2=\"14.31\" y2=\"-1.13\" />\n",
       "    <line x1=\"13.74\" y1=\"-0.83\" x2=\"13.74\" y2=\"-0.21\" />\n",
       "    <line x1=\"13.82\" y1=\"-0.83\" x2=\"13.82\" y2=\"-0.21\" />\n",
       "    <line x1=\"13.06\" y1=\"-1.24\" x2=\"12.53\" y2=\"-0.93\" />\n",
       "    <line x1=\"13.10\" y1=\"-1.24\" x2=\"13.10\" y2=\"-1.85\" />\n",
       "    <line x1=\"13.02\" y1=\"-1.24\" x2=\"13.02\" y2=\"-1.85\" />\n",
       "    <line x1=\"14.67\" y1=\"-1.13\" x2=\"15.21\" y2=\"-0.83\" />\n",
       "    <line x1=\"12.17\" y1=\"-0.93\" x2=\"11.63\" y2=\"-1.24\" />\n",
       "    <line x1=\"15.21\" y1=\"-0.83\" x2=\"15.92\" y2=\"-1.24\" />\n",
       "    <line x1=\"11.63\" y1=\"-1.24\" x2=\"10.92\" y2=\"-0.83\" />\n",
       "  </g>\n",
       "</svg>"
      ],
      "text/plain": [
       "<CGRtools.containers.reaction.ReactionContainer at 0x7f7184ade6a8>"
      ]
     },
     "execution_count": 97,
     "metadata": {},
     "output_type": "execute_result"
    }
   ],
   "source": [
    "r1 # compare with initial reaction"
   ]
  },
  {
   "cell_type": "markdown",
   "metadata": {},
   "source": [
    "## 1.4 Queries\n",
    "\n",
    "CGRtools supports special objects for Queries. Queries are designed for substructure isomorphism. User can set number of neighbors and hybridization by himself (in molecules they could be calculated but could not be changed).\n",
    "\n",
    "Queries don't have `reset_query_marks` method"
   ]
  },
  {
   "cell_type": "code",
   "execution_count": 98,
   "metadata": {},
   "outputs": [],
   "source": [
    "from CGRtools.containers import*"
   ]
  },
  {
   "cell_type": "code",
   "execution_count": 99,
   "metadata": {},
   "outputs": [
    {
     "data": {
      "image/svg+xml": [
       "<svg width=\"6.00cm\" height=\"3.06cm\" viewBox=\"10.42 -2.56 6.00 3.06\" xmlns=\"http://www.w3.org/2000/svg\" version=\"1.1\">\n",
       "  <g font-family=\"sans-serif\">\n",
       "    <g fill=\"#FF0D0D\">\n",
       "      <text x=\"14.35\" y=\"-1.10\" font-size=\"0.40\">O</text>\n",
       "    </g>\n",
       "    <g fill=\"#FF0D0D\">\n",
       "      <text x=\"12.21\" y=\"-0.69\" font-size=\"0.40\">O</text>\n",
       "    </g>\n",
       "    <g fill=\"#FF0D0D\">\n",
       "      <text x=\"12.92\" y=\"-1.92\" font-size=\"0.40\">O</text>\n",
       "    </g>\n",
       "    <g fill=\"#FF0D0D\">\n",
       "      <text x=\"13.64\" y=\"0.14\" font-size=\"0.40\">O</text>\n",
       "    </g>\n",
       "  </g>\n",
       "  <g fill=\"none\" stroke=\"black\" stroke-width=\".03\">\n",
       "    <line x1=\"13.78\" y1=\"-0.83\" x2=\"13.06\" y2=\"-1.24\" />\n",
       "    <line x1=\"13.78\" y1=\"-0.83\" x2=\"14.31\" y2=\"-1.13\" />\n",
       "    <line x1=\"13.74\" y1=\"-0.83\" x2=\"13.74\" y2=\"-0.21\" />\n",
       "    <line x1=\"13.82\" y1=\"-0.83\" x2=\"13.82\" y2=\"-0.21\" />\n",
       "    <line x1=\"13.06\" y1=\"-1.24\" x2=\"12.53\" y2=\"-0.93\" />\n",
       "    <line x1=\"13.10\" y1=\"-1.24\" x2=\"13.10\" y2=\"-1.85\" />\n",
       "    <line x1=\"13.02\" y1=\"-1.24\" x2=\"13.02\" y2=\"-1.85\" />\n",
       "    <line x1=\"14.67\" y1=\"-1.13\" x2=\"15.21\" y2=\"-0.83\" />\n",
       "    <line x1=\"12.17\" y1=\"-0.93\" x2=\"11.63\" y2=\"-1.24\" />\n",
       "    <line x1=\"15.21\" y1=\"-0.83\" x2=\"15.92\" y2=\"-1.24\" />\n",
       "    <line x1=\"11.63\" y1=\"-1.24\" x2=\"10.92\" y2=\"-0.83\" />\n",
       "  </g>\n",
       "</svg>"
      ],
      "text/plain": [
       "<CGRtools.containers.molecule.MoleculeContainer at 0x7f7184ae4ae8>"
      ]
     },
     "execution_count": 99,
     "metadata": {},
     "output_type": "execute_result"
    }
   ],
   "source": [
    "m10.reset_query_marks()\n",
    "m10 # ether"
   ]
  },
  {
   "cell_type": "code",
   "execution_count": 100,
   "metadata": {
    "scrolled": true
   },
   "outputs": [
    {
     "data": {
      "image/svg+xml": [
       "<svg width=\"1.71cm\" height=\"2.24cm\" viewBox=\"13.28 -1.74 1.71 2.24\" xmlns=\"http://www.w3.org/2000/svg\" version=\"1.1\">\n",
       "  <g font-family=\"sans-serif\">\n",
       "    <g fill=\"#FF0D0D\">\n",
       "      <text x=\"14.35\" y=\"-1.10\" font-size=\"0.40\">O</text>\n",
       "    </g>\n",
       "    <g fill=\"#FF0D0D\">\n",
       "      <text x=\"13.64\" y=\"0.14\" font-size=\"0.40\">O</text>\n",
       "    </g>\n",
       "  </g>\n",
       "  <g fill=\"none\" stroke=\"black\" stroke-width=\".03\">\n",
       "    <line x1=\"14.31\" y1=\"-1.13\" x2=\"13.78\" y2=\"-0.83\" />\n",
       "    <line x1=\"13.74\" y1=\"-0.83\" x2=\"13.74\" y2=\"-0.21\" />\n",
       "    <line x1=\"13.82\" y1=\"-0.83\" x2=\"13.82\" y2=\"-0.21\" />\n",
       "  </g>\n",
       "</svg>"
      ],
      "text/plain": [
       "<CGRtools.containers.molecule.MoleculeContainer at 0x7f7184ab0e58>"
      ]
     },
     "execution_count": 100,
     "metadata": {},
     "output_type": "execute_result"
    }
   ],
   "source": [
    "carb = m10.substructure([5,7,8, 2]) # extract projection of carboxyl fragment\n",
    "carb"
   ]
  },
  {
   "cell_type": "code",
   "execution_count": 101,
   "metadata": {},
   "outputs": [
    {
     "name": "stdout",
     "output_type": "stream",
     "text": [
      "[O;s2;]-[C;d3;]=[O;d1;]\n"
     ]
    }
   ],
   "source": [
    "q = QueryContainer(carb)  # convert fragment into query\n",
    "print(q) # QueryContainer don't support depiction yet but signatures can be extracted"
   ]
  },
  {
   "cell_type": "markdown",
   "metadata": {},
   "source": [
    "CGRs also can be transformed into Query.\n",
    "\n",
    "`QueryCGRContainer` is similar to QueryContainer class for CGRs and has the same API.\n",
    "\n",
    "`QueryCGRContainer` take into account state of atoms and bonds in reactant and product, including neighbors and hybridization"
   ]
  },
  {
   "cell_type": "code",
   "execution_count": 102,
   "metadata": {},
   "outputs": [
    {
     "name": "stdout",
     "output_type": "stream",
     "text": [
      "[C;a3;]:1(:[C;a2;]:[C;a2;]:[C;a3;](:[C;a2;]:[C;a2;]:1)-[O;s1;])-[N;d3;+](-[O;s1;-])=[O;d1;]>>[C;a2;]:1(:[C;a2;]:[C;a2;]:[C;a2;](:[C;a2;]:[C;a2;]:1).[O;s0;]).[N;d2;+](-[O;s1;-])=[O;d1;]\n"
     ]
    }
   ],
   "source": [
    "cgr1.reset_query_marks()        # cgr1 is CGRContaier its labels could be calculated \n",
    "cgr_q = QueryCGRContainer(cgr1) # transfrom CGRContainer into QueryCGRContainer\n",
    "print(cgr_q)                    # print out signature of query"
   ]
  },
  {
   "cell_type": "markdown",
   "metadata": {},
   "source": [
    "## 1.5. Molecules, CGRs, Reactions construction\n",
    "\n",
    "CGRtools has API for objects construction from scratch.\n",
    "\n",
    "CGR and Molecule has methods `add_atom` and `add_bond` for adding atoms and bonds."
   ]
  },
  {
   "cell_type": "code",
   "execution_count": 103,
   "metadata": {},
   "outputs": [],
   "source": [
    "from CGRtools.containers import *"
   ]
  },
  {
   "cell_type": "code",
   "execution_count": 104,
   "metadata": {},
   "outputs": [
    {
     "data": {
      "text/plain": [
       "4"
      ]
     },
     "execution_count": 104,
     "metadata": {},
     "output_type": "execute_result"
    }
   ],
   "source": [
    "m = MoleculeContainer() # new empty molecule\n",
    "\n",
    "m.add_atom('C')  # add Carbon atom using element symbol\n",
    "m.add_atom(6)    # add Carbon atom using element number. {'element': 6} is not valid, but {'element': 'O'} is also acceptable\n",
    "m.add_atom({'element': 'O', 'charge': -1}) # add negatively charged Oxygen atom. Similarly other atomic properties can be set\n",
    "\n",
    "# add_atom has second argument for setting atom number. \n",
    "# If not set, the next integer after the biggest among already created will be used.\n",
    "m.add_atom({'element': 'Na', 'charge': 1}, 4)"
   ]
  },
  {
   "cell_type": "code",
   "execution_count": 105,
   "metadata": {},
   "outputs": [],
   "source": [
    "m.add_bond(1, 2, 1) # add bond with order = 1 between atoms 1 and 2\n",
    "m.add_bond(3, 2, {'order': 1}) # the other possibility to set bond order"
   ]
  },
  {
   "cell_type": "code",
   "execution_count": 106,
   "metadata": {},
   "outputs": [
    {
     "data": {
      "image/svg+xml": [
       "<svg width=\"2.84cm\" height=\"1.95cm\" viewBox=\"-1.50 -1.10 2.84 1.95\" xmlns=\"http://www.w3.org/2000/svg\" version=\"1.1\">\n",
       "  <g font-family=\"sans-serif\">\n",
       "    <g fill=\"#FF0D0D\">\n",
       "      <text x=\"-1.14\" y=\"0.38\" font-size=\"0.40\">O</text>\n",
       "      <text x=\"-0.86\" y=\"0.10\" font-size=\"0.30\">⁃</text>\n",
       "    </g>\n",
       "    <g fill=\"#AB5CF2\">\n",
       "      <text x=\"-0.14\" y=\"0.14\" font-size=\"0.40\">Na</text>\n",
       "      <text x=\"0.14\" y=\"-0.14\" font-size=\"0.30\">+</text>\n",
       "    </g>\n",
       "  </g>\n",
       "  <g fill=\"none\" stroke=\"black\" stroke-width=\".03\">\n",
       "    <line x1=\"0.84\" y1=\"-0.60\" x2=\"0.16\" y2=\"0.35\" />\n",
       "    <line x1=\"0.16\" y1=\"0.35\" x2=\"-0.79\" y2=\"0.26\" />\n",
       "  </g>\n",
       "</svg>"
      ],
      "text/plain": [
       "<CGRtools.containers.molecule.MoleculeContainer at 0x7f7184abdef8>"
      ]
     },
     "execution_count": 106,
     "metadata": {},
     "output_type": "execute_result"
    }
   ],
   "source": [
    "m.calculate2d() #experimental function to calculate atom coordinates. Has number of flaws yet\n",
    "m"
   ]
  },
  {
   "cell_type": "markdown",
   "metadata": {},
   "source": [
    "Reactions can be constructed from molecules"
   ]
  },
  {
   "cell_type": "code",
   "execution_count": 107,
   "metadata": {},
   "outputs": [],
   "source": [
    "r = ReactionContainer() # empty reaction\n",
    "r.reactants.append(m1) # add reactant\n",
    "r.products.append(m11)  # add product\n",
    "# or\n",
    "r = ReactionContainer(reactants=[m1], products=[m11]) # one-step way to construct reaction\n",
    "# or\n",
    "r = ReactionContainer([m1], [m11]) # first list of MoleculeContainers is interpreted as reactants, second one - as products"
   ]
  },
  {
   "cell_type": "code",
   "execution_count": 108,
   "metadata": {},
   "outputs": [
    {
     "data": {
      "image/svg+xml": [
       "<svg width=\"7.14cm\" height=\"4.71cm\" viewBox=\"-0.50 -4.21 7.14 4.71\" xmlns=\"http://www.w3.org/2000/svg\" version=\"1.1\">\n",
       "  <defs><marker id=\"arrow\" markerWidth=\"10\" markerHeight=\"10\" refX=\"0\" refY=\"3\" orient=\"auto\"><path d=\"M0,0 L0,6 L9,3 z\" /></marker></defs>\n",
       "  <line x1=\"1.71\" y1=\"-1\" x2=\"3.71\" y2=\"-1\" fill=\"none\" stroke=\"black\" stroke-width=\".04\" marker-end=\"url(#arrow)\" />\n",
       "  <g font-family=\"sans-serif\">\n",
       "    <g fill=\"#FF0D0D\">\n",
       "      <text x=\"0.57\" y=\"-0.27\" font-size=\"0.40\">O</text>\n",
       "    </g>\n",
       "  </g>\n",
       "  <g fill=\"none\" stroke=\"black\" stroke-width=\".03\">\n",
       "    <line x1=\"0.00\" y1=\"-0.00\" x2=\"0.53\" y2=\"-0.31\" />\n",
       "  </g>\n",
       "  <g font-family=\"sans-serif\">\n",
       "    <g fill=\"#3050F8\">\n",
       "      <text x=\"5.29\" y=\"-3.16\" font-size=\"0.40\">N</text>\n",
       "      <text x=\"5.57\" y=\"-3.44\" font-size=\"0.30\">+</text>\n",
       "    </g>\n",
       "    <g fill=\"#FF0D0D\">\n",
       "      <text x=\"4.57\" y=\"-3.57\" font-size=\"0.40\">O</text>\n",
       "      <text x=\"4.85\" y=\"-3.85\" font-size=\"0.30\">⁃</text>\n",
       "    </g>\n",
       "    <g fill=\"#FF0D0D\">\n",
       "      <text x=\"6.00\" y=\"-3.57\" font-size=\"0.40\">O</text>\n",
       "    </g>\n",
       "    <g fill=\"#FF0D0D\">\n",
       "      <text x=\"5.29\" y=\"0.14\" font-size=\"0.40\">O</text>\n",
       "    </g>\n",
       "  </g>\n",
       "  <g fill=\"none\" stroke=\"black\" stroke-width=\".03\">\n",
       "    <line x1=\"5.43\" y1=\"-2.48\" x2=\"6.14\" y2=\"-2.06\" />\n",
       "    <line x1=\"5.47\" y1=\"-2.54\" x2=\"6.18\" y2=\"-2.13\" stroke-dasharray=\"0.20 0.10\" />\n",
       "    <line x1=\"5.43\" y1=\"-2.48\" x2=\"4.71\" y2=\"-2.06\" />\n",
       "    <line x1=\"5.47\" y1=\"-2.41\" x2=\"4.75\" y2=\"-1.99\" stroke-dasharray=\"0.20 0.10\" />\n",
       "    <line x1=\"5.43\" y1=\"-2.48\" x2=\"5.43\" y2=\"-3.09\" />\n",
       "    <line x1=\"6.14\" y1=\"-2.06\" x2=\"6.14\" y2=\"-1.24\" />\n",
       "    <line x1=\"6.22\" y1=\"-2.06\" x2=\"6.22\" y2=\"-1.24\" stroke-dasharray=\"0.20 0.10\" />\n",
       "    <line x1=\"6.14\" y1=\"-1.24\" x2=\"5.43\" y2=\"-0.82\" />\n",
       "    <line x1=\"6.18\" y1=\"-1.17\" x2=\"5.47\" y2=\"-0.76\" stroke-dasharray=\"0.20 0.10\" />\n",
       "    <line x1=\"5.43\" y1=\"-0.82\" x2=\"4.71\" y2=\"-1.24\" />\n",
       "    <line x1=\"5.39\" y1=\"-0.76\" x2=\"4.67\" y2=\"-1.17\" stroke-dasharray=\"0.20 0.10\" />\n",
       "    <line x1=\"5.43\" y1=\"-0.82\" x2=\"5.43\" y2=\"-0.21\" />\n",
       "    <line x1=\"4.71\" y1=\"-1.24\" x2=\"4.71\" y2=\"-2.06\" />\n",
       "    <line x1=\"4.63\" y1=\"-1.24\" x2=\"4.63\" y2=\"-2.06\" stroke-dasharray=\"0.20 0.10\" />\n",
       "    <line x1=\"5.25\" y1=\"-3.41\" x2=\"4.90\" y2=\"-3.61\" />\n",
       "    <line x1=\"5.63\" y1=\"-3.37\" x2=\"5.98\" y2=\"-3.57\" />\n",
       "    <line x1=\"5.59\" y1=\"-3.44\" x2=\"5.94\" y2=\"-3.64\" />\n",
       "  </g>\n",
       "</svg>"
      ],
      "text/plain": [
       "<CGRtools.containers.reaction.ReactionContainer at 0x7f7148ef1dc8>"
      ]
     },
     "execution_count": 108,
     "metadata": {},
     "output_type": "execute_result"
    }
   ],
   "source": [
    "r"
   ]
  },
  {
   "cell_type": "code",
   "execution_count": 109,
   "metadata": {},
   "outputs": [],
   "source": [
    "# reactants, products, reagents attributes are list-like. \n",
    "r.products.append(m.copy()) # One can add (or remove) molecules directly to this list of products returned by r.products\n",
    "r.flush_cache()"
   ]
  },
  {
   "cell_type": "code",
   "execution_count": 110,
   "metadata": {},
   "outputs": [
    {
     "data": {
      "image/svg+xml": [
       "<svg width=\"7.14cm\" height=\"4.71cm\" viewBox=\"-0.50 -4.21 7.14 4.71\" xmlns=\"http://www.w3.org/2000/svg\" version=\"1.1\">\n",
       "  <defs><marker id=\"arrow\" markerWidth=\"10\" markerHeight=\"10\" refX=\"0\" refY=\"3\" orient=\"auto\"><path d=\"M0,0 L0,6 L9,3 z\" /></marker></defs>\n",
       "  <line x1=\"1.71\" y1=\"-1\" x2=\"3.71\" y2=\"-1\" fill=\"none\" stroke=\"black\" stroke-width=\".04\" marker-end=\"url(#arrow)\" />\n",
       "  <g font-family=\"sans-serif\">\n",
       "    <g fill=\"#FF0D0D\">\n",
       "      <text x=\"0.57\" y=\"-0.27\" font-size=\"0.40\">O</text>\n",
       "    </g>\n",
       "  </g>\n",
       "  <g fill=\"none\" stroke=\"black\" stroke-width=\".03\">\n",
       "    <line x1=\"0.00\" y1=\"-0.00\" x2=\"0.53\" y2=\"-0.31\" />\n",
       "  </g>\n",
       "  <g font-family=\"sans-serif\">\n",
       "    <g fill=\"#3050F8\">\n",
       "      <text x=\"5.29\" y=\"-3.16\" font-size=\"0.40\">N</text>\n",
       "      <text x=\"5.57\" y=\"-3.44\" font-size=\"0.30\">+</text>\n",
       "    </g>\n",
       "    <g fill=\"#FF0D0D\">\n",
       "      <text x=\"4.57\" y=\"-3.57\" font-size=\"0.40\">O</text>\n",
       "      <text x=\"4.85\" y=\"-3.85\" font-size=\"0.30\">⁃</text>\n",
       "    </g>\n",
       "    <g fill=\"#FF0D0D\">\n",
       "      <text x=\"6.00\" y=\"-3.57\" font-size=\"0.40\">O</text>\n",
       "    </g>\n",
       "    <g fill=\"#FF0D0D\">\n",
       "      <text x=\"5.29\" y=\"0.14\" font-size=\"0.40\">O</text>\n",
       "    </g>\n",
       "  </g>\n",
       "  <g fill=\"none\" stroke=\"black\" stroke-width=\".03\">\n",
       "    <line x1=\"5.43\" y1=\"-2.48\" x2=\"6.14\" y2=\"-2.06\" />\n",
       "    <line x1=\"5.47\" y1=\"-2.54\" x2=\"6.18\" y2=\"-2.13\" stroke-dasharray=\"0.20 0.10\" />\n",
       "    <line x1=\"5.43\" y1=\"-2.48\" x2=\"4.71\" y2=\"-2.06\" />\n",
       "    <line x1=\"5.47\" y1=\"-2.41\" x2=\"4.75\" y2=\"-1.99\" stroke-dasharray=\"0.20 0.10\" />\n",
       "    <line x1=\"5.43\" y1=\"-2.48\" x2=\"5.43\" y2=\"-3.09\" />\n",
       "    <line x1=\"6.14\" y1=\"-2.06\" x2=\"6.14\" y2=\"-1.24\" />\n",
       "    <line x1=\"6.22\" y1=\"-2.06\" x2=\"6.22\" y2=\"-1.24\" stroke-dasharray=\"0.20 0.10\" />\n",
       "    <line x1=\"6.14\" y1=\"-1.24\" x2=\"5.43\" y2=\"-0.82\" />\n",
       "    <line x1=\"6.18\" y1=\"-1.17\" x2=\"5.47\" y2=\"-0.76\" stroke-dasharray=\"0.20 0.10\" />\n",
       "    <line x1=\"5.43\" y1=\"-0.82\" x2=\"4.71\" y2=\"-1.24\" />\n",
       "    <line x1=\"5.39\" y1=\"-0.76\" x2=\"4.67\" y2=\"-1.17\" stroke-dasharray=\"0.20 0.10\" />\n",
       "    <line x1=\"5.43\" y1=\"-0.82\" x2=\"5.43\" y2=\"-0.21\" />\n",
       "    <line x1=\"4.71\" y1=\"-1.24\" x2=\"4.71\" y2=\"-2.06\" />\n",
       "    <line x1=\"4.63\" y1=\"-1.24\" x2=\"4.63\" y2=\"-2.06\" stroke-dasharray=\"0.20 0.10\" />\n",
       "    <line x1=\"5.25\" y1=\"-3.41\" x2=\"4.90\" y2=\"-3.61\" />\n",
       "    <line x1=\"5.63\" y1=\"-3.37\" x2=\"5.98\" y2=\"-3.57\" />\n",
       "    <line x1=\"5.59\" y1=\"-3.44\" x2=\"5.94\" y2=\"-3.64\" />\n",
       "  </g>\n",
       "  <g font-family=\"sans-serif\">\n",
       "    <g fill=\"#FF0D0D\">\n",
       "      <text x=\"-1.14\" y=\"0.38\" font-size=\"0.40\">O</text>\n",
       "      <text x=\"-0.86\" y=\"0.10\" font-size=\"0.30\">⁃</text>\n",
       "    </g>\n",
       "    <g fill=\"#AB5CF2\">\n",
       "      <text x=\"-0.14\" y=\"0.14\" font-size=\"0.40\">Na</text>\n",
       "      <text x=\"0.14\" y=\"-0.14\" font-size=\"0.30\">+</text>\n",
       "    </g>\n",
       "  </g>\n",
       "  <g fill=\"none\" stroke=\"black\" stroke-width=\".03\">\n",
       "    <line x1=\"0.84\" y1=\"-0.60\" x2=\"0.16\" y2=\"0.35\" />\n",
       "    <line x1=\"0.16\" y1=\"0.35\" x2=\"-0.79\" y2=\"0.26\" />\n",
       "  </g>\n",
       "</svg>"
      ],
      "text/plain": [
       "<CGRtools.containers.reaction.ReactionContainer at 0x7f7148ef1dc8>"
      ]
     },
     "execution_count": 110,
     "metadata": {},
     "output_type": "execute_result"
    }
   ],
   "source": [
    "r # coordinates will left unchanged. Thus depiction could look wrong."
   ]
  },
  {
   "cell_type": "code",
   "execution_count": 111,
   "metadata": {},
   "outputs": [
    {
     "data": {
      "image/svg+xml": [
       "<svg width=\"9.98cm\" height=\"4.71cm\" viewBox=\"-0.50 -4.21 9.98 4.71\" xmlns=\"http://www.w3.org/2000/svg\" version=\"1.1\">\n",
       "  <defs><marker id=\"arrow\" markerWidth=\"10\" markerHeight=\"10\" refX=\"0\" refY=\"3\" orient=\"auto\"><path d=\"M0,0 L0,6 L9,3 z\" /></marker></defs>\n",
       "  <line x1=\"1.71\" y1=\"-1\" x2=\"3.71\" y2=\"-1\" fill=\"none\" stroke=\"black\" stroke-width=\".04\" marker-end=\"url(#arrow)\" />\n",
       "  <g font-family=\"sans-serif\">\n",
       "    <g fill=\"#FF0D0D\">\n",
       "      <text x=\"0.57\" y=\"-0.27\" font-size=\"0.40\">O</text>\n",
       "    </g>\n",
       "  </g>\n",
       "  <g fill=\"none\" stroke=\"black\" stroke-width=\".03\">\n",
       "    <line x1=\"0.00\" y1=\"-0.00\" x2=\"0.53\" y2=\"-0.31\" />\n",
       "  </g>\n",
       "  <g font-family=\"sans-serif\">\n",
       "    <g fill=\"#3050F8\">\n",
       "      <text x=\"5.29\" y=\"-3.16\" font-size=\"0.40\">N</text>\n",
       "      <text x=\"5.57\" y=\"-3.44\" font-size=\"0.30\">+</text>\n",
       "    </g>\n",
       "    <g fill=\"#FF0D0D\">\n",
       "      <text x=\"4.57\" y=\"-3.57\" font-size=\"0.40\">O</text>\n",
       "      <text x=\"4.85\" y=\"-3.85\" font-size=\"0.30\">⁃</text>\n",
       "    </g>\n",
       "    <g fill=\"#FF0D0D\">\n",
       "      <text x=\"6.00\" y=\"-3.57\" font-size=\"0.40\">O</text>\n",
       "    </g>\n",
       "    <g fill=\"#FF0D0D\">\n",
       "      <text x=\"5.29\" y=\"0.14\" font-size=\"0.40\">O</text>\n",
       "    </g>\n",
       "  </g>\n",
       "  <g fill=\"none\" stroke=\"black\" stroke-width=\".03\">\n",
       "    <line x1=\"5.43\" y1=\"-2.48\" x2=\"6.14\" y2=\"-2.06\" />\n",
       "    <line x1=\"5.47\" y1=\"-2.54\" x2=\"6.18\" y2=\"-2.13\" stroke-dasharray=\"0.20 0.10\" />\n",
       "    <line x1=\"5.43\" y1=\"-2.48\" x2=\"4.71\" y2=\"-2.06\" />\n",
       "    <line x1=\"5.47\" y1=\"-2.41\" x2=\"4.75\" y2=\"-1.99\" stroke-dasharray=\"0.20 0.10\" />\n",
       "    <line x1=\"5.43\" y1=\"-2.48\" x2=\"5.43\" y2=\"-3.09\" />\n",
       "    <line x1=\"6.14\" y1=\"-2.06\" x2=\"6.14\" y2=\"-1.24\" />\n",
       "    <line x1=\"6.22\" y1=\"-2.06\" x2=\"6.22\" y2=\"-1.24\" stroke-dasharray=\"0.20 0.10\" />\n",
       "    <line x1=\"6.14\" y1=\"-1.24\" x2=\"5.43\" y2=\"-0.82\" />\n",
       "    <line x1=\"6.18\" y1=\"-1.17\" x2=\"5.47\" y2=\"-0.76\" stroke-dasharray=\"0.20 0.10\" />\n",
       "    <line x1=\"5.43\" y1=\"-0.82\" x2=\"4.71\" y2=\"-1.24\" />\n",
       "    <line x1=\"5.39\" y1=\"-0.76\" x2=\"4.67\" y2=\"-1.17\" stroke-dasharray=\"0.20 0.10\" />\n",
       "    <line x1=\"5.43\" y1=\"-0.82\" x2=\"5.43\" y2=\"-0.21\" />\n",
       "    <line x1=\"4.71\" y1=\"-1.24\" x2=\"4.71\" y2=\"-2.06\" />\n",
       "    <line x1=\"4.63\" y1=\"-1.24\" x2=\"4.63\" y2=\"-2.06\" stroke-dasharray=\"0.20 0.10\" />\n",
       "    <line x1=\"5.25\" y1=\"-3.41\" x2=\"4.90\" y2=\"-3.61\" />\n",
       "    <line x1=\"5.63\" y1=\"-3.37\" x2=\"5.98\" y2=\"-3.57\" />\n",
       "    <line x1=\"5.59\" y1=\"-3.44\" x2=\"5.94\" y2=\"-3.64\" />\n",
       "  </g>\n",
       "  <g font-family=\"sans-serif\">\n",
       "    <g fill=\"#FF0D0D\">\n",
       "      <text x=\"7.00\" y=\"0.03\" font-size=\"0.40\">O</text>\n",
       "      <text x=\"7.28\" y=\"-0.25\" font-size=\"0.30\">⁃</text>\n",
       "    </g>\n",
       "    <g fill=\"#AB5CF2\">\n",
       "      <text x=\"8.00\" y=\"-0.21\" font-size=\"0.40\">Na</text>\n",
       "      <text x=\"8.28\" y=\"-0.49\" font-size=\"0.30\">+</text>\n",
       "    </g>\n",
       "  </g>\n",
       "  <g fill=\"none\" stroke=\"black\" stroke-width=\".03\">\n",
       "    <line x1=\"8.98\" y1=\"-0.95\" x2=\"8.30\" y2=\"-0.00\" />\n",
       "    <line x1=\"8.30\" y1=\"-0.00\" x2=\"7.35\" y2=\"-0.09\" />\n",
       "  </g>\n",
       "</svg>"
      ],
      "text/plain": [
       "<CGRtools.containers.reaction.ReactionContainer at 0x7f7148ef1dc8>"
      ]
     },
     "execution_count": 111,
     "metadata": {},
     "output_type": "execute_result"
    }
   ],
   "source": [
    "r.fix_positions() # this method fixes coordinates of molecules in reaction\n",
    "r"
   ]
  },
  {
   "cell_type": "markdown",
   "metadata": {},
   "source": [
    "*QueryContainers* can be constructed in the same way as *MoleculeContainers*.\n",
    "\n",
    "Unlike other containers *QueryContainers* additionally support atoms, neighbors and hybridization lists."
   ]
  },
  {
   "cell_type": "code",
   "execution_count": 112,
   "metadata": {},
   "outputs": [],
   "source": [
    "q = QueryContainer() # creation of empty container\n",
    "q.add_atom({'element': ['N', 'O']}) # add atom list: N or O atom, any isotope and multiplicity, neutral, \n",
    "                                    # number of neighbors and hybridization are irrelevant\n",
    "q.add_atom({'element': 'C', 'neighbors': [2, 3]}) # add carbon atom, any isotope and multiplicity, neutral, \n",
    "                                                  # has 2 or 3 non-hydrogen heighbors\n",
    "q.add_atom({'element': 'O'}) # add oxygen atom, any isotope and multiplicity, neutral, \n",
    "                             # number of neighbors and hybridization are irrelevant \n",
    "q.add_bond(1, 2, 1) # add single bond between atom 1 and 2 \n",
    "q.add_bond(2, 3, 2) # add double bond between atom 1 and 2 \n",
    "# any amide or carboxilic group will fit this query"
   ]
  },
  {
   "cell_type": "code",
   "execution_count": 113,
   "metadata": {},
   "outputs": [
    {
     "name": "stdout",
     "output_type": "stream",
     "text": [
      "[N,O]-[C;<23>;]=[O]\n"
     ]
    }
   ],
   "source": [
    "print(q) # print out signature (SMILES-like)"
   ]
  },
  {
   "cell_type": "markdown",
   "metadata": {},
   "source": [
    "## 1.6. Extending CGRtools\n",
    "\n",
    "You can easily customize CGRtools for your tasks.  \n",
    "CGRtools is OOP-oriented library with subclassing and inheritance support.\n",
    "\n",
    "As an example, we show how special marks on atoms for ligand donor centers can be added."
   ]
  },
  {
   "cell_type": "code",
   "execution_count": 114,
   "metadata": {},
   "outputs": [],
   "source": [
    "from CGRtools.containers import MoleculeContainer\n",
    "from CGRtools.attributes import Atom"
   ]
  },
  {
   "cell_type": "code",
   "execution_count": 115,
   "metadata": {},
   "outputs": [],
   "source": [
    "class MarkedAtom(Atom):  # this class will inherite Atom class\n",
    "    __slots__ = '__mark' # all new attributes should be slotted!\n",
    "    \n",
    "    def __init__(self, **kwargs):\n",
    "        super().__init__(**kwargs)\n",
    "        self.__mark = None # set default value for added attribute\n",
    "\n",
    "    @property\n",
    "    def mark(self):        # created new property \n",
    "        return self.__mark\n",
    "    \n",
    "    @mark.setter\n",
    "    def mark(self, mark):\n",
    "        # do some checks and calculations\n",
    "        self.__mark = mark"
   ]
  },
  {
   "cell_type": "code",
   "execution_count": 116,
   "metadata": {},
   "outputs": [],
   "source": [
    "class MarkedMoleculeContainer(MoleculeContainer): # MarkedAtomContainer inherits MoleculeContainer\n",
    "    node_attr_dict_factory = MarkedAtom # override atom container"
   ]
  },
  {
   "cell_type": "code",
   "execution_count": 117,
   "metadata": {},
   "outputs": [],
   "source": [
    "m = MarkedMoleculeContainer() # create newly developed container MarkedMoleculeContainer\n",
    "m.add_atom('C')               # add atom C using methods inherited from MoleculeContainer\n",
    "m.add_atom('N')               # add atom N\n",
    "m.add_bond(1, 2, 1)           # add bond\n",
    "\n",
    "m.atom(2)['mark'] = 1  # set mark on atom. In this example dictinary setitem supported but update not."
   ]
  },
  {
   "cell_type": "code",
   "execution_count": 118,
   "metadata": {},
   "outputs": [
    {
     "data": {
      "text/plain": [
       "1"
      ]
     },
     "execution_count": 118,
     "metadata": {},
     "output_type": "execute_result"
    }
   ],
   "source": [
    "m.atom(2).mark # one can return mark"
   ]
  }
 ],
 "metadata": {
  "kernelspec": {
   "display_name": "Python 3",
   "language": "python",
   "name": "python3"
  },
  "language_info": {
   "codemirror_mode": {
    "name": "ipython",
    "version": 3
   },
   "file_extension": ".py",
   "mimetype": "text/x-python",
   "name": "python",
   "nbconvert_exporter": "python",
   "pygments_lexer": "ipython3",
   "version": "3.7.1"
  }
 },
 "nbformat": 4,
 "nbformat_minor": 1
}
