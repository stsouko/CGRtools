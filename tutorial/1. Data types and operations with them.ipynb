{
 "cells": [
  {
   "cell_type": "markdown",
   "metadata": {},
   "source": [
    "% CGRtools Tutorial\n",
    "% Dr. Ramil Nugmanov; Dr. Timur Madzhidov; Ravil Mukhametgaleev\n",
    "% Mar 29, 2020"
   ]
  },
  {
   "cell_type": "markdown",
   "metadata": {},
   "source": [
    "# 1. Data types and operations with them\n",
    "\n",
    "(c) 2020, Dr. Ramil Nugmanov; Dr. Timur Madzhidov; Ravil Mukhametgaleev\n",
    "\n",
    "Installation instructions of CGRtools package information and tutorial's files see on `https://github.com/cimm-kzn/CGRtools`\n",
    "\n",
    "NOTE: Tutorial should be performed sequentially from the start. Random cell running will lead to unexpected results. "
   ]
  },
  {
   "cell_type": "code",
   "execution_count": 1,
   "metadata": {
    "pycharm": {
     "is_executing": false
    }
   },
   "outputs": [
    {
     "name": "stdout",
     "text": [
      "Welcome!\n"
     ],
     "output_type": "stream"
    }
   ],
   "source": [
    "import pkg_resources\n",
    "if pkg_resources.get_distribution('CGRtools').version.split('.')[:2] != ['4', '0']:\n",
    "    print('WARNING. Tutorial was tested on 4.0 version of CGRtools')\n",
    "else:\n",
    "    print('Welcome!')"
   ]
  },
  {
   "cell_type": "code",
   "execution_count": 2,
   "metadata": {
    "pycharm": {
     "is_executing": false
    }
   },
   "outputs": [],
   "source": [
    "# load data for tutorial\n",
    "from pickle import load\n",
    "from traceback import format_exc\n",
    "\n",
    "with open('molecules.dat', 'rb') as f:\n",
    "    molecules = load(f) # list of MoleculeContainer objects\n",
    "with open('reactions.dat', 'rb') as f:\n",
    "    reactions = load(f) # list of ReactionContainer objects\n",
    "\n",
    "m1, m2, m3, m4 = molecules # molecule\n",
    "m7 = m3.copy()\n",
    "m11 = m3.copy()\n",
    "m11.standardize()\n",
    "m7.standardize()\n",
    "r1 = reactions[0] # reaction\n",
    "m5 = r1.reactants[0]\n",
    "m8 = m7.substructure([4, 5, 6, 7, 8, 9])\n",
    "m10 =  r1.products[0].copy()"
   ]
  },
  {
   "cell_type": "markdown",
   "metadata": {},
   "source": [
    "CGRtools has subpackage *containers* with data structures classes:\n",
    "\n",
    "* *MoleculeContainer* - for molecular structure\n",
    "* *ReactionContainer* - for chemical reaction \n",
    "* *CGRContainer* - for Condensed Graph of Reaction\n",
    "* *QueryContainer* - queries for substructure search in molecules\n",
    "* *QueryCGRContainer* - queries for substructure search in CGRs"
   ]
  },
  {
   "cell_type": "code",
   "execution_count": 3,
   "metadata": {
    "pycharm": {
     "is_executing": false
    }
   },
   "outputs": [],
   "source": [
    "# import all containers\n",
    "\n",
    "from CGRtools.containers import * "
   ]
  },
  {
   "cell_type": "markdown",
   "metadata": {},
   "source": [
    "## 1.1. MoleculeContainer\n",
    "Molecules are represented as undirected graphs. Molecules contain *Atom* objects and *Bond* objects.\n",
    "\n",
    "*Atom* objects are represented as dictionary with unique number for each atom as key.  \n",
    "\n",
    "*Bond* objects are stored as sparse matrix with adjacent atoms pair as keys for rows and columns.\n",
    "\n",
    "Hereafter, *atom number* is unique integer used to enumerate atoms in molecule. Please, don't confuse it with element number in Periodic Table, hereafter called *element number*.\n",
    "\n",
    "Methods for molecule handling and the arguments of *MoleculeContainer* are described below."
   ]
  },
  {
   "cell_type": "code",
   "execution_count": 4,
   "metadata": {
    "pycharm": {
     "is_executing": false
    }
   },
   "outputs": [
    {
     "data": {
      "text/plain": "{'cdid': '001'}"
     },
     "metadata": {},
     "output_type": "execute_result",
     "execution_count": 4
    }
   ],
   "source": [
    "# dictionary for molecule properties storage. \n",
    "# For example, DTYPE/DATUM fields of SDF file are read into this dictionary\n",
    "\n",
    "m1.meta "
   ]
  },
  {
   "cell_type": "code",
   "execution_count": 5,
   "metadata": {
    "pycharm": {
     "is_executing": false
    }
   },
   "outputs": [
    {
     "data": {
      "text/plain": "<CGRtools.containers.molecule.MoleculeContainer at 0x11fb529a8>",
      "image/svg+xml": "<svg width=\"2.18cm\" height=\"1.04cm\" viewBox=\"-11.13 -0.45 2.18 1.04\" xmlns=\"http://www.w3.org/2000/svg\" version=\"1.1\">\n  <defs>\n    <mask id=\"mask-6a640ca1-b345-4772-a8de-2bf93234e03b\">\n      <rect x=\"-11.13\" y=\"-0.45\" width=\"2.18\" height=\"1.04\" fill=\"white\"/>\n      <g fill=\"black\">\n        <circle cx=\"-9.38\" cy=\"-0.14\" r=\"0.12\"/>\n      </g>\n    </mask>\n  </defs>\n  <g fill=\"none\" stroke=\"black\" stroke-width=\"0.03\"  mask=\"url(#mask-6a640ca1-b345-4772-a8de-2bf93234e03b)\">\n    <line x1=\"-10.79\" y1=\"-0.17\" x2=\"-10.08\" y2=\"0.24\"/>\n    <line x1=\"-10.83\" y1=\"-0.10\" x2=\"-10.12\" y2=\"0.31\"/>\n    <line x1=\"-10.10\" y1=\"0.28\" x2=\"-9.38\" y2=\"-0.14\"/>\n  </g>\n  <g font-family=\"monospace\">\n    <g fill=\"#FF0D0D\">\n      <text x=\"-9.38\" y=\"-0.14\" dx=\"-0.07\" dy=\"0.07\" font-size=\"0.25\">OH</text>\n      <text x=\"-9.38\" y=\"-0.14\" dx=\"-0.07\" dy=\"-0.05\" font-size=\"0.15\" text-anchor=\"end\">15</text>\n    </g>\n    <g fill=\"#788CFF\" font-size=\"0.20\">\n      <text x=\"-10.81\" y=\"-0.14\" text-anchor=\"middle\">3</text>\n      <text x=\"-10.10\" y=\"0.28\" text-anchor=\"middle\">4</text>\n      <text x=\"-9.38\" y=\"-0.14\" dx=\"-0.07\" dy=\"0.20\" text-anchor=\"end\">1</text>\n    </g>\n  </g>\n</svg>"
     },
     "metadata": {},
     "output_type": "execute_result",
     "execution_count": 5
    }
   ],
   "source": [
    "# MoleculeContainer supports depiction and graphic representation in Jupyter notebooks.\n",
    "\n",
    "m1 "
   ]
  },
  {
   "cell_type": "code",
   "execution_count": 6,
   "metadata": {
    "pycharm": {
     "is_executing": false
    }
   },
   "outputs": [
    {
     "data": {
      "text/plain": "'<svg width=\"2.18cm\" height=\"1.04cm\" viewBox=\"-11.13 -0.45 2.18 1.04\" xmlns=\"http://www.w3.org/2000/svg\" version=\"1.1\">\\n  <defs>\\n    <mask id=\"mask-acc2af81-7065-4319-b379-46dd60851044\">\\n      <rect x=\"-11.13\" y=\"-0.45\" width=\"2.18\" height=\"1.04\" fill=\"white\"/>\\n      <g fill=\"black\">\\n        <circle cx=\"-9.38\" cy=\"-0.14\" r=\"0.12\"/>\\n      </g>\\n    </mask>\\n  </defs>\\n  <g fill=\"none\" stroke=\"black\" stroke-width=\"0.03\"  mask=\"url(#mask-acc2af81-7065-4319-b379-46dd60851044)\">\\n    <line x1=\"-10.79\" y1=\"-0.17\" x2=\"-10.08\" y2=\"0.24\"/>\\n    <line x1=\"-10.83\" y1=\"-0.10\" x2=\"-10.12\" y2=\"0.31\"/>\\n    <line x1=\"-10.10\" y1=\"0.28\" x2=\"-9.38\" y2=\"-0.14\"/>\\n  </g>\\n  <g font-family=\"monospace\">\\n    <g fill=\"#FF0D0D\">\\n      <text x=\"-9.38\" y=\"-0.14\" dx=\"-0.07\" dy=\"0.07\" font-size=\"0.25\">OH</text>\\n      <text x=\"-9.38\" y=\"-0.14\" dx=\"-0.07\" dy=\"-0.05\" font-size=\"0.15\" text-anchor=\"end\">15</text>\\n    </g>\\n    <g fill=\"#788CFF\" font-size=\"0.20\">\\n      <text x=\"-10.81\" y=\"-0.14\" text-anchor=\"middle\">3</text>\\n      <text x=\"-10.10\" y=\"0.28\" text-anchor=\"middle\">4</text>\\n      <text x=\"-9.38\" y=\"-0.14\" dx=\"-0.07\" dy=\"0.20\" text-anchor=\"end\">1</text>\\n    </g>\\n  </g>\\n</svg>'"
     },
     "metadata": {},
     "output_type": "execute_result",
     "execution_count": 6
    }
   ],
   "source": [
    "# depiction returns SVG image in format string\n",
    "\n",
    "m1.depict()"
   ]
  },
  {
   "cell_type": "code",
   "execution_count": 7,
   "metadata": {
    "pycharm": {
     "is_executing": false
    }
   },
   "outputs": [],
   "source": [
    "# saving image to SVG file\n",
    "\n",
    "with open('molecule.svg', 'w') as f: \n",
    "    f.write(m1.depict())"
   ]
  },
  {
   "cell_type": "code",
   "execution_count": 8,
   "metadata": {
    "pycharm": {
     "is_executing": false
    }
   },
   "outputs": [
    {
     "data": {
      "text/plain": "<CGRtools.containers.molecule.MoleculeContainer at 0x11fbe95e8>",
      "image/svg+xml": "<svg width=\"2.18cm\" height=\"1.04cm\" viewBox=\"-11.13 -0.45 2.18 1.04\" xmlns=\"http://www.w3.org/2000/svg\" version=\"1.1\">\n  <defs>\n    <mask id=\"mask-2852c2ef-555d-4f99-8d6c-45c2137edd57\">\n      <rect x=\"-11.13\" y=\"-0.45\" width=\"2.18\" height=\"1.04\" fill=\"white\"/>\n      <g fill=\"black\">\n        <circle cx=\"-9.38\" cy=\"-0.14\" r=\"0.12\"/>\n      </g>\n    </mask>\n  </defs>\n  <g fill=\"none\" stroke=\"black\" stroke-width=\"0.03\"  mask=\"url(#mask-2852c2ef-555d-4f99-8d6c-45c2137edd57)\">\n    <line x1=\"-10.79\" y1=\"-0.17\" x2=\"-10.08\" y2=\"0.24\"/>\n    <line x1=\"-10.83\" y1=\"-0.10\" x2=\"-10.12\" y2=\"0.31\"/>\n    <line x1=\"-10.10\" y1=\"0.28\" x2=\"-9.38\" y2=\"-0.14\"/>\n  </g>\n  <g font-family=\"monospace\">\n    <g fill=\"#FF0D0D\">\n      <text x=\"-9.38\" y=\"-0.14\" dx=\"-0.07\" dy=\"0.07\" font-size=\"0.25\">OH</text>\n      <text x=\"-9.38\" y=\"-0.14\" dx=\"-0.07\" dy=\"-0.05\" font-size=\"0.15\" text-anchor=\"end\">15</text>\n    </g>\n    <g fill=\"#788CFF\" font-size=\"0.20\">\n      <text x=\"-10.81\" y=\"-0.14\" text-anchor=\"middle\">3</text>\n      <text x=\"-10.10\" y=\"0.28\" text-anchor=\"middle\">4</text>\n      <text x=\"-9.38\" y=\"-0.14\" dx=\"-0.07\" dy=\"0.20\" text-anchor=\"end\">1</text>\n    </g>\n  </g>\n</svg>"
     },
     "metadata": {},
     "output_type": "execute_result",
     "execution_count": 8
    }
   ],
   "source": [
    "# isolated copy of molecule\n",
    "\n",
    "m_copy = m1.copy() \n",
    "m_copy"
   ]
  },
  {
   "cell_type": "code",
   "execution_count": 9,
   "metadata": {
    "pycharm": {
     "is_executing": false
    }
   },
   "outputs": [
    {
     "name": "stdout",
     "text": [
      "3\n"
     ],
     "output_type": "stream"
    },
    {
     "data": {
      "text/plain": "3"
     },
     "metadata": {},
     "output_type": "execute_result",
     "execution_count": 9
    }
   ],
   "source": [
    "# get number of atoms in molecule\n",
    "print(len(m1))\n",
    "\n",
    "# or \n",
    "m1.atoms_count"
   ]
  },
  {
   "cell_type": "code",
   "execution_count": 10,
   "metadata": {
    "pycharm": {
     "is_executing": false
    }
   },
   "outputs": [
    {
     "data": {
      "text/plain": "2"
     },
     "metadata": {},
     "output_type": "execute_result",
     "execution_count": 10
    }
   ],
   "source": [
    "# number of bonds\n",
    "\n",
    "m1.bonds_count "
   ]
  },
  {
   "cell_type": "code",
   "execution_count": 11,
   "metadata": {
    "pycharm": {
     "is_executing": false
    }
   },
   "outputs": [
    {
     "data": {
      "text/plain": "(3, 4, 1)"
     },
     "metadata": {},
     "output_type": "execute_result",
     "execution_count": 11
    }
   ],
   "source": [
    "# list of atoms numbers\n",
    "\n",
    "m1.atoms_numbers "
   ]
  },
  {
   "cell_type": "markdown",
   "metadata": {},
   "source": [
    "The following notations are used for hybridization of atoms. Values are given as numbers below (in parenthesis symbols that are used in SMILES-like signatures are shown):\n",
    "\n",
    "* 1 (s) - all bonds of atom are single, i.e. sp3 hybridization\n",
    "* 2 (d) - atom has one double bond and others are single, i.e. sp2 hybridization\n",
    "* 3 (t) - atom has one triple or two double bonds and other are single, i.e. sp hybridization\n",
    "* 4 (a) - atom is in aromatic ring\n",
    "\n",
    "Neighbors and hybridizations atom attributes are required for **substructure operations** and structure standardization. See below"
   ]
  },
  {
   "cell_type": "code",
   "execution_count": 12,
   "metadata": {
    "pycharm": {
     "is_executing": false
    }
   },
   "outputs": [
    {
     "data": {
      "text/plain": "[(3, C()), (4, C()), (1, O(15))]"
     },
     "metadata": {},
     "output_type": "execute_result",
     "execution_count": 12
    }
   ],
   "source": [
    "# iterate over atoms using its numbers\n",
    "\n",
    "list(m1.atoms())  # works the same as dict.items()"
   ]
  },
  {
   "cell_type": "code",
   "execution_count": 13,
   "metadata": {
    "pycharm": {
     "is_executing": false
    }
   },
   "outputs": [
    {
     "data": {
      "text/plain": "[(3, 4, Bond(2)), (4, 1, Bond(1))]"
     },
     "metadata": {},
     "output_type": "execute_result",
     "execution_count": 13
    }
   ],
   "source": [
    "# iterate over bonds using adjacent atoms numbers\n",
    "\n",
    "list(m1.bonds())"
   ]
  },
  {
   "cell_type": "code",
   "execution_count": 14,
   "metadata": {
    "pycharm": {
     "is_executing": false
    }
   },
   "outputs": [
    {
     "data": {
      "text/plain": "O(15)"
     },
     "metadata": {},
     "output_type": "execute_result",
     "execution_count": 14
    }
   ],
   "source": [
    "# access to atom by number\n",
    "\n",
    "m1.atom(1)"
   ]
  },
  {
   "cell_type": "code",
   "execution_count": 15,
   "metadata": {
    "pycharm": {
     "is_executing": false
    }
   },
   "outputs": [
    {
     "name": "stdout",
     "text": [
      "Traceback (most recent call last):\n",
      "  File \"<ipython-input-15-3121e0ab5f15>\", line 2, in <module>\n",
      "    m1.atom(10) # raise error for absent atom numbers\n",
      "  File \"/Users/teg/PycharmProjects/CGRtools/CGRtools/containers/common.py\", line 79, in atom\n",
      "    return self._atoms[n]\n",
      "KeyError: 10\n",
      "\n"
     ],
     "output_type": "stream"
    }
   ],
   "source": [
    "try:\n",
    "    m1.atom(10) # raise error for absent atom numbers\n",
    "except KeyError:\n",
    "    print(format_exc())"
   ]
  },
  {
   "cell_type": "code",
   "execution_count": 16,
   "metadata": {
    "pycharm": {
     "is_executing": false
    }
   },
   "outputs": [
    {
     "data": {
      "text/plain": "Bond(1)"
     },
     "metadata": {},
     "output_type": "execute_result",
     "execution_count": 16
    }
   ],
   "source": [
    "# access to bond using adjacent atoms numbers\n",
    "m1.bond(1, 4)"
   ]
  },
  {
   "cell_type": "code",
   "execution_count": 17,
   "metadata": {
    "pycharm": {
     "is_executing": false
    }
   },
   "outputs": [
    {
     "name": "stdout",
     "text": [
      "Traceback (most recent call last):\n",
      "  File \"<ipython-input-17-e981e9e02512>\", line 2, in <module>\n",
      "    m1.bond(1, 3) # raise error for absent bond\n",
      "  File \"/Users/teg/PycharmProjects/CGRtools/CGRtools/containers/common.py\", line 109, in bond\n",
      "    return self._bonds[n][m]\n",
      "KeyError: 3\n",
      "\n"
     ],
     "output_type": "stream"
    }
   ],
   "source": [
    "try:\n",
    "    m1.bond(1, 3) # raise error for absent bond\n",
    "except KeyError:\n",
    "    print(format_exc())"
   ]
  },
  {
   "cell_type": "markdown",
   "metadata": {},
   "source": [
    "#### Atom objects are dictionary-like classes which store information about:\n",
    "* atomic symbol (element)\n",
    "* atomic number\n",
    "* atomic radius\n",
    "* isotope (atomic mass)\n",
    "* charge\n",
    "* valence_rules\n",
    "* xyz coordinates\n",
    "\n",
    "Also atoms has methods for data integrity checks and include some internally used data."
   ]
  },
  {
   "cell_type": "code",
   "execution_count": 18,
   "metadata": {
    "pycharm": {
     "is_executing": false
    }
   },
   "outputs": [
    {
     "data": {
      "text/plain": "'O'"
     },
     "metadata": {},
     "output_type": "execute_result",
     "execution_count": 18
    }
   ],
   "source": [
    "a = m1.atom(1)\n",
    "\n",
    "# access to information\n",
    "# element symbol\n",
    "a.atomic_symbol"
   ]
  },
  {
   "cell_type": "code",
   "execution_count": 19,
   "outputs": [
    {
     "data": {
      "text/plain": "8"
     },
     "metadata": {},
     "output_type": "execute_result",
     "execution_count": 19
    }
   ],
   "source": [
    "# atomic number\n",
    "\n",
    "a.atomic_number"
   ],
   "metadata": {
    "collapsed": false,
    "pycharm": {
     "name": "#%%\n",
     "is_executing": false
    }
   }
  },
  {
   "cell_type": "code",
   "execution_count": 20,
   "outputs": [
    {
     "data": {
      "text/plain": "0.48"
     },
     "metadata": {},
     "output_type": "execute_result",
     "execution_count": 20
    }
   ],
   "source": [
    "# atomic radius\n",
    "\n",
    "a.atomic_radius"
   ],
   "metadata": {
    "collapsed": false,
    "pycharm": {
     "name": "#%%\n",
     "is_executing": false
    }
   }
  },
  {
   "cell_type": "code",
   "execution_count": 21,
   "outputs": [
    {
     "data": {
      "text/plain": "15"
     },
     "metadata": {},
     "output_type": "execute_result",
     "execution_count": 21
    }
   ],
   "source": [
    "# atom isotope. Default isotope if not set. \n",
    "# Default isotopes are the same as used in InChI notation\n",
    "\n",
    "a.isotope "
   ],
   "metadata": {
    "collapsed": false,
    "pycharm": {
     "name": "#%%\n",
     "is_executing": false
    }
   }
  },
  {
   "cell_type": "code",
   "execution_count": 22,
   "metadata": {
    "pycharm": {
     "is_executing": false
    }
   },
   "outputs": [
    {
     "data": {
      "text/plain": "0"
     },
     "metadata": {},
     "output_type": "execute_result",
     "execution_count": 22
    }
   ],
   "source": [
    "# formal charge\n",
    "\n",
    "a.charge "
   ]
  },
  {
   "cell_type": "code",
   "execution_count": 23,
   "metadata": {
    "pycharm": {
     "is_executing": false
    }
   },
   "outputs": [
    {
     "name": "stdout",
     "text": [
      "-9.3843\n",
      "0.1375\n",
      "(-9.3843, 0.1375)\n"
     ],
     "output_type": "stream"
    }
   ],
   "source": [
    "# coordinates\n",
    "\n",
    "print(a.x) \n",
    "print(a.y)\n",
    "print(a.xy)"
   ]
  },
  {
   "cell_type": "code",
   "execution_count": 24,
   "metadata": {
    "pycharm": {
     "is_executing": false
    }
   },
   "outputs": [
    {
     "data": {
      "text/plain": "1"
     },
     "metadata": {},
     "output_type": "execute_result",
     "execution_count": 24
    }
   ],
   "source": [
    "# Number of neighboring atoms. It is read-only.\n",
    "\n",
    "a.neighbors"
   ]
  },
  {
   "cell_type": "code",
   "execution_count": 25,
   "metadata": {
    "pycharm": {
     "is_executing": false
    }
   },
   "outputs": [
    {
     "data": {
      "text/plain": "1"
     },
     "metadata": {},
     "output_type": "execute_result",
     "execution_count": 25
    }
   ],
   "source": [
    "# Atoms hybridization. It is read-only.\n",
    "\n",
    "a.hybridization "
   ]
  },
  {
   "cell_type": "code",
   "execution_count": 26,
   "metadata": {
    "pycharm": {
     "is_executing": false
    }
   },
   "outputs": [
    {
     "name": "stdout",
     "text": [
      "Traceback (most recent call last):\n",
      "  File \"<ipython-input-26-5e03ec8155b6>\", line 2, in <module>\n",
      "    a.hybridization = 2 # Not subsettable. Read-only! Thus error is raised.\n",
      "AttributeError: can't set attribute\n",
      "\n"
     ],
     "output_type": "stream"
    }
   ],
   "source": [
    "try:\n",
    "    a.hybridization = 2 # Not subsettable. Read-only! Thus error is raised.\n",
    "except AttributeError:\n",
    "    print(format_exc())"
   ]
  },
  {
   "cell_type": "code",
   "execution_count": 27,
   "metadata": {
    "pycharm": {
     "is_executing": false
    }
   },
   "outputs": [
    {
     "data": {
      "text/plain": "2"
     },
     "metadata": {},
     "output_type": "execute_result",
     "execution_count": 27
    }
   ],
   "source": [
    "# bond objects also are dictionary-like classes which store information about bond order\n",
    "b = m1.bond(3, 4)\n",
    "\n",
    "b.order\n",
    " # order change also possible"
   ]
  },
  {
   "cell_type": "code",
   "execution_count": 28,
   "metadata": {
    "scrolled": true,
    "pycharm": {
     "is_executing": false
    }
   },
   "outputs": [
    {
     "name": "stdout",
     "text": [
      "Traceback (most recent call last):\n",
      "  File \"<ipython-input-28-9d7c3ccaab2e>\", line 2, in <module>\n",
      "    b.order = 1 # error raises. You can't set the order for created bond.\n",
      "AttributeError: can't set attribute\n",
      "\n"
     ],
     "output_type": "stream"
    }
   ],
   "source": [
    "try:\n",
    "    b.order = 1 # error raises. You can't set the order for created bond.\n",
    "except AttributeError :\n",
    "    print(format_exc())"
   ]
  },
  {
   "cell_type": "markdown",
   "metadata": {},
   "source": [
    "One should to use `delete_bond` method to break bond"
   ]
  },
  {
   "cell_type": "code",
   "execution_count": 29,
   "metadata": {
    "pycharm": {
     "is_executing": false
    }
   },
   "outputs": [
    {
     "data": {
      "text/plain": "<CGRtools.containers.molecule.MoleculeContainer at 0x11fb529a8>",
      "image/svg+xml": "<svg width=\"2.18cm\" height=\"1.04cm\" viewBox=\"-11.13 -0.45 2.18 1.04\" xmlns=\"http://www.w3.org/2000/svg\" version=\"1.1\">\n  <defs>\n    <mask id=\"mask-f4d47e43-5ccc-461a-b514-f6f8dce7bae0\">\n      <rect x=\"-11.13\" y=\"-0.45\" width=\"2.18\" height=\"1.04\" fill=\"white\"/>\n      <g fill=\"black\">\n        <circle cx=\"-10.81\" cy=\"-0.14\" r=\"0.12\"/>\n        <circle cx=\"-9.38\" cy=\"-0.14\" r=\"0.12\"/>\n      </g>\n    </mask>\n  </defs>\n  <g fill=\"none\" stroke=\"black\" stroke-width=\"0.03\"  mask=\"url(#mask-f4d47e43-5ccc-461a-b514-f6f8dce7bae0)\">\n    <line x1=\"-11.13\" y1=\"-0.45\" x2=\"-8.95\" y2=\"-0.45\" stroke=\"none\"/>\n    <line x1=\"-10.10\" y1=\"0.28\" x2=\"-9.38\" y2=\"-0.14\"/>\n  </g>\n  <g font-family=\"monospace\">\n    <g fill=\"#101010\">\n      <text x=\"-10.81\" y=\"-0.14\" dx=\"-0.07\" dy=\"0.07\" font-size=\"0.25\">CH<tspan  dy=\"0.12\" font-size=\"0.20\">4</tspan></text>\n    </g>\n    <g fill=\"#FF0D0D\">\n      <text x=\"-9.38\" y=\"-0.14\" dx=\"-0.07\" dy=\"0.07\" font-size=\"0.25\">OH</text>\n      <text x=\"-9.38\" y=\"-0.14\" dx=\"-0.07\" dy=\"-0.05\" font-size=\"0.15\" text-anchor=\"end\">15</text>\n    </g>\n    <g fill=\"#788CFF\" font-size=\"0.20\">\n      <text x=\"-10.81\" y=\"-0.14\" dx=\"-0.07\" dy=\"0.20\" text-anchor=\"end\">3</text>\n      <text x=\"-10.10\" y=\"0.28\" text-anchor=\"middle\">4</text>\n      <text x=\"-9.38\" y=\"-0.14\" dx=\"-0.07\" dy=\"0.20\" text-anchor=\"end\">1</text>\n    </g>\n  </g>\n</svg>"
     },
     "metadata": {},
     "output_type": "execute_result",
     "execution_count": 29
    }
   ],
   "source": [
    "m1.delete_bond(3, 4)\n",
    "m1                    #Note that cashe flushing is not required here."
   ]
  },
  {
   "cell_type": "markdown",
   "metadata": {},
   "source": [
    "Method `delete_atom` removes atom from the molecule"
   ]
  },
  {
   "cell_type": "code",
   "execution_count": 30,
   "metadata": {
    "pycharm": {
     "is_executing": false
    }
   },
   "outputs": [
    {
     "data": {
      "text/plain": "<CGRtools.containers.molecule.MoleculeContainer at 0x11fb529a8>",
      "image/svg+xml": "<svg width=\"1.46cm\" height=\"1.04cm\" viewBox=\"-10.41 -0.45 1.46 1.04\" xmlns=\"http://www.w3.org/2000/svg\" version=\"1.1\">\n  <defs>\n    <mask id=\"mask-8f8a9b9b-2b38-4d34-9769-8c85e77571f9\">\n      <rect x=\"-10.41\" y=\"-0.45\" width=\"1.46\" height=\"1.04\" fill=\"white\"/>\n      <g fill=\"black\">\n        <circle cx=\"-9.38\" cy=\"-0.14\" r=\"0.12\"/>\n      </g>\n    </mask>\n  </defs>\n  <g fill=\"none\" stroke=\"black\" stroke-width=\"0.03\"  mask=\"url(#mask-8f8a9b9b-2b38-4d34-9769-8c85e77571f9)\">\n    <line x1=\"-10.41\" y1=\"-0.45\" x2=\"-8.95\" y2=\"-0.45\" stroke=\"none\"/>\n    <line x1=\"-10.10\" y1=\"0.28\" x2=\"-9.38\" y2=\"-0.14\"/>\n  </g>\n  <g font-family=\"monospace\">\n    <g fill=\"#FF0D0D\">\n      <text x=\"-9.38\" y=\"-0.14\" dx=\"-0.07\" dy=\"0.07\" font-size=\"0.25\">OH</text>\n      <text x=\"-9.38\" y=\"-0.14\" dx=\"-0.07\" dy=\"-0.05\" font-size=\"0.15\" text-anchor=\"end\">15</text>\n    </g>\n    <g fill=\"#788CFF\" font-size=\"0.20\">\n      <text x=\"-10.10\" y=\"0.28\" text-anchor=\"middle\">4</text>\n      <text x=\"-9.38\" y=\"-0.14\" dx=\"-0.07\" dy=\"0.20\" text-anchor=\"end\">1</text>\n    </g>\n  </g>\n</svg>"
     },
     "metadata": {},
     "output_type": "execute_result",
     "execution_count": 30
    }
   ],
   "source": [
    "m1.delete_atom(3)\n",
    "m1"
   ]
  },
  {
   "cell_type": "code",
   "execution_count": 31,
   "metadata": {
    "pycharm": {
     "is_executing": false
    }
   },
   "outputs": [
    {
     "data": {
      "text/plain": "<CGRtools.containers.molecule.MoleculeContainer at 0x11fbe95e8>",
      "image/svg+xml": "<svg width=\"2.18cm\" height=\"1.04cm\" viewBox=\"-11.13 -0.45 2.18 1.04\" xmlns=\"http://www.w3.org/2000/svg\" version=\"1.1\">\n  <defs>\n    <mask id=\"mask-2852c2ef-555d-4f99-8d6c-45c2137edd57\">\n      <rect x=\"-11.13\" y=\"-0.45\" width=\"2.18\" height=\"1.04\" fill=\"white\"/>\n      <g fill=\"black\">\n        <circle cx=\"-9.38\" cy=\"-0.14\" r=\"0.12\"/>\n      </g>\n    </mask>\n  </defs>\n  <g fill=\"none\" stroke=\"black\" stroke-width=\"0.03\"  mask=\"url(#mask-2852c2ef-555d-4f99-8d6c-45c2137edd57)\">\n    <line x1=\"-10.79\" y1=\"-0.17\" x2=\"-10.08\" y2=\"0.24\"/>\n    <line x1=\"-10.83\" y1=\"-0.10\" x2=\"-10.12\" y2=\"0.31\"/>\n    <line x1=\"-10.10\" y1=\"0.28\" x2=\"-9.38\" y2=\"-0.14\"/>\n  </g>\n  <g font-family=\"monospace\">\n    <g fill=\"#FF0D0D\">\n      <text x=\"-9.38\" y=\"-0.14\" dx=\"-0.07\" dy=\"0.07\" font-size=\"0.25\">OH</text>\n      <text x=\"-9.38\" y=\"-0.14\" dx=\"-0.07\" dy=\"-0.05\" font-size=\"0.15\" text-anchor=\"end\">15</text>\n    </g>\n    <g fill=\"#788CFF\" font-size=\"0.20\">\n      <text x=\"-10.81\" y=\"-0.14\" text-anchor=\"middle\">3</text>\n      <text x=\"-10.10\" y=\"0.28\" text-anchor=\"middle\">4</text>\n      <text x=\"-9.38\" y=\"-0.14\" dx=\"-0.07\" dy=\"0.20\" text-anchor=\"end\">1</text>\n    </g>\n  </g>\n</svg>"
     },
     "metadata": {},
     "output_type": "execute_result",
     "execution_count": 31
    }
   ],
   "source": [
    "m_copy # copy unchanged!"
   ]
  },
  {
   "cell_type": "markdown",
   "metadata": {},
   "source": [
    "*Atoms* and *bonds* objects can be converted into integer representation that could be used to classify their types.\n",
    "\n",
    "*Atom* type is represented by 21 bit code rounded to 32 bit integer number:\n",
    "\n",
    "* 7 bits stand for atom number (2 ** 7 - 1 == 127, currently 118 elements are presented in Periodic Table)\n",
    "* 9 bits are used for isotope (511 posibilities, highest known isotope is ~300)\n",
    "* 3 bits stand for formal charge. Charges range from -3 to +3 rescaled to range 0-6\n",
    "* 2 bits are used for multiplicity."
   ]
  },
  {
   "cell_type": "code",
   "execution_count": 32,
   "metadata": {
    "pycharm": {
     "is_executing": false
    }
   },
   "outputs": [
    {
     "data": {
      "text/plain": "61704"
     },
     "metadata": {},
     "output_type": "execute_result",
     "execution_count": 32
    }
   ],
   "source": [
    "int(a)\n",
    "# 131596 == 0001000 000010000 011 00\n",
    "# 0001000 == 8 Oxygen\n",
    "# 000010000 == 16 isotope\n",
    "# 011 == 3 (3 - 3 = 0) uncharged\n",
    "# 00 == 0 hasn't multiplicity"
   ]
  },
  {
   "cell_type": "code",
   "execution_count": 33,
   "metadata": {
    "pycharm": {
     "is_executing": false
    }
   },
   "outputs": [
    {
     "data": {
      "text/plain": "2"
     },
     "metadata": {},
     "output_type": "execute_result",
     "execution_count": 33
    }
   ],
   "source": [
    "int(b)  # bonds are encoded by their order"
   ]
  },
  {
   "cell_type": "code",
   "execution_count": 34,
   "metadata": {
    "pycharm": {
     "is_executing": false
    }
   },
   "outputs": [
    {
     "data": {
      "text/plain": "<CGRtools.containers.molecule.MoleculeContainer at 0x11fb529a8>",
      "image/svg+xml": "<svg width=\"1.46cm\" height=\"1.04cm\" viewBox=\"-10.41 -0.45 1.46 1.04\" xmlns=\"http://www.w3.org/2000/svg\" version=\"1.1\">\n  <defs>\n    <mask id=\"mask-8f8a9b9b-2b38-4d34-9769-8c85e77571f9\">\n      <rect x=\"-10.41\" y=\"-0.45\" width=\"1.46\" height=\"1.04\" fill=\"white\"/>\n      <g fill=\"black\">\n        <circle cx=\"-9.38\" cy=\"-0.14\" r=\"0.12\"/>\n      </g>\n    </mask>\n  </defs>\n  <g fill=\"none\" stroke=\"black\" stroke-width=\"0.03\"  mask=\"url(#mask-8f8a9b9b-2b38-4d34-9769-8c85e77571f9)\">\n    <line x1=\"-10.41\" y1=\"-0.45\" x2=\"-8.95\" y2=\"-0.45\" stroke=\"none\"/>\n    <line x1=\"-10.10\" y1=\"0.28\" x2=\"-9.38\" y2=\"-0.14\"/>\n  </g>\n  <g font-family=\"monospace\">\n    <g fill=\"#FF0D0D\">\n      <text x=\"-9.38\" y=\"-0.14\" dx=\"-0.07\" dy=\"0.07\" font-size=\"0.25\">OH</text>\n      <text x=\"-9.38\" y=\"-0.14\" dx=\"-0.07\" dy=\"-0.05\" font-size=\"0.15\" text-anchor=\"end\">15</text>\n    </g>\n    <g fill=\"#788CFF\" font-size=\"0.20\">\n      <text x=\"-10.10\" y=\"0.28\" text-anchor=\"middle\">4</text>\n      <text x=\"-9.38\" y=\"-0.14\" dx=\"-0.07\" dy=\"0.20\" text-anchor=\"end\">1</text>\n    </g>\n  </g>\n</svg>"
     },
     "metadata": {},
     "output_type": "execute_result",
     "execution_count": 34
    }
   ],
   "source": [
    "m1"
   ]
  },
  {
   "cell_type": "code",
   "execution_count": 35,
   "metadata": {
    "pycharm": {
     "is_executing": false
    }
   },
   "outputs": [
    {
     "data": {
      "text/plain": "[]"
     },
     "metadata": {},
     "output_type": "execute_result",
     "execution_count": 35
    }
   ],
   "source": [
    "m1.check_valence() # return list of numbers of atoms with invalid valences"
   ]
  },
  {
   "cell_type": "code",
   "execution_count": 36,
   "metadata": {
    "pycharm": {
     "is_executing": false
    }
   },
   "outputs": [
    {
     "data": {
      "text/plain": "<CGRtools.containers.molecule.MoleculeContainer at 0x11fb52b88>",
      "image/svg+xml": "<svg width=\"1.46cm\" height=\"1.04cm\" viewBox=\"-10.41 -0.45 1.46 1.04\" xmlns=\"http://www.w3.org/2000/svg\" version=\"1.1\">\n  <defs>\n    <mask id=\"mask-8a926108-b563-45ff-9cc6-27d67fb85413\">\n      <rect x=\"-10.41\" y=\"-0.45\" width=\"1.46\" height=\"1.04\" fill=\"white\"/>\n      <g fill=\"black\">\n        <circle cx=\"-9.38\" cy=\"-0.14\" r=\"0.12\"/>\n      </g>\n    </mask>\n  </defs>\n  <g fill=\"none\" stroke=\"black\" stroke-width=\"0.03\"  mask=\"url(#mask-8a926108-b563-45ff-9cc6-27d67fb85413)\">\n    <line x1=\"-10.13\" y1=\"0.21\" x2=\"-9.42\" y2=\"-0.20\"/>\n    <line x1=\"-10.10\" y1=\"0.28\" x2=\"-9.38\" y2=\"-0.14\"/>\n    <line x1=\"-10.06\" y1=\"0.34\" x2=\"-9.35\" y2=\"-0.08\"/>\n  </g>\n  <g font-family=\"monospace\">\n    <g fill=\"#FF0D0D\">\n      <text x=\"-9.38\" y=\"-0.14\" dx=\"-0.07\" dy=\"0.07\" font-size=\"0.25\">O</text>\n    </g>\n    <g fill=\"#788CFF\" font-size=\"0.20\">\n      <text x=\"-10.10\" y=\"0.28\" text-anchor=\"middle\">4</text>\n      <text x=\"-9.38\" y=\"-0.14\" dx=\"-0.07\" dy=\"0.20\" text-anchor=\"end\">1</text>\n    </g>\n  </g>\n</svg>"
     },
     "metadata": {},
     "output_type": "execute_result",
     "execution_count": 36
    }
   ],
   "source": [
    "m4 # molecule with valence errors"
   ]
  },
  {
   "cell_type": "code",
   "execution_count": 37,
   "metadata": {
    "pycharm": {
     "is_executing": false
    }
   },
   "outputs": [
    {
     "data": {
      "text/plain": "[1]"
     },
     "metadata": {},
     "output_type": "execute_result",
     "execution_count": 37
    }
   ],
   "source": [
    "m4.check_valence()"
   ]
  },
  {
   "cell_type": "code",
   "execution_count": 38,
   "metadata": {
    "pycharm": {
     "is_executing": false
    }
   },
   "outputs": [
    {
     "data": {
      "text/plain": "<CGRtools.containers.molecule.MoleculeContainer at 0x11fb52ae8>",
      "image/svg+xml": "<svg width=\"2.18cm\" height=\"4.34cm\" viewBox=\"2.12 -4.03 2.18 4.34\" xmlns=\"http://www.w3.org/2000/svg\" version=\"1.1\">\n  <defs>\n    <mask id=\"mask-464991f9-151e-40ca-baa0-dae75e5eb8ae\">\n      <rect x=\"2.12\" y=\"-4.03\" width=\"2.18\" height=\"4.34\" fill=\"white\"/>\n      <g fill=\"black\">\n        <circle cx=\"3.14\" cy=\"-3.30\" r=\"0.12\"/>\n        <circle cx=\"2.43\" cy=\"-3.71\" r=\"0.12\"/>\n        <circle cx=\"3.86\" cy=\"-3.71\" r=\"0.12\"/>\n        <circle cx=\"3.14\" cy=\"-0.00\" r=\"0.12\"/>\n      </g>\n    </mask>\n  </defs>\n  <g fill=\"none\" stroke=\"black\" stroke-width=\"0.03\"  mask=\"url(#mask-464991f9-151e-40ca-baa0-dae75e5eb8ae)\">\n    <line x1=\"3.14\" y1=\"-2.48\" x2=\"3.86\" y2=\"-2.06\"/>\n    <line x1=\"3.16\" y1=\"-2.44\" x2=\"2.45\" y2=\"-2.03\"/>\n    <line x1=\"3.12\" y1=\"-2.51\" x2=\"2.41\" y2=\"-2.10\"/>\n    <line x1=\"3.14\" y1=\"-2.48\" x2=\"3.14\" y2=\"-3.30\"/>\n    <line x1=\"3.90\" y1=\"-2.06\" x2=\"3.90\" y2=\"-1.24\"/>\n    <line x1=\"3.82\" y1=\"-2.06\" x2=\"3.82\" y2=\"-1.24\"/>\n    <line x1=\"3.86\" y1=\"-1.24\" x2=\"3.14\" y2=\"-0.82\"/>\n    <line x1=\"3.12\" y1=\"-0.79\" x2=\"2.41\" y2=\"-1.20\"/>\n    <line x1=\"3.16\" y1=\"-0.86\" x2=\"2.45\" y2=\"-1.27\"/>\n    <line x1=\"3.14\" y1=\"-0.82\" x2=\"3.14\" y2=\"-0.00\"/>\n    <line x1=\"2.43\" y1=\"-1.24\" x2=\"2.43\" y2=\"-2.06\"/>\n    <line x1=\"3.12\" y1=\"-3.27\" x2=\"2.41\" y2=\"-3.68\"/>\n    <line x1=\"3.16\" y1=\"-3.33\" x2=\"2.45\" y2=\"-3.75\"/>\n    <line x1=\"3.12\" y1=\"-3.33\" x2=\"3.84\" y2=\"-3.75\"/>\n    <line x1=\"3.16\" y1=\"-3.27\" x2=\"3.88\" y2=\"-3.68\"/>\n  </g>\n  <g font-family=\"monospace\">\n    <g fill=\"#3050F8\">\n      <text x=\"3.14\" y=\"-3.30\" dx=\"-0.07\" dy=\"0.07\" font-size=\"0.25\">N</text>\n    </g>\n    <g fill=\"#FF0D0D\">\n      <text x=\"2.43\" y=\"-3.71\" dx=\"-0.07\" dy=\"0.07\" font-size=\"0.25\">O</text>\n    </g>\n    <g fill=\"#FF0D0D\">\n      <text x=\"3.86\" y=\"-3.71\" dx=\"-0.07\" dy=\"0.07\" font-size=\"0.25\">O</text>\n    </g>\n    <g fill=\"#FF0D0D\">\n      <text x=\"3.14\" y=\"-0.00\" dx=\"-0.07\" dy=\"0.07\" font-size=\"0.25\">OH</text>\n    </g>\n    <g fill=\"#788CFF\" font-size=\"0.20\">\n      <text x=\"3.14\" y=\"-2.48\" text-anchor=\"middle\">4</text>\n      <text x=\"3.86\" y=\"-2.06\" text-anchor=\"middle\">5</text>\n      <text x=\"3.86\" y=\"-1.24\" text-anchor=\"middle\">6</text>\n      <text x=\"3.14\" y=\"-0.82\" text-anchor=\"middle\">7</text>\n      <text x=\"2.43\" y=\"-1.24\" text-anchor=\"middle\">8</text>\n      <text x=\"2.43\" y=\"-2.06\" text-anchor=\"middle\">9</text>\n      <text x=\"3.14\" y=\"-3.30\" dx=\"-0.07\" dy=\"0.20\" text-anchor=\"end\">10</text>\n      <text x=\"2.43\" y=\"-3.71\" dx=\"-0.07\" dy=\"0.20\" text-anchor=\"end\">11</text>\n      <text x=\"3.86\" y=\"-3.71\" dx=\"-0.07\" dy=\"0.20\" text-anchor=\"end\">12</text>\n      <text x=\"3.14\" y=\"-0.00\" dx=\"-0.07\" dy=\"0.20\" text-anchor=\"end\">13</text>\n    </g>\n  </g>\n</svg>"
     },
     "metadata": {},
     "output_type": "execute_result",
     "execution_count": 38
    }
   ],
   "source": [
    "m3"
   ]
  },
  {
   "cell_type": "code",
   "execution_count": 39,
   "metadata": {
    "pycharm": {
     "is_executing": false
    }
   },
   "outputs": [
    {
     "data": {
      "text/plain": "((4, 9, 8, 7, 6, 5),)"
     },
     "metadata": {},
     "output_type": "execute_result",
     "execution_count": 39
    }
   ],
   "source": [
    "m3.sssr # Method for application of Smallest Set of Smallest Rings algorithm for rings \n",
    "        # identification. Returns list of lists of atoms forming smallest rings"
   ]
  },
  {
   "cell_type": "markdown",
   "metadata": {},
   "source": [
    "#### Connected components.\n",
    "Sometimes molecules has disconnected components (salts etc).\n",
    "\n",
    "One can find them and split molecule to separate components."
   ]
  },
  {
   "cell_type": "code",
   "execution_count": 40,
   "metadata": {
    "scrolled": true,
    "pycharm": {
     "is_executing": false
    }
   },
   "outputs": [
    {
     "data": {
      "text/plain": "<CGRtools.containers.molecule.MoleculeContainer at 0x11fb52a48>",
      "image/svg+xml": "<svg width=\"8.25cm\" height=\"2.77cm\" viewBox=\"-7.81 -1.38 8.25 2.77\" xmlns=\"http://www.w3.org/2000/svg\" version=\"1.1\">\n  <defs>\n    <mask id=\"mask-39a57f44-a3d7-48a1-b8ad-bdc5536efd76\">\n      <rect x=\"-7.81\" y=\"-1.38\" width=\"8.25\" height=\"2.77\" fill=\"white\"/>\n      <g fill=\"black\">\n        <circle cx=\"-6.67\" cy=\"-1.07\" r=\"0.12\"/>\n        <circle cx=\"-5.44\" cy=\"-0.36\" r=\"0.12\"/>\n        <circle cx=\"-6.26\" cy=\"1.07\" r=\"0.12\"/>\n        <circle cx=\"-7.50\" cy=\"0.36\" r=\"0.12\"/>\n        <circle cx=\"0.00\" cy=\"-0.00\" r=\"0.12\"/>\n      </g>\n    </mask>\n  </defs>\n  <g fill=\"none\" stroke=\"black\" stroke-width=\"0.03\"  mask=\"url(#mask-39a57f44-a3d7-48a1-b8ad-bdc5536efd76)\">\n    <line x1=\"-6.26\" y1=\"-0.36\" x2=\"-6.67\" y2=\"0.36\"/>\n    <line x1=\"-6.30\" y1=\"-0.34\" x2=\"-6.71\" y2=\"-1.05\"/>\n    <line x1=\"-6.23\" y1=\"-0.38\" x2=\"-6.64\" y2=\"-1.09\"/>\n    <line x1=\"-6.26\" y1=\"-0.36\" x2=\"-5.44\" y2=\"-0.36\"/>\n    <line x1=\"-6.64\" y1=\"0.34\" x2=\"-6.23\" y2=\"1.05\"/>\n    <line x1=\"-6.71\" y1=\"0.38\" x2=\"-6.30\" y2=\"1.09\"/>\n    <line x1=\"-6.67\" y1=\"0.36\" x2=\"-7.50\" y2=\"0.36\"/>\n  </g>\n  <g font-family=\"monospace\">\n    <g fill=\"#FF0D0D\">\n      <text x=\"-6.67\" y=\"-1.07\" dx=\"-0.07\" dy=\"0.07\" font-size=\"0.25\">O</text>\n    </g>\n    <g fill=\"#FF0D0D\">\n      <text x=\"-5.44\" y=\"-0.36\" dx=\"-0.07\" dy=\"0.07\" font-size=\"0.25\">O</text>\n      <text x=\"-5.44\" y=\"-0.36\" dx=\"0.05\" dy=\"-0.12\" font-size=\"0.15\">⁃</text>\n    </g>\n    <g fill=\"#FF0D0D\">\n      <text x=\"-6.26\" y=\"1.07\" dx=\"-0.07\" dy=\"0.07\" font-size=\"0.25\">O</text>\n    </g>\n    <g fill=\"#FF0D0D\">\n      <text x=\"-7.50\" y=\"0.36\" dx=\"-0.07\" dy=\"0.07\" font-size=\"0.25\">OH</text>\n    </g>\n    <g fill=\"#AB5CF2\">\n      <text x=\"0.00\" y=\"-0.00\" dx=\"-0.07\" dy=\"0.07\" font-size=\"0.25\">Na</text>\n      <text x=\"0.00\" y=\"-0.00\" dx=\"0.05\" dy=\"-0.12\" font-size=\"0.15\">+</text>\n    </g>\n    <g fill=\"#788CFF\" font-size=\"0.20\">\n      <text x=\"-6.26\" y=\"-0.36\" text-anchor=\"middle\">5</text>\n      <text x=\"-6.67\" y=\"0.36\" text-anchor=\"middle\">6</text>\n      <text x=\"-6.67\" y=\"-1.07\" dx=\"-0.07\" dy=\"0.20\" text-anchor=\"end\">7</text>\n      <text x=\"-5.44\" y=\"-0.36\" dx=\"-0.07\" dy=\"0.20\" text-anchor=\"end\">8</text>\n      <text x=\"-6.26\" y=\"1.07\" dx=\"-0.07\" dy=\"0.20\" text-anchor=\"end\">9</text>\n      <text x=\"-7.50\" y=\"0.36\" dx=\"-0.07\" dy=\"0.20\" text-anchor=\"end\">10</text>\n      <text x=\"0.00\" y=\"-0.00\" dx=\"-0.07\" dy=\"0.20\" text-anchor=\"end\">11</text>\n    </g>\n  </g>\n</svg>"
     },
     "metadata": {},
     "output_type": "execute_result",
     "execution_count": 40
    }
   ],
   "source": [
    "m2 # it's a salt represented as one graph"
   ]
  },
  {
   "cell_type": "code",
   "execution_count": 41,
   "metadata": {
    "pycharm": {
     "is_executing": false
    }
   },
   "outputs": [
    {
     "data": {
      "text/plain": "((5, 8, 6, 7, 9, 10), (11,))"
     },
     "metadata": {},
     "output_type": "execute_result",
     "execution_count": 41
    }
   ],
   "source": [
    "m2.connected_components # list of lists of atoms belonging to graph components"
   ]
  },
  {
   "cell_type": "code",
   "execution_count": 42,
   "metadata": {
    "pycharm": {
     "is_executing": false
    }
   },
   "outputs": [],
   "source": [
    "anion, cation = m2.split() # split molecule to components"
   ]
  },
  {
   "cell_type": "code",
   "execution_count": 43,
   "metadata": {
    "pycharm": {
     "is_executing": false
    }
   },
   "outputs": [
    {
     "data": {
      "text/plain": "<CGRtools.containers.molecule.MoleculeContainer at 0x11fbe9cc8>",
      "image/svg+xml": "<svg width=\"2.81cm\" height=\"2.77cm\" viewBox=\"-7.81 -1.38 2.81 2.77\" xmlns=\"http://www.w3.org/2000/svg\" version=\"1.1\">\n  <defs>\n    <mask id=\"mask-34ae06e9-c0e2-4f4a-89e1-51ec4aa14138\">\n      <rect x=\"-7.81\" y=\"-1.38\" width=\"2.81\" height=\"2.77\" fill=\"white\"/>\n      <g fill=\"black\">\n        <circle cx=\"-6.67\" cy=\"-1.07\" r=\"0.12\"/>\n        <circle cx=\"-5.44\" cy=\"-0.36\" r=\"0.12\"/>\n        <circle cx=\"-6.26\" cy=\"1.07\" r=\"0.12\"/>\n        <circle cx=\"-7.50\" cy=\"0.36\" r=\"0.12\"/>\n      </g>\n    </mask>\n  </defs>\n  <g fill=\"none\" stroke=\"black\" stroke-width=\"0.03\"  mask=\"url(#mask-34ae06e9-c0e2-4f4a-89e1-51ec4aa14138)\">\n    <line x1=\"-6.26\" y1=\"-0.36\" x2=\"-6.67\" y2=\"0.36\"/>\n    <line x1=\"-6.30\" y1=\"-0.34\" x2=\"-6.71\" y2=\"-1.05\"/>\n    <line x1=\"-6.23\" y1=\"-0.38\" x2=\"-6.64\" y2=\"-1.09\"/>\n    <line x1=\"-6.26\" y1=\"-0.36\" x2=\"-5.44\" y2=\"-0.36\"/>\n    <line x1=\"-6.64\" y1=\"0.34\" x2=\"-6.23\" y2=\"1.05\"/>\n    <line x1=\"-6.71\" y1=\"0.38\" x2=\"-6.30\" y2=\"1.09\"/>\n    <line x1=\"-6.67\" y1=\"0.36\" x2=\"-7.50\" y2=\"0.36\"/>\n  </g>\n  <g font-family=\"monospace\">\n    <g fill=\"#FF0D0D\">\n      <text x=\"-6.67\" y=\"-1.07\" dx=\"-0.07\" dy=\"0.07\" font-size=\"0.25\">O</text>\n    </g>\n    <g fill=\"#FF0D0D\">\n      <text x=\"-5.44\" y=\"-0.36\" dx=\"-0.07\" dy=\"0.07\" font-size=\"0.25\">O</text>\n      <text x=\"-5.44\" y=\"-0.36\" dx=\"0.05\" dy=\"-0.12\" font-size=\"0.15\">⁃</text>\n    </g>\n    <g fill=\"#FF0D0D\">\n      <text x=\"-6.26\" y=\"1.07\" dx=\"-0.07\" dy=\"0.07\" font-size=\"0.25\">O</text>\n    </g>\n    <g fill=\"#FF0D0D\">\n      <text x=\"-7.50\" y=\"0.36\" dx=\"-0.07\" dy=\"0.07\" font-size=\"0.25\">OH</text>\n    </g>\n    <g fill=\"#788CFF\" font-size=\"0.20\">\n      <text x=\"-6.26\" y=\"-0.36\" text-anchor=\"middle\">5</text>\n      <text x=\"-6.67\" y=\"0.36\" text-anchor=\"middle\">6</text>\n      <text x=\"-6.67\" y=\"-1.07\" dx=\"-0.07\" dy=\"0.20\" text-anchor=\"end\">7</text>\n      <text x=\"-5.44\" y=\"-0.36\" dx=\"-0.07\" dy=\"0.20\" text-anchor=\"end\">8</text>\n      <text x=\"-6.26\" y=\"1.07\" dx=\"-0.07\" dy=\"0.20\" text-anchor=\"end\">9</text>\n      <text x=\"-7.50\" y=\"0.36\" dx=\"-0.07\" dy=\"0.20\" text-anchor=\"end\">10</text>\n    </g>\n  </g>\n</svg>"
     },
     "metadata": {},
     "output_type": "execute_result",
     "execution_count": 43
    }
   ],
   "source": [
    "anion # graph of only one salt component"
   ]
  },
  {
   "cell_type": "code",
   "execution_count": 44,
   "metadata": {
    "pycharm": {
     "is_executing": false
    }
   },
   "outputs": [
    {
     "data": {
      "text/plain": "<CGRtools.containers.molecule.MoleculeContainer at 0x11fbe9908>",
      "image/svg+xml": "<svg width=\"0.75cm\" height=\"0.62cm\" viewBox=\"-0.31 -0.31 0.75 0.62\" xmlns=\"http://www.w3.org/2000/svg\" version=\"1.1\">\n  <g font-family=\"monospace\">\n    <g fill=\"#AB5CF2\">\n      <text x=\"0.00\" y=\"-0.00\" dx=\"-0.07\" dy=\"0.07\" font-size=\"0.25\">Na</text>\n      <text x=\"0.00\" y=\"-0.00\" dx=\"0.05\" dy=\"-0.12\" font-size=\"0.15\">+</text>\n    </g>\n    <g fill=\"#788CFF\" font-size=\"0.20\">\n      <text x=\"0.00\" y=\"-0.00\" dx=\"-0.07\" dy=\"0.20\" text-anchor=\"end\">11</text>\n    </g>\n  </g>\n</svg>"
     },
     "metadata": {},
     "output_type": "execute_result",
     "execution_count": 44
    }
   ],
   "source": [
    "cation # graph of only one salt component"
   ]
  },
  {
   "cell_type": "markdown",
   "metadata": {},
   "source": [
    "#### Union of molecules\n",
    "Sometimes it is more convenient to represent salts as ion pair. Otherwise ambiguity could be introduced, for example in reaction of salt exchange:\n",
    "\n",
    "**Ag+** + **NO3-** + **Na+** + **Br-** = **Ag+** + **Br-** + **Na+** + **NO3-**. Reactants and products sets are the same. \n",
    "\n",
    "In this case one can combine anion-cation pair into single graph. It could be convenient way to represent other molecule mixtures."
   ]
  },
  {
   "cell_type": "code",
   "execution_count": 45,
   "metadata": {
    "pycharm": {
     "is_executing": false
    }
   },
   "outputs": [
    {
     "data": {
      "text/plain": "<CGRtools.containers.molecule.MoleculeContainer at 0x11fbe9d68>",
      "image/svg+xml": "<svg width=\"8.25cm\" height=\"2.77cm\" viewBox=\"-7.81 -1.38 8.25 2.77\" xmlns=\"http://www.w3.org/2000/svg\" version=\"1.1\">\n  <defs>\n    <mask id=\"mask-4a50c424-e535-4dd9-8546-5bd5aabeabbd\">\n      <rect x=\"-7.81\" y=\"-1.38\" width=\"8.25\" height=\"2.77\" fill=\"white\"/>\n      <g fill=\"black\">\n        <circle cx=\"-6.67\" cy=\"-1.07\" r=\"0.12\"/>\n        <circle cx=\"-5.44\" cy=\"-0.36\" r=\"0.12\"/>\n        <circle cx=\"-6.26\" cy=\"1.07\" r=\"0.12\"/>\n        <circle cx=\"-7.50\" cy=\"0.36\" r=\"0.12\"/>\n        <circle cx=\"0.00\" cy=\"-0.00\" r=\"0.12\"/>\n      </g>\n    </mask>\n  </defs>\n  <g fill=\"none\" stroke=\"black\" stroke-width=\"0.03\"  mask=\"url(#mask-4a50c424-e535-4dd9-8546-5bd5aabeabbd)\">\n    <line x1=\"-6.26\" y1=\"-0.36\" x2=\"-6.67\" y2=\"0.36\"/>\n    <line x1=\"-6.30\" y1=\"-0.34\" x2=\"-6.71\" y2=\"-1.05\"/>\n    <line x1=\"-6.23\" y1=\"-0.38\" x2=\"-6.64\" y2=\"-1.09\"/>\n    <line x1=\"-6.26\" y1=\"-0.36\" x2=\"-5.44\" y2=\"-0.36\"/>\n    <line x1=\"-6.64\" y1=\"0.34\" x2=\"-6.23\" y2=\"1.05\"/>\n    <line x1=\"-6.71\" y1=\"0.38\" x2=\"-6.30\" y2=\"1.09\"/>\n    <line x1=\"-6.67\" y1=\"0.36\" x2=\"-7.50\" y2=\"0.36\"/>\n  </g>\n  <g font-family=\"monospace\">\n    <g fill=\"#FF0D0D\">\n      <text x=\"-6.67\" y=\"-1.07\" dx=\"-0.07\" dy=\"0.07\" font-size=\"0.25\">O</text>\n    </g>\n    <g fill=\"#FF0D0D\">\n      <text x=\"-5.44\" y=\"-0.36\" dx=\"-0.07\" dy=\"0.07\" font-size=\"0.25\">O</text>\n      <text x=\"-5.44\" y=\"-0.36\" dx=\"0.05\" dy=\"-0.12\" font-size=\"0.15\">⁃</text>\n    </g>\n    <g fill=\"#FF0D0D\">\n      <text x=\"-6.26\" y=\"1.07\" dx=\"-0.07\" dy=\"0.07\" font-size=\"0.25\">O</text>\n    </g>\n    <g fill=\"#FF0D0D\">\n      <text x=\"-7.50\" y=\"0.36\" dx=\"-0.07\" dy=\"0.07\" font-size=\"0.25\">OH</text>\n    </g>\n    <g fill=\"#AB5CF2\">\n      <text x=\"0.00\" y=\"-0.00\" dx=\"-0.07\" dy=\"0.07\" font-size=\"0.25\">Na</text>\n      <text x=\"0.00\" y=\"-0.00\" dx=\"0.05\" dy=\"-0.12\" font-size=\"0.15\">+</text>\n    </g>\n    <g fill=\"#788CFF\" font-size=\"0.20\">\n      <text x=\"-6.26\" y=\"-0.36\" text-anchor=\"middle\">5</text>\n      <text x=\"-6.67\" y=\"0.36\" text-anchor=\"middle\">6</text>\n      <text x=\"-6.67\" y=\"-1.07\" dx=\"-0.07\" dy=\"0.20\" text-anchor=\"end\">7</text>\n      <text x=\"-5.44\" y=\"-0.36\" dx=\"-0.07\" dy=\"0.20\" text-anchor=\"end\">8</text>\n      <text x=\"-6.26\" y=\"1.07\" dx=\"-0.07\" dy=\"0.20\" text-anchor=\"end\">9</text>\n      <text x=\"-7.50\" y=\"0.36\" dx=\"-0.07\" dy=\"0.20\" text-anchor=\"end\">10</text>\n      <text x=\"0.00\" y=\"-0.00\" dx=\"-0.07\" dy=\"0.20\" text-anchor=\"end\">11</text>\n    </g>\n  </g>\n</svg>"
     },
     "metadata": {},
     "output_type": "execute_result",
     "execution_count": 45
    }
   ],
   "source": [
    "salt = anion | cation \n",
    "\n",
    "# or \n",
    "\n",
    "anion.union(cation)\n",
    "\n",
    "salt # this graph has disconnected components, it is considered single compound now"
   ]
  },
  {
   "cell_type": "markdown",
   "metadata": {},
   "source": [
    "#### Substructures could be extracted from molecules.\n",
    "\n",
    "By default, returned substructures are read-only projections of original molecule (except attributes of atoms/bonds). \n",
    "\n",
    "Changes in original molecule (bond breaking/formation, atom insertion/deletion, atom/bond attributes changes) will be mirrored in projection.  \n",
    "\n",
    "Projections share the same neighbors and hybridization attributes as in initial molecule even if could be wrong for substructure "
   ]
  },
  {
   "cell_type": "code",
   "execution_count": 46,
   "metadata": {
    "pycharm": {
     "is_executing": false
    }
   },
   "outputs": [
    {
     "data": {
      "text/plain": "<CGRtools.containers.molecule.MoleculeContainer at 0x11fbe9728>",
      "image/svg+xml": "<svg width=\"2.18cm\" height=\"2.28cm\" viewBox=\"2.12 -2.79 2.18 2.28\" xmlns=\"http://www.w3.org/2000/svg\" version=\"1.1\">\n  <g fill=\"none\" stroke=\"black\" stroke-width=\"0.03\">\n    <line x1=\"3.14\" y1=\"-2.48\" x2=\"3.86\" y2=\"-2.06\"/>\n    <line x1=\"3.16\" y1=\"-2.44\" x2=\"2.45\" y2=\"-2.03\"/>\n    <line x1=\"3.12\" y1=\"-2.51\" x2=\"2.41\" y2=\"-2.10\"/>\n    <line x1=\"3.90\" y1=\"-2.06\" x2=\"3.90\" y2=\"-1.24\"/>\n    <line x1=\"3.82\" y1=\"-2.06\" x2=\"3.82\" y2=\"-1.24\"/>\n    <line x1=\"3.86\" y1=\"-1.24\" x2=\"3.14\" y2=\"-0.82\"/>\n    <line x1=\"3.12\" y1=\"-0.79\" x2=\"2.41\" y2=\"-1.20\"/>\n    <line x1=\"3.16\" y1=\"-0.86\" x2=\"2.45\" y2=\"-1.27\"/>\n    <line x1=\"2.43\" y1=\"-1.24\" x2=\"2.43\" y2=\"-2.06\"/>\n  </g>\n  <g font-family=\"monospace\">\n    <g fill=\"#788CFF\" font-size=\"0.20\">\n      <text x=\"3.14\" y=\"-2.48\" text-anchor=\"middle\">4</text>\n      <text x=\"3.86\" y=\"-2.06\" text-anchor=\"middle\">5</text>\n      <text x=\"3.86\" y=\"-1.24\" text-anchor=\"middle\">6</text>\n      <text x=\"3.14\" y=\"-0.82\" text-anchor=\"middle\">7</text>\n      <text x=\"2.43\" y=\"-1.24\" text-anchor=\"middle\">8</text>\n      <text x=\"2.43\" y=\"-2.06\" text-anchor=\"middle\">9</text>\n    </g>\n  </g>\n</svg>"
     },
     "metadata": {},
     "output_type": "execute_result",
     "execution_count": 46
    }
   ],
   "source": [
    "proj = m3.substructure([4,5,6,7,8,9])  # projection of substructure\n",
    "proj"
   ]
  },
  {
   "cell_type": "code",
   "execution_count": 47,
   "metadata": {
    "pycharm": {
     "is_executing": false
    }
   },
   "outputs": [
    {
     "data": {
      "text/plain": "3"
     },
     "metadata": {},
     "output_type": "execute_result",
     "execution_count": 47
    }
   ],
   "source": [
    "m3.atom(4).neighbors"
   ]
  },
  {
   "cell_type": "code",
   "execution_count": 48,
   "metadata": {
    "pycharm": {
     "is_executing": false
    }
   },
   "outputs": [
    {
     "data": {
      "text/plain": "2"
     },
     "metadata": {},
     "output_type": "execute_result",
     "execution_count": 48
    }
   ],
   "source": [
    "proj.atom(4).neighbors # same as in original molecule and not as it should be in substructure"
   ]
  },
  {
   "cell_type": "code",
   "execution_count": 49,
   "metadata": {
    "pycharm": {
     "is_executing": false
    }
   },
   "outputs": [
    {
     "data": {
      "text/plain": "<CGRtools.containers.molecule.MoleculeContainer at 0x11fbe9e08>",
      "image/svg+xml": "<svg width=\"2.18cm\" height=\"2.28cm\" viewBox=\"2.12 -2.79 2.18 2.28\" xmlns=\"http://www.w3.org/2000/svg\" version=\"1.1\">\n  <g fill=\"none\" stroke=\"black\" stroke-width=\"0.03\">\n    <line x1=\"3.14\" y1=\"-2.48\" x2=\"3.86\" y2=\"-2.06\"/>\n    <line x1=\"3.16\" y1=\"-2.44\" x2=\"2.45\" y2=\"-2.03\"/>\n    <line x1=\"3.12\" y1=\"-2.51\" x2=\"2.41\" y2=\"-2.10\"/>\n    <line x1=\"3.90\" y1=\"-2.06\" x2=\"3.90\" y2=\"-1.24\"/>\n    <line x1=\"3.82\" y1=\"-2.06\" x2=\"3.82\" y2=\"-1.24\"/>\n    <line x1=\"3.86\" y1=\"-1.24\" x2=\"3.14\" y2=\"-0.82\"/>\n    <line x1=\"3.12\" y1=\"-0.79\" x2=\"2.41\" y2=\"-1.20\"/>\n    <line x1=\"3.16\" y1=\"-0.86\" x2=\"2.45\" y2=\"-1.27\"/>\n    <line x1=\"2.43\" y1=\"-1.24\" x2=\"2.43\" y2=\"-2.06\"/>\n  </g>\n  <g font-family=\"monospace\">\n    <g fill=\"#788CFF\" font-size=\"0.20\">\n      <text x=\"3.14\" y=\"-2.48\" text-anchor=\"middle\">4</text>\n      <text x=\"3.86\" y=\"-2.06\" text-anchor=\"middle\">5</text>\n      <text x=\"3.86\" y=\"-1.24\" text-anchor=\"middle\">6</text>\n      <text x=\"3.14\" y=\"-0.82\" text-anchor=\"middle\">7</text>\n      <text x=\"2.43\" y=\"-1.24\" text-anchor=\"middle\">8</text>\n      <text x=\"2.43\" y=\"-2.06\" text-anchor=\"middle\">9</text>\n    </g>\n  </g>\n</svg>"
     },
     "metadata": {},
     "output_type": "execute_result",
     "execution_count": 49
    }
   ],
   "source": [
    "benzene = m3.substructure([4,5,6,7,8,9]) # Substructure could be extracted as isolated graph (not projection)\n",
    "benzene"
   ]
  },
  {
   "cell_type": "code",
   "execution_count": 50,
   "metadata": {
    "pycharm": {
     "is_executing": false
    }
   },
   "outputs": [
    {
     "data": {
      "text/plain": "2"
     },
     "metadata": {},
     "output_type": "execute_result",
     "execution_count": 50
    }
   ],
   "source": [
    "benzene.atom(4).neighbors # now number of neighbors for atom 4 is 2. It is not 3 as above where projection was used."
   ]
  },
  {
   "cell_type": "markdown",
   "metadata": {},
   "source": [
    "Note:\n",
    "\n",
    "* Projection of projection also projection of original molecule\n",
    "* Projection can be converted to isolated molecule by calling method copy()"
   ]
  },
  {
   "cell_type": "code",
   "execution_count": 51,
   "metadata": {
    "pycharm": {
     "is_executing": false
    }
   },
   "outputs": [
    {
     "data": {
      "text/plain": "<CGRtools.containers.molecule.MoleculeContainer at 0x11fbe99a8>",
      "image/svg+xml": "<svg width=\"2.18cm\" height=\"2.28cm\" viewBox=\"2.12 -2.79 2.18 2.28\" xmlns=\"http://www.w3.org/2000/svg\" version=\"1.1\">\n  <g fill=\"none\" stroke=\"black\" stroke-width=\"0.03\">\n    <line x1=\"3.14\" y1=\"-2.48\" x2=\"3.86\" y2=\"-2.06\"/>\n    <line x1=\"3.16\" y1=\"-2.44\" x2=\"2.45\" y2=\"-2.03\"/>\n    <line x1=\"3.12\" y1=\"-2.51\" x2=\"2.41\" y2=\"-2.10\"/>\n    <line x1=\"3.90\" y1=\"-2.06\" x2=\"3.90\" y2=\"-1.24\"/>\n    <line x1=\"3.82\" y1=\"-2.06\" x2=\"3.82\" y2=\"-1.24\"/>\n    <line x1=\"3.86\" y1=\"-1.24\" x2=\"3.14\" y2=\"-0.82\"/>\n    <line x1=\"3.12\" y1=\"-0.79\" x2=\"2.41\" y2=\"-1.20\"/>\n    <line x1=\"3.16\" y1=\"-0.86\" x2=\"2.45\" y2=\"-1.27\"/>\n    <line x1=\"2.43\" y1=\"-1.24\" x2=\"2.43\" y2=\"-2.06\"/>\n  </g>\n  <g font-family=\"monospace\">\n    <g fill=\"#788CFF\" font-size=\"0.20\">\n      <text x=\"3.14\" y=\"-2.48\" text-anchor=\"middle\">4</text>\n      <text x=\"3.86\" y=\"-2.06\" text-anchor=\"middle\">5</text>\n      <text x=\"3.86\" y=\"-1.24\" text-anchor=\"middle\">6</text>\n      <text x=\"3.14\" y=\"-0.82\" text-anchor=\"middle\">7</text>\n      <text x=\"2.43\" y=\"-1.24\" text-anchor=\"middle\">8</text>\n      <text x=\"2.43\" y=\"-2.06\" text-anchor=\"middle\">9</text>\n    </g>\n  </g>\n</svg>"
     },
     "metadata": {},
     "output_type": "execute_result",
     "execution_count": 51
    }
   ],
   "source": [
    "proj_copy = proj.copy() # turning projection into molecule using \"copy\" method\n",
    "proj_copy"
   ]
  },
  {
   "cell_type": "markdown",
   "metadata": {},
   "source": [
    "Changes in projection are mirrored. See example:"
   ]
  },
  {
   "cell_type": "code",
   "execution_count": 52,
   "metadata": {
    "pycharm": {
     "is_executing": false
    }
   },
   "outputs": [
    {
     "data": {
      "text/plain": "<CGRtools.containers.molecule.MoleculeContainer at 0x11fb52ae8>",
      "image/svg+xml": "<svg width=\"2.18cm\" height=\"4.34cm\" viewBox=\"2.12 -4.03 2.18 4.34\" xmlns=\"http://www.w3.org/2000/svg\" version=\"1.1\">\n  <defs>\n    <mask id=\"mask-e7dcdb0b-7c1e-46fe-a49c-744d6eba3e48\">\n      <rect x=\"2.12\" y=\"-4.03\" width=\"2.18\" height=\"4.34\" fill=\"white\"/>\n      <g fill=\"black\">\n        <circle cx=\"3.14\" cy=\"-3.30\" r=\"0.12\"/>\n        <circle cx=\"2.43\" cy=\"-3.71\" r=\"0.12\"/>\n        <circle cx=\"3.86\" cy=\"-3.71\" r=\"0.12\"/>\n        <circle cx=\"3.14\" cy=\"-0.00\" r=\"0.12\"/>\n      </g>\n    </mask>\n  </defs>\n  <g fill=\"none\" stroke=\"black\" stroke-width=\"0.03\"  mask=\"url(#mask-e7dcdb0b-7c1e-46fe-a49c-744d6eba3e48)\">\n    <line x1=\"3.16\" y1=\"-2.44\" x2=\"2.45\" y2=\"-2.03\"/>\n    <line x1=\"3.12\" y1=\"-2.51\" x2=\"2.41\" y2=\"-2.10\"/>\n    <line x1=\"3.14\" y1=\"-2.48\" x2=\"3.14\" y2=\"-3.30\"/>\n    <line x1=\"3.90\" y1=\"-2.06\" x2=\"3.90\" y2=\"-1.24\"/>\n    <line x1=\"3.82\" y1=\"-2.06\" x2=\"3.82\" y2=\"-1.24\"/>\n    <line x1=\"3.86\" y1=\"-1.24\" x2=\"3.14\" y2=\"-0.82\"/>\n    <line x1=\"3.12\" y1=\"-0.79\" x2=\"2.41\" y2=\"-1.20\"/>\n    <line x1=\"3.16\" y1=\"-0.86\" x2=\"2.45\" y2=\"-1.27\"/>\n    <line x1=\"3.14\" y1=\"-0.82\" x2=\"3.14\" y2=\"-0.00\"/>\n    <line x1=\"2.43\" y1=\"-1.24\" x2=\"2.43\" y2=\"-2.06\"/>\n    <line x1=\"3.12\" y1=\"-3.27\" x2=\"2.41\" y2=\"-3.68\"/>\n    <line x1=\"3.16\" y1=\"-3.33\" x2=\"2.45\" y2=\"-3.75\"/>\n    <line x1=\"3.12\" y1=\"-3.33\" x2=\"3.84\" y2=\"-3.75\"/>\n    <line x1=\"3.16\" y1=\"-3.27\" x2=\"3.88\" y2=\"-3.68\"/>\n  </g>\n  <g font-family=\"monospace\">\n    <g fill=\"#3050F8\">\n      <text x=\"3.14\" y=\"-3.30\" dx=\"-0.07\" dy=\"0.07\" font-size=\"0.25\">N</text>\n    </g>\n    <g fill=\"#FF0D0D\">\n      <text x=\"2.43\" y=\"-3.71\" dx=\"-0.07\" dy=\"0.07\" font-size=\"0.25\">O</text>\n    </g>\n    <g fill=\"#FF0D0D\">\n      <text x=\"3.86\" y=\"-3.71\" dx=\"-0.07\" dy=\"0.07\" font-size=\"0.25\">O</text>\n    </g>\n    <g fill=\"#FF0D0D\">\n      <text x=\"3.14\" y=\"-0.00\" dx=\"-0.07\" dy=\"0.07\" font-size=\"0.25\">OH</text>\n    </g>\n    <g fill=\"#788CFF\" font-size=\"0.20\">\n      <text x=\"3.14\" y=\"-2.48\" text-anchor=\"middle\">4</text>\n      <text x=\"3.86\" y=\"-2.06\" text-anchor=\"middle\">5</text>\n      <text x=\"3.86\" y=\"-1.24\" text-anchor=\"middle\">6</text>\n      <text x=\"3.14\" y=\"-0.82\" text-anchor=\"middle\">7</text>\n      <text x=\"2.43\" y=\"-1.24\" text-anchor=\"middle\">8</text>\n      <text x=\"2.43\" y=\"-2.06\" text-anchor=\"middle\">9</text>\n      <text x=\"3.14\" y=\"-3.30\" dx=\"-0.07\" dy=\"0.20\" text-anchor=\"end\">10</text>\n      <text x=\"2.43\" y=\"-3.71\" dx=\"-0.07\" dy=\"0.20\" text-anchor=\"end\">11</text>\n      <text x=\"3.86\" y=\"-3.71\" dx=\"-0.07\" dy=\"0.20\" text-anchor=\"end\">12</text>\n      <text x=\"3.14\" y=\"-0.00\" dx=\"-0.07\" dy=\"0.20\" text-anchor=\"end\">13</text>\n    </g>\n  </g>\n</svg>"
     },
     "metadata": {},
     "output_type": "execute_result",
     "execution_count": 52
    }
   ],
   "source": [
    "m3.delete_bond(4, 5) # we've deleted bond\n",
    "m3"
   ]
  },
  {
   "cell_type": "code",
   "execution_count": 53,
   "metadata": {
    "pycharm": {
     "is_executing": false
    }
   },
   "outputs": [
    {
     "data": {
      "text/plain": "<CGRtools.containers.molecule.MoleculeContainer at 0x11fbe9728>",
      "image/svg+xml": "<svg width=\"2.18cm\" height=\"2.28cm\" viewBox=\"2.12 -2.79 2.18 2.28\" xmlns=\"http://www.w3.org/2000/svg\" version=\"1.1\">\n  <g fill=\"none\" stroke=\"black\" stroke-width=\"0.03\">\n    <line x1=\"3.14\" y1=\"-2.48\" x2=\"3.86\" y2=\"-2.06\"/>\n    <line x1=\"3.16\" y1=\"-2.44\" x2=\"2.45\" y2=\"-2.03\"/>\n    <line x1=\"3.12\" y1=\"-2.51\" x2=\"2.41\" y2=\"-2.10\"/>\n    <line x1=\"3.90\" y1=\"-2.06\" x2=\"3.90\" y2=\"-1.24\"/>\n    <line x1=\"3.82\" y1=\"-2.06\" x2=\"3.82\" y2=\"-1.24\"/>\n    <line x1=\"3.86\" y1=\"-1.24\" x2=\"3.14\" y2=\"-0.82\"/>\n    <line x1=\"3.12\" y1=\"-0.79\" x2=\"2.41\" y2=\"-1.20\"/>\n    <line x1=\"3.16\" y1=\"-0.86\" x2=\"2.45\" y2=\"-1.27\"/>\n    <line x1=\"2.43\" y1=\"-1.24\" x2=\"2.43\" y2=\"-2.06\"/>\n  </g>\n  <g font-family=\"monospace\">\n    <g fill=\"#788CFF\" font-size=\"0.20\">\n      <text x=\"3.14\" y=\"-2.48\" text-anchor=\"middle\">4</text>\n      <text x=\"3.86\" y=\"-2.06\" text-anchor=\"middle\">5</text>\n      <text x=\"3.86\" y=\"-1.24\" text-anchor=\"middle\">6</text>\n      <text x=\"3.14\" y=\"-0.82\" text-anchor=\"middle\">7</text>\n      <text x=\"2.43\" y=\"-1.24\" text-anchor=\"middle\">8</text>\n      <text x=\"2.43\" y=\"-2.06\" text-anchor=\"middle\">9</text>\n    </g>\n  </g>\n</svg>"
     },
     "metadata": {},
     "output_type": "execute_result",
     "execution_count": 53
    }
   ],
   "source": [
    "proj.flush_cache() # remove cached image. Note that in projection the bond is also deleted.\n",
    "proj"
   ]
  },
  {
   "cell_type": "markdown",
   "metadata": {},
   "source": [
    "`augmented_substructure` is a substructure consisting from atoms and a given number of shells of neighboring atoms around it.\n",
    "**deep** argument is a number of considered shells. \n",
    "\n",
    "It also returns projection by default."
   ]
  },
  {
   "cell_type": "code",
   "execution_count": 54,
   "metadata": {
    "pycharm": {
     "is_executing": false
    }
   },
   "outputs": [
    {
     "data": {
      "text/plain": "<CGRtools.containers.molecule.MoleculeContainer at 0x11fbe9868>",
      "image/svg+xml": "<svg width=\"2.18cm\" height=\"2.27cm\" viewBox=\"2.12 -4.03 2.18 2.27\" xmlns=\"http://www.w3.org/2000/svg\" version=\"1.1\">\n  <defs>\n    <mask id=\"mask-1e6bd08d-4a6e-4f9b-b079-b360484aa161\">\n      <rect x=\"2.12\" y=\"-4.03\" width=\"2.18\" height=\"2.27\" fill=\"white\"/>\n      <g fill=\"black\">\n        <circle cx=\"3.14\" cy=\"-3.30\" r=\"0.12\"/>\n        <circle cx=\"2.43\" cy=\"-3.71\" r=\"0.12\"/>\n        <circle cx=\"3.86\" cy=\"-3.71\" r=\"0.12\"/>\n      </g>\n    </mask>\n  </defs>\n  <g fill=\"none\" stroke=\"black\" stroke-width=\"0.03\"  mask=\"url(#mask-1e6bd08d-4a6e-4f9b-b079-b360484aa161)\">\n    <line x1=\"3.16\" y1=\"-2.44\" x2=\"2.45\" y2=\"-2.03\"/>\n    <line x1=\"3.12\" y1=\"-2.51\" x2=\"2.41\" y2=\"-2.10\"/>\n    <line x1=\"3.14\" y1=\"-2.48\" x2=\"3.14\" y2=\"-3.30\"/>\n    <line x1=\"3.12\" y1=\"-3.27\" x2=\"2.41\" y2=\"-3.68\"/>\n    <line x1=\"3.16\" y1=\"-3.33\" x2=\"2.45\" y2=\"-3.75\"/>\n    <line x1=\"3.12\" y1=\"-3.33\" x2=\"3.84\" y2=\"-3.75\"/>\n    <line x1=\"3.16\" y1=\"-3.27\" x2=\"3.88\" y2=\"-3.68\"/>\n  </g>\n  <g font-family=\"monospace\">\n    <g fill=\"#3050F8\">\n      <text x=\"3.14\" y=\"-3.30\" dx=\"-0.07\" dy=\"0.07\" font-size=\"0.25\">N</text>\n    </g>\n    <g fill=\"#FF0D0D\">\n      <text x=\"2.43\" y=\"-3.71\" dx=\"-0.07\" dy=\"0.07\" font-size=\"0.25\">O</text>\n    </g>\n    <g fill=\"#FF0D0D\">\n      <text x=\"3.86\" y=\"-3.71\" dx=\"-0.07\" dy=\"0.07\" font-size=\"0.25\">O</text>\n    </g>\n    <g fill=\"#788CFF\" font-size=\"0.20\">\n      <text x=\"3.14\" y=\"-2.48\" text-anchor=\"middle\">4</text>\n      <text x=\"2.43\" y=\"-2.06\" text-anchor=\"middle\">9</text>\n      <text x=\"3.14\" y=\"-3.30\" dx=\"-0.07\" dy=\"0.20\" text-anchor=\"end\">10</text>\n      <text x=\"2.43\" y=\"-3.71\" dx=\"-0.07\" dy=\"0.20\" text-anchor=\"end\">11</text>\n      <text x=\"3.86\" y=\"-3.71\" dx=\"-0.07\" dy=\"0.20\" text-anchor=\"end\">12</text>\n    </g>\n  </g>\n</svg>"
     },
     "metadata": {},
     "output_type": "execute_result",
     "execution_count": 54
    }
   ],
   "source": [
    "aug = m3.augmented_substructure([10], deep=2) #  atom 10 is Nitrogen\n",
    "aug"
   ]
  },
  {
   "cell_type": "code",
   "execution_count": 55,
   "metadata": {
    "pycharm": {
     "is_executing": false
    }
   },
   "outputs": [
    {
     "data": {
      "text/plain": "3"
     },
     "metadata": {},
     "output_type": "execute_result",
     "execution_count": 55
    }
   ],
   "source": [
    "aug.atom(10).hybridization #atom has two incident double bond."
   ]
  },
  {
   "cell_type": "markdown",
   "metadata": {},
   "source": [
    "#### Atoms Ordering.\n",
    "This functionality is used for canonic numbering of atoms in molecules. Prime number multiplication based Morgan algorithm is used for atom ranking. Property `atoms_order` returns dictionary of atom numbers as keys and their ranks according to canonicalization as values. Equal rank mean that atoms are symmetric (are mapped to each other in automorhisms). In present version, instead of sequential ranks prime numbers are returned.\n"
   ]
  },
  {
   "cell_type": "code",
   "execution_count": 56,
   "metadata": {
    "pycharm": {
     "is_executing": false
    }
   },
   "outputs": [
    {
     "data": {
      "text/plain": "{1: 1, 3: 2, 4: 3}"
     },
     "metadata": {},
     "output_type": "execute_result",
     "execution_count": 56
    }
   ],
   "source": [
    "m5.atoms_order"
   ]
  },
  {
   "cell_type": "markdown",
   "metadata": {},
   "source": [
    "#### Atom number can be changed by `remap` method.\n",
    "\n",
    "This method is useful when it is needed to change order of atoms in molecules. First argument to `remap` method is dictionary with existing atom numbers as keys and desired atom number as values. It is possible to change atom numbers for only part of atoms. Atom numbers could be non-sequencial but need to be unique. \n",
    "\n",
    "If argument *copy* is set ***True*** new object will be created, else existing molecule will be changed. Default is ***False***. "
   ]
  },
  {
   "cell_type": "code",
   "execution_count": 57,
   "metadata": {
    "pycharm": {
     "is_executing": false
    }
   },
   "outputs": [
    {
     "name": "stdout",
     "text": [
      "3 C\n",
      "4 C\n",
      "1 O\n",
      "4 3 1\n",
      "1 4 1\n"
     ],
     "output_type": "stream"
    }
   ],
   "source": [
    "for n, a in m5.atoms():\n",
    "    print(n, a.atomic_symbol)\n",
    "for n, m, b in m5.bonds():\n",
    "    print(m, n, b.order)"
   ]
  },
  {
   "cell_type": "code",
   "execution_count": 58,
   "metadata": {
    "pycharm": {
     "is_executing": false
    }
   },
   "outputs": [
    {
     "data": {
      "text/plain": "<CGRtools.containers.molecule.MoleculeContainer at 0x11fbe9f48>",
      "image/svg+xml": "<svg width=\"2.18cm\" height=\"1.04cm\" viewBox=\"-0.31 -0.73 2.18 1.04\" xmlns=\"http://www.w3.org/2000/svg\" version=\"1.1\">\n  <defs>\n    <mask id=\"mask-453a9229-ef64-4d7f-ad32-d29503de5e90\">\n      <rect x=\"-0.31\" y=\"-0.73\" width=\"2.18\" height=\"1.04\" fill=\"white\"/>\n      <g fill=\"black\">\n        <circle cx=\"1.43\" cy=\"-0.41\" r=\"0.12\"/>\n      </g>\n    </mask>\n  </defs>\n  <g fill=\"none\" stroke=\"black\" stroke-width=\"0.03\"  mask=\"url(#mask-453a9229-ef64-4d7f-ad32-d29503de5e90)\">\n    <line x1=\"0.00\" y1=\"-0.41\" x2=\"0.71\" y2=\"-0.00\"/>\n    <line x1=\"0.71\" y1=\"-0.00\" x2=\"1.43\" y2=\"-0.41\"/>\n  </g>\n  <g font-family=\"monospace\">\n    <g fill=\"#FF0D0D\">\n      <text x=\"1.43\" y=\"-0.41\" dx=\"-0.07\" dy=\"0.07\" font-size=\"0.25\">OH</text>\n    </g>\n    <g fill=\"#788CFF\" font-size=\"0.20\">\n      <text x=\"0.00\" y=\"-0.41\" text-anchor=\"middle\">3</text>\n      <text x=\"0.71\" y=\"-0.00\" text-anchor=\"middle\">2</text>\n      <text x=\"1.43\" y=\"-0.41\" dx=\"-0.07\" dy=\"0.20\" text-anchor=\"end\">1</text>\n    </g>\n  </g>\n</svg>"
     },
     "metadata": {},
     "output_type": "execute_result",
     "execution_count": 58
    }
   ],
   "source": [
    "remapped = m5.remap({4:2}, copy=True)\n",
    "remapped"
   ]
  },
  {
   "cell_type": "code",
   "execution_count": 59,
   "metadata": {
    "pycharm": {
     "is_executing": false
    }
   },
   "outputs": [
    {
     "name": "stdout",
     "text": [
      "3 C\n",
      "2 C\n",
      "1 O\n",
      "2 3 1\n",
      "1 2 1\n"
     ],
     "output_type": "stream"
    }
   ],
   "source": [
    "for n, a in remapped.atoms():\n",
    "    print(n, a.atomic_symbol)\n",
    "for n, m, b in remapped.bonds():\n",
    "    print(m, n, b.order)"
   ]
  },
  {
   "cell_type": "markdown",
   "metadata": {},
   "source": [
    "## 1.2. ReactionContainer\n",
    "\n",
    "*ReactionContainer* objects has the following properties:\n",
    "\n",
    "* **reactants** - list of reactants molecules\n",
    "* **reagents** - list of reagents molecules\n",
    "* **products** - list of products molecules\n",
    "* **meta** - dictinary of reaction metadata (DTYPE/DATUM block in RDF)"
   ]
  },
  {
   "cell_type": "code",
   "execution_count": 60,
   "metadata": {
    "pycharm": {
     "is_executing": false
    }
   },
   "outputs": [
    {
     "data": {
      "text/plain": "<CGRtools.containers.reaction.ReactionContainer at 0x11fb8b6c8>",
      "image/svg+xml": "<svg width=\"16.67cm\" height=\"2.77cm\" viewBox=\"-0.31 -1.38 16.67 2.77\" xmlns=\"http://www.w3.org/2000/svg\" version=\"1.1\">\n  <defs>\n    <marker id=\"arrow\" markerWidth=\"10\" markerHeight=\"10\" refX=\"0\" refY=\"3\" orient=\"auto\">\n      <path d=\"M0,0 L0,6 L9,3\"/>\n    </marker>\n    <mask id=\"mask-fdcdcf7a-06ad-4b1c-8b86-2d448a11359e\">\n      <rect x=\"-0.31\" y=\"-1.38\" width=\"16.67\" height=\"2.77\" fill=\"white\"/>\n      <g fill=\"black\">\n        <circle cx=\"1.43\" cy=\"-0.21\" r=\"0.12\"/>\n        <circle cx=\"3.25\" cy=\"-1.07\" r=\"0.12\"/>\n        <circle cx=\"4.49\" cy=\"-0.36\" r=\"0.12\"/>\n        <circle cx=\"3.67\" cy=\"1.07\" r=\"0.12\"/>\n        <circle cx=\"2.43\" cy=\"0.36\" r=\"0.12\"/>\n        <circle cx=\"6.92\" cy=\"-0.21\" r=\"0.12\"/>\n        <circle cx=\"14.49\" cy=\"-0.21\" r=\"0.12\"/>\n        <circle cx=\"12.35\" cy=\"0.21\" r=\"0.12\"/>\n        <circle cx=\"13.06\" cy=\"-1.03\" r=\"0.12\"/>\n        <circle cx=\"13.78\" cy=\"1.03\" r=\"0.12\"/>\n      </g>\n    </mask>\n  </defs>\n  <line x1=\"7.92\" y1=\"0\" x2=\"9.92\" y2=\"0\" fill=\"none\" stroke=\"black\" stroke-width=\".04\" marker-end=\"url(#arrow)\"/>\n  <g fill=\"none\" stroke=\"black\" stroke-width=\"0.03\" mask=\"url(#mask-fdcdcf7a-06ad-4b1c-8b86-2d448a11359e)\">\n    <line x1=\"-0.31\" y1=\"-1.38\" x2=\"16.36\" y2=\"-1.38\" stroke=\"none\"/>\n    <line x1=\"0.00\" y1=\"-0.21\" x2=\"0.71\" y2=\"0.21\"/>\n    <line x1=\"0.71\" y1=\"0.21\" x2=\"1.43\" y2=\"-0.21\"/>\n    <line x1=\"3.67\" y1=\"-0.36\" x2=\"3.25\" y2=\"0.36\"/>\n    <line x1=\"3.63\" y1=\"-0.34\" x2=\"3.22\" y2=\"-1.05\"/>\n    <line x1=\"3.70\" y1=\"-0.38\" x2=\"3.29\" y2=\"-1.09\"/>\n    <line x1=\"3.67\" y1=\"-0.36\" x2=\"4.49\" y2=\"-0.36\"/>\n    <line x1=\"3.29\" y1=\"0.34\" x2=\"3.70\" y2=\"1.05\"/>\n    <line x1=\"3.22\" y1=\"0.38\" x2=\"3.63\" y2=\"1.09\"/>\n    <line x1=\"3.25\" y1=\"0.36\" x2=\"2.43\" y2=\"0.36\"/>\n    <line x1=\"6.21\" y1=\"0.21\" x2=\"5.49\" y2=\"-0.21\"/>\n    <line x1=\"6.21\" y1=\"0.21\" x2=\"6.92\" y2=\"-0.21\"/>\n    <line x1=\"13.78\" y1=\"0.21\" x2=\"13.06\" y2=\"-0.21\"/>\n    <line x1=\"13.78\" y1=\"0.21\" x2=\"14.49\" y2=\"-0.21\"/>\n    <line x1=\"13.82\" y1=\"0.21\" x2=\"13.82\" y2=\"1.03\"/>\n    <line x1=\"13.74\" y1=\"0.21\" x2=\"13.74\" y2=\"1.03\"/>\n    <line x1=\"13.06\" y1=\"-0.21\" x2=\"12.35\" y2=\"0.21\"/>\n    <line x1=\"13.02\" y1=\"-0.21\" x2=\"13.02\" y2=\"-1.03\"/>\n    <line x1=\"13.10\" y1=\"-0.21\" x2=\"13.10\" y2=\"-1.03\"/>\n    <line x1=\"14.49\" y1=\"-0.21\" x2=\"15.21\" y2=\"0.21\"/>\n    <line x1=\"12.35\" y1=\"0.21\" x2=\"11.63\" y2=\"-0.21\"/>\n    <line x1=\"15.21\" y1=\"0.21\" x2=\"15.92\" y2=\"-0.21\"/>\n    <line x1=\"11.63\" y1=\"-0.21\" x2=\"10.92\" y2=\"0.21\"/>\n  </g>\n  <g fill=\"none\" stroke=\"black\" stroke-width=\".04\" >\n    <line x1=\"1.78\" y1=\"0\" x2=\"2.08\" y2=\"0\"/>\n    <line x1=\"1.93\" y1=\"0.15\" x2=\"1.93\" y2=\"-0.15\"/>\n    <line x1=\"4.84\" y1=\"0\" x2=\"5.14\" y2=\"0\"/>\n    <line x1=\"4.99\" y1=\"0.15\" x2=\"4.99\" y2=\"-0.15\"/>\n  </g>\n  <g font-family=\"monospace\">\n    <g fill=\"#FF0D0D\">\n      <text x=\"1.43\" y=\"-0.21\" dx=\"-0.07\" dy=\"0.07\" font-size=\"0.25\">OH</text>\n    </g>\n    <g fill=\"#788CFF\" font-size=\"0.20\">\n      <text x=\"0.00\" y=\"-0.21\" text-anchor=\"middle\">3</text>\n      <text x=\"0.71\" y=\"0.21\" text-anchor=\"middle\">4</text>\n      <text x=\"1.43\" y=\"-0.21\" dx=\"-0.07\" dy=\"0.20\" text-anchor=\"end\">1</text>\n    </g>\n    <g fill=\"#FF0D0D\">\n      <text x=\"3.25\" y=\"-1.07\" dx=\"-0.07\" dy=\"0.07\" font-size=\"0.25\">O</text>\n    </g>\n    <g fill=\"#FF0D0D\">\n      <text x=\"4.49\" y=\"-0.36\" dx=\"-0.07\" dy=\"0.07\" font-size=\"0.25\">OH</text>\n    </g>\n    <g fill=\"#FF0D0D\">\n      <text x=\"3.67\" y=\"1.07\" dx=\"-0.07\" dy=\"0.07\" font-size=\"0.25\">O</text>\n    </g>\n    <g fill=\"#FF0D0D\">\n      <text x=\"2.43\" y=\"0.36\" dx=\"-0.07\" dy=\"0.07\" font-size=\"0.25\">OH</text>\n    </g>\n    <g fill=\"#788CFF\" font-size=\"0.20\">\n      <text x=\"3.67\" y=\"-0.36\" text-anchor=\"middle\">5</text>\n      <text x=\"3.25\" y=\"0.36\" text-anchor=\"middle\">6</text>\n      <text x=\"3.25\" y=\"-1.07\" dx=\"-0.07\" dy=\"0.20\" text-anchor=\"end\">7</text>\n      <text x=\"4.49\" y=\"-0.36\" dx=\"-0.07\" dy=\"0.20\" text-anchor=\"end\">8</text>\n      <text x=\"3.67\" y=\"1.07\" dx=\"-0.07\" dy=\"0.20\" text-anchor=\"end\">9</text>\n      <text x=\"2.43\" y=\"0.36\" dx=\"-0.07\" dy=\"0.20\" text-anchor=\"end\">10</text>\n    </g>\n    <g fill=\"#FF0D0D\">\n      <text x=\"6.92\" y=\"-0.21\" dx=\"-0.07\" dy=\"0.07\" font-size=\"0.25\">O</text>\n      <text x=\"6.92\" y=\"-0.21\" dx=\"0.05\" dy=\"-0.12\" font-size=\"0.15\">⁃</text>\n    </g>\n    <g fill=\"#788CFF\" font-size=\"0.20\">\n      <text x=\"6.21\" y=\"0.21\" text-anchor=\"middle\">11</text>\n      <text x=\"5.49\" y=\"-0.21\" text-anchor=\"middle\">12</text>\n      <text x=\"6.92\" y=\"-0.21\" dx=\"-0.07\" dy=\"0.20\" text-anchor=\"end\">2</text>\n    </g>\n    <g fill=\"#FF0D0D\">\n      <text x=\"14.49\" y=\"-0.21\" dx=\"-0.07\" dy=\"0.07\" font-size=\"0.25\">O</text>\n    </g>\n    <g fill=\"#FF0D0D\">\n      <text x=\"12.35\" y=\"0.21\" dx=\"-0.07\" dy=\"0.07\" font-size=\"0.25\">O</text>\n    </g>\n    <g fill=\"#FF0D0D\">\n      <text x=\"13.06\" y=\"-1.03\" dx=\"-0.07\" dy=\"0.07\" font-size=\"0.25\">O</text>\n    </g>\n    <g fill=\"#FF0D0D\">\n      <text x=\"13.78\" y=\"1.03\" dx=\"-0.07\" dy=\"0.07\" font-size=\"0.25\">O</text>\n    </g>\n    <g fill=\"#788CFF\" font-size=\"0.20\">\n      <text x=\"13.78\" y=\"0.21\" text-anchor=\"middle\">5</text>\n      <text x=\"13.06\" y=\"-0.21\" text-anchor=\"middle\">6</text>\n      <text x=\"14.49\" y=\"-0.21\" dx=\"-0.07\" dy=\"0.20\" text-anchor=\"end\">2</text>\n      <text x=\"12.35\" y=\"0.21\" dx=\"-0.07\" dy=\"0.20\" text-anchor=\"end\">1</text>\n      <text x=\"13.06\" y=\"-1.03\" dx=\"-0.07\" dy=\"0.20\" text-anchor=\"end\">9</text>\n      <text x=\"13.78\" y=\"1.03\" dx=\"-0.07\" dy=\"0.20\" text-anchor=\"end\">7</text>\n      <text x=\"15.21\" y=\"0.21\" text-anchor=\"middle\">11</text>\n      <text x=\"15.92\" y=\"-0.21\" text-anchor=\"middle\">12</text>\n      <text x=\"11.63\" y=\"-0.21\" text-anchor=\"middle\">4</text>\n      <text x=\"10.92\" y=\"0.21\" text-anchor=\"middle\">3</text>\n    </g>\n  </g>\n</svg>"
     },
     "metadata": {},
     "output_type": "execute_result",
     "execution_count": 60
    }
   ],
   "source": [
    "r1 # depiction supported"
   ]
  },
  {
   "cell_type": "code",
   "execution_count": 61,
   "metadata": {
    "scrolled": true,
    "pycharm": {
     "is_executing": false
    }
   },
   "outputs": [
    {
     "data": {
      "text/plain": "{'CdId': '1872',\n 'solvent': '3',\n 'temperature': '129.5',\n 'tabulated_constant': '-6.87'}"
     },
     "metadata": {},
     "output_type": "execute_result",
     "execution_count": 61
    }
   ],
   "source": [
    "r1.meta"
   ]
  },
  {
   "cell_type": "code",
   "execution_count": 62,
   "metadata": {
    "pycharm": {
     "is_executing": false
    }
   },
   "outputs": [
    {
     "name": "stdout",
     "text": [
      "[<CGRtools.containers.molecule.MoleculeContainer object at 0x11fb52c28>, <CGRtools.containers.molecule.MoleculeContainer object at 0x11fb52cc8>, <CGRtools.containers.molecule.MoleculeContainer object at 0x11fb52d68>] [<CGRtools.containers.molecule.MoleculeContainer object at 0x11fb52e08>]\n"
     ],
     "output_type": "stream"
    }
   ],
   "source": [
    "print(r1.reactants, r1.products)  # Access to lists of reactant and products. Molecules' signatures are returned by print() method.\n",
    "reactant1, reactant2, reactant3 = r1.reactants\n",
    "product = r1.products[0]"
   ]
  },
  {
   "cell_type": "markdown",
   "metadata": {},
   "source": [
    "Reactions also has `standardize`, `aromatize`, `implicify_hydrogens` and `explicify_hydrogens` methods (see part 3). These methods are applied independently to every molecule in reaction."
   ]
  },
  {
   "cell_type": "markdown",
   "metadata": {},
   "source": [
    "## 1.3. CGR\n",
    "*CGRContainer* object is similar to *MoleculeConrtainer*, except some methods. The following methods are not suppoted for *CGRContainer*:\n",
    "\n",
    "* aromatize\n",
    "* standardize\n",
    "* implicify_hydrogens\n",
    "* explicify_hydrogens\n",
    "* atom_implicit_h\n",
    "* atom_explicit_h\n",
    "* atom_total_h\n",
    "* check_valence\n",
    "\n",
    "*CGRContainer* also has some methods absent in *MoleculeConrtainer*:\n",
    "\n",
    "* centers_list\n",
    "* center_atoms\n",
    "* center_bonds\n",
    "\n",
    "*CGRContainer* is undirected graph. Atoms and bonds in CGR has two states: reactant and product."
   ]
  },
  {
   "cell_type": "markdown",
   "metadata": {},
   "source": [
    "#### Composing to CGR\n",
    "\n",
    "As mentioned above, atoms in *MoleculeContainer* have unique numbers. These numbers are used as atom-to-atom mapping in CGRtools upon CGR creation. Thus, atom order for molecules in reaction should correspond to atom-to-atom mapping.  \n",
    "\n",
    "Pair of molecules can be transformed into CGR. Notice that, the same atom numbers in reagents and products imply the same atoms.\n",
    "\n",
    "Reaction also can be composed into CGR. Atom numbers of molecules in reaction are used as atom-to-atom mapping of reactants to products."
   ]
  },
  {
   "cell_type": "code",
   "execution_count": 63,
   "metadata": {
    "pycharm": {
     "is_executing": false
    }
   },
   "outputs": [
    {
     "name": "stdout",
     "text": [
      "C=1(C=CC(=CC=1)[->.]O)[->.][N+]([O-])=O\n"
     ],
     "output_type": "stream"
    },
    {
     "data": {
      "text/plain": "<CGRtools.containers.cgr.CGRContainer at 0x11fc83eb8>",
      "image/svg+xml": "<svg width=\"2.19cm\" height=\"4.37cm\" viewBox=\"-0.31 -1.98 2.19 4.37\" xmlns=\"http://www.w3.org/2000/svg\" version=\"1.1\">\n  <defs>\n    <mask id=\"mask-e5b7e900-5e90-4649-96b1-00340fe01a2d\">\n      <rect x=\"-0.31\" y=\"-1.98\" width=\"2.19\" height=\"4.37\" fill=\"white\"/>\n      <g fill=\"black\">\n        <circle cx=\"0.72\" cy=\"-1.24\" r=\"0.12\"/>\n        <circle cx=\"0.00\" cy=\"-1.67\" r=\"0.12\"/>\n        <circle cx=\"1.44\" cy=\"-1.67\" r=\"0.12\"/>\n        <circle cx=\"0.72\" cy=\"2.08\" r=\"0.12\"/>\n      </g>\n    </mask>\n  </defs>\n  <g fill=\"none\" stroke=\"black\" stroke-width=\"0.03\"  mask=\"url(#mask-e5b7e900-5e90-4649-96b1-00340fe01a2d)\">\n    <line x1=\"0.72\" y1=\"-1.24\" x2=\"0.72\" y2=\"-0.42\" stroke=\"red\"/>\n    <line x1=\"0.70\" y1=\"-1.21\" x2=\"-0.02\" y2=\"-1.63\"/>\n    <line x1=\"0.74\" y1=\"-1.28\" x2=\"0.02\" y2=\"-1.70\"/>\n    <line x1=\"0.72\" y1=\"-1.24\" x2=\"1.44\" y2=\"-1.67\"/>\n    <line x1=\"0.72\" y1=\"2.08\" x2=\"0.72\" y2=\"1.24\" stroke=\"red\"/>\n    <line x1=\"0.72\" y1=\"-0.42\" x2=\"0.00\" y2=\"0.00\"/>\n    <line x1=\"0.74\" y1=\"-0.45\" x2=\"1.46\" y2=\"-0.03\"/>\n    <line x1=\"0.70\" y1=\"-0.38\" x2=\"1.42\" y2=\"0.04\"/>\n    <line x1=\"0.04\" y1=\"0.00\" x2=\"0.04\" y2=\"0.83\"/>\n    <line x1=\"-0.04\" y1=\"0.00\" x2=\"-0.04\" y2=\"0.83\"/>\n    <line x1=\"0.00\" y1=\"0.83\" x2=\"0.72\" y2=\"1.24\"/>\n    <line x1=\"0.70\" y1=\"1.21\" x2=\"1.42\" y2=\"0.79\"/>\n    <line x1=\"0.74\" y1=\"1.28\" x2=\"1.46\" y2=\"0.86\"/>\n    <line x1=\"1.44\" y1=\"0.83\" x2=\"1.44\" y2=\"0.00\"/>\n  </g>\n  <g font-family=\"monospace\">\n    <g fill=\"#3050F8\">\n      <text x=\"0.72\" y=\"-1.24\" dx=\"-0.07\" dy=\"0.07\" font-size=\"0.25\">N</text>\n      <text x=\"0.72\" y=\"-1.24\" dx=\"0.05\" dy=\"-0.12\" font-size=\"0.15\">+</text>\n    </g>\n    <g fill=\"#FF0D0D\">\n      <text x=\"0.00\" y=\"-1.67\" dx=\"-0.07\" dy=\"0.07\" font-size=\"0.25\">O</text>\n    </g>\n    <g fill=\"#FF0D0D\">\n      <text x=\"1.44\" y=\"-1.67\" dx=\"-0.07\" dy=\"0.07\" font-size=\"0.25\">O</text>\n      <text x=\"1.44\" y=\"-1.67\" dx=\"0.05\" dy=\"-0.12\" font-size=\"0.15\">⁃</text>\n    </g>\n    <g fill=\"#FF0D0D\">\n      <text x=\"0.72\" y=\"2.08\" dx=\"-0.07\" dy=\"0.07\" font-size=\"0.25\">O</text>\n    </g>\n  </g>\n</svg>"
     },
     "metadata": {},
     "output_type": "execute_result",
     "execution_count": 63
    }
   ],
   "source": [
    "cgr1 = m7 ^ m8 # CGR from molecules\n",
    "# or \n",
    "m7.compose(m8)\n",
    "\n",
    "print(cgr1)  # CGRcontainer object currently doesn't support depiction. CGR signature is printed out.\n",
    "cgr1.clean2d() # cleaning coordinates in 2d\n",
    "cgr1 # printing image of CGR"
   ]
  },
  {
   "cell_type": "markdown",
   "metadata": {},
   "source": [
    "This is CGR. You can see changed bonds connected to ring. Red is bond breaking, green is bond creation."
   ]
  },
  {
   "cell_type": "code",
   "execution_count": 64,
   "metadata": {
    "pycharm": {
     "is_executing": false
    }
   },
   "outputs": [
    {
     "data": {
      "text/plain": "<CGRtools.containers.reaction.ReactionContainer at 0x11fb8b6c8>",
      "image/svg+xml": "<svg width=\"16.67cm\" height=\"2.77cm\" viewBox=\"-0.31 -1.38 16.67 2.77\" xmlns=\"http://www.w3.org/2000/svg\" version=\"1.1\">\n  <defs>\n    <marker id=\"arrow\" markerWidth=\"10\" markerHeight=\"10\" refX=\"0\" refY=\"3\" orient=\"auto\">\n      <path d=\"M0,0 L0,6 L9,3\"/>\n    </marker>\n    <mask id=\"mask-fdcdcf7a-06ad-4b1c-8b86-2d448a11359e\">\n      <rect x=\"-0.31\" y=\"-1.38\" width=\"16.67\" height=\"2.77\" fill=\"white\"/>\n      <g fill=\"black\">\n        <circle cx=\"1.43\" cy=\"-0.21\" r=\"0.12\"/>\n        <circle cx=\"3.25\" cy=\"-1.07\" r=\"0.12\"/>\n        <circle cx=\"4.49\" cy=\"-0.36\" r=\"0.12\"/>\n        <circle cx=\"3.67\" cy=\"1.07\" r=\"0.12\"/>\n        <circle cx=\"2.43\" cy=\"0.36\" r=\"0.12\"/>\n        <circle cx=\"6.92\" cy=\"-0.21\" r=\"0.12\"/>\n        <circle cx=\"14.49\" cy=\"-0.21\" r=\"0.12\"/>\n        <circle cx=\"12.35\" cy=\"0.21\" r=\"0.12\"/>\n        <circle cx=\"13.06\" cy=\"-1.03\" r=\"0.12\"/>\n        <circle cx=\"13.78\" cy=\"1.03\" r=\"0.12\"/>\n      </g>\n    </mask>\n  </defs>\n  <line x1=\"7.92\" y1=\"0\" x2=\"9.92\" y2=\"0\" fill=\"none\" stroke=\"black\" stroke-width=\".04\" marker-end=\"url(#arrow)\"/>\n  <g fill=\"none\" stroke=\"black\" stroke-width=\"0.03\" mask=\"url(#mask-fdcdcf7a-06ad-4b1c-8b86-2d448a11359e)\">\n    <line x1=\"-0.31\" y1=\"-1.38\" x2=\"16.36\" y2=\"-1.38\" stroke=\"none\"/>\n    <line x1=\"0.00\" y1=\"-0.21\" x2=\"0.71\" y2=\"0.21\"/>\n    <line x1=\"0.71\" y1=\"0.21\" x2=\"1.43\" y2=\"-0.21\"/>\n    <line x1=\"3.67\" y1=\"-0.36\" x2=\"3.25\" y2=\"0.36\"/>\n    <line x1=\"3.63\" y1=\"-0.34\" x2=\"3.22\" y2=\"-1.05\"/>\n    <line x1=\"3.70\" y1=\"-0.38\" x2=\"3.29\" y2=\"-1.09\"/>\n    <line x1=\"3.67\" y1=\"-0.36\" x2=\"4.49\" y2=\"-0.36\"/>\n    <line x1=\"3.29\" y1=\"0.34\" x2=\"3.70\" y2=\"1.05\"/>\n    <line x1=\"3.22\" y1=\"0.38\" x2=\"3.63\" y2=\"1.09\"/>\n    <line x1=\"3.25\" y1=\"0.36\" x2=\"2.43\" y2=\"0.36\"/>\n    <line x1=\"6.21\" y1=\"0.21\" x2=\"5.49\" y2=\"-0.21\"/>\n    <line x1=\"6.21\" y1=\"0.21\" x2=\"6.92\" y2=\"-0.21\"/>\n    <line x1=\"13.78\" y1=\"0.21\" x2=\"13.06\" y2=\"-0.21\"/>\n    <line x1=\"13.78\" y1=\"0.21\" x2=\"14.49\" y2=\"-0.21\"/>\n    <line x1=\"13.82\" y1=\"0.21\" x2=\"13.82\" y2=\"1.03\"/>\n    <line x1=\"13.74\" y1=\"0.21\" x2=\"13.74\" y2=\"1.03\"/>\n    <line x1=\"13.06\" y1=\"-0.21\" x2=\"12.35\" y2=\"0.21\"/>\n    <line x1=\"13.02\" y1=\"-0.21\" x2=\"13.02\" y2=\"-1.03\"/>\n    <line x1=\"13.10\" y1=\"-0.21\" x2=\"13.10\" y2=\"-1.03\"/>\n    <line x1=\"14.49\" y1=\"-0.21\" x2=\"15.21\" y2=\"0.21\"/>\n    <line x1=\"12.35\" y1=\"0.21\" x2=\"11.63\" y2=\"-0.21\"/>\n    <line x1=\"15.21\" y1=\"0.21\" x2=\"15.92\" y2=\"-0.21\"/>\n    <line x1=\"11.63\" y1=\"-0.21\" x2=\"10.92\" y2=\"0.21\"/>\n  </g>\n  <g fill=\"none\" stroke=\"black\" stroke-width=\".04\" >\n    <line x1=\"1.78\" y1=\"0\" x2=\"2.08\" y2=\"0\"/>\n    <line x1=\"1.93\" y1=\"0.15\" x2=\"1.93\" y2=\"-0.15\"/>\n    <line x1=\"4.84\" y1=\"0\" x2=\"5.14\" y2=\"0\"/>\n    <line x1=\"4.99\" y1=\"0.15\" x2=\"4.99\" y2=\"-0.15\"/>\n  </g>\n  <g font-family=\"monospace\">\n    <g fill=\"#FF0D0D\">\n      <text x=\"1.43\" y=\"-0.21\" dx=\"-0.07\" dy=\"0.07\" font-size=\"0.25\">OH</text>\n    </g>\n    <g fill=\"#788CFF\" font-size=\"0.20\">\n      <text x=\"0.00\" y=\"-0.21\" text-anchor=\"middle\">3</text>\n      <text x=\"0.71\" y=\"0.21\" text-anchor=\"middle\">4</text>\n      <text x=\"1.43\" y=\"-0.21\" dx=\"-0.07\" dy=\"0.20\" text-anchor=\"end\">1</text>\n    </g>\n    <g fill=\"#FF0D0D\">\n      <text x=\"3.25\" y=\"-1.07\" dx=\"-0.07\" dy=\"0.07\" font-size=\"0.25\">O</text>\n    </g>\n    <g fill=\"#FF0D0D\">\n      <text x=\"4.49\" y=\"-0.36\" dx=\"-0.07\" dy=\"0.07\" font-size=\"0.25\">OH</text>\n    </g>\n    <g fill=\"#FF0D0D\">\n      <text x=\"3.67\" y=\"1.07\" dx=\"-0.07\" dy=\"0.07\" font-size=\"0.25\">O</text>\n    </g>\n    <g fill=\"#FF0D0D\">\n      <text x=\"2.43\" y=\"0.36\" dx=\"-0.07\" dy=\"0.07\" font-size=\"0.25\">OH</text>\n    </g>\n    <g fill=\"#788CFF\" font-size=\"0.20\">\n      <text x=\"3.67\" y=\"-0.36\" text-anchor=\"middle\">5</text>\n      <text x=\"3.25\" y=\"0.36\" text-anchor=\"middle\">6</text>\n      <text x=\"3.25\" y=\"-1.07\" dx=\"-0.07\" dy=\"0.20\" text-anchor=\"end\">7</text>\n      <text x=\"4.49\" y=\"-0.36\" dx=\"-0.07\" dy=\"0.20\" text-anchor=\"end\">8</text>\n      <text x=\"3.67\" y=\"1.07\" dx=\"-0.07\" dy=\"0.20\" text-anchor=\"end\">9</text>\n      <text x=\"2.43\" y=\"0.36\" dx=\"-0.07\" dy=\"0.20\" text-anchor=\"end\">10</text>\n    </g>\n    <g fill=\"#FF0D0D\">\n      <text x=\"6.92\" y=\"-0.21\" dx=\"-0.07\" dy=\"0.07\" font-size=\"0.25\">O</text>\n      <text x=\"6.92\" y=\"-0.21\" dx=\"0.05\" dy=\"-0.12\" font-size=\"0.15\">⁃</text>\n    </g>\n    <g fill=\"#788CFF\" font-size=\"0.20\">\n      <text x=\"6.21\" y=\"0.21\" text-anchor=\"middle\">11</text>\n      <text x=\"5.49\" y=\"-0.21\" text-anchor=\"middle\">12</text>\n      <text x=\"6.92\" y=\"-0.21\" dx=\"-0.07\" dy=\"0.20\" text-anchor=\"end\">2</text>\n    </g>\n    <g fill=\"#FF0D0D\">\n      <text x=\"14.49\" y=\"-0.21\" dx=\"-0.07\" dy=\"0.07\" font-size=\"0.25\">O</text>\n    </g>\n    <g fill=\"#FF0D0D\">\n      <text x=\"12.35\" y=\"0.21\" dx=\"-0.07\" dy=\"0.07\" font-size=\"0.25\">O</text>\n    </g>\n    <g fill=\"#FF0D0D\">\n      <text x=\"13.06\" y=\"-1.03\" dx=\"-0.07\" dy=\"0.07\" font-size=\"0.25\">O</text>\n    </g>\n    <g fill=\"#FF0D0D\">\n      <text x=\"13.78\" y=\"1.03\" dx=\"-0.07\" dy=\"0.07\" font-size=\"0.25\">O</text>\n    </g>\n    <g fill=\"#788CFF\" font-size=\"0.20\">\n      <text x=\"13.78\" y=\"0.21\" text-anchor=\"middle\">5</text>\n      <text x=\"13.06\" y=\"-0.21\" text-anchor=\"middle\">6</text>\n      <text x=\"14.49\" y=\"-0.21\" dx=\"-0.07\" dy=\"0.20\" text-anchor=\"end\">2</text>\n      <text x=\"12.35\" y=\"0.21\" dx=\"-0.07\" dy=\"0.20\" text-anchor=\"end\">1</text>\n      <text x=\"13.06\" y=\"-1.03\" dx=\"-0.07\" dy=\"0.20\" text-anchor=\"end\">9</text>\n      <text x=\"13.78\" y=\"1.03\" dx=\"-0.07\" dy=\"0.20\" text-anchor=\"end\">7</text>\n      <text x=\"15.21\" y=\"0.21\" text-anchor=\"middle\">11</text>\n      <text x=\"15.92\" y=\"-0.21\" text-anchor=\"middle\">12</text>\n      <text x=\"11.63\" y=\"-0.21\" text-anchor=\"middle\">4</text>\n      <text x=\"10.92\" y=\"0.21\" text-anchor=\"middle\">3</text>\n    </g>\n  </g>\n</svg>"
     },
     "metadata": {},
     "output_type": "execute_result",
     "execution_count": 64
    }
   ],
   "source": [
    "r1"
   ]
  },
  {
   "cell_type": "code",
   "execution_count": 65,
   "metadata": {
    "pycharm": {
     "is_executing": false
    }
   },
   "outputs": [
    {
     "name": "stdout",
     "text": [
      "CC[O->0][.>-]C(C([->.]O)([.>-]OCC)=O)([->.]O)=O\n"
     ],
     "output_type": "stream"
    },
    {
     "data": {
      "text/plain": "<CGRtools.containers.cgr.CGRContainer at 0x11fca1198>",
      "image/svg+xml": "<svg width=\"3.72cm\" height=\"5.15cm\" viewBox=\"-0.31 -2.34 3.72 5.15\" xmlns=\"http://www.w3.org/2000/svg\" version=\"1.1\">\n  <defs>\n    <mask id=\"mask-122964ba-f79f-4154-867f-d620ee694a13\">\n      <rect x=\"-0.31\" y=\"-2.34\" width=\"3.72\" height=\"5.15\" fill=\"white\"/>\n      <g fill=\"black\">\n        <circle cx=\"2.97\" cy=\"0.37\" r=\"0.12\"/>\n        <circle cx=\"0.93\" cy=\"0.33\" r=\"0.12\"/>\n        <circle cx=\"0.77\" cy=\"-0.83\" r=\"0.12\"/>\n        <circle cx=\"2.09\" cy=\"1.15\" r=\"0.12\"/>\n        <circle cx=\"2.64\" cy=\"-0.37\" r=\"0.12\"/>\n        <circle cx=\"1.91\" cy=\"-1.08\" r=\"0.12\"/>\n      </g>\n    </mask>\n  </defs>\n  <g fill=\"none\" stroke=\"black\" stroke-width=\"0.03\"  mask=\"url(#mask-122964ba-f79f-4154-867f-d620ee694a13)\">\n    <line x1=\"2.97\" y1=\"0.37\" x2=\"2.10\" y2=\"0.31\" stroke=\"red\"/>\n    <line x1=\"0.93\" y1=\"0.33\" x2=\"1.47\" y2=\"-0.34\" stroke=\"red\"/>\n    <line x1=\"0.77\" y1=\"-0.83\" x2=\"0.76\" y2=\"-1.64\"/>\n    <line x1=\"0.77\" y1=\"-0.83\" x2=\"1.47\" y2=\"-0.34\" stroke=\"green\"/>\n    <line x1=\"2.09\" y1=\"1.15\" x2=\"1.46\" y2=\"1.65\"/>\n    <line x1=\"2.09\" y1=\"1.15\" x2=\"2.10\" y2=\"0.31\" stroke=\"green\"/>\n    <line x1=\"0.00\" y1=\"-2.03\" x2=\"0.76\" y2=\"-1.64\"/>\n    <line x1=\"2.10\" y1=\"0.31\" x2=\"1.47\" y2=\"-0.34\"/>\n    <line x1=\"2.06\" y1=\"0.28\" x2=\"2.61\" y2=\"-0.39\"/>\n    <line x1=\"2.13\" y1=\"0.33\" x2=\"2.67\" y2=\"-0.34\"/>\n    <line x1=\"1.43\" y1=\"-0.36\" x2=\"1.88\" y2=\"-1.10\"/>\n    <line x1=\"1.50\" y1=\"-0.32\" x2=\"1.95\" y2=\"-1.06\"/>\n    <line x1=\"1.46\" y1=\"1.65\" x2=\"1.63\" y2=\"2.49\"/>\n  </g>\n  <g font-family=\"monospace\">\n    <g fill=\"#FF0D0D\">\n      <text x=\"2.97\" y=\"0.37\" dx=\"-0.07\" dy=\"0.07\" font-size=\"0.25\">O</text>\n    </g>\n    <g fill=\"#FF0D0D\">\n      <text x=\"0.93\" y=\"0.33\" dx=\"-0.07\" dy=\"0.07\" font-size=\"0.25\">O</text>\n    </g>\n    <g fill=\"#FF0D0D\">\n      <text x=\"0.77\" y=\"-0.83\" dx=\"-0.07\" dy=\"0.07\" font-size=\"0.25\">O</text>\n    </g>\n    <g fill=\"#FF0D0D\">\n      <text x=\"2.09\" y=\"1.15\" dx=\"-0.07\" dy=\"0.07\" font-size=\"0.25\">O</text>\n      <text x=\"2.09\" y=\"1.15\" dx=\"0.05\" dy=\"-0.12\" font-size=\"0.15\">-»0</text>\n      <text x=\"2.09\" y=\"1.15\" dx=\"0.05\" dy=\"-0.12\" font-size=\"0.15\">⁃</text>\n    </g>\n    <g fill=\"#FF0D0D\">\n      <text x=\"2.64\" y=\"-0.37\" dx=\"-0.07\" dy=\"0.07\" font-size=\"0.25\">O</text>\n    </g>\n    <g fill=\"#FF0D0D\">\n      <text x=\"1.91\" y=\"-1.08\" dx=\"-0.07\" dy=\"0.07\" font-size=\"0.25\">O</text>\n    </g>\n  </g>\n</svg>"
     },
     "metadata": {},
     "output_type": "execute_result",
     "execution_count": 65
    }
   ],
   "source": [
    "cgr2 = ~r1 # CGR from reactions\n",
    "\n",
    "# or \n",
    "\n",
    "r1.compose()\n",
    "print(cgr2) # signature is printed out.\n",
    "cgr2.clean2d() # cleaning coordinates in 2d\n",
    "cgr2 # printing image of CGR"
   ]
  },
  {
   "cell_type": "markdown",
   "metadata": {},
   "source": [
    "It is CGR for reaction.\n"
   ]
  },
  {
   "cell_type": "code",
   "execution_count": 66,
   "metadata": {
    "pycharm": {
     "is_executing": false
    }
   },
   "outputs": [],
   "source": [
    "a = cgr2.atom(2) # atom access is the same as for MoleculeContainer"
   ]
  },
  {
   "cell_type": "code",
   "execution_count": 67,
   "metadata": {
    "pycharm": {
     "is_executing": false
    }
   },
   "outputs": [
    {
     "data": {
      "text/plain": "'O'"
     },
     "metadata": {},
     "output_type": "execute_result",
     "execution_count": 67
    }
   ],
   "source": [
    "a.atomic_symbol # element attribute\n"
   ]
  },
  {
   "cell_type": "code",
   "execution_count": 68,
   "metadata": {
    "pycharm": {
     "is_executing": false
    }
   },
   "outputs": [],
   "source": [
    "a.isotope # isotope attribute\n"
   ]
  },
  {
   "cell_type": "markdown",
   "metadata": {},
   "source": [
    "For *CGRContainer* attributes `charge`, `x`, `y`, `z`, `neighbors` and `hybridization` refer to atom state in reactant of reaction;  arguments `p_charge`, `p_multiplicity`, `p_x`, `p_y`, `p_z`, `p_neighbors` and `p_hybridization` could be used to extract atom state in product part in reaction."
   ]
  },
  {
   "cell_type": "code",
   "execution_count": 69,
   "metadata": {
    "pycharm": {
     "is_executing": false
    }
   },
   "outputs": [
    {
     "data": {
      "text/plain": "-1"
     },
     "metadata": {},
     "output_type": "execute_result",
     "execution_count": 69
    }
   ],
   "source": [
    "a.charge # charge of atom in reactant"
   ]
  },
  {
   "cell_type": "code",
   "execution_count": 70,
   "metadata": {
    "pycharm": {
     "is_executing": false
    }
   },
   "outputs": [
    {
     "data": {
      "text/plain": "0"
     },
     "metadata": {},
     "output_type": "execute_result",
     "execution_count": 70
    }
   ],
   "source": [
    "a.p_charge # charge of atom in product"
   ]
  },
  {
   "cell_type": "code",
   "execution_count": 71,
   "metadata": {
    "pycharm": {
     "is_executing": false
    }
   },
   "outputs": [
    {
     "data": {
      "text/plain": "1"
     },
     "metadata": {},
     "output_type": "execute_result",
     "execution_count": 71
    }
   ],
   "source": [
    "a.neighbors # number of neighbors of atom in reactant"
   ]
  },
  {
   "cell_type": "code",
   "execution_count": 72,
   "metadata": {
    "pycharm": {
     "is_executing": false
    }
   },
   "outputs": [
    {
     "data": {
      "text/plain": "2"
     },
     "metadata": {},
     "output_type": "execute_result",
     "execution_count": 72
    }
   ],
   "source": [
    "a.p_neighbors # number of neighbors of atom in product"
   ]
  },
  {
   "cell_type": "code",
   "execution_count": 73,
   "metadata": {
    "pycharm": {
     "is_executing": false
    }
   },
   "outputs": [
    {
     "data": {
      "text/plain": "1"
     },
     "metadata": {},
     "output_type": "execute_result",
     "execution_count": 73
    }
   ],
   "source": [
    "a.hybridization # hybridization of atom in reactant. 1 means only single bonds are incident to atom"
   ]
  },
  {
   "cell_type": "code",
   "execution_count": 74,
   "metadata": {
    "pycharm": {
     "is_executing": false
    }
   },
   "outputs": [
    {
     "data": {
      "text/plain": "1"
     },
     "metadata": {},
     "output_type": "execute_result",
     "execution_count": 74
    }
   ],
   "source": [
    "a.p_hybridization # hybridization of atom in product. 1 means only single bonds are incident to atom"
   ]
  },
  {
   "cell_type": "code",
   "execution_count": 75,
   "metadata": {
    "pycharm": {
     "is_executing": false
    }
   },
   "outputs": [],
   "source": [
    "b = cgr1.bond(4, 10) # take bond"
   ]
  },
  {
   "cell_type": "markdown",
   "metadata": {},
   "source": [
    "#### Bonds has `order` and `p_order` attribute\n",
    "If `order` attribute value is ***None***, it means that bond was formed  \n",
    "If `p_order` is ***None***, it means that bond was broken  \n",
    "\n",
    "Both `order` and `p_order` can't be ***None***"
   ]
  },
  {
   "cell_type": "code",
   "execution_count": 76,
   "metadata": {
    "pycharm": {
     "is_executing": false
    }
   },
   "outputs": [
    {
     "data": {
      "text/plain": "1"
     },
     "metadata": {},
     "output_type": "execute_result",
     "execution_count": 76
    }
   ],
   "source": [
    "b.order # bond order in reactant"
   ]
  },
  {
   "cell_type": "code",
   "execution_count": 77,
   "metadata": {
    "pycharm": {
     "is_executing": false
    }
   },
   "outputs": [
    {
     "data": {
      "text/plain": "True"
     },
     "metadata": {},
     "output_type": "execute_result",
     "execution_count": 77
    }
   ],
   "source": [
    "b.p_order is None # bond order in product in None"
   ]
  },
  {
   "cell_type": "markdown",
   "metadata": {},
   "source": [
    "**CGR can be decomposed back to reaction**, i.e. reactants and products.\n",
    "\n",
    "Notice that CGR can lose information in case of unbalanced reactions (where some atoms of reactant does not have counterpart in product, and vice versa). Decomposition of CGRs for unbalanced reactions back to reaction may lead to strange (and erroneous) structures."
   ]
  },
  {
   "cell_type": "code",
   "execution_count": 78,
   "metadata": {
    "pycharm": {
     "is_executing": false
    }
   },
   "outputs": [
    {
     "data": {
      "text/plain": "(<CGRtools.containers.molecule.MoleculeContainer at 0x11fbe9688>,\n <CGRtools.containers.molecule.MoleculeContainer at 0x11fbe9548>)"
     },
     "metadata": {},
     "output_type": "execute_result",
     "execution_count": 78
    }
   ],
   "source": [
    "reactant_part, product_part = ~cgr1 # CGR of unbalanced reaction is decomposed back into reaction\n",
    "# or \n",
    "cgr1.decompose()"
   ]
  },
  {
   "cell_type": "code",
   "execution_count": 79,
   "metadata": {
    "pycharm": {
     "is_executing": false
    }
   },
   "outputs": [
    {
     "data": {
      "text/plain": "<CGRtools.containers.molecule.MoleculeContainer at 0x11fbe9c28>",
      "image/svg+xml": "<svg width=\"2.19cm\" height=\"4.37cm\" viewBox=\"-0.31 -1.98 2.19 4.37\" xmlns=\"http://www.w3.org/2000/svg\" version=\"1.1\">\n  <defs>\n    <mask id=\"mask-78e3acc1-96e3-425c-9390-a950fed57f4e\">\n      <rect x=\"-0.31\" y=\"-1.98\" width=\"2.19\" height=\"4.37\" fill=\"white\"/>\n      <g fill=\"black\">\n        <circle cx=\"0.72\" cy=\"-1.24\" r=\"0.12\"/>\n        <circle cx=\"0.00\" cy=\"-1.67\" r=\"0.12\"/>\n        <circle cx=\"1.44\" cy=\"-1.67\" r=\"0.12\"/>\n        <circle cx=\"0.72\" cy=\"2.08\" r=\"0.12\"/>\n      </g>\n    </mask>\n  </defs>\n  <g fill=\"none\" stroke=\"black\" stroke-width=\"0.03\"  mask=\"url(#mask-78e3acc1-96e3-425c-9390-a950fed57f4e)\">\n    <line x1=\"0.72\" y1=\"-1.24\" x2=\"0.72\" y2=\"-0.42\"/>\n    <line x1=\"0.70\" y1=\"-1.21\" x2=\"-0.02\" y2=\"-1.63\"/>\n    <line x1=\"0.74\" y1=\"-1.28\" x2=\"0.02\" y2=\"-1.70\"/>\n    <line x1=\"0.72\" y1=\"-1.24\" x2=\"1.44\" y2=\"-1.67\"/>\n    <line x1=\"0.72\" y1=\"2.08\" x2=\"0.72\" y2=\"1.24\"/>\n    <line x1=\"0.72\" y1=\"-0.42\" x2=\"0.00\" y2=\"0.00\"/>\n    <line x1=\"0.74\" y1=\"-0.45\" x2=\"1.46\" y2=\"-0.03\"/>\n    <line x1=\"0.70\" y1=\"-0.38\" x2=\"1.42\" y2=\"0.04\"/>\n    <line x1=\"0.04\" y1=\"0.00\" x2=\"0.04\" y2=\"0.83\"/>\n    <line x1=\"-0.04\" y1=\"0.00\" x2=\"-0.04\" y2=\"0.83\"/>\n    <line x1=\"0.00\" y1=\"0.83\" x2=\"0.72\" y2=\"1.24\"/>\n    <line x1=\"0.70\" y1=\"1.21\" x2=\"1.42\" y2=\"0.79\"/>\n    <line x1=\"0.74\" y1=\"1.28\" x2=\"1.46\" y2=\"0.86\"/>\n    <line x1=\"1.44\" y1=\"0.83\" x2=\"1.44\" y2=\"0.00\"/>\n  </g>\n  <g font-family=\"monospace\">\n    <g fill=\"#3050F8\">\n      <text x=\"0.72\" y=\"-1.24\" dx=\"-0.07\" dy=\"0.07\" font-size=\"0.25\">N</text>\n      <text x=\"0.72\" y=\"-1.24\" dx=\"0.05\" dy=\"-0.12\" font-size=\"0.15\">+</text>\n    </g>\n    <g fill=\"#FF0D0D\">\n      <text x=\"0.00\" y=\"-1.67\" dx=\"-0.07\" dy=\"0.07\" font-size=\"0.25\">O</text>\n    </g>\n    <g fill=\"#FF0D0D\">\n      <text x=\"1.44\" y=\"-1.67\" dx=\"-0.07\" dy=\"0.07\" font-size=\"0.25\">O</text>\n      <text x=\"1.44\" y=\"-1.67\" dx=\"0.05\" dy=\"-0.12\" font-size=\"0.15\">⁃</text>\n    </g>\n    <g fill=\"#FF0D0D\">\n      <text x=\"0.72\" y=\"2.08\" dx=\"-0.07\" dy=\"0.07\" font-size=\"0.25\">OH</text>\n    </g>\n    <g fill=\"#788CFF\" font-size=\"0.20\">\n      <text x=\"0.72\" y=\"-1.24\" dx=\"-0.07\" dy=\"0.20\" text-anchor=\"end\">10</text>\n      <text x=\"0.00\" y=\"-1.67\" dx=\"-0.07\" dy=\"0.20\" text-anchor=\"end\">11</text>\n      <text x=\"1.44\" y=\"-1.67\" dx=\"-0.07\" dy=\"0.20\" text-anchor=\"end\">12</text>\n      <text x=\"0.72\" y=\"2.08\" dx=\"-0.07\" dy=\"0.20\" text-anchor=\"end\">13</text>\n      <text x=\"0.72\" y=\"-0.42\" text-anchor=\"middle\">4</text>\n      <text x=\"0.00\" y=\"0.00\" text-anchor=\"middle\">5</text>\n      <text x=\"0.00\" y=\"0.83\" text-anchor=\"middle\">6</text>\n      <text x=\"0.72\" y=\"1.24\" text-anchor=\"middle\">7</text>\n      <text x=\"1.44\" y=\"0.83\" text-anchor=\"middle\">8</text>\n      <text x=\"1.44\" y=\"0.00\" text-anchor=\"middle\">9</text>\n    </g>\n  </g>\n</svg>"
     },
     "metadata": {},
     "output_type": "execute_result",
     "execution_count": 79
    }
   ],
   "source": [
    "reactant_part # reactants extracted. One can notice it is initial molecule"
   ]
  },
  {
   "cell_type": "code",
   "execution_count": 80,
   "metadata": {
    "pycharm": {
     "is_executing": false
    }
   },
   "outputs": [
    {
     "data": {
      "text/plain": "<CGRtools.containers.molecule.MoleculeContainer at 0x11fbe9ea8>",
      "image/svg+xml": "<svg width=\"2.19cm\" height=\"4.37cm\" viewBox=\"-0.31 -1.98 2.19 4.37\" xmlns=\"http://www.w3.org/2000/svg\" version=\"1.1\">\n  <defs>\n    <mask id=\"mask-88a21c5d-a46a-4be1-b078-496c90322908\">\n      <rect x=\"-0.31\" y=\"-1.98\" width=\"2.19\" height=\"4.37\" fill=\"white\"/>\n      <g fill=\"black\">\n        <circle cx=\"0.72\" cy=\"-1.24\" r=\"0.12\"/>\n        <circle cx=\"0.00\" cy=\"-1.67\" r=\"0.12\"/>\n        <circle cx=\"1.44\" cy=\"-1.67\" r=\"0.12\"/>\n        <circle cx=\"0.72\" cy=\"2.08\" r=\"0.12\"/>\n      </g>\n    </mask>\n  </defs>\n  <g fill=\"none\" stroke=\"black\" stroke-width=\"0.03\"  mask=\"url(#mask-88a21c5d-a46a-4be1-b078-496c90322908)\">\n    <line x1=\"0.70\" y1=\"-1.21\" x2=\"-0.02\" y2=\"-1.63\"/>\n    <line x1=\"0.74\" y1=\"-1.28\" x2=\"0.02\" y2=\"-1.70\"/>\n    <line x1=\"0.72\" y1=\"-1.24\" x2=\"1.44\" y2=\"-1.67\"/>\n    <line x1=\"0.72\" y1=\"-0.42\" x2=\"0.00\" y2=\"0.00\"/>\n    <line x1=\"0.74\" y1=\"-0.45\" x2=\"1.46\" y2=\"-0.03\"/>\n    <line x1=\"0.70\" y1=\"-0.38\" x2=\"1.42\" y2=\"0.04\"/>\n    <line x1=\"0.04\" y1=\"0.00\" x2=\"0.04\" y2=\"0.83\"/>\n    <line x1=\"-0.04\" y1=\"0.00\" x2=\"-0.04\" y2=\"0.83\"/>\n    <line x1=\"0.00\" y1=\"0.83\" x2=\"0.72\" y2=\"1.24\"/>\n    <line x1=\"0.70\" y1=\"1.21\" x2=\"1.42\" y2=\"0.79\"/>\n    <line x1=\"0.74\" y1=\"1.28\" x2=\"1.46\" y2=\"0.86\"/>\n    <line x1=\"1.44\" y1=\"0.83\" x2=\"1.44\" y2=\"0.00\"/>\n  </g>\n  <g font-family=\"monospace\">\n    <g fill=\"#3050F8\">\n      <text x=\"0.72\" y=\"-1.24\" dx=\"-0.07\" dy=\"0.07\" font-size=\"0.25\">NH</text>\n      <text x=\"0.72\" y=\"-1.24\" dx=\"0.05\" dy=\"-0.12\" font-size=\"0.15\">+</text>\n    </g>\n    <g fill=\"#FF0D0D\">\n      <text x=\"0.00\" y=\"-1.67\" dx=\"-0.07\" dy=\"0.07\" font-size=\"0.25\">O</text>\n    </g>\n    <g fill=\"#FF0D0D\">\n      <text x=\"1.44\" y=\"-1.67\" dx=\"-0.07\" dy=\"0.07\" font-size=\"0.25\">O</text>\n      <text x=\"1.44\" y=\"-1.67\" dx=\"0.05\" dy=\"-0.12\" font-size=\"0.15\">⁃</text>\n    </g>\n    <g fill=\"#FF0D0D\">\n      <text x=\"0.72\" y=\"2.08\" dx=\"-0.07\" dy=\"0.07\" font-size=\"0.25\">OH<tspan  dy=\"0.12\" font-size=\"0.20\">2</tspan></text>\n    </g>\n    <g fill=\"#788CFF\" font-size=\"0.20\">\n      <text x=\"0.72\" y=\"-1.24\" dx=\"-0.07\" dy=\"0.20\" text-anchor=\"end\">10</text>\n      <text x=\"0.00\" y=\"-1.67\" dx=\"-0.07\" dy=\"0.20\" text-anchor=\"end\">11</text>\n      <text x=\"1.44\" y=\"-1.67\" dx=\"-0.07\" dy=\"0.20\" text-anchor=\"end\">12</text>\n      <text x=\"0.72\" y=\"2.08\" dx=\"-0.07\" dy=\"0.20\" text-anchor=\"end\">13</text>\n      <text x=\"0.72\" y=\"-0.42\" text-anchor=\"middle\">4</text>\n      <text x=\"0.00\" y=\"0.00\" text-anchor=\"middle\">5</text>\n      <text x=\"0.00\" y=\"0.83\" text-anchor=\"middle\">6</text>\n      <text x=\"0.72\" y=\"1.24\" text-anchor=\"middle\">7</text>\n      <text x=\"1.44\" y=\"0.83\" text-anchor=\"middle\">8</text>\n      <text x=\"1.44\" y=\"0.00\" text-anchor=\"middle\">9</text>\n    </g>\n  </g>\n</svg>"
     },
     "metadata": {},
     "output_type": "execute_result",
     "execution_count": 80
    }
   ],
   "source": [
    "product_part #extracted products. Originally benzene was the product."
   ]
  },
  {
   "cell_type": "markdown",
   "metadata": {},
   "source": [
    "For decomposition of *CGRContainer* back into *ReactionContainer* `decompose` method can be used."
   ]
  },
  {
   "cell_type": "code",
   "execution_count": 81,
   "metadata": {
    "pycharm": {
     "is_executing": false
    }
   },
   "outputs": [],
   "source": [
    "decomposed = cgr2.decompose() # decomposition of CGR2 into reaction"
   ]
  },
  {
   "cell_type": "code",
   "execution_count": 82,
   "metadata": {
    "pycharm": {
     "is_executing": false
    }
   },
   "outputs": [
    {
     "data": {
      "text/plain": "(<CGRtools.containers.molecule.MoleculeContainer at 0x11fc772c8>,\n <CGRtools.containers.molecule.MoleculeContainer at 0x11fc77368>)"
     },
     "metadata": {},
     "output_type": "execute_result",
     "execution_count": 82
    }
   ],
   "source": [
    "decomposed # You can see that water absent in products initially was restored. \n",
    "# This is a side-effect of CGR decomposing that could help with reaction balancing. \n",
    "# But balancing using CGR decomposition works correctly only if minor part atoms are lost \n",
    "# but multiplicity and formal charge are saved. In next release electronic state balansing will be added."
   ]
  },
  {
   "cell_type": "code",
   "execution_count": 83,
   "metadata": {
    "pycharm": {
     "is_executing": false
    }
   },
   "outputs": [
    {
     "data": {
      "text/plain": "<CGRtools.containers.reaction.ReactionContainer at 0x11fb8b6c8>",
      "image/svg+xml": "<svg width=\"16.67cm\" height=\"2.77cm\" viewBox=\"-0.31 -1.38 16.67 2.77\" xmlns=\"http://www.w3.org/2000/svg\" version=\"1.1\">\n  <defs>\n    <marker id=\"arrow\" markerWidth=\"10\" markerHeight=\"10\" refX=\"0\" refY=\"3\" orient=\"auto\">\n      <path d=\"M0,0 L0,6 L9,3\"/>\n    </marker>\n    <mask id=\"mask-fdcdcf7a-06ad-4b1c-8b86-2d448a11359e\">\n      <rect x=\"-0.31\" y=\"-1.38\" width=\"16.67\" height=\"2.77\" fill=\"white\"/>\n      <g fill=\"black\">\n        <circle cx=\"1.43\" cy=\"-0.21\" r=\"0.12\"/>\n        <circle cx=\"3.25\" cy=\"-1.07\" r=\"0.12\"/>\n        <circle cx=\"4.49\" cy=\"-0.36\" r=\"0.12\"/>\n        <circle cx=\"3.67\" cy=\"1.07\" r=\"0.12\"/>\n        <circle cx=\"2.43\" cy=\"0.36\" r=\"0.12\"/>\n        <circle cx=\"6.92\" cy=\"-0.21\" r=\"0.12\"/>\n        <circle cx=\"14.49\" cy=\"-0.21\" r=\"0.12\"/>\n        <circle cx=\"12.35\" cy=\"0.21\" r=\"0.12\"/>\n        <circle cx=\"13.06\" cy=\"-1.03\" r=\"0.12\"/>\n        <circle cx=\"13.78\" cy=\"1.03\" r=\"0.12\"/>\n      </g>\n    </mask>\n  </defs>\n  <line x1=\"7.92\" y1=\"0\" x2=\"9.92\" y2=\"0\" fill=\"none\" stroke=\"black\" stroke-width=\".04\" marker-end=\"url(#arrow)\"/>\n  <g fill=\"none\" stroke=\"black\" stroke-width=\"0.03\" mask=\"url(#mask-fdcdcf7a-06ad-4b1c-8b86-2d448a11359e)\">\n    <line x1=\"-0.31\" y1=\"-1.38\" x2=\"16.36\" y2=\"-1.38\" stroke=\"none\"/>\n    <line x1=\"0.00\" y1=\"-0.21\" x2=\"0.71\" y2=\"0.21\"/>\n    <line x1=\"0.71\" y1=\"0.21\" x2=\"1.43\" y2=\"-0.21\"/>\n    <line x1=\"3.67\" y1=\"-0.36\" x2=\"3.25\" y2=\"0.36\"/>\n    <line x1=\"3.63\" y1=\"-0.34\" x2=\"3.22\" y2=\"-1.05\"/>\n    <line x1=\"3.70\" y1=\"-0.38\" x2=\"3.29\" y2=\"-1.09\"/>\n    <line x1=\"3.67\" y1=\"-0.36\" x2=\"4.49\" y2=\"-0.36\"/>\n    <line x1=\"3.29\" y1=\"0.34\" x2=\"3.70\" y2=\"1.05\"/>\n    <line x1=\"3.22\" y1=\"0.38\" x2=\"3.63\" y2=\"1.09\"/>\n    <line x1=\"3.25\" y1=\"0.36\" x2=\"2.43\" y2=\"0.36\"/>\n    <line x1=\"6.21\" y1=\"0.21\" x2=\"5.49\" y2=\"-0.21\"/>\n    <line x1=\"6.21\" y1=\"0.21\" x2=\"6.92\" y2=\"-0.21\"/>\n    <line x1=\"13.78\" y1=\"0.21\" x2=\"13.06\" y2=\"-0.21\"/>\n    <line x1=\"13.78\" y1=\"0.21\" x2=\"14.49\" y2=\"-0.21\"/>\n    <line x1=\"13.82\" y1=\"0.21\" x2=\"13.82\" y2=\"1.03\"/>\n    <line x1=\"13.74\" y1=\"0.21\" x2=\"13.74\" y2=\"1.03\"/>\n    <line x1=\"13.06\" y1=\"-0.21\" x2=\"12.35\" y2=\"0.21\"/>\n    <line x1=\"13.02\" y1=\"-0.21\" x2=\"13.02\" y2=\"-1.03\"/>\n    <line x1=\"13.10\" y1=\"-0.21\" x2=\"13.10\" y2=\"-1.03\"/>\n    <line x1=\"14.49\" y1=\"-0.21\" x2=\"15.21\" y2=\"0.21\"/>\n    <line x1=\"12.35\" y1=\"0.21\" x2=\"11.63\" y2=\"-0.21\"/>\n    <line x1=\"15.21\" y1=\"0.21\" x2=\"15.92\" y2=\"-0.21\"/>\n    <line x1=\"11.63\" y1=\"-0.21\" x2=\"10.92\" y2=\"0.21\"/>\n  </g>\n  <g fill=\"none\" stroke=\"black\" stroke-width=\".04\" >\n    <line x1=\"1.78\" y1=\"0\" x2=\"2.08\" y2=\"0\"/>\n    <line x1=\"1.93\" y1=\"0.15\" x2=\"1.93\" y2=\"-0.15\"/>\n    <line x1=\"4.84\" y1=\"0\" x2=\"5.14\" y2=\"0\"/>\n    <line x1=\"4.99\" y1=\"0.15\" x2=\"4.99\" y2=\"-0.15\"/>\n  </g>\n  <g font-family=\"monospace\">\n    <g fill=\"#FF0D0D\">\n      <text x=\"1.43\" y=\"-0.21\" dx=\"-0.07\" dy=\"0.07\" font-size=\"0.25\">OH</text>\n    </g>\n    <g fill=\"#788CFF\" font-size=\"0.20\">\n      <text x=\"0.00\" y=\"-0.21\" text-anchor=\"middle\">3</text>\n      <text x=\"0.71\" y=\"0.21\" text-anchor=\"middle\">4</text>\n      <text x=\"1.43\" y=\"-0.21\" dx=\"-0.07\" dy=\"0.20\" text-anchor=\"end\">1</text>\n    </g>\n    <g fill=\"#FF0D0D\">\n      <text x=\"3.25\" y=\"-1.07\" dx=\"-0.07\" dy=\"0.07\" font-size=\"0.25\">O</text>\n    </g>\n    <g fill=\"#FF0D0D\">\n      <text x=\"4.49\" y=\"-0.36\" dx=\"-0.07\" dy=\"0.07\" font-size=\"0.25\">OH</text>\n    </g>\n    <g fill=\"#FF0D0D\">\n      <text x=\"3.67\" y=\"1.07\" dx=\"-0.07\" dy=\"0.07\" font-size=\"0.25\">O</text>\n    </g>\n    <g fill=\"#FF0D0D\">\n      <text x=\"2.43\" y=\"0.36\" dx=\"-0.07\" dy=\"0.07\" font-size=\"0.25\">OH</text>\n    </g>\n    <g fill=\"#788CFF\" font-size=\"0.20\">\n      <text x=\"3.67\" y=\"-0.36\" text-anchor=\"middle\">5</text>\n      <text x=\"3.25\" y=\"0.36\" text-anchor=\"middle\">6</text>\n      <text x=\"3.25\" y=\"-1.07\" dx=\"-0.07\" dy=\"0.20\" text-anchor=\"end\">7</text>\n      <text x=\"4.49\" y=\"-0.36\" dx=\"-0.07\" dy=\"0.20\" text-anchor=\"end\">8</text>\n      <text x=\"3.67\" y=\"1.07\" dx=\"-0.07\" dy=\"0.20\" text-anchor=\"end\">9</text>\n      <text x=\"2.43\" y=\"0.36\" dx=\"-0.07\" dy=\"0.20\" text-anchor=\"end\">10</text>\n    </g>\n    <g fill=\"#FF0D0D\">\n      <text x=\"6.92\" y=\"-0.21\" dx=\"-0.07\" dy=\"0.07\" font-size=\"0.25\">O</text>\n      <text x=\"6.92\" y=\"-0.21\" dx=\"0.05\" dy=\"-0.12\" font-size=\"0.15\">⁃</text>\n    </g>\n    <g fill=\"#788CFF\" font-size=\"0.20\">\n      <text x=\"6.21\" y=\"0.21\" text-anchor=\"middle\">11</text>\n      <text x=\"5.49\" y=\"-0.21\" text-anchor=\"middle\">12</text>\n      <text x=\"6.92\" y=\"-0.21\" dx=\"-0.07\" dy=\"0.20\" text-anchor=\"end\">2</text>\n    </g>\n    <g fill=\"#FF0D0D\">\n      <text x=\"14.49\" y=\"-0.21\" dx=\"-0.07\" dy=\"0.07\" font-size=\"0.25\">O</text>\n    </g>\n    <g fill=\"#FF0D0D\">\n      <text x=\"12.35\" y=\"0.21\" dx=\"-0.07\" dy=\"0.07\" font-size=\"0.25\">O</text>\n    </g>\n    <g fill=\"#FF0D0D\">\n      <text x=\"13.06\" y=\"-1.03\" dx=\"-0.07\" dy=\"0.07\" font-size=\"0.25\">O</text>\n    </g>\n    <g fill=\"#FF0D0D\">\n      <text x=\"13.78\" y=\"1.03\" dx=\"-0.07\" dy=\"0.07\" font-size=\"0.25\">O</text>\n    </g>\n    <g fill=\"#788CFF\" font-size=\"0.20\">\n      <text x=\"13.78\" y=\"0.21\" text-anchor=\"middle\">5</text>\n      <text x=\"13.06\" y=\"-0.21\" text-anchor=\"middle\">6</text>\n      <text x=\"14.49\" y=\"-0.21\" dx=\"-0.07\" dy=\"0.20\" text-anchor=\"end\">2</text>\n      <text x=\"12.35\" y=\"0.21\" dx=\"-0.07\" dy=\"0.20\" text-anchor=\"end\">1</text>\n      <text x=\"13.06\" y=\"-1.03\" dx=\"-0.07\" dy=\"0.20\" text-anchor=\"end\">9</text>\n      <text x=\"13.78\" y=\"1.03\" dx=\"-0.07\" dy=\"0.20\" text-anchor=\"end\">7</text>\n      <text x=\"15.21\" y=\"0.21\" text-anchor=\"middle\">11</text>\n      <text x=\"15.92\" y=\"-0.21\" text-anchor=\"middle\">12</text>\n      <text x=\"11.63\" y=\"-0.21\" text-anchor=\"middle\">4</text>\n      <text x=\"10.92\" y=\"0.21\" text-anchor=\"middle\">3</text>\n    </g>\n  </g>\n</svg>"
     },
     "metadata": {},
     "output_type": "execute_result",
     "execution_count": 83
    }
   ],
   "source": [
    "r1 # compare with initial reaction"
   ]
  },
  {
   "cell_type": "markdown",
   "metadata": {},
   "source": [
    "## 1.4 Queries\n",
    "\n",
    "CGRtools supports special objects for Queries. Queries are designed for substructure isomorphism. User can set number of neighbors and hybridization by himself (in molecules they could be calculated but could not be changed)."
   ]
  },
  {
   "cell_type": "code",
   "execution_count": 84,
   "metadata": {
    "pycharm": {
     "is_executing": false
    }
   },
   "outputs": [],
   "source": [
    "from CGRtools.containers import*"
   ]
  },
  {
   "cell_type": "code",
   "execution_count": 85,
   "metadata": {
    "scrolled": true,
    "pycharm": {
     "is_executing": false
    }
   },
   "outputs": [
    {
     "data": {
      "text/plain": "<CGRtools.containers.molecule.MoleculeContainer at 0x11fc770e8>",
      "image/svg+xml": "<svg width=\"1.46cm\" height=\"1.86cm\" viewBox=\"13.47 -1.55 1.46 1.86\" xmlns=\"http://www.w3.org/2000/svg\" version=\"1.1\">\n  <defs>\n    <mask id=\"mask-b8717ff6-15c9-4f06-9a9c-76d8b467b47c\">\n      <rect x=\"13.47\" y=\"-1.55\" width=\"1.46\" height=\"1.86\" fill=\"white\"/>\n      <g fill=\"black\">\n        <circle cx=\"14.49\" cy=\"-1.24\" r=\"0.12\"/>\n        <circle cx=\"13.78\" cy=\"-0.00\" r=\"0.12\"/>\n      </g>\n    </mask>\n  </defs>\n  <g fill=\"none\" stroke=\"black\" stroke-width=\"0.03\"  mask=\"url(#mask-b8717ff6-15c9-4f06-9a9c-76d8b467b47c)\">\n    <line x1=\"13.78\" y1=\"-0.83\" x2=\"14.49\" y2=\"-1.24\"/>\n    <line x1=\"13.82\" y1=\"-0.83\" x2=\"13.82\" y2=\"-0.00\"/>\n    <line x1=\"13.74\" y1=\"-0.83\" x2=\"13.74\" y2=\"0.00\"/>\n  </g>\n  <g font-family=\"monospace\">\n    <g fill=\"#FF0D0D\">\n      <text x=\"14.49\" y=\"-1.24\" dx=\"-0.07\" dy=\"0.07\" font-size=\"0.25\">OH</text>\n    </g>\n    <g fill=\"#FF0D0D\">\n      <text x=\"13.78\" y=\"-0.00\" dx=\"-0.07\" dy=\"0.07\" font-size=\"0.25\">O</text>\n    </g>\n    <g fill=\"#788CFF\" font-size=\"0.20\">\n      <text x=\"13.78\" y=\"-0.83\" text-anchor=\"middle\">5</text>\n      <text x=\"14.49\" y=\"-1.24\" dx=\"-0.07\" dy=\"0.20\" text-anchor=\"end\">2</text>\n      <text x=\"13.78\" y=\"-0.00\" dx=\"-0.07\" dy=\"0.20\" text-anchor=\"end\">7</text>\n    </g>\n  </g>\n</svg>"
     },
     "metadata": {},
     "output_type": "execute_result",
     "execution_count": 85
    }
   ],
   "source": [
    "carb = m10.substructure([5,7,2]) # extract projection of carboxyl fragment\n",
    "carb"
   ]
  },
  {
   "cell_type": "markdown",
   "metadata": {},
   "source": [
    "CGRs also can be transformed into Query.\n",
    "\n",
    "`QueryCGRContainer` is similar to QueryContainer class for CGRs and has the same API.\n",
    "\n",
    "`QueryCGRContainer` take into account state of atoms and bonds in reactant and product, including neighbors and hybridization"
   ]
  },
  {
   "cell_type": "code",
   "execution_count": 86,
   "metadata": {
    "pycharm": {
     "is_executing": false,
     "name": "#%% \n"
    }
   },
   "outputs": [],
   "source": [
    "# cgr_q = QueryCGRContainer(cgr1) # transfrom CGRContainer into QueryCGRContainer\n",
    "# print(cgr_q)                    # print out signature of query"
   ]
  },
  {
   "cell_type": "markdown",
   "metadata": {},
   "source": [
    "## 1.5. Molecules, CGRs, Reactions construction\n",
    "\n",
    "CGRtools has API for objects construction from scratch.\n",
    "\n",
    "CGR and Molecule has methods `add_atom` and `add_bond` for adding atoms and bonds."
   ]
  },
  {
   "cell_type": "code",
   "execution_count": 87,
   "metadata": {
    "pycharm": {
     "is_executing": false
    }
   },
   "outputs": [],
   "source": [
    "from CGRtools.containers import *"
   ]
  },
  {
   "cell_type": "code",
   "execution_count": 88,
   "metadata": {
    "pycharm": {
     "is_executing": false
    }
   },
   "outputs": [
    {
     "name": "stdout",
     "text": [
      "[Na+].[OH-].C.C\n"
     ],
     "output_type": "stream"
    }
   ],
   "source": [
    "m = MoleculeContainer() # new empty molecule\n",
    "\n",
    "m.add_atom('C')  # add Carbon atom using element symbol\n",
    "m.add_atom(6)    # add Carbon atom using element number. {'element': 6} is not valid, but {'element': 'O'} is also acceptable\n",
    "m.add_atom('O', charge=-1) # add negatively charged Oxygen atom. Similarly other atomic properties can be set\n",
    "\n",
    "# add_atom has second argument for setting atom number. \n",
    "# If not set, the next integer after the biggest among already created will be used.\n",
    "m.add_atom('Na', charge=1, _map=4)\n",
    "print(m)"
   ]
  },
  {
   "cell_type": "code",
   "execution_count": 89,
   "metadata": {
    "pycharm": {
     "is_executing": false
    }
   },
   "outputs": [],
   "source": [
    "m.add_bond(1, 2, 1) # add bond with order = 1 between atoms 1 and 2\n",
    "m.add_bond(3, 2, bond=1) # the other possibility to set bond order"
   ]
  },
  {
   "cell_type": "code",
   "execution_count": 90,
   "metadata": {
    "pycharm": {
     "is_executing": false
    }
   },
   "outputs": [
    {
     "data": {
      "text/plain": "<CGRtools.containers.molecule.MoleculeContainer at 0x11fc77188>",
      "image/svg+xml": "<svg width=\"2.30cm\" height=\"1.87cm\" viewBox=\"-0.31 -1.01 2.30 1.87\" xmlns=\"http://www.w3.org/2000/svg\" version=\"1.1\">\n  <defs>\n    <mask id=\"mask-f0127228-2678-442d-8d38-e8a582efd206\">\n      <rect x=\"-0.31\" y=\"-1.01\" width=\"2.30\" height=\"1.87\" fill=\"white\"/>\n      <g fill=\"black\">\n        <circle cx=\"0.72\" cy=\"0.56\" r=\"0.12\"/>\n        <circle cx=\"1.55\" cy=\"-0.00\" r=\"0.12\"/>\n      </g>\n    </mask>\n  </defs>\n  <g fill=\"none\" stroke=\"black\" stroke-width=\"0.03\"  mask=\"url(#mask-f0127228-2678-442d-8d38-e8a582efd206)\">\n    <line x1=\"0.00\" y1=\"-0.69\" x2=\"0.00\" y2=\"0.14\"/>\n    <line x1=\"0.00\" y1=\"0.14\" x2=\"0.72\" y2=\"0.56\"/>\n  </g>\n  <g font-family=\"monospace\">\n    <g fill=\"#FF0D0D\">\n      <text x=\"0.72\" y=\"0.56\" dx=\"-0.07\" dy=\"0.07\" font-size=\"0.25\">O</text>\n      <text x=\"0.72\" y=\"0.56\" dx=\"0.05\" dy=\"-0.12\" font-size=\"0.15\">⁃</text>\n    </g>\n    <g fill=\"#AB5CF2\">\n      <text x=\"1.55\" y=\"-0.00\" dx=\"-0.07\" dy=\"0.07\" font-size=\"0.25\">Na</text>\n      <text x=\"1.55\" y=\"-0.00\" dx=\"0.05\" dy=\"-0.12\" font-size=\"0.15\">+</text>\n    </g>\n    <g fill=\"#788CFF\" font-size=\"0.20\">\n      <text x=\"0.00\" y=\"-0.69\" text-anchor=\"middle\">1</text>\n      <text x=\"0.00\" y=\"0.14\" text-anchor=\"middle\">2</text>\n      <text x=\"0.72\" y=\"0.56\" dx=\"-0.07\" dy=\"0.20\" text-anchor=\"end\">3</text>\n      <text x=\"1.55\" y=\"-0.00\" dx=\"-0.07\" dy=\"0.20\" text-anchor=\"end\">4</text>\n    </g>\n  </g>\n</svg>"
     },
     "metadata": {},
     "output_type": "execute_result",
     "execution_count": 90
    }
   ],
   "source": [
    "m.clean2d() #function to calculate atom coordinates.\n",
    "m"
   ]
  },
  {
   "cell_type": "markdown",
   "metadata": {},
   "source": [
    "Reactions can be constructed from molecules"
   ]
  },
  {
   "cell_type": "code",
   "execution_count": 91,
   "metadata": {
    "pycharm": {
     "is_executing": false
    }
   },
   "outputs": [],
   "source": [
    "r = ReactionContainer(reactants=[m1], products=[m11]) # one-step way to construct reaction\n",
    "# or\n",
    "r = ReactionContainer([m1], [m11]) # first list of MoleculeContainers is interpreted as reactants, second one - as products"
   ]
  },
  {
   "cell_type": "code",
   "execution_count": 92,
   "metadata": {
    "pycharm": {
     "is_executing": false
    }
   },
   "outputs": [
    {
     "data": {
      "text/plain": "<CGRtools.containers.reaction.ReactionContainer at 0x11fc671e8>",
      "image/svg+xml": "<svg width=\"6.89cm\" height=\"4.34cm\" viewBox=\"-0.31 -2.17 6.89 4.34\" xmlns=\"http://www.w3.org/2000/svg\" version=\"1.1\">\n  <defs>\n    <marker id=\"arrow\" markerWidth=\"10\" markerHeight=\"10\" refX=\"0\" refY=\"3\" orient=\"auto\">\n      <path d=\"M0,0 L0,6 L9,3\"/>\n    </marker>\n    <mask id=\"mask-897e345c-ead4-474a-9101-022ee301dc3a\">\n      <rect x=\"-0.31\" y=\"-2.17\" width=\"6.89\" height=\"4.34\" fill=\"white\"/>\n      <g fill=\"black\">\n        <circle cx=\"0.71\" cy=\"-0.21\" r=\"0.12\"/>\n        <circle cx=\"5.43\" cy=\"-1.44\" r=\"0.12\"/>\n        <circle cx=\"4.71\" cy=\"-1.86\" r=\"0.12\"/>\n        <circle cx=\"6.14\" cy=\"-1.86\" r=\"0.12\"/>\n        <circle cx=\"5.43\" cy=\"1.86\" r=\"0.12\"/>\n      </g>\n    </mask>\n  </defs>\n  <line x1=\"1.71\" y1=\"0\" x2=\"3.71\" y2=\"0\" fill=\"none\" stroke=\"black\" stroke-width=\".04\" marker-end=\"url(#arrow)\"/>\n  <g fill=\"none\" stroke=\"black\" stroke-width=\"0.03\" mask=\"url(#mask-897e345c-ead4-474a-9101-022ee301dc3a)\">\n    <line x1=\"-0.31\" y1=\"-2.17\" x2=\"6.58\" y2=\"-2.17\" stroke=\"none\"/>\n    <line x1=\"0.00\" y1=\"0.21\" x2=\"0.71\" y2=\"-0.21\"/>\n    <line x1=\"5.43\" y1=\"-0.62\" x2=\"6.14\" y2=\"-0.21\"/>\n    <line x1=\"5.45\" y1=\"-0.58\" x2=\"4.73\" y2=\"-0.17\"/>\n    <line x1=\"5.41\" y1=\"-0.65\" x2=\"4.69\" y2=\"-0.24\"/>\n    <line x1=\"5.43\" y1=\"-0.62\" x2=\"5.43\" y2=\"-1.44\"/>\n    <line x1=\"6.18\" y1=\"-0.21\" x2=\"6.18\" y2=\"0.62\"/>\n    <line x1=\"6.10\" y1=\"-0.21\" x2=\"6.10\" y2=\"0.62\"/>\n    <line x1=\"6.14\" y1=\"0.62\" x2=\"5.43\" y2=\"1.03\"/>\n    <line x1=\"5.41\" y1=\"1.07\" x2=\"4.69\" y2=\"0.65\"/>\n    <line x1=\"5.45\" y1=\"1.00\" x2=\"4.73\" y2=\"0.58\"/>\n    <line x1=\"5.43\" y1=\"1.03\" x2=\"5.43\" y2=\"1.86\"/>\n    <line x1=\"4.71\" y1=\"0.62\" x2=\"4.71\" y2=\"-0.21\"/>\n    <line x1=\"5.41\" y1=\"-1.41\" x2=\"4.69\" y2=\"-1.82\"/>\n    <line x1=\"5.45\" y1=\"-1.48\" x2=\"4.73\" y2=\"-1.89\"/>\n    <line x1=\"5.43\" y1=\"-1.44\" x2=\"6.14\" y2=\"-1.86\"/>\n  </g>\n  <g font-family=\"monospace\">\n    <g fill=\"#FF0D0D\">\n      <text x=\"0.71\" y=\"-0.21\" dx=\"-0.07\" dy=\"0.07\" font-size=\"0.25\">OH</text>\n      <text x=\"0.71\" y=\"-0.21\" dx=\"-0.07\" dy=\"-0.05\" font-size=\"0.15\" text-anchor=\"end\">15</text>\n    </g>\n    <g fill=\"#788CFF\" font-size=\"0.20\">\n      <text x=\"0.00\" y=\"0.21\" text-anchor=\"middle\">4</text>\n      <text x=\"0.71\" y=\"-0.21\" dx=\"-0.07\" dy=\"0.20\" text-anchor=\"end\">1</text>\n    </g>\n    <g fill=\"#3050F8\">\n      <text x=\"5.43\" y=\"-1.44\" dx=\"-0.07\" dy=\"0.07\" font-size=\"0.25\">N</text>\n      <text x=\"5.43\" y=\"-1.44\" dx=\"0.05\" dy=\"-0.12\" font-size=\"0.15\">+</text>\n    </g>\n    <g fill=\"#FF0D0D\">\n      <text x=\"4.71\" y=\"-1.86\" dx=\"-0.07\" dy=\"0.07\" font-size=\"0.25\">O</text>\n    </g>\n    <g fill=\"#FF0D0D\">\n      <text x=\"6.14\" y=\"-1.86\" dx=\"-0.07\" dy=\"0.07\" font-size=\"0.25\">O</text>\n      <text x=\"6.14\" y=\"-1.86\" dx=\"0.05\" dy=\"-0.12\" font-size=\"0.15\">⁃</text>\n    </g>\n    <g fill=\"#FF0D0D\">\n      <text x=\"5.43\" y=\"1.86\" dx=\"-0.07\" dy=\"0.07\" font-size=\"0.25\">OH</text>\n    </g>\n    <g fill=\"#788CFF\" font-size=\"0.20\">\n      <text x=\"5.43\" y=\"-0.62\" text-anchor=\"middle\">4</text>\n      <text x=\"6.14\" y=\"-0.21\" text-anchor=\"middle\">5</text>\n      <text x=\"6.14\" y=\"0.62\" text-anchor=\"middle\">6</text>\n      <text x=\"5.43\" y=\"1.03\" text-anchor=\"middle\">7</text>\n      <text x=\"4.71\" y=\"0.62\" text-anchor=\"middle\">8</text>\n      <text x=\"4.71\" y=\"-0.21\" text-anchor=\"middle\">9</text>\n      <text x=\"5.43\" y=\"-1.44\" dx=\"-0.07\" dy=\"0.20\" text-anchor=\"end\">10</text>\n      <text x=\"4.71\" y=\"-1.86\" dx=\"-0.07\" dy=\"0.20\" text-anchor=\"end\">11</text>\n      <text x=\"6.14\" y=\"-1.86\" dx=\"-0.07\" dy=\"0.20\" text-anchor=\"end\">12</text>\n      <text x=\"5.43\" y=\"1.86\" dx=\"-0.07\" dy=\"0.20\" text-anchor=\"end\">13</text>\n    </g>\n  </g>\n</svg>"
     },
     "metadata": {},
     "output_type": "execute_result",
     "execution_count": 92
    }
   ],
   "source": [
    "r"
   ]
  },
  {
   "cell_type": "code",
   "execution_count": 93,
   "metadata": {
    "pycharm": {
     "is_executing": false
    }
   },
   "outputs": [
    {
     "name": "stdout",
     "text": [
      "Traceback (most recent call last):\n",
      "  File \"<ipython-input-93-8cc861eb5215>\", line 3, in <module>\n",
      "    r.products.append(m.copy()) # raise error for absent atom numbers\n",
      "AttributeError: 'tuple' object has no attribute 'append'\n",
      "\n"
     ],
     "output_type": "stream"
    }
   ],
   "source": [
    "# reactants, products, reagents attributes are tuples. \n",
    "try:\n",
    "    r.products.append(m.copy()) # raise error for absent atom numbers\n",
    "except AttributeError:\n",
    "    print(format_exc())"
   ]
  },
  {
   "cell_type": "code",
   "execution_count": 94,
   "metadata": {
    "pycharm": {
     "is_executing": false
    }
   },
   "outputs": [
    {
     "data": {
      "text/plain": "<CGRtools.containers.reaction.ReactionContainer at 0x11fc671e8>",
      "image/svg+xml": "<svg width=\"6.89cm\" height=\"4.34cm\" viewBox=\"-0.31 -2.17 6.89 4.34\" xmlns=\"http://www.w3.org/2000/svg\" version=\"1.1\">\n  <defs>\n    <marker id=\"arrow\" markerWidth=\"10\" markerHeight=\"10\" refX=\"0\" refY=\"3\" orient=\"auto\">\n      <path d=\"M0,0 L0,6 L9,3\"/>\n    </marker>\n    <mask id=\"mask-371c431c-5ca6-4138-bf02-f9fc11b11783\">\n      <rect x=\"-0.31\" y=\"-2.17\" width=\"6.89\" height=\"4.34\" fill=\"white\"/>\n      <g fill=\"black\">\n        <circle cx=\"0.71\" cy=\"-0.21\" r=\"0.12\"/>\n        <circle cx=\"5.43\" cy=\"-1.44\" r=\"0.12\"/>\n        <circle cx=\"4.71\" cy=\"-1.86\" r=\"0.12\"/>\n        <circle cx=\"6.14\" cy=\"-1.86\" r=\"0.12\"/>\n        <circle cx=\"5.43\" cy=\"1.86\" r=\"0.12\"/>\n      </g>\n    </mask>\n  </defs>\n  <line x1=\"1.71\" y1=\"0\" x2=\"3.71\" y2=\"0\" fill=\"none\" stroke=\"black\" stroke-width=\".04\" marker-end=\"url(#arrow)\"/>\n  <g fill=\"none\" stroke=\"black\" stroke-width=\"0.03\" mask=\"url(#mask-371c431c-5ca6-4138-bf02-f9fc11b11783)\">\n    <line x1=\"-0.31\" y1=\"-2.17\" x2=\"6.58\" y2=\"-2.17\" stroke=\"none\"/>\n    <line x1=\"0.00\" y1=\"0.21\" x2=\"0.71\" y2=\"-0.21\"/>\n    <line x1=\"5.43\" y1=\"-0.62\" x2=\"6.14\" y2=\"-0.21\"/>\n    <line x1=\"5.45\" y1=\"-0.58\" x2=\"4.73\" y2=\"-0.17\"/>\n    <line x1=\"5.41\" y1=\"-0.65\" x2=\"4.69\" y2=\"-0.24\"/>\n    <line x1=\"5.43\" y1=\"-0.62\" x2=\"5.43\" y2=\"-1.44\"/>\n    <line x1=\"6.18\" y1=\"-0.21\" x2=\"6.18\" y2=\"0.62\"/>\n    <line x1=\"6.10\" y1=\"-0.21\" x2=\"6.10\" y2=\"0.62\"/>\n    <line x1=\"6.14\" y1=\"0.62\" x2=\"5.43\" y2=\"1.03\"/>\n    <line x1=\"5.41\" y1=\"1.07\" x2=\"4.69\" y2=\"0.65\"/>\n    <line x1=\"5.45\" y1=\"1.00\" x2=\"4.73\" y2=\"0.58\"/>\n    <line x1=\"5.43\" y1=\"1.03\" x2=\"5.43\" y2=\"1.86\"/>\n    <line x1=\"4.71\" y1=\"0.62\" x2=\"4.71\" y2=\"-0.21\"/>\n    <line x1=\"5.41\" y1=\"-1.41\" x2=\"4.69\" y2=\"-1.82\"/>\n    <line x1=\"5.45\" y1=\"-1.48\" x2=\"4.73\" y2=\"-1.89\"/>\n    <line x1=\"5.43\" y1=\"-1.44\" x2=\"6.14\" y2=\"-1.86\"/>\n  </g>\n  <g font-family=\"monospace\">\n    <g fill=\"#FF0D0D\">\n      <text x=\"0.71\" y=\"-0.21\" dx=\"-0.07\" dy=\"0.07\" font-size=\"0.25\">OH</text>\n      <text x=\"0.71\" y=\"-0.21\" dx=\"-0.07\" dy=\"-0.05\" font-size=\"0.15\" text-anchor=\"end\">15</text>\n    </g>\n    <g fill=\"#788CFF\" font-size=\"0.20\">\n      <text x=\"0.00\" y=\"0.21\" text-anchor=\"middle\">4</text>\n      <text x=\"0.71\" y=\"-0.21\" dx=\"-0.07\" dy=\"0.20\" text-anchor=\"end\">1</text>\n    </g>\n    <g fill=\"#3050F8\">\n      <text x=\"5.43\" y=\"-1.44\" dx=\"-0.07\" dy=\"0.07\" font-size=\"0.25\">N</text>\n      <text x=\"5.43\" y=\"-1.44\" dx=\"0.05\" dy=\"-0.12\" font-size=\"0.15\">+</text>\n    </g>\n    <g fill=\"#FF0D0D\">\n      <text x=\"4.71\" y=\"-1.86\" dx=\"-0.07\" dy=\"0.07\" font-size=\"0.25\">O</text>\n    </g>\n    <g fill=\"#FF0D0D\">\n      <text x=\"6.14\" y=\"-1.86\" dx=\"-0.07\" dy=\"0.07\" font-size=\"0.25\">O</text>\n      <text x=\"6.14\" y=\"-1.86\" dx=\"0.05\" dy=\"-0.12\" font-size=\"0.15\">⁃</text>\n    </g>\n    <g fill=\"#FF0D0D\">\n      <text x=\"5.43\" y=\"1.86\" dx=\"-0.07\" dy=\"0.07\" font-size=\"0.25\">OH</text>\n    </g>\n    <g fill=\"#788CFF\" font-size=\"0.20\">\n      <text x=\"5.43\" y=\"-0.62\" text-anchor=\"middle\">4</text>\n      <text x=\"6.14\" y=\"-0.21\" text-anchor=\"middle\">5</text>\n      <text x=\"6.14\" y=\"0.62\" text-anchor=\"middle\">6</text>\n      <text x=\"5.43\" y=\"1.03\" text-anchor=\"middle\">7</text>\n      <text x=\"4.71\" y=\"0.62\" text-anchor=\"middle\">8</text>\n      <text x=\"4.71\" y=\"-0.21\" text-anchor=\"middle\">9</text>\n      <text x=\"5.43\" y=\"-1.44\" dx=\"-0.07\" dy=\"0.20\" text-anchor=\"end\">10</text>\n      <text x=\"4.71\" y=\"-1.86\" dx=\"-0.07\" dy=\"0.20\" text-anchor=\"end\">11</text>\n      <text x=\"6.14\" y=\"-1.86\" dx=\"-0.07\" dy=\"0.20\" text-anchor=\"end\">12</text>\n      <text x=\"5.43\" y=\"1.86\" dx=\"-0.07\" dy=\"0.20\" text-anchor=\"end\">13</text>\n    </g>\n  </g>\n</svg>"
     },
     "metadata": {},
     "output_type": "execute_result",
     "execution_count": 94
    }
   ],
   "source": [
    "r.fix_positions() # this method fixes coordinates of molecules in reaction\n",
    "r"
   ]
  },
  {
   "cell_type": "markdown",
   "metadata": {},
   "source": [
    "*QueryContainers* can be constructed in the same way as *MoleculeContainers*.\n",
    "\n",
    "Unlike other containers *QueryContainers* additionally support atoms, neighbors and hybridization lists."
   ]
  },
  {
   "cell_type": "code",
   "execution_count": 95,
   "metadata": {
    "pycharm": {
     "is_executing": false
    }
   },
   "outputs": [],
   "source": [
    "q = QueryContainer() # creation of empty container\n",
    "q.add_atom('N')\n",
    "q.add_atom('O') \n",
    "q.add_atom(atom='C', neighbors=[2, 3]) # add carbon atom, any isotope and multiplicity, neutral, \n",
    "                                                  # has 2 or 3 non-hydrogen heighbors\n",
    "q.add_atom(atom='O') # add oxygen atom, any isotope and multiplicity, neutral, \n",
    "                             # number of neighbors and hybridization are irrelevant \n",
    "q.add_bond(1, 2, 1) # add single bond between atom 1 and 2 \n",
    "q.add_bond(2, 3, 2) # add double bond between atom 1 and 2 \n",
    "# any amide or carboxilic group will fit this query"
   ]
  },
  {
   "cell_type": "code",
   "execution_count": 96,
   "metadata": {
    "pycharm": {
     "is_executing": false
    }
   },
   "outputs": [
    {
     "name": "stdout",
     "text": [
      "[C;23;]=[O][N].[O]\n"
     ],
     "output_type": "stream"
    },
    {
     "data": {
      "text/plain": "<CGRtools.containers.query.QueryContainer at 0x11fc2b948>",
      "image/svg+xml": "<svg width=\"2.30cm\" height=\"1.87cm\" viewBox=\"-0.31 -0.87 2.30 1.87\" xmlns=\"http://www.w3.org/2000/svg\" version=\"1.1\">\n  <defs>\n    <mask id=\"mask-9feeef3a-97ac-4704-be73-0dc51871b331\">\n      <rect x=\"-0.31\" y=\"-0.87\" width=\"2.30\" height=\"1.87\" fill=\"white\"/>\n      <g fill=\"black\">\n      <circle cx=\"0.72\" cy=\"0.69\" r=\"0.17\"/>\n      <circle cx=\"0.72\" cy=\"-0.14\" r=\"0.17\"/>\n      <circle cx=\"1.55\" cy=\"-0.00\" r=\"0.17\"/>\n      </g>\n    </mask>\n  </defs>\n  <g fill=\"none\" stroke=\"black\" stroke-width=\"0.03\"  mask=\"url(#mask-9feeef3a-97ac-4704-be73-0dc51871b331)\">\n    <line x1=\"0.72\" y1=\"0.69\" x2=\"0.72\" y2=\"-0.14\"/>\n    <line x1=\"0.70\" y1=\"-0.10\" x2=\"-0.02\" y2=\"-0.52\"/>\n    <line x1=\"0.74\" y1=\"-0.17\" x2=\"0.02\" y2=\"-0.59\"/>\n  </g>\n  <g font-family=\"monospace\">\n    <g fill=\"#3050F8\">\n      <text x=\"0.62\" y=\"0.77\" font-size=\"0.25\">N</text>\n    </g>\n    <g fill=\"#FF0D0D\">\n      <text x=\"0.62\" y=\"-0.06\" font-size=\"0.25\">O</text>\n    </g>\n    <g fill=\"#FF0D0D\">\n      <text x=\"1.45\" y=\"0.07\" font-size=\"0.25\">O</text>\n    </g>\n    <g fill=\"#5D8AA8\" font-size=\"0.17\">\n      <text x=\"0.00\" y=\"-0.56\" dx=\"0.00\" dy=\"0.20\" text-anchor=\"start\">23</text>\n    </g>\n    <g fill=\"#788CFF\" font-size=\"0.17\">\n      <text x=\"0.72\" y=\"0.69\" dx=\"0\" dy=\"0.20\" text-anchor=\"end\">1</text>\n      <text x=\"0.72\" y=\"-0.14\" dx=\"0\" dy=\"0.20\" text-anchor=\"end\">2</text>\n      <text x=\"0.00\" y=\"-0.56\" dx=\"0\" dy=\"0.20\" text-anchor=\"end\">3</text>\n      <text x=\"1.55\" y=\"-0.00\" dx=\"0\" dy=\"0.20\" text-anchor=\"end\">4</text>\n    </g>\n  </g>\n</svg>"
     },
     "metadata": {},
     "output_type": "execute_result",
     "execution_count": 96
    }
   ],
   "source": [
    "print(q) # print out signature (SMILES-like)\n",
    "\n",
    "# or\n",
    "q.clean2d()\n",
    "q"
   ]
  },
  {
   "cell_type": "markdown",
   "metadata": {},
   "source": [
    "## 1.6. Extending CGRtools\n",
    "\n",
    "You can easily customize CGRtools for your tasks.  \n",
    "CGRtools is OOP-oriented library with subclassing and inheritance support.\n",
    "\n",
    "As an example, we show how special marks on atoms for ligand donor centers can be added."
   ]
  },
  {
   "cell_type": "code",
   "execution_count": 97,
   "metadata": {
    "pycharm": {
     "is_executing": false
    }
   },
   "outputs": [],
   "source": [
    "from CGRtools.containers import MoleculeContainer\n",
    "from CGRtools.attributes import Atom"
   ]
  },
  {
   "cell_type": "code",
   "execution_count": 98,
   "metadata": {
    "pycharm": {
     "is_executing": false
    }
   },
   "outputs": [],
   "source": [
    "class MarkedAtom(Atom):  # this class will inherite Atom class\n",
    "    __slots__ = '__mark' # all new attributes should be slotted!\n",
    "    \n",
    "    def __init__(self, **kwargs):\n",
    "        super().__init__(**kwargs)\n",
    "        self.__mark = None # set default value for added attribute\n",
    "\n",
    "    @property\n",
    "    def mark(self):        # created new property \n",
    "        return self.__mark\n",
    "    \n",
    "    @mark.setter\n",
    "    def mark(self, mark):\n",
    "        # do some checks and calculations\n",
    "        self.__mark = mark"
   ]
  },
  {
   "cell_type": "code",
   "execution_count": 99,
   "metadata": {
    "pycharm": {
     "is_executing": false
    }
   },
   "outputs": [],
   "source": [
    "class MarkedMoleculeContainer(MoleculeContainer): # MarkedAtomContainer inherits MoleculeContainer\n",
    "    node_attr_dict_factory = MarkedAtom # override atom container"
   ]
  },
  {
   "cell_type": "code",
   "execution_count": 100,
   "metadata": {
    "pycharm": {
     "is_executing": false
    }
   },
   "outputs": [],
   "source": [
    "m = MarkedMoleculeContainer() # create newly developed container MarkedMoleculeContainer\n",
    "m.add_atom('C')               # add atom C using methods inherited from MoleculeContainer\n",
    "m.add_atom('N')               # add atom N\n",
    "m.add_bond(1, 2, 1)           # add bond\n",
    "# doesn't work for the moment\n",
    "# m.atom(2)['mark'] = 1  # set mark on atom. In this example dictinary setitem supported but update not."
   ]
  },
  {
   "cell_type": "code",
   "execution_count": 101,
   "metadata": {
    "pycharm": {
     "is_executing": false
    }
   },
   "outputs": [],
   "source": [
    "# m.atom(2).mark # one can return mark"
   ]
  }
 ],
 "metadata": {
  "kernelspec": {
   "name": "python3",
   "language": "python",
   "display_name": "Python 3"
  },
  "language_info": {
   "codemirror_mode": {
    "name": "ipython",
    "version": 3
   },
   "file_extension": ".py",
   "mimetype": "text/x-python",
   "name": "python",
   "nbconvert_exporter": "python",
   "pygments_lexer": "ipython3",
   "version": "3.7.1"
  },
  "pycharm": {
   "stem_cell": {
    "cell_type": "raw",
    "source": [],
    "metadata": {
     "collapsed": false
    }
   }
  }
 },
 "nbformat": 4,
 "nbformat_minor": 1
}