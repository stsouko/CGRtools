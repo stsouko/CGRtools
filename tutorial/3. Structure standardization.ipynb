{
 "cells": [
  {
   "cell_type": "markdown",
   "metadata": {},
   "source": [
    "# CGRtools Tutorial\n",
    "\n",
    "(c) 2019, Dr. Ramil Nugmanov; Dr. Timur Madzhidov; Ravil Mukhametgaleev\n",
    "\n",
    "Installation instructions of CGRtools package information and tutorial's files see on `https://github.com/cimm-kzn/CGRtools`\n",
    "\n",
    "NOTE: Tutorial should be performed sequentially from the start. Random cell running will lead to unexpected results. "
   ]
  },
  {
   "cell_type": "code",
   "execution_count": 1,
   "metadata": {},
   "outputs": [
    {
     "name": "stdout",
     "output_type": "stream",
     "text": [
      "Welcome!\n"
     ]
    }
   ],
   "source": [
    "import pkg_resources\n",
    "if pkg_resources.get_distribution('CGRtools').version.split('.')[:2] != ['3', '1']:\n",
    "    print('WARNING. Tutorial was tested on 3.1 version of CGRtools')\n",
    "else:\n",
    "    print('Welcome!')"
   ]
  },
  {
   "cell_type": "code",
   "execution_count": 2,
   "metadata": {},
   "outputs": [
    {
     "data": {
      "text/plain": [
       "1"
      ]
     },
     "execution_count": 2,
     "metadata": {},
     "output_type": "execute_result"
    }
   ],
   "source": [
    "# load data for tutorial\n",
    "from pickle import load\n",
    "from traceback import format_exc\n",
    "\n",
    "with open('molecules.dat', 'rb') as f:\n",
    "    molecules = load(f) # list of MoleculeContainer objects\n",
    "with open('reactions.dat', 'rb') as f:\n",
    "    reactions = load(f) # list of ReactionContainer objects\n",
    "\n",
    "m1, m2, m3, m4 = molecules # molecule\n",
    "m12 = m3.copy()\n",
    "r1 = reactions[0] # reaction\n",
    "\n",
    "m1.reset_query_marks()\n",
    "m1.atom(1).isotope = 16\n",
    "m1.flush_cache()\n",
    "\n",
    "m1.delete_atom(3)\n",
    "m1.atom_implicit_h(1)\n",
    "m1.atom_explicit_h(1)\n",
    "m1.atom_total_h(1)"
   ]
  },
  {
   "cell_type": "markdown",
   "metadata": {},
   "source": [
    "# 3. Structure standardization\n",
    "\n",
    "## 3.1. Molecules\n",
    "\n",
    "MoleculeContainer has `standardize` and `aromatize` methods.\n",
    "\n",
    "Method `aromatize` transforms Kekule representation of rings into aromatized\n",
    "\n",
    "Method `standardize` applies functional group standardization rules to molecules. The following rules are implemented (corresponding SMARTS are given):\n",
    "\n",
    "    • Aromatic N-Oxide \t[#7;a:1]=[O:2]>>[#7+:1]-[#8-:2]\n",
    "    • Azide \t\t\t[#7;A;X2-:1][N;X2+:2]#[N;X1:3]>>[#7:1]=[N+:2]=[#7-:3]\n",
    "    • Diazo  \t\t\t[#6;X3-:1][N;X2+:2]#[N;X1:3]>>[#6;A:1]=[N+:2]=[#7-:3]\n",
    "    • Diazonium  \t\t[#6]-[#7:1]=[#7+:2]>>[#6][N+:1]#[N:2]\n",
    "    • Iminium  \t\t[#6;X3+:1]-[#7;X3:2]>>[#6;A:1]=[#7+:2]\n",
    "    • Isocyanate  \t\t[#7+:1][#6;A-:2]=[O:3]>>[#7:1]=[C:2]=[O:3]\n",
    "    • Nitrilium  \t\t[#6;A;X2+:1]=[#7;X2:2]>>[C:1]#[N+:2]\n",
    "    • Nitro  \t\t\t[O:3]=[N:1]=[O:2]>>[#8-:2]-[#7+:1]=[O:3]\n",
    "    • Nitrone Nitronate \t[#6;A]=[N:1]=[O:2]>>[#8-:2]-[#7+:1]=[#6;A]\n",
    "    • Nitroso  \t\t[#6]-[#7H2+:1]-[#8;X1-:2]>>[#6]-[#7:1]=[O:2]\n",
    "    • Phosphonic  \t\t[#6][P+:1]([#8;X2])([#8;X2])[#8-:2]>>[#6][P:1]([#8])([#8])=[O:2]\n",
    "    • Phosphonium Ylide  \t[#6][P-:1]([#6])([#6])[#6+:2]>>[#6][P:1]([#6])([#6])=[#6;A:2]\n",
    "    • Selenite  \t\t[#8;X2][Se+:1]([#8;X2])[#8-:2]>>[#8][Se:1]([#8])=[O:2]\n",
    "    • Silicate  \t\t[#8;X2]-[#14+:1](-[#8;X2])-[#8-:2]>>[#8]-[#14:1](-[#8])=[O:2]\n",
    "    • Sulfine  \t\t[#6]-[#6](-[#6])=[S+:1][#8-:2]>>[#6]-[#6](-[#6])=[S:1]=[O:2]\n",
    "    • Sulfon  \t\t\t[#6][S;X3+:1]([#6])[#8-:2]>>[#6][S:1]([#6])=[O:2]\n",
    "    • Sulfonium Ylide  \t[#6][S-:1]([#6])[#6+:2]>>[#6][S:1]([#6])=[#6;A:2]\n",
    "    • Sulfoxide  \t\t[#6][S+:1]([#6])([#8-:2])=O>>[#6][S:1]([#6])(=[O:2])=O\n",
    "    • Sulfoxonium Ylide  \t[#6][S+:1]([#6])([#8-:2])=[#6;A]>>[#6][S:1]([#6])(=[#6;A])=[O:2]\n",
    "    • Tertiary N-Oxide  \t[#6]-[#7;X4:1]=[O:2]>>[#6]-[#7+:1]-[#8-:2]\n"
   ]
  },
  {
   "cell_type": "code",
   "execution_count": 3,
   "metadata": {},
   "outputs": [
    {
     "data": {
      "image/svg+xml": [
       "<svg width=\"2.43cm\" height=\"4.71cm\" viewBox=\"1.93 -4.21 2.43 4.71\" xmlns=\"http://www.w3.org/2000/svg\" version=\"1.1\">\n",
       "  <g font-family=\"sans-serif\">\n",
       "    <g fill=\"#3050F8\">\n",
       "      <text x=\"3.00\" y=\"-3.16\" font-size=\"0.40\">N</text>\n",
       "    </g>\n",
       "    <g fill=\"#FF0D0D\">\n",
       "      <text x=\"2.29\" y=\"-3.57\" font-size=\"0.40\">O</text>\n",
       "    </g>\n",
       "    <g fill=\"#FF0D0D\">\n",
       "      <text x=\"3.72\" y=\"-3.57\" font-size=\"0.40\">O</text>\n",
       "    </g>\n",
       "    <g fill=\"#FF0D0D\">\n",
       "      <text x=\"3.00\" y=\"0.14\" font-size=\"0.40\">O</text>\n",
       "    </g>\n",
       "  </g>\n",
       "  <g fill=\"none\" stroke=\"black\" stroke-width=\".03\">\n",
       "    <line x1=\"3.14\" y1=\"-2.48\" x2=\"3.86\" y2=\"-2.06\" />\n",
       "    <line x1=\"3.12\" y1=\"-2.51\" x2=\"2.41\" y2=\"-2.10\" />\n",
       "    <line x1=\"3.16\" y1=\"-2.44\" x2=\"2.45\" y2=\"-2.03\" />\n",
       "    <line x1=\"3.14\" y1=\"-2.48\" x2=\"3.14\" y2=\"-3.09\" />\n",
       "    <line x1=\"3.82\" y1=\"-2.06\" x2=\"3.82\" y2=\"-1.24\" />\n",
       "    <line x1=\"3.90\" y1=\"-2.06\" x2=\"3.90\" y2=\"-1.24\" />\n",
       "    <line x1=\"3.86\" y1=\"-1.24\" x2=\"3.14\" y2=\"-0.82\" />\n",
       "    <line x1=\"3.16\" y1=\"-0.86\" x2=\"2.45\" y2=\"-1.27\" />\n",
       "    <line x1=\"3.12\" y1=\"-0.79\" x2=\"2.41\" y2=\"-1.20\" />\n",
       "    <line x1=\"3.14\" y1=\"-0.82\" x2=\"3.14\" y2=\"-0.21\" />\n",
       "    <line x1=\"2.43\" y1=\"-1.24\" x2=\"2.43\" y2=\"-2.06\" />\n",
       "    <line x1=\"2.98\" y1=\"-3.44\" x2=\"2.63\" y2=\"-3.64\" />\n",
       "    <line x1=\"2.94\" y1=\"-3.37\" x2=\"2.59\" y2=\"-3.57\" />\n",
       "    <line x1=\"3.35\" y1=\"-3.37\" x2=\"3.70\" y2=\"-3.57\" />\n",
       "    <line x1=\"3.31\" y1=\"-3.44\" x2=\"3.66\" y2=\"-3.64\" />\n",
       "  </g>\n",
       "</svg>"
      ],
      "text/plain": [
       "<CGRtools.containers.molecule.MoleculeContainer at 0x7fd13ec38ae8>"
      ]
     },
     "execution_count": 3,
     "metadata": {},
     "output_type": "execute_result"
    }
   ],
   "source": [
    "m12 # molecule with kekulized ring"
   ]
  },
  {
   "cell_type": "code",
   "execution_count": 4,
   "metadata": {},
   "outputs": [
    {
     "data": {
      "text/plain": [
       "1"
      ]
     },
     "execution_count": 4,
     "metadata": {},
     "output_type": "execute_result"
    }
   ],
   "source": [
    "m12.aromatize() # aromatizes and returns number of transformed rings"
   ]
  },
  {
   "cell_type": "code",
   "execution_count": 5,
   "metadata": {},
   "outputs": [
    {
     "data": {
      "image/svg+xml": [
       "<svg width=\"2.43cm\" height=\"4.71cm\" viewBox=\"1.93 -4.21 2.43 4.71\" xmlns=\"http://www.w3.org/2000/svg\" version=\"1.1\">\n",
       "  <g font-family=\"sans-serif\">\n",
       "    <g fill=\"#3050F8\">\n",
       "      <text x=\"3.00\" y=\"-3.16\" font-size=\"0.40\">N</text>\n",
       "    </g>\n",
       "    <g fill=\"#FF0D0D\">\n",
       "      <text x=\"2.29\" y=\"-3.57\" font-size=\"0.40\">O</text>\n",
       "    </g>\n",
       "    <g fill=\"#FF0D0D\">\n",
       "      <text x=\"3.72\" y=\"-3.57\" font-size=\"0.40\">O</text>\n",
       "    </g>\n",
       "    <g fill=\"#FF0D0D\">\n",
       "      <text x=\"3.00\" y=\"0.14\" font-size=\"0.40\">O</text>\n",
       "    </g>\n",
       "  </g>\n",
       "  <g fill=\"none\" stroke=\"black\" stroke-width=\".03\">\n",
       "    <line x1=\"3.14\" y1=\"-2.48\" x2=\"3.86\" y2=\"-2.06\" />\n",
       "    <line x1=\"3.18\" y1=\"-2.54\" x2=\"3.90\" y2=\"-2.13\" stroke-dasharray=\"0.20 0.10\" />\n",
       "    <line x1=\"3.14\" y1=\"-2.48\" x2=\"2.43\" y2=\"-2.06\" />\n",
       "    <line x1=\"3.18\" y1=\"-2.41\" x2=\"2.47\" y2=\"-1.99\" stroke-dasharray=\"0.20 0.10\" />\n",
       "    <line x1=\"3.14\" y1=\"-2.48\" x2=\"3.14\" y2=\"-3.09\" />\n",
       "    <line x1=\"3.86\" y1=\"-2.06\" x2=\"3.86\" y2=\"-1.24\" />\n",
       "    <line x1=\"3.94\" y1=\"-2.06\" x2=\"3.94\" y2=\"-1.24\" stroke-dasharray=\"0.20 0.10\" />\n",
       "    <line x1=\"3.86\" y1=\"-1.24\" x2=\"3.14\" y2=\"-0.82\" />\n",
       "    <line x1=\"3.90\" y1=\"-1.17\" x2=\"3.18\" y2=\"-0.76\" stroke-dasharray=\"0.20 0.10\" />\n",
       "    <line x1=\"3.14\" y1=\"-0.82\" x2=\"2.43\" y2=\"-1.24\" />\n",
       "    <line x1=\"3.10\" y1=\"-0.76\" x2=\"2.39\" y2=\"-1.17\" stroke-dasharray=\"0.20 0.10\" />\n",
       "    <line x1=\"3.14\" y1=\"-0.82\" x2=\"3.14\" y2=\"-0.21\" />\n",
       "    <line x1=\"2.43\" y1=\"-1.24\" x2=\"2.43\" y2=\"-2.06\" />\n",
       "    <line x1=\"2.35\" y1=\"-1.24\" x2=\"2.35\" y2=\"-2.06\" stroke-dasharray=\"0.20 0.10\" />\n",
       "    <line x1=\"2.98\" y1=\"-3.44\" x2=\"2.63\" y2=\"-3.64\" />\n",
       "    <line x1=\"2.94\" y1=\"-3.37\" x2=\"2.59\" y2=\"-3.57\" />\n",
       "    <line x1=\"3.35\" y1=\"-3.37\" x2=\"3.70\" y2=\"-3.57\" />\n",
       "    <line x1=\"3.31\" y1=\"-3.44\" x2=\"3.66\" y2=\"-3.64\" />\n",
       "  </g>\n",
       "</svg>"
      ],
      "text/plain": [
       "<CGRtools.containers.molecule.MoleculeContainer at 0x7fd13ec38ae8>"
      ]
     },
     "execution_count": 5,
     "metadata": {},
     "output_type": "execute_result"
    }
   ],
   "source": [
    "m12 # cleaned structure. Cache is flushed automatically"
   ]
  },
  {
   "cell_type": "code",
   "execution_count": 6,
   "metadata": {},
   "outputs": [
    {
     "data": {
      "text/plain": [
       "1"
      ]
     },
     "execution_count": 6,
     "metadata": {},
     "output_type": "execute_result"
    }
   ],
   "source": [
    "m12.standardize()  # apply standardization. Returns number of transformed groups"
   ]
  },
  {
   "cell_type": "code",
   "execution_count": 7,
   "metadata": {},
   "outputs": [
    {
     "data": {
      "image/svg+xml": [
       "<svg width=\"2.43cm\" height=\"4.71cm\" viewBox=\"1.93 -4.21 2.43 4.71\" xmlns=\"http://www.w3.org/2000/svg\" version=\"1.1\">\n",
       "  <g font-family=\"sans-serif\">\n",
       "    <g fill=\"#3050F8\">\n",
       "      <text x=\"3.00\" y=\"-3.16\" font-size=\"0.40\">N</text>\n",
       "      <text x=\"3.28\" y=\"-3.44\" font-size=\"0.30\">+</text>\n",
       "    </g>\n",
       "    <g fill=\"#FF0D0D\">\n",
       "      <text x=\"2.29\" y=\"-3.57\" font-size=\"0.40\">O</text>\n",
       "      <text x=\"2.57\" y=\"-3.85\" font-size=\"0.30\">⁃</text>\n",
       "    </g>\n",
       "    <g fill=\"#FF0D0D\">\n",
       "      <text x=\"3.72\" y=\"-3.57\" font-size=\"0.40\">O</text>\n",
       "    </g>\n",
       "    <g fill=\"#FF0D0D\">\n",
       "      <text x=\"3.00\" y=\"0.14\" font-size=\"0.40\">O</text>\n",
       "    </g>\n",
       "  </g>\n",
       "  <g fill=\"none\" stroke=\"black\" stroke-width=\".03\">\n",
       "    <line x1=\"3.14\" y1=\"-2.48\" x2=\"3.86\" y2=\"-2.06\" />\n",
       "    <line x1=\"3.18\" y1=\"-2.54\" x2=\"3.90\" y2=\"-2.13\" stroke-dasharray=\"0.20 0.10\" />\n",
       "    <line x1=\"3.14\" y1=\"-2.48\" x2=\"2.43\" y2=\"-2.06\" />\n",
       "    <line x1=\"3.18\" y1=\"-2.41\" x2=\"2.47\" y2=\"-1.99\" stroke-dasharray=\"0.20 0.10\" />\n",
       "    <line x1=\"3.14\" y1=\"-2.48\" x2=\"3.14\" y2=\"-3.09\" />\n",
       "    <line x1=\"3.86\" y1=\"-2.06\" x2=\"3.86\" y2=\"-1.24\" />\n",
       "    <line x1=\"3.94\" y1=\"-2.06\" x2=\"3.94\" y2=\"-1.24\" stroke-dasharray=\"0.20 0.10\" />\n",
       "    <line x1=\"3.86\" y1=\"-1.24\" x2=\"3.14\" y2=\"-0.82\" />\n",
       "    <line x1=\"3.90\" y1=\"-1.17\" x2=\"3.18\" y2=\"-0.76\" stroke-dasharray=\"0.20 0.10\" />\n",
       "    <line x1=\"3.14\" y1=\"-0.82\" x2=\"2.43\" y2=\"-1.24\" />\n",
       "    <line x1=\"3.10\" y1=\"-0.76\" x2=\"2.39\" y2=\"-1.17\" stroke-dasharray=\"0.20 0.10\" />\n",
       "    <line x1=\"3.14\" y1=\"-0.82\" x2=\"3.14\" y2=\"-0.21\" />\n",
       "    <line x1=\"2.43\" y1=\"-1.24\" x2=\"2.43\" y2=\"-2.06\" />\n",
       "    <line x1=\"2.35\" y1=\"-1.24\" x2=\"2.35\" y2=\"-2.06\" stroke-dasharray=\"0.20 0.10\" />\n",
       "    <line x1=\"2.96\" y1=\"-3.41\" x2=\"2.61\" y2=\"-3.61\" />\n",
       "    <line x1=\"3.35\" y1=\"-3.37\" x2=\"3.70\" y2=\"-3.57\" />\n",
       "    <line x1=\"3.31\" y1=\"-3.44\" x2=\"3.66\" y2=\"-3.64\" />\n",
       "  </g>\n",
       "</svg>"
      ],
      "text/plain": [
       "<CGRtools.containers.molecule.MoleculeContainer at 0x7fd13ec38ae8>"
      ]
     },
     "execution_count": 7,
     "metadata": {},
     "output_type": "execute_result"
    }
   ],
   "source": [
    "m12"
   ]
  },
  {
   "cell_type": "markdown",
   "metadata": {},
   "source": [
    "Molecules has `explicify_hydrogens` and `implicify_hydrogens` methods to handle hydrogens.\n",
    "\n",
    "This methods is used to add or remove hydrogens in molecule.\n",
    "\n",
    "Note that currently for pyrole-like molecules implicit hydrogens atoms are calculated incorrectly "
   ]
  },
  {
   "cell_type": "code",
   "execution_count": 8,
   "metadata": {},
   "outputs": [
    {
     "data": {
      "text/plain": [
       "4"
      ]
     },
     "execution_count": 8,
     "metadata": {},
     "output_type": "execute_result"
    }
   ],
   "source": [
    "m1.explicify_hydrogens() # return number of added hydrogens"
   ]
  },
  {
   "cell_type": "code",
   "execution_count": 9,
   "metadata": {},
   "outputs": [
    {
     "data": {
      "image/svg+xml": [
       "<svg width=\"11.10cm\" height=\"1.41cm\" viewBox=\"-10.60 -0.64 11.10 1.41\" xmlns=\"http://www.w3.org/2000/svg\" version=\"1.1\">\n",
       "  <g font-family=\"sans-serif\">\n",
       "    <g fill=\"#FF0D0D\">\n",
       "      <text x=\"-9.52\" y=\"0.00\" font-size=\"0.40\">O</text>\n",
       "    </g>\n",
       "    <g fill=\"#909090\">\n",
       "      <text x=\"-0.14\" y=\"0.14\" font-size=\"0.40\">H</text>\n",
       "    </g>\n",
       "    <g fill=\"#909090\">\n",
       "      <text x=\"-0.14\" y=\"0.14\" font-size=\"0.40\">H</text>\n",
       "    </g>\n",
       "    <g fill=\"#909090\">\n",
       "      <text x=\"-0.14\" y=\"0.14\" font-size=\"0.40\">H</text>\n",
       "    </g>\n",
       "    <g fill=\"#909090\">\n",
       "      <text x=\"-0.14\" y=\"0.14\" font-size=\"0.40\">H</text>\n",
       "    </g>\n",
       "  </g>\n",
       "  <g fill=\"none\" stroke=\"black\" stroke-width=\".03\">\n",
       "    <line x1=\"-10.10\" y1=\"0.28\" x2=\"-9.57\" y2=\"-0.03\" />\n",
       "    <line x1=\"-10.10\" y1=\"0.28\" x2=\"-0.21\" y2=\"0.01\" />\n",
       "    <line x1=\"-10.10\" y1=\"0.28\" x2=\"-0.21\" y2=\"0.01\" />\n",
       "    <line x1=\"-10.10\" y1=\"0.28\" x2=\"-0.21\" y2=\"0.01\" />\n",
       "    <line x1=\"-9.17\" y1=\"-0.13\" x2=\"-0.21\" y2=\"-0.00\" />\n",
       "  </g>\n",
       "</svg>"
      ],
      "text/plain": [
       "<CGRtools.containers.molecule.MoleculeContainer at 0x7fd12ae01ef8>"
      ]
     },
     "execution_count": 9,
     "metadata": {},
     "output_type": "execute_result"
    }
   ],
   "source": [
    "m1 # for added hydrogen atoms coordinates are not calculated. Thus, it looks like hydrogen has the same position on image"
   ]
  },
  {
   "cell_type": "code",
   "execution_count": 10,
   "metadata": {},
   "outputs": [
    {
     "data": {
      "text/plain": [
       "4"
      ]
     },
     "execution_count": 10,
     "metadata": {},
     "output_type": "execute_result"
    }
   ],
   "source": [
    "m1.implicify_hydrogens()"
   ]
  },
  {
   "cell_type": "code",
   "execution_count": 11,
   "metadata": {},
   "outputs": [
    {
     "data": {
      "image/svg+xml": [
       "<svg width=\"1.71cm\" height=\"1.41cm\" viewBox=\"-10.60 -0.64 1.71 1.41\" xmlns=\"http://www.w3.org/2000/svg\" version=\"1.1\">\n",
       "  <g font-family=\"sans-serif\">\n",
       "    <g fill=\"#FF0D0D\">\n",
       "      <text x=\"-9.52\" y=\"0.00\" font-size=\"0.40\">O</text>\n",
       "    </g>\n",
       "  </g>\n",
       "  <g fill=\"none\" stroke=\"black\" stroke-width=\".03\">\n",
       "    <line x1=\"-10.10\" y1=\"0.28\" x2=\"-9.57\" y2=\"-0.03\" />\n",
       "  </g>\n",
       "</svg>"
      ],
      "text/plain": [
       "<CGRtools.containers.molecule.MoleculeContainer at 0x7fd12ae01ef8>"
      ]
     },
     "execution_count": 11,
     "metadata": {},
     "output_type": "execute_result"
    }
   ],
   "source": [
    "m1"
   ]
  },
  {
   "cell_type": "markdown",
   "metadata": {},
   "source": [
    "CGRtools has experimental algorithm for 2d geometry calcultaion. It works fine only for small molecules. Algorithm requires numpy and scipy packages"
   ]
  },
  {
   "cell_type": "code",
   "execution_count": 12,
   "metadata": {},
   "outputs": [
    {
     "data": {
      "image/svg+xml": [
       "<svg width=\"2.16cm\" height=\"2.83cm\" viewBox=\"-1.04 -1.50 2.16 2.83\" xmlns=\"http://www.w3.org/2000/svg\" version=\"1.1\">\n",
       "  <g font-family=\"sans-serif\">\n",
       "    <g fill=\"#FF0D0D\">\n",
       "      <text x=\"0.10\" y=\"-0.29\" font-size=\"0.40\">O</text>\n",
       "    </g>\n",
       "    <g fill=\"#909090\">\n",
       "      <text x=\"-0.31\" y=\"0.97\" font-size=\"0.40\">H</text>\n",
       "    </g>\n",
       "    <g fill=\"#909090\">\n",
       "      <text x=\"0.47\" y=\"0.67\" font-size=\"0.40\">H</text>\n",
       "    </g>\n",
       "    <g fill=\"#909090\">\n",
       "      <text x=\"-0.68\" y=\"0.01\" font-size=\"0.40\">H</text>\n",
       "    </g>\n",
       "    <g fill=\"#909090\">\n",
       "      <text x=\"-0.32\" y=\"-0.86\" font-size=\"0.40\">H</text>\n",
       "    </g>\n",
       "  </g>\n",
       "  <g fill=\"none\" stroke=\"black\" stroke-width=\".03\">\n",
       "    <line x1=\"0.04\" y1=\"0.20\" x2=\"0.17\" y2=\"-0.23\" />\n",
       "    <line x1=\"0.04\" y1=\"0.20\" x2=\"-0.10\" y2=\"0.63\" />\n",
       "    <line x1=\"0.04\" y1=\"0.20\" x2=\"0.43\" y2=\"0.42\" />\n",
       "    <line x1=\"0.04\" y1=\"0.20\" x2=\"-0.36\" y2=\"-0.02\" />\n",
       "    <line x1=\"0.11\" y1=\"-0.60\" x2=\"-0.06\" y2=\"-0.83\" />\n",
       "  </g>\n",
       "</svg>"
      ],
      "text/plain": [
       "<CGRtools.containers.molecule.MoleculeContainer at 0x7fd12ae01ef8>"
      ]
     },
     "execution_count": 12,
     "metadata": {},
     "output_type": "execute_result"
    }
   ],
   "source": [
    "m1.explicify_hydrogens() # add explicit hydrogens\n",
    "m1.calculate2d() # experimental force field-based 2d geometry calculation.\n",
    "m1"
   ]
  },
  {
   "cell_type": "markdown",
   "metadata": {},
   "source": [
    "## 3.2. Reactions standardization\n",
    "ReactionContainer has `standardize`, `aromatize`, `explicify_hydrogens` and `implicify_hydrogens` methods that can be applied to reactions. In this case they are applied to all molecules in reaction."
   ]
  },
  {
   "cell_type": "code",
   "execution_count": 13,
   "metadata": {},
   "outputs": [
    {
     "data": {
      "image/svg+xml": [
       "<svg width=\"12.38cm\" height=\"1.71cm\" viewBox=\"-0.50 -1.21 12.38 1.71\" xmlns=\"http://www.w3.org/2000/svg\" version=\"1.1\">\n",
       "  <defs><marker id=\"arrow\" markerWidth=\"10\" markerHeight=\"10\" refX=\"0\" refY=\"3\" orient=\"auto\"><path d=\"M0,0 L0,6 L9,3 z\" /></marker></defs>\n",
       "  <line x1=\"5.49\" y1=\"-1\" x2=\"7.49\" y2=\"-1\" fill=\"none\" stroke=\"black\" stroke-width=\".04\" marker-end=\"url(#arrow)\" />\n",
       "  <g font-family=\"sans-serif\">\n",
       "    <g fill=\"#940094\">\n",
       "      <text x=\"1.29\" y=\"-0.27\" font-size=\"0.40\">I</text>\n",
       "    </g>\n",
       "  </g>\n",
       "  <g fill=\"none\" stroke=\"black\" stroke-width=\".03\">\n",
       "    <line x1=\"0.00\" y1=\"-0.41\" x2=\"0.71\" y2=\"-0.00\" />\n",
       "    <line x1=\"0.71\" y1=\"-0.00\" x2=\"1.25\" y2=\"-0.31\" />\n",
       "  </g>\n",
       "  <g font-family=\"sans-serif\">\n",
       "    <g fill=\"#AB5CF2\">\n",
       "      <text x=\"4.35\" y=\"0.14\" font-size=\"0.40\">Na</text>\n",
       "    </g>\n",
       "    <g fill=\"#3050F8\">\n",
       "      <text x=\"3.94\" y=\"-0.57\" font-size=\"0.40\">N</text>\n",
       "      <text x=\"4.22\" y=\"-0.85\" font-size=\"0.30\">⁃</text>\n",
       "    </g>\n",
       "    <g fill=\"#3050F8\">\n",
       "      <text x=\"3.11\" y=\"-0.57\" font-size=\"0.40\">N</text>\n",
       "      <text x=\"3.39\" y=\"-0.85\" font-size=\"0.30\">+</text>\n",
       "    </g>\n",
       "    <g fill=\"#3050F8\">\n",
       "      <text x=\"2.29\" y=\"-0.57\" font-size=\"0.40\">N</text>\n",
       "    </g>\n",
       "  </g>\n",
       "  <g fill=\"none\" stroke=\"black\" stroke-width=\".03\">\n",
       "    <line x1=\"4.39\" y1=\"-0.18\" x2=\"4.18\" y2=\"-0.53\" />\n",
       "    <line x1=\"3.87\" y1=\"-0.71\" x2=\"3.46\" y2=\"-0.71\" />\n",
       "    <line x1=\"3.04\" y1=\"-0.78\" x2=\"2.64\" y2=\"-0.78\" />\n",
       "    <line x1=\"3.04\" y1=\"-0.71\" x2=\"2.64\" y2=\"-0.71\" />\n",
       "    <line x1=\"3.04\" y1=\"-0.64\" x2=\"2.64\" y2=\"-0.64\" />\n",
       "  </g>\n",
       "  <g font-family=\"sans-serif\">\n",
       "    <g fill=\"#3050F8\">\n",
       "      <text x=\"11.24\" y=\"-0.57\" font-size=\"0.40\">N</text>\n",
       "      <text x=\"11.52\" y=\"-0.85\" font-size=\"0.30\">⁃</text>\n",
       "    </g>\n",
       "    <g fill=\"#3050F8\">\n",
       "      <text x=\"10.41\" y=\"-0.57\" font-size=\"0.40\">N</text>\n",
       "    </g>\n",
       "    <g fill=\"#3050F8\">\n",
       "      <text x=\"9.59\" y=\"-0.57\" font-size=\"0.40\">N</text>\n",
       "      <text x=\"9.87\" y=\"-0.85\" font-size=\"0.30\">+</text>\n",
       "    </g>\n",
       "  </g>\n",
       "  <g fill=\"none\" stroke=\"black\" stroke-width=\".03\">\n",
       "    <line x1=\"11.17\" y1=\"-0.75\" x2=\"10.76\" y2=\"-0.75\" />\n",
       "    <line x1=\"11.17\" y1=\"-0.67\" x2=\"10.76\" y2=\"-0.67\" />\n",
       "    <line x1=\"10.34\" y1=\"-0.78\" x2=\"9.94\" y2=\"-0.78\" />\n",
       "    <line x1=\"10.34\" y1=\"-0.71\" x2=\"9.94\" y2=\"-0.71\" />\n",
       "    <line x1=\"10.34\" y1=\"-0.64\" x2=\"9.94\" y2=\"-0.64\" />\n",
       "    <line x1=\"9.52\" y1=\"-0.71\" x2=\"8.90\" y2=\"-0.71\" />\n",
       "    <line x1=\"8.90\" y1=\"-0.71\" x2=\"8.49\" y2=\"-0.00\" />\n",
       "  </g>\n",
       "</svg>"
      ],
      "text/plain": [
       "<CGRtools.containers.reaction.ReactionContainer at 0x7fd13ec31768>"
      ]
     },
     "execution_count": 13,
     "metadata": {},
     "output_type": "execute_result"
    }
   ],
   "source": [
    "reactions[2]"
   ]
  },
  {
   "cell_type": "code",
   "execution_count": 14,
   "metadata": {},
   "outputs": [
    {
     "data": {
      "image/svg+xml": [
       "<svg width=\"12.38cm\" height=\"1.71cm\" viewBox=\"-0.50 -1.21 12.38 1.71\" xmlns=\"http://www.w3.org/2000/svg\" version=\"1.1\">\n",
       "  <defs><marker id=\"arrow\" markerWidth=\"10\" markerHeight=\"10\" refX=\"0\" refY=\"3\" orient=\"auto\"><path d=\"M0,0 L0,6 L9,3 z\" /></marker></defs>\n",
       "  <line x1=\"5.49\" y1=\"-1\" x2=\"7.49\" y2=\"-1\" fill=\"none\" stroke=\"black\" stroke-width=\".04\" marker-end=\"url(#arrow)\" />\n",
       "  <g font-family=\"sans-serif\">\n",
       "    <g fill=\"#940094\">\n",
       "      <text x=\"1.29\" y=\"-0.27\" font-size=\"0.40\">I</text>\n",
       "    </g>\n",
       "    <g fill=\"#909090\">\n",
       "      <text x=\"-0.14\" y=\"0.14\" font-size=\"0.40\">H</text>\n",
       "    </g>\n",
       "    <g fill=\"#909090\">\n",
       "      <text x=\"-0.14\" y=\"0.14\" font-size=\"0.40\">H</text>\n",
       "    </g>\n",
       "    <g fill=\"#909090\">\n",
       "      <text x=\"-0.14\" y=\"0.14\" font-size=\"0.40\">H</text>\n",
       "    </g>\n",
       "    <g fill=\"#909090\">\n",
       "      <text x=\"-0.14\" y=\"0.14\" font-size=\"0.40\">H</text>\n",
       "    </g>\n",
       "    <g fill=\"#909090\">\n",
       "      <text x=\"-0.14\" y=\"0.14\" font-size=\"0.40\">H</text>\n",
       "    </g>\n",
       "  </g>\n",
       "  <g fill=\"none\" stroke=\"black\" stroke-width=\".03\">\n",
       "    <line x1=\"0.00\" y1=\"-0.41\" x2=\"0.71\" y2=\"-0.00\" />\n",
       "    <line x1=\"0.00\" y1=\"-0.41\" x2=\"-0.00\" y2=\"-0.21\" />\n",
       "    <line x1=\"0.00\" y1=\"-0.41\" x2=\"-0.00\" y2=\"-0.21\" />\n",
       "    <line x1=\"0.00\" y1=\"-0.41\" x2=\"-0.00\" y2=\"-0.21\" />\n",
       "    <line x1=\"0.71\" y1=\"-0.00\" x2=\"1.25\" y2=\"-0.31\" />\n",
       "    <line x1=\"0.71\" y1=\"-0.00\" x2=\"0.21\" y2=\"0.00\" />\n",
       "    <line x1=\"0.71\" y1=\"-0.00\" x2=\"0.21\" y2=\"0.00\" />\n",
       "  </g>\n",
       "  <g font-family=\"sans-serif\">\n",
       "    <g fill=\"#AB5CF2\">\n",
       "      <text x=\"4.35\" y=\"0.14\" font-size=\"0.40\">Na</text>\n",
       "    </g>\n",
       "    <g fill=\"#3050F8\">\n",
       "      <text x=\"3.94\" y=\"-0.57\" font-size=\"0.40\">N</text>\n",
       "    </g>\n",
       "    <g fill=\"#3050F8\">\n",
       "      <text x=\"3.11\" y=\"-0.57\" font-size=\"0.40\">N</text>\n",
       "      <text x=\"3.39\" y=\"-0.85\" font-size=\"0.30\">+</text>\n",
       "    </g>\n",
       "    <g fill=\"#3050F8\">\n",
       "      <text x=\"2.29\" y=\"-0.57\" font-size=\"0.40\">N</text>\n",
       "      <text x=\"2.57\" y=\"-0.85\" font-size=\"0.30\">⁃</text>\n",
       "    </g>\n",
       "  </g>\n",
       "  <g fill=\"none\" stroke=\"black\" stroke-width=\".03\">\n",
       "    <line x1=\"4.39\" y1=\"-0.18\" x2=\"4.18\" y2=\"-0.53\" />\n",
       "    <line x1=\"3.87\" y1=\"-0.75\" x2=\"3.46\" y2=\"-0.75\" />\n",
       "    <line x1=\"3.87\" y1=\"-0.67\" x2=\"3.46\" y2=\"-0.67\" />\n",
       "    <line x1=\"3.04\" y1=\"-0.75\" x2=\"2.64\" y2=\"-0.75\" />\n",
       "    <line x1=\"3.04\" y1=\"-0.67\" x2=\"2.64\" y2=\"-0.67\" />\n",
       "  </g>\n",
       "  <g font-family=\"sans-serif\">\n",
       "    <g fill=\"#3050F8\">\n",
       "      <text x=\"11.24\" y=\"-0.57\" font-size=\"0.40\">N</text>\n",
       "      <text x=\"11.52\" y=\"-0.85\" font-size=\"0.30\">⁃</text>\n",
       "    </g>\n",
       "    <g fill=\"#3050F8\">\n",
       "      <text x=\"10.41\" y=\"-0.57\" font-size=\"0.40\">N</text>\n",
       "      <text x=\"10.69\" y=\"-0.85\" font-size=\"0.30\">+</text>\n",
       "    </g>\n",
       "    <g fill=\"#3050F8\">\n",
       "      <text x=\"9.59\" y=\"-0.57\" font-size=\"0.40\">N</text>\n",
       "    </g>\n",
       "    <g fill=\"#909090\">\n",
       "      <text x=\"-0.14\" y=\"0.14\" font-size=\"0.40\">H</text>\n",
       "    </g>\n",
       "    <g fill=\"#909090\">\n",
       "      <text x=\"-0.14\" y=\"0.14\" font-size=\"0.40\">H</text>\n",
       "    </g>\n",
       "    <g fill=\"#909090\">\n",
       "      <text x=\"-0.14\" y=\"0.14\" font-size=\"0.40\">H</text>\n",
       "    </g>\n",
       "    <g fill=\"#909090\">\n",
       "      <text x=\"-0.14\" y=\"0.14\" font-size=\"0.40\">H</text>\n",
       "    </g>\n",
       "    <g fill=\"#909090\">\n",
       "      <text x=\"-0.14\" y=\"0.14\" font-size=\"0.40\">H</text>\n",
       "    </g>\n",
       "  </g>\n",
       "  <g fill=\"none\" stroke=\"black\" stroke-width=\".03\">\n",
       "    <line x1=\"11.17\" y1=\"-0.75\" x2=\"10.76\" y2=\"-0.75\" />\n",
       "    <line x1=\"11.17\" y1=\"-0.67\" x2=\"10.76\" y2=\"-0.67\" />\n",
       "    <line x1=\"10.34\" y1=\"-0.75\" x2=\"9.94\" y2=\"-0.75\" />\n",
       "    <line x1=\"10.34\" y1=\"-0.67\" x2=\"9.94\" y2=\"-0.67\" />\n",
       "    <line x1=\"9.52\" y1=\"-0.71\" x2=\"8.90\" y2=\"-0.71\" />\n",
       "    <line x1=\"8.90\" y1=\"-0.71\" x2=\"8.49\" y2=\"-0.00\" />\n",
       "    <line x1=\"8.90\" y1=\"-0.71\" x2=\"0.21\" y2=\"-0.02\" />\n",
       "    <line x1=\"8.90\" y1=\"-0.71\" x2=\"0.21\" y2=\"-0.02\" />\n",
       "    <line x1=\"8.49\" y1=\"-0.00\" x2=\"0.21\" y2=\"0.00\" />\n",
       "    <line x1=\"8.49\" y1=\"-0.00\" x2=\"0.21\" y2=\"0.00\" />\n",
       "    <line x1=\"8.49\" y1=\"-0.00\" x2=\"0.21\" y2=\"0.00\" />\n",
       "  </g>\n",
       "</svg>"
      ],
      "text/plain": [
       "<CGRtools.containers.reaction.ReactionContainer at 0x7fd13ec31768>"
      ]
     },
     "execution_count": 14,
     "metadata": {},
     "output_type": "execute_result"
    }
   ],
   "source": [
    "reactions[2].standardize()\n",
    "reactions[2].explicify_hydrogens()\n",
    "reactions[2]"
   ]
  }
 ],
 "metadata": {
  "kernelspec": {
   "display_name": "Python 3",
   "language": "python",
   "name": "python3"
  },
  "language_info": {
   "codemirror_mode": {
    "name": "ipython",
    "version": 3
   },
   "file_extension": ".py",
   "mimetype": "text/x-python",
   "name": "python",
   "nbconvert_exporter": "python",
   "pygments_lexer": "ipython3",
   "version": "3.7.1"
  }
 },
 "nbformat": 4,
 "nbformat_minor": 2
}
