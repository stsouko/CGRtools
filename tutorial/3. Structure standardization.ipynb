{
 "cells": [
  {
   "cell_type": "markdown",
   "metadata": {},
   "source": [
    "# 3. Structure standardization\n",
    "\n",
    "(c) 2020, Dr. Ramil Nugmanov; Dr. Timur Madzhidov; Ravil Mukhametgaleev\n",
    "\n",
    "Installation instructions of CGRtools package information and tutorial's files see on `https://github.com/cimm-kzn/CGRtools`\n",
    "\n",
    "NOTE: Tutorial should be performed sequentially from the start. Random cell running will lead to unexpected results. "
   ]
  },
  {
   "cell_type": "code",
   "execution_count": 1,
   "metadata": {
    "pycharm": {
     "is_executing": false
    }
   },
   "outputs": [
    {
     "name": "stdout",
     "text": [
      "Welcome!\n"
     ],
     "output_type": "stream"
    }
   ],
   "source": [
    "import pkg_resources\n",
    "if pkg_resources.get_distribution('CGRtools').version.split('.')[:2] != ['4', '0']:\n",
    "    print('WARNING. Tutorial was tested on 4.0 version of CGRtools')\n",
    "else:\n",
    "    print('Welcome!')"
   ]
  },
  {
   "cell_type": "code",
   "execution_count": 2,
   "metadata": {
    "pycharm": {
     "is_executing": false
    }
   },
   "outputs": [
    {
     "name": "stdout",
     "text": [
      "1\n",
      "0\n",
      "1\n"
     ],
     "output_type": "stream"
    }
   ],
   "source": [
    "# load data for tutorial\n",
    "from pickle import load\n",
    "from traceback import format_exc\n",
    "\n",
    "with open('molecules.dat', 'rb') as f:\n",
    "    molecules = load(f) # list of MoleculeContainer objects\n",
    "with open('reactions.dat', 'rb') as f:\n",
    "    reactions = load(f) # list of ReactionContainer objects\n",
    "\n",
    "m1, m2, m3, m4 = molecules # molecule\n",
    "m12 = m3.copy()\n",
    "r1 = reactions[0] # reaction\n",
    "\n",
    "m1.delete_atom(3)\n",
    "print(m1.atom(1).implicit_hydrogens)\n",
    "print(m1.atom(1).explicit_hydrogens)\n",
    "print(m1.atom(1).total_hydrogens)"
   ]
  },
  {
   "cell_type": "markdown",
   "metadata": {},
   "source": [
    "## 3.1. Molecules\n",
    "\n",
    "MoleculeContainer has `standardize` and `aromatize` methods.\n",
    "\n",
    "Method `aromatize` transforms Kekule representation of rings into aromatized\n",
    "\n",
    "Method `standardize` applies functional group standardization rules to molecules. The following rules are implemented (corresponding SMARTS are given):\n",
    "\n",
    "    • Aromatic N-Oxide \t[#7;a:1]=[O:2]>>[#7+:1]-[#8-:2]\n",
    "    • Azide \t\t\t[#7;A;X2-:1][N;X2+:2]#[N;X1:3]>>[#7:1]=[N+:2]=[#7-:3]\n",
    "    • Carbon Monoxide   [CX1] = O  >> С- # O+\n",
    "    • Diazo  \t\t\t[#6;X3-:1][N;X2+:2]#[N;X1:3]>>[#6;A:1]=[N+:2]=[#7-:3]\n",
    "    • Diazonium  \t\t[#6]-[#7:1]=[#7+:2]>>[#6][N+:1]#[N:2]\n",
    "    • Iminium  \t\t[#6;X3+:1]-[#7;X3:2]>>[#6;A:1]=[#7+:2]\n",
    "    • Isocyanate  \t\t[#7+:1][#6;A-:2]=[O:3]>>[#7:1]=[C:2]=[O:3]\n",
    "    • Nitrilium  \t\t[#6;A;X2+:1]=[#7;X2:2]>>[C:1]#[N+:2]\n",
    "    • Nitro  \t\t\t[O:3]=[N:1]=[O:2]>>[#8-:2]-[#7+:1]=[O:3]\n",
    "    • Nitrone Nitronate \t[#6;A]=[N:1]=[O:2]>>[#8-:2]-[#7+:1]=[#6;A]\n",
    "    • Nitroso  \t\t[#6]-[#7H2+:1]-[#8;X1-:2]>>[#6]-[#7:1]=[O:2]\n",
    "    • Ozone         [O] -- O -- [O]  >>  O == [O+] -- [O-]\n",
    "    • Phosphonic  \t\t[#6][P+:1]([#8;X2])([#8;X2])[#8-:2]>>[#6][P:1]([#8])([#8])=[O:2]\n",
    "    • Phosphonium Ylide  \t[#6][P-:1]([#6])([#6])[#6+:2]>>[#6][P:1]([#6])([#6])=[#6;A:2]\n",
    "    • Selenite  \t\t[#8;X2][Se+:1]([#8;X2])[#8-:2]>>[#8][Se:1]([#8])=[O:2]\n",
    "    • Silicate  \t\t[#8;X2]-[#14+:1](-[#8;X2])-[#8-:2]>>[#8]-[#14:1](-[#8])=[O:2]\n",
    "    • Sulfine  \t\t[#6]-[#6](-[#6])=[S+:1][#8-:2]>>[#6]-[#6](-[#6])=[S:1]=[O:2]\n",
    "    • Sulfon  \t\t\t[#6][S;X3+:1]([#6])[#8-:2]>>[#6][S:1]([#6])=[O:2]\n",
    "    • Sulfonium Ylide  \t[#6][S-:1]([#6])[#6+:2]>>[#6][S:1]([#6])=[#6;A:2]\n",
    "    • Sulfoxide  \t\t[#6][S+:1]([#6])([#8-:2])=O>>[#6][S:1]([#6])(=[O:2])=O\n",
    "    • Sulfoxonium Ylide  \t[#6][S+:1]([#6])([#8-:2])=[#6;A]>>[#6][S:1]([#6])(=[#6;A])=[O:2]\n",
    "    • Tertiary N-Oxide  \t[#6]-[#7;X4:1]=[O:2]>>[#6]-[#7+:1]-[#8-:2] "
   ]
  },
  {
   "cell_type": "code",
   "execution_count": 3,
   "metadata": {
    "pycharm": {
     "is_executing": false
    }
   },
   "outputs": [
    {
     "data": {
      "text/plain": "<CGRtools.containers.molecule.MoleculeContainer at 0x1077cc7c8>",
      "image/svg+xml": "<svg width=\"2.18cm\" height=\"4.34cm\" viewBox=\"2.12 -4.03 2.18 4.34\" xmlns=\"http://www.w3.org/2000/svg\" version=\"1.1\">\n  <defs>\n    <mask id=\"mask-aad14081-2f75-46ad-9ae7-4e2f7cb0e855\">\n      <rect x=\"2.12\" y=\"-4.03\" width=\"2.18\" height=\"4.34\" fill=\"white\"/>\n      <g fill=\"black\">\n        <circle cx=\"3.14\" cy=\"-3.30\" r=\"0.12\"/>\n        <circle cx=\"2.43\" cy=\"-3.71\" r=\"0.12\"/>\n        <circle cx=\"3.86\" cy=\"-3.71\" r=\"0.12\"/>\n        <circle cx=\"3.14\" cy=\"-0.00\" r=\"0.12\"/>\n      </g>\n    </mask>\n  </defs>\n  <g fill=\"none\" stroke=\"black\" stroke-width=\"0.03\"  mask=\"url(#mask-aad14081-2f75-46ad-9ae7-4e2f7cb0e855)\">\n    <line x1=\"3.14\" y1=\"-2.48\" x2=\"3.86\" y2=\"-2.06\"/>\n    <line x1=\"3.16\" y1=\"-2.44\" x2=\"2.45\" y2=\"-2.03\"/>\n    <line x1=\"3.12\" y1=\"-2.51\" x2=\"2.41\" y2=\"-2.10\"/>\n    <line x1=\"3.14\" y1=\"-2.48\" x2=\"3.14\" y2=\"-3.30\"/>\n    <line x1=\"3.90\" y1=\"-2.06\" x2=\"3.90\" y2=\"-1.24\"/>\n    <line x1=\"3.82\" y1=\"-2.06\" x2=\"3.82\" y2=\"-1.24\"/>\n    <line x1=\"3.86\" y1=\"-1.24\" x2=\"3.14\" y2=\"-0.82\"/>\n    <line x1=\"3.12\" y1=\"-0.79\" x2=\"2.41\" y2=\"-1.20\"/>\n    <line x1=\"3.16\" y1=\"-0.86\" x2=\"2.45\" y2=\"-1.27\"/>\n    <line x1=\"3.14\" y1=\"-0.82\" x2=\"3.14\" y2=\"-0.00\"/>\n    <line x1=\"2.43\" y1=\"-1.24\" x2=\"2.43\" y2=\"-2.06\"/>\n    <line x1=\"3.12\" y1=\"-3.27\" x2=\"2.41\" y2=\"-3.68\"/>\n    <line x1=\"3.16\" y1=\"-3.33\" x2=\"2.45\" y2=\"-3.75\"/>\n    <line x1=\"3.12\" y1=\"-3.33\" x2=\"3.84\" y2=\"-3.75\"/>\n    <line x1=\"3.16\" y1=\"-3.27\" x2=\"3.88\" y2=\"-3.68\"/>\n  </g>\n  <g font-family=\"monospace\">\n    <g fill=\"#3050F8\">\n      <text x=\"3.14\" y=\"-3.30\" dx=\"-0.07\" dy=\"0.07\" font-size=\"0.25\">N</text>\n    </g>\n    <g fill=\"#FF0D0D\">\n      <text x=\"2.43\" y=\"-3.71\" dx=\"-0.07\" dy=\"0.07\" font-size=\"0.25\">O</text>\n    </g>\n    <g fill=\"#FF0D0D\">\n      <text x=\"3.86\" y=\"-3.71\" dx=\"-0.07\" dy=\"0.07\" font-size=\"0.25\">O</text>\n    </g>\n    <g fill=\"#FF0D0D\">\n      <text x=\"3.14\" y=\"-0.00\" dx=\"-0.07\" dy=\"0.07\" font-size=\"0.25\">OH</text>\n    </g>\n    <g fill=\"#788CFF\" font-size=\"0.20\">\n      <text x=\"3.14\" y=\"-2.48\" text-anchor=\"middle\">4</text>\n      <text x=\"3.86\" y=\"-2.06\" text-anchor=\"middle\">5</text>\n      <text x=\"3.86\" y=\"-1.24\" text-anchor=\"middle\">6</text>\n      <text x=\"3.14\" y=\"-0.82\" text-anchor=\"middle\">7</text>\n      <text x=\"2.43\" y=\"-1.24\" text-anchor=\"middle\">8</text>\n      <text x=\"2.43\" y=\"-2.06\" text-anchor=\"middle\">9</text>\n      <text x=\"3.14\" y=\"-3.30\" dx=\"-0.07\" dy=\"0.20\" text-anchor=\"end\">10</text>\n      <text x=\"2.43\" y=\"-3.71\" dx=\"-0.07\" dy=\"0.20\" text-anchor=\"end\">11</text>\n      <text x=\"3.86\" y=\"-3.71\" dx=\"-0.07\" dy=\"0.20\" text-anchor=\"end\">12</text>\n      <text x=\"3.14\" y=\"-0.00\" dx=\"-0.07\" dy=\"0.20\" text-anchor=\"end\">13</text>\n    </g>\n  </g>\n</svg>"
     },
     "metadata": {},
     "output_type": "execute_result",
     "execution_count": 3
    }
   ],
   "source": [
    "m12 # molecule with kekulized ring"
   ]
  },
  {
   "cell_type": "code",
   "execution_count": 4,
   "outputs": [
    {
     "name": "stdout",
     "text": [
      "True\n"
     ],
     "output_type": "stream"
    }
   ],
   "source": [
    "if m12.check_thiele(): # check if it is possible to aromatize\n",
    "    print(m12.thiele()) # aromatizes and returns number of transformed rings"
   ],
   "metadata": {
    "collapsed": false,
    "pycharm": {
     "name": "#%%\n",
     "is_executing": false
    }
   }
  },
  {
   "cell_type": "code",
   "execution_count": 5,
   "metadata": {
    "pycharm": {
     "is_executing": false
    }
   },
   "outputs": [
    {
     "data": {
      "text/plain": "<CGRtools.containers.molecule.MoleculeContainer at 0x1077cc7c8>",
      "image/svg+xml": "<svg width=\"2.18cm\" height=\"4.34cm\" viewBox=\"2.12 -4.03 2.18 4.34\" xmlns=\"http://www.w3.org/2000/svg\" version=\"1.1\">\n  <defs>\n    <mask id=\"mask-e856351d-6524-4a47-ba7c-968e1cc578af\">\n      <rect x=\"2.12\" y=\"-4.03\" width=\"2.18\" height=\"4.34\" fill=\"white\"/>\n      <g fill=\"black\">\n        <circle cx=\"3.14\" cy=\"-3.30\" r=\"0.12\"/>\n        <circle cx=\"2.43\" cy=\"-3.71\" r=\"0.12\"/>\n        <circle cx=\"3.86\" cy=\"-3.71\" r=\"0.12\"/>\n        <circle cx=\"3.14\" cy=\"-0.00\" r=\"0.12\"/>\n      </g>\n    </mask>\n  </defs>\n  <g fill=\"none\" stroke=\"black\" stroke-width=\"0.03\"  mask=\"url(#mask-e856351d-6524-4a47-ba7c-968e1cc578af)\">\n    <line x1=\"3.14\" y1=\"-2.48\" x2=\"3.86\" y2=\"-2.06\"/>\n    <line x1=\"3.14\" y1=\"-2.48\" x2=\"2.43\" y2=\"-2.06\"/>\n    <line x1=\"3.14\" y1=\"-2.48\" x2=\"3.14\" y2=\"-3.30\"/>\n    <line x1=\"3.86\" y1=\"-2.06\" x2=\"3.86\" y2=\"-1.24\"/>\n    <line x1=\"3.86\" y1=\"-1.24\" x2=\"3.14\" y2=\"-0.82\"/>\n    <line x1=\"3.14\" y1=\"-0.82\" x2=\"2.43\" y2=\"-1.24\"/>\n    <line x1=\"3.14\" y1=\"-0.82\" x2=\"3.14\" y2=\"-0.00\"/>\n    <line x1=\"2.43\" y1=\"-1.24\" x2=\"2.43\" y2=\"-2.06\"/>\n    <line x1=\"3.12\" y1=\"-3.27\" x2=\"2.41\" y2=\"-3.68\"/>\n    <line x1=\"3.16\" y1=\"-3.33\" x2=\"2.45\" y2=\"-3.75\"/>\n    <line x1=\"3.12\" y1=\"-3.33\" x2=\"3.84\" y2=\"-3.75\"/>\n    <line x1=\"3.16\" y1=\"-3.27\" x2=\"3.88\" y2=\"-3.68\"/>\n    <line x1=\"3.14\" y1=\"-2.38\" x2=\"2.51\" y2=\"-2.02\" stroke-dasharray=\"0.05 0.05\"/>\n    <line x1=\"2.51\" y1=\"-2.02\" x2=\"2.51\" y2=\"-1.28\" stroke-dasharray=\"0.05 0.05\"/>\n    <line x1=\"2.51\" y1=\"-1.28\" x2=\"3.14\" y2=\"-0.92\" stroke-dasharray=\"0.05 0.05\"/>\n    <line x1=\"3.14\" y1=\"-0.92\" x2=\"3.78\" y2=\"-1.28\" stroke-dasharray=\"0.05 0.05\"/>\n    <line x1=\"3.78\" y1=\"-1.28\" x2=\"3.78\" y2=\"-2.02\" stroke-dasharray=\"0.05 0.05\"/>\n    <line x1=\"3.78\" y1=\"-2.02\" x2=\"3.14\" y2=\"-2.38\" stroke-dasharray=\"0.05 0.05\"/>\n  </g>\n  <g font-family=\"monospace\">\n    <g fill=\"#3050F8\">\n      <text x=\"3.14\" y=\"-3.30\" dx=\"-0.07\" dy=\"0.07\" font-size=\"0.25\">N</text>\n    </g>\n    <g fill=\"#FF0D0D\">\n      <text x=\"2.43\" y=\"-3.71\" dx=\"-0.07\" dy=\"0.07\" font-size=\"0.25\">O</text>\n    </g>\n    <g fill=\"#FF0D0D\">\n      <text x=\"3.86\" y=\"-3.71\" dx=\"-0.07\" dy=\"0.07\" font-size=\"0.25\">O</text>\n    </g>\n    <g fill=\"#FF0D0D\">\n      <text x=\"3.14\" y=\"-0.00\" dx=\"-0.07\" dy=\"0.07\" font-size=\"0.25\">OH</text>\n    </g>\n    <g fill=\"#788CFF\" font-size=\"0.20\">\n      <text x=\"3.14\" y=\"-2.48\" text-anchor=\"middle\">4</text>\n      <text x=\"3.86\" y=\"-2.06\" text-anchor=\"middle\">5</text>\n      <text x=\"3.86\" y=\"-1.24\" text-anchor=\"middle\">6</text>\n      <text x=\"3.14\" y=\"-0.82\" text-anchor=\"middle\">7</text>\n      <text x=\"2.43\" y=\"-1.24\" text-anchor=\"middle\">8</text>\n      <text x=\"2.43\" y=\"-2.06\" text-anchor=\"middle\">9</text>\n      <text x=\"3.14\" y=\"-3.30\" dx=\"-0.07\" dy=\"0.20\" text-anchor=\"end\">10</text>\n      <text x=\"2.43\" y=\"-3.71\" dx=\"-0.07\" dy=\"0.20\" text-anchor=\"end\">11</text>\n      <text x=\"3.86\" y=\"-3.71\" dx=\"-0.07\" dy=\"0.20\" text-anchor=\"end\">12</text>\n      <text x=\"3.14\" y=\"-0.00\" dx=\"-0.07\" dy=\"0.20\" text-anchor=\"end\">13</text>\n    </g>\n  </g>\n</svg>"
     },
     "metadata": {},
     "output_type": "execute_result",
     "execution_count": 5
    }
   ],
   "source": [
    "m12 # cleaned structure. Cache is flushed automatically"
   ]
  },
  {
   "cell_type": "code",
   "execution_count": 6,
   "metadata": {
    "pycharm": {
     "is_executing": false
    }
   },
   "outputs": [
    {
     "data": {
      "text/plain": "True"
     },
     "metadata": {},
     "output_type": "execute_result",
     "execution_count": 6
    }
   ],
   "source": [
    "m12.standardize()  # apply standardization. Returns True if standardization was applied."
   ]
  },
  {
   "cell_type": "code",
   "execution_count": 7,
   "metadata": {
    "pycharm": {
     "is_executing": false
    }
   },
   "outputs": [
    {
     "data": {
      "text/plain": "<CGRtools.containers.molecule.MoleculeContainer at 0x1077cc7c8>",
      "image/svg+xml": "<svg width=\"2.18cm\" height=\"4.34cm\" viewBox=\"2.12 -4.03 2.18 4.34\" xmlns=\"http://www.w3.org/2000/svg\" version=\"1.1\">\n  <defs>\n    <mask id=\"mask-64499397-05f1-4250-aafd-223f2b6a6b41\">\n      <rect x=\"2.12\" y=\"-4.03\" width=\"2.18\" height=\"4.34\" fill=\"white\"/>\n      <g fill=\"black\">\n        <circle cx=\"3.14\" cy=\"-3.30\" r=\"0.12\"/>\n        <circle cx=\"2.43\" cy=\"-3.71\" r=\"0.12\"/>\n        <circle cx=\"3.86\" cy=\"-3.71\" r=\"0.12\"/>\n        <circle cx=\"3.14\" cy=\"-0.00\" r=\"0.12\"/>\n      </g>\n    </mask>\n  </defs>\n  <g fill=\"none\" stroke=\"black\" stroke-width=\"0.03\"  mask=\"url(#mask-64499397-05f1-4250-aafd-223f2b6a6b41)\">\n    <line x1=\"3.14\" y1=\"-2.48\" x2=\"3.86\" y2=\"-2.06\"/>\n    <line x1=\"3.14\" y1=\"-2.48\" x2=\"2.43\" y2=\"-2.06\"/>\n    <line x1=\"3.14\" y1=\"-2.48\" x2=\"3.14\" y2=\"-3.30\"/>\n    <line x1=\"3.86\" y1=\"-2.06\" x2=\"3.86\" y2=\"-1.24\"/>\n    <line x1=\"3.86\" y1=\"-1.24\" x2=\"3.14\" y2=\"-0.82\"/>\n    <line x1=\"3.14\" y1=\"-0.82\" x2=\"2.43\" y2=\"-1.24\"/>\n    <line x1=\"3.14\" y1=\"-0.82\" x2=\"3.14\" y2=\"-0.00\"/>\n    <line x1=\"2.43\" y1=\"-1.24\" x2=\"2.43\" y2=\"-2.06\"/>\n    <line x1=\"3.12\" y1=\"-3.27\" x2=\"2.41\" y2=\"-3.68\"/>\n    <line x1=\"3.16\" y1=\"-3.33\" x2=\"2.45\" y2=\"-3.75\"/>\n    <line x1=\"3.14\" y1=\"-3.30\" x2=\"3.86\" y2=\"-3.71\"/>\n    <line x1=\"3.14\" y1=\"-2.38\" x2=\"2.51\" y2=\"-2.02\" stroke-dasharray=\"0.05 0.05\"/>\n    <line x1=\"2.51\" y1=\"-2.02\" x2=\"2.51\" y2=\"-1.28\" stroke-dasharray=\"0.05 0.05\"/>\n    <line x1=\"2.51\" y1=\"-1.28\" x2=\"3.14\" y2=\"-0.92\" stroke-dasharray=\"0.05 0.05\"/>\n    <line x1=\"3.14\" y1=\"-0.92\" x2=\"3.78\" y2=\"-1.28\" stroke-dasharray=\"0.05 0.05\"/>\n    <line x1=\"3.78\" y1=\"-1.28\" x2=\"3.78\" y2=\"-2.02\" stroke-dasharray=\"0.05 0.05\"/>\n    <line x1=\"3.78\" y1=\"-2.02\" x2=\"3.14\" y2=\"-2.38\" stroke-dasharray=\"0.05 0.05\"/>\n  </g>\n  <g font-family=\"monospace\">\n    <g fill=\"#3050F8\">\n      <text x=\"3.14\" y=\"-3.30\" dx=\"-0.07\" dy=\"0.07\" font-size=\"0.25\">N</text>\n      <text x=\"3.14\" y=\"-3.30\" dx=\"0.05\" dy=\"-0.12\" font-size=\"0.15\">+</text>\n    </g>\n    <g fill=\"#FF0D0D\">\n      <text x=\"2.43\" y=\"-3.71\" dx=\"-0.07\" dy=\"0.07\" font-size=\"0.25\">O</text>\n    </g>\n    <g fill=\"#FF0D0D\">\n      <text x=\"3.86\" y=\"-3.71\" dx=\"-0.07\" dy=\"0.07\" font-size=\"0.25\">O</text>\n      <text x=\"3.86\" y=\"-3.71\" dx=\"0.05\" dy=\"-0.12\" font-size=\"0.15\">⁃</text>\n    </g>\n    <g fill=\"#FF0D0D\">\n      <text x=\"3.14\" y=\"-0.00\" dx=\"-0.07\" dy=\"0.07\" font-size=\"0.25\">OH</text>\n    </g>\n    <g fill=\"#788CFF\" font-size=\"0.20\">\n      <text x=\"3.14\" y=\"-2.48\" text-anchor=\"middle\">4</text>\n      <text x=\"3.86\" y=\"-2.06\" text-anchor=\"middle\">5</text>\n      <text x=\"3.86\" y=\"-1.24\" text-anchor=\"middle\">6</text>\n      <text x=\"3.14\" y=\"-0.82\" text-anchor=\"middle\">7</text>\n      <text x=\"2.43\" y=\"-1.24\" text-anchor=\"middle\">8</text>\n      <text x=\"2.43\" y=\"-2.06\" text-anchor=\"middle\">9</text>\n      <text x=\"3.14\" y=\"-3.30\" dx=\"-0.07\" dy=\"0.20\" text-anchor=\"end\">10</text>\n      <text x=\"2.43\" y=\"-3.71\" dx=\"-0.07\" dy=\"0.20\" text-anchor=\"end\">11</text>\n      <text x=\"3.86\" y=\"-3.71\" dx=\"-0.07\" dy=\"0.20\" text-anchor=\"end\">12</text>\n      <text x=\"3.14\" y=\"-0.00\" dx=\"-0.07\" dy=\"0.20\" text-anchor=\"end\">13</text>\n    </g>\n  </g>\n</svg>"
     },
     "metadata": {},
     "output_type": "execute_result",
     "execution_count": 7
    }
   ],
   "source": [
    "m12"
   ]
  },
  {
   "cell_type": "markdown",
   "metadata": {},
   "source": [
    "Molecules has `explicify_hydrogens` and `implicify_hydrogens` methods to handle hydrogens.\n",
    "\n",
    "This methods is used to add or remove hydrogens in molecule.\n",
    "\n",
    "Note that currently for pyrole-like molecules implicit hydrogens atoms are calculated incorrectly "
   ]
  },
  {
   "cell_type": "code",
   "execution_count": 8,
   "metadata": {
    "pycharm": {
     "is_executing": false
    }
   },
   "outputs": [
    {
     "data": {
      "text/plain": "4"
     },
     "metadata": {},
     "output_type": "execute_result",
     "execution_count": 8
    }
   ],
   "source": [
    "m1.explicify_hydrogens() # return number of added hydrogens"
   ]
  },
  {
   "cell_type": "code",
   "execution_count": 9,
   "metadata": {
    "pycharm": {
     "is_executing": false
    }
   },
   "outputs": [
    {
     "data": {
      "text/plain": "<CGRtools.containers.molecule.MoleculeContainer at 0x1198c19a8>",
      "image/svg+xml": "<svg width=\"10.85cm\" height=\"1.04cm\" viewBox=\"-10.41 -0.45 10.85 1.04\" xmlns=\"http://www.w3.org/2000/svg\" version=\"1.1\">\n  <defs>\n    <mask id=\"mask-0ce7432e-ed33-455c-9995-c62cba045b5e\">\n      <rect x=\"-10.41\" y=\"-0.45\" width=\"10.85\" height=\"1.04\" fill=\"white\"/>\n      <g fill=\"black\">\n        <circle cx=\"-9.38\" cy=\"-0.14\" r=\"0.12\"/>\n        <circle cx=\"0.00\" cy=\"-0.00\" r=\"0.12\"/>\n        <circle cx=\"0.00\" cy=\"-0.00\" r=\"0.12\"/>\n        <circle cx=\"0.00\" cy=\"-0.00\" r=\"0.12\"/>\n        <circle cx=\"0.00\" cy=\"-0.00\" r=\"0.12\"/>\n      </g>\n    </mask>\n  </defs>\n  <g fill=\"none\" stroke=\"black\" stroke-width=\"0.03\"  mask=\"url(#mask-0ce7432e-ed33-455c-9995-c62cba045b5e)\">\n    <line x1=\"-10.10\" y1=\"0.28\" x2=\"-9.38\" y2=\"-0.14\"/>\n    <line x1=\"-10.10\" y1=\"0.28\" x2=\"0.00\" y2=\"-0.00\"/>\n    <line x1=\"-10.10\" y1=\"0.28\" x2=\"0.00\" y2=\"-0.00\"/>\n    <line x1=\"-10.10\" y1=\"0.28\" x2=\"0.00\" y2=\"-0.00\"/>\n    <line x1=\"-9.38\" y1=\"-0.14\" x2=\"0.00\" y2=\"-0.00\"/>\n  </g>\n  <g font-family=\"monospace\">\n    <g fill=\"#FF0D0D\">\n      <text x=\"-9.38\" y=\"-0.14\" dx=\"-0.07\" dy=\"0.07\" font-size=\"0.25\">O</text>\n      <text x=\"-9.38\" y=\"-0.14\" dx=\"-0.07\" dy=\"-0.05\" font-size=\"0.15\" text-anchor=\"end\">15</text>\n    </g>\n    <g fill=\"#909090\">\n      <text x=\"0.00\" y=\"-0.00\" dx=\"-0.07\" dy=\"0.07\" font-size=\"0.25\">H</text>\n    </g>\n    <g fill=\"#909090\">\n      <text x=\"0.00\" y=\"-0.00\" dx=\"-0.07\" dy=\"0.07\" font-size=\"0.25\">H</text>\n    </g>\n    <g fill=\"#909090\">\n      <text x=\"0.00\" y=\"-0.00\" dx=\"-0.07\" dy=\"0.07\" font-size=\"0.25\">H</text>\n    </g>\n    <g fill=\"#909090\">\n      <text x=\"0.00\" y=\"-0.00\" dx=\"-0.07\" dy=\"0.07\" font-size=\"0.25\">H</text>\n    </g>\n    <g fill=\"#788CFF\" font-size=\"0.20\">\n      <text x=\"-10.10\" y=\"0.28\" text-anchor=\"middle\">4</text>\n      <text x=\"-9.38\" y=\"-0.14\" dx=\"-0.07\" dy=\"0.20\" text-anchor=\"end\">1</text>\n      <text x=\"0.00\" y=\"-0.00\" dx=\"-0.07\" dy=\"0.20\" text-anchor=\"end\">5</text>\n      <text x=\"0.00\" y=\"-0.00\" dx=\"-0.07\" dy=\"0.20\" text-anchor=\"end\">6</text>\n      <text x=\"0.00\" y=\"-0.00\" dx=\"-0.07\" dy=\"0.20\" text-anchor=\"end\">7</text>\n      <text x=\"0.00\" y=\"-0.00\" dx=\"-0.07\" dy=\"0.20\" text-anchor=\"end\">8</text>\n    </g>\n  </g>\n</svg>"
     },
     "metadata": {},
     "output_type": "execute_result",
     "execution_count": 9
    }
   ],
   "source": [
    "m1 # for added hydrogen atoms coordinates are not calculated. Thus, it looks like hydrogen has the same position on image"
   ]
  },
  {
   "cell_type": "code",
   "execution_count": 10,
   "metadata": {
    "pycharm": {
     "is_executing": false
    }
   },
   "outputs": [
    {
     "data": {
      "text/plain": "4"
     },
     "metadata": {},
     "output_type": "execute_result",
     "execution_count": 10
    }
   ],
   "source": [
    "m1.implicify_hydrogens()"
   ]
  },
  {
   "cell_type": "code",
   "execution_count": 11,
   "metadata": {
    "pycharm": {
     "is_executing": false
    }
   },
   "outputs": [
    {
     "data": {
      "text/plain": "<CGRtools.containers.molecule.MoleculeContainer at 0x1198c19a8>",
      "image/svg+xml": "<svg width=\"1.46cm\" height=\"1.04cm\" viewBox=\"-10.41 -0.45 1.46 1.04\" xmlns=\"http://www.w3.org/2000/svg\" version=\"1.1\">\n  <defs>\n    <mask id=\"mask-1cf46bb2-46d1-447f-9c51-d52881a44682\">\n      <rect x=\"-10.41\" y=\"-0.45\" width=\"1.46\" height=\"1.04\" fill=\"white\"/>\n      <g fill=\"black\">\n        <circle cx=\"-9.38\" cy=\"-0.14\" r=\"0.12\"/>\n      </g>\n    </mask>\n  </defs>\n  <g fill=\"none\" stroke=\"black\" stroke-width=\"0.03\"  mask=\"url(#mask-1cf46bb2-46d1-447f-9c51-d52881a44682)\">\n    <line x1=\"-10.41\" y1=\"-0.45\" x2=\"-8.95\" y2=\"-0.45\" stroke=\"none\"/>\n    <line x1=\"-10.10\" y1=\"0.28\" x2=\"-9.38\" y2=\"-0.14\"/>\n  </g>\n  <g font-family=\"monospace\">\n    <g fill=\"#FF0D0D\">\n      <text x=\"-9.38\" y=\"-0.14\" dx=\"-0.07\" dy=\"0.07\" font-size=\"0.25\">OH</text>\n      <text x=\"-9.38\" y=\"-0.14\" dx=\"-0.07\" dy=\"-0.05\" font-size=\"0.15\" text-anchor=\"end\">15</text>\n    </g>\n    <g fill=\"#788CFF\" font-size=\"0.20\">\n      <text x=\"-10.10\" y=\"0.28\" text-anchor=\"middle\">4</text>\n      <text x=\"-9.38\" y=\"-0.14\" dx=\"-0.07\" dy=\"0.20\" text-anchor=\"end\">1</text>\n    </g>\n  </g>\n</svg>"
     },
     "metadata": {},
     "output_type": "execute_result",
     "execution_count": 11
    }
   ],
   "source": [
    "m1"
   ]
  },
  {
   "cell_type": "markdown",
   "metadata": {},
   "source": [
    "CGRtools has experimental algorithm for 2d geometry calcultaion. It works fine only for small molecules. Algorithm requires numpy and scipy packages"
   ]
  },
  {
   "cell_type": "code",
   "execution_count": 12,
   "metadata": {
    "pycharm": {
     "is_executing": false
    }
   },
   "outputs": [
    {
     "data": {
      "text/plain": "<CGRtools.containers.molecule.MoleculeContainer at 0x1198c19a8>",
      "image/svg+xml": "<svg width=\"2.46cm\" height=\"2.73cm\" viewBox=\"-0.31 -1.37 2.46 2.73\" xmlns=\"http://www.w3.org/2000/svg\" version=\"1.1\">\n  <defs>\n    <mask id=\"mask-709075f6-66a7-4483-b69d-bf4d4172722d\">\n      <rect x=\"-0.31\" y=\"-1.37\" width=\"2.46\" height=\"2.73\" fill=\"white\"/>\n      <g fill=\"black\">\n        <circle cx=\"0.85\" cy=\"-0.65\" r=\"0.12\"/>\n        <circle cx=\"1.71\" cy=\"0.24\" r=\"0.12\"/>\n        <circle cx=\"0.85\" cy=\"1.04\" r=\"0.12\"/>\n        <circle cx=\"0.00\" cy=\"0.24\" r=\"0.12\"/>\n        <circle cx=\"0.13\" cy=\"-1.06\" r=\"0.12\"/>\n      </g>\n    </mask>\n  </defs>\n  <g fill=\"none\" stroke=\"black\" stroke-width=\"0.03\"  mask=\"url(#mask-709075f6-66a7-4483-b69d-bf4d4172722d)\">\n    <line x1=\"0.85\" y1=\"0.19\" x2=\"0.85\" y2=\"-0.65\"/>\n    <line x1=\"0.85\" y1=\"0.19\" x2=\"1.71\" y2=\"0.24\"/>\n    <line x1=\"0.85\" y1=\"0.19\" x2=\"0.85\" y2=\"1.04\"/>\n    <line x1=\"0.85\" y1=\"0.19\" x2=\"0.00\" y2=\"0.24\"/>\n    <line x1=\"0.85\" y1=\"-0.65\" x2=\"0.13\" y2=\"-1.06\"/>\n  </g>\n  <g font-family=\"monospace\">\n    <g fill=\"#FF0D0D\">\n      <text x=\"0.85\" y=\"-0.65\" dx=\"-0.07\" dy=\"0.07\" font-size=\"0.25\">O</text>\n      <text x=\"0.85\" y=\"-0.65\" dx=\"-0.07\" dy=\"-0.05\" font-size=\"0.15\" text-anchor=\"end\">15</text>\n    </g>\n    <g fill=\"#909090\">\n      <text x=\"1.71\" y=\"0.24\" dx=\"-0.07\" dy=\"0.07\" font-size=\"0.25\">H</text>\n    </g>\n    <g fill=\"#909090\">\n      <text x=\"0.85\" y=\"1.04\" dx=\"-0.07\" dy=\"0.07\" font-size=\"0.25\">H</text>\n    </g>\n    <g fill=\"#909090\">\n      <text x=\"0.00\" y=\"0.24\" dx=\"-0.07\" dy=\"0.07\" font-size=\"0.25\">H</text>\n    </g>\n    <g fill=\"#909090\">\n      <text x=\"0.13\" y=\"-1.06\" dx=\"-0.07\" dy=\"0.07\" font-size=\"0.25\">H</text>\n    </g>\n    <g fill=\"#788CFF\" font-size=\"0.20\">\n      <text x=\"0.85\" y=\"0.19\" text-anchor=\"middle\">4</text>\n      <text x=\"0.85\" y=\"-0.65\" dx=\"-0.07\" dy=\"0.20\" text-anchor=\"end\">1</text>\n      <text x=\"1.71\" y=\"0.24\" dx=\"-0.07\" dy=\"0.20\" text-anchor=\"end\">5</text>\n      <text x=\"0.85\" y=\"1.04\" dx=\"-0.07\" dy=\"0.20\" text-anchor=\"end\">6</text>\n      <text x=\"0.00\" y=\"0.24\" dx=\"-0.07\" dy=\"0.20\" text-anchor=\"end\">7</text>\n      <text x=\"0.13\" y=\"-1.06\" dx=\"-0.07\" dy=\"0.20\" text-anchor=\"end\">8</text>\n    </g>\n  </g>\n</svg>"
     },
     "metadata": {},
     "output_type": "execute_result",
     "execution_count": 12
    }
   ],
   "source": [
    "m1.explicify_hydrogens() # add explicit hydrogens\n",
    "m1.clean2d() # force field-based 2d geometry calculation.\n",
    "m1"
   ]
  },
  {
   "cell_type": "markdown",
   "metadata": {},
   "source": [
    "## 3.2. Reactions standardization\n",
    "ReactionContainer has `standardize`, `aromatize`, `explicify_hydrogens` and `implicify_hydrogens` methods that can be applied to reactions. In this case they are applied to all molecules in reaction."
   ]
  },
  {
   "cell_type": "code",
   "execution_count": 13,
   "metadata": {
    "pycharm": {
     "is_executing": false
    }
   },
   "outputs": [
    {
     "data": {
      "text/plain": "<CGRtools.containers.reaction.ReactionContainer at 0x1198fa798>",
      "image/svg+xml": "<svg width=\"12.13cm\" height=\"1.34cm\" viewBox=\"-0.31 -0.67 12.13 1.34\" xmlns=\"http://www.w3.org/2000/svg\" version=\"1.1\">\n  <defs>\n    <marker id=\"arrow\" markerWidth=\"10\" markerHeight=\"10\" refX=\"0\" refY=\"3\" orient=\"auto\">\n      <path d=\"M0,0 L0,6 L9,3\"/>\n    </marker>\n    <mask id=\"mask-555f571e-2514-40d7-afc0-01bf8688216f\">\n      <rect x=\"-0.31\" y=\"-0.67\" width=\"12.13\" height=\"1.34\" fill=\"white\"/>\n      <g fill=\"black\">\n        <circle cx=\"1.43\" cy=\"-0.21\" r=\"0.12\"/>\n        <circle cx=\"4.49\" cy=\"0.36\" r=\"0.12\"/>\n        <circle cx=\"4.08\" cy=\"-0.36\" r=\"0.12\"/>\n        <circle cx=\"3.25\" cy=\"-0.36\" r=\"0.12\"/>\n        <circle cx=\"2.43\" cy=\"-0.36\" r=\"0.12\"/>\n        <circle cx=\"11.38\" cy=\"-0.36\" r=\"0.12\"/>\n        <circle cx=\"10.55\" cy=\"-0.36\" r=\"0.12\"/>\n        <circle cx=\"9.73\" cy=\"-0.36\" r=\"0.12\"/>\n      </g>\n    </mask>\n  </defs>\n  <line x1=\"5.49\" y1=\"0\" x2=\"7.49\" y2=\"0\" fill=\"none\" stroke=\"black\" stroke-width=\".04\" marker-end=\"url(#arrow)\"/>\n  <g fill=\"none\" stroke=\"black\" stroke-width=\"0.03\" mask=\"url(#mask-555f571e-2514-40d7-afc0-01bf8688216f)\">\n    <line x1=\"-0.31\" y1=\"-0.67\" x2=\"11.82\" y2=\"-0.67\" stroke=\"none\"/>\n    <line x1=\"0.00\" y1=\"-0.21\" x2=\"0.71\" y2=\"0.21\"/>\n    <line x1=\"0.71\" y1=\"0.21\" x2=\"1.43\" y2=\"-0.21\"/>\n    <line x1=\"4.49\" y1=\"0.36\" x2=\"4.08\" y2=\"-0.36\"/>\n    <line x1=\"4.08\" y1=\"-0.36\" x2=\"3.25\" y2=\"-0.36\"/>\n    <line x1=\"3.25\" y1=\"-0.29\" x2=\"2.43\" y2=\"-0.29\"/>\n    <line x1=\"3.25\" y1=\"-0.36\" x2=\"2.43\" y2=\"-0.36\"/>\n    <line x1=\"3.25\" y1=\"-0.43\" x2=\"2.43\" y2=\"-0.43\"/>\n    <line x1=\"11.38\" y1=\"-0.32\" x2=\"10.55\" y2=\"-0.32\"/>\n    <line x1=\"11.38\" y1=\"-0.40\" x2=\"10.55\" y2=\"-0.40\"/>\n    <line x1=\"10.55\" y1=\"-0.29\" x2=\"9.73\" y2=\"-0.29\"/>\n    <line x1=\"10.55\" y1=\"-0.36\" x2=\"9.73\" y2=\"-0.36\"/>\n    <line x1=\"10.55\" y1=\"-0.43\" x2=\"9.73\" y2=\"-0.43\"/>\n    <line x1=\"9.73\" y1=\"-0.36\" x2=\"8.90\" y2=\"-0.36\"/>\n    <line x1=\"8.90\" y1=\"-0.36\" x2=\"8.49\" y2=\"0.36\"/>\n  </g>\n  <g fill=\"none\" stroke=\"black\" stroke-width=\".04\" >\n    <line x1=\"1.78\" y1=\"0\" x2=\"2.08\" y2=\"0\"/>\n    <line x1=\"1.93\" y1=\"0.15\" x2=\"1.93\" y2=\"-0.15\"/>\n  </g>\n  <g font-family=\"monospace\">\n    <g fill=\"#940094\">\n      <text x=\"1.43\" y=\"-0.21\" dx=\"-0.07\" dy=\"0.07\" font-size=\"0.25\">I</text>\n    </g>\n    <g fill=\"#788CFF\" font-size=\"0.20\">\n      <text x=\"0.00\" y=\"-0.21\" text-anchor=\"middle\">1</text>\n      <text x=\"0.71\" y=\"0.21\" text-anchor=\"middle\">2</text>\n      <text x=\"1.43\" y=\"-0.21\" dx=\"-0.07\" dy=\"0.20\" text-anchor=\"end\">3</text>\n    </g>\n    <g fill=\"#AB5CF2\">\n      <text x=\"4.49\" y=\"0.36\" dx=\"-0.07\" dy=\"0.07\" font-size=\"0.25\">Na</text>\n    </g>\n    <g fill=\"#3050F8\">\n      <text x=\"4.08\" y=\"-0.36\" dx=\"-0.07\" dy=\"0.07\" font-size=\"0.25\">N</text>\n      <text x=\"4.08\" y=\"-0.36\" dx=\"0.05\" dy=\"-0.12\" font-size=\"0.15\">⁃</text>\n    </g>\n    <g fill=\"#3050F8\">\n      <text x=\"3.25\" y=\"-0.36\" dx=\"-0.07\" dy=\"0.07\" font-size=\"0.25\">N</text>\n      <text x=\"3.25\" y=\"-0.36\" dx=\"0.05\" dy=\"-0.12\" font-size=\"0.15\">+</text>\n    </g>\n    <g fill=\"#3050F8\">\n      <text x=\"2.43\" y=\"-0.36\" dx=\"-0.07\" dy=\"0.07\" font-size=\"0.25\">N</text>\n    </g>\n    <g fill=\"#788CFF\" font-size=\"0.20\">\n      <text x=\"4.49\" y=\"0.36\" dx=\"-0.07\" dy=\"0.20\" text-anchor=\"end\">7</text>\n      <text x=\"4.08\" y=\"-0.36\" dx=\"-0.07\" dy=\"0.20\" text-anchor=\"end\">4</text>\n      <text x=\"3.25\" y=\"-0.36\" dx=\"-0.07\" dy=\"0.20\" text-anchor=\"end\">5</text>\n      <text x=\"2.43\" y=\"-0.36\" dx=\"-0.07\" dy=\"0.20\" text-anchor=\"end\">6</text>\n    </g>\n    <g fill=\"#3050F8\">\n      <text x=\"11.38\" y=\"-0.36\" dx=\"-0.07\" dy=\"0.07\" font-size=\"0.25\">N</text>\n      <text x=\"11.38\" y=\"-0.36\" dx=\"0.05\" dy=\"-0.12\" font-size=\"0.15\">⁃</text>\n    </g>\n    <g fill=\"#3050F8\">\n      <text x=\"10.55\" y=\"-0.36\" dx=\"-0.07\" dy=\"0.07\" font-size=\"0.25\">N</text>\n    </g>\n    <g fill=\"#3050F8\">\n      <text x=\"9.73\" y=\"-0.36\" dx=\"-0.07\" dy=\"0.07\" font-size=\"0.25\">N</text>\n      <text x=\"9.73\" y=\"-0.36\" dx=\"0.05\" dy=\"-0.12\" font-size=\"0.15\">+</text>\n    </g>\n    <g fill=\"#788CFF\" font-size=\"0.20\">\n      <text x=\"11.38\" y=\"-0.36\" dx=\"-0.07\" dy=\"0.20\" text-anchor=\"end\">6</text>\n      <text x=\"10.55\" y=\"-0.36\" dx=\"-0.07\" dy=\"0.20\" text-anchor=\"end\">5</text>\n      <text x=\"9.73\" y=\"-0.36\" dx=\"-0.07\" dy=\"0.20\" text-anchor=\"end\">4</text>\n      <text x=\"8.90\" y=\"-0.36\" text-anchor=\"middle\">2</text>\n      <text x=\"8.49\" y=\"0.36\" text-anchor=\"middle\">1</text>\n    </g>\n  </g>\n</svg>"
     },
     "metadata": {},
     "output_type": "execute_result",
     "execution_count": 13
    }
   ],
   "source": [
    "reactions[2]"
   ]
  },
  {
   "cell_type": "code",
   "execution_count": 14,
   "metadata": {
    "pycharm": {
     "is_executing": false
    }
   },
   "outputs": [
    {
     "data": {
      "text/plain": "<CGRtools.containers.reaction.ReactionContainer at 0x1198fa798>",
      "image/svg+xml": "<svg width=\"10.91cm\" height=\"4.63cm\" viewBox=\"-0.31 -2.32 10.91 4.63\" xmlns=\"http://www.w3.org/2000/svg\" version=\"1.1\">\n  <defs>\n    <marker id=\"arrow\" markerWidth=\"10\" markerHeight=\"10\" refX=\"0\" refY=\"3\" orient=\"auto\">\n      <path d=\"M0,0 L0,6 L9,3\"/>\n    </marker>\n    <mask id=\"mask-7438b48c-eda6-4eab-a498-bf71e21b19a3\">\n      <rect x=\"-0.31\" y=\"-2.32\" width=\"10.91\" height=\"4.63\" fill=\"white\"/>\n      <g fill=\"black\">\n        <circle cx=\"0.86\" cy=\"1.33\" r=\"0.12\"/>\n        <circle cx=\"0.86\" cy=\"-1.33\" r=\"0.12\"/>\n        <circle cx=\"1.72\" cy=\"-0.58\" r=\"0.12\"/>\n        <circle cx=\"0.00\" cy=\"-0.58\" r=\"0.12\"/>\n        <circle cx=\"0.00\" cy=\"0.58\" r=\"0.12\"/>\n        <circle cx=\"1.72\" cy=\"0.58\" r=\"0.12\"/>\n        <circle cx=\"2.72\" cy=\"-0.78\" r=\"0.12\"/>\n        <circle cx=\"2.72\" cy=\"0.02\" r=\"0.12\"/>\n        <circle cx=\"3.58\" cy=\"0.39\" r=\"0.12\"/>\n        <circle cx=\"4.48\" cy=\"0.78\" r=\"0.12\"/>\n        <circle cx=\"10.13\" cy=\"-2.00\" r=\"0.12\"/>\n        <circle cx=\"10.13\" cy=\"-1.02\" r=\"0.12\"/>\n        <circle cx=\"10.13\" cy=\"-0.08\" r=\"0.12\"/>\n        <circle cx=\"9.06\" cy=\"-0.56\" r=\"0.12\"/>\n        <circle cx=\"8.52\" cy=\"0.26\" r=\"0.12\"/>\n        <circle cx=\"8.48\" cy=\"1.42\" r=\"0.12\"/>\n        <circle cx=\"9.45\" cy=\"2.00\" r=\"0.12\"/>\n        <circle cx=\"10.16\" cy=\"1.13\" r=\"0.12\"/>\n      </g>\n    </mask>\n  </defs>\n  <line x1=\"5.48\" y1=\"0\" x2=\"7.48\" y2=\"0\" fill=\"none\" stroke=\"black\" stroke-width=\".04\" marker-end=\"url(#arrow)\"/>\n  <g fill=\"none\" stroke=\"black\" stroke-width=\"0.03\" mask=\"url(#mask-7438b48c-eda6-4eab-a498-bf71e21b19a3)\">\n    <line x1=\"-0.31\" y1=\"-2.32\" x2=\"10.60\" y2=\"-2.32\" stroke=\"none\"/>\n    <line x1=\"0.86\" y1=\"-0.44\" x2=\"0.86\" y2=\"0.44\"/>\n    <line x1=\"0.86\" y1=\"-0.44\" x2=\"0.86\" y2=\"-1.33\"/>\n    <line x1=\"0.86\" y1=\"-0.44\" x2=\"1.72\" y2=\"-0.58\"/>\n    <line x1=\"0.86\" y1=\"-0.44\" x2=\"0.00\" y2=\"-0.58\"/>\n    <line x1=\"0.86\" y1=\"0.44\" x2=\"0.86\" y2=\"1.33\"/>\n    <line x1=\"0.86\" y1=\"0.44\" x2=\"0.00\" y2=\"0.58\"/>\n    <line x1=\"0.86\" y1=\"0.44\" x2=\"1.72\" y2=\"0.58\"/>\n    <line x1=\"2.72\" y1=\"-0.78\" x2=\"2.72\" y2=\"0.02\"/>\n    <line x1=\"2.73\" y1=\"-0.02\" x2=\"3.59\" y2=\"0.35\"/>\n    <line x1=\"2.70\" y1=\"0.05\" x2=\"3.56\" y2=\"0.43\"/>\n    <line x1=\"3.59\" y1=\"0.35\" x2=\"4.49\" y2=\"0.75\"/>\n    <line x1=\"3.56\" y1=\"0.43\" x2=\"4.46\" y2=\"0.82\"/>\n    <line x1=\"10.17\" y1=\"-2.00\" x2=\"10.17\" y2=\"-1.02\"/>\n    <line x1=\"10.09\" y1=\"-2.00\" x2=\"10.09\" y2=\"-1.02\"/>\n    <line x1=\"10.17\" y1=\"-1.02\" x2=\"10.17\" y2=\"-0.08\"/>\n    <line x1=\"10.09\" y1=\"-1.02\" x2=\"10.09\" y2=\"-0.08\"/>\n    <line x1=\"10.13\" y1=\"-0.08\" x2=\"9.39\" y2=\"0.25\"/>\n    <line x1=\"9.39\" y1=\"0.25\" x2=\"9.30\" y2=\"1.14\"/>\n    <line x1=\"9.39\" y1=\"0.25\" x2=\"9.06\" y2=\"-0.56\"/>\n    <line x1=\"9.39\" y1=\"0.25\" x2=\"8.52\" y2=\"0.26\"/>\n    <line x1=\"9.30\" y1=\"1.14\" x2=\"8.48\" y2=\"1.42\"/>\n    <line x1=\"9.30\" y1=\"1.14\" x2=\"9.45\" y2=\"2.00\"/>\n    <line x1=\"9.30\" y1=\"1.14\" x2=\"10.16\" y2=\"1.13\"/>\n  </g>\n  <g fill=\"none\" stroke=\"black\" stroke-width=\".04\" >\n    <line x1=\"2.07\" y1=\"0\" x2=\"2.37\" y2=\"0\"/>\n    <line x1=\"2.22\" y1=\"0.15\" x2=\"2.22\" y2=\"-0.15\"/>\n  </g>\n  <g font-family=\"monospace\">\n    <g fill=\"#940094\">\n      <text x=\"0.86\" y=\"1.33\" dx=\"-0.07\" dy=\"0.07\" font-size=\"0.25\">I</text>\n    </g>\n    <g fill=\"#909090\">\n      <text x=\"0.86\" y=\"-1.33\" dx=\"-0.07\" dy=\"0.07\" font-size=\"0.25\">H</text>\n    </g>\n    <g fill=\"#909090\">\n      <text x=\"1.72\" y=\"-0.58\" dx=\"-0.07\" dy=\"0.07\" font-size=\"0.25\">H</text>\n    </g>\n    <g fill=\"#909090\">\n      <text x=\"0.00\" y=\"-0.58\" dx=\"-0.07\" dy=\"0.07\" font-size=\"0.25\">H</text>\n    </g>\n    <g fill=\"#909090\">\n      <text x=\"0.00\" y=\"0.58\" dx=\"-0.07\" dy=\"0.07\" font-size=\"0.25\">H</text>\n    </g>\n    <g fill=\"#909090\">\n      <text x=\"1.72\" y=\"0.58\" dx=\"-0.07\" dy=\"0.07\" font-size=\"0.25\">H</text>\n    </g>\n    <g fill=\"#788CFF\" font-size=\"0.20\">\n      <text x=\"0.86\" y=\"-0.44\" text-anchor=\"middle\">1</text>\n      <text x=\"0.86\" y=\"0.44\" text-anchor=\"middle\">2</text>\n      <text x=\"0.86\" y=\"1.33\" dx=\"-0.07\" dy=\"0.20\" text-anchor=\"end\">3</text>\n      <text x=\"0.86\" y=\"-1.33\" dx=\"-0.07\" dy=\"0.20\" text-anchor=\"end\">4</text>\n      <text x=\"1.72\" y=\"-0.58\" dx=\"-0.07\" dy=\"0.20\" text-anchor=\"end\">5</text>\n      <text x=\"0.00\" y=\"-0.58\" dx=\"-0.07\" dy=\"0.20\" text-anchor=\"end\">6</text>\n      <text x=\"0.00\" y=\"0.58\" dx=\"-0.07\" dy=\"0.20\" text-anchor=\"end\">7</text>\n      <text x=\"1.72\" y=\"0.58\" dx=\"-0.07\" dy=\"0.20\" text-anchor=\"end\">8</text>\n    </g>\n    <g fill=\"#AB5CF2\">\n      <text x=\"2.72\" y=\"-0.78\" dx=\"-0.07\" dy=\"0.07\" font-size=\"0.25\">Na</text>\n    </g>\n    <g fill=\"#3050F8\">\n      <text x=\"2.72\" y=\"0.02\" dx=\"-0.07\" dy=\"0.07\" font-size=\"0.25\">N</text>\n    </g>\n    <g fill=\"#3050F8\">\n      <text x=\"3.58\" y=\"0.39\" dx=\"-0.07\" dy=\"0.07\" font-size=\"0.25\">N</text>\n      <text x=\"3.58\" y=\"0.39\" dx=\"0.05\" dy=\"-0.12\" font-size=\"0.15\">+</text>\n    </g>\n    <g fill=\"#3050F8\">\n      <text x=\"4.48\" y=\"0.78\" dx=\"-0.07\" dy=\"0.07\" font-size=\"0.25\">N</text>\n      <text x=\"4.48\" y=\"0.78\" dx=\"0.05\" dy=\"-0.12\" font-size=\"0.15\">⁃</text>\n    </g>\n    <g fill=\"#788CFF\" font-size=\"0.20\">\n      <text x=\"2.72\" y=\"-0.78\" dx=\"-0.07\" dy=\"0.20\" text-anchor=\"end\">7</text>\n      <text x=\"2.72\" y=\"0.02\" dx=\"-0.07\" dy=\"0.20\" text-anchor=\"end\">4</text>\n      <text x=\"3.58\" y=\"0.39\" dx=\"-0.07\" dy=\"0.20\" text-anchor=\"end\">5</text>\n      <text x=\"4.48\" y=\"0.78\" dx=\"-0.07\" dy=\"0.20\" text-anchor=\"end\">6</text>\n    </g>\n    <g fill=\"#3050F8\">\n      <text x=\"10.13\" y=\"-2.00\" dx=\"-0.07\" dy=\"0.07\" font-size=\"0.25\">N</text>\n      <text x=\"10.13\" y=\"-2.00\" dx=\"0.05\" dy=\"-0.12\" font-size=\"0.15\">⁃</text>\n    </g>\n    <g fill=\"#3050F8\">\n      <text x=\"10.13\" y=\"-1.02\" dx=\"-0.07\" dy=\"0.07\" font-size=\"0.25\">N</text>\n      <text x=\"10.13\" y=\"-1.02\" dx=\"0.05\" dy=\"-0.12\" font-size=\"0.15\">+</text>\n    </g>\n    <g fill=\"#3050F8\">\n      <text x=\"10.13\" y=\"-0.08\" dx=\"-0.07\" dy=\"0.07\" font-size=\"0.25\">N</text>\n    </g>\n    <g fill=\"#909090\">\n      <text x=\"9.06\" y=\"-0.56\" dx=\"-0.07\" dy=\"0.07\" font-size=\"0.25\">H</text>\n    </g>\n    <g fill=\"#909090\">\n      <text x=\"8.52\" y=\"0.26\" dx=\"-0.07\" dy=\"0.07\" font-size=\"0.25\">H</text>\n    </g>\n    <g fill=\"#909090\">\n      <text x=\"8.48\" y=\"1.42\" dx=\"-0.07\" dy=\"0.07\" font-size=\"0.25\">H</text>\n    </g>\n    <g fill=\"#909090\">\n      <text x=\"9.45\" y=\"2.00\" dx=\"-0.07\" dy=\"0.07\" font-size=\"0.25\">H</text>\n    </g>\n    <g fill=\"#909090\">\n      <text x=\"10.16\" y=\"1.13\" dx=\"-0.07\" dy=\"0.07\" font-size=\"0.25\">H</text>\n    </g>\n    <g fill=\"#788CFF\" font-size=\"0.20\">\n      <text x=\"10.13\" y=\"-2.00\" dx=\"-0.07\" dy=\"0.20\" text-anchor=\"end\">6</text>\n      <text x=\"10.13\" y=\"-1.02\" dx=\"-0.07\" dy=\"0.20\" text-anchor=\"end\">5</text>\n      <text x=\"10.13\" y=\"-0.08\" dx=\"-0.07\" dy=\"0.20\" text-anchor=\"end\">4</text>\n      <text x=\"9.39\" y=\"0.25\" text-anchor=\"middle\">2</text>\n      <text x=\"9.30\" y=\"1.14\" text-anchor=\"middle\">1</text>\n      <text x=\"9.06\" y=\"-0.56\" dx=\"-0.07\" dy=\"0.20\" text-anchor=\"end\">7</text>\n      <text x=\"8.52\" y=\"0.26\" dx=\"-0.07\" dy=\"0.20\" text-anchor=\"end\">8</text>\n      <text x=\"8.48\" y=\"1.42\" dx=\"-0.07\" dy=\"0.20\" text-anchor=\"end\">9</text>\n      <text x=\"9.45\" y=\"2.00\" dx=\"-0.07\" dy=\"0.20\" text-anchor=\"end\">10</text>\n      <text x=\"10.16\" y=\"1.13\" dx=\"-0.07\" dy=\"0.20\" text-anchor=\"end\">11</text>\n    </g>\n  </g>\n</svg>"
     },
     "metadata": {},
     "output_type": "execute_result",
     "execution_count": 14
    }
   ],
   "source": [
    "reactions[2].standardize()\n",
    "reactions[2].explicify_hydrogens()\n",
    "reactions[2].clean2d()\n",
    "reactions[2]"
   ]
  }
 ],
 "metadata": {
  "kernelspec": {
   "name": "python3",
   "language": "python",
   "display_name": "Python 3"
  },
  "language_info": {
   "codemirror_mode": {
    "name": "ipython",
    "version": 3
   },
   "file_extension": ".py",
   "mimetype": "text/x-python",
   "name": "python",
   "nbconvert_exporter": "python",
   "pygments_lexer": "ipython3",
   "version": "3.7.1"
  },
  "pycharm": {
   "stem_cell": {
    "cell_type": "raw",
    "source": [],
    "metadata": {
     "collapsed": false
    }
   }
  }
 },
 "nbformat": 4,
 "nbformat_minor": 2
}