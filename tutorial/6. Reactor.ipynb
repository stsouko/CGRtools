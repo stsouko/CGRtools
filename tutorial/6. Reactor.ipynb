{
 "cells": [
  {
   "cell_type": "markdown",
   "metadata": {},
   "source": [
    "# CGRtools Tutorial\n",
    "\n",
    "(c) 2019, Dr. Ramil Nugmanov; Dr. Timur Madzhidov; Ravil Mukhametgaleev\n",
    "\n",
    "Installation instructions of CGRtools package information and tutorial's files see on `https://github.com/cimm-kzn/CGRtools`\n",
    "\n",
    "NOTE: Tutorial should be performed sequentially from the start. Random cell running will lead to unexpected results. "
   ]
  },
  {
   "cell_type": "code",
   "execution_count": 1,
   "metadata": {},
   "outputs": [
    {
     "name": "stdout",
     "output_type": "stream",
     "text": [
      "Welcome!\n"
     ]
    }
   ],
   "source": [
    "import pkg_resources\n",
    "if pkg_resources.get_distribution('CGRtools').version.split('.')[:2] != ['3', '1']:\n",
    "    print('WARNING. Tutorial was tested on 3.1 version of CGRtools')\n",
    "else:\n",
    "    print('Welcome!')"
   ]
  },
  {
   "cell_type": "code",
   "execution_count": 2,
   "metadata": {},
   "outputs": [],
   "source": [
    "# load data for tutorial\n",
    "from pickle import load\n",
    "from traceback import format_exc\n",
    "\n",
    "with open('reactions.dat', 'rb') as f:\n",
    "    reactions = load(f) # list of ReactionContainer objects\n",
    "\n",
    "r1 = reactions[0] # reaction\n",
    "m6 = r1.reactants[1]"
   ]
  },
  {
   "cell_type": "markdown",
   "metadata": {},
   "source": [
    "# 6. Reactor\n",
    "\n",
    "*Reactor* objects stores single transformation and can apply it to molecules or CGRs.\n",
    "\n",
    "Transformations is ReactionContainer object which in reactant side consist of query for matching group and in product side patch for updating matched atoms and bonds "
   ]
  },
  {
   "cell_type": "code",
   "execution_count": 3,
   "metadata": {},
   "outputs": [],
   "source": [
    "from CGRtools import CGRreactor   # import of Reactor\n",
    "from CGRtools.containers import * # import of required objects"
   ]
  },
  {
   "cell_type": "markdown",
   "metadata": {},
   "source": [
    "## 6.1. Products generation\n",
    "Reactor works similar to ChemAxon Reactions enumeration.\n",
    "\n",
    "Example here presents application of it to create esters from acids.\n",
    "\n",
    "First we need to construct carboxy group matcher query. Then, ether group need to be specified. \n",
    "\n",
    "Atom numbers in query and patch should be mapped to each other. The same atoms should have same numbers."
   ]
  },
  {
   "cell_type": "code",
   "execution_count": 4,
   "metadata": {},
   "outputs": [
    {
     "name": "stdout",
     "output_type": "stream",
     "text": [
      "[C;3;](-[O;1;])=[O]\n"
     ]
    }
   ],
   "source": [
    "acid = QueryContainer()                       # this query matches acids. Use construction possibilities.\n",
    "acid.add_atom({'element': 'C', 'neighbors': 3})   # add carboxyl carbon. Hybridization is irrelevant here\n",
    "acid.add_atom({'element': 'O', 'neighbors': 1})   # add hydroxyl oxygen. Hybridization is irrelevant here \n",
    "acid.add_atom('O')                                # add carbonyl oxygen. Number of neighbors is irrelevant here.\n",
    "acid.add_bond(1, 2, 1) # create single bond between carbon and hydroxyl oxygen\n",
    "acid.add_bond(1, 3, 2) # create double bond\n",
    "print(acid)"
   ]
  },
  {
   "cell_type": "code",
   "execution_count": 5,
   "metadata": {},
   "outputs": [
    {
     "data": {
      "image/svg+xml": [
       "<svg width=\"2.85cm\" height=\"2.06cm\" viewBox=\"-1.35 -1.07 2.85 2.06\" xmlns=\"http://www.w3.org/2000/svg\" version=\"1.1\">\n",
       "  <g font-family=\"sans-serif\">\n",
       "    <g fill=\"#FF0D0D\">\n",
       "      <text x=\"-0.14\" y=\"0.14\" font-size=\"0.40\">O</text>\n",
       "    </g>\n",
       "    <g fill=\"#FF0D0D\">\n",
       "      <text x=\"-0.68\" y=\"0.45\" font-size=\"0.40\">O</text>\n",
       "    </g>\n",
       "    <g fill=\"#FF0D0D\">\n",
       "      <text x=\"0.86\" y=\"-0.09\" font-size=\"0.40\">O</text>\n",
       "    </g>\n",
       "  </g>\n",
       "  <g fill=\"none\" stroke=\"black\" stroke-width=\".03\">\n",
       "    <line x1=\"0.39\" y1=\"0.49\" x2=\"-0.33\" y2=\"0.35\" />\n",
       "    <line x1=\"0.42\" y1=\"0.51\" x2=\"0.89\" y2=\"-0.04\" />\n",
       "    <line x1=\"0.36\" y1=\"0.46\" x2=\"0.83\" y2=\"-0.09\" />\n",
       "    <line x1=\"-0.61\" y1=\"0.12\" x2=\"-0.85\" y2=\"-0.57\" />\n",
       "  </g>\n",
       "</svg>"
      ],
      "text/plain": [
       "<CGRtools.containers.molecule.MoleculeContainer at 0x7f78be6a7598>"
      ]
     },
     "execution_count": 5,
     "metadata": {},
     "output_type": "execute_result"
    }
   ],
   "source": [
    "methyl_ester = MoleculeContainer()  # create patch - how acrboxyl group should be changed. We write methylated group\n",
    "methyl_ester.add_atom('C', 1) # second argument is predefined atom mapping. Notice that mapping corresponds...  \n",
    "methyl_ester.add_atom('O', 2) # ... to order in already created acid group. Atom 2 is released water.\n",
    "methyl_ester.add_atom('O', 4)\n",
    "methyl_ester.add_atom('O', 3)\n",
    "methyl_ester.add_atom('C', 5)\n",
    "methyl_ester.add_bond(1, 4, 1)\n",
    "methyl_ester.add_bond(1, 3, 2)\n",
    "methyl_ester.add_bond(4, 5, 1)\n",
    "# No bond between atom 1 and atom 2. This bond will be broken. \n",
    "methyl_ester.calculate2d()\n",
    "methyl_ester"
   ]
  },
  {
   "cell_type": "code",
   "execution_count": 6,
   "metadata": {},
   "outputs": [
    {
     "data": {
      "image/svg+xml": [
       "<svg width=\"3.06cm\" height=\"3.14cm\" viewBox=\"1.93 -2.64 3.06 3.14\" xmlns=\"http://www.w3.org/2000/svg\" version=\"1.1\">\n",
       "  <g font-family=\"sans-serif\">\n",
       "    <g fill=\"#FF0D0D\">\n",
       "      <text x=\"3.11\" y=\"-2.00\" font-size=\"0.40\">O</text>\n",
       "    </g>\n",
       "    <g fill=\"#FF0D0D\">\n",
       "      <text x=\"4.35\" y=\"-1.29\" font-size=\"0.40\">O</text>\n",
       "    </g>\n",
       "    <g fill=\"#FF0D0D\">\n",
       "      <text x=\"3.53\" y=\"0.14\" font-size=\"0.40\">O</text>\n",
       "    </g>\n",
       "    <g fill=\"#FF0D0D\">\n",
       "      <text x=\"2.29\" y=\"-0.57\" font-size=\"0.40\">O</text>\n",
       "    </g>\n",
       "  </g>\n",
       "  <g fill=\"none\" stroke=\"black\" stroke-width=\".03\">\n",
       "    <line x1=\"3.67\" y1=\"-1.43\" x2=\"3.25\" y2=\"-0.71\" />\n",
       "    <line x1=\"3.70\" y1=\"-1.45\" x2=\"3.39\" y2=\"-1.98\" />\n",
       "    <line x1=\"3.63\" y1=\"-1.41\" x2=\"3.32\" y2=\"-1.94\" />\n",
       "    <line x1=\"3.67\" y1=\"-1.43\" x2=\"4.28\" y2=\"-1.43\" />\n",
       "    <line x1=\"3.22\" y1=\"-0.69\" x2=\"3.53\" y2=\"-0.16\" />\n",
       "    <line x1=\"3.29\" y1=\"-0.73\" x2=\"3.60\" y2=\"-0.20\" />\n",
       "    <line x1=\"3.25\" y1=\"-0.71\" x2=\"2.64\" y2=\"-0.71\" />\n",
       "  </g>\n",
       "</svg>"
      ],
      "text/plain": [
       "<CGRtools.containers.molecule.MoleculeContainer at 0x7f78b80a2188>"
      ]
     },
     "execution_count": 6,
     "metadata": {},
     "output_type": "execute_result"
    }
   ],
   "source": [
    "m6.reset_query_marks() # required for correct matching\n",
    "m6 # acid"
   ]
  },
  {
   "cell_type": "code",
   "execution_count": 7,
   "metadata": {},
   "outputs": [],
   "source": [
    "template = ReactionContainer([acid], [methyl_ester]) # merge query and patch in template, which is ReactionContainer\n",
    "reactor = CGRreactor(template)                        # Reactor is initialized\n",
    "reacted_acid = reactor(m6)                            # application of Reactor to molecule"
   ]
  },
  {
   "cell_type": "code",
   "execution_count": 8,
   "metadata": {},
   "outputs": [
    {
     "data": {
      "image/svg+xml": [
       "<svg width=\"4.49cm\" height=\"3.05cm\" viewBox=\"-1.99 -1.49 4.49 3.05\" xmlns=\"http://www.w3.org/2000/svg\" version=\"1.1\">\n",
       "  <g font-family=\"sans-serif\">\n",
       "    <g fill=\"#FF0D0D\">\n",
       "      <text x=\"1.86\" y=\"-0.43\" font-size=\"0.40\">O</text>\n",
       "    </g>\n",
       "    <g fill=\"#FF0D0D\">\n",
       "      <text x=\"0.01\" y=\"-0.85\" font-size=\"0.40\">O</text>\n",
       "    </g>\n",
       "    <g fill=\"#FF0D0D\">\n",
       "      <text x=\"0.76\" y=\"0.56\" font-size=\"0.40\">O</text>\n",
       "    </g>\n",
       "    <g fill=\"#FF0D0D\">\n",
       "      <text x=\"-0.46\" y=\"1.21\" font-size=\"0.40\">O</text>\n",
       "    </g>\n",
       "    <g fill=\"#FF0D0D\">\n",
       "      <text x=\"-1.21\" y=\"-0.20\" font-size=\"0.40\">O</text>\n",
       "    </g>\n",
       "  </g>\n",
       "  <g fill=\"none\" stroke=\"black\" stroke-width=\".03\">\n",
       "    <line x1=\"-0.27\" y1=\"-0.31\" x2=\"-0.86\" y2=\"-0.33\" />\n",
       "    <line x1=\"-0.24\" y1=\"-0.29\" x2=\"0.08\" y2=\"-0.79\" />\n",
       "    <line x1=\"-0.30\" y1=\"-0.33\" x2=\"0.01\" y2=\"-0.83\" />\n",
       "    <line x1=\"-0.27\" y1=\"-0.31\" x2=\"0.10\" y2=\"0.39\" />\n",
       "    <line x1=\"0.10\" y1=\"0.43\" x2=\"0.69\" y2=\"0.46\" />\n",
       "    <line x1=\"0.10\" y1=\"0.35\" x2=\"0.69\" y2=\"0.38\" />\n",
       "    <line x1=\"0.10\" y1=\"0.39\" x2=\"-0.21\" y2=\"0.89\" />\n",
       "    <line x1=\"-1.18\" y1=\"-0.17\" x2=\"-1.49\" y2=\"0.33\" />\n",
       "  </g>\n",
       "</svg>"
      ],
      "text/plain": [
       "<CGRtools.containers.molecule.MoleculeContainer at 0x7f78827323b8>"
      ]
     },
     "execution_count": 8,
     "metadata": {},
     "output_type": "execute_result"
    }
   ],
   "source": [
    "reacted_acid.calculate2d(scale=2) # calculate coordinates\n",
    "reacted_acid       # desired methylated ester have been generated"
   ]
  },
  {
   "cell_type": "markdown",
   "metadata": {},
   "source": [
    "One can notice presence of separate oxygen (water) and ester group.\n",
    "\n",
    "The second group can substituted by calling reactor on observed product."
   ]
  },
  {
   "cell_type": "code",
   "execution_count": 9,
   "metadata": {},
   "outputs": [
    {
     "data": {
      "image/svg+xml": [
       "<svg width=\"4.29cm\" height=\"3.06cm\" viewBox=\"-1.79 -1.53 4.29 3.06\" xmlns=\"http://www.w3.org/2000/svg\" version=\"1.1\">\n",
       "  <g font-family=\"sans-serif\">\n",
       "    <g fill=\"#FF0D0D\">\n",
       "      <text x=\"-0.31\" y=\"1.16\" font-size=\"0.40\">O</text>\n",
       "    </g>\n",
       "    <g fill=\"#FF0D0D\">\n",
       "      <text x=\"0.78\" y=\"0.61\" font-size=\"0.40\">O</text>\n",
       "    </g>\n",
       "    <g fill=\"#FF0D0D\">\n",
       "      <text x=\"1.86\" y=\"-0.37\" font-size=\"0.40\">O</text>\n",
       "    </g>\n",
       "    <g fill=\"#FF0D0D\">\n",
       "      <text x=\"0.44\" y=\"-0.89\" font-size=\"0.40\">O</text>\n",
       "    </g>\n",
       "    <g fill=\"#FF0D0D\">\n",
       "      <text x=\"-0.86\" y=\"-0.60\" font-size=\"0.40\">O</text>\n",
       "    </g>\n",
       "    <g fill=\"#FF0D0D\">\n",
       "      <text x=\"-0.53\" y=\"0.90\" font-size=\"0.40\">O</text>\n",
       "    </g>\n",
       "  </g>\n",
       "  <g fill=\"none\" stroke=\"black\" stroke-width=\".03\">\n",
       "    <line x1=\"0.18\" y1=\"0.24\" x2=\"-0.23\" y2=\"0.62\" />\n",
       "    <line x1=\"0.17\" y1=\"0.28\" x2=\"0.70\" y2=\"0.45\" />\n",
       "    <line x1=\"0.19\" y1=\"0.20\" x2=\"0.73\" y2=\"0.37\" />\n",
       "    <line x1=\"0.18\" y1=\"0.24\" x2=\"0.01\" y2=\"-0.51\" />\n",
       "    <line x1=\"0.01\" y1=\"-0.51\" x2=\"-0.52\" y2=\"-0.68\" />\n",
       "    <line x1=\"0.04\" y1=\"-0.48\" x2=\"0.45\" y2=\"-0.86\" />\n",
       "    <line x1=\"-0.01\" y1=\"-0.54\" x2=\"0.40\" y2=\"-0.92\" />\n",
       "    <line x1=\"-0.88\" y1=\"-0.60\" x2=\"-1.29\" y2=\"-0.22\" />\n",
       "    <line x1=\"-0.59\" y1=\"0.70\" x2=\"-1.12\" y2=\"0.53\" />\n",
       "  </g>\n",
       "</svg>"
      ],
      "text/plain": [
       "<CGRtools.containers.molecule.MoleculeContainer at 0x7f7882732cc8>"
      ]
     },
     "execution_count": 9,
     "metadata": {},
     "output_type": "execute_result"
    }
   ],
   "source": [
    "reacted_acid.reset_query_marks() # this is new molecule and query marks need to be set\n",
    "second_stage = reactor(reacted_acid) # apply transformation on product of previous transformation\n",
    "second_stage.calculate2d(scale=2) #  recalculate coordinates for correct drawing\n",
    "second_stage"
   ]
  },
  {
   "cell_type": "markdown",
   "metadata": {},
   "source": [
    "second_stage has 3 components in a single MoleculeContainer object. We can split it into individual molecules and place all molecules into ReactionContainer object. Since in CGRtools atom-to-atom mapping corresponds to numbering of atoms in molecules, the resulting product has AAM according to the rule applied. Thus, reaction has correct AAM and nothing special should be made to keep or find it."
   ]
  },
  {
   "cell_type": "code",
   "execution_count": 10,
   "metadata": {},
   "outputs": [
    {
     "data": {
      "image/svg+xml": [
       "<svg width=\"11.27cm\" height=\"3.14cm\" viewBox=\"-0.50 -2.64 11.27 3.14\" xmlns=\"http://www.w3.org/2000/svg\" version=\"1.1\">\n",
       "  <defs><marker id=\"arrow\" markerWidth=\"10\" markerHeight=\"10\" refX=\"0\" refY=\"3\" orient=\"auto\"><path d=\"M0,0 L0,6 L9,3 z\" /></marker></defs>\n",
       "  <line x1=\"3.06\" y1=\"-1\" x2=\"5.06\" y2=\"-1\" fill=\"none\" stroke=\"black\" stroke-width=\".04\" marker-end=\"url(#arrow)\" />\n",
       "  <g font-family=\"sans-serif\">\n",
       "    <g fill=\"#FF0D0D\">\n",
       "      <text x=\"0.68\" y=\"-2.00\" font-size=\"0.40\">O</text>\n",
       "    </g>\n",
       "    <g fill=\"#FF0D0D\">\n",
       "      <text x=\"1.92\" y=\"-1.29\" font-size=\"0.40\">O</text>\n",
       "    </g>\n",
       "    <g fill=\"#FF0D0D\">\n",
       "      <text x=\"1.10\" y=\"0.14\" font-size=\"0.40\">O</text>\n",
       "    </g>\n",
       "    <g fill=\"#FF0D0D\">\n",
       "      <text x=\"-0.14\" y=\"-0.57\" font-size=\"0.40\">O</text>\n",
       "    </g>\n",
       "  </g>\n",
       "  <g fill=\"none\" stroke=\"black\" stroke-width=\".03\">\n",
       "    <line x1=\"1.24\" y1=\"-1.43\" x2=\"0.82\" y2=\"-0.71\" />\n",
       "    <line x1=\"1.27\" y1=\"-1.45\" x2=\"0.96\" y2=\"-1.98\" />\n",
       "    <line x1=\"1.20\" y1=\"-1.41\" x2=\"0.90\" y2=\"-1.94\" />\n",
       "    <line x1=\"1.24\" y1=\"-1.43\" x2=\"1.85\" y2=\"-1.43\" />\n",
       "    <line x1=\"0.79\" y1=\"-0.69\" x2=\"1.10\" y2=\"-0.16\" />\n",
       "    <line x1=\"0.86\" y1=\"-0.73\" x2=\"1.17\" y2=\"-0.20\" />\n",
       "    <line x1=\"0.82\" y1=\"-0.71\" x2=\"0.21\" y2=\"-0.71\" />\n",
       "  </g>\n",
       "  <g font-family=\"sans-serif\">\n",
       "    <g fill=\"#FF0D0D\">\n",
       "      <text x=\"8.13\" y=\"-0.15\" font-size=\"0.40\">O</text>\n",
       "    </g>\n",
       "    <g fill=\"#FF0D0D\">\n",
       "      <text x=\"7.79\" y=\"-1.65\" font-size=\"0.40\">O</text>\n",
       "    </g>\n",
       "    <g fill=\"#FF0D0D\">\n",
       "      <text x=\"6.49\" y=\"-1.36\" font-size=\"0.40\">O</text>\n",
       "    </g>\n",
       "    <g fill=\"#FF0D0D\">\n",
       "      <text x=\"6.83\" y=\"0.14\" font-size=\"0.40\">O</text>\n",
       "    </g>\n",
       "  </g>\n",
       "  <g fill=\"none\" stroke=\"black\" stroke-width=\".03\">\n",
       "    <line x1=\"7.53\" y1=\"-0.52\" x2=\"7.12\" y2=\"-0.14\" />\n",
       "    <line x1=\"7.52\" y1=\"-0.48\" x2=\"8.06\" y2=\"-0.31\" />\n",
       "    <line x1=\"7.55\" y1=\"-0.56\" x2=\"8.08\" y2=\"-0.39\" />\n",
       "    <line x1=\"7.53\" y1=\"-0.52\" x2=\"7.37\" y2=\"-1.27\" />\n",
       "    <line x1=\"7.37\" y1=\"-1.27\" x2=\"6.83\" y2=\"-1.44\" />\n",
       "    <line x1=\"7.39\" y1=\"-1.24\" x2=\"7.81\" y2=\"-1.62\" />\n",
       "    <line x1=\"7.34\" y1=\"-1.30\" x2=\"7.75\" y2=\"-1.68\" />\n",
       "    <line x1=\"6.48\" y1=\"-1.36\" x2=\"6.06\" y2=\"-0.98\" />\n",
       "    <line x1=\"6.77\" y1=\"-0.06\" x2=\"6.23\" y2=\"-0.23\" />\n",
       "  </g>\n",
       "  <g font-family=\"sans-serif\">\n",
       "    <g fill=\"#FF0D0D\">\n",
       "      <text x=\"9.13\" y=\"0.14\" font-size=\"0.40\">O</text>\n",
       "    </g>\n",
       "  </g>\n",
       "  <g fill=\"none\" stroke=\"black\" stroke-width=\".03\">\n",
       "  </g>\n",
       "  <g font-family=\"sans-serif\">\n",
       "    <g fill=\"#FF0D0D\">\n",
       "      <text x=\"10.13\" y=\"0.14\" font-size=\"0.40\">O</text>\n",
       "    </g>\n",
       "  </g>\n",
       "  <g fill=\"none\" stroke=\"black\" stroke-width=\".03\">\n",
       "  </g>\n",
       "</svg>"
      ],
      "text/plain": [
       "<CGRtools.containers.reaction.ReactionContainer at 0x7f78be5cb228>"
      ]
     },
     "execution_count": 10,
     "metadata": {},
     "output_type": "execute_result"
    }
   ],
   "source": [
    "products = second_stage.split() # split product into individual molecules\n",
    "react = ReactionContainer([m6], products) # unite reagent and product into reaction. \n",
    "react.fix_positions()\n",
    "react"
   ]
  },
  {
   "cell_type": "markdown",
   "metadata": {},
   "source": [
    "For multicomponent reactions one can merge molecules of reactants into single MoleculeContainer object and apply reactor on it.\n",
    "\n",
    "It is possible to generate all available products in case that molecule has several groups matching the query.\n"
   ]
  },
  {
   "cell_type": "code",
   "execution_count": 11,
   "metadata": {},
   "outputs": [
    {
     "name": "stdout",
     "output_type": "stream",
     "text": [
      "O.C-O-[13C](=O)-C(-O)=O\n",
      "O.C-O-C(=O)-[13C](-O)=O\n"
     ]
    }
   ],
   "source": [
    "m6copy = m6.copy() # let's try to use molecule with several groups mathcing query\n",
    "m6copy.atom(5).isotope = 13 # isotope mark is added to see the difference in products\n",
    "m6copy.reset_query_marks() # query marks need to be calculated\n",
    "enums = set()              # the set enums is used to select structurally diverse products\n",
    "for m in reactor(m6copy, limit=0): # limit=0 is enumeration of all possible products by reactor\n",
    "    print(m)                       # print signatures for observed molecules. Notice presence of water as component of product\n",
    "    m.calculate2d(scale=2)         # recalculate coordinates\n",
    "    enums.update(m.split())        # split product into separate molecules\n",
    "enums = list(enums)                # set of all resulting molecules"
   ]
  },
  {
   "cell_type": "code",
   "execution_count": 12,
   "metadata": {},
   "outputs": [
    {
     "data": {
      "image/svg+xml": [
       "<svg width=\"3.06cm\" height=\"3.14cm\" viewBox=\"-0.50 -2.64 3.06 3.14\" xmlns=\"http://www.w3.org/2000/svg\" version=\"1.1\">\n",
       "  <g font-family=\"sans-serif\">\n",
       "    <g fill=\"#000000\">\n",
       "      <text x=\"1.10\" y=\"-1.29\" font-size=\"0.40\">C</text>\n",
       "      <text x=\"0.84\" y=\"-1.57\" font-size=\"0.30\">13</text>\n",
       "    </g>\n",
       "    <g fill=\"#FF0D0D\">\n",
       "      <text x=\"0.68\" y=\"-2.00\" font-size=\"0.40\">O</text>\n",
       "    </g>\n",
       "    <g fill=\"#FF0D0D\">\n",
       "      <text x=\"1.92\" y=\"-1.29\" font-size=\"0.40\">O</text>\n",
       "    </g>\n",
       "    <g fill=\"#FF0D0D\">\n",
       "      <text x=\"1.10\" y=\"0.14\" font-size=\"0.40\">O</text>\n",
       "    </g>\n",
       "    <g fill=\"#FF0D0D\">\n",
       "      <text x=\"-0.14\" y=\"-0.57\" font-size=\"0.40\">O</text>\n",
       "    </g>\n",
       "  </g>\n",
       "  <g fill=\"none\" stroke=\"black\" stroke-width=\".03\">\n",
       "    <line x1=\"1.13\" y1=\"-1.25\" x2=\"0.82\" y2=\"-0.71\" />\n",
       "    <line x1=\"1.17\" y1=\"-1.63\" x2=\"0.96\" y2=\"-1.98\" />\n",
       "    <line x1=\"1.10\" y1=\"-1.59\" x2=\"0.90\" y2=\"-1.94\" />\n",
       "    <line x1=\"1.45\" y1=\"-1.43\" x2=\"1.85\" y2=\"-1.43\" />\n",
       "    <line x1=\"0.79\" y1=\"-0.69\" x2=\"1.10\" y2=\"-0.16\" />\n",
       "    <line x1=\"0.86\" y1=\"-0.73\" x2=\"1.17\" y2=\"-0.20\" />\n",
       "    <line x1=\"0.82\" y1=\"-0.71\" x2=\"0.21\" y2=\"-0.71\" />\n",
       "  </g>\n",
       "</svg>"
      ],
      "text/plain": [
       "<CGRtools.containers.molecule.MoleculeContainer at 0x7f7882732ae8>"
      ]
     },
     "execution_count": 12,
     "metadata": {},
     "output_type": "execute_result"
    }
   ],
   "source": [
    "m6copy"
   ]
  },
  {
   "cell_type": "markdown",
   "metadata": {},
   "source": [
    "Let's have a look at molecules in set:"
   ]
  },
  {
   "cell_type": "code",
   "execution_count": 13,
   "metadata": {},
   "outputs": [
    {
     "data": {
      "image/svg+xml": [
       "<svg width=\"1.00cm\" height=\"1.00cm\" viewBox=\"1.47 -1.30 1.00 1.00\" xmlns=\"http://www.w3.org/2000/svg\" version=\"1.1\">\n",
       "  <g font-family=\"sans-serif\">\n",
       "    <g fill=\"#FF0D0D\">\n",
       "      <text x=\"1.83\" y=\"-0.66\" font-size=\"0.40\">O</text>\n",
       "    </g>\n",
       "  </g>\n",
       "  <g fill=\"none\" stroke=\"black\" stroke-width=\".03\">\n",
       "  </g>\n",
       "</svg>"
      ],
      "text/plain": [
       "<CGRtools.containers.molecule.MoleculeContainer at 0x7f7882732c28>"
      ]
     },
     "execution_count": 13,
     "metadata": {},
     "output_type": "execute_result"
    }
   ],
   "source": [
    "enums[0]"
   ]
  },
  {
   "cell_type": "code",
   "execution_count": 14,
   "metadata": {},
   "outputs": [
    {
     "data": {
      "image/svg+xml": [
       "<svg width=\"4.94cm\" height=\"4.27cm\" viewBox=\"-2.44 -2.15 4.94 4.27\" xmlns=\"http://www.w3.org/2000/svg\" version=\"1.1\">\n",
       "  <g font-family=\"sans-serif\">\n",
       "    <g fill=\"#FF0D0D\">\n",
       "      <text x=\"1.04\" y=\"1.75\" font-size=\"0.40\">O</text>\n",
       "    </g>\n",
       "    <g fill=\"#000000\">\n",
       "      <text x=\"0.55\" y=\"-0.52\" font-size=\"0.40\">C</text>\n",
       "      <text x=\"0.29\" y=\"-0.80\" font-size=\"0.30\">13</text>\n",
       "    </g>\n",
       "    <g fill=\"#FF0D0D\">\n",
       "      <text x=\"-0.36\" y=\"-1.51\" font-size=\"0.40\">O</text>\n",
       "    </g>\n",
       "    <g fill=\"#FF0D0D\">\n",
       "      <text x=\"1.86\" y=\"-0.80\" font-size=\"0.40\">O</text>\n",
       "    </g>\n",
       "    <g fill=\"#FF0D0D\">\n",
       "      <text x=\"-1.17\" y=\"1.05\" font-size=\"0.40\">O</text>\n",
       "    </g>\n",
       "  </g>\n",
       "  <g fill=\"none\" stroke=\"black\" stroke-width=\".03\">\n",
       "    <line x1=\"0.28\" y1=\"0.62\" x2=\"-0.83\" y2=\"0.86\" />\n",
       "    <line x1=\"0.25\" y1=\"0.65\" x2=\"1.01\" y2=\"1.49\" />\n",
       "    <line x1=\"0.31\" y1=\"0.59\" x2=\"1.07\" y2=\"1.43\" />\n",
       "    <line x1=\"0.28\" y1=\"0.62\" x2=\"0.62\" y2=\"-0.46\" />\n",
       "    <line x1=\"0.58\" y1=\"-0.84\" x2=\"-0.04\" y2=\"-1.52\" />\n",
       "    <line x1=\"0.52\" y1=\"-0.79\" x2=\"-0.10\" y2=\"-1.47\" />\n",
       "    <line x1=\"0.89\" y1=\"-0.70\" x2=\"1.79\" y2=\"-0.90\" />\n",
       "    <line x1=\"-1.17\" y1=\"0.75\" x2=\"-1.94\" y2=\"-0.08\" />\n",
       "  </g>\n",
       "</svg>"
      ],
      "text/plain": [
       "<CGRtools.containers.molecule.MoleculeContainer at 0x7f7882754138>"
      ]
     },
     "execution_count": 14,
     "metadata": {},
     "output_type": "execute_result"
    }
   ],
   "source": [
    "enums[1]"
   ]
  },
  {
   "cell_type": "code",
   "execution_count": 15,
   "metadata": {},
   "outputs": [
    {
     "data": {
      "image/svg+xml": [
       "<svg width=\"4.24cm\" height=\"3.67cm\" viewBox=\"-2.50 -1.72 4.24 3.67\" xmlns=\"http://www.w3.org/2000/svg\" version=\"1.1\">\n",
       "  <g font-family=\"sans-serif\">\n",
       "    <g fill=\"#000000\">\n",
       "      <text x=\"-0.29\" y=\"-0.28\" font-size=\"0.40\">C</text>\n",
       "      <text x=\"-0.55\" y=\"-0.56\" font-size=\"0.30\">13</text>\n",
       "    </g>\n",
       "    <g fill=\"#FF0D0D\">\n",
       "      <text x=\"0.49\" y=\"-1.08\" font-size=\"0.40\">O</text>\n",
       "    </g>\n",
       "    <g fill=\"#FF0D0D\">\n",
       "      <text x=\"1.10\" y=\"1.06\" font-size=\"0.40\">O</text>\n",
       "    </g>\n",
       "    <g fill=\"#FF0D0D\">\n",
       "      <text x=\"-0.76\" y=\"1.59\" font-size=\"0.40\">O</text>\n",
       "    </g>\n",
       "    <g fill=\"#FF0D0D\">\n",
       "      <text x=\"-1.37\" y=\"-0.55\" font-size=\"0.40\">O</text>\n",
       "    </g>\n",
       "  </g>\n",
       "  <g fill=\"none\" stroke=\"black\" stroke-width=\".03\">\n",
       "    <line x1=\"-0.35\" y1=\"-0.47\" x2=\"-1.02\" y2=\"-0.64\" />\n",
       "    <line x1=\"0.03\" y1=\"-0.54\" x2=\"0.51\" y2=\"-1.04\" />\n",
       "    <line x1=\"-0.03\" y1=\"-0.60\" x2=\"0.45\" y2=\"-1.09\" />\n",
       "    <line x1=\"-0.09\" y1=\"-0.22\" x2=\"0.16\" y2=\"0.65\" />\n",
       "    <line x1=\"0.15\" y1=\"0.69\" x2=\"1.02\" y2=\"0.91\" />\n",
       "    <line x1=\"0.17\" y1=\"0.61\" x2=\"1.04\" y2=\"0.83\" />\n",
       "    <line x1=\"0.16\" y1=\"0.65\" x2=\"-0.47\" y2=\"1.30\" />\n",
       "    <line x1=\"-1.37\" y1=\"-0.54\" x2=\"-2.00\" y2=\"0.11\" />\n",
       "  </g>\n",
       "</svg>"
      ],
      "text/plain": [
       "<CGRtools.containers.molecule.MoleculeContainer at 0x7f7882732b88>"
      ]
     },
     "execution_count": 15,
     "metadata": {},
     "output_type": "execute_result"
    }
   ],
   "source": [
    "enums[2]"
   ]
  },
  {
   "cell_type": "markdown",
   "metadata": {},
   "source": [
    "## 6.2. MetaReactions (reactions on CGRs).\n",
    "Reactor could be applied to CGR to introduce changes into reaction. \n",
    "\n",
    "### 6.2.1. Example of atom-to-atom mapping fixing. "
   ]
  },
  {
   "cell_type": "code",
   "execution_count": 16,
   "metadata": {},
   "outputs": [
    {
     "data": {
      "image/svg+xml": [
       "<svg width=\"10.29cm\" height=\"5.95cm\" viewBox=\"-0.50 -5.45 10.29 5.95\" xmlns=\"http://www.w3.org/2000/svg\" version=\"1.1\">\n",
       "  <defs><marker id=\"arrow\" markerWidth=\"10\" markerHeight=\"10\" refX=\"0\" refY=\"3\" orient=\"auto\"><path d=\"M0,0 L0,6 L9,3 z\" /></marker></defs>\n",
       "  <line x1=\"4.86\" y1=\"-1\" x2=\"6.86\" y2=\"-1\" fill=\"none\" stroke=\"black\" stroke-width=\".04\" marker-end=\"url(#arrow)\" />\n",
       "  <g font-family=\"sans-serif\">\n",
       "    <g fill=\"#940094\">\n",
       "      <text x=\"1.29\" y=\"-0.27\" font-size=\"0.40\">I</text>\n",
       "    </g>\n",
       "  </g>\n",
       "  <g fill=\"none\" stroke=\"black\" stroke-width=\".03\">\n",
       "    <line x1=\"0.00\" y1=\"-0.41\" x2=\"0.71\" y2=\"-0.00\" />\n",
       "    <line x1=\"0.71\" y1=\"-0.00\" x2=\"1.25\" y2=\"-0.31\" />\n",
       "  </g>\n",
       "  <g font-family=\"sans-serif\">\n",
       "    <g fill=\"#3050F8\">\n",
       "      <text x=\"3.00\" y=\"-3.16\" font-size=\"0.40\">N</text>\n",
       "      <text x=\"3.28\" y=\"-3.44\" font-size=\"0.30\">+</text>\n",
       "    </g>\n",
       "    <g fill=\"#FF0D0D\">\n",
       "      <text x=\"2.29\" y=\"-3.57\" font-size=\"0.40\">O</text>\n",
       "      <text x=\"2.57\" y=\"-3.85\" font-size=\"0.30\">⁃</text>\n",
       "    </g>\n",
       "    <g fill=\"#FF0D0D\">\n",
       "      <text x=\"3.72\" y=\"-3.57\" font-size=\"0.40\">O</text>\n",
       "    </g>\n",
       "    <g fill=\"#FF0D0D\">\n",
       "      <text x=\"3.00\" y=\"0.14\" font-size=\"0.40\">O</text>\n",
       "    </g>\n",
       "  </g>\n",
       "  <g fill=\"none\" stroke=\"black\" stroke-width=\".03\">\n",
       "    <line x1=\"3.14\" y1=\"-2.48\" x2=\"3.86\" y2=\"-2.06\" />\n",
       "    <line x1=\"3.18\" y1=\"-2.54\" x2=\"3.90\" y2=\"-2.13\" stroke-dasharray=\"0.20 0.10\" />\n",
       "    <line x1=\"3.14\" y1=\"-2.48\" x2=\"2.43\" y2=\"-2.06\" />\n",
       "    <line x1=\"3.18\" y1=\"-2.41\" x2=\"2.47\" y2=\"-1.99\" stroke-dasharray=\"0.20 0.10\" />\n",
       "    <line x1=\"3.14\" y1=\"-2.48\" x2=\"3.14\" y2=\"-3.09\" />\n",
       "    <line x1=\"3.86\" y1=\"-2.06\" x2=\"3.86\" y2=\"-1.24\" />\n",
       "    <line x1=\"3.94\" y1=\"-2.06\" x2=\"3.94\" y2=\"-1.24\" stroke-dasharray=\"0.20 0.10\" />\n",
       "    <line x1=\"3.86\" y1=\"-1.24\" x2=\"3.14\" y2=\"-0.82\" />\n",
       "    <line x1=\"3.90\" y1=\"-1.17\" x2=\"3.18\" y2=\"-0.76\" stroke-dasharray=\"0.20 0.10\" />\n",
       "    <line x1=\"3.14\" y1=\"-0.82\" x2=\"2.43\" y2=\"-1.24\" />\n",
       "    <line x1=\"3.10\" y1=\"-0.76\" x2=\"2.39\" y2=\"-1.17\" stroke-dasharray=\"0.20 0.10\" />\n",
       "    <line x1=\"3.14\" y1=\"-0.82\" x2=\"3.14\" y2=\"-0.21\" />\n",
       "    <line x1=\"2.43\" y1=\"-1.24\" x2=\"2.43\" y2=\"-2.06\" />\n",
       "    <line x1=\"2.35\" y1=\"-1.24\" x2=\"2.35\" y2=\"-2.06\" stroke-dasharray=\"0.20 0.10\" />\n",
       "    <line x1=\"2.96\" y1=\"-3.41\" x2=\"2.61\" y2=\"-3.61\" />\n",
       "    <line x1=\"3.35\" y1=\"-3.37\" x2=\"3.70\" y2=\"-3.57\" />\n",
       "    <line x1=\"3.31\" y1=\"-3.44\" x2=\"3.66\" y2=\"-3.64\" />\n",
       "  </g>\n",
       "  <g font-family=\"sans-serif\">\n",
       "    <g fill=\"#FF0D0D\">\n",
       "      <text x=\"8.43\" y=\"-1.10\" font-size=\"0.40\">O</text>\n",
       "    </g>\n",
       "    <g fill=\"#FF0D0D\">\n",
       "      <text x=\"7.72\" y=\"-4.81\" font-size=\"0.40\">O</text>\n",
       "      <text x=\"8.00\" y=\"-5.09\" font-size=\"0.30\">⁃</text>\n",
       "    </g>\n",
       "    <g fill=\"#FF0D0D\">\n",
       "      <text x=\"9.15\" y=\"-4.81\" font-size=\"0.40\">O</text>\n",
       "    </g>\n",
       "    <g fill=\"#3050F8\">\n",
       "      <text x=\"8.43\" y=\"-4.40\" font-size=\"0.40\">N</text>\n",
       "      <text x=\"8.71\" y=\"-4.68\" font-size=\"0.30\">+</text>\n",
       "    </g>\n",
       "  </g>\n",
       "  <g fill=\"none\" stroke=\"black\" stroke-width=\".03\">\n",
       "    <line x1=\"8.57\" y1=\"-1.45\" x2=\"8.57\" y2=\"-2.06\" />\n",
       "    <line x1=\"8.39\" y1=\"-1.13\" x2=\"7.86\" y2=\"-0.83\" />\n",
       "    <line x1=\"8.04\" y1=\"-4.85\" x2=\"8.39\" y2=\"-4.64\" />\n",
       "    <line x1=\"9.08\" y1=\"-4.88\" x2=\"8.73\" y2=\"-4.68\" />\n",
       "    <line x1=\"9.12\" y1=\"-4.81\" x2=\"8.77\" y2=\"-4.61\" />\n",
       "    <line x1=\"8.57\" y1=\"-4.33\" x2=\"8.57\" y2=\"-3.71\" />\n",
       "    <line x1=\"9.29\" y1=\"-3.30\" x2=\"9.29\" y2=\"-2.48\" />\n",
       "    <line x1=\"9.37\" y1=\"-3.30\" x2=\"9.37\" y2=\"-2.48\" stroke-dasharray=\"0.20 0.10\" />\n",
       "    <line x1=\"9.29\" y1=\"-3.30\" x2=\"8.57\" y2=\"-3.71\" />\n",
       "    <line x1=\"9.25\" y1=\"-3.23\" x2=\"8.53\" y2=\"-3.64\" stroke-dasharray=\"0.20 0.10\" />\n",
       "    <line x1=\"9.29\" y1=\"-2.48\" x2=\"8.57\" y2=\"-2.06\" />\n",
       "    <line x1=\"9.33\" y1=\"-2.41\" x2=\"8.61\" y2=\"-1.99\" stroke-dasharray=\"0.20 0.10\" />\n",
       "    <line x1=\"8.57\" y1=\"-2.06\" x2=\"7.86\" y2=\"-2.48\" />\n",
       "    <line x1=\"8.53\" y1=\"-1.99\" x2=\"7.82\" y2=\"-2.41\" stroke-dasharray=\"0.20 0.10\" />\n",
       "    <line x1=\"7.86\" y1=\"-2.48\" x2=\"7.86\" y2=\"-3.30\" />\n",
       "    <line x1=\"7.78\" y1=\"-2.48\" x2=\"7.78\" y2=\"-3.30\" stroke-dasharray=\"0.20 0.10\" />\n",
       "    <line x1=\"7.86\" y1=\"-3.30\" x2=\"8.57\" y2=\"-3.71\" />\n",
       "    <line x1=\"7.82\" y1=\"-3.37\" x2=\"8.53\" y2=\"-3.78\" stroke-dasharray=\"0.20 0.10\" />\n",
       "    <line x1=\"7.86\" y1=\"-0.83\" x2=\"7.86\" y2=\"-0.00\" />\n",
       "  </g>\n",
       "</svg>"
      ],
      "text/plain": [
       "<CGRtools.containers.reaction.ReactionContainer at 0x7f78be69e768>"
      ]
     },
     "execution_count": 16,
     "metadata": {},
     "output_type": "execute_result"
    }
   ],
   "source": [
    "reactions[1] # reaction under study"
   ]
  },
  {
   "cell_type": "code",
   "execution_count": 17,
   "metadata": {},
   "outputs": [
    {
     "name": "stdout",
     "output_type": "stream",
     "text": [
      "C-C(-I).O-C:1:C:C:C(:C:C:1)-[N+](-[O-])=O>>C-C(.I)-O-C:1:C:C:C(:C:C:1)-[N+](=O)-[O-]\n"
     ]
    }
   ],
   "source": [
    "cgr = ~reactions[1] # generate reaction CGR\n",
    "print(cgr)"
   ]
  },
  {
   "cell_type": "code",
   "execution_count": 18,
   "metadata": {},
   "outputs": [
    {
     "data": {
      "text/plain": [
       "[[2, 3, 13], [10, 11, 12]]"
      ]
     },
     "execution_count": 18,
     "metadata": {},
     "output_type": "execute_result"
    }
   ],
   "source": [
    "cgr.centers_list # reaction has two reaction centers. [10,11,12] - pseudo reaction appeared due to AAM error"
   ]
  },
  {
   "cell_type": "markdown",
   "metadata": {},
   "source": [
    "reaction has AAM error in nitro-group\n",
    "\n",
    "![error.png](error.png)\n",
    "\n",
    "Lets try to use Reactor for AAM fixing"
   ]
  },
  {
   "cell_type": "code",
   "execution_count": 19,
   "metadata": {},
   "outputs": [
    {
     "name": "stdout",
     "output_type": "stream",
     "text": [
      "[N+](-[O-])(=[O])-[C]>>[N+](=[O])(-[O-])-[C]\n"
     ]
    }
   ],
   "source": [
    "nitro = QueryCGRContainer() # construct query for invalid reaction center - CGR of wrongly mapped nitro-group\n",
    "nitro.add_atom({'element': 'N', 'charge': 1, 'p_charge': 1}) # atom 1\n",
    "nitro.add_atom({'element': 'O', 'charge': 0, 'p_charge': -1}) # atom 2. Notice that due to AAM error charge was changed\n",
    "nitro.add_atom({'element': 'O', 'charge': -1, 'p_charge': 0}) # atom 3. Notice that due to AAM error charge was changed\n",
    "nitro.add_atom('C') # atom 4\n",
    "\n",
    "nitro.add_bond(1, 2, {'order': 2, 'p_order': 1}) # bond between atoms 1 and 2. Due to AAM error bond is dynamic ('2>1' type) \n",
    "nitro.add_bond(1, 3, {'order': 1, 'p_order': 2}) # bond between atoms 1 and 3. Due to AAM error bond is dynamic ('1>2' type) \n",
    "nitro.add_bond(1, 4, 1) # ordinary bond\n",
    "print(nitro)\n",
    "# this query matches reaction center in CGR appeared due to AAM error."
   ]
  },
  {
   "cell_type": "code",
   "execution_count": 20,
   "metadata": {},
   "outputs": [
    {
     "data": {
      "text/plain": [
       "True"
      ]
     },
     "execution_count": 20,
     "metadata": {},
     "output_type": "execute_result"
    }
   ],
   "source": [
    "nitro < cgr # query matches CGR of reaction with error."
   ]
  },
  {
   "cell_type": "code",
   "execution_count": 21,
   "metadata": {},
   "outputs": [
    {
     "name": "stdout",
     "output_type": "stream",
     "text": [
      "[O-]-[N+]=O\n"
     ]
    }
   ],
   "source": [
    "valid_nitro = MoleculeContainer() # construct nitro group without dynamic atoms. Notice that atom order should correspond object nitro\n",
    "valid_nitro.add_atom({'element': 'N', 'charge': 1}) # ordinary N atom\n",
    "valid_nitro.add_atom({'element': 'O', 'charge': -1}) # ordinary negatively charged oxygen atom\n",
    "valid_nitro.add_atom('O')                            # ordinary oxygen atom\n",
    "\n",
    "valid_nitro.add_bond(1, 2, 1) # ordinary single bond\n",
    "valid_nitro.add_bond(1, 3, 2) # ordinary double bond\n",
    "print(valid_nitro)"
   ]
  },
  {
   "cell_type": "code",
   "execution_count": 22,
   "metadata": {},
   "outputs": [
    {
     "data": {
      "image/svg+xml": [
       "<svg width=\"1.90cm\" height=\"2.86cm\" viewBox=\"-1.04 -1.36 1.90 2.86\" xmlns=\"http://www.w3.org/2000/svg\" version=\"1.1\">\n",
       "  <g font-family=\"sans-serif\">\n",
       "    <g fill=\"#3050F8\">\n",
       "      <text x=\"0.22\" y=\"0.00\" font-size=\"0.40\">N</text>\n",
       "      <text x=\"0.50\" y=\"-0.28\" font-size=\"0.30\">+</text>\n",
       "    </g>\n",
       "    <g fill=\"#FF0D0D\">\n",
       "      <text x=\"0.04\" y=\"1.14\" font-size=\"0.40\">O</text>\n",
       "      <text x=\"0.32\" y=\"0.86\" font-size=\"0.30\">⁃</text>\n",
       "    </g>\n",
       "    <g fill=\"#FF0D0D\">\n",
       "      <text x=\"-0.68\" y=\"-0.72\" font-size=\"0.40\">O</text>\n",
       "    </g>\n",
       "  </g>\n",
       "  <g fill=\"none\" stroke=\"black\" stroke-width=\".03\">\n",
       "    <line x1=\"0.33\" y1=\"0.07\" x2=\"0.21\" y2=\"0.79\" />\n",
       "    <line x1=\"0.22\" y1=\"-0.30\" x2=\"-0.35\" y2=\"-0.76\" />\n",
       "    <line x1=\"0.17\" y1=\"-0.24\" x2=\"-0.40\" y2=\"-0.70\" />\n",
       "  </g>\n",
       "</svg>"
      ],
      "text/plain": [
       "<CGRtools.containers.molecule.MoleculeContainer at 0x7f78826f0958>"
      ]
     },
     "execution_count": 22,
     "metadata": {},
     "output_type": "execute_result"
    }
   ],
   "source": [
    "valid_nitro.calculate2d()\n",
    "valid_nitro # this is correct representation of group."
   ]
  },
  {
   "cell_type": "markdown",
   "metadata": {},
   "source": [
    "Now time to prepare and apply **Template** to CGR based on reaction with incorrect AAM.\n",
    "\n",
    "Template is Reaction container with query in reactants and patch in products"
   ]
  },
  {
   "cell_type": "code",
   "execution_count": 23,
   "metadata": {},
   "outputs": [
    {
     "name": "stdout",
     "output_type": "stream",
     "text": [
      "{[N+](-[O-])(=[O])-[C]>>[N+](=[O])(-[O-])-[C]}>>[O-]-[N+]=O\n"
     ]
    }
   ],
   "source": [
    "template = ReactionContainer([nitro], [valid_nitro]) # template shows how wrong part of CGR is transformed into correct one.\n",
    "print(template) # notice complex structure of query: CGR signature is given in braces, then >> and molecule signature"
   ]
  },
  {
   "cell_type": "markdown",
   "metadata": {},
   "source": [
    "`Reactor` class accept single template. Existence of dynamic bond in it is not a problem.\n"
   ]
  },
  {
   "cell_type": "code",
   "execution_count": 24,
   "metadata": {},
   "outputs": [],
   "source": [
    "reactor = CGRreactor(template)"
   ]
  },
  {
   "cell_type": "markdown",
   "metadata": {},
   "source": [
    "`Reactor` object is callable and accept as argument molecule or CGR.\n",
    "\n",
    "NOTE: `fixed` is new CGR object"
   ]
  },
  {
   "cell_type": "code",
   "execution_count": 25,
   "metadata": {},
   "outputs": [],
   "source": [
    "fixed = reactor(cgr) # fix CGR"
   ]
  },
  {
   "cell_type": "markdown",
   "metadata": {},
   "source": [
    "CGRreactor returns None if template could not be applied, otherwise patched structure is returned."
   ]
  },
  {
   "cell_type": "code",
   "execution_count": 26,
   "metadata": {},
   "outputs": [
    {
     "name": "stdout",
     "output_type": "stream",
     "text": [
      "C-C(-I).O-C:1:C:C:C(:C:C:1)-[N+](-[O-])=O>>C-C(.I)-O-C:1:C:C:C(:C:C:1)-[N+](-[O-])=O\n"
     ]
    }
   ],
   "source": [
    "print(fixed)"
   ]
  },
  {
   "cell_type": "markdown",
   "metadata": {},
   "source": [
    "`C-C(-I).O-C:1:C:C:C(:C:C:1)-[N+](-[O-])=O`  \n",
    "`C-C(.I)-O-C:1:C:C:C(:C:C:1)-[N+](-[O-])=O`\n",
    "\n",
    "One can see that nitro group has no dynamic bonds any more. CGR corresponds only to substitution."
   ]
  },
  {
   "cell_type": "code",
   "execution_count": 27,
   "metadata": {},
   "outputs": [
    {
     "data": {
      "text/plain": [
       "[[2, 3, 13]]"
      ]
     },
     "execution_count": 27,
     "metadata": {},
     "output_type": "execute_result"
    }
   ],
   "source": [
    "fixed.centers_list # reaction center appeared due to AAM error before does not exist. Only 1 reaction center is found"
   ]
  },
  {
   "cell_type": "markdown",
   "metadata": {},
   "source": [
    "Here is depiction of observed CGR (external software was used). Notice absence of wrong reaction center.\n",
    "![cgr3.png](cgr3.png)"
   ]
  },
  {
   "cell_type": "markdown",
   "metadata": {},
   "source": [
    "### 6.3.2 Reaction transformation\n",
    "Example of E2 to SN2 transformation.\n",
    "\n",
    "E2 and SN2 are concurrent reactions.\n",
    "We can easily change reaction center of E2 reaction to SN2. It could be achieved by substitution of reaction center corresponding to double bond formation in E2 reaction by the one corresponding to formation of new single bond with base as in SN2."
   ]
  },
  {
   "cell_type": "code",
   "execution_count": 28,
   "metadata": {},
   "outputs": [],
   "source": [
    "from CGRtools import CGRreactor, CGRpreparer\n",
    "from CGRtools.containers import QueryCGRContainer, ReactionContainer\n",
    "from CGRtools.files import MRVread, SDFwrite\n",
    "from io import StringIO"
   ]
  },
  {
   "cell_type": "code",
   "execution_count": 29,
   "metadata": {},
   "outputs": [
    {
     "data": {
      "image/svg+xml": [
       "<svg width=\"16.93cm\" height=\"3.67cm\" viewBox=\"-0.50 -3.17 16.93 3.67\" xmlns=\"http://www.w3.org/2000/svg\" version=\"1.1\">\n",
       "  <defs><marker id=\"arrow\" markerWidth=\"10\" markerHeight=\"10\" refX=\"0\" refY=\"3\" orient=\"auto\"><path d=\"M0,0 L0,6 L9,3 z\" /></marker></defs>\n",
       "  <line x1=\"6.85\" y1=\"-1\" x2=\"8.85\" y2=\"-1\" fill=\"none\" stroke=\"black\" stroke-width=\".04\" marker-end=\"url(#arrow)\" />\n",
       "  <g font-family=\"sans-serif\">\n",
       "    <g fill=\"#940094\">\n",
       "      <text x=\"3.71\" y=\"-1.19\" font-size=\"0.40\">I</text>\n",
       "    </g>\n",
       "  </g>\n",
       "  <g fill=\"none\" stroke=\"black\" stroke-width=\".03\">\n",
       "    <line x1=\"1.54\" y1=\"-2.67\" x2=\"2.31\" y2=\"-1.33\" />\n",
       "    <line x1=\"1.54\" y1=\"-2.67\" x2=\"0.00\" y2=\"-2.67\" />\n",
       "    <line x1=\"2.31\" y1=\"-1.33\" x2=\"3.64\" y2=\"-1.33\" />\n",
       "    <line x1=\"2.31\" y1=\"-1.33\" x2=\"1.54\" y2=\"-0.00\" />\n",
       "  </g>\n",
       "  <g font-family=\"sans-serif\">\n",
       "    <g fill=\"#FF0D0D\">\n",
       "      <text x=\"4.71\" y=\"0.14\" font-size=\"0.40\">O</text>\n",
       "      <text x=\"4.99\" y=\"-0.14\" font-size=\"0.30\">⁃</text>\n",
       "    </g>\n",
       "  </g>\n",
       "  <g fill=\"none\" stroke=\"black\" stroke-width=\".03\">\n",
       "  </g>\n",
       "  <g font-family=\"sans-serif\">\n",
       "    <g fill=\"#AB5CF2\">\n",
       "      <text x=\"5.71\" y=\"0.14\" font-size=\"0.40\">Na</text>\n",
       "      <text x=\"5.99\" y=\"-0.14\" font-size=\"0.30\">+</text>\n",
       "    </g>\n",
       "  </g>\n",
       "  <g fill=\"none\" stroke=\"black\" stroke-width=\".03\">\n",
       "  </g>\n",
       "  <g fill=\"none\" stroke=\"black\" stroke-width=\".03\">\n",
       "    <line x1=\"12.93\" y1=\"-2.67\" x2=\"12.16\" y2=\"-1.33\" />\n",
       "    <line x1=\"12.16\" y1=\"-1.37\" x2=\"10.62\" y2=\"-1.37\" />\n",
       "    <line x1=\"12.16\" y1=\"-1.29\" x2=\"10.62\" y2=\"-1.29\" />\n",
       "    <line x1=\"10.62\" y1=\"-1.33\" x2=\"9.85\" y2=\"-0.00\" />\n",
       "  </g>\n",
       "  <g font-family=\"sans-serif\">\n",
       "    <g fill=\"#FF0D0D\">\n",
       "      <text x=\"13.79\" y=\"0.14\" font-size=\"0.40\">O</text>\n",
       "    </g>\n",
       "  </g>\n",
       "  <g fill=\"none\" stroke=\"black\" stroke-width=\".03\">\n",
       "  </g>\n",
       "  <g font-family=\"sans-serif\">\n",
       "    <g fill=\"#940094\">\n",
       "      <text x=\"14.79\" y=\"0.14\" font-size=\"0.40\">I</text>\n",
       "      <text x=\"15.07\" y=\"-0.14\" font-size=\"0.30\">⁃</text>\n",
       "    </g>\n",
       "  </g>\n",
       "  <g fill=\"none\" stroke=\"black\" stroke-width=\".03\">\n",
       "  </g>\n",
       "  <g font-family=\"sans-serif\">\n",
       "    <g fill=\"#AB5CF2\">\n",
       "      <text x=\"15.79\" y=\"0.14\" font-size=\"0.40\">Na</text>\n",
       "      <text x=\"16.07\" y=\"-0.14\" font-size=\"0.30\">+</text>\n",
       "    </g>\n",
       "  </g>\n",
       "  <g fill=\"none\" stroke=\"black\" stroke-width=\".03\">\n",
       "  </g>\n",
       "</svg>"
      ],
      "text/plain": [
       "<CGRtools.containers.reaction.ReactionContainer at 0x7f78826be168>"
      ]
     },
     "execution_count": 29,
     "metadata": {},
     "output_type": "execute_result"
    }
   ],
   "source": [
    "e2 = next(MRVread('e2.mrv')) # read E2 reaction from ChemAxon MRV file\n",
    "e2"
   ]
  },
  {
   "cell_type": "code",
   "execution_count": 30,
   "metadata": {},
   "outputs": [
    {
     "name": "stdout",
     "output_type": "stream",
     "text": [
      "[C](-[C])-[I,Cl,Br;1;].[O,S;<01>;-]>>[C](=[C]).[I,Cl,Br;0;-].[O,S;<01>;]\n"
     ]
    }
   ],
   "source": [
    "# create CGR query for E2 reaction side\n",
    "e2query = QueryCGRContainer() \n",
    "e2query.add_atom('C', 1) # create carbon with mapping number 1\n",
    "e2query.add_atom('C', 2) # create carbon with mapping number 2\n",
    "# addition of any halogen atom\n",
    "e2query.add_atom({'element': ['I', 'Cl', 'Br'], 'neighbors': 1, 'p_neighbors': 0, 'charge': 0, 'p_charge': -1}, 3)\n",
    "# addition of OH-, RO-, SH-, RS- groups\n",
    "e2query.add_atom({'element': ['O', 'S'], 'neighbors': [0, 1], 'p_neighbors': [0, 1], 'charge': -1, 'p_charge': 0}, 4)\n",
    "\n",
    "e2query.add_bond(1, 2, {'order': 1, 'p_order': 2}) # bond between two carbon corresponds to formation of double from single\n",
    "e2query.add_bond(1, 3, {'order': 1, 'p_order': None}) # bond between carbon and halogen breaks in E2 reaction\n",
    "print(e2query) # it is CGR of E2 reaction center"
   ]
  },
  {
   "cell_type": "code",
   "execution_count": 31,
   "metadata": {},
   "outputs": [],
   "source": [
    "e2_cgr = ~ e2 # compose reaction into CGR\n",
    "e2_cgr.reset_query_marks() # prepare to isomorphism"
   ]
  },
  {
   "cell_type": "markdown",
   "metadata": {},
   "source": [
    "CGR is the following (depicted by external software)\n",
    "![cgr4.png](cgr4.png)"
   ]
  },
  {
   "cell_type": "code",
   "execution_count": 32,
   "metadata": {},
   "outputs": [
    {
     "data": {
      "text/plain": [
       "True"
      ]
     },
     "execution_count": 32,
     "metadata": {},
     "output_type": "execute_result"
    }
   ],
   "source": [
    "e2query < e2_cgr # E2 CGR pattern works!"
   ]
  },
  {
   "cell_type": "code",
   "execution_count": 33,
   "metadata": {},
   "outputs": [],
   "source": [
    "# create patch creating SN2 reaction. Notice that ordering of atoms correspond to that of E2 CGR query\n",
    "sn2patch = QueryCGRContainer()\n",
    "sn2patch.add_atom({}, 1) # save atom unchanged. We don't specify atom type since it will be taken from E2 query\n",
    "sn2patch.add_atom({}, 2) # it is central atom. We don't specify atom type since it will be taken from E2 query\n",
    "sn2patch.add_atom({'charge': 0, 'p_charge': -1}, 3) # elements list with same order of elements [I, Cl, Br] could be used as well\n",
    "sn2patch.add_atom({'charge': -1, 'p_charge': 0}, 4)\n",
    "\n",
    "sn2patch.add_bond(1, 2, {'order': 1, 'p_order': 1}) # set carbon - carbon single bond that is unchanged in SN2 reaction\n",
    "sn2patch.add_bond(1, 3, {'order': 1, 'p_order': None}) # this bond is broken in SN2 reaction\n",
    "sn2patch.add_bond(1, 4, {'order': None, 'p_order': 1}) # it corresponds to formation of bond O(S)-C bond in SN2 reaction"
   ]
  },
  {
   "cell_type": "code",
   "execution_count": 34,
   "metadata": {},
   "outputs": [],
   "source": [
    "reactor = CGRreactor(ReactionContainer([e2query], [sn2patch])) # create template and pass it to Reactor\n",
    "sn2_cgr = reactor(e2_cgr) # apply Reactor on E2 reaction"
   ]
  },
  {
   "cell_type": "code",
   "execution_count": 35,
   "metadata": {},
   "outputs": [
    {
     "name": "stdout",
     "output_type": "stream",
     "text": [
      "C-C(-C-C)(.[O-])-I.[Na+]>>C-C(-C-C)(-O).[I-].[Na+]\n"
     ]
    }
   ],
   "source": [
    "print(sn2_cgr)"
   ]
  },
  {
   "cell_type": "markdown",
   "metadata": {},
   "source": [
    "It is depiction of CGR produced by Reactor (external software is used)\n",
    "![cgr5.png](cgr5.png)"
   ]
  },
  {
   "cell_type": "code",
   "execution_count": 36,
   "metadata": {},
   "outputs": [],
   "source": [
    "# decompose CGR into reaction\n",
    "preparer = CGRpreparer() \n",
    "sn2 = preparer.decompose(sn2_cgr)"
   ]
  },
  {
   "cell_type": "code",
   "execution_count": 37,
   "metadata": {},
   "outputs": [
    {
     "data": {
      "image/svg+xml": [
       "<svg width=\"12.47cm\" height=\"2.32cm\" viewBox=\"-0.50 -1.82 12.47 2.32\" xmlns=\"http://www.w3.org/2000/svg\" version=\"1.1\">\n",
       "  <defs><marker id=\"arrow\" markerWidth=\"10\" markerHeight=\"10\" refX=\"0\" refY=\"3\" orient=\"auto\"><path d=\"M0,0 L0,6 L9,3 z\" /></marker></defs>\n",
       "  <line x1=\"4.74\" y1=\"-1\" x2=\"6.74\" y2=\"-1\" fill=\"none\" stroke=\"black\" stroke-width=\".04\" marker-end=\"url(#arrow)\" />\n",
       "  <g font-family=\"sans-serif\">\n",
       "    <g fill=\"#940094\">\n",
       "      <text x=\"-0.14\" y=\"-1.18\" font-size=\"0.40\">I</text>\n",
       "    </g>\n",
       "  </g>\n",
       "  <g fill=\"none\" stroke=\"black\" stroke-width=\".03\">\n",
       "    <line x1=\"0.49\" y1=\"-0.72\" x2=\"1.25\" y2=\"-0.84\" />\n",
       "    <line x1=\"0.49\" y1=\"-0.72\" x2=\"0.13\" y2=\"-1.16\" />\n",
       "    <line x1=\"0.49\" y1=\"-0.72\" x2=\"0.21\" y2=\"-0.00\" />\n",
       "    <line x1=\"1.25\" y1=\"-0.84\" x2=\"1.74\" y2=\"-0.25\" />\n",
       "  </g>\n",
       "  <g font-family=\"sans-serif\">\n",
       "    <g fill=\"#FF0D0D\">\n",
       "      <text x=\"2.60\" y=\"0.14\" font-size=\"0.40\">O</text>\n",
       "      <text x=\"2.88\" y=\"-0.14\" font-size=\"0.30\">⁃</text>\n",
       "    </g>\n",
       "  </g>\n",
       "  <g fill=\"none\" stroke=\"black\" stroke-width=\".03\">\n",
       "  </g>\n",
       "  <g font-family=\"sans-serif\">\n",
       "    <g fill=\"#AB5CF2\">\n",
       "      <text x=\"3.60\" y=\"0.14\" font-size=\"0.40\">Na</text>\n",
       "      <text x=\"3.88\" y=\"-0.14\" font-size=\"0.30\">+</text>\n",
       "    </g>\n",
       "  </g>\n",
       "  <g fill=\"none\" stroke=\"black\" stroke-width=\".03\">\n",
       "  </g>\n",
       "  <g font-family=\"sans-serif\">\n",
       "    <g fill=\"#FF0D0D\">\n",
       "      <text x=\"7.60\" y=\"-1.18\" font-size=\"0.40\">O</text>\n",
       "    </g>\n",
       "  </g>\n",
       "  <g fill=\"none\" stroke=\"black\" stroke-width=\".03\">\n",
       "    <line x1=\"8.22\" y1=\"-0.72\" x2=\"8.99\" y2=\"-0.84\" />\n",
       "    <line x1=\"8.22\" y1=\"-0.72\" x2=\"7.87\" y2=\"-1.16\" />\n",
       "    <line x1=\"8.22\" y1=\"-0.72\" x2=\"7.95\" y2=\"-0.00\" />\n",
       "    <line x1=\"8.99\" y1=\"-0.84\" x2=\"9.47\" y2=\"-0.25\" />\n",
       "  </g>\n",
       "  <g font-family=\"sans-serif\">\n",
       "    <g fill=\"#940094\">\n",
       "      <text x=\"10.33\" y=\"0.14\" font-size=\"0.40\">I</text>\n",
       "      <text x=\"10.61\" y=\"-0.14\" font-size=\"0.30\">⁃</text>\n",
       "    </g>\n",
       "  </g>\n",
       "  <g fill=\"none\" stroke=\"black\" stroke-width=\".03\">\n",
       "  </g>\n",
       "  <g font-family=\"sans-serif\">\n",
       "    <g fill=\"#AB5CF2\">\n",
       "      <text x=\"11.33\" y=\"0.14\" font-size=\"0.40\">Na</text>\n",
       "      <text x=\"11.61\" y=\"-0.14\" font-size=\"0.30\">+</text>\n",
       "    </g>\n",
       "  </g>\n",
       "  <g fill=\"none\" stroke=\"black\" stroke-width=\".03\">\n",
       "  </g>\n",
       "</svg>"
      ],
      "text/plain": [
       "<CGRtools.containers.reaction.ReactionContainer at 0x7f78826be348>"
      ]
     },
     "execution_count": 37,
     "metadata": {},
     "output_type": "execute_result"
    }
   ],
   "source": [
    "sn2.calculate2d()\n",
    "sn2 # reaction has the same reagents like E2 above, but products correspond to SN2 reaction"
   ]
  }
 ],
 "metadata": {
  "kernelspec": {
   "display_name": "Python 3",
   "language": "python",
   "name": "python3"
  },
  "language_info": {
   "codemirror_mode": {
    "name": "ipython",
    "version": 3
   },
   "file_extension": ".py",
   "mimetype": "text/x-python",
   "name": "python",
   "nbconvert_exporter": "python",
   "pygments_lexer": "ipython3",
   "version": "3.7.1"
  }
 },
 "nbformat": 4,
 "nbformat_minor": 2
}
