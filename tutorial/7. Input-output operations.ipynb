{
 "cells": [
  {
   "cell_type": "markdown",
   "metadata": {},
   "source": [
    "# CGRtools Tutorial\n",
    "\n",
    "(c) 2019, Dr. Ramil Nugmanov; Dr. Timur Madzhidov; Ravil Mukhametgaleev\n",
    "\n",
    "Installation instructions of CGRtools package information and tutorial's files see on `https://github.com/cimm-kzn/CGRtools`\n",
    "\n",
    "NOTE: Tutorial should be performed sequentially from the start. Random cell running will lead to unexpected results. "
   ]
  },
  {
   "cell_type": "code",
   "execution_count": 1,
   "metadata": {},
   "outputs": [
    {
     "name": "stdout",
     "output_type": "stream",
     "text": [
      "Welcome!\n"
     ]
    }
   ],
   "source": [
    "import pkg_resources\n",
    "if pkg_resources.get_distribution('CGRtools').version.split('.')[:2] != ['3', '1']:\n",
    "    print('WARNING. Tutorial was tested on 3.1 version of CGRtools')\n",
    "else:\n",
    "    print('Welcome!')"
   ]
  },
  {
   "cell_type": "code",
   "execution_count": 2,
   "metadata": {},
   "outputs": [],
   "source": [
    "# load data for tutorial\n",
    "from pickle import load\n",
    "from traceback import format_exc\n",
    "\n",
    "with open('reactions.dat', 'rb') as f:\n",
    "    reactions = load(f) # list of ReactionContainer objects\n",
    "\n",
    "r1 = reactions[0] # reaction\n",
    "cgr2 = ~r1  \n",
    "cgr2.reset_query_marks()"
   ]
  },
  {
   "cell_type": "markdown",
   "metadata": {},
   "source": [
    "# 7. Input-output operations\n",
    "*CGRtools.files* subpackage contains file readers and writers classes.\n",
    "\n",
    "## 7.1. MDL RDF reader\n",
    "\n",
    "**RDFread** class can be used for RDF files reading.\n",
    "Instance of this class is file-like object which support **iteration**, has a method **read()** for parsing all data and **context manager**.\n"
   ]
  },
  {
   "cell_type": "markdown",
   "metadata": {},
   "source": [
    "### 7.1.1. Read file from disk"
   ]
  },
  {
   "cell_type": "code",
   "execution_count": 3,
   "metadata": {},
   "outputs": [],
   "source": [
    "from CGRtools.files import * # import all available readers and writers\n",
    "\n",
    "with RDFread('example.rdf') as f:\n",
    "    first = next(f)  # get first reaction using generator\n",
    "    data = f.read()  # read remaining reactions to list of ReactionContainers\n",
    "\n",
    "data = []\n",
    "with RDFread('example.rdf') as f:\n",
    "    for r in f:  # looping is supported. Useful for large files.\n",
    "        data.append(r)\n",
    "\n",
    "with RDFread('example.rdf') as f:\n",
    "    data = [r for r in f]  # list comprehensions application. Result is equivalent to f.read()"
   ]
  },
  {
   "cell_type": "markdown",
   "metadata": {},
   "source": [
    "#### OOP-stype Pathlib supported"
   ]
  },
  {
   "cell_type": "code",
   "execution_count": 4,
   "metadata": {},
   "outputs": [],
   "source": [
    "from pathlib import Path\n",
    "\n",
    "with RDFread(Path('example.rdf')) as r: # OOP style call\n",
    "    r = next(r)"
   ]
  },
  {
   "cell_type": "markdown",
   "metadata": {},
   "source": [
    "#### opened files supported\n",
    "RDF file should be opened in text mode"
   ]
  },
  {
   "cell_type": "code",
   "execution_count": 5,
   "metadata": {},
   "outputs": [],
   "source": [
    "with open('example.rdf') as f, RDFread(f) as r:\n",
    "    r = next(r) # OOP style application"
   ]
  },
  {
   "cell_type": "markdown",
   "metadata": {},
   "source": [
    "### 7.1.2. Transparent loading from archives and network\n",
    "Readers designed transparently support any type of data sources. \n",
    "\n",
    "Page https://cimm.kpfu.ru/seafile/f/aeaca685e3854ae2bbad/?dl=1 returns RDF file.\n",
    "\n",
    "Data sources should be file-like objects."
   ]
  },
  {
   "cell_type": "code",
   "execution_count": 6,
   "metadata": {},
   "outputs": [
    {
     "name": "stdout",
     "output_type": "stream",
     "text": [
      "C-C-O.C-C-O.O-C(=O)-C(-O)=O>>C-C-O-C(=O)-C(=O)-O-C-C StringIO downloaded from network data\n",
      "C-C-O.C-C-O.O-C(=O)-C(-O)=O>>C-C-O-C(=O)-C(=O)-O-C-C gzipped file\n",
      "C-C-O.C-C-O.O-C(=O)-C(-O)=O>>C-C-O-C(=O)-C(=O)-O-C-C zip archive\n",
      "C-C-O.C-C-O.O-C(=O)-C(-O)=O>>C-C-O-C(=O)-C(=O)-O-C-C gzipped tar archive\n"
     ]
    }
   ],
   "source": [
    "from requests import get\n",
    "from io import StringIO\n",
    "\n",
    "# get function return requested URL which has attribute text. \n",
    "# in example this text is whole RDF stored in single string.\n",
    "# RDFread does not support parsing of strings, but one can emulate files with data \n",
    "# instead of strings by using io.StringIO\n",
    "with StringIO(get('https://cimm.kpfu.ru/seafile/f/aeaca685e3854ae2bbad/?dl=1').text) as f, RDFread(f) as r:\n",
    "    r = next(r)\n",
    "    print(r, 'StringIO downloaded from network data')\n",
    "\n",
    "# python support gzipped data. This example shows how to work with compressed \n",
    "# data directly without decompressing them to disk.\n",
    "from gzip import open as gzip_open\n",
    "with gzip_open('example.rdf.gz', 'rt') as f, RDFread(f) as r:\n",
    "    r = next(r)\n",
    "    print(r, 'gzipped file')\n",
    "\n",
    "# zip-files also supported out of the box \n",
    "# zipped files can be opened only in binary mode. io.TextIOWrapper can be used for transparent decoding them into text\n",
    "from zipfile import ZipFile\n",
    "from io import TextIOWrapper\n",
    "with ZipFile('example.zip') as z, z.open('example.rdf') as c:\n",
    "    with TextIOWrapper(c) as f, RDFread(f) as r:\n",
    "        r = next(r)\n",
    "        print(r, 'zip archive')\n",
    "\n",
    "# tar-file reading example\n",
    "from tarfile import open as tar_open\n",
    "from io import TextIOWrapper\n",
    "with tar_open('example.tar.gz') as t:\n",
    "    c = t.extractfile('example.rdf')\n",
    "    with TextIOWrapper(c) as f, RDFread(f) as r:\n",
    "        r = next(r)\n",
    "        print(r, 'gzipped tar archive')"
   ]
  },
  {
   "cell_type": "markdown",
   "metadata": {},
   "source": [
    "## 7.2. Other Readers\n",
    "* SDFread - MOL, SDF files reader (versions v2000, v3000 are supported)\n",
    "* MRVread - ChemAxon MRV files reader (lxml parser is used)\n",
    "* SMILESread - SMILES strings files reader (coho backend used). Every row should start with new SMILES\n",
    "* INCHIread - INCHI strings files reader (INCHI trust backend used). Every row should start with new InChI\n",
    "\n",
    "All files except MRV should be opened in **text-mode**  \n",
    "MRV requires binary mode `open('/path/to/data.mrv', 'rb')`"
   ]
  },
  {
   "cell_type": "code",
   "execution_count": 7,
   "metadata": {},
   "outputs": [
    {
     "data": {
      "image/svg+xml": [
       "<svg width=\"8.50cm\" height=\"3.14cm\" viewBox=\"-8.00 -1.57 8.50 3.14\" xmlns=\"http://www.w3.org/2000/svg\" version=\"1.1\">\n",
       "  <g font-family=\"sans-serif\">\n",
       "    <g fill=\"#FF0D0D\">\n",
       "      <text x=\"-6.81\" y=\"-0.93\" font-size=\"0.40\">O</text>\n",
       "    </g>\n",
       "    <g fill=\"#FF0D0D\">\n",
       "      <text x=\"-5.58\" y=\"-0.22\" font-size=\"0.40\">O</text>\n",
       "      <text x=\"-5.30\" y=\"-0.50\" font-size=\"0.30\">⁃</text>\n",
       "    </g>\n",
       "    <g fill=\"#FF0D0D\">\n",
       "      <text x=\"-6.40\" y=\"1.21\" font-size=\"0.40\">O</text>\n",
       "    </g>\n",
       "    <g fill=\"#FF0D0D\">\n",
       "      <text x=\"-7.64\" y=\"0.50\" font-size=\"0.40\">O</text>\n",
       "    </g>\n",
       "    <g fill=\"#AB5CF2\">\n",
       "      <text x=\"-0.14\" y=\"0.14\" font-size=\"0.40\">Na</text>\n",
       "      <text x=\"0.14\" y=\"-0.14\" font-size=\"0.30\">+</text>\n",
       "    </g>\n",
       "  </g>\n",
       "  <g fill=\"none\" stroke=\"black\" stroke-width=\".03\">\n",
       "    <line x1=\"-6.26\" y1=\"-0.36\" x2=\"-6.67\" y2=\"0.36\" />\n",
       "    <line x1=\"-6.23\" y1=\"-0.38\" x2=\"-6.53\" y2=\"-0.91\" />\n",
       "    <line x1=\"-6.30\" y1=\"-0.34\" x2=\"-6.60\" y2=\"-0.87\" />\n",
       "    <line x1=\"-6.26\" y1=\"-0.36\" x2=\"-5.65\" y2=\"-0.36\" />\n",
       "    <line x1=\"-6.71\" y1=\"0.38\" x2=\"-6.40\" y2=\"0.91\" />\n",
       "    <line x1=\"-6.64\" y1=\"0.34\" x2=\"-6.33\" y2=\"0.87\" />\n",
       "    <line x1=\"-6.67\" y1=\"0.36\" x2=\"-7.29\" y2=\"0.36\" />\n",
       "  </g>\n",
       "</svg>"
      ],
      "text/plain": [
       "<CGRtools.containers.molecule.MoleculeContainer at 0x7f36dd29fb38>"
      ]
     },
     "execution_count": 7,
     "metadata": {},
     "output_type": "execute_result"
    }
   ],
   "source": [
    "with MRVread(open('example.mrv', 'rb')) as f:\n",
    "    mrv = next(f)\n",
    "mrv"
   ]
  },
  {
   "cell_type": "markdown",
   "metadata": {},
   "source": [
    "## 7.3. File writers\n",
    "Export in following file formats is supported:\n",
    "* RDFwrite (v2000) - molecules and reactions  export in RDF format\n",
    "* SDFwrite (v2000) - molecules and CGR export in SDF format\n",
    "* MRVwrite - molecules and reactions export in MRV format\n",
    "\n",
    "Writers has the same API as readers. All writers work with text-files\n",
    "Writers has `write` method which accepts as argument single reaction, molecule or CGR object"
   ]
  },
  {
   "cell_type": "code",
   "execution_count": 8,
   "metadata": {},
   "outputs": [],
   "source": [
    "with RDFwrite('out.rdf') as f: # context manager supported\n",
    "    for r in data:\n",
    "        f.write(r)\n",
    "# file out.rdf will be overriden"
   ]
  },
  {
   "cell_type": "code",
   "execution_count": 9,
   "metadata": {},
   "outputs": [],
   "source": [
    "f = RDFwrite('out.rdf') # ongoing writing into a single file\n",
    "for r in data:\n",
    "    f.write(r)\n",
    "\n",
    "f.write(r1)\n",
    "\n",
    "f.close() # close file. Flushes Python writer buffers."
   ]
  },
  {
   "cell_type": "markdown",
   "metadata": {},
   "source": [
    "## 7.4. CGR can be stored in MDL SDF and loaded from.\n",
    "\n",
    "White-paper with SDF-CGR specification is described in manusript Supporting Materials."
   ]
  },
  {
   "cell_type": "code",
   "execution_count": 10,
   "metadata": {},
   "outputs": [
    {
     "name": "stdout",
     "output_type": "stream",
     "text": [
      "\n",
      "\n",
      "\n",
      " 12 11  0  0  0  0            999 V2000\n",
      "    4.4914    1.4289    0.0000 O   0  0  0  0  0  0  0  0  0  8  0  0\n",
      "    2.4289    0.7145    0.0000 O   0  0  0  0  0  0  0  0  0 10  0  0\n",
      "    1.4289    0.4125    0.0000 O   0  0  0  0  0  0  0  0  0  1  0  0\n",
      "    6.9203    0.4125    0.0000 O   0  5  0  0  0  0  0  0  0  2  0  0\n",
      "    0.0000    0.4125    0.0000 C   0  0  0  0  0  0  0  0  0  3  0  0\n",
      "    0.7144    0.0000    0.0000 C   0  0  0  0  0  0  0  0  0  4  0  0\n",
      "    3.6664    1.4289    0.0000 C   0  0  0  0  0  0  0  0  0  5  0  0\n",
      "    3.2539    0.7145    0.0000 C   0  0  0  0  0  0  0  0  0  6  0  0\n",
      "    3.2539    2.1434    0.0000 O   0  0  0  0  0  0  0  0  0  7  0  0\n",
      "    3.6664    0.0000    0.0000 O   0  0  0  0  0  0  0  0  0  9  0  0\n",
      "    6.2058    0.0000    0.0000 C   0  0  0  0  0  0  0  0  0 11  0  0\n",
      "    5.4914    0.4125    0.0000 C   0  0  0  0  0  0  0  0  0 12  0  0\n",
      "  1  7  8  0  0  0  0\n",
      "  2  8  8  0  0  0  0\n",
      "  3  6  1  0  0  0  0\n",
      "  3  8  8  0  0  0  0\n",
      "  4 11  1  0  0  0  0\n",
      "  4  7  8  0  0  0  0\n",
      "  5  6  1  0  0  0  0\n",
      "  7  8  1  0  0  0  0\n",
      "  7  9  2  0  0  0  0\n",
      "  8 10  2  0  0  0  0\n",
      " 11 12  1  0  0  0  0\n",
      "M  STY  5   1 DAT   2 DAT   3 DAT   4 DAT   5 DAT\n",
      "M  SAL   1  1   4\n",
      "M  SDT   1 dynatom\n",
      "M  SDD   1     0.0000    0.3333    DAU   ALL  0       0\n",
      "M  SED   1 c+1\n",
      "M  SAL   2  2   1   7\n",
      "M  SDT   2 dynbond\n",
      "M  SDD   2     0.0000    0.6667    DAU   ALL  0       0\n",
      "M  SED   2 1>0\n",
      "M  SAL   3  2   2   8\n",
      "M  SDT   3 dynbond\n",
      "M  SDD   3     0.0000    1.0000    DAU   ALL  0       0\n",
      "M  SED   3 1>0\n",
      "M  SAL   4  2   3   8\n",
      "M  SDT   4 dynbond\n",
      "M  SDD   4     0.0000    1.3333    DAU   ALL  0       0\n",
      "M  SED   4 0>1\n",
      "M  SAL   5  2   4   7\n",
      "M  SDT   5 dynbond\n",
      "M  SDD   5     0.0000    1.6667    DAU   ALL  0       0\n",
      "M  SED   5 0>1\n",
      "M  END\n",
      "$$$$\n",
      "\n"
     ]
    }
   ],
   "source": [
    "from CGRtools.files import *\n",
    "from io import StringIO\n",
    "\n",
    "with StringIO() as f,  SDFwrite(f) as w:\n",
    "    w.write(cgr2) # file writing in SDF format\n",
    "    mdl = f.getvalue() # get formatted file to print out\n",
    "print(mdl) # It is how CGR looks like. \n",
    "# Notice that most of field are conventional MOL fields, S-queries are used for dynamic bond and atom specification"
   ]
  },
  {
   "cell_type": "code",
   "execution_count": 11,
   "metadata": {},
   "outputs": [
    {
     "name": "stdout",
     "output_type": "stream",
     "text": [
      "C-C-[O-].C(=O)(-O)-C(=O)(-O).O-C-C>>C-C-O-C(=O)(.O)-C(=O)(.O)-O-C-C\n",
      "<class 'CGRtools.containers.cgr.CGRContainer'>\n"
     ]
    }
   ],
   "source": [
    "with StringIO(mdl) as f,  SDFread(f) as r: # import SDF file with CGR\n",
    "    cgr3 = next(r)\n",
    "print(cgr3)\n",
    "print(type(cgr3))"
   ]
  },
  {
   "cell_type": "markdown",
   "metadata": {},
   "source": [
    "## 7.5. Pickle support\n",
    "\n",
    "CGRtools containers fully support pickle dumping and loading.\n",
    "\n",
    "Moreover backward compatability is declared since 3.0.  \n",
    "Any new version of library can load dumps created with older version.\n",
    "\n",
    "Pickle dumps are more compact than MDL files and could be used as temporal storage."
   ]
  },
  {
   "cell_type": "code",
   "execution_count": 12,
   "metadata": {},
   "outputs": [],
   "source": [
    "from pickle import loads, dumps"
   ]
  },
  {
   "cell_type": "code",
   "execution_count": 13,
   "metadata": {},
   "outputs": [
    {
     "data": {
      "image/svg+xml": [
       "<svg width=\"16.92cm\" height=\"3.14cm\" viewBox=\"-0.50 -2.64 16.92 3.14\" xmlns=\"http://www.w3.org/2000/svg\" version=\"1.1\">\n",
       "  <defs><marker id=\"arrow\" markerWidth=\"10\" markerHeight=\"10\" refX=\"0\" refY=\"3\" orient=\"auto\"><path d=\"M0,0 L0,6 L9,3 z\" /></marker></defs>\n",
       "  <line x1=\"7.92\" y1=\"-1\" x2=\"9.92\" y2=\"-1\" fill=\"none\" stroke=\"black\" stroke-width=\".04\" marker-end=\"url(#arrow)\" />\n",
       "  <g font-family=\"sans-serif\">\n",
       "    <g fill=\"#FF0D0D\">\n",
       "      <text x=\"1.29\" y=\"-0.27\" font-size=\"0.40\">O</text>\n",
       "    </g>\n",
       "  </g>\n",
       "  <g fill=\"none\" stroke=\"black\" stroke-width=\".03\">\n",
       "    <line x1=\"0.00\" y1=\"-0.41\" x2=\"0.71\" y2=\"-0.00\" />\n",
       "    <line x1=\"0.71\" y1=\"-0.00\" x2=\"1.25\" y2=\"-0.31\" />\n",
       "  </g>\n",
       "  <g font-family=\"sans-serif\">\n",
       "    <g fill=\"#FF0D0D\">\n",
       "      <text x=\"3.11\" y=\"-2.00\" font-size=\"0.40\">O</text>\n",
       "    </g>\n",
       "    <g fill=\"#FF0D0D\">\n",
       "      <text x=\"4.35\" y=\"-1.29\" font-size=\"0.40\">O</text>\n",
       "    </g>\n",
       "    <g fill=\"#FF0D0D\">\n",
       "      <text x=\"3.53\" y=\"0.14\" font-size=\"0.40\">O</text>\n",
       "    </g>\n",
       "    <g fill=\"#FF0D0D\">\n",
       "      <text x=\"2.29\" y=\"-0.57\" font-size=\"0.40\">O</text>\n",
       "    </g>\n",
       "  </g>\n",
       "  <g fill=\"none\" stroke=\"black\" stroke-width=\".03\">\n",
       "    <line x1=\"3.67\" y1=\"-1.43\" x2=\"3.25\" y2=\"-0.71\" />\n",
       "    <line x1=\"3.70\" y1=\"-1.45\" x2=\"3.39\" y2=\"-1.98\" />\n",
       "    <line x1=\"3.63\" y1=\"-1.41\" x2=\"3.32\" y2=\"-1.94\" />\n",
       "    <line x1=\"3.67\" y1=\"-1.43\" x2=\"4.28\" y2=\"-1.43\" />\n",
       "    <line x1=\"3.22\" y1=\"-0.69\" x2=\"3.53\" y2=\"-0.16\" />\n",
       "    <line x1=\"3.29\" y1=\"-0.73\" x2=\"3.60\" y2=\"-0.20\" />\n",
       "    <line x1=\"3.25\" y1=\"-0.71\" x2=\"2.64\" y2=\"-0.71\" />\n",
       "  </g>\n",
       "  <g font-family=\"sans-serif\">\n",
       "    <g fill=\"#FF0D0D\">\n",
       "      <text x=\"6.78\" y=\"-0.27\" font-size=\"0.40\">O</text>\n",
       "      <text x=\"7.06\" y=\"-0.55\" font-size=\"0.30\">⁃</text>\n",
       "    </g>\n",
       "  </g>\n",
       "  <g fill=\"none\" stroke=\"black\" stroke-width=\".03\">\n",
       "    <line x1=\"6.21\" y1=\"-0.00\" x2=\"5.49\" y2=\"-0.41\" />\n",
       "    <line x1=\"6.21\" y1=\"-0.00\" x2=\"6.74\" y2=\"-0.31\" />\n",
       "  </g>\n",
       "  <g font-family=\"sans-serif\">\n",
       "    <g fill=\"#FF0D0D\">\n",
       "      <text x=\"14.35\" y=\"-1.10\" font-size=\"0.40\">O</text>\n",
       "    </g>\n",
       "    <g fill=\"#FF0D0D\">\n",
       "      <text x=\"12.21\" y=\"-0.69\" font-size=\"0.40\">O</text>\n",
       "    </g>\n",
       "    <g fill=\"#FF0D0D\">\n",
       "      <text x=\"12.92\" y=\"-1.92\" font-size=\"0.40\">O</text>\n",
       "    </g>\n",
       "    <g fill=\"#FF0D0D\">\n",
       "      <text x=\"13.64\" y=\"0.14\" font-size=\"0.40\">O</text>\n",
       "    </g>\n",
       "  </g>\n",
       "  <g fill=\"none\" stroke=\"black\" stroke-width=\".03\">\n",
       "    <line x1=\"13.78\" y1=\"-0.83\" x2=\"13.06\" y2=\"-1.24\" />\n",
       "    <line x1=\"13.78\" y1=\"-0.83\" x2=\"14.31\" y2=\"-1.13\" />\n",
       "    <line x1=\"13.74\" y1=\"-0.83\" x2=\"13.74\" y2=\"-0.21\" />\n",
       "    <line x1=\"13.82\" y1=\"-0.83\" x2=\"13.82\" y2=\"-0.21\" />\n",
       "    <line x1=\"13.06\" y1=\"-1.24\" x2=\"12.53\" y2=\"-0.93\" />\n",
       "    <line x1=\"13.10\" y1=\"-1.24\" x2=\"13.10\" y2=\"-1.85\" />\n",
       "    <line x1=\"13.02\" y1=\"-1.24\" x2=\"13.02\" y2=\"-1.85\" />\n",
       "    <line x1=\"14.67\" y1=\"-1.13\" x2=\"15.21\" y2=\"-0.83\" />\n",
       "    <line x1=\"12.17\" y1=\"-0.93\" x2=\"11.63\" y2=\"-1.24\" />\n",
       "    <line x1=\"15.21\" y1=\"-0.83\" x2=\"15.92\" y2=\"-1.24\" />\n",
       "    <line x1=\"11.63\" y1=\"-1.24\" x2=\"10.92\" y2=\"-0.83\" />\n",
       "  </g>\n",
       "</svg>"
      ],
      "text/plain": [
       "<CGRtools.containers.reaction.ReactionContainer at 0x7f3711602528>"
      ]
     },
     "execution_count": 13,
     "metadata": {},
     "output_type": "execute_result"
    }
   ],
   "source": [
    "loads(dumps(r1)) # load reaction from Pickle dump"
   ]
  }
 ],
 "metadata": {
  "kernelspec": {
   "display_name": "Python 3",
   "language": "python",
   "name": "python3"
  },
  "language_info": {
   "codemirror_mode": {
    "name": "ipython",
    "version": 3
   },
   "file_extension": ".py",
   "mimetype": "text/x-python",
   "name": "python",
   "nbconvert_exporter": "python",
   "pygments_lexer": "ipython3",
   "version": "3.7.1"
  }
 },
 "nbformat": 4,
 "nbformat_minor": 2
}
