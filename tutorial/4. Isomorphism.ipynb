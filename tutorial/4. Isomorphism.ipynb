{
 "cells": [
  {
   "cell_type": "markdown",
   "metadata": {},
   "source": [
    "# CGRtools Tutorial\n",
    "\n",
    "(c) 2019, Dr. Ramil Nugmanov; Dr. Timur Madzhidov; Ravil Mukhametgaleev\n",
    "\n",
    "Installation instructions of CGRtools package information and tutorial's files see on `https://github.com/cimm-kzn/CGRtools`\n",
    "\n",
    "NOTE: Tutorial should be performed sequentially from the start. Random cell running will lead to unexpected results. "
   ]
  },
  {
   "cell_type": "code",
   "execution_count": 1,
   "metadata": {},
   "outputs": [
    {
     "name": "stdout",
     "output_type": "stream",
     "text": [
      "Welcome!\n"
     ]
    }
   ],
   "source": [
    "import pkg_resources\n",
    "if pkg_resources.get_distribution('CGRtools').version.split('.')[:2] != ['3', '1']:\n",
    "    print('WARNING. Tutorial was tested on 3.1 version of CGRtools')\n",
    "else:\n",
    "    print('Welcome!')"
   ]
  },
  {
   "cell_type": "code",
   "execution_count": 2,
   "metadata": {},
   "outputs": [],
   "source": [
    "# load data for tutorial\n",
    "from pickle import load\n",
    "from traceback import format_exc\n",
    "\n",
    "with open('molecules.dat', 'rb') as f:\n",
    "    molecules = load(f) # list of MoleculeContainer objects\n",
    "with open('reactions.dat', 'rb') as f:\n",
    "    reactions = load(f) # list of ReactionContainer objects\n",
    "\n",
    "m2, m3 = molecules[1:3] # molecule\n",
    "m7 = m3.copy()\n",
    "m7.standardize()\n",
    "r1 = reactions[0] # reaction\n",
    "m5, m6 = r1.reactants[:2]\n",
    "m8 = m7.substructure([4, 5, 6, 7, 8, 9], as_view=False)\n",
    "m9 = m6.substructure([5, 6,7, 8], as_view=False) # acid\n",
    "m10 =  r1.products[0].copy()\n",
    "\n",
    "benzene = m3.substructure([4,5,6,7,8,9], as_view=False) \n",
    "cgr1 = m7 ^ m8 \n",
    "cgr1.reset_query_marks() \n",
    "carb = m10.substructure([5,7,8, 2])\n",
    "m2.reset_query_marks()\n",
    "\n",
    "from CGRtools.containers import *\n",
    "from CGRtools import CGRpreparer\n",
    "preparer = CGRpreparer() \n"
   ]
  },
  {
   "cell_type": "markdown",
   "metadata": {},
   "source": [
    "# 4. Isomorphism\n",
    "\n",
    "## 4.1. Molecules Isomorphism\n",
    "CGRtools has simple substructure/structure isomorphism API. In backend VF2 algorithm from `NetworkX` library is used. \n",
    "\n",
    "Note, that atoms are matched in subgraph isomorphism only if they have same charge/multiplicity and isotope options."
   ]
  },
  {
   "cell_type": "code",
   "execution_count": 3,
   "metadata": {},
   "outputs": [
    {
     "data": {
      "image/svg+xml": [
       "<svg width=\"2.43cm\" height=\"4.71cm\" viewBox=\"1.93 -4.21 2.43 4.71\" xmlns=\"http://www.w3.org/2000/svg\" version=\"1.1\">\n",
       "  <g font-family=\"sans-serif\">\n",
       "    <g fill=\"#3050F8\">\n",
       "      <text x=\"3.00\" y=\"-3.16\" font-size=\"0.40\">N</text>\n",
       "      <text x=\"3.28\" y=\"-3.44\" font-size=\"0.30\">+</text>\n",
       "    </g>\n",
       "    <g fill=\"#FF0D0D\">\n",
       "      <text x=\"2.29\" y=\"-3.57\" font-size=\"0.40\">O</text>\n",
       "      <text x=\"2.57\" y=\"-3.85\" font-size=\"0.30\">⁃</text>\n",
       "    </g>\n",
       "    <g fill=\"#FF0D0D\">\n",
       "      <text x=\"3.72\" y=\"-3.57\" font-size=\"0.40\">O</text>\n",
       "    </g>\n",
       "    <g fill=\"#FF0D0D\">\n",
       "      <text x=\"3.00\" y=\"0.14\" font-size=\"0.40\">O</text>\n",
       "    </g>\n",
       "  </g>\n",
       "  <g fill=\"none\" stroke=\"black\" stroke-width=\".03\">\n",
       "    <line x1=\"3.14\" y1=\"-2.48\" x2=\"3.86\" y2=\"-2.06\" />\n",
       "    <line x1=\"3.18\" y1=\"-2.54\" x2=\"3.90\" y2=\"-2.13\" stroke-dasharray=\"0.20 0.10\" />\n",
       "    <line x1=\"3.14\" y1=\"-2.48\" x2=\"2.43\" y2=\"-2.06\" />\n",
       "    <line x1=\"3.18\" y1=\"-2.41\" x2=\"2.47\" y2=\"-1.99\" stroke-dasharray=\"0.20 0.10\" />\n",
       "    <line x1=\"3.14\" y1=\"-2.48\" x2=\"3.14\" y2=\"-3.09\" />\n",
       "    <line x1=\"3.86\" y1=\"-2.06\" x2=\"3.86\" y2=\"-1.24\" />\n",
       "    <line x1=\"3.94\" y1=\"-2.06\" x2=\"3.94\" y2=\"-1.24\" stroke-dasharray=\"0.20 0.10\" />\n",
       "    <line x1=\"3.86\" y1=\"-1.24\" x2=\"3.14\" y2=\"-0.82\" />\n",
       "    <line x1=\"3.90\" y1=\"-1.17\" x2=\"3.18\" y2=\"-0.76\" stroke-dasharray=\"0.20 0.10\" />\n",
       "    <line x1=\"3.14\" y1=\"-0.82\" x2=\"2.43\" y2=\"-1.24\" />\n",
       "    <line x1=\"3.10\" y1=\"-0.76\" x2=\"2.39\" y2=\"-1.17\" stroke-dasharray=\"0.20 0.10\" />\n",
       "    <line x1=\"3.14\" y1=\"-0.82\" x2=\"3.14\" y2=\"-0.21\" />\n",
       "    <line x1=\"2.43\" y1=\"-1.24\" x2=\"2.43\" y2=\"-2.06\" />\n",
       "    <line x1=\"2.35\" y1=\"-1.24\" x2=\"2.35\" y2=\"-2.06\" stroke-dasharray=\"0.20 0.10\" />\n",
       "    <line x1=\"2.96\" y1=\"-3.41\" x2=\"2.61\" y2=\"-3.61\" />\n",
       "    <line x1=\"3.35\" y1=\"-3.37\" x2=\"3.70\" y2=\"-3.57\" />\n",
       "    <line x1=\"3.31\" y1=\"-3.44\" x2=\"3.66\" y2=\"-3.64\" />\n",
       "  </g>\n",
       "</svg>"
      ],
      "text/plain": [
       "<CGRtools.containers.molecule.MoleculeContainer at 0x7f9e601bac28>"
      ]
     },
     "execution_count": 3,
     "metadata": {},
     "output_type": "execute_result"
    }
   ],
   "source": [
    "m7"
   ]
  },
  {
   "cell_type": "code",
   "execution_count": 4,
   "metadata": {},
   "outputs": [
    {
     "data": {
      "image/svg+xml": [
       "<svg width=\"2.43cm\" height=\"2.65cm\" viewBox=\"1.93 -2.98 2.43 2.65\" xmlns=\"http://www.w3.org/2000/svg\" version=\"1.1\">\n",
       "  <g fill=\"none\" stroke=\"black\" stroke-width=\".03\">\n",
       "    <line x1=\"3.14\" y1=\"-2.48\" x2=\"3.86\" y2=\"-2.06\" />\n",
       "    <line x1=\"3.18\" y1=\"-2.54\" x2=\"3.90\" y2=\"-2.13\" stroke-dasharray=\"0.20 0.10\" />\n",
       "    <line x1=\"3.14\" y1=\"-2.48\" x2=\"2.43\" y2=\"-2.06\" />\n",
       "    <line x1=\"3.18\" y1=\"-2.41\" x2=\"2.47\" y2=\"-1.99\" stroke-dasharray=\"0.20 0.10\" />\n",
       "    <line x1=\"3.86\" y1=\"-2.06\" x2=\"3.86\" y2=\"-1.24\" />\n",
       "    <line x1=\"3.94\" y1=\"-2.06\" x2=\"3.94\" y2=\"-1.24\" stroke-dasharray=\"0.20 0.10\" />\n",
       "    <line x1=\"3.86\" y1=\"-1.24\" x2=\"3.14\" y2=\"-0.82\" />\n",
       "    <line x1=\"3.90\" y1=\"-1.17\" x2=\"3.18\" y2=\"-0.76\" stroke-dasharray=\"0.20 0.10\" />\n",
       "    <line x1=\"3.14\" y1=\"-0.82\" x2=\"2.43\" y2=\"-1.24\" />\n",
       "    <line x1=\"3.10\" y1=\"-0.76\" x2=\"2.39\" y2=\"-1.17\" stroke-dasharray=\"0.20 0.10\" />\n",
       "    <line x1=\"2.43\" y1=\"-1.24\" x2=\"2.43\" y2=\"-2.06\" />\n",
       "    <line x1=\"2.35\" y1=\"-1.24\" x2=\"2.35\" y2=\"-2.06\" stroke-dasharray=\"0.20 0.10\" />\n",
       "  </g>\n",
       "</svg>"
      ],
      "text/plain": [
       "<CGRtools.containers.molecule.MoleculeContainer at 0x7f9e601bacc8>"
      ]
     },
     "execution_count": 4,
     "metadata": {},
     "output_type": "execute_result"
    }
   ],
   "source": [
    "m8"
   ]
  },
  {
   "cell_type": "code",
   "execution_count": 5,
   "metadata": {},
   "outputs": [
    {
     "data": {
      "image/svg+xml": [
       "<svg width=\"2.43cm\" height=\"2.65cm\" viewBox=\"1.93 -2.98 2.43 2.65\" xmlns=\"http://www.w3.org/2000/svg\" version=\"1.1\">\n",
       "  <g fill=\"none\" stroke=\"black\" stroke-width=\".03\">\n",
       "    <line x1=\"3.14\" y1=\"-2.48\" x2=\"3.86\" y2=\"-2.06\" />\n",
       "    <line x1=\"3.18\" y1=\"-2.54\" x2=\"3.90\" y2=\"-2.13\" stroke-dasharray=\"0.20 0.10\" />\n",
       "    <line x1=\"3.14\" y1=\"-2.48\" x2=\"2.43\" y2=\"-2.06\" />\n",
       "    <line x1=\"3.18\" y1=\"-2.41\" x2=\"2.47\" y2=\"-1.99\" stroke-dasharray=\"0.20 0.10\" />\n",
       "    <line x1=\"3.86\" y1=\"-2.06\" x2=\"3.86\" y2=\"-1.24\" />\n",
       "    <line x1=\"3.94\" y1=\"-2.06\" x2=\"3.94\" y2=\"-1.24\" stroke-dasharray=\"0.20 0.10\" />\n",
       "    <line x1=\"3.86\" y1=\"-1.24\" x2=\"3.14\" y2=\"-0.82\" />\n",
       "    <line x1=\"3.90\" y1=\"-1.17\" x2=\"3.18\" y2=\"-0.76\" stroke-dasharray=\"0.20 0.10\" />\n",
       "    <line x1=\"3.14\" y1=\"-0.82\" x2=\"2.43\" y2=\"-1.24\" />\n",
       "    <line x1=\"3.10\" y1=\"-0.76\" x2=\"2.39\" y2=\"-1.17\" stroke-dasharray=\"0.20 0.10\" />\n",
       "    <line x1=\"2.43\" y1=\"-1.24\" x2=\"2.43\" y2=\"-2.06\" />\n",
       "    <line x1=\"2.35\" y1=\"-1.24\" x2=\"2.35\" y2=\"-2.06\" stroke-dasharray=\"0.20 0.10\" />\n",
       "  </g>\n",
       "</svg>"
      ],
      "text/plain": [
       "<CGRtools.containers.molecule.MoleculeContainer at 0x7f9e2725a908>"
      ]
     },
     "execution_count": 5,
     "metadata": {},
     "output_type": "execute_result"
    }
   ],
   "source": [
    "benzene.standardize()\n",
    "benzene"
   ]
  },
  {
   "cell_type": "code",
   "execution_count": 6,
   "metadata": {},
   "outputs": [
    {
     "name": "stdout",
     "output_type": "stream",
     "text": [
      "True\n",
      "False\n",
      "True\n",
      "False\n",
      "False\n",
      "True\n"
     ]
    }
   ],
   "source": [
    "# isomorphism operations\n",
    "print(benzene < m7)  # benzene is substructure of m7\n",
    "print(benzene > m7)  # benzene is not superstructure of m7\n",
    "print(benzene <= m7) # benzene is substructure/or same structure of m7\n",
    "print(benzene >= m7) # benzene is not superstructure/or same structure of m7\n",
    "print(benzene < m8) # benzene is not substructure of m8. it's equal\n",
    "print(benzene <= m8)"
   ]
  },
  {
   "cell_type": "code",
   "execution_count": 7,
   "metadata": {},
   "outputs": [
    {
     "data": {
      "image/svg+xml": [
       "<svg width=\"2.43cm\" height=\"1.41cm\" viewBox=\"-0.50 -0.91 2.43 1.41\" xmlns=\"http://www.w3.org/2000/svg\" version=\"1.1\">\n",
       "  <g font-family=\"sans-serif\">\n",
       "    <g fill=\"#FF0D0D\">\n",
       "      <text x=\"1.29\" y=\"-0.27\" font-size=\"0.40\">O</text>\n",
       "    </g>\n",
       "  </g>\n",
       "  <g fill=\"none\" stroke=\"black\" stroke-width=\".03\">\n",
       "    <line x1=\"0.00\" y1=\"-0.41\" x2=\"0.71\" y2=\"-0.00\" />\n",
       "    <line x1=\"0.71\" y1=\"-0.00\" x2=\"1.25\" y2=\"-0.31\" />\n",
       "  </g>\n",
       "</svg>"
      ],
      "text/plain": [
       "<CGRtools.containers.molecule.MoleculeContainer at 0x7f9e601ba5e8>"
      ]
     },
     "execution_count": 7,
     "metadata": {},
     "output_type": "execute_result"
    }
   ],
   "source": [
    "m5"
   ]
  },
  {
   "cell_type": "code",
   "execution_count": 8,
   "metadata": {},
   "outputs": [
    {
     "data": {
      "image/svg+xml": [
       "<svg width=\"3.06cm\" height=\"3.14cm\" viewBox=\"1.93 -2.64 3.06 3.14\" xmlns=\"http://www.w3.org/2000/svg\" version=\"1.1\">\n",
       "  <g font-family=\"sans-serif\">\n",
       "    <g fill=\"#FF0D0D\">\n",
       "      <text x=\"3.11\" y=\"-2.00\" font-size=\"0.40\">O</text>\n",
       "    </g>\n",
       "    <g fill=\"#FF0D0D\">\n",
       "      <text x=\"4.35\" y=\"-1.29\" font-size=\"0.40\">O</text>\n",
       "    </g>\n",
       "    <g fill=\"#FF0D0D\">\n",
       "      <text x=\"3.53\" y=\"0.14\" font-size=\"0.40\">O</text>\n",
       "    </g>\n",
       "    <g fill=\"#FF0D0D\">\n",
       "      <text x=\"2.29\" y=\"-0.57\" font-size=\"0.40\">O</text>\n",
       "    </g>\n",
       "  </g>\n",
       "  <g fill=\"none\" stroke=\"black\" stroke-width=\".03\">\n",
       "    <line x1=\"3.67\" y1=\"-1.43\" x2=\"3.25\" y2=\"-0.71\" />\n",
       "    <line x1=\"3.70\" y1=\"-1.45\" x2=\"3.39\" y2=\"-1.98\" />\n",
       "    <line x1=\"3.63\" y1=\"-1.41\" x2=\"3.32\" y2=\"-1.94\" />\n",
       "    <line x1=\"3.67\" y1=\"-1.43\" x2=\"4.28\" y2=\"-1.43\" />\n",
       "    <line x1=\"3.22\" y1=\"-0.69\" x2=\"3.53\" y2=\"-0.16\" />\n",
       "    <line x1=\"3.29\" y1=\"-0.73\" x2=\"3.60\" y2=\"-0.20\" />\n",
       "    <line x1=\"3.25\" y1=\"-0.71\" x2=\"2.64\" y2=\"-0.71\" />\n",
       "  </g>\n",
       "</svg>"
      ],
      "text/plain": [
       "<CGRtools.containers.molecule.MoleculeContainer at 0x7f9e601ba6d8>"
      ]
     },
     "execution_count": 8,
     "metadata": {},
     "output_type": "execute_result"
    }
   ],
   "source": [
    "m6"
   ]
  },
  {
   "cell_type": "markdown",
   "metadata": {},
   "source": [
    "Mappings of substructure to structure can be returned using substructure.get_substructure_mapping(structure, limit=1) method. Argument limit is the number of mappings that one wants to be returned, limit=0 means to return all possible mappings. Method acts as generator.\n",
    "\n",
    "To get mapping upon structure search structure1.get_mapping(structure2) method was developed. It returns only one possible mapping of all atoms for two isomorphic molecules. This functionality was developed to reorder atoms of two MoleculeContainers in the same order (the dictionary that is given by this method could be directly fed to remap function, see above) for some reaction handling issues. If molecules are isomorphic it works faster than get_substructure_mapping.\n"
   ]
  },
  {
   "cell_type": "code",
   "execution_count": 9,
   "metadata": {},
   "outputs": [
    {
     "data": {
      "text/plain": [
       "{3: 5, 4: 6, 1: 10}"
      ]
     },
     "execution_count": 9,
     "metadata": {},
     "output_type": "execute_result"
    }
   ],
   "source": [
    "m5.get_substructure_mapping(m6)  # mapping of m5 substructure into m2 superstructure"
   ]
  },
  {
   "cell_type": "code",
   "execution_count": 10,
   "metadata": {},
   "outputs": [
    {
     "name": "stdout",
     "output_type": "stream",
     "text": [
      "{3: 5, 4: 6, 1: 10}\n",
      "{3: 6, 4: 5, 1: 8}\n"
     ]
    }
   ],
   "source": [
    "for m in m5.get_substructure_mapping(m6, limit=0):  # iterate over all possible substructure mappings\n",
    "    print(m)"
   ]
  },
  {
   "cell_type": "code",
   "execution_count": 11,
   "metadata": {},
   "outputs": [
    {
     "data": {
      "text/plain": [
       "{4: 4, 5: 9, 6: 8, 7: 7, 8: 6, 9: 5}"
      ]
     },
     "execution_count": 11,
     "metadata": {},
     "output_type": "execute_result"
    }
   ],
   "source": [
    "benzene.get_mapping(m8)  # mapping of benzene into m8 - also benzene."
   ]
  },
  {
   "cell_type": "markdown",
   "metadata": {},
   "source": [
    "## 4.2. Reactions\n",
    "ReactionContainers do not support isomorphism due to ambiguity. But molecules in reaction can be matched.\n"
   ]
  },
  {
   "cell_type": "code",
   "execution_count": 12,
   "metadata": {},
   "outputs": [
    {
     "name": "stdout",
     "output_type": "stream",
     "text": [
      "Traceback (most recent call last):\n",
      "  File \"<ipython-input-12-7ad8567b633a>\", line 2, in <module>\n",
      "    m6 < r1\n",
      "  File \"/home/ravil/for_cgr3/lib/python3.7/site-packages/CGRtools/algorithms/isomorphism.py\", line 25, in __lt__\n",
      "    if len(self) >= len(other):\n",
      "TypeError: object of type 'ReactionContainer' has no len()\n",
      "\n"
     ]
    }
   ],
   "source": [
    "try:            # it is not possible to match molecule and reaction. Error is returned\n",
    "    m6 < r1\n",
    "except TypeError:\n",
    "    print(format_exc())"
   ]
  },
  {
   "cell_type": "code",
   "execution_count": 13,
   "metadata": {},
   "outputs": [
    {
     "data": {
      "image/svg+xml": [
       "<svg width=\"6.00cm\" height=\"3.06cm\" viewBox=\"10.42 -2.56 6.00 3.06\" xmlns=\"http://www.w3.org/2000/svg\" version=\"1.1\">\n",
       "  <g font-family=\"sans-serif\">\n",
       "    <g fill=\"#FF0D0D\">\n",
       "      <text x=\"14.35\" y=\"-1.10\" font-size=\"0.40\">O</text>\n",
       "    </g>\n",
       "    <g fill=\"#FF0D0D\">\n",
       "      <text x=\"12.21\" y=\"-0.69\" font-size=\"0.40\">O</text>\n",
       "    </g>\n",
       "    <g fill=\"#FF0D0D\">\n",
       "      <text x=\"12.92\" y=\"-1.92\" font-size=\"0.40\">O</text>\n",
       "    </g>\n",
       "    <g fill=\"#FF0D0D\">\n",
       "      <text x=\"13.64\" y=\"0.14\" font-size=\"0.40\">O</text>\n",
       "    </g>\n",
       "  </g>\n",
       "  <g fill=\"none\" stroke=\"black\" stroke-width=\".03\">\n",
       "    <line x1=\"13.78\" y1=\"-0.83\" x2=\"13.06\" y2=\"-1.24\" />\n",
       "    <line x1=\"13.78\" y1=\"-0.83\" x2=\"14.31\" y2=\"-1.13\" />\n",
       "    <line x1=\"13.74\" y1=\"-0.83\" x2=\"13.74\" y2=\"-0.21\" />\n",
       "    <line x1=\"13.82\" y1=\"-0.83\" x2=\"13.82\" y2=\"-0.21\" />\n",
       "    <line x1=\"13.06\" y1=\"-1.24\" x2=\"12.53\" y2=\"-0.93\" />\n",
       "    <line x1=\"13.10\" y1=\"-1.24\" x2=\"13.10\" y2=\"-1.85\" />\n",
       "    <line x1=\"13.02\" y1=\"-1.24\" x2=\"13.02\" y2=\"-1.85\" />\n",
       "    <line x1=\"14.67\" y1=\"-1.13\" x2=\"15.21\" y2=\"-0.83\" />\n",
       "    <line x1=\"12.17\" y1=\"-0.93\" x2=\"11.63\" y2=\"-1.24\" />\n",
       "    <line x1=\"15.21\" y1=\"-0.83\" x2=\"15.92\" y2=\"-1.24\" />\n",
       "    <line x1=\"11.63\" y1=\"-1.24\" x2=\"10.92\" y2=\"-0.83\" />\n",
       "  </g>\n",
       "</svg>"
      ],
      "text/plain": [
       "<CGRtools.containers.molecule.MoleculeContainer at 0x7f9e601ba7c8>"
      ]
     },
     "execution_count": 13,
     "metadata": {},
     "output_type": "execute_result"
    }
   ],
   "source": [
    "r1.products[0] # see structure in products"
   ]
  },
  {
   "cell_type": "code",
   "execution_count": 14,
   "metadata": {},
   "outputs": [
    {
     "data": {
      "image/svg+xml": [
       "<svg width=\"3.06cm\" height=\"3.14cm\" viewBox=\"1.93 -2.64 3.06 3.14\" xmlns=\"http://www.w3.org/2000/svg\" version=\"1.1\">\n",
       "  <g font-family=\"sans-serif\">\n",
       "    <g fill=\"#FF0D0D\">\n",
       "      <text x=\"3.11\" y=\"-2.00\" font-size=\"0.40\">O</text>\n",
       "    </g>\n",
       "    <g fill=\"#FF0D0D\">\n",
       "      <text x=\"4.35\" y=\"-1.29\" font-size=\"0.40\">O</text>\n",
       "    </g>\n",
       "    <g fill=\"#FF0D0D\">\n",
       "      <text x=\"3.53\" y=\"0.14\" font-size=\"0.40\">O</text>\n",
       "    </g>\n",
       "    <g fill=\"#FF0D0D\">\n",
       "      <text x=\"2.29\" y=\"-0.57\" font-size=\"0.40\">O</text>\n",
       "    </g>\n",
       "  </g>\n",
       "  <g fill=\"none\" stroke=\"black\" stroke-width=\".03\">\n",
       "    <line x1=\"3.67\" y1=\"-1.43\" x2=\"3.25\" y2=\"-0.71\" />\n",
       "    <line x1=\"3.70\" y1=\"-1.45\" x2=\"3.39\" y2=\"-1.98\" />\n",
       "    <line x1=\"3.63\" y1=\"-1.41\" x2=\"3.32\" y2=\"-1.94\" />\n",
       "    <line x1=\"3.67\" y1=\"-1.43\" x2=\"4.28\" y2=\"-1.43\" />\n",
       "    <line x1=\"3.22\" y1=\"-0.69\" x2=\"3.53\" y2=\"-0.16\" />\n",
       "    <line x1=\"3.29\" y1=\"-0.73\" x2=\"3.60\" y2=\"-0.20\" />\n",
       "    <line x1=\"3.25\" y1=\"-0.71\" x2=\"2.64\" y2=\"-0.71\" />\n",
       "  </g>\n",
       "</svg>"
      ],
      "text/plain": [
       "<CGRtools.containers.molecule.MoleculeContainer at 0x7f9e601ba6d8>"
      ]
     },
     "execution_count": 14,
     "metadata": {},
     "output_type": "execute_result"
    }
   ],
   "source": [
    "m6 # substructure used. One can see, they should not match"
   ]
  },
  {
   "cell_type": "code",
   "execution_count": 15,
   "metadata": {},
   "outputs": [
    {
     "data": {
      "text/plain": [
       "True"
      ]
     },
     "execution_count": 15,
     "metadata": {},
     "output_type": "execute_result"
    }
   ],
   "source": [
    "any(m6 < m for m in r1.products) # check if any molecule from product side has m6 as substructure"
   ]
  },
  {
   "cell_type": "markdown",
   "metadata": {},
   "source": [
    "## 4.3 CGR\n",
    "Substructure search is possible with CGRContainer. API is the same as for molecules.\n",
    "\n",
    "Matching CGR into CGR and molecule into CGR is possible. **Note that only conventional bonds in CGR could match moleculear bonds.** \n",
    "\n",
    "Equal atoms in isomorphism is atoms with same charge/multiplicity and isotope numbers in reactant and product states\n"
   ]
  },
  {
   "cell_type": "code",
   "execution_count": 16,
   "metadata": {},
   "outputs": [
    {
     "data": {
      "image/svg+xml": [
       "<svg width=\"11.29cm\" height=\"4.71cm\" viewBox=\"-0.50 -4.21 11.29 4.71\" xmlns=\"http://www.w3.org/2000/svg\" version=\"1.1\">\n",
       "  <defs><marker id=\"arrow\" markerWidth=\"10\" markerHeight=\"10\" refX=\"0\" refY=\"3\" orient=\"auto\"><path d=\"M0,0 L0,6 L9,3 z\" /></marker></defs>\n",
       "  <line x1=\"2.43\" y1=\"-1\" x2=\"4.43\" y2=\"-1\" fill=\"none\" stroke=\"black\" stroke-width=\".04\" marker-end=\"url(#arrow)\" />\n",
       "  <g font-family=\"sans-serif\">\n",
       "    <g fill=\"#3050F8\">\n",
       "      <text x=\"0.57\" y=\"-3.16\" font-size=\"0.40\">N</text>\n",
       "      <text x=\"0.85\" y=\"-3.44\" font-size=\"0.30\">+</text>\n",
       "    </g>\n",
       "    <g fill=\"#FF0D0D\">\n",
       "      <text x=\"-0.14\" y=\"-3.57\" font-size=\"0.40\">O</text>\n",
       "      <text x=\"0.14\" y=\"-3.85\" font-size=\"0.30\">⁃</text>\n",
       "    </g>\n",
       "    <g fill=\"#FF0D0D\">\n",
       "      <text x=\"1.29\" y=\"-3.57\" font-size=\"0.40\">O</text>\n",
       "    </g>\n",
       "    <g fill=\"#FF0D0D\">\n",
       "      <text x=\"0.57\" y=\"0.14\" font-size=\"0.40\">O</text>\n",
       "    </g>\n",
       "  </g>\n",
       "  <g fill=\"none\" stroke=\"black\" stroke-width=\".03\">\n",
       "    <line x1=\"0.71\" y1=\"-3.09\" x2=\"0.71\" y2=\"-2.48\" />\n",
       "    <line x1=\"0.53\" y1=\"-3.41\" x2=\"0.18\" y2=\"-3.61\" />\n",
       "    <line x1=\"0.92\" y1=\"-3.37\" x2=\"1.27\" y2=\"-3.57\" />\n",
       "    <line x1=\"0.88\" y1=\"-3.44\" x2=\"1.23\" y2=\"-3.64\" />\n",
       "    <line x1=\"0.71\" y1=\"-0.21\" x2=\"0.71\" y2=\"-0.82\" />\n",
       "    <line x1=\"0.71\" y1=\"-2.48\" x2=\"1.43\" y2=\"-2.06\" />\n",
       "    <line x1=\"0.75\" y1=\"-2.54\" x2=\"1.47\" y2=\"-2.13\" stroke-dasharray=\"0.20 0.10\" />\n",
       "    <line x1=\"0.71\" y1=\"-2.48\" x2=\"0.00\" y2=\"-2.06\" />\n",
       "    <line x1=\"0.75\" y1=\"-2.41\" x2=\"0.04\" y2=\"-1.99\" stroke-dasharray=\"0.20 0.10\" />\n",
       "    <line x1=\"1.43\" y1=\"-2.06\" x2=\"1.43\" y2=\"-1.24\" />\n",
       "    <line x1=\"1.51\" y1=\"-2.06\" x2=\"1.51\" y2=\"-1.24\" stroke-dasharray=\"0.20 0.10\" />\n",
       "    <line x1=\"1.43\" y1=\"-1.24\" x2=\"0.71\" y2=\"-0.82\" />\n",
       "    <line x1=\"1.47\" y1=\"-1.17\" x2=\"0.75\" y2=\"-0.76\" stroke-dasharray=\"0.20 0.10\" />\n",
       "    <line x1=\"0.71\" y1=\"-0.82\" x2=\"0.00\" y2=\"-1.24\" />\n",
       "    <line x1=\"0.67\" y1=\"-0.76\" x2=\"-0.04\" y2=\"-1.17\" stroke-dasharray=\"0.20 0.10\" />\n",
       "    <line x1=\"0.00\" y1=\"-1.24\" x2=\"0.00\" y2=\"-2.06\" />\n",
       "    <line x1=\"-0.08\" y1=\"-1.24\" x2=\"-0.08\" y2=\"-2.06\" stroke-dasharray=\"0.20 0.10\" />\n",
       "  </g>\n",
       "  <g font-family=\"sans-serif\">\n",
       "    <g fill=\"#3050F8\">\n",
       "      <text x=\"6.00\" y=\"0.14\" font-size=\"0.40\">N</text>\n",
       "      <text x=\"6.28\" y=\"-0.14\" font-size=\"0.30\">+</text>\n",
       "    </g>\n",
       "    <g fill=\"#FF0D0D\">\n",
       "      <text x=\"5.29\" y=\"-0.27\" font-size=\"0.40\">O</text>\n",
       "      <text x=\"5.57\" y=\"-0.55\" font-size=\"0.30\">⁃</text>\n",
       "    </g>\n",
       "    <g fill=\"#FF0D0D\">\n",
       "      <text x=\"6.72\" y=\"-0.27\" font-size=\"0.40\">O</text>\n",
       "    </g>\n",
       "  </g>\n",
       "  <g fill=\"none\" stroke=\"black\" stroke-width=\".03\">\n",
       "    <line x1=\"5.96\" y1=\"-0.11\" x2=\"5.61\" y2=\"-0.31\" />\n",
       "    <line x1=\"6.35\" y1=\"-0.07\" x2=\"6.70\" y2=\"-0.27\" />\n",
       "    <line x1=\"6.31\" y1=\"-0.14\" x2=\"6.66\" y2=\"-0.34\" />\n",
       "  </g>\n",
       "  <g font-family=\"sans-serif\">\n",
       "    <g fill=\"#FF0D0D\">\n",
       "      <text x=\"7.72\" y=\"0.14\" font-size=\"0.40\">O</text>\n",
       "    </g>\n",
       "  </g>\n",
       "  <g fill=\"none\" stroke=\"black\" stroke-width=\".03\">\n",
       "  </g>\n",
       "  <g fill=\"none\" stroke=\"black\" stroke-width=\".03\">\n",
       "    <line x1=\"9.57\" y1=\"-1.65\" x2=\"10.29\" y2=\"-1.24\" />\n",
       "    <line x1=\"9.61\" y1=\"-1.72\" x2=\"10.33\" y2=\"-1.31\" stroke-dasharray=\"0.20 0.10\" />\n",
       "    <line x1=\"9.57\" y1=\"-1.65\" x2=\"8.86\" y2=\"-1.24\" />\n",
       "    <line x1=\"9.61\" y1=\"-1.58\" x2=\"8.90\" y2=\"-1.17\" stroke-dasharray=\"0.20 0.10\" />\n",
       "    <line x1=\"10.29\" y1=\"-1.24\" x2=\"10.29\" y2=\"-0.41\" />\n",
       "    <line x1=\"10.37\" y1=\"-1.24\" x2=\"10.37\" y2=\"-0.41\" stroke-dasharray=\"0.20 0.10\" />\n",
       "    <line x1=\"10.29\" y1=\"-0.41\" x2=\"9.57\" y2=\"-0.00\" />\n",
       "    <line x1=\"10.33\" y1=\"-0.34\" x2=\"9.61\" y2=\"0.07\" stroke-dasharray=\"0.20 0.10\" />\n",
       "    <line x1=\"9.57\" y1=\"-0.00\" x2=\"8.86\" y2=\"-0.41\" />\n",
       "    <line x1=\"9.53\" y1=\"0.07\" x2=\"8.82\" y2=\"-0.34\" stroke-dasharray=\"0.20 0.10\" />\n",
       "    <line x1=\"8.86\" y1=\"-0.41\" x2=\"8.86\" y2=\"-1.24\" />\n",
       "    <line x1=\"8.78\" y1=\"-0.41\" x2=\"8.78\" y2=\"-1.24\" stroke-dasharray=\"0.20 0.10\" />\n",
       "  </g>\n",
       "</svg>"
      ],
      "text/plain": [
       "<CGRtools.containers.reaction.ReactionContainer at 0x7f9e601b2b88>"
      ]
     },
     "execution_count": 16,
     "metadata": {},
     "output_type": "execute_result"
    }
   ],
   "source": [
    "decomposed1 = preparer.decompose(cgr1) # let's have a look at reaction corresponding to cgr1\n",
    "decomposed1"
   ]
  },
  {
   "cell_type": "code",
   "execution_count": 17,
   "metadata": {},
   "outputs": [
    {
     "data": {
      "image/svg+xml": [
       "<svg width=\"2.43cm\" height=\"2.65cm\" viewBox=\"1.93 -2.98 2.43 2.65\" xmlns=\"http://www.w3.org/2000/svg\" version=\"1.1\">\n",
       "  <g fill=\"none\" stroke=\"black\" stroke-width=\".03\">\n",
       "    <line x1=\"3.14\" y1=\"-2.48\" x2=\"3.86\" y2=\"-2.06\" />\n",
       "    <line x1=\"3.18\" y1=\"-2.54\" x2=\"3.90\" y2=\"-2.13\" stroke-dasharray=\"0.20 0.10\" />\n",
       "    <line x1=\"3.14\" y1=\"-2.48\" x2=\"2.43\" y2=\"-2.06\" />\n",
       "    <line x1=\"3.18\" y1=\"-2.41\" x2=\"2.47\" y2=\"-1.99\" stroke-dasharray=\"0.20 0.10\" />\n",
       "    <line x1=\"3.86\" y1=\"-2.06\" x2=\"3.86\" y2=\"-1.24\" />\n",
       "    <line x1=\"3.94\" y1=\"-2.06\" x2=\"3.94\" y2=\"-1.24\" stroke-dasharray=\"0.20 0.10\" />\n",
       "    <line x1=\"3.86\" y1=\"-1.24\" x2=\"3.14\" y2=\"-0.82\" />\n",
       "    <line x1=\"3.90\" y1=\"-1.17\" x2=\"3.18\" y2=\"-0.76\" stroke-dasharray=\"0.20 0.10\" />\n",
       "    <line x1=\"3.14\" y1=\"-0.82\" x2=\"2.43\" y2=\"-1.24\" />\n",
       "    <line x1=\"3.10\" y1=\"-0.76\" x2=\"2.39\" y2=\"-1.17\" stroke-dasharray=\"0.20 0.10\" />\n",
       "    <line x1=\"2.43\" y1=\"-1.24\" x2=\"2.43\" y2=\"-2.06\" />\n",
       "    <line x1=\"2.35\" y1=\"-1.24\" x2=\"2.35\" y2=\"-2.06\" stroke-dasharray=\"0.20 0.10\" />\n",
       "  </g>\n",
       "</svg>"
      ],
      "text/plain": [
       "<CGRtools.containers.molecule.MoleculeContainer at 0x7f9e601bacc8>"
      ]
     },
     "execution_count": 17,
     "metadata": {},
     "output_type": "execute_result"
    }
   ],
   "source": [
    "m8 # this's the substructure we are looking for"
   ]
  },
  {
   "cell_type": "code",
   "execution_count": 18,
   "metadata": {},
   "outputs": [
    {
     "data": {
      "text/plain": [
       "True"
      ]
     },
     "execution_count": 18,
     "metadata": {},
     "output_type": "execute_result"
    }
   ],
   "source": [
    "m8 < cgr1"
   ]
  },
  {
   "cell_type": "code",
   "execution_count": 19,
   "metadata": {},
   "outputs": [
    {
     "data": {
      "text/plain": [
       "True"
      ]
     },
     "execution_count": 19,
     "metadata": {},
     "output_type": "execute_result"
    }
   ],
   "source": [
    "cgr1 <= cgr1"
   ]
  },
  {
   "cell_type": "markdown",
   "metadata": {},
   "source": [
    "## 4.4 Queries"
   ]
  },
  {
   "cell_type": "code",
   "execution_count": 20,
   "metadata": {},
   "outputs": [],
   "source": [
    "# to use QueryContainers neighbors and hybridization for molecules need to be calculated\n",
    "m9.reset_query_marks()\n",
    "m10.reset_query_marks()"
   ]
  },
  {
   "cell_type": "code",
   "execution_count": 21,
   "metadata": {},
   "outputs": [
    {
     "data": {
      "image/svg+xml": [
       "<svg width=\"2.24cm\" height=\"2.43cm\" viewBox=\"2.75 -2.64 2.24 2.43\" xmlns=\"http://www.w3.org/2000/svg\" version=\"1.1\">\n",
       "  <g font-family=\"sans-serif\">\n",
       "    <g fill=\"#FF0D0D\">\n",
       "      <text x=\"3.11\" y=\"-2.00\" font-size=\"0.40\">O</text>\n",
       "    </g>\n",
       "    <g fill=\"#FF0D0D\">\n",
       "      <text x=\"4.35\" y=\"-1.29\" font-size=\"0.40\">O</text>\n",
       "    </g>\n",
       "  </g>\n",
       "  <g fill=\"none\" stroke=\"black\" stroke-width=\".03\">\n",
       "    <line x1=\"3.67\" y1=\"-1.43\" x2=\"3.25\" y2=\"-0.71\" />\n",
       "    <line x1=\"3.70\" y1=\"-1.45\" x2=\"3.39\" y2=\"-1.98\" />\n",
       "    <line x1=\"3.63\" y1=\"-1.41\" x2=\"3.32\" y2=\"-1.94\" />\n",
       "    <line x1=\"3.67\" y1=\"-1.43\" x2=\"4.28\" y2=\"-1.43\" />\n",
       "  </g>\n",
       "</svg>"
      ],
      "text/plain": [
       "<CGRtools.containers.molecule.MoleculeContainer at 0x7f9e601bae58>"
      ]
     },
     "execution_count": 21,
     "metadata": {},
     "output_type": "execute_result"
    }
   ],
   "source": [
    "m9 # acid"
   ]
  },
  {
   "cell_type": "code",
   "execution_count": 22,
   "metadata": {},
   "outputs": [
    {
     "data": {
      "image/svg+xml": [
       "<svg width=\"6.00cm\" height=\"3.06cm\" viewBox=\"10.42 -2.56 6.00 3.06\" xmlns=\"http://www.w3.org/2000/svg\" version=\"1.1\">\n",
       "  <g font-family=\"sans-serif\">\n",
       "    <g fill=\"#FF0D0D\">\n",
       "      <text x=\"14.35\" y=\"-1.10\" font-size=\"0.40\">O</text>\n",
       "    </g>\n",
       "    <g fill=\"#FF0D0D\">\n",
       "      <text x=\"12.21\" y=\"-0.69\" font-size=\"0.40\">O</text>\n",
       "    </g>\n",
       "    <g fill=\"#FF0D0D\">\n",
       "      <text x=\"12.92\" y=\"-1.92\" font-size=\"0.40\">O</text>\n",
       "    </g>\n",
       "    <g fill=\"#FF0D0D\">\n",
       "      <text x=\"13.64\" y=\"0.14\" font-size=\"0.40\">O</text>\n",
       "    </g>\n",
       "  </g>\n",
       "  <g fill=\"none\" stroke=\"black\" stroke-width=\".03\">\n",
       "    <line x1=\"13.78\" y1=\"-0.83\" x2=\"13.06\" y2=\"-1.24\" />\n",
       "    <line x1=\"13.78\" y1=\"-0.83\" x2=\"14.31\" y2=\"-1.13\" />\n",
       "    <line x1=\"13.74\" y1=\"-0.83\" x2=\"13.74\" y2=\"-0.21\" />\n",
       "    <line x1=\"13.82\" y1=\"-0.83\" x2=\"13.82\" y2=\"-0.21\" />\n",
       "    <line x1=\"13.06\" y1=\"-1.24\" x2=\"12.53\" y2=\"-0.93\" />\n",
       "    <line x1=\"13.10\" y1=\"-1.24\" x2=\"13.10\" y2=\"-1.85\" />\n",
       "    <line x1=\"13.02\" y1=\"-1.24\" x2=\"13.02\" y2=\"-1.85\" />\n",
       "    <line x1=\"14.67\" y1=\"-1.13\" x2=\"15.21\" y2=\"-0.83\" />\n",
       "    <line x1=\"12.17\" y1=\"-0.93\" x2=\"11.63\" y2=\"-1.24\" />\n",
       "    <line x1=\"15.21\" y1=\"-0.83\" x2=\"15.92\" y2=\"-1.24\" />\n",
       "    <line x1=\"11.63\" y1=\"-1.24\" x2=\"10.92\" y2=\"-0.83\" />\n",
       "  </g>\n",
       "</svg>"
      ],
      "text/plain": [
       "<CGRtools.containers.molecule.MoleculeContainer at 0x7f9e601bac78>"
      ]
     },
     "execution_count": 22,
     "metadata": {},
     "output_type": "execute_result"
    }
   ],
   "source": [
    "m10 # ether"
   ]
  },
  {
   "cell_type": "code",
   "execution_count": 23,
   "metadata": {},
   "outputs": [
    {
     "data": {
      "image/svg+xml": [
       "<svg width=\"1.71cm\" height=\"2.24cm\" viewBox=\"13.28 -1.74 1.71 2.24\" xmlns=\"http://www.w3.org/2000/svg\" version=\"1.1\">\n",
       "  <g font-family=\"sans-serif\">\n",
       "    <g fill=\"#FF0D0D\">\n",
       "      <text x=\"14.35\" y=\"-1.10\" font-size=\"0.40\">O</text>\n",
       "    </g>\n",
       "    <g fill=\"#FF0D0D\">\n",
       "      <text x=\"13.64\" y=\"0.14\" font-size=\"0.40\">O</text>\n",
       "    </g>\n",
       "  </g>\n",
       "  <g fill=\"none\" stroke=\"black\" stroke-width=\".03\">\n",
       "    <line x1=\"14.31\" y1=\"-1.13\" x2=\"13.78\" y2=\"-0.83\" />\n",
       "    <line x1=\"13.74\" y1=\"-0.83\" x2=\"13.74\" y2=\"-0.21\" />\n",
       "    <line x1=\"13.82\" y1=\"-0.83\" x2=\"13.82\" y2=\"-0.21\" />\n",
       "  </g>\n",
       "</svg>"
      ],
      "text/plain": [
       "<CGRtools.containers.molecule.MoleculeContainer at 0x7f9e2725a958>"
      ]
     },
     "execution_count": 23,
     "metadata": {},
     "output_type": "execute_result"
    }
   ],
   "source": [
    "carb"
   ]
  },
  {
   "cell_type": "code",
   "execution_count": 24,
   "metadata": {},
   "outputs": [
    {
     "name": "stdout",
     "output_type": "stream",
     "text": [
      "m9: [C;s1;]-[C;d3;](-[O;s1;])=[O;d1;]\n",
      "m10: [C;s1;]-[C;s2;]-[O;s2;]-[C;d3;](=[O;d1;])-[C;d3;](=[O;d1;])-[O;s2;]-[C;s2;]-[C;s1;]\n",
      "carb: [O;s2;]-[C;d3;]=[O;d1;]\n"
     ]
    }
   ],
   "source": [
    "print('m9:', f'{m9:hn}') # all labels were calculated\n",
    "print('m10:', f'{m10:hn}')\n",
    "print('carb:', f'{carb:hn}') # notice that one of oxygen atom has 2 neighbors. Only ester could fit this restriction."
   ]
  },
  {
   "cell_type": "markdown",
   "metadata": {},
   "source": [
    "Molecules isomorphism don't take into account neighbors and hybridization"
   ]
  },
  {
   "cell_type": "code",
   "execution_count": 25,
   "metadata": {},
   "outputs": [
    {
     "data": {
      "text/plain": [
       "True"
      ]
     },
     "execution_count": 25,
     "metadata": {},
     "output_type": "execute_result"
    }
   ],
   "source": [
    "carb < m9 # carb currently is molecule projection. It fit this molecule as well."
   ]
  },
  {
   "cell_type": "code",
   "execution_count": 26,
   "metadata": {},
   "outputs": [
    {
     "data": {
      "text/plain": [
       "True"
      ]
     },
     "execution_count": 26,
     "metadata": {},
     "output_type": "execute_result"
    }
   ],
   "source": [
    "carb < m10 # carb is a substructure of m10"
   ]
  },
  {
   "cell_type": "markdown",
   "metadata": {},
   "source": [
    "One need to convert molecule (or it's projection) into QueryContainer object. In this case number of neighbors and hybridization data will be taken into account upon substructure search.\n",
    "\n",
    "API of isomorphism is the same."
   ]
  },
  {
   "cell_type": "code",
   "execution_count": 27,
   "metadata": {},
   "outputs": [
    {
     "name": "stdout",
     "output_type": "stream",
     "text": [
      "[O;s2;]-[C;d3;]=[O;d1;]\n"
     ]
    }
   ],
   "source": [
    "q = QueryContainer(carb)  # convert molecule into query\n",
    "print(q)     # now one can see that in signature of QueryContainer. See that one of oxygen has 2 neighbors."
   ]
  },
  {
   "cell_type": "code",
   "execution_count": 28,
   "metadata": {},
   "outputs": [
    {
     "data": {
      "text/plain": [
       "False"
      ]
     },
     "execution_count": 28,
     "metadata": {},
     "output_type": "execute_result"
    }
   ],
   "source": [
    "q < m9 # now neighbors and hybridization are taken into account."
   ]
  },
  {
   "cell_type": "markdown",
   "metadata": {},
   "source": [
    "Acid m9 has hydroxyl group with one non-hydrogen neighbor. Our query requires existence of one oxygen atom with two non-hydrogen neighbors."
   ]
  },
  {
   "cell_type": "code",
   "execution_count": 29,
   "metadata": {},
   "outputs": [
    {
     "data": {
      "text/plain": [
       "True"
      ]
     },
     "execution_count": 29,
     "metadata": {},
     "output_type": "execute_result"
    }
   ],
   "source": [
    "q < m10 # ester matches to query."
   ]
  },
  {
   "cell_type": "code",
   "execution_count": 30,
   "metadata": {},
   "outputs": [
    {
     "data": {
      "image/svg+xml": [
       "<svg width=\"8.50cm\" height=\"3.14cm\" viewBox=\"-8.00 -1.57 8.50 3.14\" xmlns=\"http://www.w3.org/2000/svg\" version=\"1.1\">\n",
       "  <g font-family=\"sans-serif\">\n",
       "    <g fill=\"#FF0D0D\">\n",
       "      <text x=\"-6.81\" y=\"-0.93\" font-size=\"0.40\">O</text>\n",
       "    </g>\n",
       "    <g fill=\"#FF0D0D\">\n",
       "      <text x=\"-5.58\" y=\"-0.22\" font-size=\"0.40\">O</text>\n",
       "      <text x=\"-5.30\" y=\"-0.50\" font-size=\"0.30\">⁃</text>\n",
       "    </g>\n",
       "    <g fill=\"#FF0D0D\">\n",
       "      <text x=\"-6.40\" y=\"1.21\" font-size=\"0.40\">O</text>\n",
       "    </g>\n",
       "    <g fill=\"#FF0D0D\">\n",
       "      <text x=\"-7.64\" y=\"0.50\" font-size=\"0.40\">O</text>\n",
       "    </g>\n",
       "    <g fill=\"#AB5CF2\">\n",
       "      <text x=\"-0.14\" y=\"0.14\" font-size=\"0.40\">Na</text>\n",
       "      <text x=\"0.14\" y=\"-0.14\" font-size=\"0.30\">+</text>\n",
       "    </g>\n",
       "  </g>\n",
       "  <g fill=\"none\" stroke=\"black\" stroke-width=\".03\">\n",
       "    <line x1=\"-6.26\" y1=\"-0.36\" x2=\"-6.67\" y2=\"0.36\" />\n",
       "    <line x1=\"-6.23\" y1=\"-0.38\" x2=\"-6.53\" y2=\"-0.91\" />\n",
       "    <line x1=\"-6.30\" y1=\"-0.34\" x2=\"-6.60\" y2=\"-0.87\" />\n",
       "    <line x1=\"-6.26\" y1=\"-0.36\" x2=\"-5.65\" y2=\"-0.36\" />\n",
       "    <line x1=\"-6.71\" y1=\"0.38\" x2=\"-6.40\" y2=\"0.91\" />\n",
       "    <line x1=\"-6.64\" y1=\"0.34\" x2=\"-6.33\" y2=\"0.87\" />\n",
       "    <line x1=\"-6.67\" y1=\"0.36\" x2=\"-7.29\" y2=\"0.36\" />\n",
       "  </g>\n",
       "</svg>"
      ],
      "text/plain": [
       "<CGRtools.containers.molecule.MoleculeContainer at 0x7f9e58400228>"
      ]
     },
     "execution_count": 30,
     "metadata": {},
     "output_type": "execute_result"
    }
   ],
   "source": [
    "m2.reset_query_marks()\n",
    "m2"
   ]
  },
  {
   "cell_type": "code",
   "execution_count": 31,
   "metadata": {},
   "outputs": [
    {
     "data": {
      "text/plain": [
       "False"
      ]
     },
     "execution_count": 31,
     "metadata": {},
     "output_type": "execute_result"
    }
   ],
   "source": [
    "q < m2 # this molecule does q as substructure as well. It is acid."
   ]
  }
 ],
 "metadata": {
  "kernelspec": {
   "display_name": "Python 3",
   "language": "python",
   "name": "python3"
  },
  "language_info": {
   "codemirror_mode": {
    "name": "ipython",
    "version": 3
   },
   "file_extension": ".py",
   "mimetype": "text/x-python",
   "name": "python",
   "nbconvert_exporter": "python",
   "pygments_lexer": "ipython3",
   "version": "3.7.1"
  }
 },
 "nbformat": 4,
 "nbformat_minor": 2
}
