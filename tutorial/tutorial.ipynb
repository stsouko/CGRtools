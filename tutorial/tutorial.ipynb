{
 "cells": [
  {
   "cell_type": "markdown",
   "metadata": {},
   "source": [
    "% CGRtools Tutorial\n",
    "% Dr. Ramil Nugmanov; Dr. Timur Madzhidov; Ravil Mukhametgaleev\n",
    "% Mar 25, 2019"
   ]
  },
  {
   "cell_type": "markdown",
   "metadata": {},
   "source": [
    "# CGRtools Tutorial\n",
    "\n",
    "(c) 2019, Dr. Ramil Nugmanov; Dr. Timur Madzhidov; Ravil Mukhametgaleev\n",
    "\n",
    "Installation instructions of CGRtools package information and tutorial's files see on `https://github.com/cimm-kzn/CGRtools`\n",
    "\n",
    "NOTE: Tutorial should be performed sequentially from the start. Random cell running will lead to unexpected results. "
   ]
  },
  {
   "cell_type": "code",
   "execution_count": null,
   "metadata": {},
   "outputs": [],
   "source": [
    "import pkg_resources\n",
    "if pkg_resources.get_distribution('CGRtools').version.split('.')[:2] != ['3', '1']:\n",
    "    print('WARNING. Tutorial was tested on 3.1 version of CGRtools')\n",
    "else:\n",
    "    print('Welcome!')"
   ]
  },
  {
   "cell_type": "code",
   "execution_count": null,
   "metadata": {},
   "outputs": [],
   "source": [
    "# load data for tutorial\n",
    "from pickle import load\n",
    "from traceback import format_exc\n",
    "\n",
    "with open('molecules.dat', 'rb') as f:\n",
    "    molecules = load(f) # list of MoleculeContainer objects\n",
    "with open('reactions.dat', 'rb') as f:\n",
    "    reactions = load(f) # list of ReactionContainer objects\n",
    "\n",
    "m1, m2, m3, m4 = molecules # molecule\n",
    "m7 = m3.copy()\n",
    "m11 = m3.copy()\n",
    "m11.standardize()\n",
    "m12 = m3.copy()\n",
    "m7.standardize()\n",
    "r1 = reactions[0] # reaction\n",
    "m5, m6 = r1.reactants[:2]\n",
    "m8 = m7.substructure([4, 5, 6, 7, 8, 9], as_view=False)\n",
    "m9 = m6.substructure([5, 6,7, 8], as_view=False) # acid\n",
    "m10 =  r1.products[0].copy()"
   ]
  },
  {
   "cell_type": "markdown",
   "metadata": {},
   "source": [
    "# 1. Data types and operations with them\n",
    "\n",
    "CGRtools has subpackage *containers* with data structures classes:\n",
    "\n",
    "* *MoleculeContainer* - for molecular structure\n",
    "* *ReactionContainer* - for chemical reaction \n",
    "* *CGRContainer* - for Condensed Graph of Reaction\n",
    "* *QueryContainer* - queries for substructure search in molecules\n",
    "* *QueryCGRContainer* - queries for substructure search in CGRs"
   ]
  },
  {
   "cell_type": "code",
   "execution_count": null,
   "metadata": {},
   "outputs": [],
   "source": [
    "from CGRtools.containers import * # import all containers"
   ]
  },
  {
   "cell_type": "markdown",
   "metadata": {},
   "source": [
    "## 1.1. MoleculeContainer\n",
    "Molecules are represented as undirected graphs. Molecules contain *Atom* objects and *Bond* objects.\n",
    "\n",
    "*Atom* objects are represented as dictionary with unique number for each atom as key.  \n",
    "\n",
    "*Bond* objects are stored as sparse matrix with adjacent atoms pair as keys for rows and columns.\n",
    "\n",
    "Hereafter, *atom number* is unique integer used to enumerate atoms in molecule. Please, don't confuse it with element number in Periodic Table, hereafter called *element number*.\n",
    "\n",
    "Methods for molecule handling and the arguments of *MoleculeContainer* are described below."
   ]
  },
  {
   "cell_type": "code",
   "execution_count": null,
   "metadata": {},
   "outputs": [],
   "source": [
    "m1.meta # dictionary for molecule properties storage. For example, DTYPE/DATUM fields of SDF file are read into this dictionary"
   ]
  },
  {
   "cell_type": "code",
   "execution_count": null,
   "metadata": {},
   "outputs": [],
   "source": [
    "m1 # MoleculeContainer supports depiction and graphic representation in Jupyter notebooks."
   ]
  },
  {
   "cell_type": "code",
   "execution_count": null,
   "metadata": {},
   "outputs": [],
   "source": [
    "m1.depict() # depiction returns SVG image in format string"
   ]
  },
  {
   "cell_type": "code",
   "execution_count": null,
   "metadata": {},
   "outputs": [],
   "source": [
    "with open('molecule.svg', 'w') as f: # saving image to SVG file\n",
    "    f.write(m1.depict())"
   ]
  },
  {
   "cell_type": "code",
   "execution_count": null,
   "metadata": {},
   "outputs": [],
   "source": [
    "m_copy = m1.copy() # isolated copy of molecule\n",
    "m_copy"
   ]
  },
  {
   "cell_type": "code",
   "execution_count": null,
   "metadata": {},
   "outputs": [],
   "source": [
    "len(m1) # get number of atoms in molecule\n",
    "# or \n",
    "m1.atoms_count"
   ]
  },
  {
   "cell_type": "code",
   "execution_count": null,
   "metadata": {},
   "outputs": [],
   "source": [
    "m1.bonds_count # number of bonds"
   ]
  },
  {
   "cell_type": "code",
   "execution_count": null,
   "metadata": {},
   "outputs": [],
   "source": [
    "m1.atoms_numbers # list of atoms numbers"
   ]
  },
  {
   "cell_type": "code",
   "execution_count": null,
   "metadata": {},
   "outputs": [],
   "source": [
    "# this method calculates additional atoms attributes: number of neighbors and hybridization. See below for usage\n",
    "m1.reset_query_marks() # by default this attributes are None (for speed-up)\n",
    "m3.reset_query_marks()"
   ]
  },
  {
   "cell_type": "markdown",
   "metadata": {},
   "source": [
    "The following notations are used for hybridization of atoms. Values are given as numbers below (in parenthesis symbols that are used in SMILES-like signatures are shown):\n",
    "\n",
    "* 1 (s) - all bonds of atom are single, i.e. sp3 hybridization\n",
    "* 2 (d) - atom has one double bond and others are single, i.e. sp2 hybridization\n",
    "* 3 (t) - atom has one triple or two double bonds and other are single, i.e. sp hybridization\n",
    "* 4 (a) - atom is in aromatic ring\n",
    "\n",
    "Neighbors and hybridizations atom attributes are required for **substructure operations** and structure standardization. See below"
   ]
  },
  {
   "cell_type": "code",
   "execution_count": null,
   "metadata": {},
   "outputs": [],
   "source": [
    "# iterate over atoms using its numbers\n",
    "list(m1.atoms())  # works the same as dict.items()"
   ]
  },
  {
   "cell_type": "code",
   "execution_count": null,
   "metadata": {},
   "outputs": [],
   "source": [
    "# iterate over bonds using adjacent atoms numbers\n",
    "list(m1.bonds())"
   ]
  },
  {
   "cell_type": "code",
   "execution_count": null,
   "metadata": {},
   "outputs": [],
   "source": [
    "# access to atom by number\n",
    "m1.atom(1)"
   ]
  },
  {
   "cell_type": "code",
   "execution_count": null,
   "metadata": {},
   "outputs": [],
   "source": [
    "try:\n",
    "    m1.atom(10) # raise error for absent atom numbers\n",
    "except KeyError:\n",
    "    print(format_exc())"
   ]
  },
  {
   "cell_type": "code",
   "execution_count": null,
   "metadata": {},
   "outputs": [],
   "source": [
    "# access to bond using adjacent atoms numbers\n",
    "m1.bond(1, 4)"
   ]
  },
  {
   "cell_type": "code",
   "execution_count": null,
   "metadata": {},
   "outputs": [],
   "source": [
    "try:\n",
    "    m1.bond(1, 3) # raise error for absent bond\n",
    "except KeyError:\n",
    "    print(format_exc())"
   ]
  },
  {
   "cell_type": "markdown",
   "metadata": {},
   "source": [
    "#### Atom objects are dictinary-like classes which store information about:\n",
    "* element\n",
    "* isotope\n",
    "* charge\n",
    "* multiplicity\n",
    "* xyz coordinates\n",
    "\n",
    "Also atoms has methods for data integrity checks and include some internally used data."
   ]
  },
  {
   "cell_type": "code",
   "execution_count": null,
   "metadata": {},
   "outputs": [],
   "source": [
    "a = m1.atom(1)\n",
    "\n",
    "# access to information\n",
    "a.element # element symbol\n",
    "# or\n",
    "a['element']"
   ]
  },
  {
   "cell_type": "code",
   "execution_count": null,
   "metadata": {},
   "outputs": [],
   "source": [
    "a.charge # formal charge\n",
    "# or\n",
    "a['charge']"
   ]
  },
  {
   "cell_type": "code",
   "execution_count": null,
   "metadata": {},
   "outputs": [],
   "source": [
    "a.multiplicity # atom multiplicity. None if not set\n",
    "# or\n",
    "a['multiplicity']"
   ]
  },
  {
   "cell_type": "code",
   "execution_count": null,
   "metadata": {},
   "outputs": [],
   "source": [
    "a.isotope # atom isotope. Default isotope if not set. Default isotopes are the same as used in InChI notation\n",
    "# or\n",
    "a['isotope']"
   ]
  },
  {
   "cell_type": "code",
   "execution_count": null,
   "metadata": {},
   "outputs": [],
   "source": [
    "a.x # coordinates\n",
    "a.y\n",
    "a.z\n",
    "# or\n",
    "a['x']\n",
    "a['y']\n",
    "a['z']"
   ]
  },
  {
   "cell_type": "code",
   "execution_count": null,
   "metadata": {},
   "outputs": [],
   "source": [
    "a.neighbors # Number of neighboring atoms is calculated by reset_query_marks method as shown above. It is read-only. "
   ]
  },
  {
   "cell_type": "code",
   "execution_count": null,
   "metadata": {},
   "outputs": [],
   "source": [
    "a.hybridization # Atoms hybridization is calculated by reset_query_marks method as shown above. It is read-only. "
   ]
  },
  {
   "cell_type": "code",
   "execution_count": null,
   "metadata": {},
   "outputs": [],
   "source": [
    "try:\n",
    "    a.hybridization = 2 # Not subsettable. Read-only! Thus error is raised.\n",
    "except AttributeError:\n",
    "    print(format_exc())"
   ]
  },
  {
   "cell_type": "markdown",
   "metadata": {},
   "source": [
    "#### Atomic attributes are subsettable.\n",
    "\n",
    "CGRtools has integrity checks for verification of changes induced by user"
   ]
  },
  {
   "cell_type": "code",
   "execution_count": null,
   "metadata": {},
   "outputs": [],
   "source": [
    "a.isotope = 16\n",
    "# or \n",
    "a['isotope'] = 16"
   ]
  },
  {
   "cell_type": "code",
   "execution_count": null,
   "metadata": {},
   "outputs": [],
   "source": [
    "m1.flush_cache() # due to caching used for speed-up one needs to reset cache of molecule to observe changes in atoms and bonds \n",
    "m1"
   ]
  },
  {
   "cell_type": "code",
   "execution_count": null,
   "metadata": {
    "scrolled": true
   },
   "outputs": [],
   "source": [
    "try:\n",
    "    a.isotope = 0 # raise error. Isotope with mass 0 could not exist\n",
    "except ValueError:\n",
    "    print(format_exc())"
   ]
  },
  {
   "cell_type": "code",
   "execution_count": null,
   "metadata": {},
   "outputs": [],
   "source": [
    "# bond objects also are dictionary-like classes which store information about bond order\n",
    "b = m1.bond(3, 4)\n",
    "\n",
    "b.order\n",
    "#\n",
    "b['order']"
   ]
  },
  {
   "cell_type": "code",
   "execution_count": null,
   "metadata": {},
   "outputs": [],
   "source": [
    "b.order = 1 # order change also possible\n",
    "# or\n",
    "b['order'] = 1"
   ]
  },
  {
   "cell_type": "code",
   "execution_count": null,
   "metadata": {},
   "outputs": [],
   "source": [
    "m1.flush_cache() #after flushing cashe one could see molecule with changes\n",
    "m1"
   ]
  },
  {
   "cell_type": "code",
   "execution_count": null,
   "metadata": {
    "scrolled": true
   },
   "outputs": [],
   "source": [
    "try:\n",
    "    b['order'] = 0 # error raises. Bond order 0 is invalid. To delete bond use method described below\n",
    "except ValueError:\n",
    "    print(format_exc())"
   ]
  },
  {
   "cell_type": "markdown",
   "metadata": {},
   "source": [
    "One should to use `delete_bond` method to break bond"
   ]
  },
  {
   "cell_type": "code",
   "execution_count": null,
   "metadata": {},
   "outputs": [],
   "source": [
    "m1.delete_bond(3, 4)\n",
    "m1                    #Note that cashe flushing is not required here."
   ]
  },
  {
   "cell_type": "markdown",
   "metadata": {},
   "source": [
    "Method `delete_atom` removes atom from the molecule"
   ]
  },
  {
   "cell_type": "code",
   "execution_count": null,
   "metadata": {},
   "outputs": [],
   "source": [
    "m1.delete_atom(3)\n",
    "m1"
   ]
  },
  {
   "cell_type": "code",
   "execution_count": null,
   "metadata": {},
   "outputs": [],
   "source": [
    "m_copy # copy unchanged!"
   ]
  },
  {
   "cell_type": "markdown",
   "metadata": {},
   "source": [
    "*Atoms* and *bonds* objects can be converted into integer representation that could be used to classify their types.\n",
    "\n",
    "*Atom* type is represented by 21 bit code rounded to 32 bit integer number:\n",
    "\n",
    "* 7 bits stand for atom number (2 ** 7 - 1 == 127, currently 118 elements are presented in Periodic Table)\n",
    "* 9 bits are used for isotope (511 posibilities, highest known isotope is ~300)\n",
    "* 3 bits stand for formal charge. Charges range from -3 to +3 rescaled to range 0-6\n",
    "* 2 bits are used for multiplicity."
   ]
  },
  {
   "cell_type": "code",
   "execution_count": null,
   "metadata": {},
   "outputs": [],
   "source": [
    "int(a)\n",
    "# 131596 == 0001000 000010000 011 00\n",
    "# 0001000 == 8 Oxygen\n",
    "# 000010000 == 16 isotope\n",
    "# 011 == 3 (3 - 3 = 0) uncharged\n",
    "# 00 == 0 hasn't multiplicity"
   ]
  },
  {
   "cell_type": "code",
   "execution_count": null,
   "metadata": {},
   "outputs": [],
   "source": [
    "int(b)  # bonds are encoded by their order"
   ]
  },
  {
   "cell_type": "code",
   "execution_count": null,
   "metadata": {},
   "outputs": [],
   "source": [
    "print(m1.atom_implicit_h(1)) # get number of implicit hydrogens on atom 1\n",
    "print(m1.atom_explicit_h(1)) # get number of explicit hydrogens on atom 1\n",
    "print(m1.atom_total_h(1)) # get total number of hydrogens on atom 1"
   ]
  },
  {
   "cell_type": "code",
   "execution_count": null,
   "metadata": {},
   "outputs": [],
   "source": [
    "m1"
   ]
  },
  {
   "cell_type": "code",
   "execution_count": null,
   "metadata": {},
   "outputs": [],
   "source": [
    "m1.check_valence() # return list of numbers of atoms with invalid valences"
   ]
  },
  {
   "cell_type": "code",
   "execution_count": null,
   "metadata": {},
   "outputs": [],
   "source": [
    "m4 # molecule with valence errors"
   ]
  },
  {
   "cell_type": "code",
   "execution_count": null,
   "metadata": {},
   "outputs": [],
   "source": [
    "m4.check_valence() "
   ]
  },
  {
   "cell_type": "code",
   "execution_count": null,
   "metadata": {},
   "outputs": [],
   "source": [
    "m3"
   ]
  },
  {
   "cell_type": "code",
   "execution_count": null,
   "metadata": {},
   "outputs": [],
   "source": [
    "m3.sssr # Method for application of Smallest Set of Smallest Rings algorithm for rings \n",
    "        # identification. Returns list of lists of atoms forming smallest rings"
   ]
  },
  {
   "cell_type": "markdown",
   "metadata": {},
   "source": [
    "#### Connected components.\n",
    "Sometimes molecules has disconnected components (salts etc).\n",
    "\n",
    "One can find them and split molecule to separate components."
   ]
  },
  {
   "cell_type": "code",
   "execution_count": null,
   "metadata": {
    "scrolled": true
   },
   "outputs": [],
   "source": [
    "m2 # it's a salt represented as one graph"
   ]
  },
  {
   "cell_type": "code",
   "execution_count": null,
   "metadata": {},
   "outputs": [],
   "source": [
    "m2.connected_components # list of lists of atoms belonging to graph components"
   ]
  },
  {
   "cell_type": "code",
   "execution_count": null,
   "metadata": {},
   "outputs": [],
   "source": [
    "anion, cation = m2.split() # split molecule to components"
   ]
  },
  {
   "cell_type": "code",
   "execution_count": null,
   "metadata": {},
   "outputs": [],
   "source": [
    "anion # graph of only one salt component"
   ]
  },
  {
   "cell_type": "code",
   "execution_count": null,
   "metadata": {},
   "outputs": [],
   "source": [
    "cation # graph of only one salt component"
   ]
  },
  {
   "cell_type": "markdown",
   "metadata": {},
   "source": [
    "#### Union of molecules\n",
    "Sometimes it is more convenient to represent salts as ion pair. Otherwise ambiguity could be introduced, for example in reaction of salt exchange:\n",
    "\n",
    "**Ag+** + **NO3-** + **Na+** + **Br-** = **Ag+** + **Br-** + **Na+** + **NO3-**. Reactants and products sets are the same. \n",
    "\n",
    "In this case one can combine anion-cation pair into single graph. It could be convenient way to represent other molecule mixtures."
   ]
  },
  {
   "cell_type": "code",
   "execution_count": null,
   "metadata": {},
   "outputs": [],
   "source": [
    "salt = anion | cation \n",
    "\n",
    "# or \n",
    "\n",
    "anion.union(cation)\n",
    "\n",
    "salt # this graph has disconnected components, it is considered single compound now"
   ]
  },
  {
   "cell_type": "markdown",
   "metadata": {},
   "source": [
    "#### Substructures could be extracted from molecules.\n",
    "\n",
    "By default, returned substructures are read-only projections of original molecule (except attributes of atoms/bonds). \n",
    "\n",
    "Changes in original molecule (bond breaking/formation, atom insertion/deletion, atom/bond attributes changes) will be mirrored in projection.  \n",
    "\n",
    "Projections share the same neighbors and hybridization attributes as in initial molecule even if could be wrong for substructure "
   ]
  },
  {
   "cell_type": "code",
   "execution_count": null,
   "metadata": {},
   "outputs": [],
   "source": [
    "proj = m3.substructure([4,5,6,7,8,9])  # projection of substructure\n",
    "proj"
   ]
  },
  {
   "cell_type": "code",
   "execution_count": null,
   "metadata": {},
   "outputs": [],
   "source": [
    "m3.atom(4).neighbors "
   ]
  },
  {
   "cell_type": "code",
   "execution_count": null,
   "metadata": {},
   "outputs": [],
   "source": [
    "proj.atom(4).neighbors # same as in original molecule and not as it should be in substructure"
   ]
  },
  {
   "cell_type": "code",
   "execution_count": null,
   "metadata": {},
   "outputs": [],
   "source": [
    "from networkx.exception import NetworkXError\n",
    "try:\n",
    "    proj.reset_query_marks() # change of structure for projections is blocked\n",
    "except NetworkXError:\n",
    "    print(format_exc())"
   ]
  },
  {
   "cell_type": "code",
   "execution_count": null,
   "metadata": {},
   "outputs": [],
   "source": [
    "benzene = m3.substructure([4,5,6,7,8,9], as_view=False) # Substructure could be extracted as isolated graph (not projection)\n",
    "benzene"
   ]
  },
  {
   "cell_type": "code",
   "execution_count": null,
   "metadata": {},
   "outputs": [],
   "source": [
    "benzene.atom(4).neighbors is None # empty attribute. Substructure is a new molecule here. We need to call reset_query_marks"
   ]
  },
  {
   "cell_type": "code",
   "execution_count": null,
   "metadata": {},
   "outputs": [],
   "source": [
    "benzene.reset_query_marks()"
   ]
  },
  {
   "cell_type": "code",
   "execution_count": null,
   "metadata": {},
   "outputs": [],
   "source": [
    "benzene.atom(4).neighbors # now number of neighbors for atom 4 is 2. It is not 3 as above where projection was used."
   ]
  },
  {
   "cell_type": "markdown",
   "metadata": {},
   "source": [
    "Note:\n",
    "\n",
    "* Projection of projection also projection of original molecule\n",
    "* Projection can be converted to isolated molecule by calling method copy()"
   ]
  },
  {
   "cell_type": "code",
   "execution_count": null,
   "metadata": {},
   "outputs": [],
   "source": [
    "proj_copy = proj.copy() # turning projection into molecule using \"copy\" method\n",
    "proj_copy"
   ]
  },
  {
   "cell_type": "code",
   "execution_count": null,
   "metadata": {},
   "outputs": [],
   "source": [
    "proj_copy.reset_query_marks() # This not a projection any more but a new molecule"
   ]
  },
  {
   "cell_type": "markdown",
   "metadata": {},
   "source": [
    "Changes in projection are mirrored. See example:"
   ]
  },
  {
   "cell_type": "code",
   "execution_count": null,
   "metadata": {},
   "outputs": [],
   "source": [
    "m3.delete_bond(4, 5) # we've deleted bond\n",
    "m3"
   ]
  },
  {
   "cell_type": "code",
   "execution_count": null,
   "metadata": {},
   "outputs": [],
   "source": [
    "proj.flush_cache() # remove cached image. Note that in projection the bond is also deleted.\n",
    "proj"
   ]
  },
  {
   "cell_type": "markdown",
   "metadata": {},
   "source": [
    "`augmented_substructure` is a substructure consisting from atoms and a given number of shells of neighboring atoms around it.\n",
    "**deep** argument is a number of considered shells. \n",
    "\n",
    "It also returns projection by default."
   ]
  },
  {
   "cell_type": "code",
   "execution_count": null,
   "metadata": {},
   "outputs": [],
   "source": [
    "aug = m3.augmented_substructure([10], deep=2) #  atom 10 is Nitrogen\n",
    "aug"
   ]
  },
  {
   "cell_type": "code",
   "execution_count": null,
   "metadata": {},
   "outputs": [],
   "source": [
    "aug.atom(10).hybridization #atom has two incident double bond."
   ]
  },
  {
   "cell_type": "markdown",
   "metadata": {},
   "source": [
    "#### Atoms Ordering.\n",
    "This functionality is used for canonic numbering of atoms in molecules. Prime number multiplication based Morgan algorithm is used for atom ranking. Property `atoms_order` returns dictionary of atom numbers as keys and their ranks according to canonicalization as values. Equal rank mean that atoms are symmetric (are mapped to each other in automorhisms). In present version, instead of sequential ranks prime numbers are returned.\n"
   ]
  },
  {
   "cell_type": "code",
   "execution_count": null,
   "metadata": {},
   "outputs": [],
   "source": [
    "m5.atoms_order"
   ]
  },
  {
   "cell_type": "markdown",
   "metadata": {},
   "source": [
    "#### Atom number can be changed by `remap` method.\n",
    "\n",
    "This method is useful when it is needed to change order of atoms in molecules. First argument to `remap` method is dictionary with existing atom numbers as keys and desired atom number as values. It is possible to change atom numbers for only part of atoms. Atom numbers could be non-sequencial but need to be unique. \n",
    "\n",
    "If argument *copy* is set ***True*** new object will be created, else existing molecule will be changed. Default is ***False***. "
   ]
  },
  {
   "cell_type": "code",
   "execution_count": null,
   "metadata": {},
   "outputs": [],
   "source": [
    "for n, a in m5.atoms():\n",
    "    print(n, a.element)\n",
    "for n, m, b in m5.bonds():\n",
    "    print(m, n, b.order)"
   ]
  },
  {
   "cell_type": "code",
   "execution_count": null,
   "metadata": {},
   "outputs": [],
   "source": [
    "remapped = m5.remap({4:2}, copy=True)\n",
    "remapped"
   ]
  },
  {
   "cell_type": "code",
   "execution_count": null,
   "metadata": {},
   "outputs": [],
   "source": [
    "for n, a in remapped.atoms():\n",
    "    print(n, a.element)\n",
    "for n, m, b in remapped.bonds():\n",
    "    print(m, n, b.order)"
   ]
  },
  {
   "cell_type": "markdown",
   "metadata": {},
   "source": [
    "## 1.2. ReactionContainer\n",
    "\n",
    "*ReactionContainer* objects has the following properties:\n",
    "\n",
    "* **reactants** - list of reactants molecules\n",
    "* **reagents** - list of reagents molecules\n",
    "* **products** - list of products molecules\n",
    "* **meta** - dictinary of reaction metadata (DTYPE/DATUM block in RDF)"
   ]
  },
  {
   "cell_type": "code",
   "execution_count": null,
   "metadata": {},
   "outputs": [],
   "source": [
    "r1 # depiction supported"
   ]
  },
  {
   "cell_type": "code",
   "execution_count": null,
   "metadata": {
    "scrolled": true
   },
   "outputs": [],
   "source": [
    "r1.meta"
   ]
  },
  {
   "cell_type": "code",
   "execution_count": null,
   "metadata": {},
   "outputs": [],
   "source": [
    "print(r1.reactants, r1.products)  # Access to lists of reactant and products. Molecules' signatures are returned by print() method.\n",
    "reactant1, reactant2, reactant3 = r1.reactants\n",
    "product = r1.products[0]"
   ]
  },
  {
   "cell_type": "markdown",
   "metadata": {},
   "source": [
    "Reactions also has `standardize`, `aromatize`, `reset_query_marks`, `implicify_hydrogens` and `explicify_hydrogens` methods (see part 3). These methods are applied independently to every molecule in reaction."
   ]
  },
  {
   "cell_type": "markdown",
   "metadata": {},
   "source": [
    "## 1.3. CGR\n",
    "*CGRContainer* object is similar to *MoleculeConrtainer*, except some methods. The following methods are not suppoted for *CGRContainer*:\n",
    "\n",
    "* aromatize\n",
    "* standardize\n",
    "* implicify_hydrogens\n",
    "* explicify_hydrogens\n",
    "* atom_implicit_h\n",
    "* atom_explicit_h\n",
    "* atom_total_h\n",
    "* check_valence\n",
    "\n",
    "*CGRContainer* also has some methods absent in *MoleculeConrtainer*:\n",
    "\n",
    "* centers_list\n",
    "* center_atoms\n",
    "* center_bonds\n",
    "\n",
    "*CGRContainer* is undirected graph. Atoms and bonds in CGR has two states: reactant and product."
   ]
  },
  {
   "cell_type": "markdown",
   "metadata": {},
   "source": [
    "#### Composing to CGR\n",
    "\n",
    "As mentioned above, atoms in *MoleculeContainer* have unique numbers. These numbers are used as atom-to-atom mapping in CGRtools upon CGR creation. Thus, atom order for molecules in reaction should correspond to atom-to-atom mapping.  \n",
    "\n",
    "Pair of molecules can be transformed into CGR. Notice that, the same atom numbers in reagents and products imply the same atoms.\n",
    "\n",
    "Reaction also can be composed into CGR. Atom numbers of molecules in reaction are used as atom-to-atom mapping of reactants to products."
   ]
  },
  {
   "cell_type": "code",
   "execution_count": null,
   "metadata": {},
   "outputs": [],
   "source": [
    "cgr1 = m7 ^ m8 # CGR from molecules\n",
    "# or \n",
    "m7.compose(m8)\n",
    "\n",
    "print(cgr1)  # CGRcontainer object currently doesn't support depiction. CGR signature is printed out."
   ]
  },
  {
   "cell_type": "markdown",
   "metadata": {},
   "source": [
    "This is CGR (depiction is made by ChemAxon externally). You can see changed bonds connected to ring.\n",
    "![cgr1.png](cgr1.png)"
   ]
  },
  {
   "cell_type": "code",
   "execution_count": null,
   "metadata": {},
   "outputs": [],
   "source": [
    "r1"
   ]
  },
  {
   "cell_type": "code",
   "execution_count": null,
   "metadata": {},
   "outputs": [],
   "source": [
    "cgr2 = ~r1 # CGR from reactions\n",
    "\n",
    "# or \n",
    "\n",
    "r1.compose()\n",
    "print(cgr2) # signature is printed out. "
   ]
  },
  {
   "cell_type": "markdown",
   "metadata": {},
   "source": [
    "It is CGR for reaction (depiction is made by ChemAxon externally).\n",
    "![cgr2.png](cgr2.png)"
   ]
  },
  {
   "cell_type": "code",
   "execution_count": null,
   "metadata": {},
   "outputs": [],
   "source": [
    "cgr2.reset_query_marks() # CGRs also has reset_query_marks method"
   ]
  },
  {
   "cell_type": "code",
   "execution_count": null,
   "metadata": {},
   "outputs": [],
   "source": [
    "a = cgr2.atom(2) # atom access is the same as for MoleculeContainer"
   ]
  },
  {
   "cell_type": "code",
   "execution_count": null,
   "metadata": {},
   "outputs": [],
   "source": [
    "a.element # element attribute\n",
    "\n",
    "# or \n",
    "\n",
    "a['element']"
   ]
  },
  {
   "cell_type": "code",
   "execution_count": null,
   "metadata": {},
   "outputs": [],
   "source": [
    "a.isotope # isotope attribute\n",
    "\n",
    "# or \n",
    "\n",
    "a['isotope']"
   ]
  },
  {
   "cell_type": "markdown",
   "metadata": {},
   "source": [
    "For *CGRContainer* attributes `charge`, `multiplicity`, `x`, `y`, `z`, `neighbors` and `hybridization` refer to atom state in reactant of reaction;  arguments `p_charge`, `p_multiplicity`, `p_x`, `p_y`, `p_z`, `p_neighbors` and `p_hybridization` could be used to extract atom state in product part in reaction."
   ]
  },
  {
   "cell_type": "code",
   "execution_count": null,
   "metadata": {},
   "outputs": [],
   "source": [
    "a.charge # charge of atom in reactant\n",
    "\n",
    "# or \n",
    "\n",
    "a['charge']"
   ]
  },
  {
   "cell_type": "code",
   "execution_count": null,
   "metadata": {},
   "outputs": [],
   "source": [
    "a.p_charge # charge of atom in product\n",
    "\n",
    "#or \n",
    "\n",
    "a['p_charge']"
   ]
  },
  {
   "cell_type": "code",
   "execution_count": null,
   "metadata": {},
   "outputs": [],
   "source": [
    "a.p_multiplicity # multiplicity of atom in product. It is None and thus not returned"
   ]
  },
  {
   "cell_type": "code",
   "execution_count": null,
   "metadata": {},
   "outputs": [],
   "source": [
    "a.p_x  # coordinates of atom in product\n",
    "a.p_y\n",
    "a.p_z"
   ]
  },
  {
   "cell_type": "code",
   "execution_count": null,
   "metadata": {},
   "outputs": [],
   "source": [
    "a.neighbors # number of neighbors of atom in reactant"
   ]
  },
  {
   "cell_type": "code",
   "execution_count": null,
   "metadata": {},
   "outputs": [],
   "source": [
    "a.p_neighbors # number of neighbors of atom in product"
   ]
  },
  {
   "cell_type": "code",
   "execution_count": null,
   "metadata": {},
   "outputs": [],
   "source": [
    "a.hybridization # hybridization of atom in reactant. 1 means only single bonds are incident to atom"
   ]
  },
  {
   "cell_type": "code",
   "execution_count": null,
   "metadata": {},
   "outputs": [],
   "source": [
    "a.p_hybridization # hybridization of atom in product. 1 means only single bonds are incident to atom"
   ]
  },
  {
   "cell_type": "code",
   "execution_count": null,
   "metadata": {},
   "outputs": [],
   "source": [
    "b = cgr1.bond(4, 10) # take bond"
   ]
  },
  {
   "cell_type": "markdown",
   "metadata": {},
   "source": [
    "#### Bonds has `order` and `p_order` attribute\n",
    "If `order` attribute value is ***None***, it means that bond was formed  \n",
    "If `p_order` is ***None***, it means that bond was broken  \n",
    "\n",
    "Both `order` and `p_order` can't be ***None***"
   ]
  },
  {
   "cell_type": "code",
   "execution_count": null,
   "metadata": {},
   "outputs": [],
   "source": [
    "b.order # bond order in reactant"
   ]
  },
  {
   "cell_type": "code",
   "execution_count": null,
   "metadata": {},
   "outputs": [],
   "source": [
    "b.p_order is None # bond order in product in None"
   ]
  },
  {
   "cell_type": "markdown",
   "metadata": {},
   "source": [
    "**CGR can be decomposed back to reaction**, i.e. reactants and products.\n",
    "\n",
    "Notice that CGR can lose information in case of unbalanced reactions (where some atoms of reactant does not have counterpart in product, and vice versa). Decomposition of CGRs for unbalanced reactions back to reaction may lead to strange (and erroneous) structures."
   ]
  },
  {
   "cell_type": "code",
   "execution_count": null,
   "metadata": {},
   "outputs": [],
   "source": [
    "reactant_part, product_part = ~cgr1 # CGR of unbalanced reaction is decomposed back into reaction\n",
    "# or \n",
    "cgr1.decompose() "
   ]
  },
  {
   "cell_type": "code",
   "execution_count": null,
   "metadata": {},
   "outputs": [],
   "source": [
    "reactant_part # reactants extracted. One can notice it is initial molecule"
   ]
  },
  {
   "cell_type": "code",
   "execution_count": null,
   "metadata": {},
   "outputs": [],
   "source": [
    "product_part #extracted products. Originally benzene was the product."
   ]
  },
  {
   "cell_type": "markdown",
   "metadata": {},
   "source": [
    "For decomposition of *CGRContainer* back into *ReactionContainer* `CGRpreparer` class can be used. `CGRpreparer` is callable object"
   ]
  },
  {
   "cell_type": "code",
   "execution_count": null,
   "metadata": {},
   "outputs": [],
   "source": [
    "from CGRtools import CGRpreparer # import of CGRpreparer\n",
    "preparer = CGRpreparer()         # initialization of CGRpreparer"
   ]
  },
  {
   "cell_type": "code",
   "execution_count": null,
   "metadata": {},
   "outputs": [],
   "source": [
    "decomposed = preparer.decompose(cgr2) # decomposition of CGR2 into reaction"
   ]
  },
  {
   "cell_type": "code",
   "execution_count": null,
   "metadata": {},
   "outputs": [],
   "source": [
    "decomposed # You can see that water absent in products initially was restored. \n",
    "# This is a side-effect of CGR decomposing that could help with reaction balancing. \n",
    "# But balancing using CGR decomposition works correctly only if minor part atoms are lost \n",
    "# but multiplicity and formal charge are saved. In next release electronic state balansing will be added."
   ]
  },
  {
   "cell_type": "code",
   "execution_count": null,
   "metadata": {},
   "outputs": [],
   "source": [
    "r1 # compare with initial reaction"
   ]
  },
  {
   "cell_type": "markdown",
   "metadata": {},
   "source": [
    "## 1.4 Queries\n",
    "\n",
    "CGRtools supports special objects for Queries. Queries are designed for substructure isomorphism. User can set number of neighbors and hybridization by himself (in molecules they could be calculated but could not be changed).\n",
    "\n",
    "Queries don't have `reset_query_marks` method"
   ]
  },
  {
   "cell_type": "code",
   "execution_count": null,
   "metadata": {},
   "outputs": [],
   "source": [
    "from CGRtools.containers import*"
   ]
  },
  {
   "cell_type": "code",
   "execution_count": null,
   "metadata": {},
   "outputs": [],
   "source": [
    "m10.reset_query_marks()\n",
    "m10 # ether"
   ]
  },
  {
   "cell_type": "code",
   "execution_count": null,
   "metadata": {
    "scrolled": true
   },
   "outputs": [],
   "source": [
    "carb = m10.substructure([5,7,8, 2]) # extract projection of carboxyl fragment\n",
    "carb"
   ]
  },
  {
   "cell_type": "code",
   "execution_count": null,
   "metadata": {},
   "outputs": [],
   "source": [
    "q = QueryContainer(carb)  # convert fragment into query\n",
    "print(q) # QueryContainer don't support depiction yet but signatures can be extracted"
   ]
  },
  {
   "cell_type": "markdown",
   "metadata": {},
   "source": [
    "CGRs also can be transformed into Query.\n",
    "\n",
    "`QueryCGRContainer` is similar to QueryContainer class for CGRs and has the same API.\n",
    "\n",
    "`QueryCGRContainer` take into account state of atoms and bonds in reactant and product, including neighbors and hybridization"
   ]
  },
  {
   "cell_type": "code",
   "execution_count": null,
   "metadata": {},
   "outputs": [],
   "source": [
    "cgr1.reset_query_marks()        # cgr1 is CGRContaier its labels could be calculated \n",
    "cgr_q = QueryCGRContainer(cgr1) # transfrom CGRContainer into QueryCGRContainer\n",
    "print(cgr_q)                    # print out signature of query"
   ]
  },
  {
   "cell_type": "markdown",
   "metadata": {},
   "source": [
    "## 1.5. Molecules, CGRs, Reactions construction\n",
    "\n",
    "CGRtools has API for objects construction from scratch.\n",
    "\n",
    "CGR and Molecule has methods `add_atom` and `add_bond` for adding atoms and bonds."
   ]
  },
  {
   "cell_type": "code",
   "execution_count": null,
   "metadata": {},
   "outputs": [],
   "source": [
    "from CGRtools.containers import *"
   ]
  },
  {
   "cell_type": "code",
   "execution_count": null,
   "metadata": {},
   "outputs": [],
   "source": [
    "m = MoleculeContainer() # new empty molecule\n",
    "\n",
    "m.add_atom('C')  # add Carbon atom using element symbol\n",
    "m.add_atom(6)    # add Carbon atom using element number. {'element': 6} is not valid, but {'element': 'O'} is also acceptable\n",
    "m.add_atom({'element': 'O', 'charge': -1}) # add negatively charged Oxygen atom. Similarly other atomic properties can be set\n",
    "\n",
    "# add_atom has second argument for setting atom number. \n",
    "# If not set, the next integer after the biggest among already created will be used.\n",
    "m.add_atom({'element': 'Na', 'charge': 1}, 4)"
   ]
  },
  {
   "cell_type": "code",
   "execution_count": null,
   "metadata": {},
   "outputs": [],
   "source": [
    "m.add_bond(1, 2, 1) # add bond with order = 1 between atoms 1 and 2\n",
    "m.add_bond(3, 2, {'order': 1}) # the other possibility to set bond order"
   ]
  },
  {
   "cell_type": "code",
   "execution_count": null,
   "metadata": {},
   "outputs": [],
   "source": [
    "m.calculate2d() #experimental function to calculate atom coordinates. Has number of flaws yet\n",
    "m"
   ]
  },
  {
   "cell_type": "markdown",
   "metadata": {},
   "source": [
    "Reactions can be constructed from molecules"
   ]
  },
  {
   "cell_type": "code",
   "execution_count": null,
   "metadata": {},
   "outputs": [],
   "source": [
    "r = ReactionContainer() # empty reaction\n",
    "r.reactants.append(m1) # add reactant\n",
    "r.products.append(m11)  # add product\n",
    "# or\n",
    "r = ReactionContainer(reactants=[m1], products=[m11]) # one-step way to construct reaction\n",
    "# or\n",
    "r = ReactionContainer([m1], [m11]) # first list of MoleculeContainers is interpreted as reactants, second one - as products"
   ]
  },
  {
   "cell_type": "code",
   "execution_count": null,
   "metadata": {},
   "outputs": [],
   "source": [
    "r"
   ]
  },
  {
   "cell_type": "code",
   "execution_count": null,
   "metadata": {},
   "outputs": [],
   "source": [
    "# reactants, products, reagents attributes are list-like. \n",
    "r.products.append(m.copy()) # One can add (or remove) molecules directly to this list of products returned by r.products\n",
    "r.flush_cache()"
   ]
  },
  {
   "cell_type": "code",
   "execution_count": null,
   "metadata": {},
   "outputs": [],
   "source": [
    "r # coordinates will left unchanged. Thus depiction could look wrong. "
   ]
  },
  {
   "cell_type": "code",
   "execution_count": null,
   "metadata": {},
   "outputs": [],
   "source": [
    "r.fix_positions() # this method fixes coordinates of molecules in reaction\n",
    "r"
   ]
  },
  {
   "cell_type": "markdown",
   "metadata": {},
   "source": [
    "*QueryContainers* can be constructed in the same way as *MoleculeContainers*.\n",
    "\n",
    "Unlike other containers *QueryContainers* additionally support atoms, neighbors and hybridization lists."
   ]
  },
  {
   "cell_type": "code",
   "execution_count": null,
   "metadata": {},
   "outputs": [],
   "source": [
    "q = QueryContainer() # creation of empty container\n",
    "q.add_atom({'element': ['N', 'O']}) # add atom list: N or O atom, any isotope and multiplicity, neutral, \n",
    "                                    # number of neighbors and hybridization are irrelevant\n",
    "q.add_atom({'element': 'C', 'neighbors': [2, 3]}) # add carbon atom, any isotope and multiplicity, neutral, \n",
    "                                                  # has 2 or 3 non-hydrogen heighbors\n",
    "q.add_atom({'element': 'O'}) # add oxygen atom, any isotope and multiplicity, neutral, \n",
    "                             # number of neighbors and hybridization are irrelevant \n",
    "q.add_bond(1, 2, 1) # add single bond between atom 1 and 2 \n",
    "q.add_bond(2, 3, 2) # add double bond between atom 1 and 2 \n",
    "# any amide or carboxilic group will fit this query"
   ]
  },
  {
   "cell_type": "code",
   "execution_count": null,
   "metadata": {},
   "outputs": [],
   "source": [
    "print(q) # print out signature (SMILES-like)"
   ]
  },
  {
   "cell_type": "markdown",
   "metadata": {},
   "source": [
    "## 1.6. Extending CGRtools\n",
    "\n",
    "You can easily customize CGRtools for your tasks.  \n",
    "CGRtools is OOP-oriented library with subclassing and inheritance support.\n",
    "\n",
    "As an example, we show how special marks on atoms for ligand donor centers can be added."
   ]
  },
  {
   "cell_type": "code",
   "execution_count": null,
   "metadata": {},
   "outputs": [],
   "source": [
    "from CGRtools.containers import MoleculeContainer\n",
    "from CGRtools.attributes import Atom"
   ]
  },
  {
   "cell_type": "code",
   "execution_count": null,
   "metadata": {},
   "outputs": [],
   "source": [
    "class MarkedAtom(Atom):  # this class will inherite Atom class\n",
    "    __slots__ = '__mark' # all new attributes should be slotted!\n",
    "    \n",
    "    def __init__(self, **kwargs):\n",
    "        super().__init__(**kwargs)\n",
    "        self.__mark = None # set default value for added attribute\n",
    "\n",
    "    @property\n",
    "    def mark(self):        # created new property \n",
    "        return self.__mark\n",
    "    \n",
    "    @mark.setter\n",
    "    def mark(self, mark):\n",
    "        # do some checks and calculations\n",
    "        self.__mark = mark\n"
   ]
  },
  {
   "cell_type": "code",
   "execution_count": null,
   "metadata": {},
   "outputs": [],
   "source": [
    "class MarkedMoleculeContainer(MoleculeContainer): # MarkedAtomContainer inherits MoleculeContainer\n",
    "    node_attr_dict_factory = MarkedAtom # override atom container"
   ]
  },
  {
   "cell_type": "code",
   "execution_count": null,
   "metadata": {},
   "outputs": [],
   "source": [
    "m = MarkedMoleculeContainer() # create newly developed container MarkedMoleculeContainer\n",
    "m.add_atom('C')               # add atom C using methods inherited from MoleculeContainer\n",
    "m.add_atom('N')               # add atom N\n",
    "m.add_bond(1, 2, 1)           # add bond\n",
    "\n",
    "m.atom(2)['mark'] = 1  # set mark on atom. In this example dictinary setitem supported but update not."
   ]
  },
  {
   "cell_type": "code",
   "execution_count": null,
   "metadata": {},
   "outputs": [],
   "source": [
    "m.atom(2).mark # one can return mark"
   ]
  },
  {
   "cell_type": "markdown",
   "metadata": {},
   "source": [
    "# 2. Signatures and duplicates selection\n",
    "\n",
    "## 2.1. Molecule Signatures\n",
    "*MoleculeContainer* has methods for unique molecule signature generation.\n",
    "Signature is SMILES string with explicit bonds notation and canonical atoms ordering. For pyroles, signatures does not comply with the SMILES rules.\n",
    "\n",
    "For signature generation one need to call `str` function on MoleculeContainer object.  \n",
    "Fixed length hash of signature could be retrieved by calling `bytes` function on molecule (correspond to SHA 512 bitstring).\n",
    "\n",
    "Order of atoms calculated by Morgan-like algorithm. On initial state for each atoms it's integer code calculated based on its type. All bonds incident to atoms also coded as integers and stored in sorted tuple. Atom code and tuple of it's bonds used for ordering and similar atoms detecting. Ordered atoms rank is replaced with prime numbers from a prime number lookup table. Atoms of the same type with the same bonds types incident to it have equal prime numbers.\n",
    "\n",
    "Prime numbers codes found are used in Morgan algorithm cycle.\n",
    "\n",
    "On each loop for each atom square of its prime number is multiplied to neighboring atoms prime numbers, observed numbers for atoms are ranked and prime numbers are again assigned. Loop is repeated until all atoms will be unique or number of unique atoms will not change in 3 subsequent loops."
   ]
  },
  {
   "cell_type": "code",
   "execution_count": null,
   "metadata": {},
   "outputs": [],
   "source": [
    "ms2 = str(m2)  # get and print signature\n",
    "print(ms2)  \n",
    "# or \n",
    "print(m2)\n",
    "\n",
    "hms2 = bytes(m2)  # get sha512 hash of signature as bytes-string"
   ]
  },
  {
   "cell_type": "markdown",
   "metadata": {},
   "source": [
    "String formatting is supported that is useful for reporting"
   ]
  },
  {
   "cell_type": "code",
   "execution_count": null,
   "metadata": {},
   "outputs": [],
   "source": [
    "print(f'f string {m2}')  # use signature in string formatting\n",
    "print('C-style string %s' % m2)\n",
    "print('format method {}'.format(m2))"
   ]
  },
  {
   "cell_type": "markdown",
   "metadata": {},
   "source": [
    "Number of neighbors and hybridization could be added to signature. Note that in this case they are not readable as SMILES.\n",
    "\n",
    "For MoleculeContainer and ReactionContainer query marks are not included in signatures and not printed by `str` and `print` function. However they could be printed in the following way:  "
   ]
  },
  {
   "cell_type": "code",
   "execution_count": null,
   "metadata": {},
   "outputs": [],
   "source": [
    "m2.reset_query_marks() # calculate hybridization and number of neighbors\n",
    "print(f'{m2:hn}')  # get signatures with hybridization and neighbors data\n",
    "print('{:h}'.format(m2))  # get signature with hybridization only data\n",
    "# h - hybridization marks, n- neighbors marks\n",
    "format(m2, 'n') # include only number of neighbors in signature\n",
    "print(m2)   # notice that neighbors and hybridization are hided, since signatures for molecules does not contain this information."
   ]
  },
  {
   "cell_type": "markdown",
   "metadata": {},
   "source": [
    "Atoms in the signature are represented in the following way: \\[*element_symbol*;*hn*;*charge*;*multiplicity* (if not None)\\]. h mean hybridization, n - number of neighbors. Notation for hybridization is the following:\n",
    "\n",
    "* s - all bonds of atom are single\n",
    "* d - atom has one double bond and others are single\n",
    "* t - atom has one triple or two double bonds and other are single\n",
    "* a - atom is in aromatic ring\n",
    "\n",
    "Examples:\n",
    "s1 - atom has s hybridization and one neighbor  \n",
    "d3 - atom has d hybridization and 3 neighbors  \n",
    "\n",
    "Signatures for QueryContainer and QueryCGRContainer include query marks and are printed by `str` and `print` function. \n",
    "\n",
    "Signatures of projections also supported."
   ]
  },
  {
   "cell_type": "code",
   "execution_count": null,
   "metadata": {},
   "outputs": [],
   "source": [
    "f'{proj:h}'"
   ]
  },
  {
   "cell_type": "markdown",
   "metadata": {},
   "source": [
    "#### Molecules comparable and hashable \n",
    "Comparison of MoleculeContainer is based on its signatures. Moreover, since strings in Python are hashable, MoleculeContaier also hashable.\n",
    "\n",
    "NOTE: MoleculeContainer can be changed. This can lead to unobvious behavior of the sets and dictionaries in which these molecules were placed before the change. Avoid changing molecules (standardize, aromatize, hydrogens and atoms/bonds changes) placed inside sets and dictionaries."
   ]
  },
  {
   "cell_type": "code",
   "execution_count": null,
   "metadata": {},
   "outputs": [],
   "source": [
    "m1 != m2 # different molecules"
   ]
  },
  {
   "cell_type": "code",
   "execution_count": null,
   "metadata": {},
   "outputs": [],
   "source": [
    "m7 == m11 # copy of the same molecule"
   ]
  },
  {
   "cell_type": "code",
   "execution_count": null,
   "metadata": {},
   "outputs": [],
   "source": [
    "m7 is m11  # this is not same objects!"
   ]
  },
  {
   "cell_type": "code",
   "execution_count": null,
   "metadata": {},
   "outputs": [],
   "source": [
    "benzene == proj_copy   # projection extracted benzene structure from molecule and then was transformed in MoleculeContainer"
   ]
  },
  {
   "cell_type": "code",
   "execution_count": null,
   "metadata": {},
   "outputs": [],
   "source": [
    "# Simplest way to exclude duplicated structures\n",
    "len({m1, m2, m7, m11}) == 3 # create set of unique molecules. Only 3 of them were different. "
   ]
  },
  {
   "cell_type": "markdown",
   "metadata": {},
   "source": [
    "## 2.2. Reaction signatures\n",
    "ReactionContainer have its signature. Signature is SMIRKS string in which molecules of reactants, reagents, products presented in canonical order.\n",
    "\n",
    "API is the same as for molecules"
   ]
  },
  {
   "cell_type": "code",
   "execution_count": null,
   "metadata": {},
   "outputs": [],
   "source": [
    "str(r1)"
   ]
  },
  {
   "cell_type": "markdown",
   "metadata": {},
   "source": [
    "## 2.3. CGR signature\n",
    "CGRContainer have its signature. Signatures is SMIRKS-like strings where atoms in reactants and products has same order and split by >> symbol"
   ]
  },
  {
   "cell_type": "code",
   "execution_count": null,
   "metadata": {},
   "outputs": [],
   "source": [
    "str(cgr2)"
   ]
  },
  {
   "cell_type": "markdown",
   "metadata": {},
   "source": [
    "If one align left- and right-hand side of signature, he will see bond order changes.\n",
    "\n",
    "C-C-\\[O-\\].C(=O)(-O)-C(=O)(-O).O-C-C  \n",
    "C-C-O-C(=O)(.O)-C(=O)(.O)-O-C-C\n"
   ]
  },
  {
   "cell_type": "markdown",
   "metadata": {},
   "source": [
    "# 3. Structure standardization\n",
    "\n",
    "## 3.1. Molecules\n",
    "\n",
    "MoleculeContainer has `standardize` and `aromatize` methods.\n",
    "\n",
    "Method `aromatize` transforms Kekule representation of rings into aromatized\n",
    "\n",
    "Method `standardize` applies functional group standardization rules to molecules. The following rules are implemented (corresponding SMARTS are given):\n",
    "\n",
    "    • Aromatic N-Oxide \t[#7;a:1]=[O:2]>>[#7+:1]-[#8-:2]\n",
    "    • Azide \t\t\t[#7;A;X2-:1][N;X2+:2]#[N;X1:3]>>[#7:1]=[N+:2]=[#7-:3]\n",
    "    • Diazo  \t\t\t[#6;X3-:1][N;X2+:2]#[N;X1:3]>>[#6;A:1]=[N+:2]=[#7-:3]\n",
    "    • Diazonium  \t\t[#6]-[#7:1]=[#7+:2]>>[#6][N+:1]#[N:2]\n",
    "    • Iminium  \t\t[#6;X3+:1]-[#7;X3:2]>>[#6;A:1]=[#7+:2]\n",
    "    • Isocyanate  \t\t[#7+:1][#6;A-:2]=[O:3]>>[#7:1]=[C:2]=[O:3]\n",
    "    • Nitrilium  \t\t[#6;A;X2+:1]=[#7;X2:2]>>[C:1]#[N+:2]\n",
    "    • Nitro  \t\t\t[O:3]=[N:1]=[O:2]>>[#8-:2]-[#7+:1]=[O:3]\n",
    "    • Nitrone Nitronate \t[#6;A]=[N:1]=[O:2]>>[#8-:2]-[#7+:1]=[#6;A]\n",
    "    • Nitroso  \t\t[#6]-[#7H2+:1]-[#8;X1-:2]>>[#6]-[#7:1]=[O:2]\n",
    "    • Phosphonic  \t\t[#6][P+:1]([#8;X2])([#8;X2])[#8-:2]>>[#6][P:1]([#8])([#8])=[O:2]\n",
    "    • Phosphonium Ylide  \t[#6][P-:1]([#6])([#6])[#6+:2]>>[#6][P:1]([#6])([#6])=[#6;A:2]\n",
    "    • Selenite  \t\t[#8;X2][Se+:1]([#8;X2])[#8-:2]>>[#8][Se:1]([#8])=[O:2]\n",
    "    • Silicate  \t\t[#8;X2]-[#14+:1](-[#8;X2])-[#8-:2]>>[#8]-[#14:1](-[#8])=[O:2]\n",
    "    • Sulfine  \t\t[#6]-[#6](-[#6])=[S+:1][#8-:2]>>[#6]-[#6](-[#6])=[S:1]=[O:2]\n",
    "    • Sulfon  \t\t\t[#6][S;X3+:1]([#6])[#8-:2]>>[#6][S:1]([#6])=[O:2]\n",
    "    • Sulfonium Ylide  \t[#6][S-:1]([#6])[#6+:2]>>[#6][S:1]([#6])=[#6;A:2]\n",
    "    • Sulfoxide  \t\t[#6][S+:1]([#6])([#8-:2])=O>>[#6][S:1]([#6])(=[O:2])=O\n",
    "    • Sulfoxonium Ylide  \t[#6][S+:1]([#6])([#8-:2])=[#6;A]>>[#6][S:1]([#6])(=[#6;A])=[O:2]\n",
    "    • Tertiary N-Oxide  \t[#6]-[#7;X4:1]=[O:2]>>[#6]-[#7+:1]-[#8-:2]\n"
   ]
  },
  {
   "cell_type": "code",
   "execution_count": null,
   "metadata": {},
   "outputs": [],
   "source": [
    "m12 # molecule with kekulized ring"
   ]
  },
  {
   "cell_type": "code",
   "execution_count": null,
   "metadata": {},
   "outputs": [],
   "source": [
    "m12.aromatize() # aromatizes and returns number of transformed rings"
   ]
  },
  {
   "cell_type": "code",
   "execution_count": null,
   "metadata": {},
   "outputs": [],
   "source": [
    "m12 # cleaned structure. Cache is flushed automatically"
   ]
  },
  {
   "cell_type": "code",
   "execution_count": null,
   "metadata": {},
   "outputs": [],
   "source": [
    "m12.standardize()  # apply standardization. Returns number of transformed groups"
   ]
  },
  {
   "cell_type": "code",
   "execution_count": null,
   "metadata": {},
   "outputs": [],
   "source": [
    "m12"
   ]
  },
  {
   "cell_type": "markdown",
   "metadata": {},
   "source": [
    "Molecules has `explicify_hydrogens` and `implicify_hydrogens` methods to handle hydrogens.\n",
    "\n",
    "This methods is used to add or remove hydrogens in molecule.\n",
    "\n",
    "Note that currently for pyrole-like molecules implicit hydrogens atoms are calculated incorrectly  "
   ]
  },
  {
   "cell_type": "code",
   "execution_count": null,
   "metadata": {},
   "outputs": [],
   "source": [
    "m1.explicify_hydrogens() # return number of added hydrogens"
   ]
  },
  {
   "cell_type": "code",
   "execution_count": null,
   "metadata": {},
   "outputs": [],
   "source": [
    "m1 # for added hydrogen atoms coordinates are not calculated. Thus, it looks like hydrogen has the same position on image"
   ]
  },
  {
   "cell_type": "code",
   "execution_count": null,
   "metadata": {},
   "outputs": [],
   "source": [
    "m1.implicify_hydrogens() # return number of removed Hs"
   ]
  },
  {
   "cell_type": "code",
   "execution_count": null,
   "metadata": {},
   "outputs": [],
   "source": [
    "m1"
   ]
  },
  {
   "cell_type": "markdown",
   "metadata": {},
   "source": [
    "CGRtools has experimental algorithm for 2d geometry calcultaion. It works fine only for small molecules.\n",
    "Algorithm requires `numpy` and `scipy` packages"
   ]
  },
  {
   "cell_type": "code",
   "execution_count": null,
   "metadata": {},
   "outputs": [],
   "source": [
    "m1.explicify_hydrogens() # add explicit hydrogens\n",
    "m1.calculate2d() # experimental force field-based 2d geometry calculation.\n",
    "m1"
   ]
  },
  {
   "cell_type": "markdown",
   "metadata": {},
   "source": [
    "## 3.2. Reactions standardization\n",
    "ReactionContainer has `standardize`, `aromatize`, `explicify_hydrogens` and `implicify_hydrogens` methods that can be applied to reactions. In this case they are applied to all molecules in reaction."
   ]
  },
  {
   "cell_type": "code",
   "execution_count": null,
   "metadata": {},
   "outputs": [],
   "source": [
    "reactions[2]"
   ]
  },
  {
   "cell_type": "code",
   "execution_count": null,
   "metadata": {},
   "outputs": [],
   "source": [
    "reactions[2].standardize()\n",
    "reactions[2].explicify_hydrogens()\n",
    "reactions[2]"
   ]
  },
  {
   "cell_type": "markdown",
   "metadata": {},
   "source": [
    "# 4. Isomorphism\n",
    "\n",
    "## 4.1. Molecules Isomorphism\n",
    "CGRtools has simple substructure/structure isomorphism API. In backend VF2 algorithm from `NetworkX` library is used. \n",
    "\n",
    "Note, that atoms are matched in subgraph isomorphism only if they have same charge/multiplicity and isotope options."
   ]
  },
  {
   "cell_type": "code",
   "execution_count": null,
   "metadata": {},
   "outputs": [],
   "source": [
    "m7"
   ]
  },
  {
   "cell_type": "code",
   "execution_count": null,
   "metadata": {},
   "outputs": [],
   "source": [
    "m8"
   ]
  },
  {
   "cell_type": "code",
   "execution_count": null,
   "metadata": {},
   "outputs": [],
   "source": [
    "benzene.standardize()\n",
    "benzene"
   ]
  },
  {
   "cell_type": "code",
   "execution_count": null,
   "metadata": {},
   "outputs": [],
   "source": [
    "# isomorphism operations\n",
    "print(benzene < m7)  # benzene is substructure of m7\n",
    "print(benzene > m7)  # benzene is not superstructure of m7\n",
    "print(benzene <= m7) # benzene is substructure/or same structure of m7\n",
    "print(benzene >= m7) # benzene is not superstructure/or same structure of m7\n",
    "print(benzene < m8) # benzene is not substructure of m8. it's equal\n",
    "print(benzene <= m8)"
   ]
  },
  {
   "cell_type": "code",
   "execution_count": null,
   "metadata": {},
   "outputs": [],
   "source": [
    "m5"
   ]
  },
  {
   "cell_type": "code",
   "execution_count": null,
   "metadata": {},
   "outputs": [],
   "source": [
    "m6"
   ]
  },
  {
   "cell_type": "markdown",
   "metadata": {},
   "source": [
    "Mappings of substructure to structure can be returned using `substructure.get_substructure_mapping(structure, limit=1)` method. Argument *limit* is the number of mappings that one wants to be returned, *limit=0* means to return all possible mappings. Method acts as generator.\n",
    "\n",
    "To get mapping upon structure search `structure1.get_mapping(structure2)` method was developed. It returns only one possible mapping of all atoms for two isomorphic molecules. This functionality was developed to reorder atoms of two MoleculeContainers in the same order (the dictionary that is given by this method could be directly fed to `remap` function, see above) for some reaction handling issues. If molecules are isomorphic it works faster than `get_substructure_mapping`."
   ]
  },
  {
   "cell_type": "code",
   "execution_count": null,
   "metadata": {},
   "outputs": [],
   "source": [
    "m5.get_substructure_mapping(m6)  # mapping of m5 substructure into m2 superstructure"
   ]
  },
  {
   "cell_type": "code",
   "execution_count": null,
   "metadata": {},
   "outputs": [],
   "source": [
    "for m in m5.get_substructure_mapping(m6, limit=0):  # iterate over all possible substructure mappings\n",
    "    print(m)"
   ]
  },
  {
   "cell_type": "code",
   "execution_count": null,
   "metadata": {},
   "outputs": [],
   "source": [
    "benzene.get_mapping(m8)  # mapping of benzene into m8 - also benzene."
   ]
  },
  {
   "cell_type": "markdown",
   "metadata": {},
   "source": [
    "## 4.2. Reactions\n",
    "ReactionContainers do not support isomorphism due to ambiguity. But molecules in reaction can be matched."
   ]
  },
  {
   "cell_type": "code",
   "execution_count": null,
   "metadata": {},
   "outputs": [],
   "source": [
    "try:            # it is not possible to match molecule and reaction. Error is returned\n",
    "    m6 < r1\n",
    "except TypeError:\n",
    "    print(format_exc())"
   ]
  },
  {
   "cell_type": "code",
   "execution_count": null,
   "metadata": {},
   "outputs": [],
   "source": [
    "r1.products[0] # see structure in products"
   ]
  },
  {
   "cell_type": "code",
   "execution_count": null,
   "metadata": {},
   "outputs": [],
   "source": [
    "m6 # substructure used. One can see, they should not match"
   ]
  },
  {
   "cell_type": "code",
   "execution_count": null,
   "metadata": {},
   "outputs": [],
   "source": [
    "any(m6 < m for m in r1.products) # check if any molecule from product side has m6 as substructure"
   ]
  },
  {
   "cell_type": "markdown",
   "metadata": {},
   "source": [
    "## 4.3 CGR\n",
    "Substructure search is possible with CGRContainer. API is the same as for molecules.\n",
    "\n",
    "Matching CGR into CGR and molecule into CGR is possible. **Note that only conventional bonds in CGR could match moleculear bonds.** \n",
    "\n",
    "Equal atoms in isomorphism is atoms with same charge/multiplicity and isotope numbers in reactant and product states"
   ]
  },
  {
   "cell_type": "code",
   "execution_count": null,
   "metadata": {},
   "outputs": [],
   "source": [
    "decomposed1 = preparer.decompose(cgr1) # let's have a look at reaction corresponding to cgr1\n",
    "decomposed1"
   ]
  },
  {
   "cell_type": "code",
   "execution_count": null,
   "metadata": {},
   "outputs": [],
   "source": [
    "m8 # this's the substructure we are looking for"
   ]
  },
  {
   "cell_type": "code",
   "execution_count": null,
   "metadata": {},
   "outputs": [],
   "source": [
    "m8 < cgr1"
   ]
  },
  {
   "cell_type": "code",
   "execution_count": null,
   "metadata": {},
   "outputs": [],
   "source": [
    "cgr1 <= cgr1"
   ]
  },
  {
   "cell_type": "markdown",
   "metadata": {},
   "source": [
    "## 4.4 Queries"
   ]
  },
  {
   "cell_type": "code",
   "execution_count": null,
   "metadata": {},
   "outputs": [],
   "source": [
    "# to use QueryContainers neighbors and hybridization for molecules need to be calculated\n",
    "m9.reset_query_marks()\n",
    "m10.reset_query_marks()"
   ]
  },
  {
   "cell_type": "code",
   "execution_count": null,
   "metadata": {},
   "outputs": [],
   "source": [
    "m9 # acid"
   ]
  },
  {
   "cell_type": "code",
   "execution_count": null,
   "metadata": {},
   "outputs": [],
   "source": [
    "m10 # ether"
   ]
  },
  {
   "cell_type": "code",
   "execution_count": null,
   "metadata": {},
   "outputs": [],
   "source": [
    "carb"
   ]
  },
  {
   "cell_type": "code",
   "execution_count": null,
   "metadata": {},
   "outputs": [],
   "source": [
    "print('m9:', f'{m9:hn}') # all labels were calculated\n",
    "print('m10:', f'{m10:hn}')\n",
    "print('carb:', f'{carb:hn}') # notice that one of oxygen atom has 2 neighbors. Only ester could fit this restriction."
   ]
  },
  {
   "cell_type": "markdown",
   "metadata": {},
   "source": [
    "Molecules isomorphism don't take into account neighbors and hybridization"
   ]
  },
  {
   "cell_type": "code",
   "execution_count": null,
   "metadata": {},
   "outputs": [],
   "source": [
    "carb < m9 # carb currently is molecule projection. It fit this molecule as well."
   ]
  },
  {
   "cell_type": "code",
   "execution_count": null,
   "metadata": {},
   "outputs": [],
   "source": [
    "carb < m10 # carb is a substructure of m10 "
   ]
  },
  {
   "cell_type": "markdown",
   "metadata": {},
   "source": [
    "One need to convert molecule (or it's projection) into QueryContainer object. In this case number of neighbors and hybridization data will be taken into account upon substructure search.\n",
    "\n",
    "API of isomorphism is the same."
   ]
  },
  {
   "cell_type": "code",
   "execution_count": null,
   "metadata": {},
   "outputs": [],
   "source": [
    "q = QueryContainer(carb)  # convert molecule into query\n",
    "print(q)     # now one can see that in signature of QueryContainer. See that one of oxygen has 2 neighbors."
   ]
  },
  {
   "cell_type": "code",
   "execution_count": null,
   "metadata": {},
   "outputs": [],
   "source": [
    "q < m9 # now neighbors and hybridization are taken into account.  "
   ]
  },
  {
   "cell_type": "markdown",
   "metadata": {},
   "source": [
    "Acid m9 has hydroxyl group with one non-hydrogen neighbor. Our query requires existence of one oxygen atom with two non-hydrogen neighbors.\n"
   ]
  },
  {
   "cell_type": "code",
   "execution_count": null,
   "metadata": {},
   "outputs": [],
   "source": [
    "q < m10 # ester matches to query."
   ]
  },
  {
   "cell_type": "code",
   "execution_count": null,
   "metadata": {},
   "outputs": [],
   "source": [
    "m2.reset_query_marks()\n",
    "m2"
   ]
  },
  {
   "cell_type": "code",
   "execution_count": null,
   "metadata": {},
   "outputs": [],
   "source": [
    "q < m2 # this molecule does q as substructure as well. It is acid."
   ]
  },
  {
   "cell_type": "markdown",
   "metadata": {},
   "source": [
    "# 5. Transformation rules extraction\n",
    "CGRtools can be used to generate molecules and reactions based on a given transformation rule.\n",
    "\n",
    "**How to extract transformation rule**"
   ]
  },
  {
   "cell_type": "code",
   "execution_count": null,
   "metadata": {},
   "outputs": [],
   "source": [
    "cgr1.center_atoms # list of atom numbers of reaction center. If several centers exist they will also be added to this list."
   ]
  },
  {
   "cell_type": "code",
   "execution_count": null,
   "metadata": {},
   "outputs": [],
   "source": [
    "cgr1.center_bonds # list of dynamic bonds as tuples of adjacent atom numbers"
   ]
  },
  {
   "cell_type": "code",
   "execution_count": null,
   "metadata": {},
   "outputs": [],
   "source": [
    "cgr1.centers_list # list of lists of atom numbers belonging to each reaction center. \n",
    "                  # Distant reaction centers will be split into separate lists"
   ]
  },
  {
   "cell_type": "code",
   "execution_count": null,
   "metadata": {},
   "outputs": [],
   "source": [
    "rc1 = cgr1.substructure([13, 7]) # get reaction center from CGR\n",
    "format(rc1, 'hn')               # Notice that query marks are set."
   ]
  },
  {
   "cell_type": "markdown",
   "metadata": {},
   "source": [
    "rc1 is phenol reduction, phenol is transformed into unsubstituted benzene:\n",
    "\n",
    "* \\[C;a3;\\]-aromatic carbon with 3 neighbors\n",
    "* \\[O;s1;\\]-oxygen with 1 neighbor\n",
    "* \\[C;a2;\\]-carbon with 2 neighbors\n",
    "* \\[O;s0;\\]-oxygen without neighbors (water). It probably appears since initial reaction was unbalanced."
   ]
  },
  {
   "cell_type": "code",
   "execution_count": null,
   "metadata": {},
   "outputs": [],
   "source": [
    "rule = QueryCGRContainer(rc1) # transform reaction into query to take query "
   ]
  },
  {
   "cell_type": "code",
   "execution_count": null,
   "metadata": {},
   "outputs": [],
   "source": [
    "print(rule) # all query marks are on their place. Without them generation will be too unrestrictive. \n",
    "            # If needed CGRtools could be used to include atomic environment, etc..."
   ]
  },
  {
   "cell_type": "markdown",
   "metadata": {},
   "source": [
    "# 6. Reactor\n",
    "\n",
    "*Reactor* objects stores single transformation and can apply it to molecules or CGRs.\n",
    "\n",
    "Transformations is ReactionContainer object which in reactant side consist of query for matching group and in product side patch for updating matched atoms and bonds "
   ]
  },
  {
   "cell_type": "code",
   "execution_count": null,
   "metadata": {},
   "outputs": [],
   "source": [
    "from CGRtools import CGRreactor   # import of Reactor\n",
    "from CGRtools.containers import * # import of required objects"
   ]
  },
  {
   "cell_type": "markdown",
   "metadata": {},
   "source": [
    "## 6.1. Products generation\n",
    "Reactor works similar to ChemAxon Reactions enumeration.\n",
    "\n",
    "Example here presents application of it to create esters from acids.\n",
    "\n",
    "First we need to construct carboxy group matcher query. Then, ether group need to be specified. \n",
    "\n",
    "Atom numbers in query and patch should be mapped to each other. The same atoms should have same numbers."
   ]
  },
  {
   "cell_type": "code",
   "execution_count": null,
   "metadata": {},
   "outputs": [],
   "source": [
    "acid = QueryContainer()                       # this query matches acids. Use construction possibilities.\n",
    "acid.add_atom({'element': 'C', 'neighbors': 3})   # add carboxyl carbon. Hybridization is irrelevant here\n",
    "acid.add_atom({'element': 'O', 'neighbors': 1})   # add hydroxyl oxygen. Hybridization is irrelevant here \n",
    "acid.add_atom('O')                                # add carbonyl oxygen. Number of neighbors is irrelevant here.\n",
    "acid.add_bond(1, 2, 1) # create single bond between carbon and hydroxyl oxygen\n",
    "acid.add_bond(1, 3, 2) # create double bond\n",
    "print(acid)"
   ]
  },
  {
   "cell_type": "code",
   "execution_count": null,
   "metadata": {},
   "outputs": [],
   "source": [
    "methyl_ester = MoleculeContainer()  # create patch - how acrboxyl group should be changed. We write methylated group\n",
    "methyl_ester.add_atom('C', 1) # second argument is predefined atom mapping. Notice that mapping corresponds...  \n",
    "methyl_ester.add_atom('O', 2) # ... to order in already created acid group. Atom 2 is released water.\n",
    "methyl_ester.add_atom('O', 4)\n",
    "methyl_ester.add_atom('O', 3)\n",
    "methyl_ester.add_atom('C', 5)\n",
    "methyl_ester.add_bond(1, 4, 1)\n",
    "methyl_ester.add_bond(1, 3, 2)\n",
    "methyl_ester.add_bond(4, 5, 1)\n",
    "# No bond between atom 1 and atom 2. This bond will be broken. \n",
    "methyl_ester.calculate2d()\n",
    "methyl_ester"
   ]
  },
  {
   "cell_type": "code",
   "execution_count": null,
   "metadata": {},
   "outputs": [],
   "source": [
    "m6.reset_query_marks() # required for correct matching\n",
    "m6 # acid"
   ]
  },
  {
   "cell_type": "code",
   "execution_count": null,
   "metadata": {},
   "outputs": [],
   "source": [
    "template = ReactionContainer([acid], [methyl_ester]) # merge query and patch in template, which is ReactionContainer\n",
    "reactor = CGRreactor(template)                        # Reactor is initialized\n",
    "reacted_acid = reactor(m6)                            # application of Reactor to molecule"
   ]
  },
  {
   "cell_type": "code",
   "execution_count": null,
   "metadata": {},
   "outputs": [],
   "source": [
    "reacted_acid.calculate2d(scale=2) # calculate coordinates\n",
    "reacted_acid       # desired methylated ester have been generated"
   ]
  },
  {
   "cell_type": "markdown",
   "metadata": {},
   "source": [
    "One can notice presence of separate oxygen (water) and ester group.\n",
    "\n",
    "The second group can substituted by calling reactor on observed product."
   ]
  },
  {
   "cell_type": "code",
   "execution_count": null,
   "metadata": {},
   "outputs": [],
   "source": [
    "reacted_acid.reset_query_marks() # this is new molecule and query marks need to be set\n",
    "second_stage = reactor(reacted_acid) # apply transformation on product of previous transformation\n",
    "second_stage.calculate2d(scale=2) #  recalculate coordinates for correct drawing\n",
    "second_stage"
   ]
  },
  {
   "cell_type": "markdown",
   "metadata": {},
   "source": [
    "*second_stage* has 3 components in a single MoleculeContainer object. We can split it into individual molecules and place all molecules into ReactionContainer object. Since in CGRtools atom-to-atom mapping corresponds to numbering of atoms in molecules, the resulting product has AAM according to the rule applied. Thus, reaction has correct AAM and nothing special should be made to keep or find it."
   ]
  },
  {
   "cell_type": "code",
   "execution_count": null,
   "metadata": {},
   "outputs": [],
   "source": [
    "products = second_stage.split() # split product into individual molecules\n",
    "react = ReactionContainer([m6], products) # unite reagent and product into reaction. \n",
    "react.fix_positions()\n",
    "react"
   ]
  },
  {
   "cell_type": "markdown",
   "metadata": {},
   "source": [
    "For multicomponent reactions one can merge molecules of reactants into single MoleculeContainer object and apply reactor on it.\n",
    "\n",
    "It is possible to generate all available products in case that molecule has several groups matching the query."
   ]
  },
  {
   "cell_type": "code",
   "execution_count": null,
   "metadata": {},
   "outputs": [],
   "source": [
    "m6copy = m6.copy() # let's try to use molecule with several groups mathcing query\n",
    "m6copy.atom(5).isotope = 13 # isotope mark is added to see the difference in products\n",
    "m6copy.reset_query_marks() # query marks need to be calculated\n",
    "enums = set()              # the set enums is used to select structurally diverse products\n",
    "for m in reactor(m6copy, limit=0): # limit=0 is enumeration of all possible products by reactor\n",
    "    print(m)                       # print signatures for observed molecules. Notice presence of water as component of product\n",
    "    m.calculate2d(scale=2)         # recalculate coordinates\n",
    "    enums.update(m.split())        # split product into separate molecules\n",
    "enums = list(enums)                # set of all resulting molecules"
   ]
  },
  {
   "cell_type": "code",
   "execution_count": null,
   "metadata": {},
   "outputs": [],
   "source": [
    "m6copy"
   ]
  },
  {
   "cell_type": "markdown",
   "metadata": {},
   "source": [
    "Let's have a look at molecules in set:"
   ]
  },
  {
   "cell_type": "code",
   "execution_count": null,
   "metadata": {},
   "outputs": [],
   "source": [
    "enums[0]"
   ]
  },
  {
   "cell_type": "code",
   "execution_count": null,
   "metadata": {},
   "outputs": [],
   "source": [
    "enums[1]"
   ]
  },
  {
   "cell_type": "code",
   "execution_count": null,
   "metadata": {},
   "outputs": [],
   "source": [
    "enums[2]"
   ]
  },
  {
   "cell_type": "markdown",
   "metadata": {},
   "source": [
    "## 6.2. MetaReactions (reactions on CGRs).\n",
    "Reactor could be applied to CGR to introduce changes into reaction. \n",
    "\n",
    "### 6.2.1. Example of atom-to-atom mapping fixing. "
   ]
  },
  {
   "cell_type": "code",
   "execution_count": null,
   "metadata": {},
   "outputs": [],
   "source": [
    "reactions[1] # reaction under study"
   ]
  },
  {
   "cell_type": "code",
   "execution_count": null,
   "metadata": {},
   "outputs": [],
   "source": [
    "cgr = ~reactions[1] # generate reaction CGR\n",
    "print(cgr)"
   ]
  },
  {
   "cell_type": "code",
   "execution_count": null,
   "metadata": {},
   "outputs": [],
   "source": [
    "cgr.centers_list # reaction has two reaction centers. [10,11,12] - pseudo reaction appeared due to AAM error"
   ]
  },
  {
   "cell_type": "markdown",
   "metadata": {},
   "source": [
    "reaction has AAM error in nitro-group\n",
    "\n",
    "![error.png](error.png)\n",
    "\n",
    "Lets try to use Reactor for AAM fixing"
   ]
  },
  {
   "cell_type": "code",
   "execution_count": null,
   "metadata": {},
   "outputs": [],
   "source": [
    "nitro = QueryCGRContainer() # construct query for invalid reaction center - CGR of wrongly mapped nitro-group\n",
    "nitro.add_atom({'element': 'N', 'charge': 1, 'p_charge': 1}) # atom 1\n",
    "nitro.add_atom({'element': 'O', 'charge': 0, 'p_charge': -1}) # atom 2. Notice that due to AAM error charge was changed\n",
    "nitro.add_atom({'element': 'O', 'charge': -1, 'p_charge': 0}) # atom 3. Notice that due to AAM error charge was changed\n",
    "nitro.add_atom('C') # atom 4\n",
    "\n",
    "nitro.add_bond(1, 2, {'order': 2, 'p_order': 1}) # bond between atoms 1 and 2. Due to AAM error bond is dynamic ('2>1' type) \n",
    "nitro.add_bond(1, 3, {'order': 1, 'p_order': 2}) # bond between atoms 1 and 3. Due to AAM error bond is dynamic ('1>2' type) \n",
    "nitro.add_bond(1, 4, 1) # ordinary bond\n",
    "print(nitro)\n",
    "# this query matches reaction center in CGR appeared due to AAM error.\n"
   ]
  },
  {
   "cell_type": "code",
   "execution_count": null,
   "metadata": {},
   "outputs": [],
   "source": [
    "nitro < cgr # query matches CGR of reaction with error."
   ]
  },
  {
   "cell_type": "code",
   "execution_count": null,
   "metadata": {},
   "outputs": [],
   "source": [
    "valid_nitro = MoleculeContainer() # construct nitro group without dynamic atoms. Notice that atom order should correspond object nitro\n",
    "valid_nitro.add_atom({'element': 'N', 'charge': 1}) # ordinary N atom\n",
    "valid_nitro.add_atom({'element': 'O', 'charge': -1}) # ordinary negatively charged oxygen atom\n",
    "valid_nitro.add_atom('O')                            # ordinary oxygen atom\n",
    "\n",
    "valid_nitro.add_bond(1, 2, 1) # ordinary single bond\n",
    "valid_nitro.add_bond(1, 3, 2) # ordinary double bond\n",
    "print(valid_nitro)"
   ]
  },
  {
   "cell_type": "code",
   "execution_count": null,
   "metadata": {},
   "outputs": [],
   "source": [
    "valid_nitro.calculate2d()\n",
    "valid_nitro # this is correct representation of group."
   ]
  },
  {
   "cell_type": "markdown",
   "metadata": {},
   "source": [
    "Now time to prepare and apply **Template** to CGR based on reaction with incorrect AAM.\n",
    "\n",
    "Template is Reaction container with query in reactants and patch in products"
   ]
  },
  {
   "cell_type": "code",
   "execution_count": null,
   "metadata": {},
   "outputs": [],
   "source": [
    "template = ReactionContainer([nitro], [valid_nitro]) # template shows how wrong part of CGR is transformed into correct one.\n",
    "print(template) # notice complex structure of query: CGR signature is given in braces, then >> and molecule signature"
   ]
  },
  {
   "cell_type": "markdown",
   "metadata": {},
   "source": [
    "`Reactor` class accept single template. Existence of dynamic bond in it is not a problem.\n"
   ]
  },
  {
   "cell_type": "code",
   "execution_count": null,
   "metadata": {},
   "outputs": [],
   "source": [
    "reactor = CGRreactor(template)"
   ]
  },
  {
   "cell_type": "markdown",
   "metadata": {},
   "source": [
    "`Reactor` object is callable and accept as argument molecule or CGR.\n",
    "\n",
    "NOTE: `fixed` is new CGR object"
   ]
  },
  {
   "cell_type": "code",
   "execution_count": null,
   "metadata": {},
   "outputs": [],
   "source": [
    "fixed = reactor(cgr) # fix CGR"
   ]
  },
  {
   "cell_type": "markdown",
   "metadata": {},
   "source": [
    "CGRreactor returns None if template could not be applied, otherwise patched structure is returned."
   ]
  },
  {
   "cell_type": "code",
   "execution_count": null,
   "metadata": {},
   "outputs": [],
   "source": [
    "print(fixed)"
   ]
  },
  {
   "cell_type": "markdown",
   "metadata": {},
   "source": [
    "`C-C(-I).O-C:1:C:C:C(:C:C:1)-[N+](-[O-])=O`  \n",
    "`C-C(.I)-O-C:1:C:C:C(:C:C:1)-[N+](-[O-])=O`\n",
    "\n",
    "One can see that nitro group has no dynamic bonds any more. CGR corresponds only to substitution."
   ]
  },
  {
   "cell_type": "code",
   "execution_count": null,
   "metadata": {},
   "outputs": [],
   "source": [
    "fixed.centers_list # reaction center appeared due to AAM error before does not exist. Only 1 reaction center is found"
   ]
  },
  {
   "cell_type": "markdown",
   "metadata": {},
   "source": [
    "Here is depiction of observed CGR (external software was used). Notice absence of wrong reaction center.\n",
    "![cgr3.png](cgr3.png)"
   ]
  },
  {
   "cell_type": "markdown",
   "metadata": {},
   "source": [
    "### 6.3.2 Reaction transformation\n",
    "Example of E2 to SN2 transformation.\n",
    "\n",
    "E2 and SN2 are concurrent reactions.\n",
    "We can easily change reaction center of E2 reaction to SN2. It could be achieved by substitution of reaction center corresponding to double bond formation in E2 reaction by the one corresponding to formation of new single bond with base as in SN2."
   ]
  },
  {
   "cell_type": "code",
   "execution_count": null,
   "metadata": {},
   "outputs": [],
   "source": [
    "from CGRtools import CGRreactor, CGRpreparer\n",
    "from CGRtools.containers import QueryCGRContainer, ReactionContainer\n",
    "from CGRtools.files import MRVread, SDFwrite\n",
    "from io import StringIO"
   ]
  },
  {
   "cell_type": "code",
   "execution_count": null,
   "metadata": {},
   "outputs": [],
   "source": [
    "e2 = next(MRVread('e2.mrv')) # read E2 reaction from ChemAxon MRV file\n",
    "e2"
   ]
  },
  {
   "cell_type": "code",
   "execution_count": null,
   "metadata": {},
   "outputs": [],
   "source": [
    "# create CGR query for E2 reaction side\n",
    "e2query = QueryCGRContainer() \n",
    "e2query.add_atom('C', 1) # create carbon with mapping number 1\n",
    "e2query.add_atom('C', 2) # create carbon with mapping number 2\n",
    "# addition of any halogen atom\n",
    "e2query.add_atom({'element': ['I', 'Cl', 'Br'], 'neighbors': 1, 'p_neighbors': 0, 'charge': 0, 'p_charge': -1}, 3)\n",
    "# addition of OH-, RO-, SH-, RS- groups\n",
    "e2query.add_atom({'element': ['O', 'S'], 'neighbors': [0, 1], 'p_neighbors': [0, 1], 'charge': -1, 'p_charge': 0}, 4)\n",
    "\n",
    "e2query.add_bond(1, 2, {'order': 1, 'p_order': 2}) # bond between two carbon corresponds to formation of double from single\n",
    "e2query.add_bond(1, 3, {'order': 1, 'p_order': None}) # bond between carbon and halogen breaks in E2 reaction\n",
    "print(e2query) # it is CGR of E2 reaction center"
   ]
  },
  {
   "cell_type": "code",
   "execution_count": null,
   "metadata": {},
   "outputs": [],
   "source": [
    "e2_cgr = ~ e2 # compose reaction into CGR\n",
    "e2_cgr.reset_query_marks() # prepare to isomorphism"
   ]
  },
  {
   "cell_type": "markdown",
   "metadata": {},
   "source": [
    "CGR is the following (depicted by external software)\n",
    "![cgr4.png](cgr4.png)"
   ]
  },
  {
   "cell_type": "code",
   "execution_count": null,
   "metadata": {},
   "outputs": [],
   "source": [
    "e2query < e2_cgr # E2 CGR pattern works!"
   ]
  },
  {
   "cell_type": "code",
   "execution_count": null,
   "metadata": {},
   "outputs": [],
   "source": [
    "# create patch creating SN2 reaction. Notice that ordering of atoms correspond to that of E2 CGR query\n",
    "sn2patch = QueryCGRContainer()\n",
    "sn2patch.add_atom({}, 1) # save atom unchanged. We don't specify atom type since it will be taken from E2 query\n",
    "sn2patch.add_atom({}, 2) # it is central atom. We don't specify atom type since it will be taken from E2 query\n",
    "sn2patch.add_atom({'charge': 0, 'p_charge': -1}, 3) # elements list with same order of elements [I, Cl, Br] could be used as well\n",
    "sn2patch.add_atom({'charge': -1, 'p_charge': 0}, 4)\n",
    "\n",
    "sn2patch.add_bond(1, 2, {'order': 1, 'p_order': 1}) # set carbon - carbon single bond that is unchanged in SN2 reaction\n",
    "sn2patch.add_bond(1, 3, {'order': 1, 'p_order': None}) # this bond is broken in SN2 reaction\n",
    "sn2patch.add_bond(1, 4, {'order': None, 'p_order': 1}) # it corresponds to formation of bond O(S)-C bond in SN2 reaction"
   ]
  },
  {
   "cell_type": "code",
   "execution_count": null,
   "metadata": {},
   "outputs": [],
   "source": [
    "reactor = CGRreactor(ReactionContainer([e2query], [sn2patch])) # create template and pass it to Reactor\n",
    "sn2_cgr = reactor(e2_cgr) # apply Reactor on E2 reaction"
   ]
  },
  {
   "cell_type": "code",
   "execution_count": null,
   "metadata": {},
   "outputs": [],
   "source": [
    "print(sn2_cgr)"
   ]
  },
  {
   "cell_type": "markdown",
   "metadata": {},
   "source": [
    "It is depiction of CGR produced by Reactor (external software is used)\n",
    "![cgr5.png](cgr5.png)"
   ]
  },
  {
   "cell_type": "code",
   "execution_count": null,
   "metadata": {},
   "outputs": [],
   "source": [
    "# decompose CGR into reaction\n",
    "preparer = CGRpreparer() \n",
    "sn2 = preparer.decompose(sn2_cgr)"
   ]
  },
  {
   "cell_type": "code",
   "execution_count": null,
   "metadata": {},
   "outputs": [],
   "source": [
    "sn2.calculate2d()\n",
    "sn2 # reaction has the same reagents like E2 above, but products correspond to SN2 reaction"
   ]
  },
  {
   "cell_type": "markdown",
   "metadata": {},
   "source": [
    "# 7. Input-output operations\n",
    "*CGRtools.files* subpackage contains file readers and writers classes.\n",
    "\n",
    "## 7.1. MDL RDF reader\n",
    "\n",
    "**RDFread** class can be used for RDF files reading.\n",
    "Instance of this class is file-like object which support **iteration**, has a method **read()** for parsing all data and **context manager**.\n"
   ]
  },
  {
   "cell_type": "markdown",
   "metadata": {},
   "source": [
    "### 7.1.1. Read file from disk"
   ]
  },
  {
   "cell_type": "code",
   "execution_count": null,
   "metadata": {},
   "outputs": [],
   "source": [
    "from CGRtools.files import * # import all available readers and writers\n",
    "\n",
    "with RDFread('example.rdf') as f:\n",
    "    first = next(f)  # get first reaction using generator\n",
    "    data = f.read()  # read remaining reactions to list of ReactionContainers\n",
    "\n",
    "data = []\n",
    "with RDFread('example.rdf') as f:\n",
    "    for r in f:  # looping is supported. Useful for large files.\n",
    "        data.append(r)\n",
    "\n",
    "with RDFread('example.rdf') as f:\n",
    "    data = [r for r in f]  # list comprehensions application. Result is equivalent to f.read() "
   ]
  },
  {
   "cell_type": "markdown",
   "metadata": {},
   "source": [
    "#### OOP-stype Pathlib supported"
   ]
  },
  {
   "cell_type": "code",
   "execution_count": null,
   "metadata": {},
   "outputs": [],
   "source": [
    "from pathlib import Path\n",
    "\n",
    "with RDFread(Path('example.rdf')) as r: # OOP style call\n",
    "    r = next(r)"
   ]
  },
  {
   "cell_type": "markdown",
   "metadata": {},
   "source": [
    "#### opened files supported\n",
    "RDF file should be opened in text mode"
   ]
  },
  {
   "cell_type": "code",
   "execution_count": null,
   "metadata": {},
   "outputs": [],
   "source": [
    "with open('example.rdf') as f, RDFread(f) as r:\n",
    "    r = next(r) # OOP style application"
   ]
  },
  {
   "cell_type": "markdown",
   "metadata": {},
   "source": [
    "### 7.1.2. Transparent loading from archives and network\n",
    "Readers designed transparently support any type of data sources. \n",
    "\n",
    "Page https://cimm.kpfu.ru/seafile/f/aeaca685e3854ae2bbad/?dl=1 returns RDF file.\n",
    "\n",
    "Data sources should be file-like objects."
   ]
  },
  {
   "cell_type": "code",
   "execution_count": null,
   "metadata": {
    "scrolled": true
   },
   "outputs": [],
   "source": [
    "from requests import get\n",
    "from io import StringIO\n",
    "\n",
    "# get function return requested URL which has attribute text. \n",
    "# in example this text is whole RDF stored in single string.\n",
    "# RDFread does not support parsing of strings, but one can emulate files with data \n",
    "# instead of strings by using io.StringIO\n",
    "with StringIO(get('https://cimm.kpfu.ru/seafile/f/aeaca685e3854ae2bbad/?dl=1').text) as f, RDFread(f) as r:\n",
    "    r = next(r)\n",
    "    print(r, 'StringIO downloaded from network data')\n",
    "\n",
    "# python support gzipped data. This example shows how to work with compressed \n",
    "# data directly without decompressing them to disk.\n",
    "from gzip import open as gzip_open\n",
    "with gzip_open('example.rdf.gz', 'rt') as f, RDFread(f) as r:\n",
    "    r = next(r)\n",
    "    print(r, 'gzipped file')\n",
    "\n",
    "# zip-files also supported out of the box \n",
    "# zipped files can be opened only in binary mode. io.TextIOWrapper can be used for transparent decoding them into text\n",
    "from zipfile import ZipFile\n",
    "from io import TextIOWrapper\n",
    "with ZipFile('example.zip') as z, z.open('example.rdf') as c:\n",
    "    with TextIOWrapper(c) as f, RDFread(f) as r:\n",
    "        r = next(r)\n",
    "        print(r, 'zip archive')\n",
    "\n",
    "# tar-file reading example\n",
    "from tarfile import open as tar_open\n",
    "from io import TextIOWrapper\n",
    "with tar_open('example.tar.gz') as t:\n",
    "    c = t.extractfile('example.rdf')\n",
    "    with TextIOWrapper(c) as f, RDFread(f) as r:\n",
    "        r = next(r)\n",
    "        print(r, 'gzipped tar archive')"
   ]
  },
  {
   "cell_type": "markdown",
   "metadata": {},
   "source": [
    "## 7.2. Other Readers\n",
    "* SDFread - MOL, SDF files reader (versions v2000, v3000 are supported)\n",
    "* MRVread - ChemAxon MRV files reader (lxml parser is used)\n",
    "* SMILESread - SMILES strings files reader (coho backend used). Every row should start with new SMILES\n",
    "* INCHIread - INCHI strings files reader (INCHI trust backend used). Every row should start with new InChI\n",
    "\n",
    "All files except MRV should be opened in **text-mode**  \n",
    "MRV requires binary mode `open('/path/to/data.mrv', 'rb')`"
   ]
  },
  {
   "cell_type": "code",
   "execution_count": null,
   "metadata": {},
   "outputs": [],
   "source": [
    "with MRVread(open('example.mrv', 'rb')) as f:\n",
    "    mrv = next(f)\n",
    "mrv"
   ]
  },
  {
   "cell_type": "markdown",
   "metadata": {},
   "source": [
    "## 7.3. File writers\n",
    "Export in following file formats is supported:\n",
    "* RDFwrite (v2000) - molecules and reactions  export in RDF format\n",
    "* SDFwrite (v2000) - molecules and CGR export in SDF format\n",
    "* MRVwrite - molecules and reactions export in MRV format\n",
    "\n",
    "Writers has the same API as readers. All writers work with text-files\n",
    "Writers has `write` method which accepts as argument single reaction, molecule or CGR object"
   ]
  },
  {
   "cell_type": "code",
   "execution_count": null,
   "metadata": {},
   "outputs": [],
   "source": [
    "with RDFwrite('out.rdf') as f: # context manager supported\n",
    "    for r in data:\n",
    "        f.write(r)\n",
    "# file out.rdf will be overriden"
   ]
  },
  {
   "cell_type": "code",
   "execution_count": null,
   "metadata": {},
   "outputs": [],
   "source": [
    "f = RDFwrite('out.rdf') # ongoing writing into a single file\n",
    "for r in data:\n",
    "    f.write(r)\n",
    "\n",
    "f.write(r1)\n",
    "\n",
    "f.close() # close file. Flushes Python writer buffers."
   ]
  },
  {
   "cell_type": "markdown",
   "metadata": {},
   "source": [
    "## 7.4. CGR can be stored in MDL SDF and loaded from.\n",
    "\n",
    "White-paper with SDF-CGR specification is described in manusript Supporting Materials."
   ]
  },
  {
   "cell_type": "code",
   "execution_count": null,
   "metadata": {},
   "outputs": [],
   "source": [
    "from CGRtools.files import *\n",
    "from io import StringIO\n",
    "\n",
    "with StringIO() as f,  SDFwrite(f) as w:\n",
    "    w.write(cgr2) # file writing in SDF format\n",
    "    mdl = f.getvalue() # get formatted file to print out\n",
    "print(mdl) # It is how CGR looks like. \n",
    "# Notice that most of field are conventional MOL fields, S-queries are used for dynamic bond and atom specification"
   ]
  },
  {
   "cell_type": "code",
   "execution_count": null,
   "metadata": {},
   "outputs": [],
   "source": [
    "with StringIO(mdl) as f,  SDFread(f) as r: # import SDF file with CGR\n",
    "    cgr3 = next(r)\n",
    "print(cgr3)\n",
    "print(type(cgr3))"
   ]
  },
  {
   "cell_type": "markdown",
   "metadata": {},
   "source": [
    "## 7.5. Pickle support\n",
    "\n",
    "CGRtools containers fully support pickle dumping and loading.\n",
    "\n",
    "Moreover backward compatability is declared since 3.0.  \n",
    "Any new version of library can load dumps created with older version.\n",
    "\n",
    "Pickle dumps are more compact than MDL files and could be used as temporal storage."
   ]
  },
  {
   "cell_type": "code",
   "execution_count": null,
   "metadata": {},
   "outputs": [],
   "source": [
    "from pickle import loads, dumps"
   ]
  },
  {
   "cell_type": "code",
   "execution_count": null,
   "metadata": {},
   "outputs": [],
   "source": [
    "loads(dumps(r1)) # load reaction from Pickle dump"
   ]
  }
 ],
 "metadata": {
  "kernelspec": {
   "display_name": "cgrtools",
   "language": "python",
   "name": "cgrtools"
  },
  "language_info": {
   "codemirror_mode": {
    "name": "ipython",
    "version": 3
   },
   "file_extension": ".py",
   "mimetype": "text/x-python",
   "name": "python",
   "nbconvert_exporter": "python",
   "pygments_lexer": "ipython3",
   "version": "3.7.1"
  }
 },
 "nbformat": 4,
 "nbformat_minor": 1
}
