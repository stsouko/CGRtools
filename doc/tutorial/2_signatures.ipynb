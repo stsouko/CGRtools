{
 "cells": [
  {
   "cell_type": "markdown",
   "metadata": {},
   "source": [
    "# 2. Signatures and duplicates selection\n",
    "\n",
    "- (c) 2019, 2020 Dr. Ramil Nugmanov;\n",
    "- (c) 2019 Dr. Timur Madzhidov; Ravil Mukhametgaleev\n",
    "\n",
    "Installation instructions of CGRtools package information and tutorial's files see on `https://github.com/cimm-kzn/CGRtools`\n",
    "\n",
    "NOTE: Tutorial should be performed sequentially from the start. Random cell running will lead to unexpected results. "
   ]
  },
  {
   "cell_type": "code",
   "execution_count": 1,
   "metadata": {},
   "outputs": [
    {
     "name": "stdout",
     "output_type": "stream",
     "text": [
      "Welcome!\n"
     ]
    }
   ],
   "source": [
    "import pkg_resources\n",
    "if pkg_resources.get_distribution('CGRtools').version.split('.')[:2] != ['4', '0']:\n",
    "    print('WARNING. Tutorial was tested on 4.0 version of CGRtools')\n",
    "else:\n",
    "    print('Welcome!')"
   ]
  },
  {
   "cell_type": "code",
   "execution_count": 2,
   "metadata": {
    "scrolled": true
   },
   "outputs": [],
   "source": [
    "# load data for tutorial\n",
    "from pickle import load\n",
    "from traceback import format_exc\n",
    "\n",
    "with open('molecules.dat', 'rb') as f:\n",
    "    molecules = load(f) # list of MoleculeContainer objects\n",
    "with open('reactions.dat', 'rb') as f:\n",
    "    reactions = load(f) # list of ReactionContainer objects\n",
    "\n",
    "m1, m2, m3 = molecules[:3] # molecule\n",
    "m7 = m3.copy()\n",
    "m11 = m3.copy()\n",
    "m11.standardize()\n",
    "m7.standardize()\n",
    "r1 = reactions[0] # reaction\n",
    "m1.delete_atom(3) \n",
    "cgr2 = ~r1\n",
    "benzene = m3.substructure([4,5,6,7,8,9]) \n",
    "m3.delete_bond(4, 5)"
   ]
  },
  {
   "cell_type": "markdown",
   "metadata": {},
   "source": [
    "## 2.1. Molecule Signatures\n",
    "*MoleculeContainer* has methods for unique molecule signature generation.\n",
    "Signature is SMILES string with canonical atoms ordering.\n",
    "\n",
    "For signature generation one need to call `str` function on MoleculeContainer object.  \n",
    "Fixed length hash of signature could be retrieved by calling `bytes` function on molecule (correspond to SHA 512 bitstring).\n",
    "\n",
    "Order of atoms calculated by Morgan-like algorithm. On initial state for each atoms it's integer code calculated based on its type. All bonds incident to atoms also coded as integers and stored in sorted tuple. Atom code and tuple of it's bonds used for ordering and similar atoms detecting. Ordered atoms rank is replaced with new integer code. Atoms of the same type with the same bonds types incident to it have equal numbers.\n",
    "\n",
    "Numbers codes found are used in Morgan algorithm cycle.\n",
    "Loop is repeated until all atoms will be unique or number of unique atoms will not change in 3 subsequent loops."
   ]
  },
  {
   "cell_type": "code",
   "execution_count": 3,
   "metadata": {},
   "outputs": [
    {
     "name": "stdout",
     "output_type": "stream",
     "text": [
      "C(C(=O)[O-])(=O)O.[Na+]\n",
      "C(C(=O)[O-])(=O)O.[Na+]\n"
     ]
    },
    {
     "data": {
      "image/svg+xml": [
       "<svg width=\"9.00cm\" height=\"3.39cm\" viewBox=\"-8.12 -1.70 9.00 3.39\" xmlns=\"http://www.w3.org/2000/svg\" version=\"1.1\">\n",
       "  <defs>\n",
       "    <mask id=\"mask-71eaf027-2cf6-4bbb-be2a-6cafce324726\">\n",
       "      <rect x=\"-8.12\" y=\"-1.70\" width=\"9.00\" height=\"3.39\" fill=\"white\"/>\n",
       "      <g fill=\"black\">\n",
       "        <circle cx=\"-6.67\" cy=\"-1.07\" r=\"0.20\"/>\n",
       "        <circle cx=\"-5.44\" cy=\"-0.36\" r=\"0.20\"/>\n",
       "        <circle cx=\"-6.26\" cy=\"1.07\" r=\"0.20\"/>\n",
       "        <circle cx=\"-7.50\" cy=\"0.36\" r=\"0.20\"/>\n",
       "        <ellipse cx=\"-0.07\" cy=\"-0.00\" rx=\"0.35\" ry=\"0.2\"/>\n",
       "      </g>\n",
       "      <g font-family=\"monospace\" stroke=\"black\">\n",
       "        <g font-family=\"sans-serif\" font-size=\"0.50\" stroke-width=\"0.05\">\n",
       "         <text x=\"-6.67\" y=\"-1.07\" dx=\"-0.20\" dy=\"0.20\">O</text>\n",
       "         <text x=\"-5.44\" y=\"-0.36\" dx=\"-0.20\" dy=\"0.20\">O</text>\n",
       "         <text x=\"-6.26\" y=\"1.07\" dx=\"-0.20\" dy=\"0.20\">O</text>\n",
       "         <text x=\"-7.50\" y=\"0.36\" dx=\"-0.20\" dy=\"0.20\">OH</text>\n",
       "         <text x=\"0.00\" y=\"-0.00\" dx=\"-0.35\" dy=\"0.20\">Na</text>\n",
       "        </g>\n",
       "        <g font-size=\"0.25\" stroke-width=\"0.03\">\n",
       "         <text x=\"-6.26\" y=\"-0.36\" dx=\"-0.05\" dy=\"0.20\" text-anchor=\"end\">5</text>\n",
       "         <text x=\"-6.67\" y=\"0.36\" dx=\"-0.05\" dy=\"0.20\" text-anchor=\"end\">6</text>\n",
       "         <text x=\"-6.67\" y=\"-1.07\" dx=\"-0.15\" dy=\"0.35\" text-anchor=\"end\">7</text>\n",
       "         <text x=\"-5.44\" y=\"-0.36\" dx=\"-0.15\" dy=\"0.35\" text-anchor=\"end\">8</text>\n",
       "         <text x=\"-6.26\" y=\"1.07\" dx=\"-0.15\" dy=\"0.35\" text-anchor=\"end\">9</text>\n",
       "         <text x=\"-7.50\" y=\"0.36\" dx=\"-0.15\" dy=\"0.35\" text-anchor=\"end\">10</text>\n",
       "         <text x=\"0.00\" y=\"-0.00\" dx=\"-0.30\" dy=\"0.35\" text-anchor=\"end\">11</text>\n",
       "        </g>\n",
       "        <g font-family=\"monospace\" font-size=\"0.3\" stroke-width=\"0.03\">\n",
       "         <text x=\"-5.44\" y=\"-0.36\" dx=\"0.05\" dy=\"-0.20\">-</text>\n",
       "         <text x=\"0.00\" y=\"-0.00\" dx=\"0.05\" dy=\"-0.20\">+</text>\n",
       "        </g>\n",
       "      </g>\n",
       "    </mask>\n",
       "  </defs>\n",
       "  <g fill=\"none\" stroke=\"black\" stroke-width=\"0.04\"  mask=\"url(#mask-71eaf027-2cf6-4bbb-be2a-6cafce324726)\">\n",
       "    <line x1=\"-6.26\" y1=\"-0.36\" x2=\"-6.67\" y2=\"0.36\"/>\n",
       "    <line x1=\"-6.31\" y1=\"-0.33\" x2=\"-6.73\" y2=\"-1.04\"/>\n",
       "    <line x1=\"-6.21\" y1=\"-0.39\" x2=\"-6.62\" y2=\"-1.10\"/>\n",
       "    <line x1=\"-6.26\" y1=\"-0.36\" x2=\"-5.44\" y2=\"-0.36\"/>\n",
       "    <line x1=\"-6.62\" y1=\"0.33\" x2=\"-6.21\" y2=\"1.04\"/>\n",
       "    <line x1=\"-6.73\" y1=\"0.39\" x2=\"-6.31\" y2=\"1.10\"/>\n",
       "    <line x1=\"-6.67\" y1=\"0.36\" x2=\"-7.50\" y2=\"0.36\"/>\n",
       "  </g>\n",
       "  <g font-family=\"monospace\">\n",
       "    <g fill=\"#FF0D0D\" font-family=\"sans-serif\">\n",
       "      <text x=\"-6.67\" y=\"-1.07\" dx=\"-0.20\" dy=\"0.20\" font-size=\"0.50\">O</text>\n",
       "    </g>\n",
       "    <g fill=\"#FF0D0D\" font-family=\"sans-serif\">\n",
       "      <text x=\"-5.44\" y=\"-0.36\" dx=\"-0.20\" dy=\"0.20\" font-size=\"0.50\">O</text>\n",
       "    </g>\n",
       "    <g fill=\"#FF0D0D\" font-family=\"sans-serif\">\n",
       "      <text x=\"-6.26\" y=\"1.07\" dx=\"-0.20\" dy=\"0.20\" font-size=\"0.50\">O</text>\n",
       "    </g>\n",
       "    <g fill=\"#FF0D0D\" font-family=\"sans-serif\">\n",
       "      <text x=\"-7.50\" y=\"0.36\" dx=\"-0.20\" dy=\"0.20\" font-size=\"0.50\">OH</text>\n",
       "    </g>\n",
       "    <g fill=\"#AB5CF2\" font-family=\"sans-serif\">\n",
       "      <text x=\"0.00\" y=\"-0.00\" dx=\"-0.35\" dy=\"0.20\" font-size=\"0.50\">Na</text>\n",
       "    </g>\n",
       "    <g font-family=\"monospace\" fill=\"black\" font-size=\"0.30\">\n",
       "      <text x=\"-5.44\" y=\"-0.36\" dx=\"0.05\" dy=\"-0.20\">-</text>\n",
       "      <text x=\"0.00\" y=\"-0.00\" dx=\"0.05\" dy=\"-0.20\">+</text>\n",
       "    </g>\n",
       "    <g fill=\"#0305A7\" font-size=\"0.25\">\n",
       "      <text x=\"-6.26\" y=\"-0.36\" dx=\"-0.05\" dy=\"0.20\" text-anchor=\"end\">5</text>\n",
       "      <text x=\"-6.67\" y=\"0.36\" dx=\"-0.05\" dy=\"0.20\" text-anchor=\"end\">6</text>\n",
       "      <text x=\"-6.67\" y=\"-1.07\" dx=\"-0.15\" dy=\"0.35\" text-anchor=\"end\">7</text>\n",
       "      <text x=\"-5.44\" y=\"-0.36\" dx=\"-0.15\" dy=\"0.35\" text-anchor=\"end\">8</text>\n",
       "      <text x=\"-6.26\" y=\"1.07\" dx=\"-0.15\" dy=\"0.35\" text-anchor=\"end\">9</text>\n",
       "      <text x=\"-7.50\" y=\"0.36\" dx=\"-0.15\" dy=\"0.35\" text-anchor=\"end\">10</text>\n",
       "      <text x=\"0.00\" y=\"-0.00\" dx=\"-0.30\" dy=\"0.35\" text-anchor=\"end\">11</text>\n",
       "    </g>\n",
       "  </g>\n",
       "</svg>"
      ],
      "text/plain": [
       "<CGRtools.containers.molecule.MoleculeContainer at 0x7fa2b67ab9a0>"
      ]
     },
     "execution_count": 3,
     "metadata": {},
     "output_type": "execute_result"
    }
   ],
   "source": [
    "ms2 = str(m2)  # get and print signature\n",
    "print(ms2)  \n",
    "# or \n",
    "print(m2)\n",
    "\n",
    "hms2 = bytes(m2)  # get sha512 hash of signature as bytes-string\n",
    "m2"
   ]
  },
  {
   "cell_type": "markdown",
   "metadata": {},
   "source": [
    "String formatting is supported that is useful for reporting"
   ]
  },
  {
   "cell_type": "code",
   "execution_count": 4,
   "metadata": {},
   "outputs": [
    {
     "name": "stdout",
     "output_type": "stream",
     "text": [
      "f string C(C(=O)[O-])(=O)O.[Na+]\n",
      "C-style string C(C(=O)[O-])(=O)O.[Na+]\n",
      "format method C(C(=O)[O-])(=O)O.[Na+]\n"
     ]
    }
   ],
   "source": [
    "print(f'f string {m2}')  # use signature in string formatting\n",
    "print('C-style string %s' % m2)\n",
    "print('format method {}'.format(m2))"
   ]
  },
  {
   "cell_type": "markdown",
   "metadata": {},
   "source": [
    "For Queries number of neighbors and hybridization will be added to signature. Note that in this case they are not readable as SMILES.\n",
    "But possible to hide this data."
   ]
  },
  {
   "cell_type": "code",
   "execution_count": 5,
   "metadata": {},
   "outputs": [
    {
     "name": "stdout",
     "output_type": "stream",
     "text": [
      "[C;d3;]([C;d3;]([O;s1;-])=[O;d1;])(=[O;d1;])[O;s1;].[Na;s0;+]\n",
      "[C;d;]([C;d;]([O;s;-])=[O;d;])(=[O;d;])[O;s;].[Na;s;+]\n",
      "[C;3;]([C;3;]([O;1;-])=[O;1;])(=[O;1;])[O;1;].[Na;0;+]\n",
      "[C]([C]([O-])=[O])(=[O])[O].[Na+]\n"
     ]
    },
    {
     "data": {
      "image/svg+xml": [
       "<svg width=\"9.00cm\" height=\"3.39cm\" viewBox=\"-8.12 -1.70 9.00 3.39\" xmlns=\"http://www.w3.org/2000/svg\" version=\"1.1\">\n",
       "  <defs>\n",
       "    <mask id=\"mask-e593ac5a-4b88-4360-b619-55434133b20c\">\n",
       "      <rect x=\"-8.12\" y=\"-1.70\" width=\"9.00\" height=\"3.39\" fill=\"white\"/>\n",
       "      <g fill=\"black\">\n",
       "        <circle cx=\"-6.67\" cy=\"-1.07\" r=\"0.20\"/>\n",
       "        <circle cx=\"-5.44\" cy=\"-0.36\" r=\"0.20\"/>\n",
       "        <circle cx=\"-6.26\" cy=\"1.07\" r=\"0.20\"/>\n",
       "        <circle cx=\"-7.50\" cy=\"0.36\" r=\"0.20\"/>\n",
       "        <ellipse cx=\"-0.07\" cy=\"-0.00\" rx=\"0.35\" ry=\"0.2\"/>\n",
       "      </g>\n",
       "      <g font-family=\"monospace\" stroke=\"black\">\n",
       "        <g font-family=\"sans-serif\" font-size=\"0.50\" stroke-width=\"0.05\">\n",
       "         <text x=\"-6.67\" y=\"-1.07\" dx=\"-0.20\" dy=\"0.20\">O</text>\n",
       "         <text x=\"-5.44\" y=\"-0.36\" dx=\"-0.20\" dy=\"0.20\">O</text>\n",
       "         <text x=\"-6.26\" y=\"1.07\" dx=\"-0.20\" dy=\"0.20\">O</text>\n",
       "         <text x=\"-7.50\" y=\"0.36\" dx=\"-0.20\" dy=\"0.20\">O</text>\n",
       "         <text x=\"0.00\" y=\"-0.00\" dx=\"-0.35\" dy=\"0.20\">Na</text>\n",
       "        </g>\n",
       "        <g font-size=\"0.25\" stroke-width=\"0.03\">\n",
       "         <text x=\"-6.26\" y=\"-0.36\" dx=\"-0.05\" dy=\"0.20\" text-anchor=\"end\">5</text>\n",
       "         <text x=\"-6.67\" y=\"0.36\" dx=\"-0.05\" dy=\"0.20\" text-anchor=\"end\">6</text>\n",
       "         <text x=\"-6.67\" y=\"-1.07\" dx=\"-0.15\" dy=\"0.35\" text-anchor=\"end\">7</text>\n",
       "         <text x=\"-5.44\" y=\"-0.36\" dx=\"-0.15\" dy=\"0.35\" text-anchor=\"end\">8</text>\n",
       "         <text x=\"-6.26\" y=\"1.07\" dx=\"-0.15\" dy=\"0.35\" text-anchor=\"end\">9</text>\n",
       "         <text x=\"-7.50\" y=\"0.36\" dx=\"-0.15\" dy=\"0.35\" text-anchor=\"end\">10</text>\n",
       "         <text x=\"0.00\" y=\"-0.00\" dx=\"-0.30\" dy=\"0.35\" text-anchor=\"end\">11</text>\n",
       "        </g>\n",
       "        <g font-family=\"monospace\" font-size=\"0.3\" stroke-width=\"0.03\">\n",
       "         <text x=\"-6.26\" y=\"-0.36\" dx=\"0.07\" dy=\"0.15\">3</text>\n",
       "         <text x=\"-6.26\" y=\"-0.36\" dx=\"0.07\" dy=\"0.33\">d</text>\n",
       "         <text x=\"-6.67\" y=\"0.36\" dx=\"0.07\" dy=\"0.15\">3</text>\n",
       "         <text x=\"-6.67\" y=\"0.36\" dx=\"0.07\" dy=\"0.33\">d</text>\n",
       "         <text x=\"-6.67\" y=\"-1.07\" dx=\"0.17\" dy=\"0.15\">1</text>\n",
       "         <text x=\"-6.67\" y=\"-1.07\" dx=\"0.17\" dy=\"0.33\">d</text>\n",
       "         <text x=\"-5.44\" y=\"-0.36\" dx=\"0.05\" dy=\"-0.20\">-</text>\n",
       "         <text x=\"-5.44\" y=\"-0.36\" dx=\"0.17\" dy=\"0.15\">1</text>\n",
       "         <text x=\"-5.44\" y=\"-0.36\" dx=\"0.17\" dy=\"0.33\">s</text>\n",
       "         <text x=\"-6.26\" y=\"1.07\" dx=\"0.17\" dy=\"0.15\">1</text>\n",
       "         <text x=\"-6.26\" y=\"1.07\" dx=\"0.17\" dy=\"0.33\">d</text>\n",
       "         <text x=\"-7.50\" y=\"0.36\" dx=\"0.17\" dy=\"0.15\">1</text>\n",
       "         <text x=\"-7.50\" y=\"0.36\" dx=\"0.17\" dy=\"0.33\">s</text>\n",
       "         <text x=\"0.00\" y=\"-0.00\" dx=\"0.05\" dy=\"-0.20\">+</text>\n",
       "         <text x=\"0.00\" y=\"-0.00\" dx=\"0.33\" dy=\"0.15\">0</text>\n",
       "         <text x=\"0.00\" y=\"-0.00\" dx=\"0.33\" dy=\"0.33\">s</text>\n",
       "        </g>\n",
       "      </g>\n",
       "    </mask>\n",
       "  </defs>\n",
       "  <g fill=\"none\" stroke=\"black\" stroke-width=\"0.04\"  mask=\"url(#mask-e593ac5a-4b88-4360-b619-55434133b20c)\">\n",
       "    <line x1=\"-6.26\" y1=\"-0.36\" x2=\"-6.67\" y2=\"0.36\"/>\n",
       "    <line x1=\"-6.31\" y1=\"-0.33\" x2=\"-6.73\" y2=\"-1.04\"/>\n",
       "    <line x1=\"-6.21\" y1=\"-0.39\" x2=\"-6.62\" y2=\"-1.10\"/>\n",
       "    <line x1=\"-6.26\" y1=\"-0.36\" x2=\"-5.44\" y2=\"-0.36\"/>\n",
       "    <line x1=\"-6.62\" y1=\"0.33\" x2=\"-6.21\" y2=\"1.04\"/>\n",
       "    <line x1=\"-6.73\" y1=\"0.39\" x2=\"-6.31\" y2=\"1.10\"/>\n",
       "    <line x1=\"-6.67\" y1=\"0.36\" x2=\"-7.50\" y2=\"0.36\"/>\n",
       "  </g>\n",
       "  <g font-family=\"monospace\">\n",
       "    <g fill=\"#FF0D0D\" font-family=\"sans-serif\">\n",
       "      <text x=\"-6.67\" y=\"-1.07\" dx=\"-0.20\" dy=\"0.20\" font-size=\"0.50\">O</text>\n",
       "    </g>\n",
       "    <g fill=\"#FF0D0D\" font-family=\"sans-serif\">\n",
       "      <text x=\"-5.44\" y=\"-0.36\" dx=\"-0.20\" dy=\"0.20\" font-size=\"0.50\">O</text>\n",
       "    </g>\n",
       "    <g fill=\"#FF0D0D\" font-family=\"sans-serif\">\n",
       "      <text x=\"-6.26\" y=\"1.07\" dx=\"-0.20\" dy=\"0.20\" font-size=\"0.50\">O</text>\n",
       "    </g>\n",
       "    <g fill=\"#FF0D0D\" font-family=\"sans-serif\">\n",
       "      <text x=\"-7.50\" y=\"0.36\" dx=\"-0.20\" dy=\"0.20\" font-size=\"0.50\">O</text>\n",
       "    </g>\n",
       "    <g fill=\"#AB5CF2\" font-family=\"sans-serif\">\n",
       "      <text x=\"0.00\" y=\"-0.00\" dx=\"-0.35\" dy=\"0.20\" font-size=\"0.50\">Na</text>\n",
       "    </g>\n",
       "    <g fill=\"#5D8AA8\" font-family=\"monospace\" font-size=\"0.30\">\n",
       "      <text x=\"-6.26\" y=\"-0.36\" dx=\"0.075\" dy=\"0.15\" text-anchor=\"start\">3</text>\n",
       "      <text x=\"-6.67\" y=\"0.36\" dx=\"0.075\" dy=\"0.15\" text-anchor=\"start\">3</text>\n",
       "      <text x=\"-6.67\" y=\"-1.07\" dx=\"0.175\" dy=\"0.15\" text-anchor=\"start\">1</text>\n",
       "      <text x=\"-5.44\" y=\"-0.36\" dx=\"0.175\" dy=\"0.15\" text-anchor=\"start\">1</text>\n",
       "      <text x=\"-6.26\" y=\"1.07\" dx=\"0.175\" dy=\"0.15\" text-anchor=\"start\">1</text>\n",
       "      <text x=\"-7.50\" y=\"0.36\" dx=\"0.175\" dy=\"0.15\" text-anchor=\"start\">1</text>\n",
       "      <text x=\"0.00\" y=\"-0.00\" dx=\"0.325\" dy=\"0.15\" text-anchor=\"start\">0</text>\n",
       "      <text x=\"-6.26\" y=\"-0.36\" dx=\"0.075\" dy=\"0.33\" text-anchor=\"start\">d</text>\n",
       "      <text x=\"-6.67\" y=\"0.36\" dx=\"0.075\" dy=\"0.33\" text-anchor=\"start\">d</text>\n",
       "      <text x=\"-6.67\" y=\"-1.07\" dx=\"0.175\" dy=\"0.33\" text-anchor=\"start\">d</text>\n",
       "      <text x=\"-5.44\" y=\"-0.36\" dx=\"0.175\" dy=\"0.33\" text-anchor=\"start\">s</text>\n",
       "      <text x=\"-6.26\" y=\"1.07\" dx=\"0.175\" dy=\"0.33\" text-anchor=\"start\">d</text>\n",
       "      <text x=\"-7.50\" y=\"0.36\" dx=\"0.175\" dy=\"0.33\" text-anchor=\"start\">s</text>\n",
       "      <text x=\"0.00\" y=\"-0.00\" dx=\"0.325\" dy=\"0.33\" text-anchor=\"start\">s</text>\n",
       "    </g>\n",
       "    <g fill=\"black\" font-family=\"monospace\" font-size=\"0.30\">\n",
       "      <text x=\"-5.44\" y=\"-0.36\" dx=\"0.05\" dy=\"-0.20\" font-size=\"0.30\">-</text>\n",
       "      <text x=\"0.00\" y=\"-0.00\" dx=\"0.05\" dy=\"-0.20\" font-size=\"0.30\">+</text>\n",
       "    </g>\n",
       "    <g fill=\"#0305A7\" font-size=\"0.25\">\n",
       "      <text x=\"-6.26\" y=\"-0.36\" dx=\"-0.05\" dy=\"0.20\" text-anchor=\"end\">5</text>\n",
       "      <text x=\"-6.67\" y=\"0.36\" dx=\"-0.05\" dy=\"0.20\" text-anchor=\"end\">6</text>\n",
       "      <text x=\"-6.67\" y=\"-1.07\" dx=\"-0.15\" dy=\"0.35\" text-anchor=\"end\">7</text>\n",
       "      <text x=\"-5.44\" y=\"-0.36\" dx=\"-0.15\" dy=\"0.35\" text-anchor=\"end\">8</text>\n",
       "      <text x=\"-6.26\" y=\"1.07\" dx=\"-0.15\" dy=\"0.35\" text-anchor=\"end\">9</text>\n",
       "      <text x=\"-7.50\" y=\"0.36\" dx=\"-0.15\" dy=\"0.35\" text-anchor=\"end\">10</text>\n",
       "      <text x=\"0.00\" y=\"-0.00\" dx=\"-0.30\" dy=\"0.35\" text-anchor=\"end\">11</text>\n",
       "    </g>\n",
       "  </g>\n",
       "</svg>"
      ],
      "text/plain": [
       "<CGRtools.containers.query.QueryContainer at 0x7fa2b6755860>"
      ]
     },
     "execution_count": 5,
     "metadata": {},
     "output_type": "execute_result"
    }
   ],
   "source": [
    "mq = m2.substructure(m2, as_query=True)\n",
    "print(f'{mq}')  # get signatures with hybridization and neighbors data\n",
    "print('{:!n}'.format(mq))  # get signature with hybridization only data\n",
    "# h - hybridization marks, n- neighbors marks\n",
    "print(format(mq, '!h')) # include only number of neighbors in signature\n",
    "print(f'{mq:!n!h}')  # hide all data\n",
    "mq"
   ]
  },
  {
   "cell_type": "markdown",
   "metadata": {},
   "source": [
    "Atoms in the QueryContainer and QueryCGRContainer signature are represented in the following way: [isotope;element_symbol;hn;charge;radical state]. h mean hybridization, n - number of neighbors. Notation for hybridization is the following:\n",
    "\n",
    "    s - all bonds of atom are single\n",
    "    d - atom has one double bond and others are single\n",
    "    t - atom has one triple or two double bonds and other are single\n",
    "    a - atom is in aromatic ring\n",
    "\n",
    "Examples: s1 - atom has s hybridization and one neighbor\n",
    "d3 - atom has d hybridization and 3 neighbors\n",
    "\n",
    "Signatures for CGRContainer include only radical state marks additionally to common SMILES notation."
   ]
  },
  {
   "cell_type": "markdown",
   "metadata": {},
   "source": [
    "Molecules comparable and hashable\n",
    "\n",
    "Comparison of MoleculeContainer is based on its signatures. Moreover, since strings in Python are hashable, MoleculeContaier also hashable.\n",
    "\n",
    "NOTE: MoleculeContainer can be changed. This can lead to unobvious behavior of the sets and dictionaries in which these molecules were placed before the change. Avoid changing molecules (standardize, aromatize, hydrogens and atoms/bonds changes) placed inside sets and dictionaries."
   ]
  },
  {
   "cell_type": "code",
   "execution_count": 6,
   "metadata": {},
   "outputs": [
    {
     "data": {
      "image/svg+xml": [
       "<svg width=\"2.21cm\" height=\"1.66cm\" viewBox=\"-10.72 -0.76 2.21 1.66\" xmlns=\"http://www.w3.org/2000/svg\" version=\"1.1\">\n",
       "  <defs>\n",
       "    <mask id=\"mask-acf55e55-1cf8-45d5-9593-04348c477266\">\n",
       "      <rect x=\"-10.72\" y=\"-0.76\" width=\"2.21\" height=\"1.66\" fill=\"white\"/>\n",
       "      <g fill=\"black\">\n",
       "        <circle cx=\"-9.38\" cy=\"-0.14\" r=\"0.20\"/>\n",
       "      </g>\n",
       "      <g font-family=\"monospace\" stroke=\"black\">\n",
       "        <g font-family=\"sans-serif\" font-size=\"0.50\" stroke-width=\"0.05\">\n",
       "         <text x=\"-9.38\" y=\"-0.14\" dx=\"-0.20\" dy=\"0.20\">OH</text>\n",
       "        </g>\n",
       "        <g font-size=\"0.25\" stroke-width=\"0.03\">\n",
       "         <text x=\"-10.10\" y=\"0.28\" dx=\"-0.05\" dy=\"0.20\" text-anchor=\"end\">4</text>\n",
       "         <text x=\"-9.38\" y=\"-0.14\" dx=\"-0.15\" dy=\"0.35\" text-anchor=\"end\">1</text>\n",
       "        </g>\n",
       "        <g font-family=\"monospace\" font-size=\"0.3\" stroke-width=\"0.03\">\n",
       "         <text x=\"-9.38\" y=\"-0.14\" dx=\"-0.05\" dy=\"-0.20\" text-anchor=\"end\">15</text>\n",
       "        </g>\n",
       "      </g>\n",
       "    </mask>\n",
       "  </defs>\n",
       "  <g fill=\"none\" stroke=\"black\" stroke-width=\"0.04\"  mask=\"url(#mask-acf55e55-1cf8-45d5-9593-04348c477266)\">\n",
       "    <line x1=\"-10.72\" y1=\"-0.76\" x2=\"-8.51\" y2=\"-0.76\" stroke=\"none\"/>\n",
       "    <line x1=\"-10.10\" y1=\"0.28\" x2=\"-9.38\" y2=\"-0.14\"/>\n",
       "  </g>\n",
       "  <g font-family=\"monospace\">\n",
       "    <g fill=\"#FF0D0D\" font-family=\"sans-serif\">\n",
       "      <text x=\"-9.38\" y=\"-0.14\" dx=\"-0.20\" dy=\"0.20\" font-size=\"0.50\">OH</text>\n",
       "    </g>\n",
       "    <g font-family=\"monospace\" fill=\"black\" font-size=\"0.30\">\n",
       "      <text x=\"-9.38\" y=\"-0.14\" dx=\"-0.05\" dy=\"-0.20\" text-anchor=\"end\">15</text>\n",
       "    </g>\n",
       "    <g fill=\"#0305A7\" font-size=\"0.25\">\n",
       "      <text x=\"-10.10\" y=\"0.28\" dx=\"-0.05\" dy=\"0.20\" text-anchor=\"end\">4</text>\n",
       "      <text x=\"-9.38\" y=\"-0.14\" dx=\"-0.15\" dy=\"0.35\" text-anchor=\"end\">1</text>\n",
       "    </g>\n",
       "  </g>\n",
       "</svg>"
      ],
      "text/plain": [
       "<CGRtools.containers.molecule.MoleculeContainer at 0x7fa2b67ab900>"
      ]
     },
     "execution_count": 6,
     "metadata": {},
     "output_type": "execute_result"
    }
   ],
   "source": [
    "m1"
   ]
  },
  {
   "cell_type": "code",
   "execution_count": 7,
   "metadata": {},
   "outputs": [
    {
     "data": {
      "image/svg+xml": [
       "<svg width=\"9.00cm\" height=\"3.39cm\" viewBox=\"-8.12 -1.70 9.00 3.39\" xmlns=\"http://www.w3.org/2000/svg\" version=\"1.1\">\n",
       "  <defs>\n",
       "    <mask id=\"mask-71eaf027-2cf6-4bbb-be2a-6cafce324726\">\n",
       "      <rect x=\"-8.12\" y=\"-1.70\" width=\"9.00\" height=\"3.39\" fill=\"white\"/>\n",
       "      <g fill=\"black\">\n",
       "        <circle cx=\"-6.67\" cy=\"-1.07\" r=\"0.20\"/>\n",
       "        <circle cx=\"-5.44\" cy=\"-0.36\" r=\"0.20\"/>\n",
       "        <circle cx=\"-6.26\" cy=\"1.07\" r=\"0.20\"/>\n",
       "        <circle cx=\"-7.50\" cy=\"0.36\" r=\"0.20\"/>\n",
       "        <ellipse cx=\"-0.07\" cy=\"-0.00\" rx=\"0.35\" ry=\"0.2\"/>\n",
       "      </g>\n",
       "      <g font-family=\"monospace\" stroke=\"black\">\n",
       "        <g font-family=\"sans-serif\" font-size=\"0.50\" stroke-width=\"0.05\">\n",
       "         <text x=\"-6.67\" y=\"-1.07\" dx=\"-0.20\" dy=\"0.20\">O</text>\n",
       "         <text x=\"-5.44\" y=\"-0.36\" dx=\"-0.20\" dy=\"0.20\">O</text>\n",
       "         <text x=\"-6.26\" y=\"1.07\" dx=\"-0.20\" dy=\"0.20\">O</text>\n",
       "         <text x=\"-7.50\" y=\"0.36\" dx=\"-0.20\" dy=\"0.20\">OH</text>\n",
       "         <text x=\"0.00\" y=\"-0.00\" dx=\"-0.35\" dy=\"0.20\">Na</text>\n",
       "        </g>\n",
       "        <g font-size=\"0.25\" stroke-width=\"0.03\">\n",
       "         <text x=\"-6.26\" y=\"-0.36\" dx=\"-0.05\" dy=\"0.20\" text-anchor=\"end\">5</text>\n",
       "         <text x=\"-6.67\" y=\"0.36\" dx=\"-0.05\" dy=\"0.20\" text-anchor=\"end\">6</text>\n",
       "         <text x=\"-6.67\" y=\"-1.07\" dx=\"-0.15\" dy=\"0.35\" text-anchor=\"end\">7</text>\n",
       "         <text x=\"-5.44\" y=\"-0.36\" dx=\"-0.15\" dy=\"0.35\" text-anchor=\"end\">8</text>\n",
       "         <text x=\"-6.26\" y=\"1.07\" dx=\"-0.15\" dy=\"0.35\" text-anchor=\"end\">9</text>\n",
       "         <text x=\"-7.50\" y=\"0.36\" dx=\"-0.15\" dy=\"0.35\" text-anchor=\"end\">10</text>\n",
       "         <text x=\"0.00\" y=\"-0.00\" dx=\"-0.30\" dy=\"0.35\" text-anchor=\"end\">11</text>\n",
       "        </g>\n",
       "        <g font-family=\"monospace\" font-size=\"0.3\" stroke-width=\"0.03\">\n",
       "         <text x=\"-5.44\" y=\"-0.36\" dx=\"0.05\" dy=\"-0.20\">-</text>\n",
       "         <text x=\"0.00\" y=\"-0.00\" dx=\"0.05\" dy=\"-0.20\">+</text>\n",
       "        </g>\n",
       "      </g>\n",
       "    </mask>\n",
       "  </defs>\n",
       "  <g fill=\"none\" stroke=\"black\" stroke-width=\"0.04\"  mask=\"url(#mask-71eaf027-2cf6-4bbb-be2a-6cafce324726)\">\n",
       "    <line x1=\"-6.26\" y1=\"-0.36\" x2=\"-6.67\" y2=\"0.36\"/>\n",
       "    <line x1=\"-6.31\" y1=\"-0.33\" x2=\"-6.73\" y2=\"-1.04\"/>\n",
       "    <line x1=\"-6.21\" y1=\"-0.39\" x2=\"-6.62\" y2=\"-1.10\"/>\n",
       "    <line x1=\"-6.26\" y1=\"-0.36\" x2=\"-5.44\" y2=\"-0.36\"/>\n",
       "    <line x1=\"-6.62\" y1=\"0.33\" x2=\"-6.21\" y2=\"1.04\"/>\n",
       "    <line x1=\"-6.73\" y1=\"0.39\" x2=\"-6.31\" y2=\"1.10\"/>\n",
       "    <line x1=\"-6.67\" y1=\"0.36\" x2=\"-7.50\" y2=\"0.36\"/>\n",
       "  </g>\n",
       "  <g font-family=\"monospace\">\n",
       "    <g fill=\"#FF0D0D\" font-family=\"sans-serif\">\n",
       "      <text x=\"-6.67\" y=\"-1.07\" dx=\"-0.20\" dy=\"0.20\" font-size=\"0.50\">O</text>\n",
       "    </g>\n",
       "    <g fill=\"#FF0D0D\" font-family=\"sans-serif\">\n",
       "      <text x=\"-5.44\" y=\"-0.36\" dx=\"-0.20\" dy=\"0.20\" font-size=\"0.50\">O</text>\n",
       "    </g>\n",
       "    <g fill=\"#FF0D0D\" font-family=\"sans-serif\">\n",
       "      <text x=\"-6.26\" y=\"1.07\" dx=\"-0.20\" dy=\"0.20\" font-size=\"0.50\">O</text>\n",
       "    </g>\n",
       "    <g fill=\"#FF0D0D\" font-family=\"sans-serif\">\n",
       "      <text x=\"-7.50\" y=\"0.36\" dx=\"-0.20\" dy=\"0.20\" font-size=\"0.50\">OH</text>\n",
       "    </g>\n",
       "    <g fill=\"#AB5CF2\" font-family=\"sans-serif\">\n",
       "      <text x=\"0.00\" y=\"-0.00\" dx=\"-0.35\" dy=\"0.20\" font-size=\"0.50\">Na</text>\n",
       "    </g>\n",
       "    <g font-family=\"monospace\" fill=\"black\" font-size=\"0.30\">\n",
       "      <text x=\"-5.44\" y=\"-0.36\" dx=\"0.05\" dy=\"-0.20\">-</text>\n",
       "      <text x=\"0.00\" y=\"-0.00\" dx=\"0.05\" dy=\"-0.20\">+</text>\n",
       "    </g>\n",
       "    <g fill=\"#0305A7\" font-size=\"0.25\">\n",
       "      <text x=\"-6.26\" y=\"-0.36\" dx=\"-0.05\" dy=\"0.20\" text-anchor=\"end\">5</text>\n",
       "      <text x=\"-6.67\" y=\"0.36\" dx=\"-0.05\" dy=\"0.20\" text-anchor=\"end\">6</text>\n",
       "      <text x=\"-6.67\" y=\"-1.07\" dx=\"-0.15\" dy=\"0.35\" text-anchor=\"end\">7</text>\n",
       "      <text x=\"-5.44\" y=\"-0.36\" dx=\"-0.15\" dy=\"0.35\" text-anchor=\"end\">8</text>\n",
       "      <text x=\"-6.26\" y=\"1.07\" dx=\"-0.15\" dy=\"0.35\" text-anchor=\"end\">9</text>\n",
       "      <text x=\"-7.50\" y=\"0.36\" dx=\"-0.15\" dy=\"0.35\" text-anchor=\"end\">10</text>\n",
       "      <text x=\"0.00\" y=\"-0.00\" dx=\"-0.30\" dy=\"0.35\" text-anchor=\"end\">11</text>\n",
       "    </g>\n",
       "  </g>\n",
       "</svg>"
      ],
      "text/plain": [
       "<CGRtools.containers.molecule.MoleculeContainer at 0x7fa2b67ab9a0>"
      ]
     },
     "execution_count": 7,
     "metadata": {},
     "output_type": "execute_result"
    }
   ],
   "source": [
    "m2"
   ]
  },
  {
   "cell_type": "code",
   "execution_count": 8,
   "metadata": {},
   "outputs": [
    {
     "data": {
      "text/plain": [
       "True"
      ]
     },
     "execution_count": 8,
     "metadata": {},
     "output_type": "execute_result"
    }
   ],
   "source": [
    "m1 != m2 # different molecules"
   ]
  },
  {
   "cell_type": "code",
   "execution_count": 9,
   "metadata": {},
   "outputs": [
    {
     "data": {
      "image/svg+xml": [
       "<svg width=\"2.93cm\" height=\"4.96cm\" viewBox=\"1.80 -4.34 2.93 4.96\" xmlns=\"http://www.w3.org/2000/svg\" version=\"1.1\">\n",
       "  <defs>\n",
       "    <mask id=\"mask-7fc3cbee-07a9-461c-81bd-3be22d218fbb\">\n",
       "      <rect x=\"1.80\" y=\"-4.34\" width=\"2.93\" height=\"4.96\" fill=\"white\"/>\n",
       "      <g fill=\"black\">\n",
       "        <circle cx=\"3.14\" cy=\"-3.30\" r=\"0.20\"/>\n",
       "        <circle cx=\"2.43\" cy=\"-3.71\" r=\"0.20\"/>\n",
       "        <circle cx=\"3.86\" cy=\"-3.71\" r=\"0.20\"/>\n",
       "        <circle cx=\"3.14\" cy=\"-0.00\" r=\"0.20\"/>\n",
       "      </g>\n",
       "      <g font-family=\"monospace\" stroke=\"black\">\n",
       "        <g font-family=\"sans-serif\" font-size=\"0.50\" stroke-width=\"0.05\">\n",
       "         <text x=\"3.14\" y=\"-3.30\" dx=\"-0.20\" dy=\"0.20\">N</text>\n",
       "         <text x=\"2.43\" y=\"-3.71\" dx=\"-0.20\" dy=\"0.20\">O</text>\n",
       "         <text x=\"3.86\" y=\"-3.71\" dx=\"-0.20\" dy=\"0.20\">O</text>\n",
       "         <text x=\"3.14\" y=\"-0.00\" dx=\"-0.20\" dy=\"0.20\">OH</text>\n",
       "        </g>\n",
       "        <g font-size=\"0.25\" stroke-width=\"0.03\">\n",
       "         <text x=\"3.14\" y=\"-2.48\" dx=\"-0.05\" dy=\"0.20\" text-anchor=\"end\">4</text>\n",
       "         <text x=\"3.86\" y=\"-2.06\" dx=\"-0.05\" dy=\"0.20\" text-anchor=\"end\">5</text>\n",
       "         <text x=\"3.86\" y=\"-1.24\" dx=\"-0.05\" dy=\"0.20\" text-anchor=\"end\">6</text>\n",
       "         <text x=\"3.14\" y=\"-0.82\" dx=\"-0.05\" dy=\"0.20\" text-anchor=\"end\">7</text>\n",
       "         <text x=\"2.43\" y=\"-1.24\" dx=\"-0.05\" dy=\"0.20\" text-anchor=\"end\">8</text>\n",
       "         <text x=\"2.43\" y=\"-2.06\" dx=\"-0.05\" dy=\"0.20\" text-anchor=\"end\">9</text>\n",
       "         <text x=\"3.14\" y=\"-3.30\" dx=\"-0.15\" dy=\"0.35\" text-anchor=\"end\">10</text>\n",
       "         <text x=\"2.43\" y=\"-3.71\" dx=\"-0.15\" dy=\"0.35\" text-anchor=\"end\">11</text>\n",
       "         <text x=\"3.86\" y=\"-3.71\" dx=\"-0.15\" dy=\"0.35\" text-anchor=\"end\">12</text>\n",
       "         <text x=\"3.14\" y=\"-0.00\" dx=\"-0.15\" dy=\"0.35\" text-anchor=\"end\">13</text>\n",
       "        </g>\n",
       "        <g font-family=\"monospace\" font-size=\"0.3\" stroke-width=\"0.03\">\n",
       "         <text x=\"3.14\" y=\"-3.30\" dx=\"0.05\" dy=\"-0.20\">+</text>\n",
       "         <text x=\"3.86\" y=\"-3.71\" dx=\"0.05\" dy=\"-0.20\">-</text>\n",
       "        </g>\n",
       "      </g>\n",
       "    </mask>\n",
       "  </defs>\n",
       "  <g fill=\"none\" stroke=\"black\" stroke-width=\"0.04\"  mask=\"url(#mask-7fc3cbee-07a9-461c-81bd-3be22d218fbb)\">\n",
       "    <line x1=\"3.14\" y1=\"-2.48\" x2=\"3.86\" y2=\"-2.06\"/>\n",
       "    <line x1=\"3.17\" y1=\"-2.42\" x2=\"2.46\" y2=\"-2.01\"/>\n",
       "    <line x1=\"3.11\" y1=\"-2.53\" x2=\"2.40\" y2=\"-2.11\"/>\n",
       "    <line x1=\"3.14\" y1=\"-2.48\" x2=\"3.14\" y2=\"-3.30\"/>\n",
       "    <line x1=\"3.92\" y1=\"-2.06\" x2=\"3.92\" y2=\"-1.24\"/>\n",
       "    <line x1=\"3.80\" y1=\"-2.06\" x2=\"3.80\" y2=\"-1.24\"/>\n",
       "    <line x1=\"3.86\" y1=\"-1.24\" x2=\"3.14\" y2=\"-0.82\"/>\n",
       "    <line x1=\"3.11\" y1=\"-0.77\" x2=\"2.40\" y2=\"-1.19\"/>\n",
       "    <line x1=\"3.17\" y1=\"-0.88\" x2=\"2.46\" y2=\"-1.29\"/>\n",
       "    <line x1=\"3.14\" y1=\"-0.82\" x2=\"3.14\" y2=\"-0.00\"/>\n",
       "    <line x1=\"2.43\" y1=\"-1.24\" x2=\"2.43\" y2=\"-2.06\"/>\n",
       "    <line x1=\"3.11\" y1=\"-3.25\" x2=\"2.40\" y2=\"-3.66\"/>\n",
       "    <line x1=\"3.17\" y1=\"-3.35\" x2=\"2.46\" y2=\"-3.76\"/>\n",
       "    <line x1=\"3.14\" y1=\"-3.30\" x2=\"3.86\" y2=\"-3.71\"/>\n",
       "  </g>\n",
       "  <g font-family=\"monospace\">\n",
       "    <g fill=\"#3050F8\" font-family=\"sans-serif\">\n",
       "      <text x=\"3.14\" y=\"-3.30\" dx=\"-0.20\" dy=\"0.20\" font-size=\"0.50\">N</text>\n",
       "    </g>\n",
       "    <g fill=\"#FF0D0D\" font-family=\"sans-serif\">\n",
       "      <text x=\"2.43\" y=\"-3.71\" dx=\"-0.20\" dy=\"0.20\" font-size=\"0.50\">O</text>\n",
       "    </g>\n",
       "    <g fill=\"#FF0D0D\" font-family=\"sans-serif\">\n",
       "      <text x=\"3.86\" y=\"-3.71\" dx=\"-0.20\" dy=\"0.20\" font-size=\"0.50\">O</text>\n",
       "    </g>\n",
       "    <g fill=\"#FF0D0D\" font-family=\"sans-serif\">\n",
       "      <text x=\"3.14\" y=\"-0.00\" dx=\"-0.20\" dy=\"0.20\" font-size=\"0.50\">OH</text>\n",
       "    </g>\n",
       "    <g font-family=\"monospace\" fill=\"black\" font-size=\"0.30\">\n",
       "      <text x=\"3.14\" y=\"-3.30\" dx=\"0.05\" dy=\"-0.20\">+</text>\n",
       "      <text x=\"3.86\" y=\"-3.71\" dx=\"0.05\" dy=\"-0.20\">-</text>\n",
       "    </g>\n",
       "    <g fill=\"#0305A7\" font-size=\"0.25\">\n",
       "      <text x=\"3.14\" y=\"-2.48\" dx=\"-0.05\" dy=\"0.20\" text-anchor=\"end\">4</text>\n",
       "      <text x=\"3.86\" y=\"-2.06\" dx=\"-0.05\" dy=\"0.20\" text-anchor=\"end\">5</text>\n",
       "      <text x=\"3.86\" y=\"-1.24\" dx=\"-0.05\" dy=\"0.20\" text-anchor=\"end\">6</text>\n",
       "      <text x=\"3.14\" y=\"-0.82\" dx=\"-0.05\" dy=\"0.20\" text-anchor=\"end\">7</text>\n",
       "      <text x=\"2.43\" y=\"-1.24\" dx=\"-0.05\" dy=\"0.20\" text-anchor=\"end\">8</text>\n",
       "      <text x=\"2.43\" y=\"-2.06\" dx=\"-0.05\" dy=\"0.20\" text-anchor=\"end\">9</text>\n",
       "      <text x=\"3.14\" y=\"-3.30\" dx=\"-0.15\" dy=\"0.35\" text-anchor=\"end\">10</text>\n",
       "      <text x=\"2.43\" y=\"-3.71\" dx=\"-0.15\" dy=\"0.35\" text-anchor=\"end\">11</text>\n",
       "      <text x=\"3.86\" y=\"-3.71\" dx=\"-0.15\" dy=\"0.35\" text-anchor=\"end\">12</text>\n",
       "      <text x=\"3.14\" y=\"-0.00\" dx=\"-0.15\" dy=\"0.35\" text-anchor=\"end\">13</text>\n",
       "    </g>\n",
       "  </g>\n",
       "</svg>"
      ],
      "text/plain": [
       "<CGRtools.containers.molecule.MoleculeContainer at 0x7fa2ec18ba40>"
      ]
     },
     "execution_count": 9,
     "metadata": {},
     "output_type": "execute_result"
    }
   ],
   "source": [
    "m7"
   ]
  },
  {
   "cell_type": "code",
   "execution_count": 10,
   "metadata": {},
   "outputs": [
    {
     "data": {
      "text/plain": [
       "True"
      ]
     },
     "execution_count": 10,
     "metadata": {},
     "output_type": "execute_result"
    }
   ],
   "source": [
    "m7 == m11 # copy of the same molecule"
   ]
  },
  {
   "cell_type": "code",
   "execution_count": 11,
   "metadata": {},
   "outputs": [
    {
     "data": {
      "text/plain": [
       "False"
      ]
     },
     "execution_count": 11,
     "metadata": {},
     "output_type": "execute_result"
    }
   ],
   "source": [
    "m7 is m11  # this is not same objects!"
   ]
  },
  {
   "cell_type": "code",
   "execution_count": 12,
   "metadata": {},
   "outputs": [
    {
     "data": {
      "text/plain": [
       "True"
      ]
     },
     "execution_count": 12,
     "metadata": {},
     "output_type": "execute_result"
    }
   ],
   "source": [
    "# Simplest way to exclude duplicated structures\n",
    "len({m1, m2, m7, m11}) == 3 # create set of unique molecules. Only 3 of them were different."
   ]
  },
  {
   "cell_type": "markdown",
   "metadata": {},
   "source": [
    "## 2.2. Reaction signatures\n",
    "ReactionContainer have its signature. Signature is SMIRKS string in which molecules of reactants, reagents, products presented in canonical order.\n",
    "\n",
    "API is the same as for molecules\n"
   ]
  },
  {
   "cell_type": "code",
   "execution_count": 13,
   "metadata": {},
   "outputs": [
    {
     "data": {
      "text/plain": [
       "'C(C(O)=O)(O)=O.C(O)C.C([O-])C>>C(C(OCC)=O)(OCC)=O'"
      ]
     },
     "execution_count": 13,
     "metadata": {},
     "output_type": "execute_result"
    }
   ],
   "source": [
    "str(r1)"
   ]
  },
  {
   "cell_type": "markdown",
   "metadata": {},
   "source": [
    "## 2.3. CGR signature\n",
    "CGRContainer have its signature. Signatures is SMIRKS-like strings where dynamic bond labels and dynamic atoms are also specified within squared brackets, so not only atoms but bonds could be written in brackets if a bond has complex parameters. Dynamic bonds in CGR have special label representing changes in bond orders. Dynamic atom corresponds to a change of formal charge or radical state of atom in reaction. Their labels are also given in brackets, including the atom symbol and text keys for atomic property in reactant and product, separated by symbol >. For a neutral atom A gaining a positive charge +n in reaction dynamic atom will be encoded as [A0>+n]. In case of charges +1 and -1, the number 1 is omitted. Properties for charges and radicals may be combined consecutively within one pair of brackets, e.g. [A0>-^>*] stands for an atom which becomes an anion-radical."
   ]
  },
  {
   "cell_type": "code",
   "execution_count": 14,
   "metadata": {},
   "outputs": [
    {
     "data": {
      "text/plain": [
       "'C(C([.>-]OCC)([->.]O)=O)([.>-][O->0]CC)(=O)[->.]O'"
      ]
     },
     "execution_count": 14,
     "metadata": {},
     "output_type": "execute_result"
    }
   ],
   "source": [
    "str(cgr2)"
   ]
  },
  {
   "cell_type": "code",
   "execution_count": 15,
   "metadata": {},
   "outputs": [
    {
     "data": {
      "image/svg+xml": [
       "<svg width=\"4.56cm\" height=\"4.16cm\" viewBox=\"-0.62 -2.18 4.56 4.16\" xmlns=\"http://www.w3.org/2000/svg\" version=\"1.1\">\n",
       "  <defs>\n",
       "    <mask id=\"mask-8ceae093-63aa-4eba-9c83-6d5478a92e05\">\n",
       "      <rect x=\"-0.62\" y=\"-2.18\" width=\"4.56\" height=\"4.16\" fill=\"white\"/>\n",
       "      <g fill=\"black\">\n",
       "        <circle cx=\"0.00\" cy=\"1.00\" r=\"0.20\"/>\n",
       "        <circle cx=\"2.12\" cy=\"1.35\" r=\"0.20\"/>\n",
       "        <circle cx=\"2.65\" cy=\"0.31\" r=\"0.20\"/>\n",
       "        <circle cx=\"0.09\" cy=\"-0.18\" r=\"0.20\"/>\n",
       "        <circle cx=\"0.99\" cy=\"1.30\" r=\"0.20\"/>\n",
       "        <circle cx=\"1.79\" cy=\"-0.49\" r=\"0.20\"/>\n",
       "      </g>\n",
       "      <g font-family=\"monospace\" stroke=\"black\">\n",
       "        <g font-family=\"sans-serif\" font-size=\"0.50\" stroke-width=\"0.05\">\n",
       "         <text x=\"0.00\" y=\"1.00\" dx=\"-0.20\" dy=\"0.20\">O</text>\n",
       "         <text x=\"2.12\" y=\"1.35\" dx=\"-0.20\" dy=\"0.20\">O</text>\n",
       "         <text x=\"2.65\" y=\"0.31\" dx=\"-0.20\" dy=\"0.20\">O</text>\n",
       "         <text x=\"0.09\" y=\"-0.18\" dx=\"-0.20\" dy=\"0.20\">O</text>\n",
       "         <text x=\"0.99\" y=\"1.30\" dx=\"-0.20\" dy=\"0.20\">O</text>\n",
       "         <text x=\"1.79\" y=\"-0.49\" dx=\"-0.20\" dy=\"0.20\">O</text>\n",
       "        </g>\n",
       "        <g font-family=\"monospace\" font-size=\"0.3\" stroke-width=\"0.03\">\n",
       "         <text x=\"0.09\" y=\"-0.18\" dx=\"0.05\" dy=\"-0.20\">-»0</text>\n",
       "         <text x=\"0.09\" y=\"-0.18\" dx=\"0.05\" dy=\"-0.20\">-</text>\n",
       "        </g>\n",
       "      </g>\n",
       "    </mask>\n",
       "  </defs>\n",
       "  <g fill=\"none\" stroke=\"black\" stroke-width=\"0.04\"  mask=\"url(#mask-8ceae093-63aa-4eba-9c83-6d5478a92e05)\">\n",
       "    <line x1=\"0.00\" y1=\"1.00\" x2=\"0.75\" y2=\"0.38\" stroke=\"red\"/>\n",
       "    <line x1=\"2.12\" y1=\"1.35\" x2=\"1.79\" y2=\"0.45\" stroke=\"red\"/>\n",
       "    <line x1=\"2.65\" y1=\"0.31\" x2=\"3.06\" y2=\"-0.39\"/>\n",
       "    <line x1=\"2.65\" y1=\"0.31\" x2=\"1.79\" y2=\"0.45\" stroke=\"green\"/>\n",
       "    <line x1=\"0.09\" y1=\"-0.18\" x2=\"0.09\" y2=\"-0.99\"/>\n",
       "    <line x1=\"0.09\" y1=\"-0.18\" x2=\"0.75\" y2=\"0.38\" stroke=\"green\"/>\n",
       "    <line x1=\"2.81\" y1=\"-1.19\" x2=\"3.06\" y2=\"-0.39\"/>\n",
       "    <line x1=\"0.75\" y1=\"0.38\" x2=\"1.79\" y2=\"0.45\"/>\n",
       "    <line x1=\"0.81\" y1=\"0.37\" x2=\"1.04\" y2=\"1.29\"/>\n",
       "    <line x1=\"0.69\" y1=\"0.40\" x2=\"0.93\" y2=\"1.32\"/>\n",
       "    <line x1=\"1.73\" y1=\"0.45\" x2=\"1.73\" y2=\"-0.49\"/>\n",
       "    <line x1=\"1.85\" y1=\"0.45\" x2=\"1.85\" y2=\"-0.49\"/>\n",
       "    <line x1=\"0.09\" y1=\"-0.99\" x2=\"0.70\" y2=\"-1.56\"/>\n",
       "  </g>\n",
       "  <g font-family=\"monospace\">\n",
       "    <g fill=\"#FF0D0D\" font-family=\"sans-serif\">\n",
       "      <text x=\"0.00\" y=\"1.00\" dx=\"-0.20\" dy=\"0.20\" font-size=\"0.50\">O</text>\n",
       "    </g>\n",
       "    <g fill=\"#FF0D0D\" font-family=\"sans-serif\">\n",
       "      <text x=\"2.12\" y=\"1.35\" dx=\"-0.20\" dy=\"0.20\" font-size=\"0.50\">O</text>\n",
       "    </g>\n",
       "    <g fill=\"#FF0D0D\" font-family=\"sans-serif\">\n",
       "      <text x=\"2.65\" y=\"0.31\" dx=\"-0.20\" dy=\"0.20\" font-size=\"0.50\">O</text>\n",
       "    </g>\n",
       "    <g fill=\"#FF0D0D\" font-family=\"sans-serif\">\n",
       "      <text x=\"0.09\" y=\"-0.18\" dx=\"-0.20\" dy=\"0.20\" font-size=\"0.50\">O</text>\n",
       "    </g>\n",
       "    <g fill=\"#FF0D0D\" font-family=\"sans-serif\">\n",
       "      <text x=\"0.99\" y=\"1.30\" dx=\"-0.20\" dy=\"0.20\" font-size=\"0.50\">O</text>\n",
       "    </g>\n",
       "    <g fill=\"#FF0D0D\" font-family=\"sans-serif\">\n",
       "      <text x=\"1.79\" y=\"-0.49\" dx=\"-0.20\" dy=\"0.20\" font-size=\"0.50\">O</text>\n",
       "    </g>\n",
       "    <g font-family=\"monospace\" fill=\"black\" font-size=\"0.30\">\n",
       "      <text x=\"0.09\" y=\"-0.18\" dx=\"0.05\" dy=\"-0.20\" font-size=\"0.30\">-»0</text>\n",
       "      <text x=\"0.09\" y=\"-0.18\" dx=\"0.05\" dy=\"-0.20\" font-size=\"0.30\">-</text>\n",
       "    </g>\n",
       "  </g>\n",
       "</svg>"
      ],
      "text/plain": [
       "<CGRtools.containers.cgr.CGRContainer at 0x7fa2b6755720>"
      ]
     },
     "execution_count": 15,
     "metadata": {},
     "output_type": "execute_result"
    }
   ],
   "source": [
    "cgr2.clean2d()\n",
    "cgr2"
   ]
  }
 ],
 "metadata": {
  "kernelspec": {
   "display_name": "Python 3",
   "language": "python",
   "name": "python3"
  },
  "language_info": {
   "codemirror_mode": {
    "name": "ipython",
    "version": 3
   },
   "file_extension": ".py",
   "mimetype": "text/x-python",
   "name": "python",
   "nbconvert_exporter": "python",
   "pygments_lexer": "ipython3",
   "version": "3.8.2"
  }
 },
 "nbformat": 4,
 "nbformat_minor": 2
}
