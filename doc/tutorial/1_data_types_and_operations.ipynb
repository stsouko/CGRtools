{
 "cells": [
  {
   "cell_type": "markdown",
   "metadata": {},
   "source": [
    "# 1. Data types and operations with them\n",
    "\n",
    "- (c) 2019, 2020 Dr. Ramil Nugmanov;\n",
    "- (c) 2019 Dr. Timur Madzhidov; Ravil Mukhametgaleev\n",
    "\n",
    "Installation instructions of CGRtools package information and tutorial's files see on `https://github.com/cimm-kzn/CGRtools`\n",
    "\n",
    "NOTE: Tutorial should be performed sequentially from the start. Random cell running will lead to unexpected results. "
   ]
  },
  {
   "cell_type": "code",
   "execution_count": 1,
   "metadata": {},
   "outputs": [
    {
     "name": "stdout",
     "output_type": "stream",
     "text": [
      "Welcome!\n"
     ]
    }
   ],
   "source": [
    "import pkg_resources\n",
    "if pkg_resources.get_distribution('CGRtools').version.split('.')[:2] != ['4', '0']:\n",
    "    print('WARNING. Tutorial was tested on 4.0 version of CGRtools')\n",
    "else:\n",
    "    print('Welcome!')"
   ]
  },
  {
   "cell_type": "code",
   "execution_count": 2,
   "metadata": {},
   "outputs": [],
   "source": [
    "# load data for tutorial\n",
    "from pickle import load\n",
    "from traceback import format_exc\n",
    "\n",
    "with open('molecules.dat', 'rb') as f:\n",
    "    molecules = load(f) # list of MoleculeContainer objects\n",
    "with open('reactions.dat', 'rb') as f:\n",
    "    reactions = load(f) # list of ReactionContainer objects\n",
    "\n",
    "m1, m2, m3, m4 = molecules # molecule\n",
    "m7 = m3.copy()\n",
    "m11 = m3.copy()\n",
    "m11.standardize()\n",
    "m7.standardize()\n",
    "r1 = reactions[0] # reaction\n",
    "m5 = r1.reactants[0]\n",
    "m8 = m7.substructure([4, 5, 6, 7, 8, 9])\n",
    "m10 =  r1.products[0].copy()"
   ]
  },
  {
   "cell_type": "markdown",
   "metadata": {},
   "source": [
    "CGRtools has subpackage *containers* with data structures classes:\n",
    "\n",
    "* *MoleculeContainer* - for molecular structure\n",
    "* *ReactionContainer* - for chemical reaction \n",
    "* *CGRContainer* - for Condensed Graph of Reaction\n",
    "* *QueryContainer* - queries for substructure search in molecules\n",
    "* *QueryCGRContainer* - queries for substructure search in CGRs"
   ]
  },
  {
   "cell_type": "code",
   "execution_count": 3,
   "metadata": {},
   "outputs": [],
   "source": [
    "from CGRtools.containers import * # import all containers"
   ]
  },
  {
   "cell_type": "markdown",
   "metadata": {},
   "source": [
    "## 1.1. MoleculeContainer\n",
    "Molecules are represented as undirected graphs. Molecules contain *Atom* objects and *Bond* objects.\n",
    "\n",
    "*Atom* objects are represented as dictionary with unique number for each atom as key.  \n",
    "\n",
    "*Bond* objects are stored as sparse matrix with adjacent atoms pair as keys for rows and columns.\n",
    "\n",
    "Hereafter, *atom number* is unique integer used to enumerate atoms in molecule. Please, don't confuse it with element number in Periodic Table, hereafter called *element number*.\n",
    "\n",
    "Methods for molecule handling and the arguments of *MoleculeContainer* are described below."
   ]
  },
  {
   "cell_type": "code",
   "execution_count": 4,
   "metadata": {},
   "outputs": [
    {
     "data": {
      "text/plain": [
       "{'cdid': '001'}"
      ]
     },
     "execution_count": 4,
     "metadata": {},
     "output_type": "execute_result"
    }
   ],
   "source": [
    "m1.meta # dictionary for molecule properties storage. For example, DTYPE/DATUM fields of SDF file are read into this dictionary"
   ]
  },
  {
   "cell_type": "code",
   "execution_count": 5,
   "metadata": {},
   "outputs": [
    {
     "data": {
      "image/svg+xml": [
       "<svg width=\"2.93cm\" height=\"1.66cm\" viewBox=\"-11.44 -0.76 2.93 1.66\" xmlns=\"http://www.w3.org/2000/svg\" version=\"1.1\">\n",
       "  <defs>\n",
       "    <mask id=\"mask-a3d48dfc-de70-4cce-815f-fdc28ac4f8bf\">\n",
       "      <rect x=\"-11.44\" y=\"-0.76\" width=\"2.93\" height=\"1.66\" fill=\"white\"/>\n",
       "      <g fill=\"black\">\n",
       "        <circle cx=\"-9.38\" cy=\"-0.14\" r=\"0.20\"/>\n",
       "      </g>\n",
       "      <g font-family=\"monospace\" stroke=\"black\">\n",
       "        <g font-family=\"sans-serif\" font-size=\"0.50\" stroke-width=\"0.05\">\n",
       "         <text x=\"-9.38\" y=\"-0.14\" dx=\"-0.20\" dy=\"0.20\">OH</text>\n",
       "        </g>\n",
       "        <g font-size=\"0.25\" stroke-width=\"0.03\">\n",
       "         <text x=\"-10.81\" y=\"-0.14\" dx=\"-0.05\" dy=\"0.20\" text-anchor=\"end\">3</text>\n",
       "         <text x=\"-10.10\" y=\"0.28\" dx=\"-0.05\" dy=\"0.20\" text-anchor=\"end\">4</text>\n",
       "         <text x=\"-9.38\" y=\"-0.14\" dx=\"-0.15\" dy=\"0.35\" text-anchor=\"end\">1</text>\n",
       "        </g>\n",
       "        <g font-family=\"monospace\" font-size=\"0.3\" stroke-width=\"0.03\">\n",
       "         <text x=\"-9.38\" y=\"-0.14\" dx=\"-0.05\" dy=\"-0.20\" text-anchor=\"end\">15</text>\n",
       "        </g>\n",
       "      </g>\n",
       "    </mask>\n",
       "  </defs>\n",
       "  <g fill=\"none\" stroke=\"black\" stroke-width=\"0.04\"  mask=\"url(#mask-a3d48dfc-de70-4cce-815f-fdc28ac4f8bf)\">\n",
       "    <line x1=\"-10.78\" y1=\"-0.19\" x2=\"-10.07\" y2=\"0.22\"/>\n",
       "    <line x1=\"-10.84\" y1=\"-0.09\" x2=\"-10.13\" y2=\"0.33\"/>\n",
       "    <line x1=\"-10.10\" y1=\"0.28\" x2=\"-9.38\" y2=\"-0.14\"/>\n",
       "  </g>\n",
       "  <g font-family=\"monospace\">\n",
       "    <g fill=\"#FF0D0D\" font-family=\"sans-serif\">\n",
       "      <text x=\"-9.38\" y=\"-0.14\" dx=\"-0.20\" dy=\"0.20\" font-size=\"0.50\">OH</text>\n",
       "    </g>\n",
       "    <g font-family=\"monospace\" fill=\"black\" font-size=\"0.30\">\n",
       "      <text x=\"-9.38\" y=\"-0.14\" dx=\"-0.05\" dy=\"-0.20\" text-anchor=\"end\">15</text>\n",
       "    </g>\n",
       "    <g fill=\"#0305A7\" font-size=\"0.25\">\n",
       "      <text x=\"-10.81\" y=\"-0.14\" dx=\"-0.05\" dy=\"0.20\" text-anchor=\"end\">3</text>\n",
       "      <text x=\"-10.10\" y=\"0.28\" dx=\"-0.05\" dy=\"0.20\" text-anchor=\"end\">4</text>\n",
       "      <text x=\"-9.38\" y=\"-0.14\" dx=\"-0.15\" dy=\"0.35\" text-anchor=\"end\">1</text>\n",
       "    </g>\n",
       "  </g>\n",
       "</svg>"
      ],
      "text/plain": [
       "<CGRtools.containers.molecule.MoleculeContainer at 0x7f6ad80f2900>"
      ]
     },
     "execution_count": 5,
     "metadata": {},
     "output_type": "execute_result"
    }
   ],
   "source": [
    "m1 # MoleculeContainer supports depiction and graphic representation in Jupyter notebooks."
   ]
  },
  {
   "cell_type": "code",
   "execution_count": 6,
   "metadata": {},
   "outputs": [
    {
     "data": {
      "text/plain": [
       "'<svg width=\"2.93cm\" height=\"1.66cm\" viewBox=\"-11.44 -0.76 2.93 1.66\" xmlns=\"http://www.w3.org/2000/svg\" version=\"1.1\">\\n  <defs>\\n    <mask id=\"mask-ece5ff7c-e305-42a1-892e-39ffa8f719a1\">\\n      <rect x=\"-11.44\" y=\"-0.76\" width=\"2.93\" height=\"1.66\" fill=\"white\"/>\\n      <g fill=\"black\">\\n        <circle cx=\"-9.38\" cy=\"-0.14\" r=\"0.20\"/>\\n      </g>\\n      <g font-family=\"monospace\" stroke=\"black\">\\n        <g font-family=\"sans-serif\" font-size=\"0.50\" stroke-width=\"0.05\">\\n         <text x=\"-9.38\" y=\"-0.14\" dx=\"-0.20\" dy=\"0.20\">OH</text>\\n        </g>\\n        <g font-size=\"0.25\" stroke-width=\"0.03\">\\n         <text x=\"-10.81\" y=\"-0.14\" dx=\"-0.05\" dy=\"0.20\" text-anchor=\"end\">3</text>\\n         <text x=\"-10.10\" y=\"0.28\" dx=\"-0.05\" dy=\"0.20\" text-anchor=\"end\">4</text>\\n         <text x=\"-9.38\" y=\"-0.14\" dx=\"-0.15\" dy=\"0.35\" text-anchor=\"end\">1</text>\\n        </g>\\n        <g font-family=\"monospace\" font-size=\"0.3\" stroke-width=\"0.03\">\\n         <text x=\"-9.38\" y=\"-0.14\" dx=\"-0.05\" dy=\"-0.20\" text-anchor=\"end\">15</text>\\n        </g>\\n      </g>\\n    </mask>\\n  </defs>\\n  <g fill=\"none\" stroke=\"black\" stroke-width=\"0.04\"  mask=\"url(#mask-ece5ff7c-e305-42a1-892e-39ffa8f719a1)\">\\n    <line x1=\"-10.78\" y1=\"-0.19\" x2=\"-10.07\" y2=\"0.22\"/>\\n    <line x1=\"-10.84\" y1=\"-0.09\" x2=\"-10.13\" y2=\"0.33\"/>\\n    <line x1=\"-10.10\" y1=\"0.28\" x2=\"-9.38\" y2=\"-0.14\"/>\\n  </g>\\n  <g font-family=\"monospace\">\\n    <g fill=\"#FF0D0D\" font-family=\"sans-serif\">\\n      <text x=\"-9.38\" y=\"-0.14\" dx=\"-0.20\" dy=\"0.20\" font-size=\"0.50\">OH</text>\\n    </g>\\n    <g font-family=\"monospace\" fill=\"black\" font-size=\"0.30\">\\n      <text x=\"-9.38\" y=\"-0.14\" dx=\"-0.05\" dy=\"-0.20\" text-anchor=\"end\">15</text>\\n    </g>\\n    <g fill=\"#0305A7\" font-size=\"0.25\">\\n      <text x=\"-10.81\" y=\"-0.14\" dx=\"-0.05\" dy=\"0.20\" text-anchor=\"end\">3</text>\\n      <text x=\"-10.10\" y=\"0.28\" dx=\"-0.05\" dy=\"0.20\" text-anchor=\"end\">4</text>\\n      <text x=\"-9.38\" y=\"-0.14\" dx=\"-0.15\" dy=\"0.35\" text-anchor=\"end\">1</text>\\n    </g>\\n  </g>\\n</svg>'"
      ]
     },
     "execution_count": 6,
     "metadata": {},
     "output_type": "execute_result"
    }
   ],
   "source": [
    "m1.depict() # depiction returns SVG image in format string"
   ]
  },
  {
   "cell_type": "code",
   "execution_count": 7,
   "metadata": {},
   "outputs": [],
   "source": [
    "with open('molecule.svg', 'w') as f: # saving image to SVG file\n",
    "    f.write(m1.depict())"
   ]
  },
  {
   "cell_type": "code",
   "execution_count": 8,
   "metadata": {},
   "outputs": [
    {
     "data": {
      "image/svg+xml": [
       "<svg width=\"2.93cm\" height=\"1.66cm\" viewBox=\"-11.44 -0.76 2.93 1.66\" xmlns=\"http://www.w3.org/2000/svg\" version=\"1.1\">\n",
       "  <defs>\n",
       "    <mask id=\"mask-4e12ea27-391a-44ec-a5d2-52d9a7f96622\">\n",
       "      <rect x=\"-11.44\" y=\"-0.76\" width=\"2.93\" height=\"1.66\" fill=\"white\"/>\n",
       "      <g fill=\"black\">\n",
       "        <circle cx=\"-9.38\" cy=\"-0.14\" r=\"0.20\"/>\n",
       "      </g>\n",
       "      <g font-family=\"monospace\" stroke=\"black\">\n",
       "        <g font-family=\"sans-serif\" font-size=\"0.50\" stroke-width=\"0.05\">\n",
       "         <text x=\"-9.38\" y=\"-0.14\" dx=\"-0.20\" dy=\"0.20\">OH</text>\n",
       "        </g>\n",
       "        <g font-size=\"0.25\" stroke-width=\"0.03\">\n",
       "         <text x=\"-10.81\" y=\"-0.14\" dx=\"-0.05\" dy=\"0.20\" text-anchor=\"end\">3</text>\n",
       "         <text x=\"-10.10\" y=\"0.28\" dx=\"-0.05\" dy=\"0.20\" text-anchor=\"end\">4</text>\n",
       "         <text x=\"-9.38\" y=\"-0.14\" dx=\"-0.15\" dy=\"0.35\" text-anchor=\"end\">1</text>\n",
       "        </g>\n",
       "        <g font-family=\"monospace\" font-size=\"0.3\" stroke-width=\"0.03\">\n",
       "         <text x=\"-9.38\" y=\"-0.14\" dx=\"-0.05\" dy=\"-0.20\" text-anchor=\"end\">15</text>\n",
       "        </g>\n",
       "      </g>\n",
       "    </mask>\n",
       "  </defs>\n",
       "  <g fill=\"none\" stroke=\"black\" stroke-width=\"0.04\"  mask=\"url(#mask-4e12ea27-391a-44ec-a5d2-52d9a7f96622)\">\n",
       "    <line x1=\"-10.78\" y1=\"-0.19\" x2=\"-10.07\" y2=\"0.22\"/>\n",
       "    <line x1=\"-10.84\" y1=\"-0.09\" x2=\"-10.13\" y2=\"0.33\"/>\n",
       "    <line x1=\"-10.10\" y1=\"0.28\" x2=\"-9.38\" y2=\"-0.14\"/>\n",
       "  </g>\n",
       "  <g font-family=\"monospace\">\n",
       "    <g fill=\"#FF0D0D\" font-family=\"sans-serif\">\n",
       "      <text x=\"-9.38\" y=\"-0.14\" dx=\"-0.20\" dy=\"0.20\" font-size=\"0.50\">OH</text>\n",
       "    </g>\n",
       "    <g font-family=\"monospace\" fill=\"black\" font-size=\"0.30\">\n",
       "      <text x=\"-9.38\" y=\"-0.14\" dx=\"-0.05\" dy=\"-0.20\" text-anchor=\"end\">15</text>\n",
       "    </g>\n",
       "    <g fill=\"#0305A7\" font-size=\"0.25\">\n",
       "      <text x=\"-10.81\" y=\"-0.14\" dx=\"-0.05\" dy=\"0.20\" text-anchor=\"end\">3</text>\n",
       "      <text x=\"-10.10\" y=\"0.28\" dx=\"-0.05\" dy=\"0.20\" text-anchor=\"end\">4</text>\n",
       "      <text x=\"-9.38\" y=\"-0.14\" dx=\"-0.15\" dy=\"0.35\" text-anchor=\"end\">1</text>\n",
       "    </g>\n",
       "  </g>\n",
       "</svg>"
      ],
      "text/plain": [
       "<CGRtools.containers.molecule.MoleculeContainer at 0x7f6ad7df0860>"
      ]
     },
     "execution_count": 8,
     "metadata": {},
     "output_type": "execute_result"
    }
   ],
   "source": [
    "m_copy = m1.copy() # copy of molecule\n",
    "m_copy"
   ]
  },
  {
   "cell_type": "code",
   "execution_count": 9,
   "metadata": {},
   "outputs": [
    {
     "data": {
      "text/plain": [
       "3"
      ]
     },
     "execution_count": 9,
     "metadata": {},
     "output_type": "execute_result"
    }
   ],
   "source": [
    "len(m1) # get number of atoms in molecule\n",
    "# or \n",
    "m1.atoms_count"
   ]
  },
  {
   "cell_type": "code",
   "execution_count": 10,
   "metadata": {},
   "outputs": [
    {
     "data": {
      "text/plain": [
       "2"
      ]
     },
     "execution_count": 10,
     "metadata": {},
     "output_type": "execute_result"
    }
   ],
   "source": [
    "m1.bonds_count # number of bonds"
   ]
  },
  {
   "cell_type": "code",
   "execution_count": 11,
   "metadata": {},
   "outputs": [
    {
     "data": {
      "text/plain": [
       "(3, 4, 1)"
      ]
     },
     "execution_count": 11,
     "metadata": {},
     "output_type": "execute_result"
    }
   ],
   "source": [
    "m1.atoms_numbers # list of atoms numbers"
   ]
  },
  {
   "cell_type": "markdown",
   "metadata": {},
   "source": [
    "Each structure has additional atoms attributes: number of neighbors and hybridization.\n",
    "The following notations are used for hybridization of atoms. Values are given as numbers below (in parenthesis symbols that are used in SMILES-like signatures are shown):\n",
    "\n",
    "* 1 (s) - all bonds of atom are single, i.e. sp3 hybridization\n",
    "* 2 (d) - atom has one double bond and others are single, i.e. sp2 hybridization\n",
    "* 3 (t) - atom has one triple or two double bonds and other are single, i.e. sp hybridization\n",
    "* 4 (a) - atom is in aromatic ring\n",
    "\n",
    "Neighbors and hybridizations atom attributes are required for **substructure operations** and structure standardization. See below"
   ]
  },
  {
   "cell_type": "code",
   "execution_count": 12,
   "metadata": {},
   "outputs": [
    {
     "data": {
      "text/plain": [
       "[(3, C()), (4, C()), (1, O(15))]"
      ]
     },
     "execution_count": 12,
     "metadata": {},
     "output_type": "execute_result"
    }
   ],
   "source": [
    "# iterate over atoms using its numbers\n",
    "list(m1.atoms())  # works the same as dict.items()"
   ]
  },
  {
   "cell_type": "code",
   "execution_count": 13,
   "metadata": {},
   "outputs": [
    {
     "data": {
      "text/plain": [
       "[(3, 4, Bond(2)), (4, 1, Bond(1))]"
      ]
     },
     "execution_count": 13,
     "metadata": {},
     "output_type": "execute_result"
    }
   ],
   "source": [
    "# iterate over bonds using adjacent atoms numbers\n",
    "list(m1.bonds())"
   ]
  },
  {
   "cell_type": "code",
   "execution_count": 14,
   "metadata": {},
   "outputs": [
    {
     "data": {
      "text/plain": [
       "O(15)"
      ]
     },
     "execution_count": 14,
     "metadata": {},
     "output_type": "execute_result"
    }
   ],
   "source": [
    "# access to atom by number\n",
    "m1.atom(1)"
   ]
  },
  {
   "cell_type": "code",
   "execution_count": 15,
   "metadata": {},
   "outputs": [
    {
     "name": "stdout",
     "output_type": "stream",
     "text": [
      "Traceback (most recent call last):\n",
      "  File \"<ipython-input-15-88aab1feb874>\", line 2, in <module>\n",
      "    m1.atom(10) # raise error for absent atom numbers\n",
      "  File \"/home/stsouko/bydlocoding/CGRtools/CGRtools/containers/common.py\", line 79, in atom\n",
      "    return self._atoms[n]\n",
      "KeyError: 10\n",
      "\n"
     ]
    }
   ],
   "source": [
    "try:\n",
    "    m1.atom(10) # raise error for absent atom numbers\n",
    "except KeyError:\n",
    "    print(format_exc())"
   ]
  },
  {
   "cell_type": "code",
   "execution_count": 16,
   "metadata": {},
   "outputs": [
    {
     "data": {
      "text/plain": [
       "Bond(1)"
      ]
     },
     "execution_count": 16,
     "metadata": {},
     "output_type": "execute_result"
    }
   ],
   "source": [
    "# access to bond using adjacent atoms numbers\n",
    "m1.bond(1, 4)"
   ]
  },
  {
   "cell_type": "code",
   "execution_count": 17,
   "metadata": {},
   "outputs": [
    {
     "name": "stdout",
     "output_type": "stream",
     "text": [
      "Traceback (most recent call last):\n",
      "  File \"<ipython-input-17-f820f0a0f50e>\", line 2, in <module>\n",
      "    m1.bond(1, 3) # raise error for absent bond\n",
      "  File \"/home/stsouko/bydlocoding/CGRtools/CGRtools/containers/common.py\", line 109, in bond\n",
      "    return self._bonds[n][m]\n",
      "KeyError: 3\n",
      "\n"
     ]
    }
   ],
   "source": [
    "try:\n",
    "    m1.bond(1, 3) # raise error for absent bond\n",
    "except KeyError:\n",
    "    print(format_exc())"
   ]
  },
  {
   "cell_type": "markdown",
   "metadata": {},
   "source": [
    "#### Atom objects are dataclasses which store information about:\n",
    "* element\n",
    "* isotope\n",
    "* charge\n",
    "* radical state\n",
    "* xy coordinates\n",
    "\n",
    "Also atoms has methods for data integrity checks and include some internally used data."
   ]
  },
  {
   "cell_type": "code",
   "execution_count": 18,
   "metadata": {},
   "outputs": [
    {
     "data": {
      "text/plain": [
       "'O'"
      ]
     },
     "execution_count": 18,
     "metadata": {},
     "output_type": "execute_result"
    }
   ],
   "source": [
    "a = m1.atom(1)\n",
    "\n",
    "# access to information\n",
    "a.atomic_symbol # element symbol"
   ]
  },
  {
   "cell_type": "code",
   "execution_count": 19,
   "metadata": {},
   "outputs": [
    {
     "data": {
      "text/plain": [
       "0"
      ]
     },
     "execution_count": 19,
     "metadata": {},
     "output_type": "execute_result"
    }
   ],
   "source": [
    "a.charge # formal charge"
   ]
  },
  {
   "cell_type": "code",
   "execution_count": 20,
   "metadata": {},
   "outputs": [
    {
     "data": {
      "text/plain": [
       "False"
      ]
     },
     "execution_count": 20,
     "metadata": {},
     "output_type": "execute_result"
    }
   ],
   "source": [
    "a.is_radical # atom radical state"
   ]
  },
  {
   "cell_type": "code",
   "execution_count": 21,
   "metadata": {},
   "outputs": [
    {
     "data": {
      "text/plain": [
       "15"
      ]
     },
     "execution_count": 21,
     "metadata": {},
     "output_type": "execute_result"
    }
   ],
   "source": [
    "a.isotope # atom isotope. Default isotope if not set. Default isotopes are the same as used in InChI notation"
   ]
  },
  {
   "cell_type": "code",
   "execution_count": 22,
   "metadata": {},
   "outputs": [
    {
     "data": {
      "text/plain": [
       "(-9.3843, 0.1375)"
      ]
     },
     "execution_count": 22,
     "metadata": {},
     "output_type": "execute_result"
    }
   ],
   "source": [
    "a.x # coordinates\n",
    "a.y\n",
    "#or \n",
    "a.xy"
   ]
  },
  {
   "cell_type": "code",
   "execution_count": 23,
   "metadata": {},
   "outputs": [
    {
     "data": {
      "text/plain": [
       "1"
      ]
     },
     "execution_count": 23,
     "metadata": {},
     "output_type": "execute_result"
    }
   ],
   "source": [
    "a.neighbors # Number of neighboring atoms. It is read-only."
   ]
  },
  {
   "cell_type": "code",
   "execution_count": 24,
   "metadata": {},
   "outputs": [
    {
     "data": {
      "text/plain": [
       "1"
      ]
     },
     "execution_count": 24,
     "metadata": {},
     "output_type": "execute_result"
    }
   ],
   "source": [
    "a.hybridization # Atoms hybridization. It is read-only."
   ]
  },
  {
   "cell_type": "code",
   "execution_count": 25,
   "metadata": {},
   "outputs": [
    {
     "name": "stdout",
     "output_type": "stream",
     "text": [
      "Traceback (most recent call last):\n",
      "  File \"<ipython-input-25-b7b556fe19c3>\", line 2, in <module>\n",
      "    a.hybridization = 2 # Not assignable. Read-only! Thus error is raised.\n",
      "AttributeError: can't set attribute\n",
      "\n"
     ]
    }
   ],
   "source": [
    "try:\n",
    "    a.hybridization = 2 # Not assignable. Read-only! Thus error is raised.\n",
    "except AttributeError:\n",
    "    print(format_exc())"
   ]
  },
  {
   "cell_type": "markdown",
   "metadata": {},
   "source": [
    "#### Atomic attributes are assignable.\n",
    "\n",
    "CGRtools has integrity checks for verification of changes induced by user"
   ]
  },
  {
   "cell_type": "code",
   "execution_count": 26,
   "metadata": {},
   "outputs": [
    {
     "data": {
      "image/svg+xml": [
       "<svg width=\"2.93cm\" height=\"1.66cm\" viewBox=\"-11.44 -0.76 2.93 1.66\" xmlns=\"http://www.w3.org/2000/svg\" version=\"1.1\">\n",
       "  <defs>\n",
       "    <mask id=\"mask-0c569a3f-8d70-4e61-b503-b917278e5973\">\n",
       "      <rect x=\"-11.44\" y=\"-0.76\" width=\"2.93\" height=\"1.66\" fill=\"white\"/>\n",
       "      <g fill=\"black\">\n",
       "        <circle cx=\"-9.38\" cy=\"-0.14\" r=\"0.20\"/>\n",
       "      </g>\n",
       "      <g font-family=\"monospace\" stroke=\"black\">\n",
       "        <g font-family=\"sans-serif\" font-size=\"0.50\" stroke-width=\"0.05\">\n",
       "         <text x=\"-9.38\" y=\"-0.14\" dx=\"-0.20\" dy=\"0.20\">OH</text>\n",
       "        </g>\n",
       "        <g font-size=\"0.25\" stroke-width=\"0.03\">\n",
       "         <text x=\"-10.81\" y=\"-0.14\" dx=\"-0.05\" dy=\"0.20\" text-anchor=\"end\">3</text>\n",
       "         <text x=\"-10.10\" y=\"0.28\" dx=\"-0.05\" dy=\"0.20\" text-anchor=\"end\">4</text>\n",
       "         <text x=\"-9.38\" y=\"-0.14\" dx=\"-0.15\" dy=\"0.35\" text-anchor=\"end\">1</text>\n",
       "        </g>\n",
       "        <g font-family=\"monospace\" font-size=\"0.3\" stroke-width=\"0.03\">\n",
       "         <text x=\"-9.38\" y=\"-0.14\" dx=\"0.05\" dy=\"-0.20\">+</text>\n",
       "         <text x=\"-9.38\" y=\"-0.14\" dx=\"-0.05\" dy=\"-0.20\" text-anchor=\"end\">15</text>\n",
       "        </g>\n",
       "        <g font-family=\"sans-serif\" font-size=\"0.50\" stroke-width=\"0.03\">\n",
       "         <text x=\"-9.38\" y=\"-0.14\" dx=\"-0.20\" dy=\"0.20\">OH<tspan  dy=\"0.15\" font-size=\"0.35\">2</tspan></text>\n",
       "        </g>\n",
       "      </g>\n",
       "    </mask>\n",
       "  </defs>\n",
       "  <g fill=\"none\" stroke=\"black\" stroke-width=\"0.04\"  mask=\"url(#mask-0c569a3f-8d70-4e61-b503-b917278e5973)\">\n",
       "    <line x1=\"-10.78\" y1=\"-0.19\" x2=\"-10.07\" y2=\"0.22\"/>\n",
       "    <line x1=\"-10.84\" y1=\"-0.09\" x2=\"-10.13\" y2=\"0.33\"/>\n",
       "    <line x1=\"-10.10\" y1=\"0.28\" x2=\"-9.38\" y2=\"-0.14\"/>\n",
       "  </g>\n",
       "  <g font-family=\"monospace\">\n",
       "    <g fill=\"#FF0D0D\" font-family=\"sans-serif\">\n",
       "      <text x=\"-9.38\" y=\"-0.14\" dx=\"-0.20\" dy=\"0.20\" font-size=\"0.50\">OH<tspan  dy=\"0.15\" font-size=\"0.35\">2</tspan></text>\n",
       "    </g>\n",
       "    <g font-family=\"monospace\" fill=\"black\" font-size=\"0.30\">\n",
       "      <text x=\"-9.38\" y=\"-0.14\" dx=\"0.05\" dy=\"-0.20\">+</text>\n",
       "      <text x=\"-9.38\" y=\"-0.14\" dx=\"-0.05\" dy=\"-0.20\" text-anchor=\"end\">15</text>\n",
       "    </g>\n",
       "    <g fill=\"#0305A7\" font-size=\"0.25\">\n",
       "      <text x=\"-10.81\" y=\"-0.14\" dx=\"-0.05\" dy=\"0.20\" text-anchor=\"end\">3</text>\n",
       "      <text x=\"-10.10\" y=\"0.28\" dx=\"-0.05\" dy=\"0.20\" text-anchor=\"end\">4</text>\n",
       "      <text x=\"-9.38\" y=\"-0.14\" dx=\"-0.15\" dy=\"0.35\" text-anchor=\"end\">1</text>\n",
       "    </g>\n",
       "  </g>\n",
       "</svg>"
      ],
      "text/plain": [
       "<CGRtools.containers.molecule.MoleculeContainer at 0x7f6ad80f2900>"
      ]
     },
     "execution_count": 26,
     "metadata": {},
     "output_type": "execute_result"
    }
   ],
   "source": [
    "a.charge = 1\n",
    "m1"
   ]
  },
  {
   "cell_type": "code",
   "execution_count": 27,
   "metadata": {},
   "outputs": [
    {
     "data": {
      "image/svg+xml": [
       "<svg width=\"2.93cm\" height=\"1.66cm\" viewBox=\"-11.44 -0.76 2.93 1.66\" xmlns=\"http://www.w3.org/2000/svg\" version=\"1.1\">\n",
       "  <defs>\n",
       "    <mask id=\"mask-2fc3d725-a447-42c9-9f67-a3b527a7407f\">\n",
       "      <rect x=\"-11.44\" y=\"-0.76\" width=\"2.93\" height=\"1.66\" fill=\"white\"/>\n",
       "      <g fill=\"black\">\n",
       "        <circle cx=\"-9.38\" cy=\"-0.14\" r=\"0.20\"/>\n",
       "      </g>\n",
       "      <g font-family=\"monospace\" stroke=\"black\">\n",
       "        <g font-family=\"sans-serif\" font-size=\"0.50\" stroke-width=\"0.05\">\n",
       "         <text x=\"-9.38\" y=\"-0.14\" dx=\"-0.20\" dy=\"0.20\">O</text>\n",
       "        </g>\n",
       "        <g font-size=\"0.25\" stroke-width=\"0.03\">\n",
       "         <text x=\"-10.81\" y=\"-0.14\" dx=\"-0.05\" dy=\"0.20\" text-anchor=\"end\">3</text>\n",
       "         <text x=\"-10.10\" y=\"0.28\" dx=\"-0.05\" dy=\"0.20\" text-anchor=\"end\">4</text>\n",
       "         <text x=\"-9.38\" y=\"-0.14\" dx=\"-0.15\" dy=\"0.35\" text-anchor=\"end\">1</text>\n",
       "        </g>\n",
       "        <g font-family=\"monospace\" font-size=\"0.3\" stroke-width=\"0.03\">\n",
       "         <text x=\"-9.38\" y=\"-0.14\" dx=\"0.05\" dy=\"-0.20\">↑</text>\n",
       "         <text x=\"-9.38\" y=\"-0.14\" dx=\"-0.05\" dy=\"-0.20\" text-anchor=\"end\">15</text>\n",
       "        </g>\n",
       "      </g>\n",
       "    </mask>\n",
       "  </defs>\n",
       "  <g fill=\"none\" stroke=\"black\" stroke-width=\"0.04\"  mask=\"url(#mask-2fc3d725-a447-42c9-9f67-a3b527a7407f)\">\n",
       "    <line x1=\"-10.78\" y1=\"-0.19\" x2=\"-10.07\" y2=\"0.22\"/>\n",
       "    <line x1=\"-10.84\" y1=\"-0.09\" x2=\"-10.13\" y2=\"0.33\"/>\n",
       "    <line x1=\"-10.10\" y1=\"0.28\" x2=\"-9.38\" y2=\"-0.14\"/>\n",
       "  </g>\n",
       "  <g font-family=\"monospace\">\n",
       "    <g fill=\"#FF0D0D\" font-family=\"sans-serif\">\n",
       "      <text x=\"-9.38\" y=\"-0.14\" dx=\"-0.20\" dy=\"0.20\" font-size=\"0.50\">O</text>\n",
       "    </g>\n",
       "    <g font-family=\"monospace\" fill=\"black\" font-size=\"0.30\">\n",
       "      <text x=\"-9.38\" y=\"-0.14\" dx=\"0.05\" dy=\"-0.20\">↑</text>\n",
       "      <text x=\"-9.38\" y=\"-0.14\" dx=\"-0.05\" dy=\"-0.20\" text-anchor=\"end\">15</text>\n",
       "    </g>\n",
       "    <g fill=\"#0305A7\" font-size=\"0.25\">\n",
       "      <text x=\"-10.81\" y=\"-0.14\" dx=\"-0.05\" dy=\"0.20\" text-anchor=\"end\">3</text>\n",
       "      <text x=\"-10.10\" y=\"0.28\" dx=\"-0.05\" dy=\"0.20\" text-anchor=\"end\">4</text>\n",
       "      <text x=\"-9.38\" y=\"-0.14\" dx=\"-0.15\" dy=\"0.35\" text-anchor=\"end\">1</text>\n",
       "    </g>\n",
       "  </g>\n",
       "</svg>"
      ],
      "text/plain": [
       "<CGRtools.containers.molecule.MoleculeContainer at 0x7f6ad80f2900>"
      ]
     },
     "execution_count": 27,
     "metadata": {},
     "output_type": "execute_result"
    }
   ],
   "source": [
    "a.charge = 0\n",
    "a.is_radical = True\n",
    "m1"
   ]
  },
  {
   "cell_type": "code",
   "execution_count": 28,
   "metadata": {},
   "outputs": [
    {
     "data": {
      "text/plain": [
       "2"
      ]
     },
     "execution_count": 28,
     "metadata": {},
     "output_type": "execute_result"
    }
   ],
   "source": [
    "# bond objects also are data-like classes which store information about bond order\n",
    "b = m1.bond(3, 4)\n",
    "b.order"
   ]
  },
  {
   "cell_type": "code",
   "execution_count": 29,
   "metadata": {},
   "outputs": [
    {
     "name": "stdout",
     "output_type": "stream",
     "text": [
      "Traceback (most recent call last):\n",
      "  File \"<ipython-input-29-6218ec112e59>\", line 2, in <module>\n",
      "    b.order = 1 # order change not possible\n",
      "AttributeError: can't set attribute\n",
      "\n"
     ]
    }
   ],
   "source": [
    "try:\n",
    "    b.order = 1 # order change not possible\n",
    "except AttributeError:\n",
    "    print(format_exc())"
   ]
  },
  {
   "cell_type": "markdown",
   "metadata": {},
   "source": [
    "#### Bonds are Read-only\n",
    "For bond modification one should to use `delete_bond` method to break bond and `add_bond` for creating new."
   ]
  },
  {
   "cell_type": "code",
   "execution_count": 30,
   "metadata": {},
   "outputs": [
    {
     "data": {
      "image/svg+xml": [
       "<svg width=\"2.93cm\" height=\"1.66cm\" viewBox=\"-11.44 -0.76 2.93 1.66\" xmlns=\"http://www.w3.org/2000/svg\" version=\"1.1\">\n",
       "  <defs>\n",
       "    <mask id=\"mask-7c3229b9-9eb7-4956-9443-044dfaa950f8\">\n",
       "      <rect x=\"-11.44\" y=\"-0.76\" width=\"2.93\" height=\"1.66\" fill=\"white\"/>\n",
       "      <g fill=\"black\">\n",
       "        <circle cx=\"-10.81\" cy=\"-0.14\" r=\"0.20\"/>\n",
       "        <circle cx=\"-9.38\" cy=\"-0.14\" r=\"0.20\"/>\n",
       "      </g>\n",
       "      <g font-family=\"monospace\" stroke=\"black\">\n",
       "        <g font-family=\"sans-serif\" font-size=\"0.50\" stroke-width=\"0.05\">\n",
       "         <text x=\"-10.81\" y=\"-0.14\" dx=\"-0.20\" dy=\"0.20\">CH</text>\n",
       "         <text x=\"-9.38\" y=\"-0.14\" dx=\"-0.20\" dy=\"0.20\">O</text>\n",
       "        </g>\n",
       "        <g font-size=\"0.25\" stroke-width=\"0.03\">\n",
       "         <text x=\"-10.81\" y=\"-0.14\" dx=\"-0.15\" dy=\"0.35\" text-anchor=\"end\">3</text>\n",
       "         <text x=\"-10.10\" y=\"0.28\" dx=\"-0.05\" dy=\"0.20\" text-anchor=\"end\">4</text>\n",
       "         <text x=\"-9.38\" y=\"-0.14\" dx=\"-0.15\" dy=\"0.35\" text-anchor=\"end\">1</text>\n",
       "        </g>\n",
       "        <g font-family=\"monospace\" font-size=\"0.3\" stroke-width=\"0.03\">\n",
       "         <text x=\"-9.38\" y=\"-0.14\" dx=\"0.05\" dy=\"-0.20\">↑</text>\n",
       "         <text x=\"-9.38\" y=\"-0.14\" dx=\"-0.05\" dy=\"-0.20\" text-anchor=\"end\">15</text>\n",
       "        </g>\n",
       "        <g font-family=\"sans-serif\" font-size=\"0.50\" stroke-width=\"0.03\">\n",
       "         <text x=\"-10.81\" y=\"-0.14\" dx=\"-0.20\" dy=\"0.20\">CH<tspan  dy=\"0.15\" font-size=\"0.35\">4</tspan></text>\n",
       "        </g>\n",
       "      </g>\n",
       "    </mask>\n",
       "  </defs>\n",
       "  <g fill=\"none\" stroke=\"black\" stroke-width=\"0.04\"  mask=\"url(#mask-7c3229b9-9eb7-4956-9443-044dfaa950f8)\">\n",
       "    <line x1=\"-11.44\" y1=\"-0.76\" x2=\"-8.51\" y2=\"-0.76\" stroke=\"none\"/>\n",
       "    <line x1=\"-10.10\" y1=\"0.28\" x2=\"-9.38\" y2=\"-0.14\"/>\n",
       "  </g>\n",
       "  <g font-family=\"monospace\">\n",
       "    <g fill=\"#101010\" font-family=\"sans-serif\">\n",
       "      <text x=\"-10.81\" y=\"-0.14\" dx=\"-0.20\" dy=\"0.20\" font-size=\"0.50\">CH<tspan  dy=\"0.15\" font-size=\"0.35\">4</tspan></text>\n",
       "    </g>\n",
       "    <g fill=\"#FF0D0D\" font-family=\"sans-serif\">\n",
       "      <text x=\"-9.38\" y=\"-0.14\" dx=\"-0.20\" dy=\"0.20\" font-size=\"0.50\">O</text>\n",
       "    </g>\n",
       "    <g font-family=\"monospace\" fill=\"black\" font-size=\"0.30\">\n",
       "      <text x=\"-9.38\" y=\"-0.14\" dx=\"0.05\" dy=\"-0.20\">↑</text>\n",
       "      <text x=\"-9.38\" y=\"-0.14\" dx=\"-0.05\" dy=\"-0.20\" text-anchor=\"end\">15</text>\n",
       "    </g>\n",
       "    <g fill=\"#0305A7\" font-size=\"0.25\">\n",
       "      <text x=\"-10.81\" y=\"-0.14\" dx=\"-0.15\" dy=\"0.35\" text-anchor=\"end\">3</text>\n",
       "      <text x=\"-10.10\" y=\"0.28\" dx=\"-0.05\" dy=\"0.20\" text-anchor=\"end\">4</text>\n",
       "      <text x=\"-9.38\" y=\"-0.14\" dx=\"-0.15\" dy=\"0.35\" text-anchor=\"end\">1</text>\n",
       "    </g>\n",
       "  </g>\n",
       "</svg>"
      ],
      "text/plain": [
       "<CGRtools.containers.molecule.MoleculeContainer at 0x7f6ad80f2900>"
      ]
     },
     "execution_count": 30,
     "metadata": {},
     "output_type": "execute_result"
    }
   ],
   "source": [
    "m1.delete_bond(3, 4)\n",
    "m1"
   ]
  },
  {
   "cell_type": "markdown",
   "metadata": {},
   "source": [
    "Method `delete_atom` removes atom from the molecule"
   ]
  },
  {
   "cell_type": "code",
   "execution_count": 31,
   "metadata": {},
   "outputs": [
    {
     "data": {
      "image/svg+xml": [
       "<svg width=\"2.21cm\" height=\"1.66cm\" viewBox=\"-10.72 -0.76 2.21 1.66\" xmlns=\"http://www.w3.org/2000/svg\" version=\"1.1\">\n",
       "  <defs>\n",
       "    <mask id=\"mask-3869f087-15f3-45a3-970b-367f54bdad43\">\n",
       "      <rect x=\"-10.72\" y=\"-0.76\" width=\"2.21\" height=\"1.66\" fill=\"white\"/>\n",
       "      <g fill=\"black\">\n",
       "        <circle cx=\"-9.38\" cy=\"-0.14\" r=\"0.20\"/>\n",
       "      </g>\n",
       "      <g font-family=\"monospace\" stroke=\"black\">\n",
       "        <g font-family=\"sans-serif\" font-size=\"0.50\" stroke-width=\"0.05\">\n",
       "         <text x=\"-9.38\" y=\"-0.14\" dx=\"-0.20\" dy=\"0.20\">O</text>\n",
       "        </g>\n",
       "        <g font-size=\"0.25\" stroke-width=\"0.03\">\n",
       "         <text x=\"-10.10\" y=\"0.28\" dx=\"-0.05\" dy=\"0.20\" text-anchor=\"end\">4</text>\n",
       "         <text x=\"-9.38\" y=\"-0.14\" dx=\"-0.15\" dy=\"0.35\" text-anchor=\"end\">1</text>\n",
       "        </g>\n",
       "        <g font-family=\"monospace\" font-size=\"0.3\" stroke-width=\"0.03\">\n",
       "         <text x=\"-9.38\" y=\"-0.14\" dx=\"0.05\" dy=\"-0.20\">↑</text>\n",
       "         <text x=\"-9.38\" y=\"-0.14\" dx=\"-0.05\" dy=\"-0.20\" text-anchor=\"end\">15</text>\n",
       "        </g>\n",
       "      </g>\n",
       "    </mask>\n",
       "  </defs>\n",
       "  <g fill=\"none\" stroke=\"black\" stroke-width=\"0.04\"  mask=\"url(#mask-3869f087-15f3-45a3-970b-367f54bdad43)\">\n",
       "    <line x1=\"-10.72\" y1=\"-0.76\" x2=\"-8.51\" y2=\"-0.76\" stroke=\"none\"/>\n",
       "    <line x1=\"-10.10\" y1=\"0.28\" x2=\"-9.38\" y2=\"-0.14\"/>\n",
       "  </g>\n",
       "  <g font-family=\"monospace\">\n",
       "    <g fill=\"#FF0D0D\" font-family=\"sans-serif\">\n",
       "      <text x=\"-9.38\" y=\"-0.14\" dx=\"-0.20\" dy=\"0.20\" font-size=\"0.50\">O</text>\n",
       "    </g>\n",
       "    <g font-family=\"monospace\" fill=\"black\" font-size=\"0.30\">\n",
       "      <text x=\"-9.38\" y=\"-0.14\" dx=\"0.05\" dy=\"-0.20\">↑</text>\n",
       "      <text x=\"-9.38\" y=\"-0.14\" dx=\"-0.05\" dy=\"-0.20\" text-anchor=\"end\">15</text>\n",
       "    </g>\n",
       "    <g fill=\"#0305A7\" font-size=\"0.25\">\n",
       "      <text x=\"-10.10\" y=\"0.28\" dx=\"-0.05\" dy=\"0.20\" text-anchor=\"end\">4</text>\n",
       "      <text x=\"-9.38\" y=\"-0.14\" dx=\"-0.15\" dy=\"0.35\" text-anchor=\"end\">1</text>\n",
       "    </g>\n",
       "  </g>\n",
       "</svg>"
      ],
      "text/plain": [
       "<CGRtools.containers.molecule.MoleculeContainer at 0x7f6ad80f2900>"
      ]
     },
     "execution_count": 31,
     "metadata": {},
     "output_type": "execute_result"
    }
   ],
   "source": [
    "m1.delete_atom(3)\n",
    "m1"
   ]
  },
  {
   "cell_type": "code",
   "execution_count": 32,
   "metadata": {},
   "outputs": [
    {
     "data": {
      "image/svg+xml": [
       "<svg width=\"2.93cm\" height=\"1.66cm\" viewBox=\"-11.44 -0.76 2.93 1.66\" xmlns=\"http://www.w3.org/2000/svg\" version=\"1.1\">\n",
       "  <defs>\n",
       "    <mask id=\"mask-4e12ea27-391a-44ec-a5d2-52d9a7f96622\">\n",
       "      <rect x=\"-11.44\" y=\"-0.76\" width=\"2.93\" height=\"1.66\" fill=\"white\"/>\n",
       "      <g fill=\"black\">\n",
       "        <circle cx=\"-9.38\" cy=\"-0.14\" r=\"0.20\"/>\n",
       "      </g>\n",
       "      <g font-family=\"monospace\" stroke=\"black\">\n",
       "        <g font-family=\"sans-serif\" font-size=\"0.50\" stroke-width=\"0.05\">\n",
       "         <text x=\"-9.38\" y=\"-0.14\" dx=\"-0.20\" dy=\"0.20\">OH</text>\n",
       "        </g>\n",
       "        <g font-size=\"0.25\" stroke-width=\"0.03\">\n",
       "         <text x=\"-10.81\" y=\"-0.14\" dx=\"-0.05\" dy=\"0.20\" text-anchor=\"end\">3</text>\n",
       "         <text x=\"-10.10\" y=\"0.28\" dx=\"-0.05\" dy=\"0.20\" text-anchor=\"end\">4</text>\n",
       "         <text x=\"-9.38\" y=\"-0.14\" dx=\"-0.15\" dy=\"0.35\" text-anchor=\"end\">1</text>\n",
       "        </g>\n",
       "        <g font-family=\"monospace\" font-size=\"0.3\" stroke-width=\"0.03\">\n",
       "         <text x=\"-9.38\" y=\"-0.14\" dx=\"-0.05\" dy=\"-0.20\" text-anchor=\"end\">15</text>\n",
       "        </g>\n",
       "      </g>\n",
       "    </mask>\n",
       "  </defs>\n",
       "  <g fill=\"none\" stroke=\"black\" stroke-width=\"0.04\"  mask=\"url(#mask-4e12ea27-391a-44ec-a5d2-52d9a7f96622)\">\n",
       "    <line x1=\"-10.78\" y1=\"-0.19\" x2=\"-10.07\" y2=\"0.22\"/>\n",
       "    <line x1=\"-10.84\" y1=\"-0.09\" x2=\"-10.13\" y2=\"0.33\"/>\n",
       "    <line x1=\"-10.10\" y1=\"0.28\" x2=\"-9.38\" y2=\"-0.14\"/>\n",
       "  </g>\n",
       "  <g font-family=\"monospace\">\n",
       "    <g fill=\"#FF0D0D\" font-family=\"sans-serif\">\n",
       "      <text x=\"-9.38\" y=\"-0.14\" dx=\"-0.20\" dy=\"0.20\" font-size=\"0.50\">OH</text>\n",
       "    </g>\n",
       "    <g font-family=\"monospace\" fill=\"black\" font-size=\"0.30\">\n",
       "      <text x=\"-9.38\" y=\"-0.14\" dx=\"-0.05\" dy=\"-0.20\" text-anchor=\"end\">15</text>\n",
       "    </g>\n",
       "    <g fill=\"#0305A7\" font-size=\"0.25\">\n",
       "      <text x=\"-10.81\" y=\"-0.14\" dx=\"-0.05\" dy=\"0.20\" text-anchor=\"end\">3</text>\n",
       "      <text x=\"-10.10\" y=\"0.28\" dx=\"-0.05\" dy=\"0.20\" text-anchor=\"end\">4</text>\n",
       "      <text x=\"-9.38\" y=\"-0.14\" dx=\"-0.15\" dy=\"0.35\" text-anchor=\"end\">1</text>\n",
       "    </g>\n",
       "  </g>\n",
       "</svg>"
      ],
      "text/plain": [
       "<CGRtools.containers.molecule.MoleculeContainer at 0x7f6ad7df0860>"
      ]
     },
     "execution_count": 32,
     "metadata": {},
     "output_type": "execute_result"
    }
   ],
   "source": [
    "m_copy # copy unchanged!"
   ]
  },
  {
   "cell_type": "markdown",
   "metadata": {},
   "source": [
    "*Atoms* and *bonds* objects can be converted into integer representation that could be used to classify their types.\n",
    "\n",
    "*Atom* type is represented by 21 bit code rounded to 32 bit integer number:\n",
    "\n",
    "* 9 bits are used for isotope (511 posibilities, highest known isotope is ~300)\n",
    "* 7 bits stand for atom number (2 ** 7 - 1 == 127, currently 118 elements are presented in Periodic Table)\n",
    "* 4 bits stand for formal charge. Charges range from -4 to +4 rescaled to range 0-8\n",
    "* 1 bit are used for radical state."
   ]
  },
  {
   "cell_type": "code",
   "execution_count": 33,
   "metadata": {},
   "outputs": [
    {
     "data": {
      "text/plain": [
       "61705"
      ]
     },
     "execution_count": 33,
     "metadata": {},
     "output_type": "execute_result"
    }
   ],
   "source": [
    "int(a)\n",
    "# 61705 == 000001111 0001000 0100 1\n",
    "# 000001111 == 15 isotope\n",
    "# 0001000 == 8 Oxygen\n",
    "# 0100 == 4 (4 - 4 = 0) uncharged\n",
    "# 1 == 1 is radical"
   ]
  },
  {
   "cell_type": "code",
   "execution_count": 34,
   "metadata": {},
   "outputs": [
    {
     "data": {
      "text/plain": [
       "2"
      ]
     },
     "execution_count": 34,
     "metadata": {},
     "output_type": "execute_result"
    }
   ],
   "source": [
    "int(b)  # bonds are encoded by their order"
   ]
  },
  {
   "cell_type": "code",
   "execution_count": 35,
   "metadata": {},
   "outputs": [
    {
     "name": "stdout",
     "output_type": "stream",
     "text": [
      "1\n",
      "0\n",
      "1\n"
     ]
    }
   ],
   "source": [
    "a = m_copy.atom(1)\n",
    "print(a.implicit_hydrogens) # get number of implicit hydrogens on atom 1\n",
    "print(a.explicit_hydrogens) # get number of explicit hydrogens on atom 1\n",
    "print(a.total_hydrogens) # get total number of hydrogens on atom 1"
   ]
  },
  {
   "cell_type": "code",
   "execution_count": 36,
   "metadata": {},
   "outputs": [
    {
     "data": {
      "image/svg+xml": [
       "<svg width=\"2.21cm\" height=\"1.66cm\" viewBox=\"-10.72 -0.76 2.21 1.66\" xmlns=\"http://www.w3.org/2000/svg\" version=\"1.1\">\n",
       "  <defs>\n",
       "    <mask id=\"mask-3869f087-15f3-45a3-970b-367f54bdad43\">\n",
       "      <rect x=\"-10.72\" y=\"-0.76\" width=\"2.21\" height=\"1.66\" fill=\"white\"/>\n",
       "      <g fill=\"black\">\n",
       "        <circle cx=\"-9.38\" cy=\"-0.14\" r=\"0.20\"/>\n",
       "      </g>\n",
       "      <g font-family=\"monospace\" stroke=\"black\">\n",
       "        <g font-family=\"sans-serif\" font-size=\"0.50\" stroke-width=\"0.05\">\n",
       "         <text x=\"-9.38\" y=\"-0.14\" dx=\"-0.20\" dy=\"0.20\">O</text>\n",
       "        </g>\n",
       "        <g font-size=\"0.25\" stroke-width=\"0.03\">\n",
       "         <text x=\"-10.10\" y=\"0.28\" dx=\"-0.05\" dy=\"0.20\" text-anchor=\"end\">4</text>\n",
       "         <text x=\"-9.38\" y=\"-0.14\" dx=\"-0.15\" dy=\"0.35\" text-anchor=\"end\">1</text>\n",
       "        </g>\n",
       "        <g font-family=\"monospace\" font-size=\"0.3\" stroke-width=\"0.03\">\n",
       "         <text x=\"-9.38\" y=\"-0.14\" dx=\"0.05\" dy=\"-0.20\">↑</text>\n",
       "         <text x=\"-9.38\" y=\"-0.14\" dx=\"-0.05\" dy=\"-0.20\" text-anchor=\"end\">15</text>\n",
       "        </g>\n",
       "      </g>\n",
       "    </mask>\n",
       "  </defs>\n",
       "  <g fill=\"none\" stroke=\"black\" stroke-width=\"0.04\"  mask=\"url(#mask-3869f087-15f3-45a3-970b-367f54bdad43)\">\n",
       "    <line x1=\"-10.72\" y1=\"-0.76\" x2=\"-8.51\" y2=\"-0.76\" stroke=\"none\"/>\n",
       "    <line x1=\"-10.10\" y1=\"0.28\" x2=\"-9.38\" y2=\"-0.14\"/>\n",
       "  </g>\n",
       "  <g font-family=\"monospace\">\n",
       "    <g fill=\"#FF0D0D\" font-family=\"sans-serif\">\n",
       "      <text x=\"-9.38\" y=\"-0.14\" dx=\"-0.20\" dy=\"0.20\" font-size=\"0.50\">O</text>\n",
       "    </g>\n",
       "    <g font-family=\"monospace\" fill=\"black\" font-size=\"0.30\">\n",
       "      <text x=\"-9.38\" y=\"-0.14\" dx=\"0.05\" dy=\"-0.20\">↑</text>\n",
       "      <text x=\"-9.38\" y=\"-0.14\" dx=\"-0.05\" dy=\"-0.20\" text-anchor=\"end\">15</text>\n",
       "    </g>\n",
       "    <g fill=\"#0305A7\" font-size=\"0.25\">\n",
       "      <text x=\"-10.10\" y=\"0.28\" dx=\"-0.05\" dy=\"0.20\" text-anchor=\"end\">4</text>\n",
       "      <text x=\"-9.38\" y=\"-0.14\" dx=\"-0.15\" dy=\"0.35\" text-anchor=\"end\">1</text>\n",
       "    </g>\n",
       "  </g>\n",
       "</svg>"
      ],
      "text/plain": [
       "<CGRtools.containers.molecule.MoleculeContainer at 0x7f6ad80f2900>"
      ]
     },
     "execution_count": 36,
     "metadata": {},
     "output_type": "execute_result"
    }
   ],
   "source": [
    "m1"
   ]
  },
  {
   "cell_type": "code",
   "execution_count": 37,
   "metadata": {},
   "outputs": [
    {
     "data": {
      "text/plain": [
       "[]"
      ]
     },
     "execution_count": 37,
     "metadata": {},
     "output_type": "execute_result"
    }
   ],
   "source": [
    "m1.check_valence() # return list of numbers of atoms with invalid valences"
   ]
  },
  {
   "cell_type": "code",
   "execution_count": 38,
   "metadata": {},
   "outputs": [
    {
     "data": {
      "image/svg+xml": [
       "<svg width=\"2.21cm\" height=\"1.66cm\" viewBox=\"-10.72 -0.76 2.21 1.66\" xmlns=\"http://www.w3.org/2000/svg\" version=\"1.1\">\n",
       "  <defs>\n",
       "    <mask id=\"mask-0a1e1ba6-755a-4df2-a437-fa0ae554ed35\">\n",
       "      <rect x=\"-10.72\" y=\"-0.76\" width=\"2.21\" height=\"1.66\" fill=\"white\"/>\n",
       "      <g fill=\"black\">\n",
       "        <circle cx=\"-9.38\" cy=\"-0.14\" r=\"0.20\"/>\n",
       "      </g>\n",
       "      <g font-family=\"monospace\" stroke=\"black\">\n",
       "        <g font-family=\"sans-serif\" font-size=\"0.50\" stroke-width=\"0.05\">\n",
       "         <text x=\"-9.38\" y=\"-0.14\" dx=\"-0.20\" dy=\"0.20\">O</text>\n",
       "        </g>\n",
       "        <g font-size=\"0.25\" stroke-width=\"0.03\">\n",
       "         <text x=\"-10.10\" y=\"0.28\" dx=\"-0.05\" dy=\"0.20\" text-anchor=\"end\">4</text>\n",
       "         <text x=\"-9.38\" y=\"-0.14\" dx=\"-0.15\" dy=\"0.35\" text-anchor=\"end\">1</text>\n",
       "        </g>\n",
       "      </g>\n",
       "    </mask>\n",
       "  </defs>\n",
       "  <g fill=\"none\" stroke=\"black\" stroke-width=\"0.04\"  mask=\"url(#mask-0a1e1ba6-755a-4df2-a437-fa0ae554ed35)\">\n",
       "    <line x1=\"-10.16\" y1=\"0.16\" x2=\"-9.45\" y2=\"-0.25\"/>\n",
       "    <line x1=\"-10.10\" y1=\"0.28\" x2=\"-9.38\" y2=\"-0.14\"/>\n",
       "    <line x1=\"-10.03\" y1=\"0.39\" x2=\"-9.32\" y2=\"-0.02\"/>\n",
       "  </g>\n",
       "  <g font-family=\"monospace\">\n",
       "    <g fill=\"#FF0D0D\" font-family=\"sans-serif\">\n",
       "      <text x=\"-9.38\" y=\"-0.14\" dx=\"-0.20\" dy=\"0.20\" font-size=\"0.50\">O</text>\n",
       "    </g>\n",
       "    <g fill=\"#0305A7\" font-size=\"0.25\">\n",
       "      <text x=\"-10.10\" y=\"0.28\" dx=\"-0.05\" dy=\"0.20\" text-anchor=\"end\">4</text>\n",
       "      <text x=\"-9.38\" y=\"-0.14\" dx=\"-0.15\" dy=\"0.35\" text-anchor=\"end\">1</text>\n",
       "    </g>\n",
       "  </g>\n",
       "</svg>"
      ],
      "text/plain": [
       "<CGRtools.containers.molecule.MoleculeContainer at 0x7f6ad80f2ae0>"
      ]
     },
     "execution_count": 38,
     "metadata": {},
     "output_type": "execute_result"
    }
   ],
   "source": [
    "m4 # molecule with valence errors"
   ]
  },
  {
   "cell_type": "code",
   "execution_count": 39,
   "metadata": {},
   "outputs": [
    {
     "data": {
      "text/plain": [
       "[1]"
      ]
     },
     "execution_count": 39,
     "metadata": {},
     "output_type": "execute_result"
    }
   ],
   "source": [
    "m4.check_valence()"
   ]
  },
  {
   "cell_type": "code",
   "execution_count": 40,
   "metadata": {},
   "outputs": [
    {
     "data": {
      "image/svg+xml": [
       "<svg width=\"2.93cm\" height=\"4.96cm\" viewBox=\"1.80 -4.34 2.93 4.96\" xmlns=\"http://www.w3.org/2000/svg\" version=\"1.1\">\n",
       "  <defs>\n",
       "    <mask id=\"mask-e1682f79-87a9-49bb-91f9-b2bd537daefe\">\n",
       "      <rect x=\"1.80\" y=\"-4.34\" width=\"2.93\" height=\"4.96\" fill=\"white\"/>\n",
       "      <g fill=\"black\">\n",
       "        <circle cx=\"3.14\" cy=\"-3.30\" r=\"0.20\"/>\n",
       "        <circle cx=\"2.43\" cy=\"-3.71\" r=\"0.20\"/>\n",
       "        <circle cx=\"3.86\" cy=\"-3.71\" r=\"0.20\"/>\n",
       "        <circle cx=\"3.14\" cy=\"-0.00\" r=\"0.20\"/>\n",
       "      </g>\n",
       "      <g font-family=\"monospace\" stroke=\"black\">\n",
       "        <g font-family=\"sans-serif\" font-size=\"0.50\" stroke-width=\"0.05\">\n",
       "         <text x=\"3.14\" y=\"-3.30\" dx=\"-0.20\" dy=\"0.20\">N</text>\n",
       "         <text x=\"2.43\" y=\"-3.71\" dx=\"-0.20\" dy=\"0.20\">O</text>\n",
       "         <text x=\"3.86\" y=\"-3.71\" dx=\"-0.20\" dy=\"0.20\">O</text>\n",
       "         <text x=\"3.14\" y=\"-0.00\" dx=\"-0.20\" dy=\"0.20\">OH</text>\n",
       "        </g>\n",
       "        <g font-size=\"0.25\" stroke-width=\"0.03\">\n",
       "         <text x=\"3.14\" y=\"-2.48\" dx=\"-0.05\" dy=\"0.20\" text-anchor=\"end\">4</text>\n",
       "         <text x=\"3.86\" y=\"-2.06\" dx=\"-0.05\" dy=\"0.20\" text-anchor=\"end\">5</text>\n",
       "         <text x=\"3.86\" y=\"-1.24\" dx=\"-0.05\" dy=\"0.20\" text-anchor=\"end\">6</text>\n",
       "         <text x=\"3.14\" y=\"-0.82\" dx=\"-0.05\" dy=\"0.20\" text-anchor=\"end\">7</text>\n",
       "         <text x=\"2.43\" y=\"-1.24\" dx=\"-0.05\" dy=\"0.20\" text-anchor=\"end\">8</text>\n",
       "         <text x=\"2.43\" y=\"-2.06\" dx=\"-0.05\" dy=\"0.20\" text-anchor=\"end\">9</text>\n",
       "         <text x=\"3.14\" y=\"-3.30\" dx=\"-0.15\" dy=\"0.35\" text-anchor=\"end\">10</text>\n",
       "         <text x=\"2.43\" y=\"-3.71\" dx=\"-0.15\" dy=\"0.35\" text-anchor=\"end\">11</text>\n",
       "         <text x=\"3.86\" y=\"-3.71\" dx=\"-0.15\" dy=\"0.35\" text-anchor=\"end\">12</text>\n",
       "         <text x=\"3.14\" y=\"-0.00\" dx=\"-0.15\" dy=\"0.35\" text-anchor=\"end\">13</text>\n",
       "        </g>\n",
       "      </g>\n",
       "    </mask>\n",
       "  </defs>\n",
       "  <g fill=\"none\" stroke=\"black\" stroke-width=\"0.04\"  mask=\"url(#mask-e1682f79-87a9-49bb-91f9-b2bd537daefe)\">\n",
       "    <line x1=\"3.14\" y1=\"-2.48\" x2=\"3.86\" y2=\"-2.06\"/>\n",
       "    <line x1=\"3.17\" y1=\"-2.42\" x2=\"2.46\" y2=\"-2.01\"/>\n",
       "    <line x1=\"3.11\" y1=\"-2.53\" x2=\"2.40\" y2=\"-2.11\"/>\n",
       "    <line x1=\"3.14\" y1=\"-2.48\" x2=\"3.14\" y2=\"-3.30\"/>\n",
       "    <line x1=\"3.92\" y1=\"-2.06\" x2=\"3.92\" y2=\"-1.24\"/>\n",
       "    <line x1=\"3.80\" y1=\"-2.06\" x2=\"3.80\" y2=\"-1.24\"/>\n",
       "    <line x1=\"3.86\" y1=\"-1.24\" x2=\"3.14\" y2=\"-0.82\"/>\n",
       "    <line x1=\"3.11\" y1=\"-0.77\" x2=\"2.40\" y2=\"-1.19\"/>\n",
       "    <line x1=\"3.17\" y1=\"-0.88\" x2=\"2.46\" y2=\"-1.29\"/>\n",
       "    <line x1=\"3.14\" y1=\"-0.82\" x2=\"3.14\" y2=\"-0.00\"/>\n",
       "    <line x1=\"2.43\" y1=\"-1.24\" x2=\"2.43\" y2=\"-2.06\"/>\n",
       "    <line x1=\"3.11\" y1=\"-3.25\" x2=\"2.40\" y2=\"-3.66\"/>\n",
       "    <line x1=\"3.17\" y1=\"-3.35\" x2=\"2.46\" y2=\"-3.76\"/>\n",
       "    <line x1=\"3.11\" y1=\"-3.35\" x2=\"3.83\" y2=\"-3.76\"/>\n",
       "    <line x1=\"3.17\" y1=\"-3.25\" x2=\"3.89\" y2=\"-3.66\"/>\n",
       "  </g>\n",
       "  <g font-family=\"monospace\">\n",
       "    <g fill=\"#3050F8\" font-family=\"sans-serif\">\n",
       "      <text x=\"3.14\" y=\"-3.30\" dx=\"-0.20\" dy=\"0.20\" font-size=\"0.50\">N</text>\n",
       "    </g>\n",
       "    <g fill=\"#FF0D0D\" font-family=\"sans-serif\">\n",
       "      <text x=\"2.43\" y=\"-3.71\" dx=\"-0.20\" dy=\"0.20\" font-size=\"0.50\">O</text>\n",
       "    </g>\n",
       "    <g fill=\"#FF0D0D\" font-family=\"sans-serif\">\n",
       "      <text x=\"3.86\" y=\"-3.71\" dx=\"-0.20\" dy=\"0.20\" font-size=\"0.50\">O</text>\n",
       "    </g>\n",
       "    <g fill=\"#FF0D0D\" font-family=\"sans-serif\">\n",
       "      <text x=\"3.14\" y=\"-0.00\" dx=\"-0.20\" dy=\"0.20\" font-size=\"0.50\">OH</text>\n",
       "    </g>\n",
       "    <g fill=\"#0305A7\" font-size=\"0.25\">\n",
       "      <text x=\"3.14\" y=\"-2.48\" dx=\"-0.05\" dy=\"0.20\" text-anchor=\"end\">4</text>\n",
       "      <text x=\"3.86\" y=\"-2.06\" dx=\"-0.05\" dy=\"0.20\" text-anchor=\"end\">5</text>\n",
       "      <text x=\"3.86\" y=\"-1.24\" dx=\"-0.05\" dy=\"0.20\" text-anchor=\"end\">6</text>\n",
       "      <text x=\"3.14\" y=\"-0.82\" dx=\"-0.05\" dy=\"0.20\" text-anchor=\"end\">7</text>\n",
       "      <text x=\"2.43\" y=\"-1.24\" dx=\"-0.05\" dy=\"0.20\" text-anchor=\"end\">8</text>\n",
       "      <text x=\"2.43\" y=\"-2.06\" dx=\"-0.05\" dy=\"0.20\" text-anchor=\"end\">9</text>\n",
       "      <text x=\"3.14\" y=\"-3.30\" dx=\"-0.15\" dy=\"0.35\" text-anchor=\"end\">10</text>\n",
       "      <text x=\"2.43\" y=\"-3.71\" dx=\"-0.15\" dy=\"0.35\" text-anchor=\"end\">11</text>\n",
       "      <text x=\"3.86\" y=\"-3.71\" dx=\"-0.15\" dy=\"0.35\" text-anchor=\"end\">12</text>\n",
       "      <text x=\"3.14\" y=\"-0.00\" dx=\"-0.15\" dy=\"0.35\" text-anchor=\"end\">13</text>\n",
       "    </g>\n",
       "  </g>\n",
       "</svg>"
      ],
      "text/plain": [
       "<CGRtools.containers.molecule.MoleculeContainer at 0x7f6ad80f2a40>"
      ]
     },
     "execution_count": 40,
     "metadata": {},
     "output_type": "execute_result"
    }
   ],
   "source": [
    "m3"
   ]
  },
  {
   "cell_type": "code",
   "execution_count": 41,
   "metadata": {},
   "outputs": [
    {
     "data": {
      "text/plain": [
       "((4, 5, 6, 7, 8, 9),)"
      ]
     },
     "execution_count": 41,
     "metadata": {},
     "output_type": "execute_result"
    }
   ],
   "source": [
    "m3.sssr # Method for application of Smallest Set of Smallest Rings algorithm for rings \n",
    "        # identification. Returns tuple of tuples of atoms forming smallest rings"
   ]
  },
  {
   "cell_type": "markdown",
   "metadata": {},
   "source": [
    "#### Connected components.\n",
    "Sometimes molecules has disconnected components (salts etc).\n",
    "\n",
    "One can find them and split molecule to separate components."
   ]
  },
  {
   "cell_type": "code",
   "execution_count": 42,
   "metadata": {
    "scrolled": true
   },
   "outputs": [
    {
     "data": {
      "image/svg+xml": [
       "<svg width=\"9.00cm\" height=\"3.39cm\" viewBox=\"-8.12 -1.70 9.00 3.39\" xmlns=\"http://www.w3.org/2000/svg\" version=\"1.1\">\n",
       "  <defs>\n",
       "    <mask id=\"mask-13742e08-b61a-4650-82a1-531f83972073\">\n",
       "      <rect x=\"-8.12\" y=\"-1.70\" width=\"9.00\" height=\"3.39\" fill=\"white\"/>\n",
       "      <g fill=\"black\">\n",
       "        <circle cx=\"-6.67\" cy=\"-1.07\" r=\"0.20\"/>\n",
       "        <circle cx=\"-5.44\" cy=\"-0.36\" r=\"0.20\"/>\n",
       "        <circle cx=\"-6.26\" cy=\"1.07\" r=\"0.20\"/>\n",
       "        <circle cx=\"-7.50\" cy=\"0.36\" r=\"0.20\"/>\n",
       "        <ellipse cx=\"-0.07\" cy=\"-0.00\" rx=\"0.35\" ry=\"0.2\"/>\n",
       "      </g>\n",
       "      <g font-family=\"monospace\" stroke=\"black\">\n",
       "        <g font-family=\"sans-serif\" font-size=\"0.50\" stroke-width=\"0.05\">\n",
       "         <text x=\"-6.67\" y=\"-1.07\" dx=\"-0.20\" dy=\"0.20\">O</text>\n",
       "         <text x=\"-5.44\" y=\"-0.36\" dx=\"-0.20\" dy=\"0.20\">O</text>\n",
       "         <text x=\"-6.26\" y=\"1.07\" dx=\"-0.20\" dy=\"0.20\">O</text>\n",
       "         <text x=\"-7.50\" y=\"0.36\" dx=\"-0.20\" dy=\"0.20\">OH</text>\n",
       "         <text x=\"0.00\" y=\"-0.00\" dx=\"-0.35\" dy=\"0.20\">Na</text>\n",
       "        </g>\n",
       "        <g font-size=\"0.25\" stroke-width=\"0.03\">\n",
       "         <text x=\"-6.26\" y=\"-0.36\" dx=\"-0.05\" dy=\"0.20\" text-anchor=\"end\">5</text>\n",
       "         <text x=\"-6.67\" y=\"0.36\" dx=\"-0.05\" dy=\"0.20\" text-anchor=\"end\">6</text>\n",
       "         <text x=\"-6.67\" y=\"-1.07\" dx=\"-0.15\" dy=\"0.35\" text-anchor=\"end\">7</text>\n",
       "         <text x=\"-5.44\" y=\"-0.36\" dx=\"-0.15\" dy=\"0.35\" text-anchor=\"end\">8</text>\n",
       "         <text x=\"-6.26\" y=\"1.07\" dx=\"-0.15\" dy=\"0.35\" text-anchor=\"end\">9</text>\n",
       "         <text x=\"-7.50\" y=\"0.36\" dx=\"-0.15\" dy=\"0.35\" text-anchor=\"end\">10</text>\n",
       "         <text x=\"0.00\" y=\"-0.00\" dx=\"-0.30\" dy=\"0.35\" text-anchor=\"end\">11</text>\n",
       "        </g>\n",
       "        <g font-family=\"monospace\" font-size=\"0.3\" stroke-width=\"0.03\">\n",
       "         <text x=\"-5.44\" y=\"-0.36\" dx=\"0.05\" dy=\"-0.20\">-</text>\n",
       "         <text x=\"0.00\" y=\"-0.00\" dx=\"0.05\" dy=\"-0.20\">+</text>\n",
       "        </g>\n",
       "      </g>\n",
       "    </mask>\n",
       "  </defs>\n",
       "  <g fill=\"none\" stroke=\"black\" stroke-width=\"0.04\"  mask=\"url(#mask-13742e08-b61a-4650-82a1-531f83972073)\">\n",
       "    <line x1=\"-6.26\" y1=\"-0.36\" x2=\"-6.67\" y2=\"0.36\"/>\n",
       "    <line x1=\"-6.31\" y1=\"-0.33\" x2=\"-6.73\" y2=\"-1.04\"/>\n",
       "    <line x1=\"-6.21\" y1=\"-0.39\" x2=\"-6.62\" y2=\"-1.10\"/>\n",
       "    <line x1=\"-6.26\" y1=\"-0.36\" x2=\"-5.44\" y2=\"-0.36\"/>\n",
       "    <line x1=\"-6.62\" y1=\"0.33\" x2=\"-6.21\" y2=\"1.04\"/>\n",
       "    <line x1=\"-6.73\" y1=\"0.39\" x2=\"-6.31\" y2=\"1.10\"/>\n",
       "    <line x1=\"-6.67\" y1=\"0.36\" x2=\"-7.50\" y2=\"0.36\"/>\n",
       "  </g>\n",
       "  <g font-family=\"monospace\">\n",
       "    <g fill=\"#FF0D0D\" font-family=\"sans-serif\">\n",
       "      <text x=\"-6.67\" y=\"-1.07\" dx=\"-0.20\" dy=\"0.20\" font-size=\"0.50\">O</text>\n",
       "    </g>\n",
       "    <g fill=\"#FF0D0D\" font-family=\"sans-serif\">\n",
       "      <text x=\"-5.44\" y=\"-0.36\" dx=\"-0.20\" dy=\"0.20\" font-size=\"0.50\">O</text>\n",
       "    </g>\n",
       "    <g fill=\"#FF0D0D\" font-family=\"sans-serif\">\n",
       "      <text x=\"-6.26\" y=\"1.07\" dx=\"-0.20\" dy=\"0.20\" font-size=\"0.50\">O</text>\n",
       "    </g>\n",
       "    <g fill=\"#FF0D0D\" font-family=\"sans-serif\">\n",
       "      <text x=\"-7.50\" y=\"0.36\" dx=\"-0.20\" dy=\"0.20\" font-size=\"0.50\">OH</text>\n",
       "    </g>\n",
       "    <g fill=\"#AB5CF2\" font-family=\"sans-serif\">\n",
       "      <text x=\"0.00\" y=\"-0.00\" dx=\"-0.35\" dy=\"0.20\" font-size=\"0.50\">Na</text>\n",
       "    </g>\n",
       "    <g font-family=\"monospace\" fill=\"black\" font-size=\"0.30\">\n",
       "      <text x=\"-5.44\" y=\"-0.36\" dx=\"0.05\" dy=\"-0.20\">-</text>\n",
       "      <text x=\"0.00\" y=\"-0.00\" dx=\"0.05\" dy=\"-0.20\">+</text>\n",
       "    </g>\n",
       "    <g fill=\"#0305A7\" font-size=\"0.25\">\n",
       "      <text x=\"-6.26\" y=\"-0.36\" dx=\"-0.05\" dy=\"0.20\" text-anchor=\"end\">5</text>\n",
       "      <text x=\"-6.67\" y=\"0.36\" dx=\"-0.05\" dy=\"0.20\" text-anchor=\"end\">6</text>\n",
       "      <text x=\"-6.67\" y=\"-1.07\" dx=\"-0.15\" dy=\"0.35\" text-anchor=\"end\">7</text>\n",
       "      <text x=\"-5.44\" y=\"-0.36\" dx=\"-0.15\" dy=\"0.35\" text-anchor=\"end\">8</text>\n",
       "      <text x=\"-6.26\" y=\"1.07\" dx=\"-0.15\" dy=\"0.35\" text-anchor=\"end\">9</text>\n",
       "      <text x=\"-7.50\" y=\"0.36\" dx=\"-0.15\" dy=\"0.35\" text-anchor=\"end\">10</text>\n",
       "      <text x=\"0.00\" y=\"-0.00\" dx=\"-0.30\" dy=\"0.35\" text-anchor=\"end\">11</text>\n",
       "    </g>\n",
       "  </g>\n",
       "</svg>"
      ],
      "text/plain": [
       "<CGRtools.containers.molecule.MoleculeContainer at 0x7f6ad80f29a0>"
      ]
     },
     "execution_count": 42,
     "metadata": {},
     "output_type": "execute_result"
    }
   ],
   "source": [
    "m2 # it's a salt represented as one graph"
   ]
  },
  {
   "cell_type": "code",
   "execution_count": 43,
   "metadata": {},
   "outputs": [
    {
     "data": {
      "text/plain": [
       "((5, 6, 7, 8, 9, 10), (11,))"
      ]
     },
     "execution_count": 43,
     "metadata": {},
     "output_type": "execute_result"
    }
   ],
   "source": [
    "m2.connected_components # tuple of tuples of atoms belonging to graph components"
   ]
  },
  {
   "cell_type": "code",
   "execution_count": 44,
   "metadata": {},
   "outputs": [],
   "source": [
    "anion, cation = m2.split() # split molecule to components"
   ]
  },
  {
   "cell_type": "code",
   "execution_count": 45,
   "metadata": {},
   "outputs": [
    {
     "data": {
      "image/svg+xml": [
       "<svg width=\"3.56cm\" height=\"3.39cm\" viewBox=\"-8.12 -1.70 3.56 3.39\" xmlns=\"http://www.w3.org/2000/svg\" version=\"1.1\">\n",
       "  <defs>\n",
       "    <mask id=\"mask-d8d51888-efdc-4b61-83dc-5be9bed60b33\">\n",
       "      <rect x=\"-8.12\" y=\"-1.70\" width=\"3.56\" height=\"3.39\" fill=\"white\"/>\n",
       "      <g fill=\"black\">\n",
       "        <circle cx=\"-6.67\" cy=\"-1.07\" r=\"0.20\"/>\n",
       "        <circle cx=\"-5.44\" cy=\"-0.36\" r=\"0.20\"/>\n",
       "        <circle cx=\"-6.26\" cy=\"1.07\" r=\"0.20\"/>\n",
       "        <circle cx=\"-7.50\" cy=\"0.36\" r=\"0.20\"/>\n",
       "      </g>\n",
       "      <g font-family=\"monospace\" stroke=\"black\">\n",
       "        <g font-family=\"sans-serif\" font-size=\"0.50\" stroke-width=\"0.05\">\n",
       "         <text x=\"-6.67\" y=\"-1.07\" dx=\"-0.20\" dy=\"0.20\">O</text>\n",
       "         <text x=\"-5.44\" y=\"-0.36\" dx=\"-0.20\" dy=\"0.20\">O</text>\n",
       "         <text x=\"-6.26\" y=\"1.07\" dx=\"-0.20\" dy=\"0.20\">O</text>\n",
       "         <text x=\"-7.50\" y=\"0.36\" dx=\"-0.20\" dy=\"0.20\">OH</text>\n",
       "        </g>\n",
       "        <g font-size=\"0.25\" stroke-width=\"0.03\">\n",
       "         <text x=\"-6.26\" y=\"-0.36\" dx=\"-0.05\" dy=\"0.20\" text-anchor=\"end\">5</text>\n",
       "         <text x=\"-6.67\" y=\"0.36\" dx=\"-0.05\" dy=\"0.20\" text-anchor=\"end\">6</text>\n",
       "         <text x=\"-6.67\" y=\"-1.07\" dx=\"-0.15\" dy=\"0.35\" text-anchor=\"end\">7</text>\n",
       "         <text x=\"-5.44\" y=\"-0.36\" dx=\"-0.15\" dy=\"0.35\" text-anchor=\"end\">8</text>\n",
       "         <text x=\"-6.26\" y=\"1.07\" dx=\"-0.15\" dy=\"0.35\" text-anchor=\"end\">9</text>\n",
       "         <text x=\"-7.50\" y=\"0.36\" dx=\"-0.15\" dy=\"0.35\" text-anchor=\"end\">10</text>\n",
       "        </g>\n",
       "        <g font-family=\"monospace\" font-size=\"0.3\" stroke-width=\"0.03\">\n",
       "         <text x=\"-5.44\" y=\"-0.36\" dx=\"0.05\" dy=\"-0.20\">-</text>\n",
       "        </g>\n",
       "      </g>\n",
       "    </mask>\n",
       "  </defs>\n",
       "  <g fill=\"none\" stroke=\"black\" stroke-width=\"0.04\"  mask=\"url(#mask-d8d51888-efdc-4b61-83dc-5be9bed60b33)\">\n",
       "    <line x1=\"-6.26\" y1=\"-0.36\" x2=\"-6.67\" y2=\"0.36\"/>\n",
       "    <line x1=\"-6.31\" y1=\"-0.33\" x2=\"-6.73\" y2=\"-1.04\"/>\n",
       "    <line x1=\"-6.21\" y1=\"-0.39\" x2=\"-6.62\" y2=\"-1.10\"/>\n",
       "    <line x1=\"-6.26\" y1=\"-0.36\" x2=\"-5.44\" y2=\"-0.36\"/>\n",
       "    <line x1=\"-6.62\" y1=\"0.33\" x2=\"-6.21\" y2=\"1.04\"/>\n",
       "    <line x1=\"-6.73\" y1=\"0.39\" x2=\"-6.31\" y2=\"1.10\"/>\n",
       "    <line x1=\"-6.67\" y1=\"0.36\" x2=\"-7.50\" y2=\"0.36\"/>\n",
       "  </g>\n",
       "  <g font-family=\"monospace\">\n",
       "    <g fill=\"#FF0D0D\" font-family=\"sans-serif\">\n",
       "      <text x=\"-6.67\" y=\"-1.07\" dx=\"-0.20\" dy=\"0.20\" font-size=\"0.50\">O</text>\n",
       "    </g>\n",
       "    <g fill=\"#FF0D0D\" font-family=\"sans-serif\">\n",
       "      <text x=\"-5.44\" y=\"-0.36\" dx=\"-0.20\" dy=\"0.20\" font-size=\"0.50\">O</text>\n",
       "    </g>\n",
       "    <g fill=\"#FF0D0D\" font-family=\"sans-serif\">\n",
       "      <text x=\"-6.26\" y=\"1.07\" dx=\"-0.20\" dy=\"0.20\" font-size=\"0.50\">O</text>\n",
       "    </g>\n",
       "    <g fill=\"#FF0D0D\" font-family=\"sans-serif\">\n",
       "      <text x=\"-7.50\" y=\"0.36\" dx=\"-0.20\" dy=\"0.20\" font-size=\"0.50\">OH</text>\n",
       "    </g>\n",
       "    <g font-family=\"monospace\" fill=\"black\" font-size=\"0.30\">\n",
       "      <text x=\"-5.44\" y=\"-0.36\" dx=\"0.05\" dy=\"-0.20\">-</text>\n",
       "    </g>\n",
       "    <g fill=\"#0305A7\" font-size=\"0.25\">\n",
       "      <text x=\"-6.26\" y=\"-0.36\" dx=\"-0.05\" dy=\"0.20\" text-anchor=\"end\">5</text>\n",
       "      <text x=\"-6.67\" y=\"0.36\" dx=\"-0.05\" dy=\"0.20\" text-anchor=\"end\">6</text>\n",
       "      <text x=\"-6.67\" y=\"-1.07\" dx=\"-0.15\" dy=\"0.35\" text-anchor=\"end\">7</text>\n",
       "      <text x=\"-5.44\" y=\"-0.36\" dx=\"-0.15\" dy=\"0.35\" text-anchor=\"end\">8</text>\n",
       "      <text x=\"-6.26\" y=\"1.07\" dx=\"-0.15\" dy=\"0.35\" text-anchor=\"end\">9</text>\n",
       "      <text x=\"-7.50\" y=\"0.36\" dx=\"-0.15\" dy=\"0.35\" text-anchor=\"end\">10</text>\n",
       "    </g>\n",
       "  </g>\n",
       "</svg>"
      ],
      "text/plain": [
       "<CGRtools.containers.molecule.MoleculeContainer at 0x7f6ad7da9180>"
      ]
     },
     "execution_count": 45,
     "metadata": {},
     "output_type": "execute_result"
    }
   ],
   "source": [
    "anion # graph of only one salt component"
   ]
  },
  {
   "cell_type": "code",
   "execution_count": 46,
   "metadata": {},
   "outputs": [
    {
     "data": {
      "image/svg+xml": [
       "<svg width=\"1.50cm\" height=\"1.25cm\" viewBox=\"-0.62 -0.62 1.50 1.25\" xmlns=\"http://www.w3.org/2000/svg\" version=\"1.1\">\n",
       "  <g font-family=\"monospace\">\n",
       "    <g fill=\"#AB5CF2\" font-family=\"sans-serif\">\n",
       "      <text x=\"0.00\" y=\"-0.00\" dx=\"-0.35\" dy=\"0.20\" font-size=\"0.50\">Na</text>\n",
       "    </g>\n",
       "    <g font-family=\"monospace\" fill=\"black\" font-size=\"0.30\">\n",
       "      <text x=\"0.00\" y=\"-0.00\" dx=\"0.05\" dy=\"-0.20\">+</text>\n",
       "    </g>\n",
       "    <g fill=\"#0305A7\" font-size=\"0.25\">\n",
       "      <text x=\"0.00\" y=\"-0.00\" dx=\"-0.30\" dy=\"0.35\" text-anchor=\"end\">11</text>\n",
       "    </g>\n",
       "  </g>\n",
       "</svg>"
      ],
      "text/plain": [
       "<CGRtools.containers.molecule.MoleculeContainer at 0x7f6ad7da9400>"
      ]
     },
     "execution_count": 46,
     "metadata": {},
     "output_type": "execute_result"
    }
   ],
   "source": [
    "cation # graph of only one salt component"
   ]
  },
  {
   "cell_type": "markdown",
   "metadata": {},
   "source": [
    "#### Union of molecules\n",
    "Sometimes it is more convenient to represent salts as ion pair. Otherwise ambiguity could be introduced, for example in reaction of salt exchange:\n",
    "\n",
    "**Ag+** + **NO3-** + **Na+** + **Br-** = **Ag+** + **Br-** + **Na+** + **NO3-**. Reactants and products sets are the same. \n",
    "\n",
    "In this case one can combine anion-cation pair into single graph. It could be convenient way to represent other molecule mixtures."
   ]
  },
  {
   "cell_type": "code",
   "execution_count": 47,
   "metadata": {},
   "outputs": [
    {
     "data": {
      "image/svg+xml": [
       "<svg width=\"9.00cm\" height=\"3.39cm\" viewBox=\"-8.12 -1.70 9.00 3.39\" xmlns=\"http://www.w3.org/2000/svg\" version=\"1.1\">\n",
       "  <defs>\n",
       "    <mask id=\"mask-42246ca0-e0c1-403f-8887-e6843203b438\">\n",
       "      <rect x=\"-8.12\" y=\"-1.70\" width=\"9.00\" height=\"3.39\" fill=\"white\"/>\n",
       "      <g fill=\"black\">\n",
       "        <circle cx=\"-6.67\" cy=\"-1.07\" r=\"0.20\"/>\n",
       "        <circle cx=\"-5.44\" cy=\"-0.36\" r=\"0.20\"/>\n",
       "        <circle cx=\"-6.26\" cy=\"1.07\" r=\"0.20\"/>\n",
       "        <circle cx=\"-7.50\" cy=\"0.36\" r=\"0.20\"/>\n",
       "        <ellipse cx=\"-0.07\" cy=\"-0.00\" rx=\"0.35\" ry=\"0.2\"/>\n",
       "      </g>\n",
       "      <g font-family=\"monospace\" stroke=\"black\">\n",
       "        <g font-family=\"sans-serif\" font-size=\"0.50\" stroke-width=\"0.05\">\n",
       "         <text x=\"-6.67\" y=\"-1.07\" dx=\"-0.20\" dy=\"0.20\">O</text>\n",
       "         <text x=\"-5.44\" y=\"-0.36\" dx=\"-0.20\" dy=\"0.20\">O</text>\n",
       "         <text x=\"-6.26\" y=\"1.07\" dx=\"-0.20\" dy=\"0.20\">O</text>\n",
       "         <text x=\"-7.50\" y=\"0.36\" dx=\"-0.20\" dy=\"0.20\">OH</text>\n",
       "         <text x=\"0.00\" y=\"-0.00\" dx=\"-0.35\" dy=\"0.20\">Na</text>\n",
       "        </g>\n",
       "        <g font-size=\"0.25\" stroke-width=\"0.03\">\n",
       "         <text x=\"-6.26\" y=\"-0.36\" dx=\"-0.05\" dy=\"0.20\" text-anchor=\"end\">5</text>\n",
       "         <text x=\"-6.67\" y=\"0.36\" dx=\"-0.05\" dy=\"0.20\" text-anchor=\"end\">6</text>\n",
       "         <text x=\"-6.67\" y=\"-1.07\" dx=\"-0.15\" dy=\"0.35\" text-anchor=\"end\">7</text>\n",
       "         <text x=\"-5.44\" y=\"-0.36\" dx=\"-0.15\" dy=\"0.35\" text-anchor=\"end\">8</text>\n",
       "         <text x=\"-6.26\" y=\"1.07\" dx=\"-0.15\" dy=\"0.35\" text-anchor=\"end\">9</text>\n",
       "         <text x=\"-7.50\" y=\"0.36\" dx=\"-0.15\" dy=\"0.35\" text-anchor=\"end\">10</text>\n",
       "         <text x=\"0.00\" y=\"-0.00\" dx=\"-0.30\" dy=\"0.35\" text-anchor=\"end\">11</text>\n",
       "        </g>\n",
       "        <g font-family=\"monospace\" font-size=\"0.3\" stroke-width=\"0.03\">\n",
       "         <text x=\"-5.44\" y=\"-0.36\" dx=\"0.05\" dy=\"-0.20\">-</text>\n",
       "         <text x=\"0.00\" y=\"-0.00\" dx=\"0.05\" dy=\"-0.20\">+</text>\n",
       "        </g>\n",
       "      </g>\n",
       "    </mask>\n",
       "  </defs>\n",
       "  <g fill=\"none\" stroke=\"black\" stroke-width=\"0.04\"  mask=\"url(#mask-42246ca0-e0c1-403f-8887-e6843203b438)\">\n",
       "    <line x1=\"-6.26\" y1=\"-0.36\" x2=\"-6.67\" y2=\"0.36\"/>\n",
       "    <line x1=\"-6.31\" y1=\"-0.33\" x2=\"-6.73\" y2=\"-1.04\"/>\n",
       "    <line x1=\"-6.21\" y1=\"-0.39\" x2=\"-6.62\" y2=\"-1.10\"/>\n",
       "    <line x1=\"-6.26\" y1=\"-0.36\" x2=\"-5.44\" y2=\"-0.36\"/>\n",
       "    <line x1=\"-6.62\" y1=\"0.33\" x2=\"-6.21\" y2=\"1.04\"/>\n",
       "    <line x1=\"-6.73\" y1=\"0.39\" x2=\"-6.31\" y2=\"1.10\"/>\n",
       "    <line x1=\"-6.67\" y1=\"0.36\" x2=\"-7.50\" y2=\"0.36\"/>\n",
       "  </g>\n",
       "  <g font-family=\"monospace\">\n",
       "    <g fill=\"#FF0D0D\" font-family=\"sans-serif\">\n",
       "      <text x=\"-6.67\" y=\"-1.07\" dx=\"-0.20\" dy=\"0.20\" font-size=\"0.50\">O</text>\n",
       "    </g>\n",
       "    <g fill=\"#FF0D0D\" font-family=\"sans-serif\">\n",
       "      <text x=\"-5.44\" y=\"-0.36\" dx=\"-0.20\" dy=\"0.20\" font-size=\"0.50\">O</text>\n",
       "    </g>\n",
       "    <g fill=\"#FF0D0D\" font-family=\"sans-serif\">\n",
       "      <text x=\"-6.26\" y=\"1.07\" dx=\"-0.20\" dy=\"0.20\" font-size=\"0.50\">O</text>\n",
       "    </g>\n",
       "    <g fill=\"#FF0D0D\" font-family=\"sans-serif\">\n",
       "      <text x=\"-7.50\" y=\"0.36\" dx=\"-0.20\" dy=\"0.20\" font-size=\"0.50\">OH</text>\n",
       "    </g>\n",
       "    <g fill=\"#AB5CF2\" font-family=\"sans-serif\">\n",
       "      <text x=\"0.00\" y=\"-0.00\" dx=\"-0.35\" dy=\"0.20\" font-size=\"0.50\">Na</text>\n",
       "    </g>\n",
       "    <g font-family=\"monospace\" fill=\"black\" font-size=\"0.30\">\n",
       "      <text x=\"-5.44\" y=\"-0.36\" dx=\"0.05\" dy=\"-0.20\">-</text>\n",
       "      <text x=\"0.00\" y=\"-0.00\" dx=\"0.05\" dy=\"-0.20\">+</text>\n",
       "    </g>\n",
       "    <g fill=\"#0305A7\" font-size=\"0.25\">\n",
       "      <text x=\"-6.26\" y=\"-0.36\" dx=\"-0.05\" dy=\"0.20\" text-anchor=\"end\">5</text>\n",
       "      <text x=\"-6.67\" y=\"0.36\" dx=\"-0.05\" dy=\"0.20\" text-anchor=\"end\">6</text>\n",
       "      <text x=\"-6.67\" y=\"-1.07\" dx=\"-0.15\" dy=\"0.35\" text-anchor=\"end\">7</text>\n",
       "      <text x=\"-5.44\" y=\"-0.36\" dx=\"-0.15\" dy=\"0.35\" text-anchor=\"end\">8</text>\n",
       "      <text x=\"-6.26\" y=\"1.07\" dx=\"-0.15\" dy=\"0.35\" text-anchor=\"end\">9</text>\n",
       "      <text x=\"-7.50\" y=\"0.36\" dx=\"-0.15\" dy=\"0.35\" text-anchor=\"end\">10</text>\n",
       "      <text x=\"0.00\" y=\"-0.00\" dx=\"-0.30\" dy=\"0.35\" text-anchor=\"end\">11</text>\n",
       "    </g>\n",
       "  </g>\n",
       "</svg>"
      ],
      "text/plain": [
       "<CGRtools.containers.molecule.MoleculeContainer at 0x7f6ad7da9540>"
      ]
     },
     "execution_count": 47,
     "metadata": {},
     "output_type": "execute_result"
    }
   ],
   "source": [
    "salt = anion | cation \n",
    "# or \n",
    "salt = anion.union(cation)\n",
    "salt # this graph has disconnected components, it is considered single compound now"
   ]
  },
  {
   "cell_type": "markdown",
   "metadata": {},
   "source": [
    "#### Substructures could be extracted from molecules.\n"
   ]
  },
  {
   "cell_type": "code",
   "execution_count": 48,
   "metadata": {},
   "outputs": [
    {
     "data": {
      "image/svg+xml": [
       "<svg width=\"2.93cm\" height=\"2.90cm\" viewBox=\"1.80 -3.10 2.93 2.90\" xmlns=\"http://www.w3.org/2000/svg\" version=\"1.1\">\n",
       "  <defs>\n",
       "    <mask id=\"mask-7fb4b8fb-9492-4906-9b61-556fb9809667\">\n",
       "      <rect x=\"1.80\" y=\"-3.10\" width=\"2.93\" height=\"2.90\" fill=\"white\"/>\n",
       "      <g font-family=\"monospace\" stroke=\"black\">\n",
       "        <g font-size=\"0.25\" stroke-width=\"0.03\">\n",
       "         <text x=\"3.14\" y=\"-2.48\" dx=\"-0.05\" dy=\"0.20\" text-anchor=\"end\">4</text>\n",
       "         <text x=\"3.86\" y=\"-2.06\" dx=\"-0.05\" dy=\"0.20\" text-anchor=\"end\">5</text>\n",
       "         <text x=\"3.86\" y=\"-1.24\" dx=\"-0.05\" dy=\"0.20\" text-anchor=\"end\">6</text>\n",
       "         <text x=\"3.14\" y=\"-0.82\" dx=\"-0.05\" dy=\"0.20\" text-anchor=\"end\">7</text>\n",
       "         <text x=\"2.43\" y=\"-1.24\" dx=\"-0.05\" dy=\"0.20\" text-anchor=\"end\">8</text>\n",
       "         <text x=\"2.43\" y=\"-2.06\" dx=\"-0.05\" dy=\"0.20\" text-anchor=\"end\">9</text>\n",
       "        </g>\n",
       "      </g>\n",
       "    </mask>\n",
       "  </defs>\n",
       "  <g fill=\"none\" stroke=\"black\" stroke-width=\"0.04\"  mask=\"url(#mask-7fb4b8fb-9492-4906-9b61-556fb9809667)\">\n",
       "    <line x1=\"3.14\" y1=\"-2.48\" x2=\"3.86\" y2=\"-2.06\"/>\n",
       "    <line x1=\"3.17\" y1=\"-2.42\" x2=\"2.46\" y2=\"-2.01\"/>\n",
       "    <line x1=\"3.11\" y1=\"-2.53\" x2=\"2.40\" y2=\"-2.11\"/>\n",
       "    <line x1=\"3.92\" y1=\"-2.06\" x2=\"3.92\" y2=\"-1.24\"/>\n",
       "    <line x1=\"3.80\" y1=\"-2.06\" x2=\"3.80\" y2=\"-1.24\"/>\n",
       "    <line x1=\"3.86\" y1=\"-1.24\" x2=\"3.14\" y2=\"-0.82\"/>\n",
       "    <line x1=\"3.11\" y1=\"-0.77\" x2=\"2.40\" y2=\"-1.19\"/>\n",
       "    <line x1=\"3.17\" y1=\"-0.88\" x2=\"2.46\" y2=\"-1.29\"/>\n",
       "    <line x1=\"2.43\" y1=\"-1.24\" x2=\"2.43\" y2=\"-2.06\"/>\n",
       "  </g>\n",
       "  <g font-family=\"monospace\">\n",
       "    <g fill=\"#0305A7\" font-size=\"0.25\">\n",
       "      <text x=\"3.14\" y=\"-2.48\" dx=\"-0.05\" dy=\"0.20\" text-anchor=\"end\">4</text>\n",
       "      <text x=\"3.86\" y=\"-2.06\" dx=\"-0.05\" dy=\"0.20\" text-anchor=\"end\">5</text>\n",
       "      <text x=\"3.86\" y=\"-1.24\" dx=\"-0.05\" dy=\"0.20\" text-anchor=\"end\">6</text>\n",
       "      <text x=\"3.14\" y=\"-0.82\" dx=\"-0.05\" dy=\"0.20\" text-anchor=\"end\">7</text>\n",
       "      <text x=\"2.43\" y=\"-1.24\" dx=\"-0.05\" dy=\"0.20\" text-anchor=\"end\">8</text>\n",
       "      <text x=\"2.43\" y=\"-2.06\" dx=\"-0.05\" dy=\"0.20\" text-anchor=\"end\">9</text>\n",
       "    </g>\n",
       "  </g>\n",
       "</svg>"
      ],
      "text/plain": [
       "<CGRtools.containers.molecule.MoleculeContainer at 0x7f6ad7da94a0>"
      ]
     },
     "execution_count": 48,
     "metadata": {},
     "output_type": "execute_result"
    }
   ],
   "source": [
    "sub = m3.substructure([4,5,6,7,8,9])  # substructure with passed atoms\n",
    "sub"
   ]
  },
  {
   "cell_type": "markdown",
   "metadata": {},
   "source": [
    "`augmented_substructure` is a substructure consisting from atoms and a given number of shells of neighboring atoms around it.\n",
    "**deep** argument is a number of considered shells. \n",
    "\n",
    "It also returns projection by default."
   ]
  },
  {
   "cell_type": "code",
   "execution_count": 49,
   "metadata": {},
   "outputs": [
    {
     "data": {
      "image/svg+xml": [
       "<svg width=\"2.93cm\" height=\"2.90cm\" viewBox=\"1.80 -4.34 2.93 2.90\" xmlns=\"http://www.w3.org/2000/svg\" version=\"1.1\">\n",
       "  <defs>\n",
       "    <mask id=\"mask-0c2413d5-bc44-4d30-9e80-400864faeb56\">\n",
       "      <rect x=\"1.80\" y=\"-4.34\" width=\"2.93\" height=\"2.90\" fill=\"white\"/>\n",
       "      <g fill=\"black\">\n",
       "        <circle cx=\"3.14\" cy=\"-3.30\" r=\"0.20\"/>\n",
       "        <circle cx=\"2.43\" cy=\"-3.71\" r=\"0.20\"/>\n",
       "        <circle cx=\"3.86\" cy=\"-3.71\" r=\"0.20\"/>\n",
       "      </g>\n",
       "      <g font-family=\"monospace\" stroke=\"black\">\n",
       "        <g font-family=\"sans-serif\" font-size=\"0.50\" stroke-width=\"0.05\">\n",
       "         <text x=\"3.14\" y=\"-3.30\" dx=\"-0.20\" dy=\"0.20\">N</text>\n",
       "         <text x=\"2.43\" y=\"-3.71\" dx=\"-0.20\" dy=\"0.20\">O</text>\n",
       "         <text x=\"3.86\" y=\"-3.71\" dx=\"-0.20\" dy=\"0.20\">O</text>\n",
       "        </g>\n",
       "        <g font-size=\"0.25\" stroke-width=\"0.03\">\n",
       "         <text x=\"3.14\" y=\"-2.48\" dx=\"-0.05\" dy=\"0.20\" text-anchor=\"end\">4</text>\n",
       "         <text x=\"3.86\" y=\"-2.06\" dx=\"-0.05\" dy=\"0.20\" text-anchor=\"end\">5</text>\n",
       "         <text x=\"2.43\" y=\"-2.06\" dx=\"-0.05\" dy=\"0.20\" text-anchor=\"end\">9</text>\n",
       "         <text x=\"3.14\" y=\"-3.30\" dx=\"-0.15\" dy=\"0.35\" text-anchor=\"end\">10</text>\n",
       "         <text x=\"2.43\" y=\"-3.71\" dx=\"-0.15\" dy=\"0.35\" text-anchor=\"end\">11</text>\n",
       "         <text x=\"3.86\" y=\"-3.71\" dx=\"-0.15\" dy=\"0.35\" text-anchor=\"end\">12</text>\n",
       "        </g>\n",
       "      </g>\n",
       "    </mask>\n",
       "  </defs>\n",
       "  <g fill=\"none\" stroke=\"black\" stroke-width=\"0.04\"  mask=\"url(#mask-0c2413d5-bc44-4d30-9e80-400864faeb56)\">\n",
       "    <line x1=\"3.14\" y1=\"-2.48\" x2=\"3.86\" y2=\"-2.06\"/>\n",
       "    <line x1=\"3.17\" y1=\"-2.42\" x2=\"2.46\" y2=\"-2.01\"/>\n",
       "    <line x1=\"3.11\" y1=\"-2.53\" x2=\"2.40\" y2=\"-2.11\"/>\n",
       "    <line x1=\"3.14\" y1=\"-2.48\" x2=\"3.14\" y2=\"-3.30\"/>\n",
       "    <line x1=\"3.11\" y1=\"-3.25\" x2=\"2.40\" y2=\"-3.66\"/>\n",
       "    <line x1=\"3.17\" y1=\"-3.35\" x2=\"2.46\" y2=\"-3.76\"/>\n",
       "    <line x1=\"3.11\" y1=\"-3.35\" x2=\"3.83\" y2=\"-3.76\"/>\n",
       "    <line x1=\"3.17\" y1=\"-3.25\" x2=\"3.89\" y2=\"-3.66\"/>\n",
       "  </g>\n",
       "  <g font-family=\"monospace\">\n",
       "    <g fill=\"#3050F8\" font-family=\"sans-serif\">\n",
       "      <text x=\"3.14\" y=\"-3.30\" dx=\"-0.20\" dy=\"0.20\" font-size=\"0.50\">N</text>\n",
       "    </g>\n",
       "    <g fill=\"#FF0D0D\" font-family=\"sans-serif\">\n",
       "      <text x=\"2.43\" y=\"-3.71\" dx=\"-0.20\" dy=\"0.20\" font-size=\"0.50\">O</text>\n",
       "    </g>\n",
       "    <g fill=\"#FF0D0D\" font-family=\"sans-serif\">\n",
       "      <text x=\"3.86\" y=\"-3.71\" dx=\"-0.20\" dy=\"0.20\" font-size=\"0.50\">O</text>\n",
       "    </g>\n",
       "    <g fill=\"#0305A7\" font-size=\"0.25\">\n",
       "      <text x=\"3.14\" y=\"-2.48\" dx=\"-0.05\" dy=\"0.20\" text-anchor=\"end\">4</text>\n",
       "      <text x=\"3.86\" y=\"-2.06\" dx=\"-0.05\" dy=\"0.20\" text-anchor=\"end\">5</text>\n",
       "      <text x=\"2.43\" y=\"-2.06\" dx=\"-0.05\" dy=\"0.20\" text-anchor=\"end\">9</text>\n",
       "      <text x=\"3.14\" y=\"-3.30\" dx=\"-0.15\" dy=\"0.35\" text-anchor=\"end\">10</text>\n",
       "      <text x=\"2.43\" y=\"-3.71\" dx=\"-0.15\" dy=\"0.35\" text-anchor=\"end\">11</text>\n",
       "      <text x=\"3.86\" y=\"-3.71\" dx=\"-0.15\" dy=\"0.35\" text-anchor=\"end\">12</text>\n",
       "    </g>\n",
       "  </g>\n",
       "</svg>"
      ],
      "text/plain": [
       "<CGRtools.containers.molecule.MoleculeContainer at 0x7f6ad7da95e0>"
      ]
     },
     "execution_count": 49,
     "metadata": {},
     "output_type": "execute_result"
    }
   ],
   "source": [
    "aug = m3.augmented_substructure([10], deep=2) #  atom 10 is Nitrogen\n",
    "aug"
   ]
  },
  {
   "cell_type": "markdown",
   "metadata": {},
   "source": [
    "#### Atoms Ordering.\n",
    "This functionality is used for canonic numbering of atoms in molecules. Morgan algorithm is used for atom ranking. Property `atoms_order` returns dictionary of atom numbers as keys and their ranks according to canonicalization as values. Equal rank mean that atoms are symmetric (are mapped to each other in automorhisms)."
   ]
  },
  {
   "cell_type": "code",
   "execution_count": 50,
   "metadata": {},
   "outputs": [
    {
     "data": {
      "text/plain": [
       "{1: 1, 3: 2, 4: 3}"
      ]
     },
     "execution_count": 50,
     "metadata": {},
     "output_type": "execute_result"
    }
   ],
   "source": [
    "m5.atoms_order"
   ]
  },
  {
   "cell_type": "markdown",
   "metadata": {},
   "source": [
    "#### Atom number can be changed by `remap` method.\n",
    "\n",
    "This method is useful when it is needed to change order of atoms in molecules. First argument to `remap` method is dictionary with existing atom numbers as keys and desired atom number as values. It is possible to change atom numbers for only part of atoms. Atom numbers could be non-sequencial but need to be unique. \n",
    "\n",
    "If argument *copy* is set ***True*** new object will be created, else existing molecule will be changed. Default is ***False***. "
   ]
  },
  {
   "cell_type": "code",
   "execution_count": 51,
   "metadata": {},
   "outputs": [
    {
     "data": {
      "image/svg+xml": [
       "<svg width=\"2.93cm\" height=\"1.66cm\" viewBox=\"-0.62 -1.04 2.93 1.66\" xmlns=\"http://www.w3.org/2000/svg\" version=\"1.1\">\n",
       "  <defs>\n",
       "    <mask id=\"mask-1e9287db-f4b8-4ae7-beb9-4636517b76a8\">\n",
       "      <rect x=\"-0.62\" y=\"-1.04\" width=\"2.93\" height=\"1.66\" fill=\"white\"/>\n",
       "      <g fill=\"black\">\n",
       "        <circle cx=\"1.43\" cy=\"-0.41\" r=\"0.20\"/>\n",
       "      </g>\n",
       "      <g font-family=\"monospace\" stroke=\"black\">\n",
       "        <g font-family=\"sans-serif\" font-size=\"0.50\" stroke-width=\"0.05\">\n",
       "         <text x=\"1.43\" y=\"-0.41\" dx=\"-0.20\" dy=\"0.20\">OH</text>\n",
       "        </g>\n",
       "        <g font-size=\"0.25\" stroke-width=\"0.03\">\n",
       "         <text x=\"0.00\" y=\"-0.41\" dx=\"-0.05\" dy=\"0.20\" text-anchor=\"end\">3</text>\n",
       "         <text x=\"0.71\" y=\"-0.00\" dx=\"-0.05\" dy=\"0.20\" text-anchor=\"end\">4</text>\n",
       "         <text x=\"1.43\" y=\"-0.41\" dx=\"-0.15\" dy=\"0.35\" text-anchor=\"end\">1</text>\n",
       "        </g>\n",
       "      </g>\n",
       "    </mask>\n",
       "  </defs>\n",
       "  <g fill=\"none\" stroke=\"black\" stroke-width=\"0.04\"  mask=\"url(#mask-1e9287db-f4b8-4ae7-beb9-4636517b76a8)\">\n",
       "    <line x1=\"0.00\" y1=\"-0.41\" x2=\"0.71\" y2=\"-0.00\"/>\n",
       "    <line x1=\"0.71\" y1=\"-0.00\" x2=\"1.43\" y2=\"-0.41\"/>\n",
       "  </g>\n",
       "  <g font-family=\"monospace\">\n",
       "    <g fill=\"#FF0D0D\" font-family=\"sans-serif\">\n",
       "      <text x=\"1.43\" y=\"-0.41\" dx=\"-0.20\" dy=\"0.20\" font-size=\"0.50\">OH</text>\n",
       "    </g>\n",
       "    <g fill=\"#0305A7\" font-size=\"0.25\">\n",
       "      <text x=\"0.00\" y=\"-0.41\" dx=\"-0.05\" dy=\"0.20\" text-anchor=\"end\">3</text>\n",
       "      <text x=\"0.71\" y=\"-0.00\" dx=\"-0.05\" dy=\"0.20\" text-anchor=\"end\">4</text>\n",
       "      <text x=\"1.43\" y=\"-0.41\" dx=\"-0.15\" dy=\"0.35\" text-anchor=\"end\">1</text>\n",
       "    </g>\n",
       "  </g>\n",
       "</svg>"
      ],
      "text/plain": [
       "<CGRtools.containers.molecule.MoleculeContainer at 0x7f6ad80f2b80>"
      ]
     },
     "execution_count": 51,
     "metadata": {},
     "output_type": "execute_result"
    }
   ],
   "source": [
    "m5"
   ]
  },
  {
   "cell_type": "code",
   "execution_count": 52,
   "metadata": {},
   "outputs": [
    {
     "data": {
      "image/svg+xml": [
       "<svg width=\"2.93cm\" height=\"1.66cm\" viewBox=\"-0.62 -1.04 2.93 1.66\" xmlns=\"http://www.w3.org/2000/svg\" version=\"1.1\">\n",
       "  <defs>\n",
       "    <mask id=\"mask-bf8d736d-9122-461c-8e2c-99de738b10c2\">\n",
       "      <rect x=\"-0.62\" y=\"-1.04\" width=\"2.93\" height=\"1.66\" fill=\"white\"/>\n",
       "      <g fill=\"black\">\n",
       "        <circle cx=\"1.43\" cy=\"-0.41\" r=\"0.20\"/>\n",
       "      </g>\n",
       "      <g font-family=\"monospace\" stroke=\"black\">\n",
       "        <g font-family=\"sans-serif\" font-size=\"0.50\" stroke-width=\"0.05\">\n",
       "         <text x=\"1.43\" y=\"-0.41\" dx=\"-0.20\" dy=\"0.20\">OH</text>\n",
       "        </g>\n",
       "        <g font-size=\"0.25\" stroke-width=\"0.03\">\n",
       "         <text x=\"0.00\" y=\"-0.41\" dx=\"-0.05\" dy=\"0.20\" text-anchor=\"end\">3</text>\n",
       "         <text x=\"0.71\" y=\"-0.00\" dx=\"-0.05\" dy=\"0.20\" text-anchor=\"end\">2</text>\n",
       "         <text x=\"1.43\" y=\"-0.41\" dx=\"-0.15\" dy=\"0.35\" text-anchor=\"end\">1</text>\n",
       "        </g>\n",
       "      </g>\n",
       "    </mask>\n",
       "  </defs>\n",
       "  <g fill=\"none\" stroke=\"black\" stroke-width=\"0.04\"  mask=\"url(#mask-bf8d736d-9122-461c-8e2c-99de738b10c2)\">\n",
       "    <line x1=\"0.00\" y1=\"-0.41\" x2=\"0.71\" y2=\"-0.00\"/>\n",
       "    <line x1=\"0.71\" y1=\"-0.00\" x2=\"1.43\" y2=\"-0.41\"/>\n",
       "  </g>\n",
       "  <g font-family=\"monospace\">\n",
       "    <g fill=\"#FF0D0D\" font-family=\"sans-serif\">\n",
       "      <text x=\"1.43\" y=\"-0.41\" dx=\"-0.20\" dy=\"0.20\" font-size=\"0.50\">OH</text>\n",
       "    </g>\n",
       "    <g fill=\"#0305A7\" font-size=\"0.25\">\n",
       "      <text x=\"0.00\" y=\"-0.41\" dx=\"-0.05\" dy=\"0.20\" text-anchor=\"end\">3</text>\n",
       "      <text x=\"0.71\" y=\"-0.00\" dx=\"-0.05\" dy=\"0.20\" text-anchor=\"end\">2</text>\n",
       "      <text x=\"1.43\" y=\"-0.41\" dx=\"-0.15\" dy=\"0.35\" text-anchor=\"end\">1</text>\n",
       "    </g>\n",
       "  </g>\n",
       "</svg>"
      ],
      "text/plain": [
       "<CGRtools.containers.molecule.MoleculeContainer at 0x7f6ad7da9680>"
      ]
     },
     "execution_count": 52,
     "metadata": {},
     "output_type": "execute_result"
    }
   ],
   "source": [
    "remapped = m5.remap({4:2}, copy=True)\n",
    "remapped"
   ]
  },
  {
   "cell_type": "markdown",
   "metadata": {},
   "source": [
    "## 1.2. ReactionContainer\n",
    "\n",
    "*ReactionContainer* objects has the following properties:\n",
    "\n",
    "* **reactants** - list of reactants molecules\n",
    "* **reagents** - list of reagents molecules\n",
    "* **products** - list of products molecules\n",
    "* **meta** - dictinary of reaction metadata (DTYPE/DATUM block in RDF)"
   ]
  },
  {
   "cell_type": "code",
   "execution_count": 53,
   "metadata": {},
   "outputs": [
    {
     "data": {
      "image/svg+xml": [
       "<svg width=\"17.82cm\" height=\"3.39cm\" viewBox=\"-0.62 -1.70 17.82 3.39\" xmlns=\"http://www.w3.org/2000/svg\" version=\"1.1\">\n",
       "  <defs>\n",
       "    <marker id=\"arrow\" markerWidth=\"10\" markerHeight=\"10\" refX=\"0\" refY=\"3\" orient=\"auto\">\n",
       "      <path d=\"M0,0 L0,6 L9,3\"/>\n",
       "    </marker>\n",
       "    <mask id=\"mask-b9b14442-0abe-419a-98a4-84d2b04c1141\">\n",
       "      <rect x=\"-0.62\" y=\"-1.70\" width=\"17.82\" height=\"3.39\" fill=\"white\"/>\n",
       "      <g fill=\"black\">\n",
       "        <circle cx=\"1.43\" cy=\"-0.21\" r=\"0.20\"/>\n",
       "        <circle cx=\"3.45\" cy=\"-1.07\" r=\"0.20\"/>\n",
       "        <circle cx=\"4.69\" cy=\"-0.36\" r=\"0.20\"/>\n",
       "        <circle cx=\"3.87\" cy=\"1.07\" r=\"0.20\"/>\n",
       "        <circle cx=\"2.63\" cy=\"0.36\" r=\"0.20\"/>\n",
       "        <circle cx=\"7.32\" cy=\"-0.21\" r=\"0.20\"/>\n",
       "        <circle cx=\"14.89\" cy=\"-0.21\" r=\"0.20\"/>\n",
       "        <circle cx=\"12.75\" cy=\"0.21\" r=\"0.20\"/>\n",
       "        <circle cx=\"13.46\" cy=\"-1.03\" r=\"0.20\"/>\n",
       "        <circle cx=\"14.18\" cy=\"1.03\" r=\"0.20\"/>\n",
       "      </g>\n",
       "      <g font-family=\"monospace\" stroke=\"black\">\n",
       "        <g font-family=\"sans-serif\" font-size=\"0.50\" stroke-width=\"0.05\">\n",
       "         <text x=\"1.43\" y=\"-0.21\" dx=\"-0.20\" dy=\"0.20\">OH</text>\n",
       "         <text x=\"3.45\" y=\"-1.07\" dx=\"-0.20\" dy=\"0.20\">O</text>\n",
       "         <text x=\"4.69\" y=\"-0.36\" dx=\"-0.20\" dy=\"0.20\">OH</text>\n",
       "         <text x=\"3.87\" y=\"1.07\" dx=\"-0.20\" dy=\"0.20\">O</text>\n",
       "         <text x=\"2.63\" y=\"0.36\" dx=\"-0.20\" dy=\"0.20\">OH</text>\n",
       "         <text x=\"7.32\" y=\"-0.21\" dx=\"-0.20\" dy=\"0.20\">O</text>\n",
       "         <text x=\"14.89\" y=\"-0.21\" dx=\"-0.20\" dy=\"0.20\">O</text>\n",
       "         <text x=\"12.75\" y=\"0.21\" dx=\"-0.20\" dy=\"0.20\">O</text>\n",
       "         <text x=\"13.46\" y=\"-1.03\" dx=\"-0.20\" dy=\"0.20\">O</text>\n",
       "         <text x=\"14.18\" y=\"1.03\" dx=\"-0.20\" dy=\"0.20\">O</text>\n",
       "        </g>\n",
       "        <g font-size=\"0.25\" stroke-width=\"0.03\">\n",
       "         <text x=\"0.00\" y=\"-0.21\" dx=\"-0.05\" dy=\"0.20\" text-anchor=\"end\">3</text>\n",
       "         <text x=\"0.71\" y=\"0.21\" dx=\"-0.05\" dy=\"0.20\" text-anchor=\"end\">4</text>\n",
       "         <text x=\"1.43\" y=\"-0.21\" dx=\"-0.15\" dy=\"0.35\" text-anchor=\"end\">1</text>\n",
       "         <text x=\"3.87\" y=\"-0.36\" dx=\"-0.05\" dy=\"0.20\" text-anchor=\"end\">5</text>\n",
       "         <text x=\"3.45\" y=\"0.36\" dx=\"-0.05\" dy=\"0.20\" text-anchor=\"end\">6</text>\n",
       "         <text x=\"3.45\" y=\"-1.07\" dx=\"-0.15\" dy=\"0.35\" text-anchor=\"end\">7</text>\n",
       "         <text x=\"4.69\" y=\"-0.36\" dx=\"-0.15\" dy=\"0.35\" text-anchor=\"end\">8</text>\n",
       "         <text x=\"3.87\" y=\"1.07\" dx=\"-0.15\" dy=\"0.35\" text-anchor=\"end\">9</text>\n",
       "         <text x=\"2.63\" y=\"0.36\" dx=\"-0.15\" dy=\"0.35\" text-anchor=\"end\">10</text>\n",
       "         <text x=\"6.61\" y=\"0.21\" dx=\"-0.05\" dy=\"0.20\" text-anchor=\"end\">11</text>\n",
       "         <text x=\"5.89\" y=\"-0.21\" dx=\"-0.05\" dy=\"0.20\" text-anchor=\"end\">12</text>\n",
       "         <text x=\"7.32\" y=\"-0.21\" dx=\"-0.15\" dy=\"0.35\" text-anchor=\"end\">2</text>\n",
       "         <text x=\"14.18\" y=\"0.21\" dx=\"-0.05\" dy=\"0.20\" text-anchor=\"end\">5</text>\n",
       "         <text x=\"13.46\" y=\"-0.21\" dx=\"-0.05\" dy=\"0.20\" text-anchor=\"end\">6</text>\n",
       "         <text x=\"14.89\" y=\"-0.21\" dx=\"-0.15\" dy=\"0.35\" text-anchor=\"end\">2</text>\n",
       "         <text x=\"12.75\" y=\"0.21\" dx=\"-0.15\" dy=\"0.35\" text-anchor=\"end\">1</text>\n",
       "         <text x=\"13.46\" y=\"-1.03\" dx=\"-0.15\" dy=\"0.35\" text-anchor=\"end\">9</text>\n",
       "         <text x=\"14.18\" y=\"1.03\" dx=\"-0.15\" dy=\"0.35\" text-anchor=\"end\">7</text>\n",
       "         <text x=\"15.61\" y=\"0.21\" dx=\"-0.05\" dy=\"0.20\" text-anchor=\"end\">11</text>\n",
       "         <text x=\"16.32\" y=\"-0.21\" dx=\"-0.05\" dy=\"0.20\" text-anchor=\"end\">12</text>\n",
       "         <text x=\"12.03\" y=\"-0.21\" dx=\"-0.05\" dy=\"0.20\" text-anchor=\"end\">4</text>\n",
       "         <text x=\"11.32\" y=\"0.21\" dx=\"-0.05\" dy=\"0.20\" text-anchor=\"end\">3</text>\n",
       "        </g>\n",
       "        <g font-family=\"monospace\" font-size=\"0.3\" stroke-width=\"0.03\">\n",
       "         <text x=\"7.32\" y=\"-0.21\" dx=\"0.05\" dy=\"-0.20\">-</text>\n",
       "        </g>\n",
       "      </g>\n",
       "    </mask>\n",
       "  </defs>\n",
       "  <line x1=\"8.32\" y1=\"0\" x2=\"10.32\" y2=\"0\" fill=\"none\" stroke=\"black\" stroke-width=\".04\" marker-end=\"url(#arrow)\"/>\n",
       "  <g fill=\"none\" stroke=\"black\" stroke-width=\"0.04\" mask=\"url(#mask-b9b14442-0abe-419a-98a4-84d2b04c1141)\">\n",
       "    <line x1=\"-0.62\" y1=\"-1.70\" x2=\"17.20\" y2=\"-1.70\" stroke=\"none\"/>\n",
       "    <line x1=\"0.00\" y1=\"-0.21\" x2=\"0.71\" y2=\"0.21\"/>\n",
       "    <line x1=\"0.71\" y1=\"0.21\" x2=\"1.43\" y2=\"-0.21\"/>\n",
       "    <line x1=\"3.87\" y1=\"-0.36\" x2=\"3.45\" y2=\"0.36\"/>\n",
       "    <line x1=\"3.81\" y1=\"-0.33\" x2=\"3.40\" y2=\"-1.04\"/>\n",
       "    <line x1=\"3.92\" y1=\"-0.39\" x2=\"3.51\" y2=\"-1.10\"/>\n",
       "    <line x1=\"3.87\" y1=\"-0.36\" x2=\"4.69\" y2=\"-0.36\"/>\n",
       "    <line x1=\"3.51\" y1=\"0.33\" x2=\"3.92\" y2=\"1.04\"/>\n",
       "    <line x1=\"3.40\" y1=\"0.39\" x2=\"3.81\" y2=\"1.10\"/>\n",
       "    <line x1=\"3.45\" y1=\"0.36\" x2=\"2.63\" y2=\"0.36\"/>\n",
       "    <line x1=\"6.61\" y1=\"0.21\" x2=\"5.89\" y2=\"-0.21\"/>\n",
       "    <line x1=\"6.61\" y1=\"0.21\" x2=\"7.32\" y2=\"-0.21\"/>\n",
       "    <line x1=\"14.18\" y1=\"0.21\" x2=\"13.46\" y2=\"-0.21\"/>\n",
       "    <line x1=\"14.18\" y1=\"0.21\" x2=\"14.89\" y2=\"-0.21\"/>\n",
       "    <line x1=\"14.24\" y1=\"0.21\" x2=\"14.24\" y2=\"1.03\"/>\n",
       "    <line x1=\"14.12\" y1=\"0.21\" x2=\"14.12\" y2=\"1.03\"/>\n",
       "    <line x1=\"13.46\" y1=\"-0.21\" x2=\"12.75\" y2=\"0.21\"/>\n",
       "    <line x1=\"13.40\" y1=\"-0.21\" x2=\"13.40\" y2=\"-1.03\"/>\n",
       "    <line x1=\"13.52\" y1=\"-0.21\" x2=\"13.52\" y2=\"-1.03\"/>\n",
       "    <line x1=\"14.89\" y1=\"-0.21\" x2=\"15.61\" y2=\"0.21\"/>\n",
       "    <line x1=\"12.75\" y1=\"0.21\" x2=\"12.03\" y2=\"-0.21\"/>\n",
       "    <line x1=\"15.61\" y1=\"0.21\" x2=\"16.32\" y2=\"-0.21\"/>\n",
       "    <line x1=\"12.03\" y1=\"-0.21\" x2=\"11.32\" y2=\"0.21\"/>\n",
       "  </g>\n",
       "  <g fill=\"none\" stroke=\"black\" stroke-width=\".04\" >\n",
       "    <line x1=\"1.98\" y1=\"0\" x2=\"2.28\" y2=\"0\"/>\n",
       "    <line x1=\"2.13\" y1=\"0.15\" x2=\"2.13\" y2=\"-0.15\"/>\n",
       "    <line x1=\"5.24\" y1=\"0\" x2=\"5.54\" y2=\"0\"/>\n",
       "    <line x1=\"5.39\" y1=\"0.15\" x2=\"5.39\" y2=\"-0.15\"/>\n",
       "  </g>\n",
       "  <g font-family=\"monospace\">\n",
       "    <g fill=\"#FF0D0D\" font-family=\"sans-serif\">\n",
       "      <text x=\"1.43\" y=\"-0.21\" dx=\"-0.20\" dy=\"0.20\" font-size=\"0.50\">OH</text>\n",
       "    </g>\n",
       "    <g fill=\"#0305A7\" font-size=\"0.25\">\n",
       "      <text x=\"0.00\" y=\"-0.21\" dx=\"-0.05\" dy=\"0.20\" text-anchor=\"end\">3</text>\n",
       "      <text x=\"0.71\" y=\"0.21\" dx=\"-0.05\" dy=\"0.20\" text-anchor=\"end\">4</text>\n",
       "      <text x=\"1.43\" y=\"-0.21\" dx=\"-0.15\" dy=\"0.35\" text-anchor=\"end\">1</text>\n",
       "    </g>\n",
       "    <g fill=\"#FF0D0D\" font-family=\"sans-serif\">\n",
       "      <text x=\"3.45\" y=\"-1.07\" dx=\"-0.20\" dy=\"0.20\" font-size=\"0.50\">O</text>\n",
       "    </g>\n",
       "    <g fill=\"#FF0D0D\" font-family=\"sans-serif\">\n",
       "      <text x=\"4.69\" y=\"-0.36\" dx=\"-0.20\" dy=\"0.20\" font-size=\"0.50\">OH</text>\n",
       "    </g>\n",
       "    <g fill=\"#FF0D0D\" font-family=\"sans-serif\">\n",
       "      <text x=\"3.87\" y=\"1.07\" dx=\"-0.20\" dy=\"0.20\" font-size=\"0.50\">O</text>\n",
       "    </g>\n",
       "    <g fill=\"#FF0D0D\" font-family=\"sans-serif\">\n",
       "      <text x=\"2.63\" y=\"0.36\" dx=\"-0.20\" dy=\"0.20\" font-size=\"0.50\">OH</text>\n",
       "    </g>\n",
       "    <g fill=\"#0305A7\" font-size=\"0.25\">\n",
       "      <text x=\"3.87\" y=\"-0.36\" dx=\"-0.05\" dy=\"0.20\" text-anchor=\"end\">5</text>\n",
       "      <text x=\"3.45\" y=\"0.36\" dx=\"-0.05\" dy=\"0.20\" text-anchor=\"end\">6</text>\n",
       "      <text x=\"3.45\" y=\"-1.07\" dx=\"-0.15\" dy=\"0.35\" text-anchor=\"end\">7</text>\n",
       "      <text x=\"4.69\" y=\"-0.36\" dx=\"-0.15\" dy=\"0.35\" text-anchor=\"end\">8</text>\n",
       "      <text x=\"3.87\" y=\"1.07\" dx=\"-0.15\" dy=\"0.35\" text-anchor=\"end\">9</text>\n",
       "      <text x=\"2.63\" y=\"0.36\" dx=\"-0.15\" dy=\"0.35\" text-anchor=\"end\">10</text>\n",
       "    </g>\n",
       "    <g fill=\"#FF0D0D\" font-family=\"sans-serif\">\n",
       "      <text x=\"7.32\" y=\"-0.21\" dx=\"-0.20\" dy=\"0.20\" font-size=\"0.50\">O</text>\n",
       "    </g>\n",
       "    <g font-family=\"monospace\" fill=\"black\" font-size=\"0.30\">\n",
       "      <text x=\"7.32\" y=\"-0.21\" dx=\"0.05\" dy=\"-0.20\">-</text>\n",
       "    </g>\n",
       "    <g fill=\"#0305A7\" font-size=\"0.25\">\n",
       "      <text x=\"6.61\" y=\"0.21\" dx=\"-0.05\" dy=\"0.20\" text-anchor=\"end\">11</text>\n",
       "      <text x=\"5.89\" y=\"-0.21\" dx=\"-0.05\" dy=\"0.20\" text-anchor=\"end\">12</text>\n",
       "      <text x=\"7.32\" y=\"-0.21\" dx=\"-0.15\" dy=\"0.35\" text-anchor=\"end\">2</text>\n",
       "    </g>\n",
       "    <g fill=\"#FF0D0D\" font-family=\"sans-serif\">\n",
       "      <text x=\"14.89\" y=\"-0.21\" dx=\"-0.20\" dy=\"0.20\" font-size=\"0.50\">O</text>\n",
       "    </g>\n",
       "    <g fill=\"#FF0D0D\" font-family=\"sans-serif\">\n",
       "      <text x=\"12.75\" y=\"0.21\" dx=\"-0.20\" dy=\"0.20\" font-size=\"0.50\">O</text>\n",
       "    </g>\n",
       "    <g fill=\"#FF0D0D\" font-family=\"sans-serif\">\n",
       "      <text x=\"13.46\" y=\"-1.03\" dx=\"-0.20\" dy=\"0.20\" font-size=\"0.50\">O</text>\n",
       "    </g>\n",
       "    <g fill=\"#FF0D0D\" font-family=\"sans-serif\">\n",
       "      <text x=\"14.18\" y=\"1.03\" dx=\"-0.20\" dy=\"0.20\" font-size=\"0.50\">O</text>\n",
       "    </g>\n",
       "    <g fill=\"#0305A7\" font-size=\"0.25\">\n",
       "      <text x=\"14.18\" y=\"0.21\" dx=\"-0.05\" dy=\"0.20\" text-anchor=\"end\">5</text>\n",
       "      <text x=\"13.46\" y=\"-0.21\" dx=\"-0.05\" dy=\"0.20\" text-anchor=\"end\">6</text>\n",
       "      <text x=\"14.89\" y=\"-0.21\" dx=\"-0.15\" dy=\"0.35\" text-anchor=\"end\">2</text>\n",
       "      <text x=\"12.75\" y=\"0.21\" dx=\"-0.15\" dy=\"0.35\" text-anchor=\"end\">1</text>\n",
       "      <text x=\"13.46\" y=\"-1.03\" dx=\"-0.15\" dy=\"0.35\" text-anchor=\"end\">9</text>\n",
       "      <text x=\"14.18\" y=\"1.03\" dx=\"-0.15\" dy=\"0.35\" text-anchor=\"end\">7</text>\n",
       "      <text x=\"15.61\" y=\"0.21\" dx=\"-0.05\" dy=\"0.20\" text-anchor=\"end\">11</text>\n",
       "      <text x=\"16.32\" y=\"-0.21\" dx=\"-0.05\" dy=\"0.20\" text-anchor=\"end\">12</text>\n",
       "      <text x=\"12.03\" y=\"-0.21\" dx=\"-0.05\" dy=\"0.20\" text-anchor=\"end\">4</text>\n",
       "      <text x=\"11.32\" y=\"0.21\" dx=\"-0.05\" dy=\"0.20\" text-anchor=\"end\">3</text>\n",
       "    </g>\n",
       "  </g>\n",
       "</svg>"
      ],
      "text/plain": [
       "<CGRtools.containers.reaction.ReactionContainer at 0x7f6ad7e76a60>"
      ]
     },
     "execution_count": 53,
     "metadata": {},
     "output_type": "execute_result"
    }
   ],
   "source": [
    "r1 # depiction supported"
   ]
  },
  {
   "cell_type": "code",
   "execution_count": 54,
   "metadata": {
    "scrolled": true
   },
   "outputs": [
    {
     "data": {
      "text/plain": [
       "{'CdId': '1872',\n",
       " 'solvent': '3',\n",
       " 'temperature': '129.5',\n",
       " 'tabulated_constant': '-6.87'}"
      ]
     },
     "execution_count": 54,
     "metadata": {},
     "output_type": "execute_result"
    }
   ],
   "source": [
    "r1.meta"
   ]
  },
  {
   "cell_type": "code",
   "execution_count": 55,
   "metadata": {},
   "outputs": [
    {
     "name": "stdout",
     "output_type": "stream",
     "text": [
      "[<CGRtools.containers.molecule.MoleculeContainer object at 0x7f6ad80f2b80>, <CGRtools.containers.molecule.MoleculeContainer object at 0x7f6ad80f2c20>, <CGRtools.containers.molecule.MoleculeContainer object at 0x7f6ad80f2cc0>] [<CGRtools.containers.molecule.MoleculeContainer object at 0x7f6ad80f2d60>]\n"
     ]
    }
   ],
   "source": [
    "print(r1.reactants, r1.products)  # Access to lists of reactant and products.\n",
    "reactant1, reactant2, reactant3 = r1.reactants\n",
    "product = r1.products[0]"
   ]
  },
  {
   "cell_type": "markdown",
   "metadata": {},
   "source": [
    "Reactions also has `standardize`, `kekule`, `thiele`, `implicify_hydrogens`, `explicify_hydrogens`, etc methods (see part 3). These methods are applied independently to every molecule in reaction."
   ]
  },
  {
   "cell_type": "markdown",
   "metadata": {},
   "source": [
    "## 1.3. CGR\n",
    "*CGRContainer* object is similar to *MoleculeConrtainer*, except some methods. The following methods are not suppoted for *CGRContainer*:\n",
    "\n",
    "* standardization methods\n",
    "* hydrogens count methods\n",
    "* check_valence\n",
    "\n",
    "*CGRContainer* also has some methods absent in *MoleculeConrtainer*:\n",
    "\n",
    "* centers_list\n",
    "* center_atoms\n",
    "* center_bonds\n",
    "\n",
    "*CGRContainer* is undirected graph. Atoms and bonds in CGR has two states: reactant and product."
   ]
  },
  {
   "cell_type": "markdown",
   "metadata": {},
   "source": [
    "#### Composing to CGR\n",
    "\n",
    "As mentioned above, atoms in *MoleculeContainer* have unique numbers. These numbers are used as atom-to-atom mapping in CGRtools upon CGR creation. Thus, atom order for molecules in reaction should correspond to atom-to-atom mapping.  \n",
    "\n",
    "Pair of molecules can be transformed into CGR. Notice that, the same atom numbers in reagents and products imply the same atoms.\n",
    "\n",
    "Reaction also can be composed into CGR. Atom numbers of molecules in reaction are used as atom-to-atom mapping of reactants to products."
   ]
  },
  {
   "cell_type": "code",
   "execution_count": 56,
   "metadata": {},
   "outputs": [
    {
     "name": "stdout",
     "output_type": "stream",
     "text": [
      "[N+]([->.]C=1C=CC(=CC=1)[->.]O)([O-])=O\n"
     ]
    },
    {
     "data": {
      "image/svg+xml": [
       "<svg width=\"2.93cm\" height=\"4.96cm\" viewBox=\"1.80 -4.34 2.93 4.96\" xmlns=\"http://www.w3.org/2000/svg\" version=\"1.1\">\n",
       "  <defs>\n",
       "    <mask id=\"mask-56ad271e-4272-45df-ac4c-8619475edb6f\">\n",
       "      <rect x=\"1.80\" y=\"-4.34\" width=\"2.93\" height=\"4.96\" fill=\"white\"/>\n",
       "      <g fill=\"black\">\n",
       "        <circle cx=\"3.14\" cy=\"-3.30\" r=\"0.20\"/>\n",
       "        <circle cx=\"2.43\" cy=\"-3.71\" r=\"0.20\"/>\n",
       "        <circle cx=\"3.86\" cy=\"-3.71\" r=\"0.20\"/>\n",
       "        <circle cx=\"3.14\" cy=\"-0.00\" r=\"0.20\"/>\n",
       "      </g>\n",
       "      <g font-family=\"monospace\" stroke=\"black\">\n",
       "        <g font-family=\"sans-serif\" font-size=\"0.50\" stroke-width=\"0.05\">\n",
       "         <text x=\"3.14\" y=\"-3.30\" dx=\"-0.20\" dy=\"0.20\">N</text>\n",
       "         <text x=\"2.43\" y=\"-3.71\" dx=\"-0.20\" dy=\"0.20\">O</text>\n",
       "         <text x=\"3.86\" y=\"-3.71\" dx=\"-0.20\" dy=\"0.20\">O</text>\n",
       "         <text x=\"3.14\" y=\"-0.00\" dx=\"-0.20\" dy=\"0.20\">O</text>\n",
       "        </g>\n",
       "        <g font-family=\"monospace\" font-size=\"0.3\" stroke-width=\"0.03\">\n",
       "         <text x=\"3.14\" y=\"-3.30\" dx=\"0.05\" dy=\"-0.20\">+</text>\n",
       "         <text x=\"3.86\" y=\"-3.71\" dx=\"0.05\" dy=\"-0.20\">-</text>\n",
       "        </g>\n",
       "      </g>\n",
       "    </mask>\n",
       "  </defs>\n",
       "  <g fill=\"none\" stroke=\"black\" stroke-width=\"0.04\"  mask=\"url(#mask-56ad271e-4272-45df-ac4c-8619475edb6f)\">\n",
       "    <line x1=\"3.14\" y1=\"-3.30\" x2=\"3.14\" y2=\"-2.48\" stroke=\"red\"/>\n",
       "    <line x1=\"3.11\" y1=\"-3.25\" x2=\"2.40\" y2=\"-3.66\"/>\n",
       "    <line x1=\"3.17\" y1=\"-3.35\" x2=\"2.46\" y2=\"-3.76\"/>\n",
       "    <line x1=\"3.14\" y1=\"-3.30\" x2=\"3.86\" y2=\"-3.71\"/>\n",
       "    <line x1=\"3.14\" y1=\"-0.00\" x2=\"3.14\" y2=\"-0.82\" stroke=\"red\"/>\n",
       "    <line x1=\"3.14\" y1=\"-2.48\" x2=\"3.86\" y2=\"-2.06\"/>\n",
       "    <line x1=\"3.17\" y1=\"-2.42\" x2=\"2.46\" y2=\"-2.01\"/>\n",
       "    <line x1=\"3.11\" y1=\"-2.53\" x2=\"2.40\" y2=\"-2.11\"/>\n",
       "    <line x1=\"3.92\" y1=\"-2.06\" x2=\"3.92\" y2=\"-1.24\"/>\n",
       "    <line x1=\"3.80\" y1=\"-2.06\" x2=\"3.80\" y2=\"-1.24\"/>\n",
       "    <line x1=\"3.86\" y1=\"-1.24\" x2=\"3.14\" y2=\"-0.82\"/>\n",
       "    <line x1=\"3.11\" y1=\"-0.77\" x2=\"2.40\" y2=\"-1.19\"/>\n",
       "    <line x1=\"3.17\" y1=\"-0.88\" x2=\"2.46\" y2=\"-1.29\"/>\n",
       "    <line x1=\"2.43\" y1=\"-1.24\" x2=\"2.43\" y2=\"-2.06\"/>\n",
       "  </g>\n",
       "  <g font-family=\"monospace\">\n",
       "    <g fill=\"#3050F8\" font-family=\"sans-serif\">\n",
       "      <text x=\"3.14\" y=\"-3.30\" dx=\"-0.20\" dy=\"0.20\" font-size=\"0.50\">N</text>\n",
       "    </g>\n",
       "    <g fill=\"#FF0D0D\" font-family=\"sans-serif\">\n",
       "      <text x=\"2.43\" y=\"-3.71\" dx=\"-0.20\" dy=\"0.20\" font-size=\"0.50\">O</text>\n",
       "    </g>\n",
       "    <g fill=\"#FF0D0D\" font-family=\"sans-serif\">\n",
       "      <text x=\"3.86\" y=\"-3.71\" dx=\"-0.20\" dy=\"0.20\" font-size=\"0.50\">O</text>\n",
       "    </g>\n",
       "    <g fill=\"#FF0D0D\" font-family=\"sans-serif\">\n",
       "      <text x=\"3.14\" y=\"-0.00\" dx=\"-0.20\" dy=\"0.20\" font-size=\"0.50\">O</text>\n",
       "    </g>\n",
       "    <g font-family=\"monospace\" fill=\"black\" font-size=\"0.30\">\n",
       "      <text x=\"3.14\" y=\"-3.30\" dx=\"0.05\" dy=\"-0.20\" font-size=\"0.30\">+</text>\n",
       "      <text x=\"3.86\" y=\"-3.71\" dx=\"0.05\" dy=\"-0.20\" font-size=\"0.30\">-</text>\n",
       "    </g>\n",
       "  </g>\n",
       "</svg>"
      ],
      "text/plain": [
       "<CGRtools.containers.cgr.CGRContainer at 0x7f6ad7da9900>"
      ]
     },
     "execution_count": 56,
     "metadata": {},
     "output_type": "execute_result"
    }
   ],
   "source": [
    "cgr1 = m7 ^ m8 # CGR from molecules\n",
    "# or \n",
    "cgr1 = m7.compose(m8)\n",
    "print(cgr1)\n",
    "cgr1"
   ]
  },
  {
   "cell_type": "code",
   "execution_count": 57,
   "metadata": {},
   "outputs": [
    {
     "data": {
      "image/svg+xml": [
       "<svg width=\"17.82cm\" height=\"3.39cm\" viewBox=\"-0.62 -1.70 17.82 3.39\" xmlns=\"http://www.w3.org/2000/svg\" version=\"1.1\">\n",
       "  <defs>\n",
       "    <marker id=\"arrow\" markerWidth=\"10\" markerHeight=\"10\" refX=\"0\" refY=\"3\" orient=\"auto\">\n",
       "      <path d=\"M0,0 L0,6 L9,3\"/>\n",
       "    </marker>\n",
       "    <mask id=\"mask-b9b14442-0abe-419a-98a4-84d2b04c1141\">\n",
       "      <rect x=\"-0.62\" y=\"-1.70\" width=\"17.82\" height=\"3.39\" fill=\"white\"/>\n",
       "      <g fill=\"black\">\n",
       "        <circle cx=\"1.43\" cy=\"-0.21\" r=\"0.20\"/>\n",
       "        <circle cx=\"3.45\" cy=\"-1.07\" r=\"0.20\"/>\n",
       "        <circle cx=\"4.69\" cy=\"-0.36\" r=\"0.20\"/>\n",
       "        <circle cx=\"3.87\" cy=\"1.07\" r=\"0.20\"/>\n",
       "        <circle cx=\"2.63\" cy=\"0.36\" r=\"0.20\"/>\n",
       "        <circle cx=\"7.32\" cy=\"-0.21\" r=\"0.20\"/>\n",
       "        <circle cx=\"14.89\" cy=\"-0.21\" r=\"0.20\"/>\n",
       "        <circle cx=\"12.75\" cy=\"0.21\" r=\"0.20\"/>\n",
       "        <circle cx=\"13.46\" cy=\"-1.03\" r=\"0.20\"/>\n",
       "        <circle cx=\"14.18\" cy=\"1.03\" r=\"0.20\"/>\n",
       "      </g>\n",
       "      <g font-family=\"monospace\" stroke=\"black\">\n",
       "        <g font-family=\"sans-serif\" font-size=\"0.50\" stroke-width=\"0.05\">\n",
       "         <text x=\"1.43\" y=\"-0.21\" dx=\"-0.20\" dy=\"0.20\">OH</text>\n",
       "         <text x=\"3.45\" y=\"-1.07\" dx=\"-0.20\" dy=\"0.20\">O</text>\n",
       "         <text x=\"4.69\" y=\"-0.36\" dx=\"-0.20\" dy=\"0.20\">OH</text>\n",
       "         <text x=\"3.87\" y=\"1.07\" dx=\"-0.20\" dy=\"0.20\">O</text>\n",
       "         <text x=\"2.63\" y=\"0.36\" dx=\"-0.20\" dy=\"0.20\">OH</text>\n",
       "         <text x=\"7.32\" y=\"-0.21\" dx=\"-0.20\" dy=\"0.20\">O</text>\n",
       "         <text x=\"14.89\" y=\"-0.21\" dx=\"-0.20\" dy=\"0.20\">O</text>\n",
       "         <text x=\"12.75\" y=\"0.21\" dx=\"-0.20\" dy=\"0.20\">O</text>\n",
       "         <text x=\"13.46\" y=\"-1.03\" dx=\"-0.20\" dy=\"0.20\">O</text>\n",
       "         <text x=\"14.18\" y=\"1.03\" dx=\"-0.20\" dy=\"0.20\">O</text>\n",
       "        </g>\n",
       "        <g font-size=\"0.25\" stroke-width=\"0.03\">\n",
       "         <text x=\"0.00\" y=\"-0.21\" dx=\"-0.05\" dy=\"0.20\" text-anchor=\"end\">3</text>\n",
       "         <text x=\"0.71\" y=\"0.21\" dx=\"-0.05\" dy=\"0.20\" text-anchor=\"end\">4</text>\n",
       "         <text x=\"1.43\" y=\"-0.21\" dx=\"-0.15\" dy=\"0.35\" text-anchor=\"end\">1</text>\n",
       "         <text x=\"3.87\" y=\"-0.36\" dx=\"-0.05\" dy=\"0.20\" text-anchor=\"end\">5</text>\n",
       "         <text x=\"3.45\" y=\"0.36\" dx=\"-0.05\" dy=\"0.20\" text-anchor=\"end\">6</text>\n",
       "         <text x=\"3.45\" y=\"-1.07\" dx=\"-0.15\" dy=\"0.35\" text-anchor=\"end\">7</text>\n",
       "         <text x=\"4.69\" y=\"-0.36\" dx=\"-0.15\" dy=\"0.35\" text-anchor=\"end\">8</text>\n",
       "         <text x=\"3.87\" y=\"1.07\" dx=\"-0.15\" dy=\"0.35\" text-anchor=\"end\">9</text>\n",
       "         <text x=\"2.63\" y=\"0.36\" dx=\"-0.15\" dy=\"0.35\" text-anchor=\"end\">10</text>\n",
       "         <text x=\"6.61\" y=\"0.21\" dx=\"-0.05\" dy=\"0.20\" text-anchor=\"end\">11</text>\n",
       "         <text x=\"5.89\" y=\"-0.21\" dx=\"-0.05\" dy=\"0.20\" text-anchor=\"end\">12</text>\n",
       "         <text x=\"7.32\" y=\"-0.21\" dx=\"-0.15\" dy=\"0.35\" text-anchor=\"end\">2</text>\n",
       "         <text x=\"14.18\" y=\"0.21\" dx=\"-0.05\" dy=\"0.20\" text-anchor=\"end\">5</text>\n",
       "         <text x=\"13.46\" y=\"-0.21\" dx=\"-0.05\" dy=\"0.20\" text-anchor=\"end\">6</text>\n",
       "         <text x=\"14.89\" y=\"-0.21\" dx=\"-0.15\" dy=\"0.35\" text-anchor=\"end\">2</text>\n",
       "         <text x=\"12.75\" y=\"0.21\" dx=\"-0.15\" dy=\"0.35\" text-anchor=\"end\">1</text>\n",
       "         <text x=\"13.46\" y=\"-1.03\" dx=\"-0.15\" dy=\"0.35\" text-anchor=\"end\">9</text>\n",
       "         <text x=\"14.18\" y=\"1.03\" dx=\"-0.15\" dy=\"0.35\" text-anchor=\"end\">7</text>\n",
       "         <text x=\"15.61\" y=\"0.21\" dx=\"-0.05\" dy=\"0.20\" text-anchor=\"end\">11</text>\n",
       "         <text x=\"16.32\" y=\"-0.21\" dx=\"-0.05\" dy=\"0.20\" text-anchor=\"end\">12</text>\n",
       "         <text x=\"12.03\" y=\"-0.21\" dx=\"-0.05\" dy=\"0.20\" text-anchor=\"end\">4</text>\n",
       "         <text x=\"11.32\" y=\"0.21\" dx=\"-0.05\" dy=\"0.20\" text-anchor=\"end\">3</text>\n",
       "        </g>\n",
       "        <g font-family=\"monospace\" font-size=\"0.3\" stroke-width=\"0.03\">\n",
       "         <text x=\"7.32\" y=\"-0.21\" dx=\"0.05\" dy=\"-0.20\">-</text>\n",
       "        </g>\n",
       "      </g>\n",
       "    </mask>\n",
       "  </defs>\n",
       "  <line x1=\"8.32\" y1=\"0\" x2=\"10.32\" y2=\"0\" fill=\"none\" stroke=\"black\" stroke-width=\".04\" marker-end=\"url(#arrow)\"/>\n",
       "  <g fill=\"none\" stroke=\"black\" stroke-width=\"0.04\" mask=\"url(#mask-b9b14442-0abe-419a-98a4-84d2b04c1141)\">\n",
       "    <line x1=\"-0.62\" y1=\"-1.70\" x2=\"17.20\" y2=\"-1.70\" stroke=\"none\"/>\n",
       "    <line x1=\"0.00\" y1=\"-0.21\" x2=\"0.71\" y2=\"0.21\"/>\n",
       "    <line x1=\"0.71\" y1=\"0.21\" x2=\"1.43\" y2=\"-0.21\"/>\n",
       "    <line x1=\"3.87\" y1=\"-0.36\" x2=\"3.45\" y2=\"0.36\"/>\n",
       "    <line x1=\"3.81\" y1=\"-0.33\" x2=\"3.40\" y2=\"-1.04\"/>\n",
       "    <line x1=\"3.92\" y1=\"-0.39\" x2=\"3.51\" y2=\"-1.10\"/>\n",
       "    <line x1=\"3.87\" y1=\"-0.36\" x2=\"4.69\" y2=\"-0.36\"/>\n",
       "    <line x1=\"3.51\" y1=\"0.33\" x2=\"3.92\" y2=\"1.04\"/>\n",
       "    <line x1=\"3.40\" y1=\"0.39\" x2=\"3.81\" y2=\"1.10\"/>\n",
       "    <line x1=\"3.45\" y1=\"0.36\" x2=\"2.63\" y2=\"0.36\"/>\n",
       "    <line x1=\"6.61\" y1=\"0.21\" x2=\"5.89\" y2=\"-0.21\"/>\n",
       "    <line x1=\"6.61\" y1=\"0.21\" x2=\"7.32\" y2=\"-0.21\"/>\n",
       "    <line x1=\"14.18\" y1=\"0.21\" x2=\"13.46\" y2=\"-0.21\"/>\n",
       "    <line x1=\"14.18\" y1=\"0.21\" x2=\"14.89\" y2=\"-0.21\"/>\n",
       "    <line x1=\"14.24\" y1=\"0.21\" x2=\"14.24\" y2=\"1.03\"/>\n",
       "    <line x1=\"14.12\" y1=\"0.21\" x2=\"14.12\" y2=\"1.03\"/>\n",
       "    <line x1=\"13.46\" y1=\"-0.21\" x2=\"12.75\" y2=\"0.21\"/>\n",
       "    <line x1=\"13.40\" y1=\"-0.21\" x2=\"13.40\" y2=\"-1.03\"/>\n",
       "    <line x1=\"13.52\" y1=\"-0.21\" x2=\"13.52\" y2=\"-1.03\"/>\n",
       "    <line x1=\"14.89\" y1=\"-0.21\" x2=\"15.61\" y2=\"0.21\"/>\n",
       "    <line x1=\"12.75\" y1=\"0.21\" x2=\"12.03\" y2=\"-0.21\"/>\n",
       "    <line x1=\"15.61\" y1=\"0.21\" x2=\"16.32\" y2=\"-0.21\"/>\n",
       "    <line x1=\"12.03\" y1=\"-0.21\" x2=\"11.32\" y2=\"0.21\"/>\n",
       "  </g>\n",
       "  <g fill=\"none\" stroke=\"black\" stroke-width=\".04\" >\n",
       "    <line x1=\"1.98\" y1=\"0\" x2=\"2.28\" y2=\"0\"/>\n",
       "    <line x1=\"2.13\" y1=\"0.15\" x2=\"2.13\" y2=\"-0.15\"/>\n",
       "    <line x1=\"5.24\" y1=\"0\" x2=\"5.54\" y2=\"0\"/>\n",
       "    <line x1=\"5.39\" y1=\"0.15\" x2=\"5.39\" y2=\"-0.15\"/>\n",
       "  </g>\n",
       "  <g font-family=\"monospace\">\n",
       "    <g fill=\"#FF0D0D\" font-family=\"sans-serif\">\n",
       "      <text x=\"1.43\" y=\"-0.21\" dx=\"-0.20\" dy=\"0.20\" font-size=\"0.50\">OH</text>\n",
       "    </g>\n",
       "    <g fill=\"#0305A7\" font-size=\"0.25\">\n",
       "      <text x=\"0.00\" y=\"-0.21\" dx=\"-0.05\" dy=\"0.20\" text-anchor=\"end\">3</text>\n",
       "      <text x=\"0.71\" y=\"0.21\" dx=\"-0.05\" dy=\"0.20\" text-anchor=\"end\">4</text>\n",
       "      <text x=\"1.43\" y=\"-0.21\" dx=\"-0.15\" dy=\"0.35\" text-anchor=\"end\">1</text>\n",
       "    </g>\n",
       "    <g fill=\"#FF0D0D\" font-family=\"sans-serif\">\n",
       "      <text x=\"3.45\" y=\"-1.07\" dx=\"-0.20\" dy=\"0.20\" font-size=\"0.50\">O</text>\n",
       "    </g>\n",
       "    <g fill=\"#FF0D0D\" font-family=\"sans-serif\">\n",
       "      <text x=\"4.69\" y=\"-0.36\" dx=\"-0.20\" dy=\"0.20\" font-size=\"0.50\">OH</text>\n",
       "    </g>\n",
       "    <g fill=\"#FF0D0D\" font-family=\"sans-serif\">\n",
       "      <text x=\"3.87\" y=\"1.07\" dx=\"-0.20\" dy=\"0.20\" font-size=\"0.50\">O</text>\n",
       "    </g>\n",
       "    <g fill=\"#FF0D0D\" font-family=\"sans-serif\">\n",
       "      <text x=\"2.63\" y=\"0.36\" dx=\"-0.20\" dy=\"0.20\" font-size=\"0.50\">OH</text>\n",
       "    </g>\n",
       "    <g fill=\"#0305A7\" font-size=\"0.25\">\n",
       "      <text x=\"3.87\" y=\"-0.36\" dx=\"-0.05\" dy=\"0.20\" text-anchor=\"end\">5</text>\n",
       "      <text x=\"3.45\" y=\"0.36\" dx=\"-0.05\" dy=\"0.20\" text-anchor=\"end\">6</text>\n",
       "      <text x=\"3.45\" y=\"-1.07\" dx=\"-0.15\" dy=\"0.35\" text-anchor=\"end\">7</text>\n",
       "      <text x=\"4.69\" y=\"-0.36\" dx=\"-0.15\" dy=\"0.35\" text-anchor=\"end\">8</text>\n",
       "      <text x=\"3.87\" y=\"1.07\" dx=\"-0.15\" dy=\"0.35\" text-anchor=\"end\">9</text>\n",
       "      <text x=\"2.63\" y=\"0.36\" dx=\"-0.15\" dy=\"0.35\" text-anchor=\"end\">10</text>\n",
       "    </g>\n",
       "    <g fill=\"#FF0D0D\" font-family=\"sans-serif\">\n",
       "      <text x=\"7.32\" y=\"-0.21\" dx=\"-0.20\" dy=\"0.20\" font-size=\"0.50\">O</text>\n",
       "    </g>\n",
       "    <g font-family=\"monospace\" fill=\"black\" font-size=\"0.30\">\n",
       "      <text x=\"7.32\" y=\"-0.21\" dx=\"0.05\" dy=\"-0.20\">-</text>\n",
       "    </g>\n",
       "    <g fill=\"#0305A7\" font-size=\"0.25\">\n",
       "      <text x=\"6.61\" y=\"0.21\" dx=\"-0.05\" dy=\"0.20\" text-anchor=\"end\">11</text>\n",
       "      <text x=\"5.89\" y=\"-0.21\" dx=\"-0.05\" dy=\"0.20\" text-anchor=\"end\">12</text>\n",
       "      <text x=\"7.32\" y=\"-0.21\" dx=\"-0.15\" dy=\"0.35\" text-anchor=\"end\">2</text>\n",
       "    </g>\n",
       "    <g fill=\"#FF0D0D\" font-family=\"sans-serif\">\n",
       "      <text x=\"14.89\" y=\"-0.21\" dx=\"-0.20\" dy=\"0.20\" font-size=\"0.50\">O</text>\n",
       "    </g>\n",
       "    <g fill=\"#FF0D0D\" font-family=\"sans-serif\">\n",
       "      <text x=\"12.75\" y=\"0.21\" dx=\"-0.20\" dy=\"0.20\" font-size=\"0.50\">O</text>\n",
       "    </g>\n",
       "    <g fill=\"#FF0D0D\" font-family=\"sans-serif\">\n",
       "      <text x=\"13.46\" y=\"-1.03\" dx=\"-0.20\" dy=\"0.20\" font-size=\"0.50\">O</text>\n",
       "    </g>\n",
       "    <g fill=\"#FF0D0D\" font-family=\"sans-serif\">\n",
       "      <text x=\"14.18\" y=\"1.03\" dx=\"-0.20\" dy=\"0.20\" font-size=\"0.50\">O</text>\n",
       "    </g>\n",
       "    <g fill=\"#0305A7\" font-size=\"0.25\">\n",
       "      <text x=\"14.18\" y=\"0.21\" dx=\"-0.05\" dy=\"0.20\" text-anchor=\"end\">5</text>\n",
       "      <text x=\"13.46\" y=\"-0.21\" dx=\"-0.05\" dy=\"0.20\" text-anchor=\"end\">6</text>\n",
       "      <text x=\"14.89\" y=\"-0.21\" dx=\"-0.15\" dy=\"0.35\" text-anchor=\"end\">2</text>\n",
       "      <text x=\"12.75\" y=\"0.21\" dx=\"-0.15\" dy=\"0.35\" text-anchor=\"end\">1</text>\n",
       "      <text x=\"13.46\" y=\"-1.03\" dx=\"-0.15\" dy=\"0.35\" text-anchor=\"end\">9</text>\n",
       "      <text x=\"14.18\" y=\"1.03\" dx=\"-0.15\" dy=\"0.35\" text-anchor=\"end\">7</text>\n",
       "      <text x=\"15.61\" y=\"0.21\" dx=\"-0.05\" dy=\"0.20\" text-anchor=\"end\">11</text>\n",
       "      <text x=\"16.32\" y=\"-0.21\" dx=\"-0.05\" dy=\"0.20\" text-anchor=\"end\">12</text>\n",
       "      <text x=\"12.03\" y=\"-0.21\" dx=\"-0.05\" dy=\"0.20\" text-anchor=\"end\">4</text>\n",
       "      <text x=\"11.32\" y=\"0.21\" dx=\"-0.05\" dy=\"0.20\" text-anchor=\"end\">3</text>\n",
       "    </g>\n",
       "  </g>\n",
       "</svg>"
      ],
      "text/plain": [
       "<CGRtools.containers.reaction.ReactionContainer at 0x7f6ad7e76a60>"
      ]
     },
     "execution_count": 57,
     "metadata": {},
     "output_type": "execute_result"
    }
   ],
   "source": [
    "r1"
   ]
  },
  {
   "cell_type": "code",
   "execution_count": 58,
   "metadata": {},
   "outputs": [
    {
     "name": "stdout",
     "output_type": "stream",
     "text": [
      "C(C([.>-]OCC)([->.]O)=O)([.>-][O->0]CC)(=O)[->.]O\n"
     ]
    },
    {
     "data": {
      "image/svg+xml": [
       "<svg width=\"5.13cm\" height=\"4.03cm\" viewBox=\"-0.62 -2.02 5.13 4.03\" xmlns=\"http://www.w3.org/2000/svg\" version=\"1.1\">\n",
       "  <defs>\n",
       "    <mask id=\"mask-ada2b3e6-1162-488a-90f7-b4b1598cac9e\">\n",
       "      <rect x=\"-0.62\" y=\"-2.02\" width=\"5.13\" height=\"4.03\" fill=\"white\"/>\n",
       "      <g fill=\"black\">\n",
       "        <circle cx=\"2.07\" cy=\"-1.39\" r=\"0.20\"/>\n",
       "        <circle cx=\"2.48\" cy=\"0.66\" r=\"0.20\"/>\n",
       "        <circle cx=\"0.70\" cy=\"0.47\" r=\"0.20\"/>\n",
       "        <circle cx=\"2.93\" cy=\"-0.47\" r=\"0.20\"/>\n",
       "        <circle cx=\"1.15\" cy=\"-0.66\" r=\"0.20\"/>\n",
       "        <circle cx=\"1.56\" cy=\"1.39\" r=\"0.20\"/>\n",
       "      </g>\n",
       "      <g font-family=\"monospace\" stroke=\"black\">\n",
       "        <g font-family=\"sans-serif\" font-size=\"0.50\" stroke-width=\"0.05\">\n",
       "         <text x=\"2.07\" y=\"-1.39\" dx=\"-0.20\" dy=\"0.20\">O</text>\n",
       "         <text x=\"2.48\" y=\"0.66\" dx=\"-0.20\" dy=\"0.20\">O</text>\n",
       "         <text x=\"0.70\" y=\"0.47\" dx=\"-0.20\" dy=\"0.20\">O</text>\n",
       "         <text x=\"2.93\" y=\"-0.47\" dx=\"-0.20\" dy=\"0.20\">O</text>\n",
       "         <text x=\"1.15\" y=\"-0.66\" dx=\"-0.20\" dy=\"0.20\">O</text>\n",
       "         <text x=\"1.56\" y=\"1.39\" dx=\"-0.20\" dy=\"0.20\">O</text>\n",
       "        </g>\n",
       "        <g font-family=\"monospace\" font-size=\"0.3\" stroke-width=\"0.03\">\n",
       "         <text x=\"2.93\" y=\"-0.47\" dx=\"0.05\" dy=\"-0.20\">-»0</text>\n",
       "         <text x=\"2.93\" y=\"-0.47\" dx=\"0.05\" dy=\"-0.20\">-</text>\n",
       "        </g>\n",
       "      </g>\n",
       "    </mask>\n",
       "  </defs>\n",
       "  <g fill=\"none\" stroke=\"black\" stroke-width=\"0.04\"  mask=\"url(#mask-ada2b3e6-1162-488a-90f7-b4b1598cac9e)\">\n",
       "    <line x1=\"2.07\" y1=\"-1.39\" x2=\"2.07\" y2=\"-0.43\" stroke=\"red\"/>\n",
       "    <line x1=\"2.48\" y1=\"0.66\" x2=\"1.56\" y2=\"0.43\" stroke=\"red\"/>\n",
       "    <line x1=\"0.70\" y1=\"0.47\" x2=\"0.10\" y2=\"-0.05\"/>\n",
       "    <line x1=\"0.70\" y1=\"0.47\" x2=\"1.56\" y2=\"0.43\" stroke=\"green\"/>\n",
       "    <line x1=\"2.93\" y1=\"-0.47\" x2=\"3.53\" y2=\"0.05\"/>\n",
       "    <line x1=\"2.93\" y1=\"-0.47\" x2=\"2.07\" y2=\"-0.43\" stroke=\"green\"/>\n",
       "    <line x1=\"0.00\" y1=\"-0.89\" x2=\"0.10\" y2=\"-0.05\"/>\n",
       "    <line x1=\"2.07\" y1=\"-0.43\" x2=\"1.56\" y2=\"0.43\"/>\n",
       "    <line x1=\"2.05\" y1=\"-0.37\" x2=\"1.13\" y2=\"-0.60\"/>\n",
       "    <line x1=\"2.08\" y1=\"-0.49\" x2=\"1.16\" y2=\"-0.72\"/>\n",
       "    <line x1=\"1.62\" y1=\"0.43\" x2=\"1.62\" y2=\"1.39\"/>\n",
       "    <line x1=\"1.50\" y1=\"0.43\" x2=\"1.50\" y2=\"1.39\"/>\n",
       "    <line x1=\"3.53\" y1=\"0.05\" x2=\"3.63\" y2=\"0.89\"/>\n",
       "  </g>\n",
       "  <g font-family=\"monospace\">\n",
       "    <g fill=\"#FF0D0D\" font-family=\"sans-serif\">\n",
       "      <text x=\"2.07\" y=\"-1.39\" dx=\"-0.20\" dy=\"0.20\" font-size=\"0.50\">O</text>\n",
       "    </g>\n",
       "    <g fill=\"#FF0D0D\" font-family=\"sans-serif\">\n",
       "      <text x=\"2.48\" y=\"0.66\" dx=\"-0.20\" dy=\"0.20\" font-size=\"0.50\">O</text>\n",
       "    </g>\n",
       "    <g fill=\"#FF0D0D\" font-family=\"sans-serif\">\n",
       "      <text x=\"0.70\" y=\"0.47\" dx=\"-0.20\" dy=\"0.20\" font-size=\"0.50\">O</text>\n",
       "    </g>\n",
       "    <g fill=\"#FF0D0D\" font-family=\"sans-serif\">\n",
       "      <text x=\"2.93\" y=\"-0.47\" dx=\"-0.20\" dy=\"0.20\" font-size=\"0.50\">O</text>\n",
       "    </g>\n",
       "    <g fill=\"#FF0D0D\" font-family=\"sans-serif\">\n",
       "      <text x=\"1.15\" y=\"-0.66\" dx=\"-0.20\" dy=\"0.20\" font-size=\"0.50\">O</text>\n",
       "    </g>\n",
       "    <g fill=\"#FF0D0D\" font-family=\"sans-serif\">\n",
       "      <text x=\"1.56\" y=\"1.39\" dx=\"-0.20\" dy=\"0.20\" font-size=\"0.50\">O</text>\n",
       "    </g>\n",
       "    <g font-family=\"monospace\" fill=\"black\" font-size=\"0.30\">\n",
       "      <text x=\"2.93\" y=\"-0.47\" dx=\"0.05\" dy=\"-0.20\" font-size=\"0.30\">-»0</text>\n",
       "      <text x=\"2.93\" y=\"-0.47\" dx=\"0.05\" dy=\"-0.20\" font-size=\"0.30\">-</text>\n",
       "    </g>\n",
       "  </g>\n",
       "</svg>"
      ],
      "text/plain": [
       "<CGRtools.containers.cgr.CGRContainer at 0x7f6ad7da9720>"
      ]
     },
     "execution_count": 58,
     "metadata": {},
     "output_type": "execute_result"
    }
   ],
   "source": [
    "cgr2 = ~r1 # CGR from reactions\n",
    "# or \n",
    "cgr2 = r1.compose()\n",
    "print(cgr2) # signature is printed out.\n",
    "cgr2.clean2d()\n",
    "cgr2"
   ]
  },
  {
   "cell_type": "code",
   "execution_count": 59,
   "metadata": {},
   "outputs": [],
   "source": [
    "a = cgr2.atom(2) # atom access is the same as for MoleculeContainer"
   ]
  },
  {
   "cell_type": "code",
   "execution_count": 60,
   "metadata": {},
   "outputs": [
    {
     "data": {
      "text/plain": [
       "'O'"
      ]
     },
     "execution_count": 60,
     "metadata": {},
     "output_type": "execute_result"
    }
   ],
   "source": [
    "a.atomic_symbol # element attribute"
   ]
  },
  {
   "cell_type": "code",
   "execution_count": 61,
   "metadata": {},
   "outputs": [],
   "source": [
    "a.isotope # isotope attribute"
   ]
  },
  {
   "cell_type": "markdown",
   "metadata": {},
   "source": [
    "For *CGRContainer* attributes `charge`, `is_radical`, `neighbors` and `hybridization` refer to atom state in reactant of reaction;  arguments `p_charge`, `p_is_radical`, `p_neighbors` and `p_hybridization` could be used to extract atom state in product part in reaction."
   ]
  },
  {
   "cell_type": "code",
   "execution_count": 62,
   "metadata": {},
   "outputs": [
    {
     "data": {
      "text/plain": [
       "-1"
      ]
     },
     "execution_count": 62,
     "metadata": {},
     "output_type": "execute_result"
    }
   ],
   "source": [
    "a.charge # charge of atom in reactant"
   ]
  },
  {
   "cell_type": "code",
   "execution_count": 63,
   "metadata": {},
   "outputs": [
    {
     "data": {
      "text/plain": [
       "0"
      ]
     },
     "execution_count": 63,
     "metadata": {},
     "output_type": "execute_result"
    }
   ],
   "source": [
    "a.p_charge # charge of atom in product"
   ]
  },
  {
   "cell_type": "code",
   "execution_count": 64,
   "metadata": {},
   "outputs": [
    {
     "data": {
      "text/plain": [
       "False"
      ]
     },
     "execution_count": 64,
     "metadata": {},
     "output_type": "execute_result"
    }
   ],
   "source": [
    "a.p_is_radical # radical state of atom in product."
   ]
  },
  {
   "cell_type": "code",
   "execution_count": 65,
   "metadata": {},
   "outputs": [
    {
     "data": {
      "text/plain": [
       "1"
      ]
     },
     "execution_count": 65,
     "metadata": {},
     "output_type": "execute_result"
    }
   ],
   "source": [
    "a.neighbors # number of neighbors of atom in reactant"
   ]
  },
  {
   "cell_type": "code",
   "execution_count": 66,
   "metadata": {},
   "outputs": [
    {
     "data": {
      "text/plain": [
       "2"
      ]
     },
     "execution_count": 66,
     "metadata": {},
     "output_type": "execute_result"
    }
   ],
   "source": [
    "a.p_neighbors # number of neighbors of atom in product"
   ]
  },
  {
   "cell_type": "code",
   "execution_count": 67,
   "metadata": {},
   "outputs": [
    {
     "data": {
      "text/plain": [
       "1"
      ]
     },
     "execution_count": 67,
     "metadata": {},
     "output_type": "execute_result"
    }
   ],
   "source": [
    "a.hybridization # hybridization of atom in reactant. 1 means only single bonds are incident to atom"
   ]
  },
  {
   "cell_type": "code",
   "execution_count": 68,
   "metadata": {},
   "outputs": [
    {
     "data": {
      "text/plain": [
       "1"
      ]
     },
     "execution_count": 68,
     "metadata": {},
     "output_type": "execute_result"
    }
   ],
   "source": [
    "a.p_hybridization # hybridization of atom in product. 1 means only single bonds are incident to atom"
   ]
  },
  {
   "cell_type": "code",
   "execution_count": 69,
   "metadata": {},
   "outputs": [],
   "source": [
    "b = cgr1.bond(4, 10) # take bond"
   ]
  },
  {
   "cell_type": "markdown",
   "metadata": {},
   "source": [
    "#### Bonds has `order` and `p_order` attribute\n",
    "If `order` attribute value is ***None***, it means that bond was formed  \n",
    "If `p_order` is ***None***, it means that bond was broken  \n",
    "\n",
    "Both `order` and `p_order` can't be ***None***"
   ]
  },
  {
   "cell_type": "code",
   "execution_count": 70,
   "metadata": {},
   "outputs": [
    {
     "data": {
      "text/plain": [
       "1"
      ]
     },
     "execution_count": 70,
     "metadata": {},
     "output_type": "execute_result"
    }
   ],
   "source": [
    "b.order # bond order in reactant"
   ]
  },
  {
   "cell_type": "code",
   "execution_count": 71,
   "metadata": {},
   "outputs": [
    {
     "data": {
      "text/plain": [
       "True"
      ]
     },
     "execution_count": 71,
     "metadata": {},
     "output_type": "execute_result"
    }
   ],
   "source": [
    "b.p_order is None # bond order in product in None"
   ]
  },
  {
   "cell_type": "markdown",
   "metadata": {},
   "source": [
    "**CGR can be decomposed back to reaction**, i.e. reactants and products.\n",
    "\n",
    "Notice that CGR can lose information in case of unbalanced reactions (where some atoms of reactant does not have counterpart in product, and vice versa). Decomposition of CGRs for unbalanced reactions back to reaction may lead to strange (and erroneous) structures."
   ]
  },
  {
   "cell_type": "code",
   "execution_count": 72,
   "metadata": {},
   "outputs": [],
   "source": [
    "reactant_part, product_part = ~cgr1 # CGR of unbalanced reaction is decomposed back into reaction\n",
    "# or \n",
    "reactant_part, product_part = cgr1.decompose()"
   ]
  },
  {
   "cell_type": "code",
   "execution_count": 73,
   "metadata": {},
   "outputs": [
    {
     "data": {
      "image/svg+xml": [
       "<svg width=\"2.93cm\" height=\"4.96cm\" viewBox=\"1.80 -4.34 2.93 4.96\" xmlns=\"http://www.w3.org/2000/svg\" version=\"1.1\">\n",
       "  <defs>\n",
       "    <mask id=\"mask-cecf4929-c88b-4d31-a9ba-3fad35d61ecf\">\n",
       "      <rect x=\"1.80\" y=\"-4.34\" width=\"2.93\" height=\"4.96\" fill=\"white\"/>\n",
       "      <g fill=\"black\">\n",
       "        <circle cx=\"3.14\" cy=\"-3.30\" r=\"0.20\"/>\n",
       "        <circle cx=\"2.43\" cy=\"-3.71\" r=\"0.20\"/>\n",
       "        <circle cx=\"3.86\" cy=\"-3.71\" r=\"0.20\"/>\n",
       "        <circle cx=\"3.14\" cy=\"-0.00\" r=\"0.20\"/>\n",
       "      </g>\n",
       "      <g font-family=\"monospace\" stroke=\"black\">\n",
       "        <g font-family=\"sans-serif\" font-size=\"0.50\" stroke-width=\"0.05\">\n",
       "         <text x=\"3.14\" y=\"-3.30\" dx=\"-0.20\" dy=\"0.20\">N</text>\n",
       "         <text x=\"2.43\" y=\"-3.71\" dx=\"-0.20\" dy=\"0.20\">O</text>\n",
       "         <text x=\"3.86\" y=\"-3.71\" dx=\"-0.20\" dy=\"0.20\">O</text>\n",
       "         <text x=\"3.14\" y=\"-0.00\" dx=\"-0.20\" dy=\"0.20\">OH</text>\n",
       "        </g>\n",
       "        <g font-size=\"0.25\" stroke-width=\"0.03\">\n",
       "         <text x=\"3.14\" y=\"-3.30\" dx=\"-0.15\" dy=\"0.35\" text-anchor=\"end\">10</text>\n",
       "         <text x=\"2.43\" y=\"-3.71\" dx=\"-0.15\" dy=\"0.35\" text-anchor=\"end\">11</text>\n",
       "         <text x=\"3.86\" y=\"-3.71\" dx=\"-0.15\" dy=\"0.35\" text-anchor=\"end\">12</text>\n",
       "         <text x=\"3.14\" y=\"-0.00\" dx=\"-0.15\" dy=\"0.35\" text-anchor=\"end\">13</text>\n",
       "         <text x=\"3.14\" y=\"-2.48\" dx=\"-0.05\" dy=\"0.20\" text-anchor=\"end\">4</text>\n",
       "         <text x=\"3.86\" y=\"-2.06\" dx=\"-0.05\" dy=\"0.20\" text-anchor=\"end\">5</text>\n",
       "         <text x=\"3.86\" y=\"-1.24\" dx=\"-0.05\" dy=\"0.20\" text-anchor=\"end\">6</text>\n",
       "         <text x=\"3.14\" y=\"-0.82\" dx=\"-0.05\" dy=\"0.20\" text-anchor=\"end\">7</text>\n",
       "         <text x=\"2.43\" y=\"-1.24\" dx=\"-0.05\" dy=\"0.20\" text-anchor=\"end\">8</text>\n",
       "         <text x=\"2.43\" y=\"-2.06\" dx=\"-0.05\" dy=\"0.20\" text-anchor=\"end\">9</text>\n",
       "        </g>\n",
       "        <g font-family=\"monospace\" font-size=\"0.3\" stroke-width=\"0.03\">\n",
       "         <text x=\"3.14\" y=\"-3.30\" dx=\"0.05\" dy=\"-0.20\">+</text>\n",
       "         <text x=\"3.86\" y=\"-3.71\" dx=\"0.05\" dy=\"-0.20\">-</text>\n",
       "        </g>\n",
       "      </g>\n",
       "    </mask>\n",
       "  </defs>\n",
       "  <g fill=\"none\" stroke=\"black\" stroke-width=\"0.04\"  mask=\"url(#mask-cecf4929-c88b-4d31-a9ba-3fad35d61ecf)\">\n",
       "    <line x1=\"3.14\" y1=\"-3.30\" x2=\"3.14\" y2=\"-2.48\"/>\n",
       "    <line x1=\"3.11\" y1=\"-3.25\" x2=\"2.40\" y2=\"-3.66\"/>\n",
       "    <line x1=\"3.17\" y1=\"-3.35\" x2=\"2.46\" y2=\"-3.76\"/>\n",
       "    <line x1=\"3.14\" y1=\"-3.30\" x2=\"3.86\" y2=\"-3.71\"/>\n",
       "    <line x1=\"3.14\" y1=\"-0.00\" x2=\"3.14\" y2=\"-0.82\"/>\n",
       "    <line x1=\"3.14\" y1=\"-2.48\" x2=\"3.86\" y2=\"-2.06\"/>\n",
       "    <line x1=\"3.17\" y1=\"-2.42\" x2=\"2.46\" y2=\"-2.01\"/>\n",
       "    <line x1=\"3.11\" y1=\"-2.53\" x2=\"2.40\" y2=\"-2.11\"/>\n",
       "    <line x1=\"3.92\" y1=\"-2.06\" x2=\"3.92\" y2=\"-1.24\"/>\n",
       "    <line x1=\"3.80\" y1=\"-2.06\" x2=\"3.80\" y2=\"-1.24\"/>\n",
       "    <line x1=\"3.86\" y1=\"-1.24\" x2=\"3.14\" y2=\"-0.82\"/>\n",
       "    <line x1=\"3.11\" y1=\"-0.77\" x2=\"2.40\" y2=\"-1.19\"/>\n",
       "    <line x1=\"3.17\" y1=\"-0.88\" x2=\"2.46\" y2=\"-1.29\"/>\n",
       "    <line x1=\"2.43\" y1=\"-1.24\" x2=\"2.43\" y2=\"-2.06\"/>\n",
       "  </g>\n",
       "  <g font-family=\"monospace\">\n",
       "    <g fill=\"#3050F8\" font-family=\"sans-serif\">\n",
       "      <text x=\"3.14\" y=\"-3.30\" dx=\"-0.20\" dy=\"0.20\" font-size=\"0.50\">N</text>\n",
       "    </g>\n",
       "    <g fill=\"#FF0D0D\" font-family=\"sans-serif\">\n",
       "      <text x=\"2.43\" y=\"-3.71\" dx=\"-0.20\" dy=\"0.20\" font-size=\"0.50\">O</text>\n",
       "    </g>\n",
       "    <g fill=\"#FF0D0D\" font-family=\"sans-serif\">\n",
       "      <text x=\"3.86\" y=\"-3.71\" dx=\"-0.20\" dy=\"0.20\" font-size=\"0.50\">O</text>\n",
       "    </g>\n",
       "    <g fill=\"#FF0D0D\" font-family=\"sans-serif\">\n",
       "      <text x=\"3.14\" y=\"-0.00\" dx=\"-0.20\" dy=\"0.20\" font-size=\"0.50\">OH</text>\n",
       "    </g>\n",
       "    <g font-family=\"monospace\" fill=\"black\" font-size=\"0.30\">\n",
       "      <text x=\"3.14\" y=\"-3.30\" dx=\"0.05\" dy=\"-0.20\">+</text>\n",
       "      <text x=\"3.86\" y=\"-3.71\" dx=\"0.05\" dy=\"-0.20\">-</text>\n",
       "    </g>\n",
       "    <g fill=\"#0305A7\" font-size=\"0.25\">\n",
       "      <text x=\"3.14\" y=\"-3.30\" dx=\"-0.15\" dy=\"0.35\" text-anchor=\"end\">10</text>\n",
       "      <text x=\"2.43\" y=\"-3.71\" dx=\"-0.15\" dy=\"0.35\" text-anchor=\"end\">11</text>\n",
       "      <text x=\"3.86\" y=\"-3.71\" dx=\"-0.15\" dy=\"0.35\" text-anchor=\"end\">12</text>\n",
       "      <text x=\"3.14\" y=\"-0.00\" dx=\"-0.15\" dy=\"0.35\" text-anchor=\"end\">13</text>\n",
       "      <text x=\"3.14\" y=\"-2.48\" dx=\"-0.05\" dy=\"0.20\" text-anchor=\"end\">4</text>\n",
       "      <text x=\"3.86\" y=\"-2.06\" dx=\"-0.05\" dy=\"0.20\" text-anchor=\"end\">5</text>\n",
       "      <text x=\"3.86\" y=\"-1.24\" dx=\"-0.05\" dy=\"0.20\" text-anchor=\"end\">6</text>\n",
       "      <text x=\"3.14\" y=\"-0.82\" dx=\"-0.05\" dy=\"0.20\" text-anchor=\"end\">7</text>\n",
       "      <text x=\"2.43\" y=\"-1.24\" dx=\"-0.05\" dy=\"0.20\" text-anchor=\"end\">8</text>\n",
       "      <text x=\"2.43\" y=\"-2.06\" dx=\"-0.05\" dy=\"0.20\" text-anchor=\"end\">9</text>\n",
       "    </g>\n",
       "  </g>\n",
       "</svg>"
      ],
      "text/plain": [
       "<CGRtools.containers.molecule.MoleculeContainer at 0x7f6ad7da9f40>"
      ]
     },
     "execution_count": 73,
     "metadata": {},
     "output_type": "execute_result"
    }
   ],
   "source": [
    "reactant_part # reactants extracted. One can notice it is initial molecule"
   ]
  },
  {
   "cell_type": "code",
   "execution_count": 74,
   "metadata": {},
   "outputs": [
    {
     "data": {
      "image/svg+xml": [
       "<svg width=\"2.93cm\" height=\"4.96cm\" viewBox=\"1.80 -4.34 2.93 4.96\" xmlns=\"http://www.w3.org/2000/svg\" version=\"1.1\">\n",
       "  <defs>\n",
       "    <mask id=\"mask-23ce08d3-bbe8-4173-993c-a2a031506390\">\n",
       "      <rect x=\"1.80\" y=\"-4.34\" width=\"2.93\" height=\"4.96\" fill=\"white\"/>\n",
       "      <g fill=\"black\">\n",
       "        <circle cx=\"3.14\" cy=\"-3.30\" r=\"0.20\"/>\n",
       "        <circle cx=\"2.43\" cy=\"-3.71\" r=\"0.20\"/>\n",
       "        <circle cx=\"3.86\" cy=\"-3.71\" r=\"0.20\"/>\n",
       "        <circle cx=\"3.14\" cy=\"-0.00\" r=\"0.20\"/>\n",
       "      </g>\n",
       "      <g font-family=\"monospace\" stroke=\"black\">\n",
       "        <g font-family=\"sans-serif\" font-size=\"0.50\" stroke-width=\"0.05\">\n",
       "         <text x=\"3.14\" y=\"-3.30\" dx=\"-0.20\" dy=\"0.20\">NH</text>\n",
       "         <text x=\"2.43\" y=\"-3.71\" dx=\"-0.20\" dy=\"0.20\">O</text>\n",
       "         <text x=\"3.86\" y=\"-3.71\" dx=\"-0.20\" dy=\"0.20\">O</text>\n",
       "         <text x=\"3.14\" y=\"-0.00\" dx=\"-0.20\" dy=\"0.20\">OH</text>\n",
       "        </g>\n",
       "        <g font-size=\"0.25\" stroke-width=\"0.03\">\n",
       "         <text x=\"3.14\" y=\"-3.30\" dx=\"-0.15\" dy=\"0.35\" text-anchor=\"end\">10</text>\n",
       "         <text x=\"2.43\" y=\"-3.71\" dx=\"-0.15\" dy=\"0.35\" text-anchor=\"end\">11</text>\n",
       "         <text x=\"3.86\" y=\"-3.71\" dx=\"-0.15\" dy=\"0.35\" text-anchor=\"end\">12</text>\n",
       "         <text x=\"3.14\" y=\"-0.00\" dx=\"-0.15\" dy=\"0.35\" text-anchor=\"end\">13</text>\n",
       "         <text x=\"3.14\" y=\"-2.48\" dx=\"-0.05\" dy=\"0.20\" text-anchor=\"end\">4</text>\n",
       "         <text x=\"3.86\" y=\"-2.06\" dx=\"-0.05\" dy=\"0.20\" text-anchor=\"end\">5</text>\n",
       "         <text x=\"3.86\" y=\"-1.24\" dx=\"-0.05\" dy=\"0.20\" text-anchor=\"end\">6</text>\n",
       "         <text x=\"3.14\" y=\"-0.82\" dx=\"-0.05\" dy=\"0.20\" text-anchor=\"end\">7</text>\n",
       "         <text x=\"2.43\" y=\"-1.24\" dx=\"-0.05\" dy=\"0.20\" text-anchor=\"end\">8</text>\n",
       "         <text x=\"2.43\" y=\"-2.06\" dx=\"-0.05\" dy=\"0.20\" text-anchor=\"end\">9</text>\n",
       "        </g>\n",
       "        <g font-family=\"monospace\" font-size=\"0.3\" stroke-width=\"0.03\">\n",
       "         <text x=\"3.14\" y=\"-3.30\" dx=\"0.05\" dy=\"-0.20\">+</text>\n",
       "         <text x=\"3.86\" y=\"-3.71\" dx=\"0.05\" dy=\"-0.20\">-</text>\n",
       "        </g>\n",
       "        <g font-family=\"sans-serif\" font-size=\"0.50\" stroke-width=\"0.03\">\n",
       "         <text x=\"3.14\" y=\"-0.00\" dx=\"-0.20\" dy=\"0.20\">OH<tspan  dy=\"0.15\" font-size=\"0.35\">2</tspan></text>\n",
       "        </g>\n",
       "      </g>\n",
       "    </mask>\n",
       "  </defs>\n",
       "  <g fill=\"none\" stroke=\"black\" stroke-width=\"0.04\"  mask=\"url(#mask-23ce08d3-bbe8-4173-993c-a2a031506390)\">\n",
       "    <line x1=\"3.11\" y1=\"-3.25\" x2=\"2.40\" y2=\"-3.66\"/>\n",
       "    <line x1=\"3.17\" y1=\"-3.35\" x2=\"2.46\" y2=\"-3.76\"/>\n",
       "    <line x1=\"3.14\" y1=\"-3.30\" x2=\"3.86\" y2=\"-3.71\"/>\n",
       "    <line x1=\"3.14\" y1=\"-2.48\" x2=\"3.86\" y2=\"-2.06\"/>\n",
       "    <line x1=\"3.17\" y1=\"-2.42\" x2=\"2.46\" y2=\"-2.01\"/>\n",
       "    <line x1=\"3.11\" y1=\"-2.53\" x2=\"2.40\" y2=\"-2.11\"/>\n",
       "    <line x1=\"3.92\" y1=\"-2.06\" x2=\"3.92\" y2=\"-1.24\"/>\n",
       "    <line x1=\"3.80\" y1=\"-2.06\" x2=\"3.80\" y2=\"-1.24\"/>\n",
       "    <line x1=\"3.86\" y1=\"-1.24\" x2=\"3.14\" y2=\"-0.82\"/>\n",
       "    <line x1=\"3.11\" y1=\"-0.77\" x2=\"2.40\" y2=\"-1.19\"/>\n",
       "    <line x1=\"3.17\" y1=\"-0.88\" x2=\"2.46\" y2=\"-1.29\"/>\n",
       "    <line x1=\"2.43\" y1=\"-1.24\" x2=\"2.43\" y2=\"-2.06\"/>\n",
       "  </g>\n",
       "  <g font-family=\"monospace\">\n",
       "    <g fill=\"#3050F8\" font-family=\"sans-serif\">\n",
       "      <text x=\"3.14\" y=\"-3.30\" dx=\"-0.20\" dy=\"0.20\" font-size=\"0.50\">NH</text>\n",
       "    </g>\n",
       "    <g fill=\"#FF0D0D\" font-family=\"sans-serif\">\n",
       "      <text x=\"2.43\" y=\"-3.71\" dx=\"-0.20\" dy=\"0.20\" font-size=\"0.50\">O</text>\n",
       "    </g>\n",
       "    <g fill=\"#FF0D0D\" font-family=\"sans-serif\">\n",
       "      <text x=\"3.86\" y=\"-3.71\" dx=\"-0.20\" dy=\"0.20\" font-size=\"0.50\">O</text>\n",
       "    </g>\n",
       "    <g fill=\"#FF0D0D\" font-family=\"sans-serif\">\n",
       "      <text x=\"3.14\" y=\"-0.00\" dx=\"-0.20\" dy=\"0.20\" font-size=\"0.50\">OH<tspan  dy=\"0.15\" font-size=\"0.35\">2</tspan></text>\n",
       "    </g>\n",
       "    <g font-family=\"monospace\" fill=\"black\" font-size=\"0.30\">\n",
       "      <text x=\"3.14\" y=\"-3.30\" dx=\"0.05\" dy=\"-0.20\">+</text>\n",
       "      <text x=\"3.86\" y=\"-3.71\" dx=\"0.05\" dy=\"-0.20\">-</text>\n",
       "    </g>\n",
       "    <g fill=\"#0305A7\" font-size=\"0.25\">\n",
       "      <text x=\"3.14\" y=\"-3.30\" dx=\"-0.15\" dy=\"0.35\" text-anchor=\"end\">10</text>\n",
       "      <text x=\"2.43\" y=\"-3.71\" dx=\"-0.15\" dy=\"0.35\" text-anchor=\"end\">11</text>\n",
       "      <text x=\"3.86\" y=\"-3.71\" dx=\"-0.15\" dy=\"0.35\" text-anchor=\"end\">12</text>\n",
       "      <text x=\"3.14\" y=\"-0.00\" dx=\"-0.15\" dy=\"0.35\" text-anchor=\"end\">13</text>\n",
       "      <text x=\"3.14\" y=\"-2.48\" dx=\"-0.05\" dy=\"0.20\" text-anchor=\"end\">4</text>\n",
       "      <text x=\"3.86\" y=\"-2.06\" dx=\"-0.05\" dy=\"0.20\" text-anchor=\"end\">5</text>\n",
       "      <text x=\"3.86\" y=\"-1.24\" dx=\"-0.05\" dy=\"0.20\" text-anchor=\"end\">6</text>\n",
       "      <text x=\"3.14\" y=\"-0.82\" dx=\"-0.05\" dy=\"0.20\" text-anchor=\"end\">7</text>\n",
       "      <text x=\"2.43\" y=\"-1.24\" dx=\"-0.05\" dy=\"0.20\" text-anchor=\"end\">8</text>\n",
       "      <text x=\"2.43\" y=\"-2.06\" dx=\"-0.05\" dy=\"0.20\" text-anchor=\"end\">9</text>\n",
       "    </g>\n",
       "  </g>\n",
       "</svg>"
      ],
      "text/plain": [
       "<CGRtools.containers.molecule.MoleculeContainer at 0x7f6ad7d7d040>"
      ]
     },
     "execution_count": 74,
     "metadata": {},
     "output_type": "execute_result"
    }
   ],
   "source": [
    "product_part #extracted products. Originally benzene was the product."
   ]
  },
  {
   "cell_type": "markdown",
   "metadata": {},
   "source": [
    "For decomposition of *CGRContainer* back into *ReactionContainer* `ReactionContainer.from_cgr` constructor method can be used."
   ]
  },
  {
   "cell_type": "code",
   "execution_count": 75,
   "metadata": {},
   "outputs": [
    {
     "data": {
      "image/svg+xml": [
       "<svg width=\"16.69cm\" height=\"6.08cm\" viewBox=\"-0.62 -3.04 16.69 6.08\" xmlns=\"http://www.w3.org/2000/svg\" version=\"1.1\">\n",
       "  <defs>\n",
       "    <marker id=\"arrow\" markerWidth=\"10\" markerHeight=\"10\" refX=\"0\" refY=\"3\" orient=\"auto\">\n",
       "      <path d=\"M0,0 L0,6 L9,3\"/>\n",
       "    </marker>\n",
       "    <mask id=\"mask-123fd7f9-b645-4cb2-b1aa-1f0d7ad1d19d\">\n",
       "      <rect x=\"-0.62\" y=\"-3.04\" width=\"16.69\" height=\"6.08\" fill=\"white\"/>\n",
       "      <g fill=\"black\">\n",
       "        <circle cx=\"0.74\" cy=\"-0.64\" r=\"0.20\"/>\n",
       "        <circle cx=\"1.94\" cy=\"0.64\" r=\"0.20\"/>\n",
       "        <circle cx=\"4.68\" cy=\"-1.09\" r=\"0.20\"/>\n",
       "        <circle cx=\"6.15\" cy=\"-0.14\" r=\"0.20\"/>\n",
       "        <circle cx=\"3.88\" cy=\"0.14\" r=\"0.20\"/>\n",
       "        <circle cx=\"5.35\" cy=\"1.09\" r=\"0.20\"/>\n",
       "        <circle cx=\"11.76\" cy=\"1.06\" r=\"0.20\"/>\n",
       "        <circle cx=\"11.08\" cy=\"-1.06\" r=\"0.20\"/>\n",
       "        <circle cx=\"10.30\" cy=\"0.18\" r=\"0.20\"/>\n",
       "        <circle cx=\"12.54\" cy=\"-0.18\" r=\"0.20\"/>\n",
       "        <circle cx=\"13.74\" cy=\"-0.00\" r=\"0.20\"/>\n",
       "        <circle cx=\"15.19\" cy=\"-0.00\" r=\"0.20\"/>\n",
       "      </g>\n",
       "      <g font-family=\"monospace\" stroke=\"black\">\n",
       "        <g font-family=\"sans-serif\" font-size=\"0.50\" stroke-width=\"0.05\">\n",
       "         <text x=\"0.74\" y=\"-0.64\" dx=\"-0.20\" dy=\"0.20\">OH</text>\n",
       "         <text x=\"1.94\" y=\"0.64\" dx=\"-0.20\" dy=\"0.20\">O</text>\n",
       "         <text x=\"4.68\" y=\"-1.09\" dx=\"-0.20\" dy=\"0.20\">OH</text>\n",
       "         <text x=\"6.15\" y=\"-0.14\" dx=\"-0.20\" dy=\"0.20\">OH</text>\n",
       "         <text x=\"3.88\" y=\"0.14\" dx=\"-0.20\" dy=\"0.20\">O</text>\n",
       "         <text x=\"5.35\" y=\"1.09\" dx=\"-0.20\" dy=\"0.20\">O</text>\n",
       "         <text x=\"11.76\" y=\"1.06\" dx=\"-0.20\" dy=\"0.20\">O</text>\n",
       "         <text x=\"11.08\" y=\"-1.06\" dx=\"-0.20\" dy=\"0.20\">O</text>\n",
       "         <text x=\"10.30\" y=\"0.18\" dx=\"-0.20\" dy=\"0.20\">O</text>\n",
       "         <text x=\"12.54\" y=\"-0.18\" dx=\"-0.20\" dy=\"0.20\">O</text>\n",
       "         <text x=\"13.74\" y=\"-0.00\" dx=\"-0.20\" dy=\"0.20\">OH</text>\n",
       "         <text x=\"15.19\" y=\"-0.00\" dx=\"-0.20\" dy=\"0.20\">OH</text>\n",
       "        </g>\n",
       "        <g font-size=\"0.25\" stroke-width=\"0.03\">\n",
       "         <text x=\"0.74\" y=\"-0.64\" dx=\"-0.15\" dy=\"0.35\" text-anchor=\"end\">1</text>\n",
       "         <text x=\"0.00\" y=\"0.64\" dx=\"-0.05\" dy=\"0.20\" text-anchor=\"end\">3</text>\n",
       "         <text x=\"0.74\" y=\"0.21\" dx=\"-0.05\" dy=\"0.20\" text-anchor=\"end\">4</text>\n",
       "         <text x=\"1.94\" y=\"0.64\" dx=\"-0.15\" dy=\"0.35\" text-anchor=\"end\">2</text>\n",
       "         <text x=\"1.94\" y=\"-0.21\" dx=\"-0.05\" dy=\"0.20\" text-anchor=\"end\">11</text>\n",
       "         <text x=\"2.68\" y=\"-0.64\" dx=\"-0.05\" dy=\"0.20\" text-anchor=\"end\">12</text>\n",
       "         <text x=\"4.68\" y=\"-1.09\" dx=\"-0.15\" dy=\"0.35\" text-anchor=\"end\">8</text>\n",
       "         <text x=\"6.15\" y=\"-0.14\" dx=\"-0.15\" dy=\"0.35\" text-anchor=\"end\">10</text>\n",
       "         <text x=\"4.68\" y=\"-0.22\" dx=\"-0.05\" dy=\"0.20\" text-anchor=\"end\">5</text>\n",
       "         <text x=\"5.35\" y=\"0.22\" dx=\"-0.05\" dy=\"0.20\" text-anchor=\"end\">6</text>\n",
       "         <text x=\"3.88\" y=\"0.14\" dx=\"-0.15\" dy=\"0.35\" text-anchor=\"end\">7</text>\n",
       "         <text x=\"5.35\" y=\"1.09\" dx=\"-0.15\" dy=\"0.35\" text-anchor=\"end\">9</text>\n",
       "         <text x=\"11.76\" y=\"1.06\" dx=\"-0.15\" dy=\"0.35\" text-anchor=\"end\">1</text>\n",
       "         <text x=\"11.08\" y=\"-1.06\" dx=\"-0.15\" dy=\"0.35\" text-anchor=\"end\">2</text>\n",
       "         <text x=\"12.34\" y=\"2.42\" dx=\"-0.05\" dy=\"0.20\" text-anchor=\"end\">3</text>\n",
       "         <text x=\"12.41\" y=\"1.55\" dx=\"-0.05\" dy=\"0.20\" text-anchor=\"end\">4</text>\n",
       "         <text x=\"11.08\" y=\"-0.23\" dx=\"-0.05\" dy=\"0.20\" text-anchor=\"end\">5</text>\n",
       "         <text x=\"11.76\" y=\"0.23\" dx=\"-0.05\" dy=\"0.20\" text-anchor=\"end\">6</text>\n",
       "         <text x=\"10.30\" y=\"0.18\" dx=\"-0.15\" dy=\"0.35\" text-anchor=\"end\">7</text>\n",
       "         <text x=\"12.54\" y=\"-0.18\" dx=\"-0.15\" dy=\"0.35\" text-anchor=\"end\">9</text>\n",
       "         <text x=\"10.42\" y=\"-1.55\" dx=\"-0.05\" dy=\"0.20\" text-anchor=\"end\">11</text>\n",
       "         <text x=\"10.49\" y=\"-2.42\" dx=\"-0.05\" dy=\"0.20\" text-anchor=\"end\">12</text>\n",
       "         <text x=\"13.74\" y=\"-0.00\" dx=\"-0.15\" dy=\"0.35\" text-anchor=\"end\">8</text>\n",
       "         <text x=\"15.19\" y=\"-0.00\" dx=\"-0.15\" dy=\"0.35\" text-anchor=\"end\">10</text>\n",
       "        </g>\n",
       "        <g font-family=\"monospace\" font-size=\"0.3\" stroke-width=\"0.03\">\n",
       "         <text x=\"1.94\" y=\"0.64\" dx=\"0.05\" dy=\"-0.20\">-</text>\n",
       "        </g>\n",
       "        <g font-family=\"sans-serif\" font-size=\"0.50\" stroke-width=\"0.03\">\n",
       "         <text x=\"13.74\" y=\"-0.00\" dx=\"-0.20\" dy=\"0.20\">OH<tspan  dy=\"0.15\" font-size=\"0.35\">2</tspan></text>\n",
       "         <text x=\"15.19\" y=\"-0.00\" dx=\"-0.20\" dy=\"0.20\">OH<tspan  dy=\"0.15\" font-size=\"0.35\">2</tspan></text>\n",
       "        </g>\n",
       "      </g>\n",
       "    </mask>\n",
       "  </defs>\n",
       "  <line x1=\"7.30\" y1=\"0\" x2=\"9.30\" y2=\"0\" fill=\"none\" stroke=\"black\" stroke-width=\".04\" marker-end=\"url(#arrow)\"/>\n",
       "  <g fill=\"none\" stroke=\"black\" stroke-width=\"0.04\" mask=\"url(#mask-123fd7f9-b645-4cb2-b1aa-1f0d7ad1d19d)\">\n",
       "    <line x1=\"-0.62\" y1=\"-3.04\" x2=\"16.06\" y2=\"-3.04\" stroke=\"none\"/>\n",
       "    <line x1=\"0.74\" y1=\"-0.64\" x2=\"0.74\" y2=\"0.21\"/>\n",
       "    <line x1=\"0.00\" y1=\"0.64\" x2=\"0.74\" y2=\"0.21\"/>\n",
       "    <line x1=\"1.94\" y1=\"0.64\" x2=\"1.94\" y2=\"-0.21\"/>\n",
       "    <line x1=\"1.94\" y1=\"-0.21\" x2=\"2.68\" y2=\"-0.64\"/>\n",
       "    <line x1=\"4.68\" y1=\"-1.09\" x2=\"4.68\" y2=\"-0.22\"/>\n",
       "    <line x1=\"6.15\" y1=\"-0.14\" x2=\"5.35\" y2=\"0.22\"/>\n",
       "    <line x1=\"4.68\" y1=\"-0.22\" x2=\"5.35\" y2=\"0.22\"/>\n",
       "    <line x1=\"4.70\" y1=\"-0.16\" x2=\"3.91\" y2=\"0.20\"/>\n",
       "    <line x1=\"4.65\" y1=\"-0.27\" x2=\"3.86\" y2=\"0.09\"/>\n",
       "    <line x1=\"5.41\" y1=\"0.22\" x2=\"5.41\" y2=\"1.09\"/>\n",
       "    <line x1=\"5.29\" y1=\"0.22\" x2=\"5.29\" y2=\"1.09\"/>\n",
       "    <line x1=\"11.76\" y1=\"1.06\" x2=\"12.41\" y2=\"1.55\"/>\n",
       "    <line x1=\"11.76\" y1=\"1.06\" x2=\"11.76\" y2=\"0.23\"/>\n",
       "    <line x1=\"11.08\" y1=\"-1.06\" x2=\"10.42\" y2=\"-1.55\"/>\n",
       "    <line x1=\"11.08\" y1=\"-1.06\" x2=\"11.08\" y2=\"-0.23\"/>\n",
       "    <line x1=\"12.34\" y1=\"2.42\" x2=\"12.41\" y2=\"1.55\"/>\n",
       "    <line x1=\"11.08\" y1=\"-0.23\" x2=\"11.76\" y2=\"0.23\"/>\n",
       "    <line x1=\"11.10\" y1=\"-0.18\" x2=\"10.32\" y2=\"0.23\"/>\n",
       "    <line x1=\"11.05\" y1=\"-0.29\" x2=\"10.27\" y2=\"0.12\"/>\n",
       "    <line x1=\"11.73\" y1=\"0.18\" x2=\"12.51\" y2=\"-0.23\"/>\n",
       "    <line x1=\"11.78\" y1=\"0.29\" x2=\"12.56\" y2=\"-0.12\"/>\n",
       "    <line x1=\"10.42\" y1=\"-1.55\" x2=\"10.49\" y2=\"-2.42\"/>\n",
       "  </g>\n",
       "  <g fill=\"none\" stroke=\"black\" stroke-width=\".04\" >\n",
       "    <line x1=\"1.29\" y1=\"0\" x2=\"1.59\" y2=\"0\"/>\n",
       "    <line x1=\"1.44\" y1=\"0.15\" x2=\"1.44\" y2=\"-0.15\"/>\n",
       "    <line x1=\"3.23\" y1=\"0\" x2=\"3.53\" y2=\"0\"/>\n",
       "    <line x1=\"3.38\" y1=\"0.15\" x2=\"3.38\" y2=\"-0.15\"/>\n",
       "    <line x1=\"13.09\" y1=\"0\" x2=\"13.39\" y2=\"0\"/>\n",
       "    <line x1=\"13.24\" y1=\"0.15\" x2=\"13.24\" y2=\"-0.15\"/>\n",
       "    <line x1=\"14.54\" y1=\"0\" x2=\"14.84\" y2=\"0\"/>\n",
       "    <line x1=\"14.69\" y1=\"0.15\" x2=\"14.69\" y2=\"-0.15\"/>\n",
       "  </g>\n",
       "  <g font-family=\"monospace\">\n",
       "    <g fill=\"#FF0D0D\" font-family=\"sans-serif\">\n",
       "      <text x=\"0.74\" y=\"-0.64\" dx=\"-0.20\" dy=\"0.20\" font-size=\"0.50\">OH</text>\n",
       "    </g>\n",
       "    <g fill=\"#0305A7\" font-size=\"0.25\">\n",
       "      <text x=\"0.74\" y=\"-0.64\" dx=\"-0.15\" dy=\"0.35\" text-anchor=\"end\">1</text>\n",
       "      <text x=\"0.00\" y=\"0.64\" dx=\"-0.05\" dy=\"0.20\" text-anchor=\"end\">3</text>\n",
       "      <text x=\"0.74\" y=\"0.21\" dx=\"-0.05\" dy=\"0.20\" text-anchor=\"end\">4</text>\n",
       "    </g>\n",
       "    <g fill=\"#FF0D0D\" font-family=\"sans-serif\">\n",
       "      <text x=\"1.94\" y=\"0.64\" dx=\"-0.20\" dy=\"0.20\" font-size=\"0.50\">O</text>\n",
       "    </g>\n",
       "    <g font-family=\"monospace\" fill=\"black\" font-size=\"0.30\">\n",
       "      <text x=\"1.94\" y=\"0.64\" dx=\"0.05\" dy=\"-0.20\">-</text>\n",
       "    </g>\n",
       "    <g fill=\"#0305A7\" font-size=\"0.25\">\n",
       "      <text x=\"1.94\" y=\"0.64\" dx=\"-0.15\" dy=\"0.35\" text-anchor=\"end\">2</text>\n",
       "      <text x=\"1.94\" y=\"-0.21\" dx=\"-0.05\" dy=\"0.20\" text-anchor=\"end\">11</text>\n",
       "      <text x=\"2.68\" y=\"-0.64\" dx=\"-0.05\" dy=\"0.20\" text-anchor=\"end\">12</text>\n",
       "    </g>\n",
       "    <g fill=\"#FF0D0D\" font-family=\"sans-serif\">\n",
       "      <text x=\"4.68\" y=\"-1.09\" dx=\"-0.20\" dy=\"0.20\" font-size=\"0.50\">OH</text>\n",
       "    </g>\n",
       "    <g fill=\"#FF0D0D\" font-family=\"sans-serif\">\n",
       "      <text x=\"6.15\" y=\"-0.14\" dx=\"-0.20\" dy=\"0.20\" font-size=\"0.50\">OH</text>\n",
       "    </g>\n",
       "    <g fill=\"#FF0D0D\" font-family=\"sans-serif\">\n",
       "      <text x=\"3.88\" y=\"0.14\" dx=\"-0.20\" dy=\"0.20\" font-size=\"0.50\">O</text>\n",
       "    </g>\n",
       "    <g fill=\"#FF0D0D\" font-family=\"sans-serif\">\n",
       "      <text x=\"5.35\" y=\"1.09\" dx=\"-0.20\" dy=\"0.20\" font-size=\"0.50\">O</text>\n",
       "    </g>\n",
       "    <g fill=\"#0305A7\" font-size=\"0.25\">\n",
       "      <text x=\"4.68\" y=\"-1.09\" dx=\"-0.15\" dy=\"0.35\" text-anchor=\"end\">8</text>\n",
       "      <text x=\"6.15\" y=\"-0.14\" dx=\"-0.15\" dy=\"0.35\" text-anchor=\"end\">10</text>\n",
       "      <text x=\"4.68\" y=\"-0.22\" dx=\"-0.05\" dy=\"0.20\" text-anchor=\"end\">5</text>\n",
       "      <text x=\"5.35\" y=\"0.22\" dx=\"-0.05\" dy=\"0.20\" text-anchor=\"end\">6</text>\n",
       "      <text x=\"3.88\" y=\"0.14\" dx=\"-0.15\" dy=\"0.35\" text-anchor=\"end\">7</text>\n",
       "      <text x=\"5.35\" y=\"1.09\" dx=\"-0.15\" dy=\"0.35\" text-anchor=\"end\">9</text>\n",
       "    </g>\n",
       "    <g fill=\"#FF0D0D\" font-family=\"sans-serif\">\n",
       "      <text x=\"11.76\" y=\"1.06\" dx=\"-0.20\" dy=\"0.20\" font-size=\"0.50\">O</text>\n",
       "    </g>\n",
       "    <g fill=\"#FF0D0D\" font-family=\"sans-serif\">\n",
       "      <text x=\"11.08\" y=\"-1.06\" dx=\"-0.20\" dy=\"0.20\" font-size=\"0.50\">O</text>\n",
       "    </g>\n",
       "    <g fill=\"#FF0D0D\" font-family=\"sans-serif\">\n",
       "      <text x=\"10.30\" y=\"0.18\" dx=\"-0.20\" dy=\"0.20\" font-size=\"0.50\">O</text>\n",
       "    </g>\n",
       "    <g fill=\"#FF0D0D\" font-family=\"sans-serif\">\n",
       "      <text x=\"12.54\" y=\"-0.18\" dx=\"-0.20\" dy=\"0.20\" font-size=\"0.50\">O</text>\n",
       "    </g>\n",
       "    <g fill=\"#0305A7\" font-size=\"0.25\">\n",
       "      <text x=\"11.76\" y=\"1.06\" dx=\"-0.15\" dy=\"0.35\" text-anchor=\"end\">1</text>\n",
       "      <text x=\"11.08\" y=\"-1.06\" dx=\"-0.15\" dy=\"0.35\" text-anchor=\"end\">2</text>\n",
       "      <text x=\"12.34\" y=\"2.42\" dx=\"-0.05\" dy=\"0.20\" text-anchor=\"end\">3</text>\n",
       "      <text x=\"12.41\" y=\"1.55\" dx=\"-0.05\" dy=\"0.20\" text-anchor=\"end\">4</text>\n",
       "      <text x=\"11.08\" y=\"-0.23\" dx=\"-0.05\" dy=\"0.20\" text-anchor=\"end\">5</text>\n",
       "      <text x=\"11.76\" y=\"0.23\" dx=\"-0.05\" dy=\"0.20\" text-anchor=\"end\">6</text>\n",
       "      <text x=\"10.30\" y=\"0.18\" dx=\"-0.15\" dy=\"0.35\" text-anchor=\"end\">7</text>\n",
       "      <text x=\"12.54\" y=\"-0.18\" dx=\"-0.15\" dy=\"0.35\" text-anchor=\"end\">9</text>\n",
       "      <text x=\"10.42\" y=\"-1.55\" dx=\"-0.05\" dy=\"0.20\" text-anchor=\"end\">11</text>\n",
       "      <text x=\"10.49\" y=\"-2.42\" dx=\"-0.05\" dy=\"0.20\" text-anchor=\"end\">12</text>\n",
       "    </g>\n",
       "    <g fill=\"#FF0D0D\" font-family=\"sans-serif\">\n",
       "      <text x=\"13.74\" y=\"-0.00\" dx=\"-0.20\" dy=\"0.20\" font-size=\"0.50\">OH<tspan  dy=\"0.15\" font-size=\"0.35\">2</tspan></text>\n",
       "    </g>\n",
       "    <g fill=\"#0305A7\" font-size=\"0.25\">\n",
       "      <text x=\"13.74\" y=\"-0.00\" dx=\"-0.15\" dy=\"0.35\" text-anchor=\"end\">8</text>\n",
       "    </g>\n",
       "    <g fill=\"#FF0D0D\" font-family=\"sans-serif\">\n",
       "      <text x=\"15.19\" y=\"-0.00\" dx=\"-0.20\" dy=\"0.20\" font-size=\"0.50\">OH<tspan  dy=\"0.15\" font-size=\"0.35\">2</tspan></text>\n",
       "    </g>\n",
       "    <g fill=\"#0305A7\" font-size=\"0.25\">\n",
       "      <text x=\"15.19\" y=\"-0.00\" dx=\"-0.15\" dy=\"0.35\" text-anchor=\"end\">10</text>\n",
       "    </g>\n",
       "  </g>\n",
       "</svg>"
      ],
      "text/plain": [
       "<CGRtools.containers.reaction.ReactionContainer at 0x7f6ad7dbadc0>"
      ]
     },
     "execution_count": 75,
     "metadata": {},
     "output_type": "execute_result"
    }
   ],
   "source": [
    "decomposed = ReactionContainer.from_cgr(cgr2)\n",
    "decomposed.clean2d()\n",
    "decomposed"
   ]
  },
  {
   "cell_type": "markdown",
   "metadata": {},
   "source": [
    "You can see that water absent in products initially was restored. \n",
    "This is a side-effect of CGR decomposing that could help with reaction balancing. \n",
    "But balancing using CGR decomposition works correctly only if minor part atoms are lost \n",
    "but multiplicity and formal charge are saved. In next release electronic state balansing will be added."
   ]
  },
  {
   "cell_type": "code",
   "execution_count": 76,
   "metadata": {},
   "outputs": [
    {
     "data": {
      "image/svg+xml": [
       "<svg width=\"17.82cm\" height=\"3.39cm\" viewBox=\"-0.62 -1.70 17.82 3.39\" xmlns=\"http://www.w3.org/2000/svg\" version=\"1.1\">\n",
       "  <defs>\n",
       "    <marker id=\"arrow\" markerWidth=\"10\" markerHeight=\"10\" refX=\"0\" refY=\"3\" orient=\"auto\">\n",
       "      <path d=\"M0,0 L0,6 L9,3\"/>\n",
       "    </marker>\n",
       "    <mask id=\"mask-b9b14442-0abe-419a-98a4-84d2b04c1141\">\n",
       "      <rect x=\"-0.62\" y=\"-1.70\" width=\"17.82\" height=\"3.39\" fill=\"white\"/>\n",
       "      <g fill=\"black\">\n",
       "        <circle cx=\"1.43\" cy=\"-0.21\" r=\"0.20\"/>\n",
       "        <circle cx=\"3.45\" cy=\"-1.07\" r=\"0.20\"/>\n",
       "        <circle cx=\"4.69\" cy=\"-0.36\" r=\"0.20\"/>\n",
       "        <circle cx=\"3.87\" cy=\"1.07\" r=\"0.20\"/>\n",
       "        <circle cx=\"2.63\" cy=\"0.36\" r=\"0.20\"/>\n",
       "        <circle cx=\"7.32\" cy=\"-0.21\" r=\"0.20\"/>\n",
       "        <circle cx=\"14.89\" cy=\"-0.21\" r=\"0.20\"/>\n",
       "        <circle cx=\"12.75\" cy=\"0.21\" r=\"0.20\"/>\n",
       "        <circle cx=\"13.46\" cy=\"-1.03\" r=\"0.20\"/>\n",
       "        <circle cx=\"14.18\" cy=\"1.03\" r=\"0.20\"/>\n",
       "      </g>\n",
       "      <g font-family=\"monospace\" stroke=\"black\">\n",
       "        <g font-family=\"sans-serif\" font-size=\"0.50\" stroke-width=\"0.05\">\n",
       "         <text x=\"1.43\" y=\"-0.21\" dx=\"-0.20\" dy=\"0.20\">OH</text>\n",
       "         <text x=\"3.45\" y=\"-1.07\" dx=\"-0.20\" dy=\"0.20\">O</text>\n",
       "         <text x=\"4.69\" y=\"-0.36\" dx=\"-0.20\" dy=\"0.20\">OH</text>\n",
       "         <text x=\"3.87\" y=\"1.07\" dx=\"-0.20\" dy=\"0.20\">O</text>\n",
       "         <text x=\"2.63\" y=\"0.36\" dx=\"-0.20\" dy=\"0.20\">OH</text>\n",
       "         <text x=\"7.32\" y=\"-0.21\" dx=\"-0.20\" dy=\"0.20\">O</text>\n",
       "         <text x=\"14.89\" y=\"-0.21\" dx=\"-0.20\" dy=\"0.20\">O</text>\n",
       "         <text x=\"12.75\" y=\"0.21\" dx=\"-0.20\" dy=\"0.20\">O</text>\n",
       "         <text x=\"13.46\" y=\"-1.03\" dx=\"-0.20\" dy=\"0.20\">O</text>\n",
       "         <text x=\"14.18\" y=\"1.03\" dx=\"-0.20\" dy=\"0.20\">O</text>\n",
       "        </g>\n",
       "        <g font-size=\"0.25\" stroke-width=\"0.03\">\n",
       "         <text x=\"0.00\" y=\"-0.21\" dx=\"-0.05\" dy=\"0.20\" text-anchor=\"end\">3</text>\n",
       "         <text x=\"0.71\" y=\"0.21\" dx=\"-0.05\" dy=\"0.20\" text-anchor=\"end\">4</text>\n",
       "         <text x=\"1.43\" y=\"-0.21\" dx=\"-0.15\" dy=\"0.35\" text-anchor=\"end\">1</text>\n",
       "         <text x=\"3.87\" y=\"-0.36\" dx=\"-0.05\" dy=\"0.20\" text-anchor=\"end\">5</text>\n",
       "         <text x=\"3.45\" y=\"0.36\" dx=\"-0.05\" dy=\"0.20\" text-anchor=\"end\">6</text>\n",
       "         <text x=\"3.45\" y=\"-1.07\" dx=\"-0.15\" dy=\"0.35\" text-anchor=\"end\">7</text>\n",
       "         <text x=\"4.69\" y=\"-0.36\" dx=\"-0.15\" dy=\"0.35\" text-anchor=\"end\">8</text>\n",
       "         <text x=\"3.87\" y=\"1.07\" dx=\"-0.15\" dy=\"0.35\" text-anchor=\"end\">9</text>\n",
       "         <text x=\"2.63\" y=\"0.36\" dx=\"-0.15\" dy=\"0.35\" text-anchor=\"end\">10</text>\n",
       "         <text x=\"6.61\" y=\"0.21\" dx=\"-0.05\" dy=\"0.20\" text-anchor=\"end\">11</text>\n",
       "         <text x=\"5.89\" y=\"-0.21\" dx=\"-0.05\" dy=\"0.20\" text-anchor=\"end\">12</text>\n",
       "         <text x=\"7.32\" y=\"-0.21\" dx=\"-0.15\" dy=\"0.35\" text-anchor=\"end\">2</text>\n",
       "         <text x=\"14.18\" y=\"0.21\" dx=\"-0.05\" dy=\"0.20\" text-anchor=\"end\">5</text>\n",
       "         <text x=\"13.46\" y=\"-0.21\" dx=\"-0.05\" dy=\"0.20\" text-anchor=\"end\">6</text>\n",
       "         <text x=\"14.89\" y=\"-0.21\" dx=\"-0.15\" dy=\"0.35\" text-anchor=\"end\">2</text>\n",
       "         <text x=\"12.75\" y=\"0.21\" dx=\"-0.15\" dy=\"0.35\" text-anchor=\"end\">1</text>\n",
       "         <text x=\"13.46\" y=\"-1.03\" dx=\"-0.15\" dy=\"0.35\" text-anchor=\"end\">9</text>\n",
       "         <text x=\"14.18\" y=\"1.03\" dx=\"-0.15\" dy=\"0.35\" text-anchor=\"end\">7</text>\n",
       "         <text x=\"15.61\" y=\"0.21\" dx=\"-0.05\" dy=\"0.20\" text-anchor=\"end\">11</text>\n",
       "         <text x=\"16.32\" y=\"-0.21\" dx=\"-0.05\" dy=\"0.20\" text-anchor=\"end\">12</text>\n",
       "         <text x=\"12.03\" y=\"-0.21\" dx=\"-0.05\" dy=\"0.20\" text-anchor=\"end\">4</text>\n",
       "         <text x=\"11.32\" y=\"0.21\" dx=\"-0.05\" dy=\"0.20\" text-anchor=\"end\">3</text>\n",
       "        </g>\n",
       "        <g font-family=\"monospace\" font-size=\"0.3\" stroke-width=\"0.03\">\n",
       "         <text x=\"7.32\" y=\"-0.21\" dx=\"0.05\" dy=\"-0.20\">-</text>\n",
       "        </g>\n",
       "      </g>\n",
       "    </mask>\n",
       "  </defs>\n",
       "  <line x1=\"8.32\" y1=\"0\" x2=\"10.32\" y2=\"0\" fill=\"none\" stroke=\"black\" stroke-width=\".04\" marker-end=\"url(#arrow)\"/>\n",
       "  <g fill=\"none\" stroke=\"black\" stroke-width=\"0.04\" mask=\"url(#mask-b9b14442-0abe-419a-98a4-84d2b04c1141)\">\n",
       "    <line x1=\"-0.62\" y1=\"-1.70\" x2=\"17.20\" y2=\"-1.70\" stroke=\"none\"/>\n",
       "    <line x1=\"0.00\" y1=\"-0.21\" x2=\"0.71\" y2=\"0.21\"/>\n",
       "    <line x1=\"0.71\" y1=\"0.21\" x2=\"1.43\" y2=\"-0.21\"/>\n",
       "    <line x1=\"3.87\" y1=\"-0.36\" x2=\"3.45\" y2=\"0.36\"/>\n",
       "    <line x1=\"3.81\" y1=\"-0.33\" x2=\"3.40\" y2=\"-1.04\"/>\n",
       "    <line x1=\"3.92\" y1=\"-0.39\" x2=\"3.51\" y2=\"-1.10\"/>\n",
       "    <line x1=\"3.87\" y1=\"-0.36\" x2=\"4.69\" y2=\"-0.36\"/>\n",
       "    <line x1=\"3.51\" y1=\"0.33\" x2=\"3.92\" y2=\"1.04\"/>\n",
       "    <line x1=\"3.40\" y1=\"0.39\" x2=\"3.81\" y2=\"1.10\"/>\n",
       "    <line x1=\"3.45\" y1=\"0.36\" x2=\"2.63\" y2=\"0.36\"/>\n",
       "    <line x1=\"6.61\" y1=\"0.21\" x2=\"5.89\" y2=\"-0.21\"/>\n",
       "    <line x1=\"6.61\" y1=\"0.21\" x2=\"7.32\" y2=\"-0.21\"/>\n",
       "    <line x1=\"14.18\" y1=\"0.21\" x2=\"13.46\" y2=\"-0.21\"/>\n",
       "    <line x1=\"14.18\" y1=\"0.21\" x2=\"14.89\" y2=\"-0.21\"/>\n",
       "    <line x1=\"14.24\" y1=\"0.21\" x2=\"14.24\" y2=\"1.03\"/>\n",
       "    <line x1=\"14.12\" y1=\"0.21\" x2=\"14.12\" y2=\"1.03\"/>\n",
       "    <line x1=\"13.46\" y1=\"-0.21\" x2=\"12.75\" y2=\"0.21\"/>\n",
       "    <line x1=\"13.40\" y1=\"-0.21\" x2=\"13.40\" y2=\"-1.03\"/>\n",
       "    <line x1=\"13.52\" y1=\"-0.21\" x2=\"13.52\" y2=\"-1.03\"/>\n",
       "    <line x1=\"14.89\" y1=\"-0.21\" x2=\"15.61\" y2=\"0.21\"/>\n",
       "    <line x1=\"12.75\" y1=\"0.21\" x2=\"12.03\" y2=\"-0.21\"/>\n",
       "    <line x1=\"15.61\" y1=\"0.21\" x2=\"16.32\" y2=\"-0.21\"/>\n",
       "    <line x1=\"12.03\" y1=\"-0.21\" x2=\"11.32\" y2=\"0.21\"/>\n",
       "  </g>\n",
       "  <g fill=\"none\" stroke=\"black\" stroke-width=\".04\" >\n",
       "    <line x1=\"1.98\" y1=\"0\" x2=\"2.28\" y2=\"0\"/>\n",
       "    <line x1=\"2.13\" y1=\"0.15\" x2=\"2.13\" y2=\"-0.15\"/>\n",
       "    <line x1=\"5.24\" y1=\"0\" x2=\"5.54\" y2=\"0\"/>\n",
       "    <line x1=\"5.39\" y1=\"0.15\" x2=\"5.39\" y2=\"-0.15\"/>\n",
       "  </g>\n",
       "  <g font-family=\"monospace\">\n",
       "    <g fill=\"#FF0D0D\" font-family=\"sans-serif\">\n",
       "      <text x=\"1.43\" y=\"-0.21\" dx=\"-0.20\" dy=\"0.20\" font-size=\"0.50\">OH</text>\n",
       "    </g>\n",
       "    <g fill=\"#0305A7\" font-size=\"0.25\">\n",
       "      <text x=\"0.00\" y=\"-0.21\" dx=\"-0.05\" dy=\"0.20\" text-anchor=\"end\">3</text>\n",
       "      <text x=\"0.71\" y=\"0.21\" dx=\"-0.05\" dy=\"0.20\" text-anchor=\"end\">4</text>\n",
       "      <text x=\"1.43\" y=\"-0.21\" dx=\"-0.15\" dy=\"0.35\" text-anchor=\"end\">1</text>\n",
       "    </g>\n",
       "    <g fill=\"#FF0D0D\" font-family=\"sans-serif\">\n",
       "      <text x=\"3.45\" y=\"-1.07\" dx=\"-0.20\" dy=\"0.20\" font-size=\"0.50\">O</text>\n",
       "    </g>\n",
       "    <g fill=\"#FF0D0D\" font-family=\"sans-serif\">\n",
       "      <text x=\"4.69\" y=\"-0.36\" dx=\"-0.20\" dy=\"0.20\" font-size=\"0.50\">OH</text>\n",
       "    </g>\n",
       "    <g fill=\"#FF0D0D\" font-family=\"sans-serif\">\n",
       "      <text x=\"3.87\" y=\"1.07\" dx=\"-0.20\" dy=\"0.20\" font-size=\"0.50\">O</text>\n",
       "    </g>\n",
       "    <g fill=\"#FF0D0D\" font-family=\"sans-serif\">\n",
       "      <text x=\"2.63\" y=\"0.36\" dx=\"-0.20\" dy=\"0.20\" font-size=\"0.50\">OH</text>\n",
       "    </g>\n",
       "    <g fill=\"#0305A7\" font-size=\"0.25\">\n",
       "      <text x=\"3.87\" y=\"-0.36\" dx=\"-0.05\" dy=\"0.20\" text-anchor=\"end\">5</text>\n",
       "      <text x=\"3.45\" y=\"0.36\" dx=\"-0.05\" dy=\"0.20\" text-anchor=\"end\">6</text>\n",
       "      <text x=\"3.45\" y=\"-1.07\" dx=\"-0.15\" dy=\"0.35\" text-anchor=\"end\">7</text>\n",
       "      <text x=\"4.69\" y=\"-0.36\" dx=\"-0.15\" dy=\"0.35\" text-anchor=\"end\">8</text>\n",
       "      <text x=\"3.87\" y=\"1.07\" dx=\"-0.15\" dy=\"0.35\" text-anchor=\"end\">9</text>\n",
       "      <text x=\"2.63\" y=\"0.36\" dx=\"-0.15\" dy=\"0.35\" text-anchor=\"end\">10</text>\n",
       "    </g>\n",
       "    <g fill=\"#FF0D0D\" font-family=\"sans-serif\">\n",
       "      <text x=\"7.32\" y=\"-0.21\" dx=\"-0.20\" dy=\"0.20\" font-size=\"0.50\">O</text>\n",
       "    </g>\n",
       "    <g font-family=\"monospace\" fill=\"black\" font-size=\"0.30\">\n",
       "      <text x=\"7.32\" y=\"-0.21\" dx=\"0.05\" dy=\"-0.20\">-</text>\n",
       "    </g>\n",
       "    <g fill=\"#0305A7\" font-size=\"0.25\">\n",
       "      <text x=\"6.61\" y=\"0.21\" dx=\"-0.05\" dy=\"0.20\" text-anchor=\"end\">11</text>\n",
       "      <text x=\"5.89\" y=\"-0.21\" dx=\"-0.05\" dy=\"0.20\" text-anchor=\"end\">12</text>\n",
       "      <text x=\"7.32\" y=\"-0.21\" dx=\"-0.15\" dy=\"0.35\" text-anchor=\"end\">2</text>\n",
       "    </g>\n",
       "    <g fill=\"#FF0D0D\" font-family=\"sans-serif\">\n",
       "      <text x=\"14.89\" y=\"-0.21\" dx=\"-0.20\" dy=\"0.20\" font-size=\"0.50\">O</text>\n",
       "    </g>\n",
       "    <g fill=\"#FF0D0D\" font-family=\"sans-serif\">\n",
       "      <text x=\"12.75\" y=\"0.21\" dx=\"-0.20\" dy=\"0.20\" font-size=\"0.50\">O</text>\n",
       "    </g>\n",
       "    <g fill=\"#FF0D0D\" font-family=\"sans-serif\">\n",
       "      <text x=\"13.46\" y=\"-1.03\" dx=\"-0.20\" dy=\"0.20\" font-size=\"0.50\">O</text>\n",
       "    </g>\n",
       "    <g fill=\"#FF0D0D\" font-family=\"sans-serif\">\n",
       "      <text x=\"14.18\" y=\"1.03\" dx=\"-0.20\" dy=\"0.20\" font-size=\"0.50\">O</text>\n",
       "    </g>\n",
       "    <g fill=\"#0305A7\" font-size=\"0.25\">\n",
       "      <text x=\"14.18\" y=\"0.21\" dx=\"-0.05\" dy=\"0.20\" text-anchor=\"end\">5</text>\n",
       "      <text x=\"13.46\" y=\"-0.21\" dx=\"-0.05\" dy=\"0.20\" text-anchor=\"end\">6</text>\n",
       "      <text x=\"14.89\" y=\"-0.21\" dx=\"-0.15\" dy=\"0.35\" text-anchor=\"end\">2</text>\n",
       "      <text x=\"12.75\" y=\"0.21\" dx=\"-0.15\" dy=\"0.35\" text-anchor=\"end\">1</text>\n",
       "      <text x=\"13.46\" y=\"-1.03\" dx=\"-0.15\" dy=\"0.35\" text-anchor=\"end\">9</text>\n",
       "      <text x=\"14.18\" y=\"1.03\" dx=\"-0.15\" dy=\"0.35\" text-anchor=\"end\">7</text>\n",
       "      <text x=\"15.61\" y=\"0.21\" dx=\"-0.05\" dy=\"0.20\" text-anchor=\"end\">11</text>\n",
       "      <text x=\"16.32\" y=\"-0.21\" dx=\"-0.05\" dy=\"0.20\" text-anchor=\"end\">12</text>\n",
       "      <text x=\"12.03\" y=\"-0.21\" dx=\"-0.05\" dy=\"0.20\" text-anchor=\"end\">4</text>\n",
       "      <text x=\"11.32\" y=\"0.21\" dx=\"-0.05\" dy=\"0.20\" text-anchor=\"end\">3</text>\n",
       "    </g>\n",
       "  </g>\n",
       "</svg>"
      ],
      "text/plain": [
       "<CGRtools.containers.reaction.ReactionContainer at 0x7f6ad7e76a60>"
      ]
     },
     "execution_count": 76,
     "metadata": {},
     "output_type": "execute_result"
    }
   ],
   "source": [
    "r1 # compare with initial reaction"
   ]
  },
  {
   "cell_type": "markdown",
   "metadata": {},
   "source": [
    "## 1.4 Queries\n",
    "\n",
    "CGRtools supports special objects for Queries. Queries are designed for substructure isomorphism. User can set number of neighbors and hybridization by himself (in molecules they could be calculated but could not be changed).\n",
    "\n",
    "Queries don't have `reset_query_marks` method"
   ]
  },
  {
   "cell_type": "code",
   "execution_count": 77,
   "metadata": {},
   "outputs": [],
   "source": [
    "from CGRtools.containers import*"
   ]
  },
  {
   "cell_type": "code",
   "execution_count": 78,
   "metadata": {},
   "outputs": [
    {
     "data": {
      "image/svg+xml": [
       "<svg width=\"6.50cm\" height=\"3.31cm\" viewBox=\"10.30 -2.69 6.50 3.31\" xmlns=\"http://www.w3.org/2000/svg\" version=\"1.1\">\n",
       "  <defs>\n",
       "    <mask id=\"mask-f09b1fe0-0f0c-4bf8-bd0d-5d9a3aee7bc5\">\n",
       "      <rect x=\"10.30\" y=\"-2.69\" width=\"6.50\" height=\"3.31\" fill=\"white\"/>\n",
       "      <g fill=\"black\">\n",
       "        <circle cx=\"14.49\" cy=\"-1.24\" r=\"0.20\"/>\n",
       "        <circle cx=\"12.35\" cy=\"-0.83\" r=\"0.20\"/>\n",
       "        <circle cx=\"13.06\" cy=\"-2.06\" r=\"0.20\"/>\n",
       "        <circle cx=\"13.78\" cy=\"-0.00\" r=\"0.20\"/>\n",
       "      </g>\n",
       "      <g font-family=\"monospace\" stroke=\"black\">\n",
       "        <g font-family=\"sans-serif\" font-size=\"0.50\" stroke-width=\"0.05\">\n",
       "         <text x=\"14.49\" y=\"-1.24\" dx=\"-0.20\" dy=\"0.20\">O</text>\n",
       "         <text x=\"12.35\" y=\"-0.83\" dx=\"-0.20\" dy=\"0.20\">O</text>\n",
       "         <text x=\"13.06\" y=\"-2.06\" dx=\"-0.20\" dy=\"0.20\">O</text>\n",
       "         <text x=\"13.78\" y=\"-0.00\" dx=\"-0.20\" dy=\"0.20\">O</text>\n",
       "        </g>\n",
       "        <g font-size=\"0.25\" stroke-width=\"0.03\">\n",
       "         <text x=\"13.78\" y=\"-0.83\" dx=\"-0.05\" dy=\"0.20\" text-anchor=\"end\">5</text>\n",
       "         <text x=\"13.06\" y=\"-1.24\" dx=\"-0.05\" dy=\"0.20\" text-anchor=\"end\">6</text>\n",
       "         <text x=\"14.49\" y=\"-1.24\" dx=\"-0.15\" dy=\"0.35\" text-anchor=\"end\">2</text>\n",
       "         <text x=\"12.35\" y=\"-0.83\" dx=\"-0.15\" dy=\"0.35\" text-anchor=\"end\">1</text>\n",
       "         <text x=\"13.06\" y=\"-2.06\" dx=\"-0.15\" dy=\"0.35\" text-anchor=\"end\">9</text>\n",
       "         <text x=\"13.78\" y=\"-0.00\" dx=\"-0.15\" dy=\"0.35\" text-anchor=\"end\">7</text>\n",
       "         <text x=\"15.21\" y=\"-0.83\" dx=\"-0.05\" dy=\"0.20\" text-anchor=\"end\">11</text>\n",
       "         <text x=\"15.92\" y=\"-1.24\" dx=\"-0.05\" dy=\"0.20\" text-anchor=\"end\">12</text>\n",
       "         <text x=\"11.63\" y=\"-1.24\" dx=\"-0.05\" dy=\"0.20\" text-anchor=\"end\">4</text>\n",
       "         <text x=\"10.92\" y=\"-0.83\" dx=\"-0.05\" dy=\"0.20\" text-anchor=\"end\">3</text>\n",
       "        </g>\n",
       "      </g>\n",
       "    </mask>\n",
       "  </defs>\n",
       "  <g fill=\"none\" stroke=\"black\" stroke-width=\"0.04\"  mask=\"url(#mask-f09b1fe0-0f0c-4bf8-bd0d-5d9a3aee7bc5)\">\n",
       "    <line x1=\"13.78\" y1=\"-0.83\" x2=\"13.06\" y2=\"-1.24\"/>\n",
       "    <line x1=\"13.78\" y1=\"-0.83\" x2=\"14.49\" y2=\"-1.24\"/>\n",
       "    <line x1=\"13.84\" y1=\"-0.83\" x2=\"13.84\" y2=\"-0.00\"/>\n",
       "    <line x1=\"13.72\" y1=\"-0.83\" x2=\"13.72\" y2=\"0.00\"/>\n",
       "    <line x1=\"13.06\" y1=\"-1.24\" x2=\"12.35\" y2=\"-0.83\"/>\n",
       "    <line x1=\"13.00\" y1=\"-1.24\" x2=\"13.00\" y2=\"-2.06\"/>\n",
       "    <line x1=\"13.12\" y1=\"-1.24\" x2=\"13.12\" y2=\"-2.06\"/>\n",
       "    <line x1=\"14.49\" y1=\"-1.24\" x2=\"15.21\" y2=\"-0.83\"/>\n",
       "    <line x1=\"12.35\" y1=\"-0.83\" x2=\"11.63\" y2=\"-1.24\"/>\n",
       "    <line x1=\"15.21\" y1=\"-0.83\" x2=\"15.92\" y2=\"-1.24\"/>\n",
       "    <line x1=\"11.63\" y1=\"-1.24\" x2=\"10.92\" y2=\"-0.83\"/>\n",
       "  </g>\n",
       "  <g font-family=\"monospace\">\n",
       "    <g fill=\"#FF0D0D\" font-family=\"sans-serif\">\n",
       "      <text x=\"14.49\" y=\"-1.24\" dx=\"-0.20\" dy=\"0.20\" font-size=\"0.50\">O</text>\n",
       "    </g>\n",
       "    <g fill=\"#FF0D0D\" font-family=\"sans-serif\">\n",
       "      <text x=\"12.35\" y=\"-0.83\" dx=\"-0.20\" dy=\"0.20\" font-size=\"0.50\">O</text>\n",
       "    </g>\n",
       "    <g fill=\"#FF0D0D\" font-family=\"sans-serif\">\n",
       "      <text x=\"13.06\" y=\"-2.06\" dx=\"-0.20\" dy=\"0.20\" font-size=\"0.50\">O</text>\n",
       "    </g>\n",
       "    <g fill=\"#FF0D0D\" font-family=\"sans-serif\">\n",
       "      <text x=\"13.78\" y=\"-0.00\" dx=\"-0.20\" dy=\"0.20\" font-size=\"0.50\">O</text>\n",
       "    </g>\n",
       "    <g fill=\"#0305A7\" font-size=\"0.25\">\n",
       "      <text x=\"13.78\" y=\"-0.83\" dx=\"-0.05\" dy=\"0.20\" text-anchor=\"end\">5</text>\n",
       "      <text x=\"13.06\" y=\"-1.24\" dx=\"-0.05\" dy=\"0.20\" text-anchor=\"end\">6</text>\n",
       "      <text x=\"14.49\" y=\"-1.24\" dx=\"-0.15\" dy=\"0.35\" text-anchor=\"end\">2</text>\n",
       "      <text x=\"12.35\" y=\"-0.83\" dx=\"-0.15\" dy=\"0.35\" text-anchor=\"end\">1</text>\n",
       "      <text x=\"13.06\" y=\"-2.06\" dx=\"-0.15\" dy=\"0.35\" text-anchor=\"end\">9</text>\n",
       "      <text x=\"13.78\" y=\"-0.00\" dx=\"-0.15\" dy=\"0.35\" text-anchor=\"end\">7</text>\n",
       "      <text x=\"15.21\" y=\"-0.83\" dx=\"-0.05\" dy=\"0.20\" text-anchor=\"end\">11</text>\n",
       "      <text x=\"15.92\" y=\"-1.24\" dx=\"-0.05\" dy=\"0.20\" text-anchor=\"end\">12</text>\n",
       "      <text x=\"11.63\" y=\"-1.24\" dx=\"-0.05\" dy=\"0.20\" text-anchor=\"end\">4</text>\n",
       "      <text x=\"10.92\" y=\"-0.83\" dx=\"-0.05\" dy=\"0.20\" text-anchor=\"end\">3</text>\n",
       "    </g>\n",
       "  </g>\n",
       "</svg>"
      ],
      "text/plain": [
       "<CGRtools.containers.molecule.MoleculeContainer at 0x7f6ad7df07c0>"
      ]
     },
     "execution_count": 78,
     "metadata": {},
     "output_type": "execute_result"
    }
   ],
   "source": [
    "m10 # ether"
   ]
  },
  {
   "cell_type": "code",
   "execution_count": 79,
   "metadata": {
    "scrolled": true
   },
   "outputs": [
    {
     "name": "stdout",
     "output_type": "stream",
     "text": [
      "[C;d3;](=[O;d1;])[O;s2;]\n"
     ]
    },
    {
     "data": {
      "image/svg+xml": [
       "<svg width=\"2.21cm\" height=\"2.49cm\" viewBox=\"13.15 -1.86 2.21 2.49\" xmlns=\"http://www.w3.org/2000/svg\" version=\"1.1\">\n",
       "  <defs>\n",
       "    <mask id=\"mask-16666d1b-9040-41d9-9893-bc303524a9e3\">\n",
       "      <rect x=\"13.15\" y=\"-1.86\" width=\"2.21\" height=\"2.49\" fill=\"white\"/>\n",
       "      <g fill=\"black\">\n",
       "        <circle cx=\"14.49\" cy=\"-1.24\" r=\"0.20\"/>\n",
       "        <circle cx=\"13.78\" cy=\"-0.00\" r=\"0.20\"/>\n",
       "      </g>\n",
       "      <g font-family=\"monospace\" stroke=\"black\">\n",
       "        <g font-family=\"sans-serif\" font-size=\"0.50\" stroke-width=\"0.05\">\n",
       "         <text x=\"14.49\" y=\"-1.24\" dx=\"-0.20\" dy=\"0.20\">O</text>\n",
       "         <text x=\"13.78\" y=\"-0.00\" dx=\"-0.20\" dy=\"0.20\">O</text>\n",
       "        </g>\n",
       "        <g font-size=\"0.25\" stroke-width=\"0.03\">\n",
       "         <text x=\"13.78\" y=\"-0.83\" dx=\"-0.05\" dy=\"0.20\" text-anchor=\"end\">5</text>\n",
       "         <text x=\"14.49\" y=\"-1.24\" dx=\"-0.15\" dy=\"0.35\" text-anchor=\"end\">2</text>\n",
       "         <text x=\"13.78\" y=\"-0.00\" dx=\"-0.15\" dy=\"0.35\" text-anchor=\"end\">7</text>\n",
       "        </g>\n",
       "        <g font-family=\"monospace\" font-size=\"0.3\" stroke-width=\"0.03\">\n",
       "         <text x=\"13.78\" y=\"-0.83\" dx=\"0.07\" dy=\"0.15\">3</text>\n",
       "         <text x=\"13.78\" y=\"-0.83\" dx=\"0.07\" dy=\"0.33\">d</text>\n",
       "         <text x=\"14.49\" y=\"-1.24\" dx=\"0.17\" dy=\"0.15\">2</text>\n",
       "         <text x=\"14.49\" y=\"-1.24\" dx=\"0.17\" dy=\"0.33\">s</text>\n",
       "         <text x=\"13.78\" y=\"-0.00\" dx=\"0.17\" dy=\"0.15\">1</text>\n",
       "         <text x=\"13.78\" y=\"-0.00\" dx=\"0.17\" dy=\"0.33\">d</text>\n",
       "        </g>\n",
       "      </g>\n",
       "    </mask>\n",
       "  </defs>\n",
       "  <g fill=\"none\" stroke=\"black\" stroke-width=\"0.04\"  mask=\"url(#mask-16666d1b-9040-41d9-9893-bc303524a9e3)\">\n",
       "    <line x1=\"13.78\" y1=\"-0.83\" x2=\"14.49\" y2=\"-1.24\"/>\n",
       "    <line x1=\"13.84\" y1=\"-0.83\" x2=\"13.84\" y2=\"-0.00\"/>\n",
       "    <line x1=\"13.72\" y1=\"-0.83\" x2=\"13.72\" y2=\"0.00\"/>\n",
       "  </g>\n",
       "  <g font-family=\"monospace\">\n",
       "    <g fill=\"#FF0D0D\" font-family=\"sans-serif\">\n",
       "      <text x=\"14.49\" y=\"-1.24\" dx=\"-0.20\" dy=\"0.20\" font-size=\"0.50\">O</text>\n",
       "    </g>\n",
       "    <g fill=\"#FF0D0D\" font-family=\"sans-serif\">\n",
       "      <text x=\"13.78\" y=\"-0.00\" dx=\"-0.20\" dy=\"0.20\" font-size=\"0.50\">O</text>\n",
       "    </g>\n",
       "    <g fill=\"#5D8AA8\" font-family=\"monospace\" font-size=\"0.30\">\n",
       "      <text x=\"13.78\" y=\"-0.83\" dx=\"0.075\" dy=\"0.15\" text-anchor=\"start\">3</text>\n",
       "      <text x=\"14.49\" y=\"-1.24\" dx=\"0.175\" dy=\"0.15\" text-anchor=\"start\">2</text>\n",
       "      <text x=\"13.78\" y=\"-0.00\" dx=\"0.175\" dy=\"0.15\" text-anchor=\"start\">1</text>\n",
       "      <text x=\"13.78\" y=\"-0.83\" dx=\"0.075\" dy=\"0.33\" text-anchor=\"start\">d</text>\n",
       "      <text x=\"14.49\" y=\"-1.24\" dx=\"0.175\" dy=\"0.33\" text-anchor=\"start\">s</text>\n",
       "      <text x=\"13.78\" y=\"-0.00\" dx=\"0.175\" dy=\"0.33\" text-anchor=\"start\">d</text>\n",
       "    </g>\n",
       "    <g fill=\"#0305A7\" font-size=\"0.25\">\n",
       "      <text x=\"13.78\" y=\"-0.83\" dx=\"-0.05\" dy=\"0.20\" text-anchor=\"end\">5</text>\n",
       "      <text x=\"14.49\" y=\"-1.24\" dx=\"-0.15\" dy=\"0.35\" text-anchor=\"end\">2</text>\n",
       "      <text x=\"13.78\" y=\"-0.00\" dx=\"-0.15\" dy=\"0.35\" text-anchor=\"end\">7</text>\n",
       "    </g>\n",
       "  </g>\n",
       "</svg>"
      ],
      "text/plain": [
       "<CGRtools.containers.query.QueryContainer at 0x7f6ad7da9e00>"
      ]
     },
     "execution_count": 79,
     "metadata": {},
     "output_type": "execute_result"
    }
   ],
   "source": [
    "carb = m10.substructure([5,7,2], as_query=True) # extract of carboxyl fragment\n",
    "print(carb)\n",
    "carb"
   ]
  },
  {
   "cell_type": "markdown",
   "metadata": {},
   "source": [
    "CGRs also can be transformed into Query.\n",
    "\n",
    "`QueryCGRContainer` is similar to QueryContainer class for CGRs and has the same API.\n",
    "\n",
    "`QueryCGRContainer` take into account state of atoms and bonds in reactant and product, including neighbors and hybridization"
   ]
  },
  {
   "cell_type": "code",
   "execution_count": 80,
   "metadata": {},
   "outputs": [
    {
     "name": "stdout",
     "output_type": "stream",
     "text": [
      "[C;d>d3>2;]1(=[C;d>d2>2;][C;d>d2>2;]=[C;d>d3>2;]([->.][N;d>d3>2;+]([O;s>s1>1;-])=[O;d>d1>1;])[C;d>d2>2;]=[C;d>d2>2;]1)[->.][O;s>s1>0;]\n"
     ]
    },
    {
     "data": {
      "image/svg+xml": [
       "<svg width=\"2.93cm\" height=\"4.96cm\" viewBox=\"1.80 -4.34 2.93 4.96\" xmlns=\"http://www.w3.org/2000/svg\" version=\"1.1\">\n",
       "  <defs>\n",
       "    <mask id=\"mask-8b7560af-be24-4679-bc88-848fb23d0ecb\">\n",
       "      <rect x=\"1.80\" y=\"-4.34\" width=\"2.93\" height=\"4.96\" fill=\"white\"/>\n",
       "      <g fill=\"black\">\n",
       "        <circle cx=\"3.14\" cy=\"-3.30\" r=\"0.20\"/>\n",
       "        <circle cx=\"2.43\" cy=\"-3.71\" r=\"0.20\"/>\n",
       "        <circle cx=\"3.86\" cy=\"-3.71\" r=\"0.20\"/>\n",
       "        <circle cx=\"3.14\" cy=\"-0.00\" r=\"0.20\"/>\n",
       "      </g>\n",
       "      <g font-family=\"monospace\" stroke=\"black\">\n",
       "        <g font-family=\"sans-serif\" font-size=\"0.50\" stroke-width=\"0.05\">\n",
       "         <text x=\"3.14\" y=\"-3.30\" dx=\"-0.20\" dy=\"0.20\">N</text>\n",
       "         <text x=\"2.43\" y=\"-3.71\" dx=\"-0.20\" dy=\"0.20\">O</text>\n",
       "         <text x=\"3.86\" y=\"-3.71\" dx=\"-0.20\" dy=\"0.20\">O</text>\n",
       "         <text x=\"3.14\" y=\"-0.00\" dx=\"-0.20\" dy=\"0.20\">O</text>\n",
       "        </g>\n",
       "        <g font-family=\"monospace\" font-size=\"0.3\" stroke-width=\"0.03\">\n",
       "         <text x=\"3.14\" y=\"-3.30\" dx=\"0.05\" dy=\"-0.20\">+</text>\n",
       "         <text x=\"3.14\" y=\"-3.30\" dx=\"0.17\" dy=\"0.15\">3»2</text>\n",
       "         <text x=\"3.14\" y=\"-3.30\" dx=\"0.17\" dy=\"0.33\">d»d</text>\n",
       "         <text x=\"2.43\" y=\"-3.71\" dx=\"0.17\" dy=\"0.15\">1»1</text>\n",
       "         <text x=\"2.43\" y=\"-3.71\" dx=\"0.17\" dy=\"0.33\">d»d</text>\n",
       "         <text x=\"3.86\" y=\"-3.71\" dx=\"0.05\" dy=\"-0.20\">-</text>\n",
       "         <text x=\"3.86\" y=\"-3.71\" dx=\"0.17\" dy=\"0.15\">1»1</text>\n",
       "         <text x=\"3.86\" y=\"-3.71\" dx=\"0.17\" dy=\"0.33\">s»s</text>\n",
       "         <text x=\"3.14\" y=\"-0.00\" dx=\"0.17\" dy=\"0.15\">1»0</text>\n",
       "         <text x=\"3.14\" y=\"-0.00\" dx=\"0.17\" dy=\"0.33\">s»s</text>\n",
       "         <text x=\"3.14\" y=\"-2.48\" dx=\"0.07\" dy=\"0.15\">3»2</text>\n",
       "         <text x=\"3.14\" y=\"-2.48\" dx=\"0.07\" dy=\"0.33\">d»d</text>\n",
       "         <text x=\"3.86\" y=\"-2.06\" dx=\"0.07\" dy=\"0.15\">2»2</text>\n",
       "         <text x=\"3.86\" y=\"-2.06\" dx=\"0.07\" dy=\"0.33\">d»d</text>\n",
       "         <text x=\"3.86\" y=\"-1.24\" dx=\"0.07\" dy=\"0.15\">2»2</text>\n",
       "         <text x=\"3.86\" y=\"-1.24\" dx=\"0.07\" dy=\"0.33\">d»d</text>\n",
       "         <text x=\"3.14\" y=\"-0.82\" dx=\"0.07\" dy=\"0.15\">3»2</text>\n",
       "         <text x=\"3.14\" y=\"-0.82\" dx=\"0.07\" dy=\"0.33\">d»d</text>\n",
       "         <text x=\"2.43\" y=\"-1.24\" dx=\"0.07\" dy=\"0.15\">2»2</text>\n",
       "         <text x=\"2.43\" y=\"-1.24\" dx=\"0.07\" dy=\"0.33\">d»d</text>\n",
       "         <text x=\"2.43\" y=\"-2.06\" dx=\"0.07\" dy=\"0.15\">2»2</text>\n",
       "         <text x=\"2.43\" y=\"-2.06\" dx=\"0.07\" dy=\"0.33\">d»d</text>\n",
       "        </g>\n",
       "      </g>\n",
       "    </mask>\n",
       "  </defs>\n",
       "  <g fill=\"none\" stroke=\"black\" stroke-width=\"0.04\"  mask=\"url(#mask-8b7560af-be24-4679-bc88-848fb23d0ecb)\">\n",
       "    <line x1=\"3.14\" y1=\"-3.30\" x2=\"3.14\" y2=\"-2.48\" stroke=\"red\"/>\n",
       "    <line x1=\"3.11\" y1=\"-3.25\" x2=\"2.40\" y2=\"-3.66\"/>\n",
       "    <line x1=\"3.17\" y1=\"-3.35\" x2=\"2.46\" y2=\"-3.76\"/>\n",
       "    <line x1=\"3.14\" y1=\"-3.30\" x2=\"3.86\" y2=\"-3.71\"/>\n",
       "    <line x1=\"3.14\" y1=\"-0.00\" x2=\"3.14\" y2=\"-0.82\" stroke=\"red\"/>\n",
       "    <line x1=\"3.14\" y1=\"-2.48\" x2=\"3.86\" y2=\"-2.06\"/>\n",
       "    <line x1=\"3.17\" y1=\"-2.42\" x2=\"2.46\" y2=\"-2.01\"/>\n",
       "    <line x1=\"3.11\" y1=\"-2.53\" x2=\"2.40\" y2=\"-2.11\"/>\n",
       "    <line x1=\"3.92\" y1=\"-2.06\" x2=\"3.92\" y2=\"-1.24\"/>\n",
       "    <line x1=\"3.80\" y1=\"-2.06\" x2=\"3.80\" y2=\"-1.24\"/>\n",
       "    <line x1=\"3.86\" y1=\"-1.24\" x2=\"3.14\" y2=\"-0.82\"/>\n",
       "    <line x1=\"3.11\" y1=\"-0.77\" x2=\"2.40\" y2=\"-1.19\"/>\n",
       "    <line x1=\"3.17\" y1=\"-0.88\" x2=\"2.46\" y2=\"-1.29\"/>\n",
       "    <line x1=\"2.43\" y1=\"-1.24\" x2=\"2.43\" y2=\"-2.06\"/>\n",
       "  </g>\n",
       "  <g font-family=\"monospace\">\n",
       "    <g fill=\"#3050F8\" font-family=\"sans-serif\">\n",
       "      <text x=\"3.14\" y=\"-3.30\" dx=\"-0.20\" dy=\"0.20\" font-size=\"0.50\">N</text>\n",
       "    </g>\n",
       "    <g fill=\"#FF0D0D\" font-family=\"sans-serif\">\n",
       "      <text x=\"2.43\" y=\"-3.71\" dx=\"-0.20\" dy=\"0.20\" font-size=\"0.50\">O</text>\n",
       "    </g>\n",
       "    <g fill=\"#FF0D0D\" font-family=\"sans-serif\">\n",
       "      <text x=\"3.86\" y=\"-3.71\" dx=\"-0.20\" dy=\"0.20\" font-size=\"0.50\">O</text>\n",
       "    </g>\n",
       "    <g fill=\"#FF0D0D\" font-family=\"sans-serif\">\n",
       "      <text x=\"3.14\" y=\"-0.00\" dx=\"-0.20\" dy=\"0.20\" font-size=\"0.50\">O</text>\n",
       "    </g>\n",
       "    <g fill=\"#5D8AA8\" font-family=\"monospace\" font-size=\"0.30\">\n",
       "      <text x=\"3.14\" y=\"-3.30\" dx=\"0.17\" dy=\"0.15\" text-anchor=\"start\">3»2</text>\n",
       "      <text x=\"2.43\" y=\"-3.71\" dx=\"0.17\" dy=\"0.15\" text-anchor=\"start\">1»1</text>\n",
       "      <text x=\"3.86\" y=\"-3.71\" dx=\"0.17\" dy=\"0.15\" text-anchor=\"start\">1»1</text>\n",
       "      <text x=\"3.14\" y=\"-0.00\" dx=\"0.17\" dy=\"0.15\" text-anchor=\"start\">1»0</text>\n",
       "      <text x=\"3.14\" y=\"-2.48\" dx=\"0.07\" dy=\"0.15\" text-anchor=\"start\">3»2</text>\n",
       "      <text x=\"3.86\" y=\"-2.06\" dx=\"0.07\" dy=\"0.15\" text-anchor=\"start\">2»2</text>\n",
       "      <text x=\"3.86\" y=\"-1.24\" dx=\"0.07\" dy=\"0.15\" text-anchor=\"start\">2»2</text>\n",
       "      <text x=\"3.14\" y=\"-0.82\" dx=\"0.07\" dy=\"0.15\" text-anchor=\"start\">3»2</text>\n",
       "      <text x=\"2.43\" y=\"-1.24\" dx=\"0.07\" dy=\"0.15\" text-anchor=\"start\">2»2</text>\n",
       "      <text x=\"2.43\" y=\"-2.06\" dx=\"0.07\" dy=\"0.15\" text-anchor=\"start\">2»2</text>\n",
       "      <text x=\"3.14\" y=\"-3.30\" dx=\"0.17\" dy=\"0.33\" text-anchor=\"start\">d»d</text>\n",
       "      <text x=\"2.43\" y=\"-3.71\" dx=\"0.17\" dy=\"0.33\" text-anchor=\"start\">d»d</text>\n",
       "      <text x=\"3.86\" y=\"-3.71\" dx=\"0.17\" dy=\"0.33\" text-anchor=\"start\">s»s</text>\n",
       "      <text x=\"3.14\" y=\"-0.00\" dx=\"0.17\" dy=\"0.33\" text-anchor=\"start\">s»s</text>\n",
       "      <text x=\"3.14\" y=\"-2.48\" dx=\"0.07\" dy=\"0.33\" text-anchor=\"start\">d»d</text>\n",
       "      <text x=\"3.86\" y=\"-2.06\" dx=\"0.07\" dy=\"0.33\" text-anchor=\"start\">d»d</text>\n",
       "      <text x=\"3.86\" y=\"-1.24\" dx=\"0.07\" dy=\"0.33\" text-anchor=\"start\">d»d</text>\n",
       "      <text x=\"3.14\" y=\"-0.82\" dx=\"0.07\" dy=\"0.33\" text-anchor=\"start\">d»d</text>\n",
       "      <text x=\"2.43\" y=\"-1.24\" dx=\"0.07\" dy=\"0.33\" text-anchor=\"start\">d»d</text>\n",
       "      <text x=\"2.43\" y=\"-2.06\" dx=\"0.07\" dy=\"0.33\" text-anchor=\"start\">d»d</text>\n",
       "    </g>\n",
       "    <g fill=\"black\" font-family=\"monospace\" font-size=\"0.30\">\n",
       "      <text x=\"3.14\" y=\"-3.30\" dx=\"0.05\" dy=\"-0.20\" font-size=\"0.30\">+</text>\n",
       "      <text x=\"3.86\" y=\"-3.71\" dx=\"0.05\" dy=\"-0.20\" font-size=\"0.30\">-</text>\n",
       "    </g>\n",
       "  </g>\n",
       "</svg>"
      ],
      "text/plain": [
       "<CGRtools.containers.cgr_query.QueryCGRContainer at 0x7f6ad7d7d5e0>"
      ]
     },
     "execution_count": 80,
     "metadata": {},
     "output_type": "execute_result"
    }
   ],
   "source": [
    "cgr_q = cgr1.substructure(cgr1, as_query=True) # transfrom CGRContainer into QueryCGRContainer\n",
    "#or\n",
    "cgr_q = QueryCGRContainer() | cgr1 # Union of Query container with CGR or Molecule gives QueryCGRContainer\n",
    "print(cgr_q)                    # print out signature of query\n",
    "cgr_q"
   ]
  },
  {
   "cell_type": "markdown",
   "metadata": {},
   "source": [
    "## 1.5. Molecules, CGRs, Reactions construction\n",
    "\n",
    "CGRtools has API for objects construction from scratch.\n",
    "\n",
    "CGR and Molecule has methods `add_atom` and `add_bond` for adding atoms and bonds."
   ]
  },
  {
   "cell_type": "code",
   "execution_count": 81,
   "metadata": {},
   "outputs": [],
   "source": [
    "from CGRtools.containers import MoleculeContainer\n",
    "from CGRtools.containers.bonds import Bond\n",
    "from CGRtools.periodictable import Na"
   ]
  },
  {
   "cell_type": "code",
   "execution_count": 82,
   "metadata": {},
   "outputs": [
    {
     "data": {
      "text/plain": [
       "4"
      ]
     },
     "execution_count": 82,
     "metadata": {},
     "output_type": "execute_result"
    }
   ],
   "source": [
    "m = MoleculeContainer() # new empty molecule\n",
    "\n",
    "m.add_atom('C')  # add Carbon atom using element symbol\n",
    "m.add_atom(6)    # add Carbon atom using element number. {'element': 6} is not valid, but {'element': 'O'} is also acceptable\n",
    "m.add_atom('O', charge=-1) # add negatively charged Oxygen atom. Similarly other atomic properties can be set\n",
    "\n",
    "# add_atom has second argument for setting atom number. \n",
    "# If not set, the next integer after the biggest among already created will be used.\n",
    "m.add_atom(Na(23), 4, charge=1) # For isotopes required element object construction."
   ]
  },
  {
   "cell_type": "code",
   "execution_count": 83,
   "metadata": {},
   "outputs": [],
   "source": [
    "m.add_bond(1, 2, 1) # add bond with order = 1 between atoms 1 and 2\n",
    "m.add_bond(3, 2, Bond(1)) # the other possibility to set bond order"
   ]
  },
  {
   "cell_type": "code",
   "execution_count": 84,
   "metadata": {},
   "outputs": [
    {
     "data": {
      "image/svg+xml": [
       "<svg width=\"3.07cm\" height=\"2.53cm\" viewBox=\"-0.62 -1.19 3.07 2.53\" xmlns=\"http://www.w3.org/2000/svg\" version=\"1.1\">\n",
       "  <defs>\n",
       "    <mask id=\"mask-c55dbb0c-224a-462b-b617-6f715e1a95f9\">\n",
       "      <rect x=\"-0.62\" y=\"-1.19\" width=\"3.07\" height=\"2.53\" fill=\"white\"/>\n",
       "      <g fill=\"black\">\n",
       "        <circle cx=\"0.74\" cy=\"-0.57\" r=\"0.20\"/>\n",
       "        <ellipse cx=\"1.49\" cy=\"-0.00\" rx=\"0.35\" ry=\"0.2\"/>\n",
       "      </g>\n",
       "      <g font-family=\"monospace\" stroke=\"black\">\n",
       "        <g font-family=\"sans-serif\" font-size=\"0.50\" stroke-width=\"0.05\">\n",
       "         <text x=\"0.74\" y=\"-0.57\" dx=\"-0.20\" dy=\"0.20\">O</text>\n",
       "         <text x=\"1.57\" y=\"-0.00\" dx=\"-0.35\" dy=\"0.20\">Na</text>\n",
       "        </g>\n",
       "        <g font-size=\"0.25\" stroke-width=\"0.03\">\n",
       "         <text x=\"0.00\" y=\"0.71\" dx=\"-0.05\" dy=\"0.20\" text-anchor=\"end\">1</text>\n",
       "         <text x=\"0.00\" y=\"-0.14\" dx=\"-0.05\" dy=\"0.20\" text-anchor=\"end\">2</text>\n",
       "         <text x=\"0.74\" y=\"-0.57\" dx=\"-0.15\" dy=\"0.35\" text-anchor=\"end\">3</text>\n",
       "         <text x=\"1.57\" y=\"-0.00\" dx=\"-0.30\" dy=\"0.35\" text-anchor=\"end\">4</text>\n",
       "        </g>\n",
       "        <g font-family=\"monospace\" font-size=\"0.3\" stroke-width=\"0.03\">\n",
       "         <text x=\"0.74\" y=\"-0.57\" dx=\"0.05\" dy=\"-0.20\">-</text>\n",
       "         <text x=\"1.57\" y=\"-0.00\" dx=\"0.05\" dy=\"-0.20\">+</text>\n",
       "         <text x=\"1.57\" y=\"-0.00\" dx=\"-0.05\" dy=\"-0.20\" text-anchor=\"end\">23</text>\n",
       "        </g>\n",
       "      </g>\n",
       "    </mask>\n",
       "  </defs>\n",
       "  <g fill=\"none\" stroke=\"black\" stroke-width=\"0.04\"  mask=\"url(#mask-c55dbb0c-224a-462b-b617-6f715e1a95f9)\">\n",
       "    <line x1=\"0.00\" y1=\"0.71\" x2=\"0.00\" y2=\"-0.14\"/>\n",
       "    <line x1=\"0.00\" y1=\"-0.14\" x2=\"0.74\" y2=\"-0.57\"/>\n",
       "  </g>\n",
       "  <g font-family=\"monospace\">\n",
       "    <g fill=\"#FF0D0D\" font-family=\"sans-serif\">\n",
       "      <text x=\"0.74\" y=\"-0.57\" dx=\"-0.20\" dy=\"0.20\" font-size=\"0.50\">O</text>\n",
       "    </g>\n",
       "    <g fill=\"#AB5CF2\" font-family=\"sans-serif\">\n",
       "      <text x=\"1.57\" y=\"-0.00\" dx=\"-0.35\" dy=\"0.20\" font-size=\"0.50\">Na</text>\n",
       "    </g>\n",
       "    <g font-family=\"monospace\" fill=\"black\" font-size=\"0.30\">\n",
       "      <text x=\"0.74\" y=\"-0.57\" dx=\"0.05\" dy=\"-0.20\">-</text>\n",
       "      <text x=\"1.57\" y=\"-0.00\" dx=\"0.05\" dy=\"-0.20\">+</text>\n",
       "      <text x=\"1.57\" y=\"-0.00\" dx=\"-0.05\" dy=\"-0.20\" text-anchor=\"end\">23</text>\n",
       "    </g>\n",
       "    <g fill=\"#0305A7\" font-size=\"0.25\">\n",
       "      <text x=\"0.00\" y=\"0.71\" dx=\"-0.05\" dy=\"0.20\" text-anchor=\"end\">1</text>\n",
       "      <text x=\"0.00\" y=\"-0.14\" dx=\"-0.05\" dy=\"0.20\" text-anchor=\"end\">2</text>\n",
       "      <text x=\"0.74\" y=\"-0.57\" dx=\"-0.15\" dy=\"0.35\" text-anchor=\"end\">3</text>\n",
       "      <text x=\"1.57\" y=\"-0.00\" dx=\"-0.30\" dy=\"0.35\" text-anchor=\"end\">4</text>\n",
       "    </g>\n",
       "  </g>\n",
       "</svg>"
      ],
      "text/plain": [
       "<CGRtools.containers.molecule.MoleculeContainer at 0x7f6ad7da9b80>"
      ]
     },
     "execution_count": 84,
     "metadata": {},
     "output_type": "execute_result"
    }
   ],
   "source": [
    "m.clean2d() #experimental function to calculate atom coordinates. Has number of flaws yet\n",
    "m"
   ]
  },
  {
   "cell_type": "markdown",
   "metadata": {},
   "source": [
    "Reactions can be constructed from molecules.\n",
    "Reactions are tuple-like objects. Modification impossible."
   ]
  },
  {
   "cell_type": "code",
   "execution_count": 85,
   "metadata": {},
   "outputs": [],
   "source": [
    "r = ReactionContainer(reactants=[m1], products=[m11]) # one-step way to construct reaction\n",
    "# or\n",
    "r = ReactionContainer([m1], [m11]) # first list of MoleculeContainers is interpreted as reactants, second one - as products"
   ]
  },
  {
   "cell_type": "code",
   "execution_count": 86,
   "metadata": {},
   "outputs": [
    {
     "data": {
      "image/svg+xml": [
       "<svg width=\"7.64cm\" height=\"4.96cm\" viewBox=\"-0.62 -2.48 7.64 4.96\" xmlns=\"http://www.w3.org/2000/svg\" version=\"1.1\">\n",
       "  <defs>\n",
       "    <marker id=\"arrow\" markerWidth=\"10\" markerHeight=\"10\" refX=\"0\" refY=\"3\" orient=\"auto\">\n",
       "      <path d=\"M0,0 L0,6 L9,3\"/>\n",
       "    </marker>\n",
       "    <mask id=\"mask-a937aec2-3561-4182-a512-7753dd696c2f\">\n",
       "      <rect x=\"-0.62\" y=\"-2.48\" width=\"7.64\" height=\"4.96\" fill=\"white\"/>\n",
       "      <g fill=\"black\">\n",
       "        <circle cx=\"0.71\" cy=\"-0.21\" r=\"0.20\"/>\n",
       "        <circle cx=\"5.43\" cy=\"-1.44\" r=\"0.20\"/>\n",
       "        <circle cx=\"4.71\" cy=\"-1.86\" r=\"0.20\"/>\n",
       "        <circle cx=\"6.14\" cy=\"-1.86\" r=\"0.20\"/>\n",
       "        <circle cx=\"5.43\" cy=\"1.86\" r=\"0.20\"/>\n",
       "      </g>\n",
       "      <g font-family=\"monospace\" stroke=\"black\">\n",
       "        <g font-family=\"sans-serif\" font-size=\"0.50\" stroke-width=\"0.05\">\n",
       "         <text x=\"0.71\" y=\"-0.21\" dx=\"-0.20\" dy=\"0.20\">O</text>\n",
       "         <text x=\"5.43\" y=\"-1.44\" dx=\"-0.20\" dy=\"0.20\">N</text>\n",
       "         <text x=\"4.71\" y=\"-1.86\" dx=\"-0.20\" dy=\"0.20\">O</text>\n",
       "         <text x=\"6.14\" y=\"-1.86\" dx=\"-0.20\" dy=\"0.20\">O</text>\n",
       "         <text x=\"5.43\" y=\"1.86\" dx=\"-0.20\" dy=\"0.20\">OH</text>\n",
       "        </g>\n",
       "        <g font-size=\"0.25\" stroke-width=\"0.03\">\n",
       "         <text x=\"0.00\" y=\"0.21\" dx=\"-0.05\" dy=\"0.20\" text-anchor=\"end\">4</text>\n",
       "         <text x=\"0.71\" y=\"-0.21\" dx=\"-0.15\" dy=\"0.35\" text-anchor=\"end\">1</text>\n",
       "         <text x=\"5.43\" y=\"-0.62\" dx=\"-0.05\" dy=\"0.20\" text-anchor=\"end\">4</text>\n",
       "         <text x=\"6.14\" y=\"-0.21\" dx=\"-0.05\" dy=\"0.20\" text-anchor=\"end\">5</text>\n",
       "         <text x=\"6.14\" y=\"0.62\" dx=\"-0.05\" dy=\"0.20\" text-anchor=\"end\">6</text>\n",
       "         <text x=\"5.43\" y=\"1.03\" dx=\"-0.05\" dy=\"0.20\" text-anchor=\"end\">7</text>\n",
       "         <text x=\"4.71\" y=\"0.62\" dx=\"-0.05\" dy=\"0.20\" text-anchor=\"end\">8</text>\n",
       "         <text x=\"4.71\" y=\"-0.21\" dx=\"-0.05\" dy=\"0.20\" text-anchor=\"end\">9</text>\n",
       "         <text x=\"5.43\" y=\"-1.44\" dx=\"-0.15\" dy=\"0.35\" text-anchor=\"end\">10</text>\n",
       "         <text x=\"4.71\" y=\"-1.86\" dx=\"-0.15\" dy=\"0.35\" text-anchor=\"end\">11</text>\n",
       "         <text x=\"6.14\" y=\"-1.86\" dx=\"-0.15\" dy=\"0.35\" text-anchor=\"end\">12</text>\n",
       "         <text x=\"5.43\" y=\"1.86\" dx=\"-0.15\" dy=\"0.35\" text-anchor=\"end\">13</text>\n",
       "        </g>\n",
       "        <g font-family=\"monospace\" font-size=\"0.3\" stroke-width=\"0.03\">\n",
       "         <text x=\"0.71\" y=\"-0.21\" dx=\"0.05\" dy=\"-0.20\">↑</text>\n",
       "         <text x=\"0.71\" y=\"-0.21\" dx=\"-0.05\" dy=\"-0.20\" text-anchor=\"end\">15</text>\n",
       "         <text x=\"5.43\" y=\"-1.44\" dx=\"0.05\" dy=\"-0.20\">+</text>\n",
       "         <text x=\"6.14\" y=\"-1.86\" dx=\"0.05\" dy=\"-0.20\">-</text>\n",
       "        </g>\n",
       "      </g>\n",
       "    </mask>\n",
       "  </defs>\n",
       "  <line x1=\"1.71\" y1=\"0\" x2=\"3.71\" y2=\"0\" fill=\"none\" stroke=\"black\" stroke-width=\".04\" marker-end=\"url(#arrow)\"/>\n",
       "  <g fill=\"none\" stroke=\"black\" stroke-width=\"0.04\" mask=\"url(#mask-a937aec2-3561-4182-a512-7753dd696c2f)\">\n",
       "    <line x1=\"-0.62\" y1=\"-2.48\" x2=\"7.02\" y2=\"-2.48\" stroke=\"none\"/>\n",
       "    <line x1=\"0.00\" y1=\"0.21\" x2=\"0.71\" y2=\"-0.21\"/>\n",
       "    <line x1=\"5.43\" y1=\"-0.62\" x2=\"6.14\" y2=\"-0.21\"/>\n",
       "    <line x1=\"5.46\" y1=\"-0.57\" x2=\"4.74\" y2=\"-0.15\"/>\n",
       "    <line x1=\"5.40\" y1=\"-0.67\" x2=\"4.68\" y2=\"-0.26\"/>\n",
       "    <line x1=\"5.43\" y1=\"-0.62\" x2=\"5.43\" y2=\"-1.44\"/>\n",
       "    <line x1=\"6.20\" y1=\"-0.21\" x2=\"6.20\" y2=\"0.62\"/>\n",
       "    <line x1=\"6.08\" y1=\"-0.21\" x2=\"6.08\" y2=\"0.62\"/>\n",
       "    <line x1=\"6.14\" y1=\"0.62\" x2=\"5.43\" y2=\"1.03\"/>\n",
       "    <line x1=\"5.40\" y1=\"1.08\" x2=\"4.68\" y2=\"0.67\"/>\n",
       "    <line x1=\"5.46\" y1=\"0.98\" x2=\"4.74\" y2=\"0.57\"/>\n",
       "    <line x1=\"5.43\" y1=\"1.03\" x2=\"5.43\" y2=\"1.86\"/>\n",
       "    <line x1=\"4.71\" y1=\"0.62\" x2=\"4.71\" y2=\"-0.21\"/>\n",
       "    <line x1=\"5.40\" y1=\"-1.39\" x2=\"4.68\" y2=\"-1.80\"/>\n",
       "    <line x1=\"5.46\" y1=\"-1.50\" x2=\"4.74\" y2=\"-1.91\"/>\n",
       "    <line x1=\"5.43\" y1=\"-1.44\" x2=\"6.14\" y2=\"-1.86\"/>\n",
       "  </g>\n",
       "  <g font-family=\"monospace\">\n",
       "    <g fill=\"#FF0D0D\" font-family=\"sans-serif\">\n",
       "      <text x=\"0.71\" y=\"-0.21\" dx=\"-0.20\" dy=\"0.20\" font-size=\"0.50\">O</text>\n",
       "    </g>\n",
       "    <g font-family=\"monospace\" fill=\"black\" font-size=\"0.30\">\n",
       "      <text x=\"0.71\" y=\"-0.21\" dx=\"0.05\" dy=\"-0.20\">↑</text>\n",
       "      <text x=\"0.71\" y=\"-0.21\" dx=\"-0.05\" dy=\"-0.20\" text-anchor=\"end\">15</text>\n",
       "    </g>\n",
       "    <g fill=\"#0305A7\" font-size=\"0.25\">\n",
       "      <text x=\"0.00\" y=\"0.21\" dx=\"-0.05\" dy=\"0.20\" text-anchor=\"end\">4</text>\n",
       "      <text x=\"0.71\" y=\"-0.21\" dx=\"-0.15\" dy=\"0.35\" text-anchor=\"end\">1</text>\n",
       "    </g>\n",
       "    <g fill=\"#3050F8\" font-family=\"sans-serif\">\n",
       "      <text x=\"5.43\" y=\"-1.44\" dx=\"-0.20\" dy=\"0.20\" font-size=\"0.50\">N</text>\n",
       "    </g>\n",
       "    <g fill=\"#FF0D0D\" font-family=\"sans-serif\">\n",
       "      <text x=\"4.71\" y=\"-1.86\" dx=\"-0.20\" dy=\"0.20\" font-size=\"0.50\">O</text>\n",
       "    </g>\n",
       "    <g fill=\"#FF0D0D\" font-family=\"sans-serif\">\n",
       "      <text x=\"6.14\" y=\"-1.86\" dx=\"-0.20\" dy=\"0.20\" font-size=\"0.50\">O</text>\n",
       "    </g>\n",
       "    <g fill=\"#FF0D0D\" font-family=\"sans-serif\">\n",
       "      <text x=\"5.43\" y=\"1.86\" dx=\"-0.20\" dy=\"0.20\" font-size=\"0.50\">OH</text>\n",
       "    </g>\n",
       "    <g font-family=\"monospace\" fill=\"black\" font-size=\"0.30\">\n",
       "      <text x=\"5.43\" y=\"-1.44\" dx=\"0.05\" dy=\"-0.20\">+</text>\n",
       "      <text x=\"6.14\" y=\"-1.86\" dx=\"0.05\" dy=\"-0.20\">-</text>\n",
       "    </g>\n",
       "    <g fill=\"#0305A7\" font-size=\"0.25\">\n",
       "      <text x=\"5.43\" y=\"-0.62\" dx=\"-0.05\" dy=\"0.20\" text-anchor=\"end\">4</text>\n",
       "      <text x=\"6.14\" y=\"-0.21\" dx=\"-0.05\" dy=\"0.20\" text-anchor=\"end\">5</text>\n",
       "      <text x=\"6.14\" y=\"0.62\" dx=\"-0.05\" dy=\"0.20\" text-anchor=\"end\">6</text>\n",
       "      <text x=\"5.43\" y=\"1.03\" dx=\"-0.05\" dy=\"0.20\" text-anchor=\"end\">7</text>\n",
       "      <text x=\"4.71\" y=\"0.62\" dx=\"-0.05\" dy=\"0.20\" text-anchor=\"end\">8</text>\n",
       "      <text x=\"4.71\" y=\"-0.21\" dx=\"-0.05\" dy=\"0.20\" text-anchor=\"end\">9</text>\n",
       "      <text x=\"5.43\" y=\"-1.44\" dx=\"-0.15\" dy=\"0.35\" text-anchor=\"end\">10</text>\n",
       "      <text x=\"4.71\" y=\"-1.86\" dx=\"-0.15\" dy=\"0.35\" text-anchor=\"end\">11</text>\n",
       "      <text x=\"6.14\" y=\"-1.86\" dx=\"-0.15\" dy=\"0.35\" text-anchor=\"end\">12</text>\n",
       "      <text x=\"5.43\" y=\"1.86\" dx=\"-0.15\" dy=\"0.35\" text-anchor=\"end\">13</text>\n",
       "    </g>\n",
       "  </g>\n",
       "</svg>"
      ],
      "text/plain": [
       "<CGRtools.containers.reaction.ReactionContainer at 0x7f6ad7d59a60>"
      ]
     },
     "execution_count": 86,
     "metadata": {},
     "output_type": "execute_result"
    }
   ],
   "source": [
    "r"
   ]
  },
  {
   "cell_type": "code",
   "execution_count": 87,
   "metadata": {},
   "outputs": [
    {
     "data": {
      "image/svg+xml": [
       "<svg width=\"7.64cm\" height=\"4.96cm\" viewBox=\"-0.62 -2.48 7.64 4.96\" xmlns=\"http://www.w3.org/2000/svg\" version=\"1.1\">\n",
       "  <defs>\n",
       "    <marker id=\"arrow\" markerWidth=\"10\" markerHeight=\"10\" refX=\"0\" refY=\"3\" orient=\"auto\">\n",
       "      <path d=\"M0,0 L0,6 L9,3\"/>\n",
       "    </marker>\n",
       "    <mask id=\"mask-674c2a0b-cce0-406d-a6ce-c3458753df60\">\n",
       "      <rect x=\"-0.62\" y=\"-2.48\" width=\"7.64\" height=\"4.96\" fill=\"white\"/>\n",
       "      <g fill=\"black\">\n",
       "        <circle cx=\"0.71\" cy=\"-0.21\" r=\"0.20\"/>\n",
       "        <circle cx=\"5.43\" cy=\"-1.44\" r=\"0.20\"/>\n",
       "        <circle cx=\"4.71\" cy=\"-1.86\" r=\"0.20\"/>\n",
       "        <circle cx=\"6.14\" cy=\"-1.86\" r=\"0.20\"/>\n",
       "        <circle cx=\"5.43\" cy=\"1.86\" r=\"0.20\"/>\n",
       "      </g>\n",
       "      <g font-family=\"monospace\" stroke=\"black\">\n",
       "        <g font-family=\"sans-serif\" font-size=\"0.50\" stroke-width=\"0.05\">\n",
       "         <text x=\"0.71\" y=\"-0.21\" dx=\"-0.20\" dy=\"0.20\">O</text>\n",
       "         <text x=\"5.43\" y=\"-1.44\" dx=\"-0.20\" dy=\"0.20\">N</text>\n",
       "         <text x=\"4.71\" y=\"-1.86\" dx=\"-0.20\" dy=\"0.20\">O</text>\n",
       "         <text x=\"6.14\" y=\"-1.86\" dx=\"-0.20\" dy=\"0.20\">O</text>\n",
       "         <text x=\"5.43\" y=\"1.86\" dx=\"-0.20\" dy=\"0.20\">OH</text>\n",
       "        </g>\n",
       "        <g font-size=\"0.25\" stroke-width=\"0.03\">\n",
       "         <text x=\"0.00\" y=\"0.21\" dx=\"-0.05\" dy=\"0.20\" text-anchor=\"end\">4</text>\n",
       "         <text x=\"0.71\" y=\"-0.21\" dx=\"-0.15\" dy=\"0.35\" text-anchor=\"end\">1</text>\n",
       "         <text x=\"5.43\" y=\"-0.62\" dx=\"-0.05\" dy=\"0.20\" text-anchor=\"end\">4</text>\n",
       "         <text x=\"6.14\" y=\"-0.21\" dx=\"-0.05\" dy=\"0.20\" text-anchor=\"end\">5</text>\n",
       "         <text x=\"6.14\" y=\"0.62\" dx=\"-0.05\" dy=\"0.20\" text-anchor=\"end\">6</text>\n",
       "         <text x=\"5.43\" y=\"1.03\" dx=\"-0.05\" dy=\"0.20\" text-anchor=\"end\">7</text>\n",
       "         <text x=\"4.71\" y=\"0.62\" dx=\"-0.05\" dy=\"0.20\" text-anchor=\"end\">8</text>\n",
       "         <text x=\"4.71\" y=\"-0.21\" dx=\"-0.05\" dy=\"0.20\" text-anchor=\"end\">9</text>\n",
       "         <text x=\"5.43\" y=\"-1.44\" dx=\"-0.15\" dy=\"0.35\" text-anchor=\"end\">10</text>\n",
       "         <text x=\"4.71\" y=\"-1.86\" dx=\"-0.15\" dy=\"0.35\" text-anchor=\"end\">11</text>\n",
       "         <text x=\"6.14\" y=\"-1.86\" dx=\"-0.15\" dy=\"0.35\" text-anchor=\"end\">12</text>\n",
       "         <text x=\"5.43\" y=\"1.86\" dx=\"-0.15\" dy=\"0.35\" text-anchor=\"end\">13</text>\n",
       "        </g>\n",
       "        <g font-family=\"monospace\" font-size=\"0.3\" stroke-width=\"0.03\">\n",
       "         <text x=\"0.71\" y=\"-0.21\" dx=\"0.05\" dy=\"-0.20\">↑</text>\n",
       "         <text x=\"0.71\" y=\"-0.21\" dx=\"-0.05\" dy=\"-0.20\" text-anchor=\"end\">15</text>\n",
       "         <text x=\"5.43\" y=\"-1.44\" dx=\"0.05\" dy=\"-0.20\">+</text>\n",
       "         <text x=\"6.14\" y=\"-1.86\" dx=\"0.05\" dy=\"-0.20\">-</text>\n",
       "        </g>\n",
       "      </g>\n",
       "    </mask>\n",
       "  </defs>\n",
       "  <line x1=\"1.71\" y1=\"0\" x2=\"3.71\" y2=\"0\" fill=\"none\" stroke=\"black\" stroke-width=\".04\" marker-end=\"url(#arrow)\"/>\n",
       "  <g fill=\"none\" stroke=\"black\" stroke-width=\"0.04\" mask=\"url(#mask-674c2a0b-cce0-406d-a6ce-c3458753df60)\">\n",
       "    <line x1=\"-0.62\" y1=\"-2.48\" x2=\"7.02\" y2=\"-2.48\" stroke=\"none\"/>\n",
       "    <line x1=\"0.00\" y1=\"0.21\" x2=\"0.71\" y2=\"-0.21\"/>\n",
       "    <line x1=\"5.43\" y1=\"-0.62\" x2=\"6.14\" y2=\"-0.21\"/>\n",
       "    <line x1=\"5.46\" y1=\"-0.57\" x2=\"4.74\" y2=\"-0.15\"/>\n",
       "    <line x1=\"5.40\" y1=\"-0.67\" x2=\"4.68\" y2=\"-0.26\"/>\n",
       "    <line x1=\"5.43\" y1=\"-0.62\" x2=\"5.43\" y2=\"-1.44\"/>\n",
       "    <line x1=\"6.20\" y1=\"-0.21\" x2=\"6.20\" y2=\"0.62\"/>\n",
       "    <line x1=\"6.08\" y1=\"-0.21\" x2=\"6.08\" y2=\"0.62\"/>\n",
       "    <line x1=\"6.14\" y1=\"0.62\" x2=\"5.43\" y2=\"1.03\"/>\n",
       "    <line x1=\"5.40\" y1=\"1.08\" x2=\"4.68\" y2=\"0.67\"/>\n",
       "    <line x1=\"5.46\" y1=\"0.98\" x2=\"4.74\" y2=\"0.57\"/>\n",
       "    <line x1=\"5.43\" y1=\"1.03\" x2=\"5.43\" y2=\"1.86\"/>\n",
       "    <line x1=\"4.71\" y1=\"0.62\" x2=\"4.71\" y2=\"-0.21\"/>\n",
       "    <line x1=\"5.40\" y1=\"-1.39\" x2=\"4.68\" y2=\"-1.80\"/>\n",
       "    <line x1=\"5.46\" y1=\"-1.50\" x2=\"4.74\" y2=\"-1.91\"/>\n",
       "    <line x1=\"5.43\" y1=\"-1.44\" x2=\"6.14\" y2=\"-1.86\"/>\n",
       "  </g>\n",
       "  <g font-family=\"monospace\">\n",
       "    <g fill=\"#FF0D0D\" font-family=\"sans-serif\">\n",
       "      <text x=\"0.71\" y=\"-0.21\" dx=\"-0.20\" dy=\"0.20\" font-size=\"0.50\">O</text>\n",
       "    </g>\n",
       "    <g font-family=\"monospace\" fill=\"black\" font-size=\"0.30\">\n",
       "      <text x=\"0.71\" y=\"-0.21\" dx=\"0.05\" dy=\"-0.20\">↑</text>\n",
       "      <text x=\"0.71\" y=\"-0.21\" dx=\"-0.05\" dy=\"-0.20\" text-anchor=\"end\">15</text>\n",
       "    </g>\n",
       "    <g fill=\"#0305A7\" font-size=\"0.25\">\n",
       "      <text x=\"0.00\" y=\"0.21\" dx=\"-0.05\" dy=\"0.20\" text-anchor=\"end\">4</text>\n",
       "      <text x=\"0.71\" y=\"-0.21\" dx=\"-0.15\" dy=\"0.35\" text-anchor=\"end\">1</text>\n",
       "    </g>\n",
       "    <g fill=\"#3050F8\" font-family=\"sans-serif\">\n",
       "      <text x=\"5.43\" y=\"-1.44\" dx=\"-0.20\" dy=\"0.20\" font-size=\"0.50\">N</text>\n",
       "    </g>\n",
       "    <g fill=\"#FF0D0D\" font-family=\"sans-serif\">\n",
       "      <text x=\"4.71\" y=\"-1.86\" dx=\"-0.20\" dy=\"0.20\" font-size=\"0.50\">O</text>\n",
       "    </g>\n",
       "    <g fill=\"#FF0D0D\" font-family=\"sans-serif\">\n",
       "      <text x=\"6.14\" y=\"-1.86\" dx=\"-0.20\" dy=\"0.20\" font-size=\"0.50\">O</text>\n",
       "    </g>\n",
       "    <g fill=\"#FF0D0D\" font-family=\"sans-serif\">\n",
       "      <text x=\"5.43\" y=\"1.86\" dx=\"-0.20\" dy=\"0.20\" font-size=\"0.50\">OH</text>\n",
       "    </g>\n",
       "    <g font-family=\"monospace\" fill=\"black\" font-size=\"0.30\">\n",
       "      <text x=\"5.43\" y=\"-1.44\" dx=\"0.05\" dy=\"-0.20\">+</text>\n",
       "      <text x=\"6.14\" y=\"-1.86\" dx=\"0.05\" dy=\"-0.20\">-</text>\n",
       "    </g>\n",
       "    <g fill=\"#0305A7\" font-size=\"0.25\">\n",
       "      <text x=\"5.43\" y=\"-0.62\" dx=\"-0.05\" dy=\"0.20\" text-anchor=\"end\">4</text>\n",
       "      <text x=\"6.14\" y=\"-0.21\" dx=\"-0.05\" dy=\"0.20\" text-anchor=\"end\">5</text>\n",
       "      <text x=\"6.14\" y=\"0.62\" dx=\"-0.05\" dy=\"0.20\" text-anchor=\"end\">6</text>\n",
       "      <text x=\"5.43\" y=\"1.03\" dx=\"-0.05\" dy=\"0.20\" text-anchor=\"end\">7</text>\n",
       "      <text x=\"4.71\" y=\"0.62\" dx=\"-0.05\" dy=\"0.20\" text-anchor=\"end\">8</text>\n",
       "      <text x=\"4.71\" y=\"-0.21\" dx=\"-0.05\" dy=\"0.20\" text-anchor=\"end\">9</text>\n",
       "      <text x=\"5.43\" y=\"-1.44\" dx=\"-0.15\" dy=\"0.35\" text-anchor=\"end\">10</text>\n",
       "      <text x=\"4.71\" y=\"-1.86\" dx=\"-0.15\" dy=\"0.35\" text-anchor=\"end\">11</text>\n",
       "      <text x=\"6.14\" y=\"-1.86\" dx=\"-0.15\" dy=\"0.35\" text-anchor=\"end\">12</text>\n",
       "      <text x=\"5.43\" y=\"1.86\" dx=\"-0.15\" dy=\"0.35\" text-anchor=\"end\">13</text>\n",
       "    </g>\n",
       "  </g>\n",
       "</svg>"
      ],
      "text/plain": [
       "<CGRtools.containers.reaction.ReactionContainer at 0x7f6ad7d59a60>"
      ]
     },
     "execution_count": 87,
     "metadata": {},
     "output_type": "execute_result"
    }
   ],
   "source": [
    "r.fix_positions() # this method fixes coordinates of molecules in reaction without calculation of atoms coordinates.\n",
    "r"
   ]
  },
  {
   "cell_type": "markdown",
   "metadata": {},
   "source": [
    "*QueryContainers* can be constructed in the same way as *MoleculeContainers*.\n",
    "\n",
    "Unlike other containers *QueryContainers* additionally support atoms, neighbors and hybridization lists."
   ]
  },
  {
   "cell_type": "code",
   "execution_count": 88,
   "metadata": {},
   "outputs": [],
   "source": [
    "q = QueryContainer() # creation of empty container\n",
    "q.add_atom('N') # add N atom, any isotope, not radical, neutral charge, \n",
    "                # number of neighbors and hybridization are irrelevant\n",
    "q.add_atom('C', neighbors=[2, 3], hybridization=2) # add carbon atom, any isotope, not radical, neutral charge, \n",
    "                # has 2 or 3 explicit neighbors and sp2 hybridization\n",
    "q.add_atom('O', neighbors=1)\n",
    "q.add_bond(1, 2, 1) # add single bond between atom 1 and 2 \n",
    "q.add_bond(2, 3, 2) # add double bond between atom 1 and 2 \n",
    "# any amide group will fit this query"
   ]
  },
  {
   "cell_type": "code",
   "execution_count": 89,
   "metadata": {},
   "outputs": [
    {
     "name": "stdout",
     "output_type": "stream",
     "text": [
      "[C;d23;](=[O;1;])[N]\n"
     ]
    },
    {
     "data": {
      "image/svg+xml": [
       "<svg width=\"2.41cm\" height=\"2.19cm\" viewBox=\"-0.62 -1.01 2.41 2.19\" xmlns=\"http://www.w3.org/2000/svg\" version=\"1.1\">\n",
       "  <defs>\n",
       "    <mask id=\"mask-d0196144-e970-4d39-9f24-953f401ce9ef\">\n",
       "      <rect x=\"-0.62\" y=\"-1.01\" width=\"2.41\" height=\"2.19\" fill=\"white\"/>\n",
       "      <g fill=\"black\">\n",
       "        <circle cx=\"0.91\" cy=\"0.56\" r=\"0.20\"/>\n",
       "        <circle cx=\"0.00\" cy=\"-0.38\" r=\"0.20\"/>\n",
       "      </g>\n",
       "      <g font-family=\"monospace\" stroke=\"black\">\n",
       "        <g font-family=\"sans-serif\" font-size=\"0.50\" stroke-width=\"0.05\">\n",
       "         <text x=\"0.91\" y=\"0.56\" dx=\"-0.20\" dy=\"0.20\">N</text>\n",
       "         <text x=\"0.00\" y=\"-0.38\" dx=\"-0.20\" dy=\"0.20\">O</text>\n",
       "        </g>\n",
       "        <g font-size=\"0.25\" stroke-width=\"0.03\">\n",
       "         <text x=\"0.91\" y=\"0.56\" dx=\"-0.15\" dy=\"0.35\" text-anchor=\"end\">1</text>\n",
       "         <text x=\"0.91\" y=\"-0.17\" dx=\"-0.05\" dy=\"0.20\" text-anchor=\"end\">2</text>\n",
       "         <text x=\"0.00\" y=\"-0.38\" dx=\"-0.15\" dy=\"0.35\" text-anchor=\"end\">3</text>\n",
       "        </g>\n",
       "        <g font-family=\"monospace\" font-size=\"0.3\" stroke-width=\"0.03\">\n",
       "         <text x=\"0.91\" y=\"-0.17\" dx=\"0.07\" dy=\"0.15\">23</text>\n",
       "         <text x=\"0.91\" y=\"-0.17\" dx=\"0.07\" dy=\"0.33\">d</text>\n",
       "         <text x=\"0.00\" y=\"-0.38\" dx=\"0.17\" dy=\"0.15\">1</text>\n",
       "        </g>\n",
       "      </g>\n",
       "    </mask>\n",
       "  </defs>\n",
       "  <g fill=\"none\" stroke=\"black\" stroke-width=\"0.04\"  mask=\"url(#mask-d0196144-e970-4d39-9f24-953f401ce9ef)\">\n",
       "    <line x1=\"0.91\" y1=\"0.56\" x2=\"0.91\" y2=\"-0.17\"/>\n",
       "    <line x1=\"0.89\" y1=\"-0.12\" x2=\"-0.01\" y2=\"-0.32\"/>\n",
       "    <line x1=\"0.92\" y1=\"-0.23\" x2=\"0.01\" y2=\"-0.44\"/>\n",
       "  </g>\n",
       "  <g font-family=\"monospace\">\n",
       "    <g fill=\"#3050F8\" font-family=\"sans-serif\">\n",
       "      <text x=\"0.91\" y=\"0.56\" dx=\"-0.20\" dy=\"0.20\" font-size=\"0.50\">N</text>\n",
       "    </g>\n",
       "    <g fill=\"#FF0D0D\" font-family=\"sans-serif\">\n",
       "      <text x=\"0.00\" y=\"-0.38\" dx=\"-0.20\" dy=\"0.20\" font-size=\"0.50\">O</text>\n",
       "    </g>\n",
       "    <g fill=\"#5D8AA8\" font-family=\"monospace\" font-size=\"0.30\">\n",
       "      <text x=\"0.91\" y=\"-0.17\" dx=\"0.075\" dy=\"0.15\" text-anchor=\"start\">23</text>\n",
       "      <text x=\"0.00\" y=\"-0.38\" dx=\"0.175\" dy=\"0.15\" text-anchor=\"start\">1</text>\n",
       "      <text x=\"0.91\" y=\"-0.17\" dx=\"0.075\" dy=\"0.33\" text-anchor=\"start\">d</text>\n",
       "    </g>\n",
       "    <g fill=\"#0305A7\" font-size=\"0.25\">\n",
       "      <text x=\"0.91\" y=\"0.56\" dx=\"-0.15\" dy=\"0.35\" text-anchor=\"end\">1</text>\n",
       "      <text x=\"0.91\" y=\"-0.17\" dx=\"-0.05\" dy=\"0.20\" text-anchor=\"end\">2</text>\n",
       "      <text x=\"0.00\" y=\"-0.38\" dx=\"-0.15\" dy=\"0.35\" text-anchor=\"end\">3</text>\n",
       "    </g>\n",
       "  </g>\n",
       "</svg>"
      ],
      "text/plain": [
       "<CGRtools.containers.query.QueryContainer at 0x7f6ad7d7d7c0>"
      ]
     },
     "execution_count": 89,
     "metadata": {},
     "output_type": "execute_result"
    }
   ],
   "source": [
    "print(q) # print out signature (SMILES-like)\n",
    "q.clean2d()\n",
    "q"
   ]
  },
  {
   "cell_type": "markdown",
   "metadata": {},
   "source": [
    "## 1.6. Extending CGRtools\n",
    "\n",
    "You can easily customize CGRtools for your tasks.  \n",
    "CGRtools is OOP-oriented library with subclassing and inheritance support.\n",
    "\n",
    "As an example, we show how special marks on atoms for ligand donor centers can be added."
   ]
  },
  {
   "cell_type": "code",
   "execution_count": 90,
   "metadata": {},
   "outputs": [],
   "source": [
    "from CGRtools.periodictable import Core, C, O"
   ]
  },
  {
   "cell_type": "code",
   "execution_count": 91,
   "metadata": {},
   "outputs": [],
   "source": [
    "class Marked(Core):\n",
    "    __slots__ = '__mark' # all new attributes should be slotted!\n",
    "\n",
    "    def __init__(self, *args, **kwargs):\n",
    "        super().__init__(*args, **kwargs)\n",
    "        self.__mark = None # set default value for added attribute\n",
    "\n",
    "    @property\n",
    "    def mark(self):        # created new property \n",
    "        return self.__mark\n",
    "\n",
    "    @mark.setter\n",
    "    def mark(self, mark):\n",
    "        # do some checks and calculations\n",
    "        self.__mark = mark\n",
    "    \n",
    "    def __repr__(self):\n",
    "        if self.__isotope:\n",
    "            return f'{self.__class__.__name__[6:]}({self.__isotope})'\n",
    "        return f'{self.__class__.__name__[6:]}()'\n",
    "    \n",
    "    @property\n",
    "    def atomic_symbol(self) -> str:\n",
    "        return self.__class__.__name__[6:]\n",
    "\n",
    "\n",
    "class MarkedC(Marked, C):\n",
    "    pass\n",
    "\n",
    "\n",
    "class MarkedO(Marked, O):\n",
    "    pass"
   ]
  },
  {
   "cell_type": "code",
   "execution_count": 92,
   "metadata": {},
   "outputs": [
    {
     "name": "stdout",
     "output_type": "stream",
     "text": [
      "OC\n"
     ]
    },
    {
     "data": {
      "image/svg+xml": [
       "<svg width=\"1.50cm\" height=\"2.08cm\" viewBox=\"-0.62 -1.45 1.50 2.08\" xmlns=\"http://www.w3.org/2000/svg\" version=\"1.1\">\n",
       "  <defs>\n",
       "    <mask id=\"mask-19b5135f-b707-4c27-8a67-67f96ac98b28\">\n",
       "      <rect x=\"-0.62\" y=\"-1.45\" width=\"1.50\" height=\"2.08\" fill=\"white\"/>\n",
       "      <g fill=\"black\">\n",
       "        <circle cx=\"0.00\" cy=\"-0.82\" r=\"0.20\"/>\n",
       "      </g>\n",
       "      <g font-family=\"monospace\" stroke=\"black\">\n",
       "        <g font-family=\"sans-serif\" font-size=\"0.50\" stroke-width=\"0.05\">\n",
       "         <text x=\"0.00\" y=\"-0.82\" dx=\"-0.20\" dy=\"0.20\">OH</text>\n",
       "        </g>\n",
       "        <g font-size=\"0.25\" stroke-width=\"0.03\">\n",
       "         <text x=\"0.00\" y=\"-0.00\" dx=\"-0.05\" dy=\"0.20\" text-anchor=\"end\">1</text>\n",
       "         <text x=\"0.00\" y=\"-0.82\" dx=\"-0.15\" dy=\"0.35\" text-anchor=\"end\">2</text>\n",
       "        </g>\n",
       "      </g>\n",
       "    </mask>\n",
       "  </defs>\n",
       "  <g fill=\"none\" stroke=\"black\" stroke-width=\"0.04\"  mask=\"url(#mask-19b5135f-b707-4c27-8a67-67f96ac98b28)\">\n",
       "    <line x1=\"-0.62\" y1=\"-1.45\" x2=\"0.88\" y2=\"-1.45\" stroke=\"none\"/>\n",
       "    <line x1=\"0.00\" y1=\"-0.00\" x2=\"0.00\" y2=\"-0.82\"/>\n",
       "  </g>\n",
       "  <g font-family=\"monospace\">\n",
       "    <g fill=\"#FF0D0D\" font-family=\"sans-serif\">\n",
       "      <text x=\"0.00\" y=\"-0.82\" dx=\"-0.20\" dy=\"0.20\" font-size=\"0.50\">OH</text>\n",
       "    </g>\n",
       "    <g fill=\"#0305A7\" font-size=\"0.25\">\n",
       "      <text x=\"0.00\" y=\"-0.00\" dx=\"-0.05\" dy=\"0.20\" text-anchor=\"end\">1</text>\n",
       "      <text x=\"0.00\" y=\"-0.82\" dx=\"-0.15\" dy=\"0.35\" text-anchor=\"end\">2</text>\n",
       "    </g>\n",
       "  </g>\n",
       "</svg>"
      ],
      "text/plain": [
       "<CGRtools.containers.molecule.MoleculeContainer at 0x7f6ad7d7d900>"
      ]
     },
     "execution_count": 92,
     "metadata": {},
     "output_type": "execute_result"
    }
   ],
   "source": [
    "m = MoleculeContainer() # create newly developed container MarkedMoleculeContainer\n",
    "m.add_atom(MarkedC())   # add custom atom C\n",
    "m.add_atom(MarkedO())   # add custom atom O\n",
    "m.add_bond(1, 2, 1)\n",
    "\n",
    "m.atom(2).mark = 1  # set mark on atom.\n",
    "\n",
    "print(m)\n",
    "m.clean2d()\n",
    "m"
   ]
  },
  {
   "cell_type": "code",
   "execution_count": 93,
   "metadata": {},
   "outputs": [
    {
     "data": {
      "text/plain": [
       "1"
      ]
     },
     "execution_count": 93,
     "metadata": {},
     "output_type": "execute_result"
    }
   ],
   "source": [
    "m.atom(2).mark # one can return mark"
   ]
  }
 ],
 "metadata": {
  "kernelspec": {
   "display_name": "Python 3",
   "language": "python",
   "name": "python3"
  },
  "language_info": {
   "codemirror_mode": {
    "name": "ipython",
    "version": 3
   },
   "file_extension": ".py",
   "mimetype": "text/x-python",
   "name": "python",
   "nbconvert_exporter": "python",
   "pygments_lexer": "ipython3",
   "version": "3.8.2"
  }
 },
 "nbformat": 4,
 "nbformat_minor": 1
}
