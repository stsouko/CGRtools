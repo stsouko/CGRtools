{
 "cells": [
  {
   "cell_type": "markdown",
   "metadata": {},
   "source": [
    "# 4. Isomorphism\n",
    "\n",
    "- (c) 2019, 2020 Dr. Ramil Nugmanov;\n",
    "- (c) 2019 Dr. Timur Madzhidov; Ravil Mukhametgaleev\n",
    "\n",
    "Installation instructions of CGRtools package information and tutorial's files see on `https://github.com/cimm-kzn/CGRtools`\n",
    "\n",
    "NOTE: Tutorial should be performed sequentially from the start. Random cell running will lead to unexpected results. "
   ]
  },
  {
   "cell_type": "code",
   "execution_count": 1,
   "metadata": {},
   "outputs": [
    {
     "name": "stdout",
     "output_type": "stream",
     "text": [
      "Welcome!\n"
     ]
    }
   ],
   "source": [
    "import pkg_resources\n",
    "if pkg_resources.get_distribution('CGRtools').version.split('.')[:2] != ['4', '0']:\n",
    "    print('WARNING. Tutorial was tested on 4.0 version of CGRtools')\n",
    "else:\n",
    "    print('Welcome!')"
   ]
  },
  {
   "cell_type": "code",
   "execution_count": 2,
   "metadata": {},
   "outputs": [],
   "source": [
    "# load data for tutorial\n",
    "from pickle import load\n",
    "from traceback import format_exc\n",
    "\n",
    "with open('molecules.dat', 'rb') as f:\n",
    "    molecules = load(f) # list of MoleculeContainer objects\n",
    "with open('reactions.dat', 'rb') as f:\n",
    "    reactions = load(f) # list of ReactionContainer objects\n",
    "\n",
    "m2, m3 = molecules[1:3] # molecule\n",
    "m7 = m3.copy()\n",
    "m7.standardize()\n",
    "r1 = reactions[0] # reaction\n",
    "m5, m6 = r1.reactants[:2]\n",
    "m8 = m7.substructure([4, 5, 6, 7, 8, 9])\n",
    "m9 = m6.substructure([5, 6,7, 8]) # acid\n",
    "m10 =  r1.products[0].copy()\n",
    "\n",
    "benzene = m3.substructure([4,5,6,7,8,9])\n",
    "cgr1 = m7 ^ m8 \n",
    "carb = m10.substructure([5,7,2])\n",
    "\n",
    "from CGRtools.containers import *"
   ]
  },
  {
   "cell_type": "markdown",
   "metadata": {},
   "source": [
    "## 4.1. Molecules Isomorphism\n",
    "CGRtools has simple substructure/structure isomorphism API.\n",
    "\n",
    "Note, that atoms are matched in subgraph isomorphism only if they have same charge/multiplicity and isotope options."
   ]
  },
  {
   "cell_type": "code",
   "execution_count": 3,
   "metadata": {},
   "outputs": [
    {
     "data": {
      "image/svg+xml": [
       "<svg width=\"2.93cm\" height=\"4.96cm\" viewBox=\"1.80 -4.34 2.93 4.96\" xmlns=\"http://www.w3.org/2000/svg\" version=\"1.1\">\n",
       "  <defs>\n",
       "    <mask id=\"mask-650df2f7-b1c4-4ab1-ae93-3509faa6ddbc\">\n",
       "      <rect x=\"1.80\" y=\"-4.34\" width=\"2.93\" height=\"4.96\" fill=\"white\"/>\n",
       "      <g fill=\"black\">\n",
       "        <circle cx=\"3.14\" cy=\"-3.30\" r=\"0.20\"/>\n",
       "        <circle cx=\"2.43\" cy=\"-3.71\" r=\"0.20\"/>\n",
       "        <circle cx=\"3.86\" cy=\"-3.71\" r=\"0.20\"/>\n",
       "        <circle cx=\"3.14\" cy=\"-0.00\" r=\"0.20\"/>\n",
       "      </g>\n",
       "      <g font-family=\"monospace\" stroke=\"black\">\n",
       "        <g font-family=\"sans-serif\" font-size=\"0.50\" stroke-width=\"0.05\">\n",
       "         <text x=\"3.14\" y=\"-3.30\" dx=\"-0.20\" dy=\"0.20\">N</text>\n",
       "         <text x=\"2.43\" y=\"-3.71\" dx=\"-0.20\" dy=\"0.20\">O</text>\n",
       "         <text x=\"3.86\" y=\"-3.71\" dx=\"-0.20\" dy=\"0.20\">O</text>\n",
       "         <text x=\"3.14\" y=\"-0.00\" dx=\"-0.20\" dy=\"0.20\">OH</text>\n",
       "        </g>\n",
       "        <g font-size=\"0.25\" stroke-width=\"0.03\">\n",
       "         <text x=\"3.14\" y=\"-2.48\" dx=\"-0.05\" dy=\"0.20\" text-anchor=\"end\">4</text>\n",
       "         <text x=\"3.86\" y=\"-2.06\" dx=\"-0.05\" dy=\"0.20\" text-anchor=\"end\">5</text>\n",
       "         <text x=\"3.86\" y=\"-1.24\" dx=\"-0.05\" dy=\"0.20\" text-anchor=\"end\">6</text>\n",
       "         <text x=\"3.14\" y=\"-0.82\" dx=\"-0.05\" dy=\"0.20\" text-anchor=\"end\">7</text>\n",
       "         <text x=\"2.43\" y=\"-1.24\" dx=\"-0.05\" dy=\"0.20\" text-anchor=\"end\">8</text>\n",
       "         <text x=\"2.43\" y=\"-2.06\" dx=\"-0.05\" dy=\"0.20\" text-anchor=\"end\">9</text>\n",
       "         <text x=\"3.14\" y=\"-3.30\" dx=\"-0.15\" dy=\"0.35\" text-anchor=\"end\">10</text>\n",
       "         <text x=\"2.43\" y=\"-3.71\" dx=\"-0.15\" dy=\"0.35\" text-anchor=\"end\">11</text>\n",
       "         <text x=\"3.86\" y=\"-3.71\" dx=\"-0.15\" dy=\"0.35\" text-anchor=\"end\">12</text>\n",
       "         <text x=\"3.14\" y=\"-0.00\" dx=\"-0.15\" dy=\"0.35\" text-anchor=\"end\">13</text>\n",
       "        </g>\n",
       "        <g font-family=\"monospace\" font-size=\"0.3\" stroke-width=\"0.03\">\n",
       "         <text x=\"3.14\" y=\"-3.30\" dx=\"0.05\" dy=\"-0.20\">+</text>\n",
       "         <text x=\"3.86\" y=\"-3.71\" dx=\"0.05\" dy=\"-0.20\">-</text>\n",
       "        </g>\n",
       "      </g>\n",
       "    </mask>\n",
       "  </defs>\n",
       "  <g fill=\"none\" stroke=\"black\" stroke-width=\"0.04\"  mask=\"url(#mask-650df2f7-b1c4-4ab1-ae93-3509faa6ddbc)\">\n",
       "    <line x1=\"3.14\" y1=\"-2.48\" x2=\"3.86\" y2=\"-2.06\"/>\n",
       "    <line x1=\"3.17\" y1=\"-2.42\" x2=\"2.46\" y2=\"-2.01\"/>\n",
       "    <line x1=\"3.11\" y1=\"-2.53\" x2=\"2.40\" y2=\"-2.11\"/>\n",
       "    <line x1=\"3.14\" y1=\"-2.48\" x2=\"3.14\" y2=\"-3.30\"/>\n",
       "    <line x1=\"3.92\" y1=\"-2.06\" x2=\"3.92\" y2=\"-1.24\"/>\n",
       "    <line x1=\"3.80\" y1=\"-2.06\" x2=\"3.80\" y2=\"-1.24\"/>\n",
       "    <line x1=\"3.86\" y1=\"-1.24\" x2=\"3.14\" y2=\"-0.82\"/>\n",
       "    <line x1=\"3.11\" y1=\"-0.77\" x2=\"2.40\" y2=\"-1.19\"/>\n",
       "    <line x1=\"3.17\" y1=\"-0.88\" x2=\"2.46\" y2=\"-1.29\"/>\n",
       "    <line x1=\"3.14\" y1=\"-0.82\" x2=\"3.14\" y2=\"-0.00\"/>\n",
       "    <line x1=\"2.43\" y1=\"-1.24\" x2=\"2.43\" y2=\"-2.06\"/>\n",
       "    <line x1=\"3.11\" y1=\"-3.25\" x2=\"2.40\" y2=\"-3.66\"/>\n",
       "    <line x1=\"3.17\" y1=\"-3.35\" x2=\"2.46\" y2=\"-3.76\"/>\n",
       "    <line x1=\"3.14\" y1=\"-3.30\" x2=\"3.86\" y2=\"-3.71\"/>\n",
       "  </g>\n",
       "  <g font-family=\"monospace\">\n",
       "    <g fill=\"#3050F8\" font-family=\"sans-serif\">\n",
       "      <text x=\"3.14\" y=\"-3.30\" dx=\"-0.20\" dy=\"0.20\" font-size=\"0.50\">N</text>\n",
       "    </g>\n",
       "    <g fill=\"#FF0D0D\" font-family=\"sans-serif\">\n",
       "      <text x=\"2.43\" y=\"-3.71\" dx=\"-0.20\" dy=\"0.20\" font-size=\"0.50\">O</text>\n",
       "    </g>\n",
       "    <g fill=\"#FF0D0D\" font-family=\"sans-serif\">\n",
       "      <text x=\"3.86\" y=\"-3.71\" dx=\"-0.20\" dy=\"0.20\" font-size=\"0.50\">O</text>\n",
       "    </g>\n",
       "    <g fill=\"#FF0D0D\" font-family=\"sans-serif\">\n",
       "      <text x=\"3.14\" y=\"-0.00\" dx=\"-0.20\" dy=\"0.20\" font-size=\"0.50\">OH</text>\n",
       "    </g>\n",
       "    <g font-family=\"monospace\" fill=\"black\" font-size=\"0.30\">\n",
       "      <text x=\"3.14\" y=\"-3.30\" dx=\"0.05\" dy=\"-0.20\">+</text>\n",
       "      <text x=\"3.86\" y=\"-3.71\" dx=\"0.05\" dy=\"-0.20\">-</text>\n",
       "    </g>\n",
       "    <g fill=\"#0305A7\" font-size=\"0.25\">\n",
       "      <text x=\"3.14\" y=\"-2.48\" dx=\"-0.05\" dy=\"0.20\" text-anchor=\"end\">4</text>\n",
       "      <text x=\"3.86\" y=\"-2.06\" dx=\"-0.05\" dy=\"0.20\" text-anchor=\"end\">5</text>\n",
       "      <text x=\"3.86\" y=\"-1.24\" dx=\"-0.05\" dy=\"0.20\" text-anchor=\"end\">6</text>\n",
       "      <text x=\"3.14\" y=\"-0.82\" dx=\"-0.05\" dy=\"0.20\" text-anchor=\"end\">7</text>\n",
       "      <text x=\"2.43\" y=\"-1.24\" dx=\"-0.05\" dy=\"0.20\" text-anchor=\"end\">8</text>\n",
       "      <text x=\"2.43\" y=\"-2.06\" dx=\"-0.05\" dy=\"0.20\" text-anchor=\"end\">9</text>\n",
       "      <text x=\"3.14\" y=\"-3.30\" dx=\"-0.15\" dy=\"0.35\" text-anchor=\"end\">10</text>\n",
       "      <text x=\"2.43\" y=\"-3.71\" dx=\"-0.15\" dy=\"0.35\" text-anchor=\"end\">11</text>\n",
       "      <text x=\"3.86\" y=\"-3.71\" dx=\"-0.15\" dy=\"0.35\" text-anchor=\"end\">12</text>\n",
       "      <text x=\"3.14\" y=\"-0.00\" dx=\"-0.15\" dy=\"0.35\" text-anchor=\"end\">13</text>\n",
       "    </g>\n",
       "  </g>\n",
       "</svg>"
      ],
      "text/plain": [
       "<CGRtools.containers.molecule.MoleculeContainer at 0x7fa81c2b5a40>"
      ]
     },
     "execution_count": 3,
     "metadata": {},
     "output_type": "execute_result"
    }
   ],
   "source": [
    "m7"
   ]
  },
  {
   "cell_type": "code",
   "execution_count": 4,
   "metadata": {},
   "outputs": [
    {
     "data": {
      "image/svg+xml": [
       "<svg width=\"2.93cm\" height=\"2.90cm\" viewBox=\"1.80 -3.10 2.93 2.90\" xmlns=\"http://www.w3.org/2000/svg\" version=\"1.1\">\n",
       "  <defs>\n",
       "    <mask id=\"mask-8de5bdf7-2748-43d8-8fe4-997b65dfebbe\">\n",
       "      <rect x=\"1.80\" y=\"-3.10\" width=\"2.93\" height=\"2.90\" fill=\"white\"/>\n",
       "      <g font-family=\"monospace\" stroke=\"black\">\n",
       "        <g font-size=\"0.25\" stroke-width=\"0.03\">\n",
       "         <text x=\"3.14\" y=\"-2.48\" dx=\"-0.05\" dy=\"0.20\" text-anchor=\"end\">4</text>\n",
       "         <text x=\"3.86\" y=\"-2.06\" dx=\"-0.05\" dy=\"0.20\" text-anchor=\"end\">5</text>\n",
       "         <text x=\"3.86\" y=\"-1.24\" dx=\"-0.05\" dy=\"0.20\" text-anchor=\"end\">6</text>\n",
       "         <text x=\"3.14\" y=\"-0.82\" dx=\"-0.05\" dy=\"0.20\" text-anchor=\"end\">7</text>\n",
       "         <text x=\"2.43\" y=\"-1.24\" dx=\"-0.05\" dy=\"0.20\" text-anchor=\"end\">8</text>\n",
       "         <text x=\"2.43\" y=\"-2.06\" dx=\"-0.05\" dy=\"0.20\" text-anchor=\"end\">9</text>\n",
       "        </g>\n",
       "      </g>\n",
       "    </mask>\n",
       "  </defs>\n",
       "  <g fill=\"none\" stroke=\"black\" stroke-width=\"0.04\"  mask=\"url(#mask-8de5bdf7-2748-43d8-8fe4-997b65dfebbe)\">\n",
       "    <line x1=\"3.14\" y1=\"-2.48\" x2=\"3.86\" y2=\"-2.06\"/>\n",
       "    <line x1=\"3.17\" y1=\"-2.42\" x2=\"2.46\" y2=\"-2.01\"/>\n",
       "    <line x1=\"3.11\" y1=\"-2.53\" x2=\"2.40\" y2=\"-2.11\"/>\n",
       "    <line x1=\"3.92\" y1=\"-2.06\" x2=\"3.92\" y2=\"-1.24\"/>\n",
       "    <line x1=\"3.80\" y1=\"-2.06\" x2=\"3.80\" y2=\"-1.24\"/>\n",
       "    <line x1=\"3.86\" y1=\"-1.24\" x2=\"3.14\" y2=\"-0.82\"/>\n",
       "    <line x1=\"3.11\" y1=\"-0.77\" x2=\"2.40\" y2=\"-1.19\"/>\n",
       "    <line x1=\"3.17\" y1=\"-0.88\" x2=\"2.46\" y2=\"-1.29\"/>\n",
       "    <line x1=\"2.43\" y1=\"-1.24\" x2=\"2.43\" y2=\"-2.06\"/>\n",
       "  </g>\n",
       "  <g font-family=\"monospace\">\n",
       "    <g fill=\"#0305A7\" font-size=\"0.25\">\n",
       "      <text x=\"3.14\" y=\"-2.48\" dx=\"-0.05\" dy=\"0.20\" text-anchor=\"end\">4</text>\n",
       "      <text x=\"3.86\" y=\"-2.06\" dx=\"-0.05\" dy=\"0.20\" text-anchor=\"end\">5</text>\n",
       "      <text x=\"3.86\" y=\"-1.24\" dx=\"-0.05\" dy=\"0.20\" text-anchor=\"end\">6</text>\n",
       "      <text x=\"3.14\" y=\"-0.82\" dx=\"-0.05\" dy=\"0.20\" text-anchor=\"end\">7</text>\n",
       "      <text x=\"2.43\" y=\"-1.24\" dx=\"-0.05\" dy=\"0.20\" text-anchor=\"end\">8</text>\n",
       "      <text x=\"2.43\" y=\"-2.06\" dx=\"-0.05\" dy=\"0.20\" text-anchor=\"end\">9</text>\n",
       "    </g>\n",
       "  </g>\n",
       "</svg>"
      ],
      "text/plain": [
       "<CGRtools.containers.molecule.MoleculeContainer at 0x7fa7e55307c0>"
      ]
     },
     "execution_count": 4,
     "metadata": {},
     "output_type": "execute_result"
    }
   ],
   "source": [
    "m8"
   ]
  },
  {
   "cell_type": "code",
   "execution_count": 5,
   "metadata": {},
   "outputs": [
    {
     "data": {
      "image/svg+xml": [
       "<svg width=\"2.93cm\" height=\"2.90cm\" viewBox=\"1.80 -3.10 2.93 2.90\" xmlns=\"http://www.w3.org/2000/svg\" version=\"1.1\">\n",
       "  <defs>\n",
       "    <mask id=\"mask-2bb788b0-9031-4c95-abde-e9c01d8296c8\">\n",
       "      <rect x=\"1.80\" y=\"-3.10\" width=\"2.93\" height=\"2.90\" fill=\"white\"/>\n",
       "      <g font-family=\"monospace\" stroke=\"black\">\n",
       "        <g font-size=\"0.25\" stroke-width=\"0.03\">\n",
       "         <text x=\"3.14\" y=\"-2.48\" dx=\"-0.05\" dy=\"0.20\" text-anchor=\"end\">4</text>\n",
       "         <text x=\"3.86\" y=\"-2.06\" dx=\"-0.05\" dy=\"0.20\" text-anchor=\"end\">5</text>\n",
       "         <text x=\"3.86\" y=\"-1.24\" dx=\"-0.05\" dy=\"0.20\" text-anchor=\"end\">6</text>\n",
       "         <text x=\"3.14\" y=\"-0.82\" dx=\"-0.05\" dy=\"0.20\" text-anchor=\"end\">7</text>\n",
       "         <text x=\"2.43\" y=\"-1.24\" dx=\"-0.05\" dy=\"0.20\" text-anchor=\"end\">8</text>\n",
       "         <text x=\"2.43\" y=\"-2.06\" dx=\"-0.05\" dy=\"0.20\" text-anchor=\"end\">9</text>\n",
       "        </g>\n",
       "      </g>\n",
       "    </mask>\n",
       "  </defs>\n",
       "  <g fill=\"none\" stroke=\"black\" stroke-width=\"0.04\"  mask=\"url(#mask-2bb788b0-9031-4c95-abde-e9c01d8296c8)\">\n",
       "    <line x1=\"3.14\" y1=\"-2.48\" x2=\"3.86\" y2=\"-2.06\"/>\n",
       "    <line x1=\"3.17\" y1=\"-2.42\" x2=\"2.46\" y2=\"-2.01\"/>\n",
       "    <line x1=\"3.11\" y1=\"-2.53\" x2=\"2.40\" y2=\"-2.11\"/>\n",
       "    <line x1=\"3.92\" y1=\"-2.06\" x2=\"3.92\" y2=\"-1.24\"/>\n",
       "    <line x1=\"3.80\" y1=\"-2.06\" x2=\"3.80\" y2=\"-1.24\"/>\n",
       "    <line x1=\"3.86\" y1=\"-1.24\" x2=\"3.14\" y2=\"-0.82\"/>\n",
       "    <line x1=\"3.11\" y1=\"-0.77\" x2=\"2.40\" y2=\"-1.19\"/>\n",
       "    <line x1=\"3.17\" y1=\"-0.88\" x2=\"2.46\" y2=\"-1.29\"/>\n",
       "    <line x1=\"2.43\" y1=\"-1.24\" x2=\"2.43\" y2=\"-2.06\"/>\n",
       "  </g>\n",
       "  <g font-family=\"monospace\">\n",
       "    <g fill=\"#0305A7\" font-size=\"0.25\">\n",
       "      <text x=\"3.14\" y=\"-2.48\" dx=\"-0.05\" dy=\"0.20\" text-anchor=\"end\">4</text>\n",
       "      <text x=\"3.86\" y=\"-2.06\" dx=\"-0.05\" dy=\"0.20\" text-anchor=\"end\">5</text>\n",
       "      <text x=\"3.86\" y=\"-1.24\" dx=\"-0.05\" dy=\"0.20\" text-anchor=\"end\">6</text>\n",
       "      <text x=\"3.14\" y=\"-0.82\" dx=\"-0.05\" dy=\"0.20\" text-anchor=\"end\">7</text>\n",
       "      <text x=\"2.43\" y=\"-1.24\" dx=\"-0.05\" dy=\"0.20\" text-anchor=\"end\">8</text>\n",
       "      <text x=\"2.43\" y=\"-2.06\" dx=\"-0.05\" dy=\"0.20\" text-anchor=\"end\">9</text>\n",
       "    </g>\n",
       "  </g>\n",
       "</svg>"
      ],
      "text/plain": [
       "<CGRtools.containers.molecule.MoleculeContainer at 0x7fa7e55309a0>"
      ]
     },
     "execution_count": 5,
     "metadata": {},
     "output_type": "execute_result"
    }
   ],
   "source": [
    "benzene"
   ]
  },
  {
   "cell_type": "code",
   "execution_count": 6,
   "metadata": {},
   "outputs": [
    {
     "name": "stdout",
     "output_type": "stream",
     "text": [
      "True\n",
      "False\n",
      "True\n",
      "False\n",
      "False\n",
      "True\n"
     ]
    }
   ],
   "source": [
    "# isomorphism operations\n",
    "print(benzene < m7)  # benzene is substructure of m7\n",
    "print(benzene > m7)  # benzene is not superstructure of m7\n",
    "print(benzene <= m7) # benzene is substructure/or same structure of m7\n",
    "print(benzene >= m7) # benzene is not superstructure/or same structure of m7\n",
    "print(benzene < m8) # benzene is not substructure of m8. it's equal\n",
    "print(benzene <= m8)"
   ]
  },
  {
   "cell_type": "code",
   "execution_count": 7,
   "metadata": {},
   "outputs": [
    {
     "data": {
      "image/svg+xml": [
       "<svg width=\"2.93cm\" height=\"1.66cm\" viewBox=\"-0.62 -1.04 2.93 1.66\" xmlns=\"http://www.w3.org/2000/svg\" version=\"1.1\">\n",
       "  <defs>\n",
       "    <mask id=\"mask-fd1b2c00-df41-431d-9680-d29acdfdec03\">\n",
       "      <rect x=\"-0.62\" y=\"-1.04\" width=\"2.93\" height=\"1.66\" fill=\"white\"/>\n",
       "      <g fill=\"black\">\n",
       "        <circle cx=\"1.43\" cy=\"-0.41\" r=\"0.20\"/>\n",
       "      </g>\n",
       "      <g font-family=\"monospace\" stroke=\"black\">\n",
       "        <g font-family=\"sans-serif\" font-size=\"0.50\" stroke-width=\"0.05\">\n",
       "         <text x=\"1.43\" y=\"-0.41\" dx=\"-0.20\" dy=\"0.20\">OH</text>\n",
       "        </g>\n",
       "        <g font-size=\"0.25\" stroke-width=\"0.03\">\n",
       "         <text x=\"0.00\" y=\"-0.41\" dx=\"-0.05\" dy=\"0.20\" text-anchor=\"end\">3</text>\n",
       "         <text x=\"0.71\" y=\"-0.00\" dx=\"-0.05\" dy=\"0.20\" text-anchor=\"end\">4</text>\n",
       "         <text x=\"1.43\" y=\"-0.41\" dx=\"-0.15\" dy=\"0.35\" text-anchor=\"end\">1</text>\n",
       "        </g>\n",
       "      </g>\n",
       "    </mask>\n",
       "  </defs>\n",
       "  <g fill=\"none\" stroke=\"black\" stroke-width=\"0.04\"  mask=\"url(#mask-fd1b2c00-df41-431d-9680-d29acdfdec03)\">\n",
       "    <line x1=\"0.00\" y1=\"-0.41\" x2=\"0.71\" y2=\"-0.00\"/>\n",
       "    <line x1=\"0.71\" y1=\"-0.00\" x2=\"1.43\" y2=\"-0.41\"/>\n",
       "  </g>\n",
       "  <g font-family=\"monospace\">\n",
       "    <g fill=\"#FF0D0D\" font-family=\"sans-serif\">\n",
       "      <text x=\"1.43\" y=\"-0.41\" dx=\"-0.20\" dy=\"0.20\" font-size=\"0.50\">OH</text>\n",
       "    </g>\n",
       "    <g fill=\"#0305A7\" font-size=\"0.25\">\n",
       "      <text x=\"0.00\" y=\"-0.41\" dx=\"-0.05\" dy=\"0.20\" text-anchor=\"end\">3</text>\n",
       "      <text x=\"0.71\" y=\"-0.00\" dx=\"-0.05\" dy=\"0.20\" text-anchor=\"end\">4</text>\n",
       "      <text x=\"1.43\" y=\"-0.41\" dx=\"-0.15\" dy=\"0.35\" text-anchor=\"end\">1</text>\n",
       "    </g>\n",
       "  </g>\n",
       "</svg>"
      ],
      "text/plain": [
       "<CGRtools.containers.molecule.MoleculeContainer at 0x7fa7e5584cc0>"
      ]
     },
     "execution_count": 7,
     "metadata": {},
     "output_type": "execute_result"
    }
   ],
   "source": [
    "m5"
   ]
  },
  {
   "cell_type": "code",
   "execution_count": 8,
   "metadata": {},
   "outputs": [
    {
     "data": {
      "image/svg+xml": [
       "<svg width=\"3.56cm\" height=\"3.39cm\" viewBox=\"1.80 -2.77 3.56 3.39\" xmlns=\"http://www.w3.org/2000/svg\" version=\"1.1\">\n",
       "  <defs>\n",
       "    <mask id=\"mask-14d11e9c-b535-44ab-89ea-4b5eb1146133\">\n",
       "      <rect x=\"1.80\" y=\"-2.77\" width=\"3.56\" height=\"3.39\" fill=\"white\"/>\n",
       "      <g fill=\"black\">\n",
       "        <circle cx=\"3.25\" cy=\"-2.14\" r=\"0.20\"/>\n",
       "        <circle cx=\"4.49\" cy=\"-1.43\" r=\"0.20\"/>\n",
       "        <circle cx=\"3.67\" cy=\"-0.00\" r=\"0.20\"/>\n",
       "        <circle cx=\"2.43\" cy=\"-0.71\" r=\"0.20\"/>\n",
       "      </g>\n",
       "      <g font-family=\"monospace\" stroke=\"black\">\n",
       "        <g font-family=\"sans-serif\" font-size=\"0.50\" stroke-width=\"0.05\">\n",
       "         <text x=\"3.25\" y=\"-2.14\" dx=\"-0.20\" dy=\"0.20\">O</text>\n",
       "         <text x=\"4.49\" y=\"-1.43\" dx=\"-0.20\" dy=\"0.20\">OH</text>\n",
       "         <text x=\"3.67\" y=\"-0.00\" dx=\"-0.20\" dy=\"0.20\">O</text>\n",
       "         <text x=\"2.43\" y=\"-0.71\" dx=\"-0.20\" dy=\"0.20\">OH</text>\n",
       "        </g>\n",
       "        <g font-size=\"0.25\" stroke-width=\"0.03\">\n",
       "         <text x=\"3.67\" y=\"-1.43\" dx=\"-0.05\" dy=\"0.20\" text-anchor=\"end\">5</text>\n",
       "         <text x=\"3.25\" y=\"-0.71\" dx=\"-0.05\" dy=\"0.20\" text-anchor=\"end\">6</text>\n",
       "         <text x=\"3.25\" y=\"-2.14\" dx=\"-0.15\" dy=\"0.35\" text-anchor=\"end\">7</text>\n",
       "         <text x=\"4.49\" y=\"-1.43\" dx=\"-0.15\" dy=\"0.35\" text-anchor=\"end\">8</text>\n",
       "         <text x=\"3.67\" y=\"-0.00\" dx=\"-0.15\" dy=\"0.35\" text-anchor=\"end\">9</text>\n",
       "         <text x=\"2.43\" y=\"-0.71\" dx=\"-0.15\" dy=\"0.35\" text-anchor=\"end\">10</text>\n",
       "        </g>\n",
       "      </g>\n",
       "    </mask>\n",
       "  </defs>\n",
       "  <g fill=\"none\" stroke=\"black\" stroke-width=\"0.04\"  mask=\"url(#mask-14d11e9c-b535-44ab-89ea-4b5eb1146133)\">\n",
       "    <line x1=\"3.67\" y1=\"-1.43\" x2=\"3.25\" y2=\"-0.71\"/>\n",
       "    <line x1=\"3.61\" y1=\"-1.40\" x2=\"3.20\" y2=\"-2.11\"/>\n",
       "    <line x1=\"3.72\" y1=\"-1.46\" x2=\"3.31\" y2=\"-2.17\"/>\n",
       "    <line x1=\"3.67\" y1=\"-1.43\" x2=\"4.49\" y2=\"-1.43\"/>\n",
       "    <line x1=\"3.31\" y1=\"-0.74\" x2=\"3.72\" y2=\"-0.03\"/>\n",
       "    <line x1=\"3.20\" y1=\"-0.68\" x2=\"3.61\" y2=\"0.03\"/>\n",
       "    <line x1=\"3.25\" y1=\"-0.71\" x2=\"2.43\" y2=\"-0.71\"/>\n",
       "  </g>\n",
       "  <g font-family=\"monospace\">\n",
       "    <g fill=\"#FF0D0D\" font-family=\"sans-serif\">\n",
       "      <text x=\"3.25\" y=\"-2.14\" dx=\"-0.20\" dy=\"0.20\" font-size=\"0.50\">O</text>\n",
       "    </g>\n",
       "    <g fill=\"#FF0D0D\" font-family=\"sans-serif\">\n",
       "      <text x=\"4.49\" y=\"-1.43\" dx=\"-0.20\" dy=\"0.20\" font-size=\"0.50\">OH</text>\n",
       "    </g>\n",
       "    <g fill=\"#FF0D0D\" font-family=\"sans-serif\">\n",
       "      <text x=\"3.67\" y=\"-0.00\" dx=\"-0.20\" dy=\"0.20\" font-size=\"0.50\">O</text>\n",
       "    </g>\n",
       "    <g fill=\"#FF0D0D\" font-family=\"sans-serif\">\n",
       "      <text x=\"2.43\" y=\"-0.71\" dx=\"-0.20\" dy=\"0.20\" font-size=\"0.50\">OH</text>\n",
       "    </g>\n",
       "    <g fill=\"#0305A7\" font-size=\"0.25\">\n",
       "      <text x=\"3.67\" y=\"-1.43\" dx=\"-0.05\" dy=\"0.20\" text-anchor=\"end\">5</text>\n",
       "      <text x=\"3.25\" y=\"-0.71\" dx=\"-0.05\" dy=\"0.20\" text-anchor=\"end\">6</text>\n",
       "      <text x=\"3.25\" y=\"-2.14\" dx=\"-0.15\" dy=\"0.35\" text-anchor=\"end\">7</text>\n",
       "      <text x=\"4.49\" y=\"-1.43\" dx=\"-0.15\" dy=\"0.35\" text-anchor=\"end\">8</text>\n",
       "      <text x=\"3.67\" y=\"-0.00\" dx=\"-0.15\" dy=\"0.35\" text-anchor=\"end\">9</text>\n",
       "      <text x=\"2.43\" y=\"-0.71\" dx=\"-0.15\" dy=\"0.35\" text-anchor=\"end\">10</text>\n",
       "    </g>\n",
       "  </g>\n",
       "</svg>"
      ],
      "text/plain": [
       "<CGRtools.containers.molecule.MoleculeContainer at 0x7fa7e5584d60>"
      ]
     },
     "execution_count": 8,
     "metadata": {},
     "output_type": "execute_result"
    }
   ],
   "source": [
    "m6"
   ]
  },
  {
   "cell_type": "markdown",
   "metadata": {},
   "source": [
    "Mappings of substructure or structure to structure can be returned using `substructure.get_mapping(structure)` method. Method acts as generator.\n",
    "\n",
    "This functionality was developed to reorder atoms of two MoleculeContainers in the same order (the dictionary that is given by this method could be directly fed to remap function, see above) for some reaction handling issues."
   ]
  },
  {
   "cell_type": "code",
   "execution_count": 9,
   "metadata": {},
   "outputs": [
    {
     "data": {
      "text/plain": [
       "{3: 5, 1: 10, 4: 6}"
      ]
     },
     "execution_count": 9,
     "metadata": {},
     "output_type": "execute_result"
    }
   ],
   "source": [
    "next(m5.get_mapping(m6))  # mapping of m5 substructure into m2 superstructure"
   ]
  },
  {
   "cell_type": "code",
   "execution_count": 10,
   "metadata": {},
   "outputs": [
    {
     "name": "stdout",
     "output_type": "stream",
     "text": [
      "{3: 5, 1: 10, 4: 6}\n",
      "{3: 6, 1: 8, 4: 5}\n"
     ]
    }
   ],
   "source": [
    "for m in m5.get_mapping(m6):  # iterate over all possible substructure mappings\n",
    "    print(m)"
   ]
  },
  {
   "cell_type": "code",
   "execution_count": 11,
   "metadata": {},
   "outputs": [
    {
     "data": {
      "text/plain": [
       "{5: 8, 4: 9, 9: 4, 8: 5, 7: 6, 6: 7}"
      ]
     },
     "execution_count": 11,
     "metadata": {},
     "output_type": "execute_result"
    }
   ],
   "source": [
    "next(benzene.get_mapping(m8))  # mapping of benzene into m8 - also benzene."
   ]
  },
  {
   "cell_type": "markdown",
   "metadata": {},
   "source": [
    "## 4.2. Reactions\n",
    "ReactionContainers do not support isomorphism due to ambiguity. But molecules in reaction can be matched.\n"
   ]
  },
  {
   "cell_type": "code",
   "execution_count": 12,
   "metadata": {},
   "outputs": [
    {
     "name": "stdout",
     "output_type": "stream",
     "text": [
      "Traceback (most recent call last):\n",
      "  File \"<ipython-input-12-7ad8567b633a>\", line 2, in <module>\n",
      "    m6 < r1\n",
      "  File \"/home/stsouko/bydlocoding/CGRtools/CGRtools/algorithms/isomorphism.py\", line 47, in __lt__\n",
      "    if len(self) >= len(other):\n",
      "TypeError: object of type 'ReactionContainer' has no len()\n",
      "\n"
     ]
    }
   ],
   "source": [
    "try:            # it is not possible to match molecule and reaction. Error is returned\n",
    "    m6 < r1\n",
    "except TypeError:\n",
    "    print(format_exc())"
   ]
  },
  {
   "cell_type": "code",
   "execution_count": 13,
   "metadata": {},
   "outputs": [
    {
     "data": {
      "image/svg+xml": [
       "<svg width=\"17.82cm\" height=\"3.39cm\" viewBox=\"-0.62 -1.70 17.82 3.39\" xmlns=\"http://www.w3.org/2000/svg\" version=\"1.1\">\n",
       "  <defs>\n",
       "    <marker id=\"arrow\" markerWidth=\"10\" markerHeight=\"10\" refX=\"0\" refY=\"3\" orient=\"auto\">\n",
       "      <path d=\"M0,0 L0,6 L9,3\"/>\n",
       "    </marker>\n",
       "    <mask id=\"mask-4ac6a6b2-b30f-4080-995c-4ef1fbd773da\">\n",
       "      <rect x=\"-0.62\" y=\"-1.70\" width=\"17.82\" height=\"3.39\" fill=\"white\"/>\n",
       "      <g fill=\"black\">\n",
       "        <circle cx=\"1.43\" cy=\"-0.21\" r=\"0.20\"/>\n",
       "        <circle cx=\"3.45\" cy=\"-1.07\" r=\"0.20\"/>\n",
       "        <circle cx=\"4.69\" cy=\"-0.36\" r=\"0.20\"/>\n",
       "        <circle cx=\"3.87\" cy=\"1.07\" r=\"0.20\"/>\n",
       "        <circle cx=\"2.63\" cy=\"0.36\" r=\"0.20\"/>\n",
       "        <circle cx=\"7.32\" cy=\"-0.21\" r=\"0.20\"/>\n",
       "        <circle cx=\"14.89\" cy=\"-0.21\" r=\"0.20\"/>\n",
       "        <circle cx=\"12.75\" cy=\"0.21\" r=\"0.20\"/>\n",
       "        <circle cx=\"13.46\" cy=\"-1.03\" r=\"0.20\"/>\n",
       "        <circle cx=\"14.18\" cy=\"1.03\" r=\"0.20\"/>\n",
       "      </g>\n",
       "      <g font-family=\"monospace\" stroke=\"black\">\n",
       "        <g font-family=\"sans-serif\" font-size=\"0.50\" stroke-width=\"0.05\">\n",
       "         <text x=\"1.43\" y=\"-0.21\" dx=\"-0.20\" dy=\"0.20\">OH</text>\n",
       "         <text x=\"3.45\" y=\"-1.07\" dx=\"-0.20\" dy=\"0.20\">O</text>\n",
       "         <text x=\"4.69\" y=\"-0.36\" dx=\"-0.20\" dy=\"0.20\">OH</text>\n",
       "         <text x=\"3.87\" y=\"1.07\" dx=\"-0.20\" dy=\"0.20\">O</text>\n",
       "         <text x=\"2.63\" y=\"0.36\" dx=\"-0.20\" dy=\"0.20\">OH</text>\n",
       "         <text x=\"7.32\" y=\"-0.21\" dx=\"-0.20\" dy=\"0.20\">O</text>\n",
       "         <text x=\"14.89\" y=\"-0.21\" dx=\"-0.20\" dy=\"0.20\">O</text>\n",
       "         <text x=\"12.75\" y=\"0.21\" dx=\"-0.20\" dy=\"0.20\">O</text>\n",
       "         <text x=\"13.46\" y=\"-1.03\" dx=\"-0.20\" dy=\"0.20\">O</text>\n",
       "         <text x=\"14.18\" y=\"1.03\" dx=\"-0.20\" dy=\"0.20\">O</text>\n",
       "        </g>\n",
       "        <g font-size=\"0.25\" stroke-width=\"0.03\">\n",
       "         <text x=\"0.00\" y=\"-0.21\" dx=\"-0.05\" dy=\"0.20\" text-anchor=\"end\">3</text>\n",
       "         <text x=\"0.71\" y=\"0.21\" dx=\"-0.05\" dy=\"0.20\" text-anchor=\"end\">4</text>\n",
       "         <text x=\"1.43\" y=\"-0.21\" dx=\"-0.15\" dy=\"0.35\" text-anchor=\"end\">1</text>\n",
       "         <text x=\"3.87\" y=\"-0.36\" dx=\"-0.05\" dy=\"0.20\" text-anchor=\"end\">5</text>\n",
       "         <text x=\"3.45\" y=\"0.36\" dx=\"-0.05\" dy=\"0.20\" text-anchor=\"end\">6</text>\n",
       "         <text x=\"3.45\" y=\"-1.07\" dx=\"-0.15\" dy=\"0.35\" text-anchor=\"end\">7</text>\n",
       "         <text x=\"4.69\" y=\"-0.36\" dx=\"-0.15\" dy=\"0.35\" text-anchor=\"end\">8</text>\n",
       "         <text x=\"3.87\" y=\"1.07\" dx=\"-0.15\" dy=\"0.35\" text-anchor=\"end\">9</text>\n",
       "         <text x=\"2.63\" y=\"0.36\" dx=\"-0.15\" dy=\"0.35\" text-anchor=\"end\">10</text>\n",
       "         <text x=\"6.61\" y=\"0.21\" dx=\"-0.05\" dy=\"0.20\" text-anchor=\"end\">11</text>\n",
       "         <text x=\"5.89\" y=\"-0.21\" dx=\"-0.05\" dy=\"0.20\" text-anchor=\"end\">12</text>\n",
       "         <text x=\"7.32\" y=\"-0.21\" dx=\"-0.15\" dy=\"0.35\" text-anchor=\"end\">2</text>\n",
       "         <text x=\"14.18\" y=\"0.21\" dx=\"-0.05\" dy=\"0.20\" text-anchor=\"end\">5</text>\n",
       "         <text x=\"13.46\" y=\"-0.21\" dx=\"-0.05\" dy=\"0.20\" text-anchor=\"end\">6</text>\n",
       "         <text x=\"14.89\" y=\"-0.21\" dx=\"-0.15\" dy=\"0.35\" text-anchor=\"end\">2</text>\n",
       "         <text x=\"12.75\" y=\"0.21\" dx=\"-0.15\" dy=\"0.35\" text-anchor=\"end\">1</text>\n",
       "         <text x=\"13.46\" y=\"-1.03\" dx=\"-0.15\" dy=\"0.35\" text-anchor=\"end\">9</text>\n",
       "         <text x=\"14.18\" y=\"1.03\" dx=\"-0.15\" dy=\"0.35\" text-anchor=\"end\">7</text>\n",
       "         <text x=\"15.61\" y=\"0.21\" dx=\"-0.05\" dy=\"0.20\" text-anchor=\"end\">11</text>\n",
       "         <text x=\"16.32\" y=\"-0.21\" dx=\"-0.05\" dy=\"0.20\" text-anchor=\"end\">12</text>\n",
       "         <text x=\"12.03\" y=\"-0.21\" dx=\"-0.05\" dy=\"0.20\" text-anchor=\"end\">4</text>\n",
       "         <text x=\"11.32\" y=\"0.21\" dx=\"-0.05\" dy=\"0.20\" text-anchor=\"end\">3</text>\n",
       "        </g>\n",
       "        <g font-family=\"monospace\" font-size=\"0.3\" stroke-width=\"0.03\">\n",
       "         <text x=\"7.32\" y=\"-0.21\" dx=\"0.05\" dy=\"-0.20\">-</text>\n",
       "        </g>\n",
       "      </g>\n",
       "    </mask>\n",
       "  </defs>\n",
       "  <line x1=\"8.32\" y1=\"0\" x2=\"10.32\" y2=\"0\" fill=\"none\" stroke=\"black\" stroke-width=\".04\" marker-end=\"url(#arrow)\"/>\n",
       "  <g fill=\"none\" stroke=\"black\" stroke-width=\"0.04\" mask=\"url(#mask-4ac6a6b2-b30f-4080-995c-4ef1fbd773da)\">\n",
       "    <line x1=\"-0.62\" y1=\"-1.70\" x2=\"17.20\" y2=\"-1.70\" stroke=\"none\"/>\n",
       "    <line x1=\"0.00\" y1=\"-0.21\" x2=\"0.71\" y2=\"0.21\"/>\n",
       "    <line x1=\"0.71\" y1=\"0.21\" x2=\"1.43\" y2=\"-0.21\"/>\n",
       "    <line x1=\"3.87\" y1=\"-0.36\" x2=\"3.45\" y2=\"0.36\"/>\n",
       "    <line x1=\"3.81\" y1=\"-0.33\" x2=\"3.40\" y2=\"-1.04\"/>\n",
       "    <line x1=\"3.92\" y1=\"-0.39\" x2=\"3.51\" y2=\"-1.10\"/>\n",
       "    <line x1=\"3.87\" y1=\"-0.36\" x2=\"4.69\" y2=\"-0.36\"/>\n",
       "    <line x1=\"3.51\" y1=\"0.33\" x2=\"3.92\" y2=\"1.04\"/>\n",
       "    <line x1=\"3.40\" y1=\"0.39\" x2=\"3.81\" y2=\"1.10\"/>\n",
       "    <line x1=\"3.45\" y1=\"0.36\" x2=\"2.63\" y2=\"0.36\"/>\n",
       "    <line x1=\"6.61\" y1=\"0.21\" x2=\"5.89\" y2=\"-0.21\"/>\n",
       "    <line x1=\"6.61\" y1=\"0.21\" x2=\"7.32\" y2=\"-0.21\"/>\n",
       "    <line x1=\"14.18\" y1=\"0.21\" x2=\"13.46\" y2=\"-0.21\"/>\n",
       "    <line x1=\"14.18\" y1=\"0.21\" x2=\"14.89\" y2=\"-0.21\"/>\n",
       "    <line x1=\"14.24\" y1=\"0.21\" x2=\"14.24\" y2=\"1.03\"/>\n",
       "    <line x1=\"14.12\" y1=\"0.21\" x2=\"14.12\" y2=\"1.03\"/>\n",
       "    <line x1=\"13.46\" y1=\"-0.21\" x2=\"12.75\" y2=\"0.21\"/>\n",
       "    <line x1=\"13.40\" y1=\"-0.21\" x2=\"13.40\" y2=\"-1.03\"/>\n",
       "    <line x1=\"13.52\" y1=\"-0.21\" x2=\"13.52\" y2=\"-1.03\"/>\n",
       "    <line x1=\"14.89\" y1=\"-0.21\" x2=\"15.61\" y2=\"0.21\"/>\n",
       "    <line x1=\"12.75\" y1=\"0.21\" x2=\"12.03\" y2=\"-0.21\"/>\n",
       "    <line x1=\"15.61\" y1=\"0.21\" x2=\"16.32\" y2=\"-0.21\"/>\n",
       "    <line x1=\"12.03\" y1=\"-0.21\" x2=\"11.32\" y2=\"0.21\"/>\n",
       "  </g>\n",
       "  <g fill=\"none\" stroke=\"black\" stroke-width=\".04\" >\n",
       "    <line x1=\"1.98\" y1=\"0\" x2=\"2.28\" y2=\"0\"/>\n",
       "    <line x1=\"2.13\" y1=\"0.15\" x2=\"2.13\" y2=\"-0.15\"/>\n",
       "    <line x1=\"5.24\" y1=\"0\" x2=\"5.54\" y2=\"0\"/>\n",
       "    <line x1=\"5.39\" y1=\"0.15\" x2=\"5.39\" y2=\"-0.15\"/>\n",
       "  </g>\n",
       "  <g font-family=\"monospace\">\n",
       "    <g fill=\"#FF0D0D\" font-family=\"sans-serif\">\n",
       "      <text x=\"1.43\" y=\"-0.21\" dx=\"-0.20\" dy=\"0.20\" font-size=\"0.50\">OH</text>\n",
       "    </g>\n",
       "    <g fill=\"#0305A7\" font-size=\"0.25\">\n",
       "      <text x=\"0.00\" y=\"-0.21\" dx=\"-0.05\" dy=\"0.20\" text-anchor=\"end\">3</text>\n",
       "      <text x=\"0.71\" y=\"0.21\" dx=\"-0.05\" dy=\"0.20\" text-anchor=\"end\">4</text>\n",
       "      <text x=\"1.43\" y=\"-0.21\" dx=\"-0.15\" dy=\"0.35\" text-anchor=\"end\">1</text>\n",
       "    </g>\n",
       "    <g fill=\"#FF0D0D\" font-family=\"sans-serif\">\n",
       "      <text x=\"3.45\" y=\"-1.07\" dx=\"-0.20\" dy=\"0.20\" font-size=\"0.50\">O</text>\n",
       "    </g>\n",
       "    <g fill=\"#FF0D0D\" font-family=\"sans-serif\">\n",
       "      <text x=\"4.69\" y=\"-0.36\" dx=\"-0.20\" dy=\"0.20\" font-size=\"0.50\">OH</text>\n",
       "    </g>\n",
       "    <g fill=\"#FF0D0D\" font-family=\"sans-serif\">\n",
       "      <text x=\"3.87\" y=\"1.07\" dx=\"-0.20\" dy=\"0.20\" font-size=\"0.50\">O</text>\n",
       "    </g>\n",
       "    <g fill=\"#FF0D0D\" font-family=\"sans-serif\">\n",
       "      <text x=\"2.63\" y=\"0.36\" dx=\"-0.20\" dy=\"0.20\" font-size=\"0.50\">OH</text>\n",
       "    </g>\n",
       "    <g fill=\"#0305A7\" font-size=\"0.25\">\n",
       "      <text x=\"3.87\" y=\"-0.36\" dx=\"-0.05\" dy=\"0.20\" text-anchor=\"end\">5</text>\n",
       "      <text x=\"3.45\" y=\"0.36\" dx=\"-0.05\" dy=\"0.20\" text-anchor=\"end\">6</text>\n",
       "      <text x=\"3.45\" y=\"-1.07\" dx=\"-0.15\" dy=\"0.35\" text-anchor=\"end\">7</text>\n",
       "      <text x=\"4.69\" y=\"-0.36\" dx=\"-0.15\" dy=\"0.35\" text-anchor=\"end\">8</text>\n",
       "      <text x=\"3.87\" y=\"1.07\" dx=\"-0.15\" dy=\"0.35\" text-anchor=\"end\">9</text>\n",
       "      <text x=\"2.63\" y=\"0.36\" dx=\"-0.15\" dy=\"0.35\" text-anchor=\"end\">10</text>\n",
       "    </g>\n",
       "    <g fill=\"#FF0D0D\" font-family=\"sans-serif\">\n",
       "      <text x=\"7.32\" y=\"-0.21\" dx=\"-0.20\" dy=\"0.20\" font-size=\"0.50\">O</text>\n",
       "    </g>\n",
       "    <g font-family=\"monospace\" fill=\"black\" font-size=\"0.30\">\n",
       "      <text x=\"7.32\" y=\"-0.21\" dx=\"0.05\" dy=\"-0.20\">-</text>\n",
       "    </g>\n",
       "    <g fill=\"#0305A7\" font-size=\"0.25\">\n",
       "      <text x=\"6.61\" y=\"0.21\" dx=\"-0.05\" dy=\"0.20\" text-anchor=\"end\">11</text>\n",
       "      <text x=\"5.89\" y=\"-0.21\" dx=\"-0.05\" dy=\"0.20\" text-anchor=\"end\">12</text>\n",
       "      <text x=\"7.32\" y=\"-0.21\" dx=\"-0.15\" dy=\"0.35\" text-anchor=\"end\">2</text>\n",
       "    </g>\n",
       "    <g fill=\"#FF0D0D\" font-family=\"sans-serif\">\n",
       "      <text x=\"14.89\" y=\"-0.21\" dx=\"-0.20\" dy=\"0.20\" font-size=\"0.50\">O</text>\n",
       "    </g>\n",
       "    <g fill=\"#FF0D0D\" font-family=\"sans-serif\">\n",
       "      <text x=\"12.75\" y=\"0.21\" dx=\"-0.20\" dy=\"0.20\" font-size=\"0.50\">O</text>\n",
       "    </g>\n",
       "    <g fill=\"#FF0D0D\" font-family=\"sans-serif\">\n",
       "      <text x=\"13.46\" y=\"-1.03\" dx=\"-0.20\" dy=\"0.20\" font-size=\"0.50\">O</text>\n",
       "    </g>\n",
       "    <g fill=\"#FF0D0D\" font-family=\"sans-serif\">\n",
       "      <text x=\"14.18\" y=\"1.03\" dx=\"-0.20\" dy=\"0.20\" font-size=\"0.50\">O</text>\n",
       "    </g>\n",
       "    <g fill=\"#0305A7\" font-size=\"0.25\">\n",
       "      <text x=\"14.18\" y=\"0.21\" dx=\"-0.05\" dy=\"0.20\" text-anchor=\"end\">5</text>\n",
       "      <text x=\"13.46\" y=\"-0.21\" dx=\"-0.05\" dy=\"0.20\" text-anchor=\"end\">6</text>\n",
       "      <text x=\"14.89\" y=\"-0.21\" dx=\"-0.15\" dy=\"0.35\" text-anchor=\"end\">2</text>\n",
       "      <text x=\"12.75\" y=\"0.21\" dx=\"-0.15\" dy=\"0.35\" text-anchor=\"end\">1</text>\n",
       "      <text x=\"13.46\" y=\"-1.03\" dx=\"-0.15\" dy=\"0.35\" text-anchor=\"end\">9</text>\n",
       "      <text x=\"14.18\" y=\"1.03\" dx=\"-0.15\" dy=\"0.35\" text-anchor=\"end\">7</text>\n",
       "      <text x=\"15.61\" y=\"0.21\" dx=\"-0.05\" dy=\"0.20\" text-anchor=\"end\">11</text>\n",
       "      <text x=\"16.32\" y=\"-0.21\" dx=\"-0.05\" dy=\"0.20\" text-anchor=\"end\">12</text>\n",
       "      <text x=\"12.03\" y=\"-0.21\" dx=\"-0.05\" dy=\"0.20\" text-anchor=\"end\">4</text>\n",
       "      <text x=\"11.32\" y=\"0.21\" dx=\"-0.05\" dy=\"0.20\" text-anchor=\"end\">3</text>\n",
       "    </g>\n",
       "  </g>\n",
       "</svg>"
      ],
      "text/plain": [
       "<CGRtools.containers.reaction.ReactionContainer at 0x7fa7e5563040>"
      ]
     },
     "execution_count": 13,
     "metadata": {},
     "output_type": "execute_result"
    }
   ],
   "source": [
    "r1 # see structure in products"
   ]
  },
  {
   "cell_type": "code",
   "execution_count": 14,
   "metadata": {},
   "outputs": [
    {
     "data": {
      "image/svg+xml": [
       "<svg width=\"3.56cm\" height=\"3.39cm\" viewBox=\"2.00 -1.70 3.56 3.39\" xmlns=\"http://www.w3.org/2000/svg\" version=\"1.1\">\n",
       "  <defs>\n",
       "    <mask id=\"mask-7c3a69dc-65ea-428b-83a8-9c662ed70ae3\">\n",
       "      <rect x=\"2.00\" y=\"-1.70\" width=\"3.56\" height=\"3.39\" fill=\"white\"/>\n",
       "      <g fill=\"black\">\n",
       "        <circle cx=\"3.45\" cy=\"-1.07\" r=\"0.20\"/>\n",
       "        <circle cx=\"4.69\" cy=\"-0.36\" r=\"0.20\"/>\n",
       "        <circle cx=\"3.87\" cy=\"1.07\" r=\"0.20\"/>\n",
       "        <circle cx=\"2.63\" cy=\"0.36\" r=\"0.20\"/>\n",
       "      </g>\n",
       "      <g font-family=\"monospace\" stroke=\"black\">\n",
       "        <g font-family=\"sans-serif\" font-size=\"0.50\" stroke-width=\"0.05\">\n",
       "         <text x=\"3.45\" y=\"-1.07\" dx=\"-0.20\" dy=\"0.20\">O</text>\n",
       "         <text x=\"4.69\" y=\"-0.36\" dx=\"-0.20\" dy=\"0.20\">OH</text>\n",
       "         <text x=\"3.87\" y=\"1.07\" dx=\"-0.20\" dy=\"0.20\">O</text>\n",
       "         <text x=\"2.63\" y=\"0.36\" dx=\"-0.20\" dy=\"0.20\">OH</text>\n",
       "        </g>\n",
       "        <g font-size=\"0.25\" stroke-width=\"0.03\">\n",
       "         <text x=\"3.87\" y=\"-0.36\" dx=\"-0.05\" dy=\"0.20\" text-anchor=\"end\">5</text>\n",
       "         <text x=\"3.45\" y=\"0.36\" dx=\"-0.05\" dy=\"0.20\" text-anchor=\"end\">6</text>\n",
       "         <text x=\"3.45\" y=\"-1.07\" dx=\"-0.15\" dy=\"0.35\" text-anchor=\"end\">7</text>\n",
       "         <text x=\"4.69\" y=\"-0.36\" dx=\"-0.15\" dy=\"0.35\" text-anchor=\"end\">8</text>\n",
       "         <text x=\"3.87\" y=\"1.07\" dx=\"-0.15\" dy=\"0.35\" text-anchor=\"end\">9</text>\n",
       "         <text x=\"2.63\" y=\"0.36\" dx=\"-0.15\" dy=\"0.35\" text-anchor=\"end\">10</text>\n",
       "        </g>\n",
       "      </g>\n",
       "    </mask>\n",
       "  </defs>\n",
       "  <g fill=\"none\" stroke=\"black\" stroke-width=\"0.04\"  mask=\"url(#mask-7c3a69dc-65ea-428b-83a8-9c662ed70ae3)\">\n",
       "    <line x1=\"3.87\" y1=\"-0.36\" x2=\"3.45\" y2=\"0.36\"/>\n",
       "    <line x1=\"3.81\" y1=\"-0.33\" x2=\"3.40\" y2=\"-1.04\"/>\n",
       "    <line x1=\"3.92\" y1=\"-0.39\" x2=\"3.51\" y2=\"-1.10\"/>\n",
       "    <line x1=\"3.87\" y1=\"-0.36\" x2=\"4.69\" y2=\"-0.36\"/>\n",
       "    <line x1=\"3.51\" y1=\"0.33\" x2=\"3.92\" y2=\"1.04\"/>\n",
       "    <line x1=\"3.40\" y1=\"0.39\" x2=\"3.81\" y2=\"1.10\"/>\n",
       "    <line x1=\"3.45\" y1=\"0.36\" x2=\"2.63\" y2=\"0.36\"/>\n",
       "  </g>\n",
       "  <g font-family=\"monospace\">\n",
       "    <g fill=\"#FF0D0D\" font-family=\"sans-serif\">\n",
       "      <text x=\"3.45\" y=\"-1.07\" dx=\"-0.20\" dy=\"0.20\" font-size=\"0.50\">O</text>\n",
       "    </g>\n",
       "    <g fill=\"#FF0D0D\" font-family=\"sans-serif\">\n",
       "      <text x=\"4.69\" y=\"-0.36\" dx=\"-0.20\" dy=\"0.20\" font-size=\"0.50\">OH</text>\n",
       "    </g>\n",
       "    <g fill=\"#FF0D0D\" font-family=\"sans-serif\">\n",
       "      <text x=\"3.87\" y=\"1.07\" dx=\"-0.20\" dy=\"0.20\" font-size=\"0.50\">O</text>\n",
       "    </g>\n",
       "    <g fill=\"#FF0D0D\" font-family=\"sans-serif\">\n",
       "      <text x=\"2.63\" y=\"0.36\" dx=\"-0.20\" dy=\"0.20\" font-size=\"0.50\">OH</text>\n",
       "    </g>\n",
       "    <g fill=\"#0305A7\" font-size=\"0.25\">\n",
       "      <text x=\"3.87\" y=\"-0.36\" dx=\"-0.05\" dy=\"0.20\" text-anchor=\"end\">5</text>\n",
       "      <text x=\"3.45\" y=\"0.36\" dx=\"-0.05\" dy=\"0.20\" text-anchor=\"end\">6</text>\n",
       "      <text x=\"3.45\" y=\"-1.07\" dx=\"-0.15\" dy=\"0.35\" text-anchor=\"end\">7</text>\n",
       "      <text x=\"4.69\" y=\"-0.36\" dx=\"-0.15\" dy=\"0.35\" text-anchor=\"end\">8</text>\n",
       "      <text x=\"3.87\" y=\"1.07\" dx=\"-0.15\" dy=\"0.35\" text-anchor=\"end\">9</text>\n",
       "      <text x=\"2.63\" y=\"0.36\" dx=\"-0.15\" dy=\"0.35\" text-anchor=\"end\">10</text>\n",
       "    </g>\n",
       "  </g>\n",
       "</svg>"
      ],
      "text/plain": [
       "<CGRtools.containers.molecule.MoleculeContainer at 0x7fa7e5584d60>"
      ]
     },
     "execution_count": 14,
     "metadata": {},
     "output_type": "execute_result"
    }
   ],
   "source": [
    "m6 # substructure used. One can see, they should not match"
   ]
  },
  {
   "cell_type": "code",
   "execution_count": 15,
   "metadata": {},
   "outputs": [
    {
     "data": {
      "text/plain": [
       "True"
      ]
     },
     "execution_count": 15,
     "metadata": {},
     "output_type": "execute_result"
    }
   ],
   "source": [
    "any(m6 < m for m in r1.products) # check if any molecule from product side has m6 as substructure"
   ]
  },
  {
   "cell_type": "markdown",
   "metadata": {},
   "source": [
    "## 4.3 CGR\n",
    "Substructure search is possible with CGRContainer. API is the same as for molecules.\n",
    "\n",
    "Matching CGR into CGR only possible.\n",
    "\n",
    "Equal atoms in isomorphism is atoms with same charge/radical and isotope numbers in reactant and product states"
   ]
  },
  {
   "cell_type": "code",
   "execution_count": 16,
   "metadata": {},
   "outputs": [
    {
     "data": {
      "image/svg+xml": [
       "<svg width=\"2.93cm\" height=\"4.96cm\" viewBox=\"1.80 -4.34 2.93 4.96\" xmlns=\"http://www.w3.org/2000/svg\" version=\"1.1\">\n",
       "  <defs>\n",
       "    <mask id=\"mask-4ca72c3c-0228-42c5-b580-12c8f8b26c5b\">\n",
       "      <rect x=\"1.80\" y=\"-4.34\" width=\"2.93\" height=\"4.96\" fill=\"white\"/>\n",
       "      <g fill=\"black\">\n",
       "        <circle cx=\"3.14\" cy=\"-3.30\" r=\"0.20\"/>\n",
       "        <circle cx=\"2.43\" cy=\"-3.71\" r=\"0.20\"/>\n",
       "        <circle cx=\"3.86\" cy=\"-3.71\" r=\"0.20\"/>\n",
       "        <circle cx=\"3.14\" cy=\"-0.00\" r=\"0.20\"/>\n",
       "      </g>\n",
       "      <g font-family=\"monospace\" stroke=\"black\">\n",
       "        <g font-family=\"sans-serif\" font-size=\"0.50\" stroke-width=\"0.05\">\n",
       "         <text x=\"3.14\" y=\"-3.30\" dx=\"-0.20\" dy=\"0.20\">N</text>\n",
       "         <text x=\"2.43\" y=\"-3.71\" dx=\"-0.20\" dy=\"0.20\">O</text>\n",
       "         <text x=\"3.86\" y=\"-3.71\" dx=\"-0.20\" dy=\"0.20\">O</text>\n",
       "         <text x=\"3.14\" y=\"-0.00\" dx=\"-0.20\" dy=\"0.20\">O</text>\n",
       "        </g>\n",
       "        <g font-family=\"monospace\" font-size=\"0.3\" stroke-width=\"0.03\">\n",
       "         <text x=\"3.14\" y=\"-3.30\" dx=\"0.05\" dy=\"-0.20\">+</text>\n",
       "         <text x=\"3.86\" y=\"-3.71\" dx=\"0.05\" dy=\"-0.20\">-</text>\n",
       "        </g>\n",
       "      </g>\n",
       "    </mask>\n",
       "  </defs>\n",
       "  <g fill=\"none\" stroke=\"black\" stroke-width=\"0.04\"  mask=\"url(#mask-4ca72c3c-0228-42c5-b580-12c8f8b26c5b)\">\n",
       "    <line x1=\"3.14\" y1=\"-3.30\" x2=\"3.14\" y2=\"-2.48\" stroke=\"red\"/>\n",
       "    <line x1=\"3.11\" y1=\"-3.25\" x2=\"2.40\" y2=\"-3.66\"/>\n",
       "    <line x1=\"3.17\" y1=\"-3.35\" x2=\"2.46\" y2=\"-3.76\"/>\n",
       "    <line x1=\"3.14\" y1=\"-3.30\" x2=\"3.86\" y2=\"-3.71\"/>\n",
       "    <line x1=\"3.14\" y1=\"-0.00\" x2=\"3.14\" y2=\"-0.82\" stroke=\"red\"/>\n",
       "    <line x1=\"3.14\" y1=\"-2.48\" x2=\"3.86\" y2=\"-2.06\"/>\n",
       "    <line x1=\"3.17\" y1=\"-2.42\" x2=\"2.46\" y2=\"-2.01\"/>\n",
       "    <line x1=\"3.11\" y1=\"-2.53\" x2=\"2.40\" y2=\"-2.11\"/>\n",
       "    <line x1=\"3.92\" y1=\"-2.06\" x2=\"3.92\" y2=\"-1.24\"/>\n",
       "    <line x1=\"3.80\" y1=\"-2.06\" x2=\"3.80\" y2=\"-1.24\"/>\n",
       "    <line x1=\"3.86\" y1=\"-1.24\" x2=\"3.14\" y2=\"-0.82\"/>\n",
       "    <line x1=\"3.11\" y1=\"-0.77\" x2=\"2.40\" y2=\"-1.19\"/>\n",
       "    <line x1=\"3.17\" y1=\"-0.88\" x2=\"2.46\" y2=\"-1.29\"/>\n",
       "    <line x1=\"2.43\" y1=\"-1.24\" x2=\"2.43\" y2=\"-2.06\"/>\n",
       "  </g>\n",
       "  <g font-family=\"monospace\">\n",
       "    <g fill=\"#3050F8\" font-family=\"sans-serif\">\n",
       "      <text x=\"3.14\" y=\"-3.30\" dx=\"-0.20\" dy=\"0.20\" font-size=\"0.50\">N</text>\n",
       "    </g>\n",
       "    <g fill=\"#FF0D0D\" font-family=\"sans-serif\">\n",
       "      <text x=\"2.43\" y=\"-3.71\" dx=\"-0.20\" dy=\"0.20\" font-size=\"0.50\">O</text>\n",
       "    </g>\n",
       "    <g fill=\"#FF0D0D\" font-family=\"sans-serif\">\n",
       "      <text x=\"3.86\" y=\"-3.71\" dx=\"-0.20\" dy=\"0.20\" font-size=\"0.50\">O</text>\n",
       "    </g>\n",
       "    <g fill=\"#FF0D0D\" font-family=\"sans-serif\">\n",
       "      <text x=\"3.14\" y=\"-0.00\" dx=\"-0.20\" dy=\"0.20\" font-size=\"0.50\">O</text>\n",
       "    </g>\n",
       "    <g font-family=\"monospace\" fill=\"black\" font-size=\"0.30\">\n",
       "      <text x=\"3.14\" y=\"-3.30\" dx=\"0.05\" dy=\"-0.20\" font-size=\"0.30\">+</text>\n",
       "      <text x=\"3.86\" y=\"-3.71\" dx=\"0.05\" dy=\"-0.20\" font-size=\"0.30\">-</text>\n",
       "    </g>\n",
       "  </g>\n",
       "</svg>"
      ],
      "text/plain": [
       "<CGRtools.containers.cgr.CGRContainer at 0x7fa7e5530a40>"
      ]
     },
     "execution_count": 16,
     "metadata": {},
     "output_type": "execute_result"
    }
   ],
   "source": [
    "cgr1"
   ]
  },
  {
   "cell_type": "code",
   "execution_count": 17,
   "metadata": {},
   "outputs": [
    {
     "data": {
      "image/svg+xml": [
       "<svg width=\"1.50cm\" height=\"2.07cm\" viewBox=\"2.52 -3.93 1.50 2.07\" xmlns=\"http://www.w3.org/2000/svg\" version=\"1.1\">\n",
       "  <defs>\n",
       "    <mask id=\"mask-9ea70592-bab0-483a-8f03-e7de737480f4\">\n",
       "      <rect x=\"2.52\" y=\"-3.93\" width=\"1.50\" height=\"2.07\" fill=\"white\"/>\n",
       "      <g fill=\"black\">\n",
       "        <circle cx=\"3.14\" cy=\"-3.30\" r=\"0.20\"/>\n",
       "      </g>\n",
       "      <g font-family=\"monospace\" stroke=\"black\">\n",
       "        <g font-family=\"sans-serif\" font-size=\"0.50\" stroke-width=\"0.05\">\n",
       "         <text x=\"3.14\" y=\"-3.30\" dx=\"-0.20\" dy=\"0.20\">N</text>\n",
       "        </g>\n",
       "        <g font-family=\"monospace\" font-size=\"0.3\" stroke-width=\"0.03\">\n",
       "         <text x=\"3.14\" y=\"-3.30\" dx=\"0.05\" dy=\"-0.20\">+</text>\n",
       "        </g>\n",
       "      </g>\n",
       "    </mask>\n",
       "  </defs>\n",
       "  <g fill=\"none\" stroke=\"black\" stroke-width=\"0.04\"  mask=\"url(#mask-9ea70592-bab0-483a-8f03-e7de737480f4)\">\n",
       "    <line x1=\"2.52\" y1=\"-3.93\" x2=\"4.02\" y2=\"-3.93\" stroke=\"none\"/>\n",
       "    <line x1=\"3.14\" y1=\"-3.30\" x2=\"3.14\" y2=\"-2.48\" stroke=\"red\"/>\n",
       "  </g>\n",
       "  <g font-family=\"monospace\">\n",
       "    <g fill=\"#3050F8\" font-family=\"sans-serif\">\n",
       "      <text x=\"3.14\" y=\"-3.30\" dx=\"-0.20\" dy=\"0.20\" font-size=\"0.50\">N</text>\n",
       "    </g>\n",
       "    <g font-family=\"monospace\" fill=\"black\" font-size=\"0.30\">\n",
       "      <text x=\"3.14\" y=\"-3.30\" dx=\"0.05\" dy=\"-0.20\" font-size=\"0.30\">+</text>\n",
       "    </g>\n",
       "  </g>\n",
       "</svg>"
      ],
      "text/plain": [
       "<CGRtools.containers.cgr.CGRContainer at 0x7fa7e547e680>"
      ]
     },
     "execution_count": 17,
     "metadata": {},
     "output_type": "execute_result"
    }
   ],
   "source": [
    "cgr_q = cgr1.substructure([10, 4])\n",
    "cgr_q  # prepare CGR Query with carbon - nitrogen bond breaking"
   ]
  },
  {
   "cell_type": "code",
   "execution_count": 18,
   "metadata": {},
   "outputs": [
    {
     "data": {
      "text/plain": [
       "True"
      ]
     },
     "execution_count": 18,
     "metadata": {},
     "output_type": "execute_result"
    }
   ],
   "source": [
    "cgr_q <= cgr1  # found substructure!"
   ]
  },
  {
   "cell_type": "markdown",
   "metadata": {},
   "source": [
    "## 4.4 Queries\n",
    "\n",
    "Queries (QueryContainer, QueryCGRContainer) is special objects wich takes into account neighbors and hybridization state of atoms in molecules or CGRs.\n",
    "\n",
    "Queries can be generated from molecules or CGRs by `substructure` method with as_query argument or by union with QueryContainer object"
   ]
  },
  {
   "cell_type": "code",
   "execution_count": 19,
   "metadata": {},
   "outputs": [
    {
     "data": {
      "image/svg+xml": [
       "<svg width=\"2.21cm\" height=\"2.49cm\" viewBox=\"13.15 -1.86 2.21 2.49\" xmlns=\"http://www.w3.org/2000/svg\" version=\"1.1\">\n",
       "  <defs>\n",
       "    <mask id=\"mask-7d0cec1a-5f6a-4661-92a7-e82dbd9b2074\">\n",
       "      <rect x=\"13.15\" y=\"-1.86\" width=\"2.21\" height=\"2.49\" fill=\"white\"/>\n",
       "      <g fill=\"black\">\n",
       "        <circle cx=\"14.49\" cy=\"-1.24\" r=\"0.20\"/>\n",
       "        <circle cx=\"13.78\" cy=\"-0.00\" r=\"0.20\"/>\n",
       "      </g>\n",
       "      <g font-family=\"monospace\" stroke=\"black\">\n",
       "        <g font-family=\"sans-serif\" font-size=\"0.50\" stroke-width=\"0.05\">\n",
       "         <text x=\"14.49\" y=\"-1.24\" dx=\"-0.20\" dy=\"0.20\">O</text>\n",
       "         <text x=\"13.78\" y=\"-0.00\" dx=\"-0.20\" dy=\"0.20\">O</text>\n",
       "        </g>\n",
       "        <g font-size=\"0.25\" stroke-width=\"0.03\">\n",
       "         <text x=\"13.78\" y=\"-0.83\" dx=\"-0.05\" dy=\"0.20\" text-anchor=\"end\">5</text>\n",
       "         <text x=\"14.49\" y=\"-1.24\" dx=\"-0.15\" dy=\"0.35\" text-anchor=\"end\">2</text>\n",
       "         <text x=\"13.78\" y=\"-0.00\" dx=\"-0.15\" dy=\"0.35\" text-anchor=\"end\">7</text>\n",
       "        </g>\n",
       "        <g font-family=\"monospace\" font-size=\"0.3\" stroke-width=\"0.03\">\n",
       "         <text x=\"13.78\" y=\"-0.83\" dx=\"0.07\" dy=\"0.15\">3</text>\n",
       "         <text x=\"13.78\" y=\"-0.83\" dx=\"0.07\" dy=\"0.33\">d</text>\n",
       "         <text x=\"14.49\" y=\"-1.24\" dx=\"0.17\" dy=\"0.15\">2</text>\n",
       "         <text x=\"14.49\" y=\"-1.24\" dx=\"0.17\" dy=\"0.33\">s</text>\n",
       "         <text x=\"13.78\" y=\"-0.00\" dx=\"0.17\" dy=\"0.15\">1</text>\n",
       "         <text x=\"13.78\" y=\"-0.00\" dx=\"0.17\" dy=\"0.33\">d</text>\n",
       "        </g>\n",
       "      </g>\n",
       "    </mask>\n",
       "  </defs>\n",
       "  <g fill=\"none\" stroke=\"black\" stroke-width=\"0.04\"  mask=\"url(#mask-7d0cec1a-5f6a-4661-92a7-e82dbd9b2074)\">\n",
       "    <line x1=\"13.78\" y1=\"-0.83\" x2=\"14.49\" y2=\"-1.24\"/>\n",
       "    <line x1=\"13.84\" y1=\"-0.83\" x2=\"13.84\" y2=\"-0.00\"/>\n",
       "    <line x1=\"13.72\" y1=\"-0.83\" x2=\"13.72\" y2=\"0.00\"/>\n",
       "  </g>\n",
       "  <g font-family=\"monospace\">\n",
       "    <g fill=\"#FF0D0D\" font-family=\"sans-serif\">\n",
       "      <text x=\"14.49\" y=\"-1.24\" dx=\"-0.20\" dy=\"0.20\" font-size=\"0.50\">O</text>\n",
       "    </g>\n",
       "    <g fill=\"#FF0D0D\" font-family=\"sans-serif\">\n",
       "      <text x=\"13.78\" y=\"-0.00\" dx=\"-0.20\" dy=\"0.20\" font-size=\"0.50\">O</text>\n",
       "    </g>\n",
       "    <g fill=\"#5D8AA8\" font-family=\"monospace\" font-size=\"0.30\">\n",
       "      <text x=\"13.78\" y=\"-0.83\" dx=\"0.075\" dy=\"0.15\" text-anchor=\"start\">3</text>\n",
       "      <text x=\"14.49\" y=\"-1.24\" dx=\"0.175\" dy=\"0.15\" text-anchor=\"start\">2</text>\n",
       "      <text x=\"13.78\" y=\"-0.00\" dx=\"0.175\" dy=\"0.15\" text-anchor=\"start\">1</text>\n",
       "      <text x=\"13.78\" y=\"-0.83\" dx=\"0.075\" dy=\"0.33\" text-anchor=\"start\">d</text>\n",
       "      <text x=\"14.49\" y=\"-1.24\" dx=\"0.175\" dy=\"0.33\" text-anchor=\"start\">s</text>\n",
       "      <text x=\"13.78\" y=\"-0.00\" dx=\"0.175\" dy=\"0.33\" text-anchor=\"start\">d</text>\n",
       "    </g>\n",
       "    <g fill=\"#0305A7\" font-size=\"0.25\">\n",
       "      <text x=\"13.78\" y=\"-0.83\" dx=\"-0.05\" dy=\"0.20\" text-anchor=\"end\">5</text>\n",
       "      <text x=\"14.49\" y=\"-1.24\" dx=\"-0.15\" dy=\"0.35\" text-anchor=\"end\">2</text>\n",
       "      <text x=\"13.78\" y=\"-0.00\" dx=\"-0.15\" dy=\"0.35\" text-anchor=\"end\">7</text>\n",
       "    </g>\n",
       "  </g>\n",
       "</svg>"
      ],
      "text/plain": [
       "<CGRtools.containers.query.QueryContainer at 0x7fa7e547e720>"
      ]
     },
     "execution_count": 19,
     "metadata": {},
     "output_type": "execute_result"
    }
   ],
   "source": [
    "carb_q = m10.substructure([5,7,2], as_query=True)\n",
    "carb_q # notice that one of oxygen atom has 2 neighbors. Only ester could fit this restriction."
   ]
  },
  {
   "cell_type": "code",
   "execution_count": 20,
   "metadata": {},
   "outputs": [
    {
     "data": {
      "image/svg+xml": [
       "<svg width=\"2.74cm\" height=\"2.68cm\" viewBox=\"2.63 -2.77 2.74 2.68\" xmlns=\"http://www.w3.org/2000/svg\" version=\"1.1\">\n",
       "  <defs>\n",
       "    <mask id=\"mask-6293d76f-155f-48fa-a595-1f14b0951048\">\n",
       "      <rect x=\"2.63\" y=\"-2.77\" width=\"2.74\" height=\"2.68\" fill=\"white\"/>\n",
       "      <g fill=\"black\">\n",
       "        <circle cx=\"3.25\" cy=\"-2.14\" r=\"0.20\"/>\n",
       "        <circle cx=\"4.49\" cy=\"-1.43\" r=\"0.20\"/>\n",
       "      </g>\n",
       "      <g font-family=\"monospace\" stroke=\"black\">\n",
       "        <g font-family=\"sans-serif\" font-size=\"0.50\" stroke-width=\"0.05\">\n",
       "         <text x=\"3.25\" y=\"-2.14\" dx=\"-0.20\" dy=\"0.20\">O</text>\n",
       "         <text x=\"4.49\" y=\"-1.43\" dx=\"-0.20\" dy=\"0.20\">OH</text>\n",
       "        </g>\n",
       "        <g font-size=\"0.25\" stroke-width=\"0.03\">\n",
       "         <text x=\"3.67\" y=\"-1.43\" dx=\"-0.05\" dy=\"0.20\" text-anchor=\"end\">5</text>\n",
       "         <text x=\"3.25\" y=\"-0.71\" dx=\"-0.05\" dy=\"0.20\" text-anchor=\"end\">6</text>\n",
       "         <text x=\"3.25\" y=\"-2.14\" dx=\"-0.15\" dy=\"0.35\" text-anchor=\"end\">7</text>\n",
       "         <text x=\"4.49\" y=\"-1.43\" dx=\"-0.15\" dy=\"0.35\" text-anchor=\"end\">8</text>\n",
       "        </g>\n",
       "      </g>\n",
       "    </mask>\n",
       "  </defs>\n",
       "  <g fill=\"none\" stroke=\"black\" stroke-width=\"0.04\"  mask=\"url(#mask-6293d76f-155f-48fa-a595-1f14b0951048)\">\n",
       "    <line x1=\"3.67\" y1=\"-1.43\" x2=\"3.25\" y2=\"-0.71\"/>\n",
       "    <line x1=\"3.61\" y1=\"-1.40\" x2=\"3.20\" y2=\"-2.11\"/>\n",
       "    <line x1=\"3.72\" y1=\"-1.46\" x2=\"3.31\" y2=\"-2.17\"/>\n",
       "    <line x1=\"3.67\" y1=\"-1.43\" x2=\"4.49\" y2=\"-1.43\"/>\n",
       "  </g>\n",
       "  <g font-family=\"monospace\">\n",
       "    <g fill=\"#FF0D0D\" font-family=\"sans-serif\">\n",
       "      <text x=\"3.25\" y=\"-2.14\" dx=\"-0.20\" dy=\"0.20\" font-size=\"0.50\">O</text>\n",
       "    </g>\n",
       "    <g fill=\"#FF0D0D\" font-family=\"sans-serif\">\n",
       "      <text x=\"4.49\" y=\"-1.43\" dx=\"-0.20\" dy=\"0.20\" font-size=\"0.50\">OH</text>\n",
       "    </g>\n",
       "    <g fill=\"#0305A7\" font-size=\"0.25\">\n",
       "      <text x=\"3.67\" y=\"-1.43\" dx=\"-0.05\" dy=\"0.20\" text-anchor=\"end\">5</text>\n",
       "      <text x=\"3.25\" y=\"-0.71\" dx=\"-0.05\" dy=\"0.20\" text-anchor=\"end\">6</text>\n",
       "      <text x=\"3.25\" y=\"-2.14\" dx=\"-0.15\" dy=\"0.35\" text-anchor=\"end\">7</text>\n",
       "      <text x=\"4.49\" y=\"-1.43\" dx=\"-0.15\" dy=\"0.35\" text-anchor=\"end\">8</text>\n",
       "    </g>\n",
       "  </g>\n",
       "</svg>"
      ],
      "text/plain": [
       "<CGRtools.containers.molecule.MoleculeContainer at 0x7fa7e5530860>"
      ]
     },
     "execution_count": 20,
     "metadata": {},
     "output_type": "execute_result"
    }
   ],
   "source": [
    "m9 # acid"
   ]
  },
  {
   "cell_type": "code",
   "execution_count": 21,
   "metadata": {},
   "outputs": [
    {
     "data": {
      "image/svg+xml": [
       "<svg width=\"6.50cm\" height=\"3.31cm\" viewBox=\"10.30 -2.69 6.50 3.31\" xmlns=\"http://www.w3.org/2000/svg\" version=\"1.1\">\n",
       "  <defs>\n",
       "    <mask id=\"mask-ecf6042e-ed72-44a1-88de-0a9aafbadce9\">\n",
       "      <rect x=\"10.30\" y=\"-2.69\" width=\"6.50\" height=\"3.31\" fill=\"white\"/>\n",
       "      <g fill=\"black\">\n",
       "        <circle cx=\"14.49\" cy=\"-1.24\" r=\"0.20\"/>\n",
       "        <circle cx=\"12.35\" cy=\"-0.83\" r=\"0.20\"/>\n",
       "        <circle cx=\"13.06\" cy=\"-2.06\" r=\"0.20\"/>\n",
       "        <circle cx=\"13.78\" cy=\"-0.00\" r=\"0.20\"/>\n",
       "      </g>\n",
       "      <g font-family=\"monospace\" stroke=\"black\">\n",
       "        <g font-family=\"sans-serif\" font-size=\"0.50\" stroke-width=\"0.05\">\n",
       "         <text x=\"14.49\" y=\"-1.24\" dx=\"-0.20\" dy=\"0.20\">O</text>\n",
       "         <text x=\"12.35\" y=\"-0.83\" dx=\"-0.20\" dy=\"0.20\">O</text>\n",
       "         <text x=\"13.06\" y=\"-2.06\" dx=\"-0.20\" dy=\"0.20\">O</text>\n",
       "         <text x=\"13.78\" y=\"-0.00\" dx=\"-0.20\" dy=\"0.20\">O</text>\n",
       "        </g>\n",
       "        <g font-size=\"0.25\" stroke-width=\"0.03\">\n",
       "         <text x=\"13.78\" y=\"-0.83\" dx=\"-0.05\" dy=\"0.20\" text-anchor=\"end\">5</text>\n",
       "         <text x=\"13.06\" y=\"-1.24\" dx=\"-0.05\" dy=\"0.20\" text-anchor=\"end\">6</text>\n",
       "         <text x=\"14.49\" y=\"-1.24\" dx=\"-0.15\" dy=\"0.35\" text-anchor=\"end\">2</text>\n",
       "         <text x=\"12.35\" y=\"-0.83\" dx=\"-0.15\" dy=\"0.35\" text-anchor=\"end\">1</text>\n",
       "         <text x=\"13.06\" y=\"-2.06\" dx=\"-0.15\" dy=\"0.35\" text-anchor=\"end\">9</text>\n",
       "         <text x=\"13.78\" y=\"-0.00\" dx=\"-0.15\" dy=\"0.35\" text-anchor=\"end\">7</text>\n",
       "         <text x=\"15.21\" y=\"-0.83\" dx=\"-0.05\" dy=\"0.20\" text-anchor=\"end\">11</text>\n",
       "         <text x=\"15.92\" y=\"-1.24\" dx=\"-0.05\" dy=\"0.20\" text-anchor=\"end\">12</text>\n",
       "         <text x=\"11.63\" y=\"-1.24\" dx=\"-0.05\" dy=\"0.20\" text-anchor=\"end\">4</text>\n",
       "         <text x=\"10.92\" y=\"-0.83\" dx=\"-0.05\" dy=\"0.20\" text-anchor=\"end\">3</text>\n",
       "        </g>\n",
       "      </g>\n",
       "    </mask>\n",
       "  </defs>\n",
       "  <g fill=\"none\" stroke=\"black\" stroke-width=\"0.04\"  mask=\"url(#mask-ecf6042e-ed72-44a1-88de-0a9aafbadce9)\">\n",
       "    <line x1=\"13.78\" y1=\"-0.83\" x2=\"13.06\" y2=\"-1.24\"/>\n",
       "    <line x1=\"13.78\" y1=\"-0.83\" x2=\"14.49\" y2=\"-1.24\"/>\n",
       "    <line x1=\"13.84\" y1=\"-0.83\" x2=\"13.84\" y2=\"-0.00\"/>\n",
       "    <line x1=\"13.72\" y1=\"-0.83\" x2=\"13.72\" y2=\"0.00\"/>\n",
       "    <line x1=\"13.06\" y1=\"-1.24\" x2=\"12.35\" y2=\"-0.83\"/>\n",
       "    <line x1=\"13.00\" y1=\"-1.24\" x2=\"13.00\" y2=\"-2.06\"/>\n",
       "    <line x1=\"13.12\" y1=\"-1.24\" x2=\"13.12\" y2=\"-2.06\"/>\n",
       "    <line x1=\"14.49\" y1=\"-1.24\" x2=\"15.21\" y2=\"-0.83\"/>\n",
       "    <line x1=\"12.35\" y1=\"-0.83\" x2=\"11.63\" y2=\"-1.24\"/>\n",
       "    <line x1=\"15.21\" y1=\"-0.83\" x2=\"15.92\" y2=\"-1.24\"/>\n",
       "    <line x1=\"11.63\" y1=\"-1.24\" x2=\"10.92\" y2=\"-0.83\"/>\n",
       "  </g>\n",
       "  <g font-family=\"monospace\">\n",
       "    <g fill=\"#FF0D0D\" font-family=\"sans-serif\">\n",
       "      <text x=\"14.49\" y=\"-1.24\" dx=\"-0.20\" dy=\"0.20\" font-size=\"0.50\">O</text>\n",
       "    </g>\n",
       "    <g fill=\"#FF0D0D\" font-family=\"sans-serif\">\n",
       "      <text x=\"12.35\" y=\"-0.83\" dx=\"-0.20\" dy=\"0.20\" font-size=\"0.50\">O</text>\n",
       "    </g>\n",
       "    <g fill=\"#FF0D0D\" font-family=\"sans-serif\">\n",
       "      <text x=\"13.06\" y=\"-2.06\" dx=\"-0.20\" dy=\"0.20\" font-size=\"0.50\">O</text>\n",
       "    </g>\n",
       "    <g fill=\"#FF0D0D\" font-family=\"sans-serif\">\n",
       "      <text x=\"13.78\" y=\"-0.00\" dx=\"-0.20\" dy=\"0.20\" font-size=\"0.50\">O</text>\n",
       "    </g>\n",
       "    <g fill=\"#0305A7\" font-size=\"0.25\">\n",
       "      <text x=\"13.78\" y=\"-0.83\" dx=\"-0.05\" dy=\"0.20\" text-anchor=\"end\">5</text>\n",
       "      <text x=\"13.06\" y=\"-1.24\" dx=\"-0.05\" dy=\"0.20\" text-anchor=\"end\">6</text>\n",
       "      <text x=\"14.49\" y=\"-1.24\" dx=\"-0.15\" dy=\"0.35\" text-anchor=\"end\">2</text>\n",
       "      <text x=\"12.35\" y=\"-0.83\" dx=\"-0.15\" dy=\"0.35\" text-anchor=\"end\">1</text>\n",
       "      <text x=\"13.06\" y=\"-2.06\" dx=\"-0.15\" dy=\"0.35\" text-anchor=\"end\">9</text>\n",
       "      <text x=\"13.78\" y=\"-0.00\" dx=\"-0.15\" dy=\"0.35\" text-anchor=\"end\">7</text>\n",
       "      <text x=\"15.21\" y=\"-0.83\" dx=\"-0.05\" dy=\"0.20\" text-anchor=\"end\">11</text>\n",
       "      <text x=\"15.92\" y=\"-1.24\" dx=\"-0.05\" dy=\"0.20\" text-anchor=\"end\">12</text>\n",
       "      <text x=\"11.63\" y=\"-1.24\" dx=\"-0.05\" dy=\"0.20\" text-anchor=\"end\">4</text>\n",
       "      <text x=\"10.92\" y=\"-0.83\" dx=\"-0.05\" dy=\"0.20\" text-anchor=\"end\">3</text>\n",
       "    </g>\n",
       "  </g>\n",
       "</svg>"
      ],
      "text/plain": [
       "<CGRtools.containers.molecule.MoleculeContainer at 0x7fa7e5530900>"
      ]
     },
     "execution_count": 21,
     "metadata": {},
     "output_type": "execute_result"
    }
   ],
   "source": [
    "m10 # ether"
   ]
  },
  {
   "cell_type": "code",
   "execution_count": 22,
   "metadata": {},
   "outputs": [
    {
     "data": {
      "image/svg+xml": [
       "<svg width=\"2.21cm\" height=\"2.49cm\" viewBox=\"13.15 -1.86 2.21 2.49\" xmlns=\"http://www.w3.org/2000/svg\" version=\"1.1\">\n",
       "  <defs>\n",
       "    <mask id=\"mask-0f35c1e0-2b89-44ad-be56-4977d3fcb34c\">\n",
       "      <rect x=\"13.15\" y=\"-1.86\" width=\"2.21\" height=\"2.49\" fill=\"white\"/>\n",
       "      <g fill=\"black\">\n",
       "        <circle cx=\"14.49\" cy=\"-1.24\" r=\"0.20\"/>\n",
       "        <circle cx=\"13.78\" cy=\"-0.00\" r=\"0.20\"/>\n",
       "      </g>\n",
       "      <g font-family=\"monospace\" stroke=\"black\">\n",
       "        <g font-family=\"sans-serif\" font-size=\"0.50\" stroke-width=\"0.05\">\n",
       "         <text x=\"14.49\" y=\"-1.24\" dx=\"-0.20\" dy=\"0.20\">OH</text>\n",
       "         <text x=\"13.78\" y=\"-0.00\" dx=\"-0.20\" dy=\"0.20\">O</text>\n",
       "        </g>\n",
       "        <g font-size=\"0.25\" stroke-width=\"0.03\">\n",
       "         <text x=\"13.78\" y=\"-0.83\" dx=\"-0.05\" dy=\"0.20\" text-anchor=\"end\">5</text>\n",
       "         <text x=\"14.49\" y=\"-1.24\" dx=\"-0.15\" dy=\"0.35\" text-anchor=\"end\">2</text>\n",
       "         <text x=\"13.78\" y=\"-0.00\" dx=\"-0.15\" dy=\"0.35\" text-anchor=\"end\">7</text>\n",
       "        </g>\n",
       "      </g>\n",
       "    </mask>\n",
       "  </defs>\n",
       "  <g fill=\"none\" stroke=\"black\" stroke-width=\"0.04\"  mask=\"url(#mask-0f35c1e0-2b89-44ad-be56-4977d3fcb34c)\">\n",
       "    <line x1=\"13.78\" y1=\"-0.83\" x2=\"14.49\" y2=\"-1.24\"/>\n",
       "    <line x1=\"13.84\" y1=\"-0.83\" x2=\"13.84\" y2=\"-0.00\"/>\n",
       "    <line x1=\"13.72\" y1=\"-0.83\" x2=\"13.72\" y2=\"0.00\"/>\n",
       "  </g>\n",
       "  <g font-family=\"monospace\">\n",
       "    <g fill=\"#FF0D0D\" font-family=\"sans-serif\">\n",
       "      <text x=\"14.49\" y=\"-1.24\" dx=\"-0.20\" dy=\"0.20\" font-size=\"0.50\">OH</text>\n",
       "    </g>\n",
       "    <g fill=\"#FF0D0D\" font-family=\"sans-serif\">\n",
       "      <text x=\"13.78\" y=\"-0.00\" dx=\"-0.20\" dy=\"0.20\" font-size=\"0.50\">O</text>\n",
       "    </g>\n",
       "    <g fill=\"#0305A7\" font-size=\"0.25\">\n",
       "      <text x=\"13.78\" y=\"-0.83\" dx=\"-0.05\" dy=\"0.20\" text-anchor=\"end\">5</text>\n",
       "      <text x=\"14.49\" y=\"-1.24\" dx=\"-0.15\" dy=\"0.35\" text-anchor=\"end\">2</text>\n",
       "      <text x=\"13.78\" y=\"-0.00\" dx=\"-0.15\" dy=\"0.35\" text-anchor=\"end\">7</text>\n",
       "    </g>\n",
       "  </g>\n",
       "</svg>"
      ],
      "text/plain": [
       "<CGRtools.containers.molecule.MoleculeContainer at 0x7fa7e5530ae0>"
      ]
     },
     "execution_count": 22,
     "metadata": {},
     "output_type": "execute_result"
    }
   ],
   "source": [
    "carb"
   ]
  },
  {
   "cell_type": "markdown",
   "metadata": {},
   "source": [
    "Molecules isomorphism don't take into account neighbors and hybridization"
   ]
  },
  {
   "cell_type": "code",
   "execution_count": 23,
   "metadata": {},
   "outputs": [
    {
     "data": {
      "text/plain": [
       "True"
      ]
     },
     "execution_count": 23,
     "metadata": {},
     "output_type": "execute_result"
    }
   ],
   "source": [
    "carb < m9 # carb is molecule. It fit this molecule as well."
   ]
  },
  {
   "cell_type": "code",
   "execution_count": 24,
   "metadata": {},
   "outputs": [
    {
     "data": {
      "text/plain": [
       "True"
      ]
     },
     "execution_count": 24,
     "metadata": {},
     "output_type": "execute_result"
    }
   ],
   "source": [
    "carb < m10 # carb is a substructure of m10"
   ]
  },
  {
   "cell_type": "markdown",
   "metadata": {},
   "source": [
    "One need to convert molecule into QueryContainer object. In this case number of neighbors and hybridization data will be taken into account upon substructure search."
   ]
  },
  {
   "cell_type": "code",
   "execution_count": 25,
   "metadata": {},
   "outputs": [
    {
     "data": {
      "text/plain": [
       "False"
      ]
     },
     "execution_count": 25,
     "metadata": {},
     "output_type": "execute_result"
    }
   ],
   "source": [
    "carb_q < m9 # now neighbors and hybridization are taken into account."
   ]
  },
  {
   "cell_type": "markdown",
   "metadata": {},
   "source": [
    "Acid m9 has hydroxyl group with one non-hydrogen neighbor. Our query requires existence of one oxygen atom with two neighbors."
   ]
  },
  {
   "cell_type": "code",
   "execution_count": 26,
   "metadata": {},
   "outputs": [
    {
     "data": {
      "text/plain": [
       "True"
      ]
     },
     "execution_count": 26,
     "metadata": {},
     "output_type": "execute_result"
    }
   ],
   "source": [
    "carb_q < m10 # ester matches to query."
   ]
  }
 ],
 "metadata": {
  "kernelspec": {
   "display_name": "Python 3",
   "language": "python",
   "name": "python3"
  },
  "language_info": {
   "codemirror_mode": {
    "name": "ipython",
    "version": 3
   },
   "file_extension": ".py",
   "mimetype": "text/x-python",
   "name": "python",
   "nbconvert_exporter": "python",
   "pygments_lexer": "ipython3",
   "version": "3.8.2"
  }
 },
 "nbformat": 4,
 "nbformat_minor": 2
}
