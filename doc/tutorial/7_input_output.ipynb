{
 "cells": [
  {
   "cell_type": "markdown",
   "metadata": {},
   "source": [
    "# 7. Input-output operations\n",
    "\n",
    "- (c) 2019, 2020 Dr. Ramil Nugmanov;\n",
    "- (c) 2019 Dr. Timur Madzhidov; Ravil Mukhametgaleev\n",
    "\n",
    "Installation instructions of CGRtools package information and tutorial's files see on `https://github.com/cimm-kzn/CGRtools`\n",
    "\n",
    "NOTE: Tutorial should be performed sequentially from the start. Random cell running will lead to unexpected results. "
   ]
  },
  {
   "cell_type": "code",
   "execution_count": 1,
   "metadata": {},
   "outputs": [
    {
     "name": "stdout",
     "output_type": "stream",
     "text": [
      "Welcome!\n"
     ]
    }
   ],
   "source": [
    "import pkg_resources\n",
    "if pkg_resources.get_distribution('CGRtools').version.split('.')[:2] != ['4', '0']:\n",
    "    print('WARNING. Tutorial was tested on 4.0 version of CGRtools')\n",
    "else:\n",
    "    print('Welcome!')"
   ]
  },
  {
   "cell_type": "code",
   "execution_count": 2,
   "metadata": {},
   "outputs": [],
   "source": [
    "# load data for tutorial\n",
    "from pickle import load\n",
    "from traceback import format_exc\n",
    "\n",
    "with open('reactions.dat', 'rb') as f:\n",
    "    reactions = load(f) # list of ReactionContainer objects\n",
    "\n",
    "r1 = reactions[0] # reaction\n",
    "cgr2 = ~r1  "
   ]
  },
  {
   "cell_type": "markdown",
   "metadata": {},
   "source": [
    "*CGRtools.files* subpackage contains file readers and writers classes.\n",
    "\n",
    "## 7.1. MDL RDF reader\n",
    "\n",
    "**RDFread** class can be used for RDF files reading.\n",
    "Instance of this class is file-like object which support **iteration**, has a method **read()** for parsing all data and **context manager**.\n"
   ]
  },
  {
   "cell_type": "markdown",
   "metadata": {},
   "source": [
    "### 7.1.1. Read file from disk"
   ]
  },
  {
   "cell_type": "code",
   "execution_count": 3,
   "metadata": {},
   "outputs": [],
   "source": [
    "from CGRtools.files import * # import all available readers and writers\n",
    "\n",
    "with RDFRead('example.rdf') as f:\n",
    "    first = next(f)  # get first reaction using generator\n",
    "    data = f.read()  # read remaining reactions to list of ReactionContainers\n",
    "\n",
    "data = []\n",
    "with RDFRead('example.rdf') as f:\n",
    "    for r in f:  # looping is supported. Useful for large files.\n",
    "        data.append(r)\n",
    "\n",
    "with RDFRead('example.rdf') as f:\n",
    "    data = [r for r in f]  # list comprehensions application. Result is equivalent to f.read()"
   ]
  },
  {
   "cell_type": "markdown",
   "metadata": {},
   "source": [
    "#### OOP-stype Pathlib supported"
   ]
  },
  {
   "cell_type": "code",
   "execution_count": 4,
   "metadata": {},
   "outputs": [],
   "source": [
    "from pathlib import Path\n",
    "\n",
    "with RDFRead(Path('example.rdf')) as r: # OOP style call\n",
    "    r = next(r)"
   ]
  },
  {
   "cell_type": "markdown",
   "metadata": {},
   "source": [
    "#### opened files supported\n",
    "RDF file should be opened in text mode"
   ]
  },
  {
   "cell_type": "code",
   "execution_count": 5,
   "metadata": {},
   "outputs": [],
   "source": [
    "with open('example.rdf') as f, RDFRead(f) as r:\n",
    "    r = next(r) # OOP style application"
   ]
  },
  {
   "cell_type": "markdown",
   "metadata": {},
   "source": [
    "### 7.1.2. Transparent loading from archives and network\n",
    "Readers designed transparently support any type of data sources. \n",
    "\n",
    "Page https://cimm.kpfu.ru/seafile/f/aeaca685e3854ae2bbad/?dl=1 returns RDF file.\n",
    "\n",
    "Data sources should be file-like objects."
   ]
  },
  {
   "cell_type": "code",
   "execution_count": 6,
   "metadata": {},
   "outputs": [
    {
     "name": "stdout",
     "output_type": "stream",
     "text": [
      "C(C(O)=O)(O)=O.C(O)C.C(O)C>>C(C(OCC)=O)(OCC)=O StringIO downloaded from network data\n",
      "C(C(O)=O)(O)=O.C(O)C.C(O)C>>C(C(OCC)=O)(OCC)=O gzipped file\n",
      "C(C(O)=O)(O)=O.C(O)C.C(O)C>>C(C(OCC)=O)(OCC)=O zip archive\n",
      "C(C(O)=O)(O)=O.C(O)C.C(O)C>>C(C(OCC)=O)(OCC)=O gzipped tar archive\n"
     ]
    }
   ],
   "source": [
    "from requests import get\n",
    "from io import StringIO\n",
    "\n",
    "# get function return requested URL which has attribute text. \n",
    "# in example this text is whole RDF stored in single string.\n",
    "# RDFread does not support parsing of strings, but one can emulate files with data \n",
    "# instead of strings by using io.StringIO\n",
    "with StringIO(get('https://cimm.kpfu.ru/seafile/f/aeaca685e3854ae2bbad/?dl=1').text) as f, RDFRead(f) as r:\n",
    "    r = next(r)\n",
    "    print(r, 'StringIO downloaded from network data')\n",
    "\n",
    "# python support gzipped data. This example shows how to work with compressed \n",
    "# data directly without decompressing them to disk.\n",
    "from gzip import open as gzip_open\n",
    "with gzip_open('example.rdf.gz', 'rt') as f, RDFRead(f) as r:\n",
    "    r = next(r)\n",
    "    print(r, 'gzipped file')\n",
    "\n",
    "# zip-files also supported out of the box \n",
    "# zipped files can be opened only in binary mode. io.TextIOWrapper can be used for transparent decoding them into text\n",
    "from zipfile import ZipFile\n",
    "from io import TextIOWrapper\n",
    "with ZipFile('example.zip') as z, z.open('example.rdf') as c:\n",
    "    with TextIOWrapper(c) as f, RDFRead(f) as r:\n",
    "        r = next(r)\n",
    "        print(r, 'zip archive')\n",
    "\n",
    "# tar-file reading example\n",
    "from tarfile import open as tar_open\n",
    "from io import TextIOWrapper\n",
    "with tar_open('example.tar.gz') as t:\n",
    "    c = t.extractfile('example.rdf')\n",
    "    with TextIOWrapper(c) as f, RDFRead(f) as r:\n",
    "        r = next(r)\n",
    "        print(r, 'gzipped tar archive')"
   ]
  },
  {
   "cell_type": "markdown",
   "metadata": {},
   "source": [
    "## 7.2. Other Readers\n",
    "* SDFRead - MOL, SDF files reader (versions v2000, v3000 are supported)\n",
    "* MRVRead - ChemAxon MRV files reader (lxml parser is used)\n",
    "* SMILESRead - SMILES strings files reader (coho backend used). Every row should start with new SMILES\n",
    "* INCHIRead - INCHI strings files reader (INCHI trust backend used). Every row should start with new InChI\n",
    "* XYZRead - xyz files reader (only structures with explicit hydrogens supported)\n",
    "* PDBRead - PDB files parser (only structures with explicit hydrogens supported)\n",
    "\n",
    "All files except MRV should be opened in **text-mode**  \n",
    "MRV requires binary mode `open('/path/to/data.mrv', 'rb')`"
   ]
  },
  {
   "cell_type": "code",
   "execution_count": 7,
   "metadata": {},
   "outputs": [
    {
     "data": {
      "image/svg+xml": [
       "<svg width=\"9.00cm\" height=\"3.39cm\" viewBox=\"-8.12 -1.70 9.00 3.39\" xmlns=\"http://www.w3.org/2000/svg\" version=\"1.1\">\n",
       "  <defs>\n",
       "    <mask id=\"mask-1cb1e3b1-99c0-4981-aeb1-003da323e767\">\n",
       "      <rect x=\"-8.12\" y=\"-1.70\" width=\"9.00\" height=\"3.39\" fill=\"white\"/>\n",
       "      <g fill=\"black\">\n",
       "        <circle cx=\"-6.67\" cy=\"-1.07\" r=\"0.20\"/>\n",
       "        <circle cx=\"-5.44\" cy=\"-0.36\" r=\"0.20\"/>\n",
       "        <circle cx=\"-6.26\" cy=\"1.07\" r=\"0.20\"/>\n",
       "        <circle cx=\"-7.50\" cy=\"0.36\" r=\"0.20\"/>\n",
       "        <ellipse cx=\"-0.07\" cy=\"-0.00\" rx=\"0.35\" ry=\"0.2\"/>\n",
       "      </g>\n",
       "      <g font-family=\"monospace\" stroke=\"black\">\n",
       "        <g font-family=\"sans-serif\" font-size=\"0.50\" stroke-width=\"0.05\">\n",
       "         <text x=\"-6.67\" y=\"-1.07\" dx=\"-0.20\" dy=\"0.20\">O</text>\n",
       "         <text x=\"-5.44\" y=\"-0.36\" dx=\"-0.20\" dy=\"0.20\">O</text>\n",
       "         <text x=\"-6.26\" y=\"1.07\" dx=\"-0.20\" dy=\"0.20\">O</text>\n",
       "         <text x=\"-7.50\" y=\"0.36\" dx=\"-0.20\" dy=\"0.20\">OH</text>\n",
       "         <text x=\"0.00\" y=\"-0.00\" dx=\"-0.35\" dy=\"0.20\">Na</text>\n",
       "        </g>\n",
       "        <g font-size=\"0.25\" stroke-width=\"0.03\">\n",
       "         <text x=\"-6.26\" y=\"-0.36\" dx=\"-0.05\" dy=\"0.20\" text-anchor=\"end\">1</text>\n",
       "         <text x=\"-6.67\" y=\"0.36\" dx=\"-0.05\" dy=\"0.20\" text-anchor=\"end\">2</text>\n",
       "         <text x=\"-6.67\" y=\"-1.07\" dx=\"-0.15\" dy=\"0.35\" text-anchor=\"end\">3</text>\n",
       "         <text x=\"-5.44\" y=\"-0.36\" dx=\"-0.15\" dy=\"0.35\" text-anchor=\"end\">4</text>\n",
       "         <text x=\"-6.26\" y=\"1.07\" dx=\"-0.15\" dy=\"0.35\" text-anchor=\"end\">5</text>\n",
       "         <text x=\"-7.50\" y=\"0.36\" dx=\"-0.15\" dy=\"0.35\" text-anchor=\"end\">6</text>\n",
       "         <text x=\"0.00\" y=\"-0.00\" dx=\"-0.30\" dy=\"0.35\" text-anchor=\"end\">7</text>\n",
       "        </g>\n",
       "        <g font-family=\"monospace\" font-size=\"0.3\" stroke-width=\"0.03\">\n",
       "         <text x=\"-5.44\" y=\"-0.36\" dx=\"0.05\" dy=\"-0.20\">-</text>\n",
       "         <text x=\"0.00\" y=\"-0.00\" dx=\"0.05\" dy=\"-0.20\">+</text>\n",
       "        </g>\n",
       "      </g>\n",
       "    </mask>\n",
       "  </defs>\n",
       "  <g fill=\"none\" stroke=\"black\" stroke-width=\"0.04\"  mask=\"url(#mask-1cb1e3b1-99c0-4981-aeb1-003da323e767)\">\n",
       "    <line x1=\"-6.26\" y1=\"-0.36\" x2=\"-6.67\" y2=\"0.36\"/>\n",
       "    <line x1=\"-6.31\" y1=\"-0.33\" x2=\"-6.73\" y2=\"-1.04\"/>\n",
       "    <line x1=\"-6.21\" y1=\"-0.39\" x2=\"-6.62\" y2=\"-1.10\"/>\n",
       "    <line x1=\"-6.26\" y1=\"-0.36\" x2=\"-5.44\" y2=\"-0.36\"/>\n",
       "    <line x1=\"-6.62\" y1=\"0.33\" x2=\"-6.21\" y2=\"1.04\"/>\n",
       "    <line x1=\"-6.73\" y1=\"0.39\" x2=\"-6.31\" y2=\"1.10\"/>\n",
       "    <line x1=\"-6.67\" y1=\"0.36\" x2=\"-7.50\" y2=\"0.36\"/>\n",
       "  </g>\n",
       "  <g font-family=\"monospace\">\n",
       "    <g fill=\"#FF0D0D\" font-family=\"sans-serif\">\n",
       "      <text x=\"-6.67\" y=\"-1.07\" dx=\"-0.20\" dy=\"0.20\" font-size=\"0.50\">O</text>\n",
       "    </g>\n",
       "    <g fill=\"#FF0D0D\" font-family=\"sans-serif\">\n",
       "      <text x=\"-5.44\" y=\"-0.36\" dx=\"-0.20\" dy=\"0.20\" font-size=\"0.50\">O</text>\n",
       "    </g>\n",
       "    <g fill=\"#FF0D0D\" font-family=\"sans-serif\">\n",
       "      <text x=\"-6.26\" y=\"1.07\" dx=\"-0.20\" dy=\"0.20\" font-size=\"0.50\">O</text>\n",
       "    </g>\n",
       "    <g fill=\"#FF0D0D\" font-family=\"sans-serif\">\n",
       "      <text x=\"-7.50\" y=\"0.36\" dx=\"-0.20\" dy=\"0.20\" font-size=\"0.50\">OH</text>\n",
       "    </g>\n",
       "    <g fill=\"#AB5CF2\" font-family=\"sans-serif\">\n",
       "      <text x=\"0.00\" y=\"-0.00\" dx=\"-0.35\" dy=\"0.20\" font-size=\"0.50\">Na</text>\n",
       "    </g>\n",
       "    <g font-family=\"monospace\" fill=\"black\" font-size=\"0.30\">\n",
       "      <text x=\"-5.44\" y=\"-0.36\" dx=\"0.05\" dy=\"-0.20\">-</text>\n",
       "      <text x=\"0.00\" y=\"-0.00\" dx=\"0.05\" dy=\"-0.20\">+</text>\n",
       "    </g>\n",
       "    <g fill=\"#0305A7\" font-size=\"0.25\">\n",
       "      <text x=\"-6.26\" y=\"-0.36\" dx=\"-0.05\" dy=\"0.20\" text-anchor=\"end\">1</text>\n",
       "      <text x=\"-6.67\" y=\"0.36\" dx=\"-0.05\" dy=\"0.20\" text-anchor=\"end\">2</text>\n",
       "      <text x=\"-6.67\" y=\"-1.07\" dx=\"-0.15\" dy=\"0.35\" text-anchor=\"end\">3</text>\n",
       "      <text x=\"-5.44\" y=\"-0.36\" dx=\"-0.15\" dy=\"0.35\" text-anchor=\"end\">4</text>\n",
       "      <text x=\"-6.26\" y=\"1.07\" dx=\"-0.15\" dy=\"0.35\" text-anchor=\"end\">5</text>\n",
       "      <text x=\"-7.50\" y=\"0.36\" dx=\"-0.15\" dy=\"0.35\" text-anchor=\"end\">6</text>\n",
       "      <text x=\"0.00\" y=\"-0.00\" dx=\"-0.30\" dy=\"0.35\" text-anchor=\"end\">7</text>\n",
       "    </g>\n",
       "  </g>\n",
       "</svg>"
      ],
      "text/plain": [
       "<CGRtools.containers.molecule.MoleculeContainer at 0x7f97e79e9860>"
      ]
     },
     "execution_count": 7,
     "metadata": {},
     "output_type": "execute_result"
    }
   ],
   "source": [
    "with MRVRead(open('example.mrv', 'rb')) as f:\n",
    "    mrv = next(f)\n",
    "mrv"
   ]
  },
  {
   "cell_type": "markdown",
   "metadata": {},
   "source": [
    "## 7.3. File writers\n",
    "Export in following file formats is supported:\n",
    "* RDFWrite (v2000) - molecules and reactions  export in RDF format\n",
    "* SDFWrite (v2000) - molecules and CGR export in SDF format\n",
    "* MRVWrite - molecules and reactions export in MRV format\n",
    "\n",
    "Writers has the same API as readers. All writers work with text-files\n",
    "Writers has `write` method which accepts as argument single reaction, molecule or CGR object"
   ]
  },
  {
   "cell_type": "code",
   "execution_count": 8,
   "metadata": {},
   "outputs": [],
   "source": [
    "with RDFWrite('out.rdf') as f: # context manager supported\n",
    "    for r in data:\n",
    "        f.write(r)\n",
    "# file out.rdf will be overriden"
   ]
  },
  {
   "cell_type": "code",
   "execution_count": 9,
   "metadata": {},
   "outputs": [],
   "source": [
    "f = RDFWrite('out.rdf') # ongoing writing into a single file\n",
    "for r in data:\n",
    "    f.write(r)\n",
    "\n",
    "f.write(r1)\n",
    "f.close() # close file. Flushes Python writer buffers."
   ]
  },
  {
   "cell_type": "markdown",
   "metadata": {},
   "source": [
    "## 7.4. CGR can be stored in MDL SDF and loaded from.\n",
    "\n",
    "White-paper with SDF-CGR specification is described in manusript Supporting Materials."
   ]
  },
  {
   "cell_type": "code",
   "execution_count": 10,
   "metadata": {},
   "outputs": [
    {
     "name": "stdout",
     "output_type": "stream",
     "text": [
      "\n",
      "\n",
      "\n",
      " 12 11  0  0  0  0            999 V2000\n",
      "    4.4914    1.4289    0.0000 O   0  0  0  0  0  0  0  0  0  8  0  0\n",
      "    2.4289    0.7145    0.0000 O   0  0  0  0  0  0  0  0  0 10  0  0\n",
      "    1.4289    0.4125    0.0000 O   0  0  0  0  0  0  0  0  0  1  0  0\n",
      "    6.9203    0.4125    0.0000 O   0  5  0  0  0  0  0  0  0  2  0  0\n",
      "    0.0000    0.4125    0.0000 C   0  0  0  0  0  0  0  0  0  3  0  0\n",
      "    0.7144    0.0000    0.0000 C   0  0  0  0  0  0  0  0  0  4  0  0\n",
      "    3.6664    1.4289    0.0000 C   0  0  0  0  0  0  0  0  0  5  0  0\n",
      "    3.2539    0.7145    0.0000 C   0  0  0  0  0  0  0  0  0  6  0  0\n",
      "    3.2539    2.1434    0.0000 O   0  0  0  0  0  0  0  0  0  7  0  0\n",
      "    3.6664    0.0000    0.0000 O   0  0  0  0  0  0  0  0  0  9  0  0\n",
      "    6.2058    0.0000    0.0000 C   0  0  0  0  0  0  0  0  0 11  0  0\n",
      "    5.4914    0.4125    0.0000 C   0  0  0  0  0  0  0  0  0 12  0  0\n",
      "  1  7  8  0  0  0  0\n",
      "  2  8  8  0  0  0  0\n",
      "  3  6  1  0  0  0  0\n",
      "  3  8  8  0  0  0  0\n",
      "  4 11  1  0  0  0  0\n",
      "  4  7  8  0  0  0  0\n",
      "  5  6  1  0  0  0  0\n",
      "  7  8  1  0  0  0  0\n",
      "  7  9  2  0  0  0  0\n",
      "  8 10  2  0  0  0  0\n",
      " 11 12  1  0  0  0  0\n",
      "M  STY  5   1 DAT   2 DAT   3 DAT   4 DAT   5 DAT\n",
      "M  SAL   1  1   4\n",
      "M  SDT   1 dynatom\n",
      "M  SDD   1     0.0000    0.3333    DAU   ALL  0       0\n",
      "M  SED   1 c+1\n",
      "M  SAL   2  2   1   7\n",
      "M  SDT   2 dynbond\n",
      "M  SDD   2     0.0000    0.6667    DAU   ALL  0       0\n",
      "M  SED   2 1>0\n",
      "M  SAL   3  2   2   8\n",
      "M  SDT   3 dynbond\n",
      "M  SDD   3     0.0000    1.0000    DAU   ALL  0       0\n",
      "M  SED   3 1>0\n",
      "M  SAL   4  2   3   8\n",
      "M  SDT   4 dynbond\n",
      "M  SDD   4     0.0000    1.3333    DAU   ALL  0       0\n",
      "M  SED   4 0>1\n",
      "M  SAL   5  2   4   7\n",
      "M  SDT   5 dynbond\n",
      "M  SDD   5     0.0000    1.6667    DAU   ALL  0       0\n",
      "M  SED   5 0>1\n",
      "M  END\n",
      ">  <CdId>\n",
      "1872\n",
      ">  <solvent>\n",
      "3\n",
      ">  <temperature>\n",
      "129.5\n",
      ">  <tabulated_constant>\n",
      "-6.87\n",
      "$$$$\n",
      "\n"
     ]
    }
   ],
   "source": [
    "from CGRtools.files import *\n",
    "from io import StringIO\n",
    "\n",
    "with StringIO() as f,  SDFWrite(f) as w:\n",
    "    w.write(cgr2) # file writing in SDF format\n",
    "    mdl = f.getvalue() # get formatted file to print out\n",
    "print(mdl) # It is how CGR looks like. \n",
    "# Notice that most of field are conventional MOL fields, S-queries are used for dynamic bond and atom specification"
   ]
  },
  {
   "cell_type": "code",
   "execution_count": 11,
   "metadata": {},
   "outputs": [
    {
     "name": "stdout",
     "output_type": "stream",
     "text": [
      "C(C([.>-]OCC)([->.]O)=O)([.>-][O->0]CC)(=O)[->.]O\n",
      "<class 'CGRtools.containers.cgr.CGRContainer'>\n"
     ]
    }
   ],
   "source": [
    "with StringIO(mdl) as f,  SDFRead(f) as r: # import SDF file with CGR\n",
    "    cgr3 = next(r)\n",
    "print(cgr3)\n",
    "print(type(cgr3))"
   ]
  },
  {
   "cell_type": "markdown",
   "metadata": {},
   "source": [
    "## 7.5. Pickle support\n",
    "\n",
    "CGRtools containers fully support pickle dumping and loading.\n",
    "\n",
    "Moreover backward compatability is declared since 3.0.  \n",
    "Any new version of library can load dumps created with older version.\n",
    "\n",
    "Pickle dumps are more compact than MDL files and could be used as temporal storage."
   ]
  },
  {
   "cell_type": "code",
   "execution_count": 12,
   "metadata": {},
   "outputs": [],
   "source": [
    "from pickle import loads, dumps"
   ]
  },
  {
   "cell_type": "code",
   "execution_count": 13,
   "metadata": {},
   "outputs": [
    {
     "data": {
      "image/svg+xml": [
       "<svg width=\"17.82cm\" height=\"3.39cm\" viewBox=\"-0.62 -1.70 17.82 3.39\" xmlns=\"http://www.w3.org/2000/svg\" version=\"1.1\">\n",
       "  <defs>\n",
       "    <marker id=\"arrow\" markerWidth=\"10\" markerHeight=\"10\" refX=\"0\" refY=\"3\" orient=\"auto\">\n",
       "      <path d=\"M0,0 L0,6 L9,3\"/>\n",
       "    </marker>\n",
       "    <mask id=\"mask-b9ec8761-9c48-4390-8737-842d5313b0b4\">\n",
       "      <rect x=\"-0.62\" y=\"-1.70\" width=\"17.82\" height=\"3.39\" fill=\"white\"/>\n",
       "      <g fill=\"black\">\n",
       "        <circle cx=\"1.43\" cy=\"-0.21\" r=\"0.20\"/>\n",
       "        <circle cx=\"3.45\" cy=\"-1.07\" r=\"0.20\"/>\n",
       "        <circle cx=\"4.69\" cy=\"-0.36\" r=\"0.20\"/>\n",
       "        <circle cx=\"3.87\" cy=\"1.07\" r=\"0.20\"/>\n",
       "        <circle cx=\"2.63\" cy=\"0.36\" r=\"0.20\"/>\n",
       "        <circle cx=\"7.32\" cy=\"-0.21\" r=\"0.20\"/>\n",
       "        <circle cx=\"14.89\" cy=\"-0.21\" r=\"0.20\"/>\n",
       "        <circle cx=\"12.75\" cy=\"0.21\" r=\"0.20\"/>\n",
       "        <circle cx=\"13.46\" cy=\"-1.03\" r=\"0.20\"/>\n",
       "        <circle cx=\"14.18\" cy=\"1.03\" r=\"0.20\"/>\n",
       "      </g>\n",
       "      <g font-family=\"monospace\" stroke=\"black\">\n",
       "        <g font-family=\"sans-serif\" font-size=\"0.50\" stroke-width=\"0.05\">\n",
       "         <text x=\"1.43\" y=\"-0.21\" dx=\"-0.20\" dy=\"0.20\">OH</text>\n",
       "         <text x=\"3.45\" y=\"-1.07\" dx=\"-0.20\" dy=\"0.20\">O</text>\n",
       "         <text x=\"4.69\" y=\"-0.36\" dx=\"-0.20\" dy=\"0.20\">OH</text>\n",
       "         <text x=\"3.87\" y=\"1.07\" dx=\"-0.20\" dy=\"0.20\">O</text>\n",
       "         <text x=\"2.63\" y=\"0.36\" dx=\"-0.20\" dy=\"0.20\">OH</text>\n",
       "         <text x=\"7.32\" y=\"-0.21\" dx=\"-0.20\" dy=\"0.20\">O</text>\n",
       "         <text x=\"14.89\" y=\"-0.21\" dx=\"-0.20\" dy=\"0.20\">O</text>\n",
       "         <text x=\"12.75\" y=\"0.21\" dx=\"-0.20\" dy=\"0.20\">O</text>\n",
       "         <text x=\"13.46\" y=\"-1.03\" dx=\"-0.20\" dy=\"0.20\">O</text>\n",
       "         <text x=\"14.18\" y=\"1.03\" dx=\"-0.20\" dy=\"0.20\">O</text>\n",
       "        </g>\n",
       "        <g font-size=\"0.25\" stroke-width=\"0.03\">\n",
       "         <text x=\"0.00\" y=\"-0.21\" dx=\"-0.05\" dy=\"0.20\" text-anchor=\"end\">3</text>\n",
       "         <text x=\"0.71\" y=\"0.21\" dx=\"-0.05\" dy=\"0.20\" text-anchor=\"end\">4</text>\n",
       "         <text x=\"1.43\" y=\"-0.21\" dx=\"-0.15\" dy=\"0.35\" text-anchor=\"end\">1</text>\n",
       "         <text x=\"3.87\" y=\"-0.36\" dx=\"-0.05\" dy=\"0.20\" text-anchor=\"end\">5</text>\n",
       "         <text x=\"3.45\" y=\"0.36\" dx=\"-0.05\" dy=\"0.20\" text-anchor=\"end\">6</text>\n",
       "         <text x=\"3.45\" y=\"-1.07\" dx=\"-0.15\" dy=\"0.35\" text-anchor=\"end\">7</text>\n",
       "         <text x=\"4.69\" y=\"-0.36\" dx=\"-0.15\" dy=\"0.35\" text-anchor=\"end\">8</text>\n",
       "         <text x=\"3.87\" y=\"1.07\" dx=\"-0.15\" dy=\"0.35\" text-anchor=\"end\">9</text>\n",
       "         <text x=\"2.63\" y=\"0.36\" dx=\"-0.15\" dy=\"0.35\" text-anchor=\"end\">10</text>\n",
       "         <text x=\"6.61\" y=\"0.21\" dx=\"-0.05\" dy=\"0.20\" text-anchor=\"end\">11</text>\n",
       "         <text x=\"5.89\" y=\"-0.21\" dx=\"-0.05\" dy=\"0.20\" text-anchor=\"end\">12</text>\n",
       "         <text x=\"7.32\" y=\"-0.21\" dx=\"-0.15\" dy=\"0.35\" text-anchor=\"end\">2</text>\n",
       "         <text x=\"14.18\" y=\"0.21\" dx=\"-0.05\" dy=\"0.20\" text-anchor=\"end\">5</text>\n",
       "         <text x=\"13.46\" y=\"-0.21\" dx=\"-0.05\" dy=\"0.20\" text-anchor=\"end\">6</text>\n",
       "         <text x=\"14.89\" y=\"-0.21\" dx=\"-0.15\" dy=\"0.35\" text-anchor=\"end\">2</text>\n",
       "         <text x=\"12.75\" y=\"0.21\" dx=\"-0.15\" dy=\"0.35\" text-anchor=\"end\">1</text>\n",
       "         <text x=\"13.46\" y=\"-1.03\" dx=\"-0.15\" dy=\"0.35\" text-anchor=\"end\">9</text>\n",
       "         <text x=\"14.18\" y=\"1.03\" dx=\"-0.15\" dy=\"0.35\" text-anchor=\"end\">7</text>\n",
       "         <text x=\"15.61\" y=\"0.21\" dx=\"-0.05\" dy=\"0.20\" text-anchor=\"end\">11</text>\n",
       "         <text x=\"16.32\" y=\"-0.21\" dx=\"-0.05\" dy=\"0.20\" text-anchor=\"end\">12</text>\n",
       "         <text x=\"12.03\" y=\"-0.21\" dx=\"-0.05\" dy=\"0.20\" text-anchor=\"end\">4</text>\n",
       "         <text x=\"11.32\" y=\"0.21\" dx=\"-0.05\" dy=\"0.20\" text-anchor=\"end\">3</text>\n",
       "        </g>\n",
       "        <g font-family=\"monospace\" font-size=\"0.3\" stroke-width=\"0.03\">\n",
       "         <text x=\"7.32\" y=\"-0.21\" dx=\"0.05\" dy=\"-0.20\">-</text>\n",
       "        </g>\n",
       "      </g>\n",
       "    </mask>\n",
       "  </defs>\n",
       "  <line x1=\"8.32\" y1=\"0\" x2=\"10.32\" y2=\"0\" fill=\"none\" stroke=\"black\" stroke-width=\".04\" marker-end=\"url(#arrow)\"/>\n",
       "  <g fill=\"none\" stroke=\"black\" stroke-width=\"0.04\" mask=\"url(#mask-b9ec8761-9c48-4390-8737-842d5313b0b4)\">\n",
       "    <line x1=\"-0.62\" y1=\"-1.70\" x2=\"17.20\" y2=\"-1.70\" stroke=\"none\"/>\n",
       "    <line x1=\"0.00\" y1=\"-0.21\" x2=\"0.71\" y2=\"0.21\"/>\n",
       "    <line x1=\"0.71\" y1=\"0.21\" x2=\"1.43\" y2=\"-0.21\"/>\n",
       "    <line x1=\"3.87\" y1=\"-0.36\" x2=\"3.45\" y2=\"0.36\"/>\n",
       "    <line x1=\"3.81\" y1=\"-0.33\" x2=\"3.40\" y2=\"-1.04\"/>\n",
       "    <line x1=\"3.92\" y1=\"-0.39\" x2=\"3.51\" y2=\"-1.10\"/>\n",
       "    <line x1=\"3.87\" y1=\"-0.36\" x2=\"4.69\" y2=\"-0.36\"/>\n",
       "    <line x1=\"3.51\" y1=\"0.33\" x2=\"3.92\" y2=\"1.04\"/>\n",
       "    <line x1=\"3.40\" y1=\"0.39\" x2=\"3.81\" y2=\"1.10\"/>\n",
       "    <line x1=\"3.45\" y1=\"0.36\" x2=\"2.63\" y2=\"0.36\"/>\n",
       "    <line x1=\"6.61\" y1=\"0.21\" x2=\"5.89\" y2=\"-0.21\"/>\n",
       "    <line x1=\"6.61\" y1=\"0.21\" x2=\"7.32\" y2=\"-0.21\"/>\n",
       "    <line x1=\"14.18\" y1=\"0.21\" x2=\"13.46\" y2=\"-0.21\"/>\n",
       "    <line x1=\"14.18\" y1=\"0.21\" x2=\"14.89\" y2=\"-0.21\"/>\n",
       "    <line x1=\"14.24\" y1=\"0.21\" x2=\"14.24\" y2=\"1.03\"/>\n",
       "    <line x1=\"14.12\" y1=\"0.21\" x2=\"14.12\" y2=\"1.03\"/>\n",
       "    <line x1=\"13.46\" y1=\"-0.21\" x2=\"12.75\" y2=\"0.21\"/>\n",
       "    <line x1=\"13.40\" y1=\"-0.21\" x2=\"13.40\" y2=\"-1.03\"/>\n",
       "    <line x1=\"13.52\" y1=\"-0.21\" x2=\"13.52\" y2=\"-1.03\"/>\n",
       "    <line x1=\"14.89\" y1=\"-0.21\" x2=\"15.61\" y2=\"0.21\"/>\n",
       "    <line x1=\"12.75\" y1=\"0.21\" x2=\"12.03\" y2=\"-0.21\"/>\n",
       "    <line x1=\"15.61\" y1=\"0.21\" x2=\"16.32\" y2=\"-0.21\"/>\n",
       "    <line x1=\"12.03\" y1=\"-0.21\" x2=\"11.32\" y2=\"0.21\"/>\n",
       "  </g>\n",
       "  <g fill=\"none\" stroke=\"black\" stroke-width=\".04\" >\n",
       "    <line x1=\"1.98\" y1=\"0\" x2=\"2.28\" y2=\"0\"/>\n",
       "    <line x1=\"2.13\" y1=\"0.15\" x2=\"2.13\" y2=\"-0.15\"/>\n",
       "    <line x1=\"5.24\" y1=\"0\" x2=\"5.54\" y2=\"0\"/>\n",
       "    <line x1=\"5.39\" y1=\"0.15\" x2=\"5.39\" y2=\"-0.15\"/>\n",
       "  </g>\n",
       "  <g font-family=\"monospace\">\n",
       "    <g fill=\"#FF0D0D\" font-family=\"sans-serif\">\n",
       "      <text x=\"1.43\" y=\"-0.21\" dx=\"-0.20\" dy=\"0.20\" font-size=\"0.50\">OH</text>\n",
       "    </g>\n",
       "    <g fill=\"#0305A7\" font-size=\"0.25\">\n",
       "      <text x=\"0.00\" y=\"-0.21\" dx=\"-0.05\" dy=\"0.20\" text-anchor=\"end\">3</text>\n",
       "      <text x=\"0.71\" y=\"0.21\" dx=\"-0.05\" dy=\"0.20\" text-anchor=\"end\">4</text>\n",
       "      <text x=\"1.43\" y=\"-0.21\" dx=\"-0.15\" dy=\"0.35\" text-anchor=\"end\">1</text>\n",
       "    </g>\n",
       "    <g fill=\"#FF0D0D\" font-family=\"sans-serif\">\n",
       "      <text x=\"3.45\" y=\"-1.07\" dx=\"-0.20\" dy=\"0.20\" font-size=\"0.50\">O</text>\n",
       "    </g>\n",
       "    <g fill=\"#FF0D0D\" font-family=\"sans-serif\">\n",
       "      <text x=\"4.69\" y=\"-0.36\" dx=\"-0.20\" dy=\"0.20\" font-size=\"0.50\">OH</text>\n",
       "    </g>\n",
       "    <g fill=\"#FF0D0D\" font-family=\"sans-serif\">\n",
       "      <text x=\"3.87\" y=\"1.07\" dx=\"-0.20\" dy=\"0.20\" font-size=\"0.50\">O</text>\n",
       "    </g>\n",
       "    <g fill=\"#FF0D0D\" font-family=\"sans-serif\">\n",
       "      <text x=\"2.63\" y=\"0.36\" dx=\"-0.20\" dy=\"0.20\" font-size=\"0.50\">OH</text>\n",
       "    </g>\n",
       "    <g fill=\"#0305A7\" font-size=\"0.25\">\n",
       "      <text x=\"3.87\" y=\"-0.36\" dx=\"-0.05\" dy=\"0.20\" text-anchor=\"end\">5</text>\n",
       "      <text x=\"3.45\" y=\"0.36\" dx=\"-0.05\" dy=\"0.20\" text-anchor=\"end\">6</text>\n",
       "      <text x=\"3.45\" y=\"-1.07\" dx=\"-0.15\" dy=\"0.35\" text-anchor=\"end\">7</text>\n",
       "      <text x=\"4.69\" y=\"-0.36\" dx=\"-0.15\" dy=\"0.35\" text-anchor=\"end\">8</text>\n",
       "      <text x=\"3.87\" y=\"1.07\" dx=\"-0.15\" dy=\"0.35\" text-anchor=\"end\">9</text>\n",
       "      <text x=\"2.63\" y=\"0.36\" dx=\"-0.15\" dy=\"0.35\" text-anchor=\"end\">10</text>\n",
       "    </g>\n",
       "    <g fill=\"#FF0D0D\" font-family=\"sans-serif\">\n",
       "      <text x=\"7.32\" y=\"-0.21\" dx=\"-0.20\" dy=\"0.20\" font-size=\"0.50\">O</text>\n",
       "    </g>\n",
       "    <g font-family=\"monospace\" fill=\"black\" font-size=\"0.30\">\n",
       "      <text x=\"7.32\" y=\"-0.21\" dx=\"0.05\" dy=\"-0.20\">-</text>\n",
       "    </g>\n",
       "    <g fill=\"#0305A7\" font-size=\"0.25\">\n",
       "      <text x=\"6.61\" y=\"0.21\" dx=\"-0.05\" dy=\"0.20\" text-anchor=\"end\">11</text>\n",
       "      <text x=\"5.89\" y=\"-0.21\" dx=\"-0.05\" dy=\"0.20\" text-anchor=\"end\">12</text>\n",
       "      <text x=\"7.32\" y=\"-0.21\" dx=\"-0.15\" dy=\"0.35\" text-anchor=\"end\">2</text>\n",
       "    </g>\n",
       "    <g fill=\"#FF0D0D\" font-family=\"sans-serif\">\n",
       "      <text x=\"14.89\" y=\"-0.21\" dx=\"-0.20\" dy=\"0.20\" font-size=\"0.50\">O</text>\n",
       "    </g>\n",
       "    <g fill=\"#FF0D0D\" font-family=\"sans-serif\">\n",
       "      <text x=\"12.75\" y=\"0.21\" dx=\"-0.20\" dy=\"0.20\" font-size=\"0.50\">O</text>\n",
       "    </g>\n",
       "    <g fill=\"#FF0D0D\" font-family=\"sans-serif\">\n",
       "      <text x=\"13.46\" y=\"-1.03\" dx=\"-0.20\" dy=\"0.20\" font-size=\"0.50\">O</text>\n",
       "    </g>\n",
       "    <g fill=\"#FF0D0D\" font-family=\"sans-serif\">\n",
       "      <text x=\"14.18\" y=\"1.03\" dx=\"-0.20\" dy=\"0.20\" font-size=\"0.50\">O</text>\n",
       "    </g>\n",
       "    <g fill=\"#0305A7\" font-size=\"0.25\">\n",
       "      <text x=\"14.18\" y=\"0.21\" dx=\"-0.05\" dy=\"0.20\" text-anchor=\"end\">5</text>\n",
       "      <text x=\"13.46\" y=\"-0.21\" dx=\"-0.05\" dy=\"0.20\" text-anchor=\"end\">6</text>\n",
       "      <text x=\"14.89\" y=\"-0.21\" dx=\"-0.15\" dy=\"0.35\" text-anchor=\"end\">2</text>\n",
       "      <text x=\"12.75\" y=\"0.21\" dx=\"-0.15\" dy=\"0.35\" text-anchor=\"end\">1</text>\n",
       "      <text x=\"13.46\" y=\"-1.03\" dx=\"-0.15\" dy=\"0.35\" text-anchor=\"end\">9</text>\n",
       "      <text x=\"14.18\" y=\"1.03\" dx=\"-0.15\" dy=\"0.35\" text-anchor=\"end\">7</text>\n",
       "      <text x=\"15.61\" y=\"0.21\" dx=\"-0.05\" dy=\"0.20\" text-anchor=\"end\">11</text>\n",
       "      <text x=\"16.32\" y=\"-0.21\" dx=\"-0.05\" dy=\"0.20\" text-anchor=\"end\">12</text>\n",
       "      <text x=\"12.03\" y=\"-0.21\" dx=\"-0.05\" dy=\"0.20\" text-anchor=\"end\">4</text>\n",
       "      <text x=\"11.32\" y=\"0.21\" dx=\"-0.05\" dy=\"0.20\" text-anchor=\"end\">3</text>\n",
       "    </g>\n",
       "  </g>\n",
       "</svg>"
      ],
      "text/plain": [
       "<CGRtools.containers.reaction.ReactionContainer at 0x7f97e795ab80>"
      ]
     },
     "execution_count": 13,
     "metadata": {},
     "output_type": "execute_result"
    }
   ],
   "source": [
    "loads(dumps(r1)) # load reaction from Pickle dump"
   ]
  }
 ],
 "metadata": {
  "kernelspec": {
   "display_name": "Python 3",
   "language": "python",
   "name": "python3"
  },
  "language_info": {
   "codemirror_mode": {
    "name": "ipython",
    "version": 3
   },
   "file_extension": ".py",
   "mimetype": "text/x-python",
   "name": "python",
   "nbconvert_exporter": "python",
   "pygments_lexer": "ipython3",
   "version": "3.8.2"
  }
 },
 "nbformat": 4,
 "nbformat_minor": 2
}
