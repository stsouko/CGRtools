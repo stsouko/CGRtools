{
 "cells": [
  {
   "cell_type": "markdown",
   "metadata": {},
   "source": [
    "# 5. Transformation rules extraction\n",
    "\n",
    "- (c) 2019, 2020 Dr. Ramil Nugmanov;\n",
    "- (c) 2019 Dr. Timur Madzhidov; Ravil Mukhametgaleev\n",
    "\n",
    "Installation instructions of CGRtools package information and tutorial's files see on `https://github.com/cimm-kzn/CGRtools`\n",
    "\n",
    "NOTE: Tutorial should be performed sequentially from the start. Random cell running will lead to unexpected results. "
   ]
  },
  {
   "cell_type": "code",
   "execution_count": 1,
   "metadata": {},
   "outputs": [
    {
     "name": "stdout",
     "output_type": "stream",
     "text": [
      "Welcome!\n"
     ]
    }
   ],
   "source": [
    "import pkg_resources\n",
    "if pkg_resources.get_distribution('CGRtools').version.split('.')[:2] != ['4', '0']:\n",
    "    print('WARNING. Tutorial was tested on 4.0 version of CGRtools')\n",
    "else:\n",
    "    print('Welcome!')"
   ]
  },
  {
   "cell_type": "code",
   "execution_count": 2,
   "metadata": {},
   "outputs": [],
   "source": [
    "# load data for tutorial\n",
    "from pickle import load\n",
    "from traceback import format_exc\n",
    "\n",
    "with open('molecules.dat', 'rb') as f:\n",
    "    molecules = load(f) # list of MoleculeContainer objects\n",
    "with open('reactions.dat', 'rb') as f:\n",
    "    reactions = load(f) # list of ReactionContainer objects\n",
    "\n",
    "m3 = molecules[2]\n",
    "m7 = m3.copy()\n",
    "m7.standardize()\n",
    "m7.thiele()\n",
    "m8 = m7.substructure([4, 5, 6, 7, 8, 9])\n",
    "cgr1 = m7 ^ m8 \n",
    "\n",
    "from CGRtools.containers import *"
   ]
  },
  {
   "cell_type": "markdown",
   "metadata": {},
   "source": [
    "CGRtools can be used to generate molecules and reactions based on a given transformation rule.\n",
    "\n",
    "**How to extract transformation rule**"
   ]
  },
  {
   "cell_type": "code",
   "execution_count": 3,
   "metadata": {},
   "outputs": [
    {
     "data": {
      "image/svg+xml": [
       "<svg width=\"2.93cm\" height=\"4.96cm\" viewBox=\"1.80 -4.34 2.93 4.96\" xmlns=\"http://www.w3.org/2000/svg\" version=\"1.1\">\n",
       "  <defs>\n",
       "    <mask id=\"mask-df7d513b-074c-4a16-9ceb-088c1df27384\">\n",
       "      <rect x=\"1.80\" y=\"-4.34\" width=\"2.93\" height=\"4.96\" fill=\"white\"/>\n",
       "      <g fill=\"black\">\n",
       "        <circle cx=\"3.14\" cy=\"-3.30\" r=\"0.20\"/>\n",
       "        <circle cx=\"2.43\" cy=\"-3.71\" r=\"0.20\"/>\n",
       "        <circle cx=\"3.86\" cy=\"-3.71\" r=\"0.20\"/>\n",
       "        <circle cx=\"3.14\" cy=\"-0.00\" r=\"0.20\"/>\n",
       "      </g>\n",
       "      <g font-family=\"monospace\" stroke=\"black\">\n",
       "        <g font-family=\"sans-serif\" font-size=\"0.50\" stroke-width=\"0.05\">\n",
       "         <text x=\"3.14\" y=\"-3.30\" dx=\"-0.20\" dy=\"0.20\">N</text>\n",
       "         <text x=\"2.43\" y=\"-3.71\" dx=\"-0.20\" dy=\"0.20\">O</text>\n",
       "         <text x=\"3.86\" y=\"-3.71\" dx=\"-0.20\" dy=\"0.20\">O</text>\n",
       "         <text x=\"3.14\" y=\"-0.00\" dx=\"-0.20\" dy=\"0.20\">O</text>\n",
       "        </g>\n",
       "        <g font-family=\"monospace\" font-size=\"0.3\" stroke-width=\"0.03\">\n",
       "         <text x=\"3.14\" y=\"-3.30\" dx=\"0.05\" dy=\"-0.20\">+</text>\n",
       "         <text x=\"3.86\" y=\"-3.71\" dx=\"0.05\" dy=\"-0.20\">-</text>\n",
       "        </g>\n",
       "      </g>\n",
       "    </mask>\n",
       "  </defs>\n",
       "  <g fill=\"none\" stroke=\"black\" stroke-width=\"0.04\"  mask=\"url(#mask-df7d513b-074c-4a16-9ceb-088c1df27384)\">\n",
       "    <line x1=\"3.14\" y1=\"-3.30\" x2=\"3.14\" y2=\"-2.48\" stroke=\"red\"/>\n",
       "    <line x1=\"3.11\" y1=\"-3.25\" x2=\"2.40\" y2=\"-3.66\"/>\n",
       "    <line x1=\"3.17\" y1=\"-3.35\" x2=\"2.46\" y2=\"-3.76\"/>\n",
       "    <line x1=\"3.14\" y1=\"-3.30\" x2=\"3.86\" y2=\"-3.71\"/>\n",
       "    <line x1=\"3.14\" y1=\"-0.00\" x2=\"3.14\" y2=\"-0.82\" stroke=\"red\"/>\n",
       "    <line x1=\"3.14\" y1=\"-2.48\" x2=\"3.86\" y2=\"-2.06\"/>\n",
       "    <line x1=\"3.14\" y1=\"-2.48\" x2=\"2.43\" y2=\"-2.06\"/>\n",
       "    <line x1=\"3.86\" y1=\"-2.06\" x2=\"3.86\" y2=\"-1.24\"/>\n",
       "    <line x1=\"3.86\" y1=\"-1.24\" x2=\"3.14\" y2=\"-0.82\"/>\n",
       "    <line x1=\"3.14\" y1=\"-0.82\" x2=\"2.43\" y2=\"-1.24\"/>\n",
       "    <line x1=\"2.43\" y1=\"-1.24\" x2=\"2.43\" y2=\"-2.06\"/>\n",
       "    <line x1=\"3.14\" y1=\"-2.27\" x2=\"3.68\" y2=\"-1.96\" stroke-dasharray=\"0.20 0.10\"/>\n",
       "    <line x1=\"3.68\" y1=\"-1.96\" x2=\"3.68\" y2=\"-1.34\" stroke-dasharray=\"0.20 0.10\"/>\n",
       "    <line x1=\"3.68\" y1=\"-1.34\" x2=\"3.14\" y2=\"-1.03\" stroke-dasharray=\"0.20 0.10\"/>\n",
       "    <line x1=\"3.14\" y1=\"-1.03\" x2=\"2.61\" y2=\"-1.34\" stroke-dasharray=\"0.20 0.10\"/>\n",
       "    <line x1=\"2.61\" y1=\"-1.34\" x2=\"2.61\" y2=\"-1.96\" stroke-dasharray=\"0.20 0.10\"/>\n",
       "    <line x1=\"2.61\" y1=\"-1.96\" x2=\"3.14\" y2=\"-2.27\" stroke-dasharray=\"0.20 0.10\"/>\n",
       "  </g>\n",
       "  <g font-family=\"monospace\">\n",
       "    <g fill=\"#3050F8\" font-family=\"sans-serif\">\n",
       "      <text x=\"3.14\" y=\"-3.30\" dx=\"-0.20\" dy=\"0.20\" font-size=\"0.50\">N</text>\n",
       "    </g>\n",
       "    <g fill=\"#FF0D0D\" font-family=\"sans-serif\">\n",
       "      <text x=\"2.43\" y=\"-3.71\" dx=\"-0.20\" dy=\"0.20\" font-size=\"0.50\">O</text>\n",
       "    </g>\n",
       "    <g fill=\"#FF0D0D\" font-family=\"sans-serif\">\n",
       "      <text x=\"3.86\" y=\"-3.71\" dx=\"-0.20\" dy=\"0.20\" font-size=\"0.50\">O</text>\n",
       "    </g>\n",
       "    <g fill=\"#FF0D0D\" font-family=\"sans-serif\">\n",
       "      <text x=\"3.14\" y=\"-0.00\" dx=\"-0.20\" dy=\"0.20\" font-size=\"0.50\">O</text>\n",
       "    </g>\n",
       "    <g font-family=\"monospace\" fill=\"black\" font-size=\"0.30\">\n",
       "      <text x=\"3.14\" y=\"-3.30\" dx=\"0.05\" dy=\"-0.20\" font-size=\"0.30\">+</text>\n",
       "      <text x=\"3.86\" y=\"-3.71\" dx=\"0.05\" dy=\"-0.20\" font-size=\"0.30\">-</text>\n",
       "    </g>\n",
       "  </g>\n",
       "</svg>"
      ],
      "text/plain": [
       "<CGRtools.containers.cgr.CGRContainer at 0x7f27f5ac2860>"
      ]
     },
     "execution_count": 3,
     "metadata": {},
     "output_type": "execute_result"
    }
   ],
   "source": [
    "cgr1"
   ]
  },
  {
   "cell_type": "code",
   "execution_count": 4,
   "metadata": {},
   "outputs": [
    {
     "data": {
      "text/plain": [
       "(10, 4, 13, 7)"
      ]
     },
     "execution_count": 4,
     "metadata": {},
     "output_type": "execute_result"
    }
   ],
   "source": [
    "cgr1.center_atoms # list of atom numbers of reaction center. If several centers exist they will also be added to this list."
   ]
  },
  {
   "cell_type": "code",
   "execution_count": 5,
   "metadata": {},
   "outputs": [
    {
     "data": {
      "text/plain": [
       "((10, 4), (13, 7))"
      ]
     },
     "execution_count": 5,
     "metadata": {},
     "output_type": "execute_result"
    }
   ],
   "source": [
    "cgr1.center_bonds # list of dynamic bonds as tuples of adjacent atom numbers"
   ]
  },
  {
   "cell_type": "code",
   "execution_count": 6,
   "metadata": {},
   "outputs": [
    {
     "data": {
      "text/plain": [
       "((10, 4), (13, 7))"
      ]
     },
     "execution_count": 6,
     "metadata": {},
     "output_type": "execute_result"
    }
   ],
   "source": [
    "cgr1.centers_list # list of lists of atom numbers belonging to each reaction center. \n",
    "                  # Distant reaction centers will be split into separate lists"
   ]
  },
  {
   "cell_type": "code",
   "execution_count": 7,
   "metadata": {},
   "outputs": [
    {
     "name": "stdout",
     "output_type": "stream",
     "text": [
      "[C;a>a3>2;][->.][O;s>s1>0;]\n"
     ]
    },
    {
     "data": {
      "image/svg+xml": [
       "<svg width=\"1.50cm\" height=\"2.08cm\" viewBox=\"2.52 -1.45 1.50 2.08\" xmlns=\"http://www.w3.org/2000/svg\" version=\"1.1\">\n",
       "  <defs>\n",
       "    <mask id=\"mask-a1d22a27-4107-4cc6-89d5-92123682a177\">\n",
       "      <rect x=\"2.52\" y=\"-1.45\" width=\"1.50\" height=\"2.08\" fill=\"white\"/>\n",
       "      <g fill=\"black\">\n",
       "        <circle cx=\"3.14\" cy=\"-0.00\" r=\"0.20\"/>\n",
       "      </g>\n",
       "      <g font-family=\"monospace\" stroke=\"black\">\n",
       "        <g font-family=\"sans-serif\" font-size=\"0.50\" stroke-width=\"0.05\">\n",
       "         <text x=\"3.14\" y=\"-0.00\" dx=\"-0.20\" dy=\"0.20\">O</text>\n",
       "        </g>\n",
       "        <g font-family=\"monospace\" font-size=\"0.3\" stroke-width=\"0.03\">\n",
       "         <text x=\"3.14\" y=\"-0.00\" dx=\"0.17\" dy=\"0.15\">1»0</text>\n",
       "         <text x=\"3.14\" y=\"-0.00\" dx=\"0.17\" dy=\"0.33\">s»s</text>\n",
       "         <text x=\"3.14\" y=\"-0.82\" dx=\"0.07\" dy=\"0.15\">3»2</text>\n",
       "         <text x=\"3.14\" y=\"-0.82\" dx=\"0.07\" dy=\"0.33\">a»a</text>\n",
       "        </g>\n",
       "      </g>\n",
       "    </mask>\n",
       "  </defs>\n",
       "  <g fill=\"none\" stroke=\"black\" stroke-width=\"0.04\"  mask=\"url(#mask-a1d22a27-4107-4cc6-89d5-92123682a177)\">\n",
       "    <line x1=\"2.52\" y1=\"-1.45\" x2=\"4.02\" y2=\"-1.45\" stroke=\"none\"/>\n",
       "    <line x1=\"3.14\" y1=\"-0.00\" x2=\"3.14\" y2=\"-0.82\" stroke=\"red\"/>\n",
       "  </g>\n",
       "  <g font-family=\"monospace\">\n",
       "    <g fill=\"#FF0D0D\" font-family=\"sans-serif\">\n",
       "      <text x=\"3.14\" y=\"-0.00\" dx=\"-0.20\" dy=\"0.20\" font-size=\"0.50\">O</text>\n",
       "    </g>\n",
       "    <g fill=\"#5D8AA8\" font-family=\"monospace\" font-size=\"0.30\">\n",
       "      <text x=\"3.14\" y=\"-0.00\" dx=\"0.17\" dy=\"0.15\" text-anchor=\"start\">1»0</text>\n",
       "      <text x=\"3.14\" y=\"-0.82\" dx=\"0.07\" dy=\"0.15\" text-anchor=\"start\">3»2</text>\n",
       "      <text x=\"3.14\" y=\"-0.00\" dx=\"0.17\" dy=\"0.33\" text-anchor=\"start\">s»s</text>\n",
       "      <text x=\"3.14\" y=\"-0.82\" dx=\"0.07\" dy=\"0.33\" text-anchor=\"start\">a»a</text>\n",
       "    </g>\n",
       "  </g>\n",
       "</svg>"
      ],
      "text/plain": [
       "<CGRtools.containers.cgr_query.QueryCGRContainer at 0x7f27f5ac29a0>"
      ]
     },
     "execution_count": 7,
     "metadata": {},
     "output_type": "execute_result"
    }
   ],
   "source": [
    "rc1 = cgr1.substructure([13, 7], as_query=True) # get reaction center from CGR and transform reaction into query\n",
    "print(rc1)\n",
    "rc1"
   ]
  },
  {
   "cell_type": "markdown",
   "metadata": {},
   "source": [
    "rc1 is phenol reduction, phenol is transformed into unsubstituted benzene"
   ]
  }
 ],
 "metadata": {
  "kernelspec": {
   "display_name": "Python 3",
   "language": "python",
   "name": "python3"
  },
  "language_info": {
   "codemirror_mode": {
    "name": "ipython",
    "version": 3
   },
   "file_extension": ".py",
   "mimetype": "text/x-python",
   "name": "python",
   "nbconvert_exporter": "python",
   "pygments_lexer": "ipython3",
   "version": "3.8.2"
  }
 },
 "nbformat": 4,
 "nbformat_minor": 2
}
